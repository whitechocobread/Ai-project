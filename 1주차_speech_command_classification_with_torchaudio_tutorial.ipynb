{
  "cells": [
    {
      "cell_type": "markdown",
      "metadata": {
        "id": "view-in-github",
        "colab_type": "text"
      },
      "source": [
        "<a href=\"https://colab.research.google.com/github/whitechocobread/Ai-project/blob/main/1%EC%A3%BC%EC%B0%A8_speech_command_classification_with_torchaudio_tutorial.ipynb\" target=\"_parent\"><img src=\"https://colab.research.google.com/assets/colab-badge.svg\" alt=\"Open In Colab\"/></a>"
      ]
    },
    {
      "cell_type": "markdown",
      "metadata": {
        "id": "hTw4SVBffhcP"
      },
      "source": [
        "\n",
        "# Speech Command Classification with torchaudio\n",
        "\n",
        "This tutorial will show you how to correctly format an audio dataset and\n",
        "then train/test an audio classifier network on the dataset.\n",
        "\n",
        "Colab has GPU option available. In the menu tabs, select “Runtime” then\n",
        "“Change runtime type”. In the pop-up that follows, you can choose GPU.\n",
        "After the change, your runtime should automatically restart (which means\n",
        "information from executed cells disappear).\n",
        "\n",
        "First, let’s import the common torch packages such as\n",
        "[torchaudio](https://github.com/pytorch/audio)_ that can be installed\n",
        "by following the instructions on the website.\n"
      ]
    },
    {
      "cell_type": "code",
      "source": [
        "print(torch.__version__)\n",
        "!python -V"
      ],
      "metadata": {
        "colab": {
          "base_uri": "https://localhost:8080/"
        },
        "id": "UxHeIsnsf3Dp",
        "outputId": "204b7fec-7761-4124-de49-87a5004dede6"
      },
      "execution_count": 22,
      "outputs": [
        {
          "output_type": "stream",
          "name": "stdout",
          "text": [
            "2.0.1+cu118\n",
            "Python 3.8.6\n"
          ]
        }
      ]
    },
    {
      "cell_type": "code",
      "source": [
        "#파이썬 버전 변경 3.10.12 -> 3.8.6\n",
        "#ERROR: Could not find a version that satisfies the requirement torch==1.7.0+cpu (from versions: 0.1.2, 0.1.2.post1, 0.1.2.post2)\n",
        "#ERROR: No matching distribution found for torch==1.7.0+cpu 해결\n",
        "!wget https://www.python.org/ftp/python/3.8.6/Python-3.8.6.tgz\n",
        "!tar xvfz Python-3.8.6.tgz\n",
        "!Python-3.8.6/configure\n",
        "!make\n",
        "!sudo make install"
      ],
      "metadata": {
        "colab": {
          "base_uri": "https://localhost:8080/"
        },
        "id": "jz8_-X6mf7r_",
        "outputId": "5a6a5d73-e8c9-4c8d-f026-e07f69ebebe4"
      },
      "execution_count": 4,
      "outputs": [
        {
          "output_type": "stream",
          "name": "stdout",
          "text": [
            "\u001b[1;30;43m스트리밍 출력 내용이 길어서 마지막 5000줄이 삭제되었습니다.\u001b[0m\n",
            "Compiling '/usr/local/lib/python3.8/importlib/abc.py'...\n",
            "Compiling '/usr/local/lib/python3.8/importlib/machinery.py'...\n",
            "Compiling '/usr/local/lib/python3.8/importlib/metadata.py'...\n",
            "Compiling '/usr/local/lib/python3.8/importlib/resources.py'...\n",
            "Listing '/usr/local/lib/python3.8/xmlrpc'...\n",
            "Compiling '/usr/local/lib/python3.8/importlib/util.py'...\n",
            "Compiling '/usr/local/lib/python3.8/inspect.py'...\n",
            "Compiling '/usr/local/lib/python3.8/io.py'...\n",
            "Compiling '/usr/local/lib/python3.8/ipaddress.py'...\n",
            "Compiling '/usr/local/lib/python3.8/json/__init__.py'...\n",
            "Compiling '/usr/local/lib/python3.8/json/decoder.py'...\n",
            "Compiling '/usr/local/lib/python3.8/json/encoder.py'...\n",
            "Compiling '/usr/local/lib/python3.8/json/scanner.py'...\n",
            "Compiling '/usr/local/lib/python3.8/json/tool.py'...\n",
            "Compiling '/usr/local/lib/python3.8/keyword.py'...\n",
            "Compiling '/usr/local/lib/python3.8/lib2to3/__init__.py'...\n",
            "Compiling '/usr/local/lib/python3.8/lib2to3/__main__.py'...\n",
            "Compiling '/usr/local/lib/python3.8/lib2to3/btm_matcher.py'...\n",
            "Compiling '/usr/local/lib/python3.8/lib2to3/btm_utils.py'...\n",
            "Compiling '/usr/local/lib/python3.8/lib2to3/fixer_base.py'...\n",
            "Compiling '/usr/local/lib/python3.8/lib2to3/fixer_util.py'...\n",
            "Compiling '/usr/local/lib/python3.8/lib2to3/fixes/__init__.py'...\n",
            "Compiling '/usr/local/lib/python3.8/lib2to3/fixes/fix_apply.py'...\n",
            "Compiling '/usr/local/lib/python3.8/lib2to3/fixes/fix_asserts.py'...\n",
            "Compiling '/usr/local/lib/python3.8/lib2to3/fixes/fix_basestring.py'...\n",
            "Compiling '/usr/local/lib/python3.8/lib2to3/fixes/fix_buffer.py'...\n",
            "Compiling '/usr/local/lib/python3.8/lib2to3/fixes/fix_dict.py'...\n",
            "Compiling '/usr/local/lib/python3.8/lib2to3/fixes/fix_except.py'...\n",
            "Compiling '/usr/local/lib/python3.8/lib2to3/fixes/fix_exec.py'...\n",
            "Compiling '/usr/local/lib/python3.8/lib2to3/fixes/fix_execfile.py'...\n",
            "Compiling '/usr/local/lib/python3.8/lib2to3/fixes/fix_exitfunc.py'...\n",
            "Compiling '/usr/local/lib/python3.8/lib2to3/fixes/fix_filter.py'...\n",
            "Compiling '/usr/local/lib/python3.8/lib2to3/fixes/fix_funcattrs.py'...\n",
            "Compiling '/usr/local/lib/python3.8/lib2to3/fixes/fix_future.py'...\n",
            "Compiling '/usr/local/lib/python3.8/lib2to3/fixes/fix_getcwdu.py'...\n",
            "Compiling '/usr/local/lib/python3.8/lib2to3/fixes/fix_has_key.py'...\n",
            "Compiling '/usr/local/lib/python3.8/lib2to3/fixes/fix_idioms.py'...\n",
            "Compiling '/usr/local/lib/python3.8/lib2to3/fixes/fix_import.py'...\n",
            "Compiling '/usr/local/lib/python3.8/lib2to3/fixes/fix_imports.py'...\n",
            "Compiling '/usr/local/lib/python3.8/lib2to3/fixes/fix_imports2.py'...\n",
            "Compiling '/usr/local/lib/python3.8/lib2to3/fixes/fix_input.py'...\n",
            "Compiling '/usr/local/lib/python3.8/lib2to3/fixes/fix_intern.py'...\n",
            "Compiling '/usr/local/lib/python3.8/lib2to3/fixes/fix_isinstance.py'...\n",
            "Compiling '/usr/local/lib/python3.8/lib2to3/fixes/fix_itertools.py'...\n",
            "Compiling '/usr/local/lib/python3.8/lib2to3/fixes/fix_itertools_imports.py'...\n",
            "Compiling '/usr/local/lib/python3.8/lib2to3/fixes/fix_long.py'...\n",
            "Compiling '/usr/local/lib/python3.8/lib2to3/fixes/fix_map.py'...\n",
            "Compiling '/usr/local/lib/python3.8/lib2to3/fixes/fix_metaclass.py'...\n",
            "Compiling '/usr/local/lib/python3.8/lib2to3/fixes/fix_methodattrs.py'...\n",
            "Compiling '/usr/local/lib/python3.8/lib2to3/fixes/fix_ne.py'...\n",
            "Compiling '/usr/local/lib/python3.8/lib2to3/fixes/fix_next.py'...\n",
            "Compiling '/usr/local/lib/python3.8/lib2to3/fixes/fix_nonzero.py'...\n",
            "Compiling '/usr/local/lib/python3.8/lib2to3/fixes/fix_numliterals.py'...\n",
            "Compiling '/usr/local/lib/python3.8/lib2to3/fixes/fix_operator.py'...\n",
            "Compiling '/usr/local/lib/python3.8/lib2to3/fixes/fix_paren.py'...\n",
            "Compiling '/usr/local/lib/python3.8/lib2to3/fixes/fix_print.py'...\n",
            "Compiling '/usr/local/lib/python3.8/lib2to3/fixes/fix_raise.py'...\n",
            "Compiling '/usr/local/lib/python3.8/lib2to3/fixes/fix_raw_input.py'...\n",
            "Compiling '/usr/local/lib/python3.8/lib2to3/fixes/fix_reduce.py'...\n",
            "Compiling '/usr/local/lib/python3.8/lib2to3/fixes/fix_reload.py'...\n",
            "Compiling '/usr/local/lib/python3.8/lib2to3/fixes/fix_renames.py'...\n",
            "Compiling '/usr/local/lib/python3.8/lib2to3/fixes/fix_repr.py'...\n",
            "Compiling '/usr/local/lib/python3.8/lib2to3/fixes/fix_set_literal.py'...\n",
            "Compiling '/usr/local/lib/python3.8/lib2to3/fixes/fix_standarderror.py'...\n",
            "Compiling '/usr/local/lib/python3.8/lib2to3/fixes/fix_sys_exc.py'...\n",
            "Compiling '/usr/local/lib/python3.8/lib2to3/fixes/fix_throw.py'...\n",
            "Compiling '/usr/local/lib/python3.8/lib2to3/fixes/fix_tuple_params.py'...\n",
            "Compiling '/usr/local/lib/python3.8/lib2to3/fixes/fix_types.py'...\n",
            "Compiling '/usr/local/lib/python3.8/lib2to3/fixes/fix_unicode.py'...\n",
            "Compiling '/usr/local/lib/python3.8/lib2to3/fixes/fix_ws_comma.py'...\n",
            "Compiling '/usr/local/lib/python3.8/lib2to3/fixes/fix_urllib.py'...\n",
            "Compiling '/usr/local/lib/python3.8/lib2to3/fixes/fix_xrange.py'...\n",
            "Compiling '/usr/local/lib/python3.8/lib2to3/fixes/fix_xreadlines.py'...\n",
            "Compiling '/usr/local/lib/python3.8/lib2to3/fixes/fix_zip.py'...\n",
            "Compiling '/usr/local/lib/python3.8/lib2to3/main.py'...\n",
            "Compiling '/usr/local/lib/python3.8/lib2to3/patcomp.py'...\n",
            "Compiling '/usr/local/lib/python3.8/lib2to3/pgen2/__init__.py'...\n",
            "Compiling '/usr/local/lib/python3.8/lib2to3/pgen2/driver.py'...\n",
            "Compiling '/usr/local/lib/python3.8/lib2to3/pgen2/conv.py'...\n",
            "Compiling '/usr/local/lib/python3.8/lib2to3/pgen2/grammar.py'...\n",
            "Compiling '/usr/local/lib/python3.8/lib2to3/pgen2/literals.py'...\n",
            "Compiling '/usr/local/lib/python3.8/lib2to3/pgen2/parse.py'...\n",
            "Compiling '/usr/local/lib/python3.8/lib2to3/pgen2/pgen.py'...\n",
            "Compiling '/usr/local/lib/python3.8/lib2to3/pgen2/token.py'...\n",
            "Compiling '/usr/local/lib/python3.8/lib2to3/pgen2/tokenize.py'...\n",
            "Compiling '/usr/local/lib/python3.8/lib2to3/pygram.py'...\n",
            "Compiling '/usr/local/lib/python3.8/lib2to3/pytree.py'...\n",
            "Compiling '/usr/local/lib/python3.8/lib2to3/refactor.py'...\n",
            "Compiling '/usr/local/lib/python3.8/lib2to3/tests/__init__.py'...\n",
            "Compiling '/usr/local/lib/python3.8/lib2to3/tests/__main__.py'...\n",
            "Compiling '/usr/local/lib/python3.8/lib2to3/tests/pytree_idempotency.py'...\n",
            "Compiling '/usr/local/lib/python3.8/lib2to3/tests/support.py'...\n",
            "Compiling '/usr/local/lib/python3.8/lib2to3/tests/test_all_fixers.py'...\n",
            "Compiling '/usr/local/lib/python3.8/lib2to3/tests/test_fixers.py'...\n",
            "Compiling '/usr/local/lib/python3.8/lib2to3/tests/test_main.py'...\n",
            "Compiling '/usr/local/lib/python3.8/lib2to3/tests/test_pytree.py'...\n",
            "Compiling '/usr/local/lib/python3.8/lib2to3/tests/test_refactor.py'...\n",
            "Compiling '/usr/local/lib/python3.8/lib2to3/tests/test_util.py'...\n",
            "Compiling '/usr/local/lib/python3.8/lib2to3/tests/test_parser.py'...\n",
            "Compiling '/usr/local/lib/python3.8/linecache.py'...\n",
            "Compiling '/usr/local/lib/python3.8/locale.py'...\n",
            "Compiling '/usr/local/lib/python3.8/logging/__init__.py'...\n",
            "Compiling '/usr/local/lib/python3.8/logging/config.py'...\n",
            "Compiling '/usr/local/lib/python3.8/logging/handlers.py'...\n",
            "Compiling '/usr/local/lib/python3.8/lzma.py'...\n",
            "Compiling '/usr/local/lib/python3.8/mailbox.py'...\n",
            "Compiling '/usr/local/lib/python3.8/mailcap.py'...\n",
            "Compiling '/usr/local/lib/python3.8/mimetypes.py'...\n",
            "Compiling '/usr/local/lib/python3.8/modulefinder.py'...\n",
            "Compiling '/usr/local/lib/python3.8/multiprocessing/__init__.py'...\n",
            "Compiling '/usr/local/lib/python3.8/multiprocessing/connection.py'...\n",
            "Compiling '/usr/local/lib/python3.8/multiprocessing/context.py'...\n",
            "Compiling '/usr/local/lib/python3.8/multiprocessing/dummy/__init__.py'...\n",
            "Compiling '/usr/local/lib/python3.8/multiprocessing/dummy/connection.py'...\n",
            "Compiling '/usr/local/lib/python3.8/multiprocessing/forkserver.py'...\n",
            "Compiling '/usr/local/lib/python3.8/multiprocessing/heap.py'...\n",
            "Compiling '/usr/local/lib/python3.8/multiprocessing/managers.py'...\n",
            "Compiling '/usr/local/lib/python3.8/multiprocessing/pool.py'...\n",
            "Compiling '/usr/local/lib/python3.8/multiprocessing/popen_fork.py'...\n",
            "Compiling '/usr/local/lib/python3.8/multiprocessing/popen_spawn_posix.py'...\n",
            "Compiling '/usr/local/lib/python3.8/multiprocessing/popen_forkserver.py'...\n",
            "Compiling '/usr/local/lib/python3.8/multiprocessing/popen_spawn_win32.py'...\n",
            "Compiling '/usr/local/lib/python3.8/multiprocessing/process.py'...\n",
            "Compiling '/usr/local/lib/python3.8/multiprocessing/queues.py'...\n",
            "Compiling '/usr/local/lib/python3.8/multiprocessing/reduction.py'...\n",
            "Compiling '/usr/local/lib/python3.8/multiprocessing/resource_sharer.py'...\n",
            "Compiling '/usr/local/lib/python3.8/multiprocessing/resource_tracker.py'...\n",
            "Compiling '/usr/local/lib/python3.8/multiprocessing/shared_memory.py'...\n",
            "Compiling '/usr/local/lib/python3.8/multiprocessing/sharedctypes.py'...\n",
            "Compiling '/usr/local/lib/python3.8/multiprocessing/spawn.py'...\n",
            "Compiling '/usr/local/lib/python3.8/multiprocessing/util.py'...\n",
            "Compiling '/usr/local/lib/python3.8/multiprocessing/synchronize.py'...\n",
            "Compiling '/usr/local/lib/python3.8/netrc.py'...\n",
            "Compiling '/usr/local/lib/python3.8/nntplib.py'...\n",
            "Compiling '/usr/local/lib/python3.8/nturl2path.py'...\n",
            "Compiling '/usr/local/lib/python3.8/ntpath.py'...\n",
            "Compiling '/usr/local/lib/python3.8/numbers.py'...\n",
            "Compiling '/usr/local/lib/python3.8/opcode.py'...\n",
            "Compiling '/usr/local/lib/python3.8/operator.py'...\n",
            "Compiling '/usr/local/lib/python3.8/optparse.py'...\n",
            "Compiling '/usr/local/lib/python3.8/os.py'...\n",
            "Compiling '/usr/local/lib/python3.8/pathlib.py'...\n",
            "Compiling '/usr/local/lib/python3.8/pdb.py'...\n",
            "Compiling '/usr/local/lib/python3.8/pickle.py'...\n",
            "Compiling '/usr/local/lib/python3.8/pickletools.py'...\n",
            "Compiling '/usr/local/lib/python3.8/pipes.py'...\n",
            "Compiling '/usr/local/lib/python3.8/pkgutil.py'...\n",
            "Compiling '/usr/local/lib/python3.8/platform.py'...\n",
            "Compiling '/usr/local/lib/python3.8/plistlib.py'...\n",
            "Compiling '/usr/local/lib/python3.8/poplib.py'...\n",
            "Compiling '/usr/local/lib/python3.8/posixpath.py'...\n",
            "Compiling '/usr/local/lib/python3.8/pprint.py'...\n",
            "Compiling '/usr/local/lib/python3.8/profile.py'...\n",
            "Compiling '/usr/local/lib/python3.8/pstats.py'...\n",
            "Compiling '/usr/local/lib/python3.8/pty.py'...\n",
            "Compiling '/usr/local/lib/python3.8/py_compile.py'...\n",
            "Compiling '/usr/local/lib/python3.8/pyclbr.py'...\n",
            "Compiling '/usr/local/lib/python3.8/pydoc.py'...\n",
            "Compiling '/usr/local/lib/python3.8/pydoc_data/__init__.py'...\n",
            "Compiling '/usr/local/lib/python3.8/pydoc_data/topics.py'...\n",
            "Compiling '/usr/local/lib/python3.8/queue.py'...\n",
            "Compiling '/usr/local/lib/python3.8/quopri.py'...\n",
            "Compiling '/usr/local/lib/python3.8/random.py'...\n",
            "Compiling '/usr/local/lib/python3.8/re.py'...\n",
            "Compiling '/usr/local/lib/python3.8/reprlib.py'...\n",
            "Compiling '/usr/local/lib/python3.8/rlcompleter.py'...\n",
            "Compiling '/usr/local/lib/python3.8/sched.py'...\n",
            "Compiling '/usr/local/lib/python3.8/secrets.py'...\n",
            "Compiling '/usr/local/lib/python3.8/runpy.py'...\n",
            "Compiling '/usr/local/lib/python3.8/selectors.py'...\n",
            "Compiling '/usr/local/lib/python3.8/shelve.py'...\n",
            "Compiling '/usr/local/lib/python3.8/shlex.py'...\n",
            "Compiling '/usr/local/lib/python3.8/shutil.py'...\n",
            "Compiling '/usr/local/lib/python3.8/signal.py'...\n",
            "Compiling '/usr/local/lib/python3.8/site.py'...\n",
            "Compiling '/usr/local/lib/python3.8/smtpd.py'...\n",
            "Compiling '/usr/local/lib/python3.8/smtplib.py'...\n",
            "Compiling '/usr/local/lib/python3.8/sndhdr.py'...\n",
            "Compiling '/usr/local/lib/python3.8/socket.py'...\n",
            "Compiling '/usr/local/lib/python3.8/socketserver.py'...\n",
            "Compiling '/usr/local/lib/python3.8/sqlite3/__init__.py'...\n",
            "Compiling '/usr/local/lib/python3.8/sqlite3/dbapi2.py'...\n",
            "Compiling '/usr/local/lib/python3.8/sqlite3/dump.py'...\n",
            "Compiling '/usr/local/lib/python3.8/sqlite3/test/__init__.py'...\n",
            "Compiling '/usr/local/lib/python3.8/sqlite3/test/backup.py'...\n",
            "Compiling '/usr/local/lib/python3.8/sqlite3/test/dbapi.py'...\n",
            "Compiling '/usr/local/lib/python3.8/sqlite3/test/dump.py'...\n",
            "Compiling '/usr/local/lib/python3.8/sqlite3/test/factory.py'...\n",
            "Compiling '/usr/local/lib/python3.8/sqlite3/test/hooks.py'...\n",
            "Compiling '/usr/local/lib/python3.8/sqlite3/test/regression.py'...\n",
            "Compiling '/usr/local/lib/python3.8/sqlite3/test/transactions.py'...\n",
            "Compiling '/usr/local/lib/python3.8/sqlite3/test/types.py'...\n",
            "Compiling '/usr/local/lib/python3.8/sqlite3/test/userfunctions.py'...\n",
            "Compiling '/usr/local/lib/python3.8/sre_compile.py'...\n",
            "Compiling '/usr/local/lib/python3.8/sre_constants.py'...\n",
            "Compiling '/usr/local/lib/python3.8/sre_parse.py'...\n",
            "Compiling '/usr/local/lib/python3.8/ssl.py'...\n",
            "Compiling '/usr/local/lib/python3.8/stat.py'...\n",
            "Compiling '/usr/local/lib/python3.8/statistics.py'...\n",
            "Compiling '/usr/local/lib/python3.8/string.py'...\n",
            "Compiling '/usr/local/lib/python3.8/stringprep.py'...\n",
            "Compiling '/usr/local/lib/python3.8/struct.py'...\n",
            "Compiling '/usr/local/lib/python3.8/subprocess.py'...\n",
            "Compiling '/usr/local/lib/python3.8/sunau.py'...\n",
            "Compiling '/usr/local/lib/python3.8/symbol.py'...\n",
            "Compiling '/usr/local/lib/python3.8/symtable.py'...\n",
            "Compiling '/usr/local/lib/python3.8/sysconfig.py'...\n",
            "Compiling '/usr/local/lib/python3.8/tabnanny.py'...\n",
            "Compiling '/usr/local/lib/python3.8/tarfile.py'...\n",
            "Compiling '/usr/local/lib/python3.8/telnetlib.py'...\n",
            "Compiling '/usr/local/lib/python3.8/tempfile.py'...\n",
            "Compiling '/usr/local/lib/python3.8/test/__init__.py'...\n",
            "Compiling '/usr/local/lib/python3.8/test/__main__.py'...\n",
            "Compiling '/usr/local/lib/python3.8/test/_test_multiprocessing.py'...\n",
            "Compiling '/usr/local/lib/python3.8/test/ann_module.py'...\n",
            "Compiling '/usr/local/lib/python3.8/test/ann_module2.py'...\n",
            "Compiling '/usr/local/lib/python3.8/test/ann_module3.py'...\n",
            "Compiling '/usr/local/lib/python3.8/test/audiotests.py'...\n",
            "Compiling '/usr/local/lib/python3.8/test/audit-tests.py'...\n",
            "Compiling '/usr/local/lib/python3.8/test/autotest.py'...\n",
            "Compiling '/usr/local/lib/python3.8/test/bad_getattr.py'...\n",
            "Compiling '/usr/local/lib/python3.8/test/bad_getattr2.py'...\n",
            "Compiling '/usr/local/lib/python3.8/test/bad_getattr3.py'...\n",
            "Compiling '/usr/local/lib/python3.8/test/bisect_cmd.py'...\n",
            "Compiling '/usr/local/lib/python3.8/test/bytecode_helper.py'...\n",
            "Compiling '/usr/local/lib/python3.8/test/coding20731.py'...\n",
            "Compiling '/usr/local/lib/python3.8/test/curses_tests.py'...\n",
            "Compiling '/usr/local/lib/python3.8/test/dataclass_module_1.py'...\n",
            "Compiling '/usr/local/lib/python3.8/test/dataclass_module_2.py'...\n",
            "Compiling '/usr/local/lib/python3.8/test/dataclass_module_1_str.py'...\n",
            "Compiling '/usr/local/lib/python3.8/test/dataclass_module_2_str.py'...\n",
            "Compiling '/usr/local/lib/python3.8/test/dataclass_textanno.py'...\n",
            "Compiling '/usr/local/lib/python3.8/test/datetimetester.py'...\n",
            "Compiling '/usr/local/lib/python3.8/test/dis_module.py'...\n",
            "Compiling '/usr/local/lib/python3.8/test/doctest_aliases.py'...\n",
            "Compiling '/usr/local/lib/python3.8/test/double_const.py'...\n",
            "Compiling '/usr/local/lib/python3.8/test/dtracedata/call_stack.py'...\n",
            "Compiling '/usr/local/lib/python3.8/test/dtracedata/gc.py'...\n",
            "Compiling '/usr/local/lib/python3.8/test/dtracedata/instance.py'...\n",
            "Compiling '/usr/local/lib/python3.8/test/dtracedata/line.py'...\n",
            "Compiling '/usr/local/lib/python3.8/test/eintrdata/eintr_tester.py'...\n",
            "Compiling '/usr/local/lib/python3.8/test/encoded_modules/__init__.py'...\n",
            "Compiling '/usr/local/lib/python3.8/test/encoded_modules/module_iso_8859_1.py'...\n",
            "Compiling '/usr/local/lib/python3.8/test/encoded_modules/module_koi8_r.py'...\n",
            "Compiling '/usr/local/lib/python3.8/test/final_a.py'...\n",
            "Compiling '/usr/local/lib/python3.8/test/final_b.py'...\n",
            "Compiling '/usr/local/lib/python3.8/test/fork_wait.py'...\n",
            "Compiling '/usr/local/lib/python3.8/test/future_test1.py'...\n",
            "Compiling '/usr/local/lib/python3.8/test/future_test2.py'...\n",
            "Compiling '/usr/local/lib/python3.8/test/gdb_sample.py'...\n",
            "Compiling '/usr/local/lib/python3.8/test/good_getattr.py'...\n",
            "Compiling '/usr/local/lib/python3.8/test/imp_dummy.py'...\n",
            "Compiling '/usr/local/lib/python3.8/test/inspect_fodder.py'...\n",
            "Compiling '/usr/local/lib/python3.8/test/inspect_fodder2.py'...\n",
            "Compiling '/usr/local/lib/python3.8/test/libregrtest/__init__.py'...\n",
            "Compiling '/usr/local/lib/python3.8/test/libregrtest/cmdline.py'...\n",
            "Compiling '/usr/local/lib/python3.8/test/libregrtest/main.py'...\n",
            "Compiling '/usr/local/lib/python3.8/test/libregrtest/pgo.py'...\n",
            "Compiling '/usr/local/lib/python3.8/test/libregrtest/refleak.py'...\n",
            "Compiling '/usr/local/lib/python3.8/test/libregrtest/runtest.py'...\n",
            "Compiling '/usr/local/lib/python3.8/test/libregrtest/runtest_mp.py'...\n",
            "Compiling '/usr/local/lib/python3.8/test/libregrtest/save_env.py'...\n",
            "Compiling '/usr/local/lib/python3.8/test/libregrtest/setup.py'...\n",
            "Compiling '/usr/local/lib/python3.8/test/libregrtest/utils.py'...\n",
            "Compiling '/usr/local/lib/python3.8/test/libregrtest/win_utils.py'...\n",
            "Compiling '/usr/local/lib/python3.8/test/list_tests.py'...\n",
            "Compiling '/usr/local/lib/python3.8/test/lock_tests.py'...\n",
            "Compiling '/usr/local/lib/python3.8/test/make_ssl_certs.py'...\n",
            "Compiling '/usr/local/lib/python3.8/test/mapping_tests.py'...\n",
            "Compiling '/usr/local/lib/python3.8/test/memory_watchdog.py'...\n",
            "Compiling '/usr/local/lib/python3.8/test/mock_socket.py'...\n",
            "Compiling '/usr/local/lib/python3.8/test/mod_generics_cache.py'...\n",
            "Compiling '/usr/local/lib/python3.8/test/mp_fork_bomb.py'...\n",
            "Compiling '/usr/local/lib/python3.8/test/mp_preload.py'...\n",
            "Compiling '/usr/local/lib/python3.8/test/multibytecodec_support.py'...\n",
            "Compiling '/usr/local/lib/python3.8/test/outstanding_bugs.py'...\n",
            "Compiling '/usr/local/lib/python3.8/test/pickletester.py'...\n",
            "Compiling '/usr/local/lib/python3.8/test/profilee.py'...\n",
            "Compiling '/usr/local/lib/python3.8/test/pyclbr_input.py'...\n",
            "Compiling '/usr/local/lib/python3.8/test/pydoc_mod.py'...\n",
            "Compiling '/usr/local/lib/python3.8/test/pydocfodder.py'...\n",
            "Compiling '/usr/local/lib/python3.8/test/pythoninfo.py'...\n",
            "Compiling '/usr/local/lib/python3.8/test/re_tests.py'...\n",
            "Compiling '/usr/local/lib/python3.8/test/regrtest.py'...\n",
            "Compiling '/usr/local/lib/python3.8/test/relimport.py'...\n",
            "Compiling '/usr/local/lib/python3.8/test/reperf.py'...\n",
            "Compiling '/usr/local/lib/python3.8/test/sample_doctest.py'...\n",
            "Compiling '/usr/local/lib/python3.8/test/sample_doctest_no_docstrings.py'...\n",
            "Compiling '/usr/local/lib/python3.8/test/sample_doctest_no_doctests.py'...\n",
            "Compiling '/usr/local/lib/python3.8/test/seq_tests.py'...\n",
            "Compiling '/usr/local/lib/python3.8/test/signalinterproctester.py'...\n",
            "Compiling '/usr/local/lib/python3.8/test/sortperf.py'...\n",
            "Compiling '/usr/local/lib/python3.8/test/ssl_servers.py'...\n",
            "Compiling '/usr/local/lib/python3.8/test/ssltests.py'...\n",
            "Compiling '/usr/local/lib/python3.8/test/string_tests.py'...\n",
            "Compiling '/usr/local/lib/python3.8/test/subprocessdata/fd_status.py'...\n",
            "Compiling '/usr/local/lib/python3.8/test/subprocessdata/input_reader.py'...\n",
            "Compiling '/usr/local/lib/python3.8/test/subprocessdata/qcat.py'...\n",
            "Compiling '/usr/local/lib/python3.8/test/subprocessdata/qgrep.py'...\n",
            "Compiling '/usr/local/lib/python3.8/test/subprocessdata/sigchild_ignore.py'...\n",
            "Compiling '/usr/local/lib/python3.8/test/support/__init__.py'...\n",
            "Compiling '/usr/local/lib/python3.8/test/support/script_helper.py'...\n",
            "Compiling '/usr/local/lib/python3.8/test/support/testresult.py'...\n",
            "Compiling '/usr/local/lib/python3.8/test/test___all__.py'...\n",
            "Compiling '/usr/local/lib/python3.8/test/test___future__.py'...\n",
            "Compiling '/usr/local/lib/python3.8/test/test__locale.py'...\n",
            "Compiling '/usr/local/lib/python3.8/test/test__opcode.py'...\n",
            "Compiling '/usr/local/lib/python3.8/test/test__osx_support.py'...\n",
            "Compiling '/usr/local/lib/python3.8/test/test__xxsubinterpreters.py'...\n",
            "Compiling '/usr/local/lib/python3.8/test/test_abc.py'...\n",
            "Compiling '/usr/local/lib/python3.8/test/test_abstract_numbers.py'...\n",
            "Compiling '/usr/local/lib/python3.8/test/test_aifc.py'...\n",
            "Compiling '/usr/local/lib/python3.8/test/test_argparse.py'...\n",
            "Compiling '/usr/local/lib/python3.8/test/test_array.py'...\n",
            "Compiling '/usr/local/lib/python3.8/test/test_asdl_parser.py'...\n",
            "Compiling '/usr/local/lib/python3.8/test/test_ast.py'...\n",
            "Compiling '/usr/local/lib/python3.8/test/test_asyncgen.py'...\n",
            "Compiling '/usr/local/lib/python3.8/test/test_asyncio/__init__.py'...\n",
            "Compiling '/usr/local/lib/python3.8/test/test_asynchat.py'...\n",
            "Compiling '/usr/local/lib/python3.8/test/test_asyncio/__main__.py'...\n",
            "Compiling '/usr/local/lib/python3.8/test/test_asyncio/echo.py'...\n",
            "Compiling '/usr/local/lib/python3.8/test/test_asyncio/echo2.py'...\n",
            "Compiling '/usr/local/lib/python3.8/test/test_asyncio/echo3.py'...\n",
            "Compiling '/usr/local/lib/python3.8/test/test_asyncio/functional.py'...\n",
            "Compiling '/usr/local/lib/python3.8/test/test_asyncio/test_base_events.py'...\n",
            "Compiling '/usr/local/lib/python3.8/test/test_asyncio/test_buffered_proto.py'...\n",
            "Compiling '/usr/local/lib/python3.8/test/test_asyncio/test_context.py'...\n",
            "Compiling '/usr/local/lib/python3.8/test/test_asyncio/test_events.py'...\n",
            "Compiling '/usr/local/lib/python3.8/test/test_asyncio/test_futures.py'...\n",
            "Compiling '/usr/local/lib/python3.8/test/test_asyncio/test_locks.py'...\n",
            "Compiling '/usr/local/lib/python3.8/test/test_asyncio/test_pep492.py'...\n",
            "Compiling '/usr/local/lib/python3.8/test/test_asyncio/test_proactor_events.py'...\n",
            "Compiling '/usr/local/lib/python3.8/test/test_asyncio/test_protocols.py'...\n",
            "Compiling '/usr/local/lib/python3.8/test/test_asyncio/test_queues.py'...\n",
            "Compiling '/usr/local/lib/python3.8/test/test_asyncio/test_runners.py'...\n",
            "Compiling '/usr/local/lib/python3.8/test/test_asyncio/test_selector_events.py'...\n",
            "Compiling '/usr/local/lib/python3.8/test/test_asyncio/test_sendfile.py'...\n",
            "Compiling '/usr/local/lib/python3.8/test/test_asyncio/test_server.py'...\n",
            "Compiling '/usr/local/lib/python3.8/test/test_asyncio/test_sock_lowlevel.py'...\n",
            "Compiling '/usr/local/lib/python3.8/test/test_asyncio/test_sslproto.py'...\n",
            "Compiling '/usr/local/lib/python3.8/test/test_asyncio/test_streams.py'...\n",
            "Compiling '/usr/local/lib/python3.8/test/test_asyncio/test_subprocess.py'...\n",
            "Compiling '/usr/local/lib/python3.8/test/test_asyncio/test_tasks.py'...\n",
            "Compiling '/usr/local/lib/python3.8/test/test_asyncio/test_transports.py'...\n",
            "Compiling '/usr/local/lib/python3.8/test/test_asyncio/test_unix_events.py'...\n",
            "Compiling '/usr/local/lib/python3.8/test/test_asyncio/test_windows_events.py'...\n",
            "Compiling '/usr/local/lib/python3.8/test/test_asyncio/test_windows_utils.py'...\n",
            "Compiling '/usr/local/lib/python3.8/test/test_asyncio/utils.py'...\n",
            "Compiling '/usr/local/lib/python3.8/test/test_asyncore.py'...\n",
            "Compiling '/usr/local/lib/python3.8/test/test_atexit.py'...\n",
            "Compiling '/usr/local/lib/python3.8/test/test_audioop.py'...\n",
            "Compiling '/usr/local/lib/python3.8/test/test_audit.py'...\n",
            "Compiling '/usr/local/lib/python3.8/test/test_augassign.py'...\n",
            "Compiling '/usr/local/lib/python3.8/test/test_base64.py'...\n",
            "Compiling '/usr/local/lib/python3.8/test/test_baseexception.py'...\n",
            "Compiling '/usr/local/lib/python3.8/test/test_bdb.py'...\n",
            "Compiling '/usr/local/lib/python3.8/test/test_bigaddrspace.py'...\n",
            "Compiling '/usr/local/lib/python3.8/test/test_bigmem.py'...\n",
            "Compiling '/usr/local/lib/python3.8/test/test_binascii.py'...\n",
            "Compiling '/usr/local/lib/python3.8/test/test_binhex.py'...\n",
            "Compiling '/usr/local/lib/python3.8/test/test_binop.py'...\n",
            "Compiling '/usr/local/lib/python3.8/test/test_bisect.py'...\n",
            "Compiling '/usr/local/lib/python3.8/test/test_buffer.py'...\n",
            "Compiling '/usr/local/lib/python3.8/test/test_bool.py'...\n",
            "Compiling '/usr/local/lib/python3.8/test/test_bufio.py'...\n",
            "Compiling '/usr/local/lib/python3.8/test/test_builtin.py'...\n",
            "Compiling '/usr/local/lib/python3.8/test/test_bytes.py'...\n",
            "Compiling '/usr/local/lib/python3.8/test/test_bz2.py'...\n",
            "Compiling '/usr/local/lib/python3.8/test/test_c_locale_coercion.py'...\n",
            "Compiling '/usr/local/lib/python3.8/test/test_calendar.py'...\n",
            "Compiling '/usr/local/lib/python3.8/test/test_call.py'...\n",
            "Compiling '/usr/local/lib/python3.8/test/test_capi.py'...\n",
            "Compiling '/usr/local/lib/python3.8/test/test_cgi.py'...\n",
            "Compiling '/usr/local/lib/python3.8/test/test_cgitb.py'...\n",
            "Compiling '/usr/local/lib/python3.8/test/test_charmapcodec.py'...\n",
            "Compiling '/usr/local/lib/python3.8/test/test_class.py'...\n",
            "Compiling '/usr/local/lib/python3.8/test/test_clinic.py'...\n",
            "Compiling '/usr/local/lib/python3.8/test/test_cmath.py'...\n",
            "Compiling '/usr/local/lib/python3.8/test/test_cmd.py'...\n",
            "Compiling '/usr/local/lib/python3.8/test/test_cmd_line.py'...\n",
            "Compiling '/usr/local/lib/python3.8/test/test_cmd_line_script.py'...\n",
            "Compiling '/usr/local/lib/python3.8/test/test_code.py'...\n",
            "Compiling '/usr/local/lib/python3.8/test/test_code_module.py'...\n",
            "Compiling '/usr/local/lib/python3.8/test/test_codeccallbacks.py'...\n",
            "Compiling '/usr/local/lib/python3.8/test/test_codecencodings_cn.py'...\n",
            "Compiling '/usr/local/lib/python3.8/test/test_codecencodings_hk.py'...\n",
            "Compiling '/usr/local/lib/python3.8/test/test_codecencodings_iso2022.py'...\n",
            "Compiling '/usr/local/lib/python3.8/test/test_codecencodings_kr.py'...\n",
            "Compiling '/usr/local/lib/python3.8/test/test_codecencodings_tw.py'...\n",
            "Compiling '/usr/local/lib/python3.8/test/test_codecmaps_cn.py'...\n",
            "Compiling '/usr/local/lib/python3.8/test/test_codecencodings_jp.py'...\n",
            "Compiling '/usr/local/lib/python3.8/test/test_codecmaps_hk.py'...\n",
            "Compiling '/usr/local/lib/python3.8/test/test_codecmaps_jp.py'...\n",
            "Compiling '/usr/local/lib/python3.8/test/test_codecmaps_kr.py'...\n",
            "Compiling '/usr/local/lib/python3.8/test/test_codecmaps_tw.py'...\n",
            "Compiling '/usr/local/lib/python3.8/test/test_codecs.py'...\n",
            "Compiling '/usr/local/lib/python3.8/test/test_codeop.py'...\n",
            "Compiling '/usr/local/lib/python3.8/test/test_colorsys.py'...\n",
            "Compiling '/usr/local/lib/python3.8/test/test_collections.py'...\n",
            "Compiling '/usr/local/lib/python3.8/test/test_compile.py'...\n",
            "Compiling '/usr/local/lib/python3.8/test/test_compare.py'...\n",
            "Compiling '/usr/local/lib/python3.8/test/test_compileall.py'...\n",
            "Compiling '/usr/local/lib/python3.8/test/test_complex.py'...\n",
            "Compiling '/usr/local/lib/python3.8/test/test_concurrent_futures.py'...\n",
            "Compiling '/usr/local/lib/python3.8/test/test_configparser.py'...\n",
            "Compiling '/usr/local/lib/python3.8/test/test_contains.py'...\n",
            "Compiling '/usr/local/lib/python3.8/test/test_context.py'...\n",
            "Compiling '/usr/local/lib/python3.8/test/test_contextlib.py'...\n",
            "Compiling '/usr/local/lib/python3.8/test/test_copy.py'...\n",
            "Compiling '/usr/local/lib/python3.8/test/test_contextlib_async.py'...\n",
            "Compiling '/usr/local/lib/python3.8/test/test_coroutines.py'...\n",
            "Compiling '/usr/local/lib/python3.8/test/test_cprofile.py'...\n",
            "Compiling '/usr/local/lib/python3.8/test/test_copyreg.py'...\n",
            "Compiling '/usr/local/lib/python3.8/test/test_crashers.py'...\n",
            "Compiling '/usr/local/lib/python3.8/test/test_crypt.py'...\n",
            "Compiling '/usr/local/lib/python3.8/test/test_csv.py'...\n",
            "Compiling '/usr/local/lib/python3.8/test/test_ctypes.py'...\n",
            "Compiling '/usr/local/lib/python3.8/test/test_curses.py'...\n",
            "Compiling '/usr/local/lib/python3.8/test/test_dataclasses.py'...\n",
            "Compiling '/usr/local/lib/python3.8/test/test_datetime.py'...\n",
            "Compiling '/usr/local/lib/python3.8/test/test_dbm.py'...\n",
            "Compiling '/usr/local/lib/python3.8/test/test_dbm_dumb.py'...\n",
            "Compiling '/usr/local/lib/python3.8/test/test_dbm_gnu.py'...\n",
            "Compiling '/usr/local/lib/python3.8/test/test_dbm_ndbm.py'...\n",
            "Compiling '/usr/local/lib/python3.8/test/test_decimal.py'...\n",
            "Compiling '/usr/local/lib/python3.8/test/test_decorators.py'...\n",
            "Compiling '/usr/local/lib/python3.8/test/test_defaultdict.py'...\n",
            "Compiling '/usr/local/lib/python3.8/test/test_deque.py'...\n",
            "Compiling '/usr/local/lib/python3.8/test/test_descr.py'...\n",
            "Compiling '/usr/local/lib/python3.8/test/test_descrtut.py'...\n",
            "Compiling '/usr/local/lib/python3.8/test/test_devpoll.py'...\n",
            "Compiling '/usr/local/lib/python3.8/test/test_dict.py'...\n",
            "Compiling '/usr/local/lib/python3.8/test/test_dict_version.py'...\n",
            "Compiling '/usr/local/lib/python3.8/test/test_dictcomps.py'...\n",
            "Compiling '/usr/local/lib/python3.8/test/test_dictviews.py'...\n",
            "Compiling '/usr/local/lib/python3.8/test/test_difflib.py'...\n",
            "Compiling '/usr/local/lib/python3.8/test/test_distutils.py'...\n",
            "Compiling '/usr/local/lib/python3.8/test/test_dis.py'...\n",
            "Compiling '/usr/local/lib/python3.8/test/test_doctest.py'...\n",
            "Compiling '/usr/local/lib/python3.8/test/test_doctest2.py'...\n",
            "Compiling '/usr/local/lib/python3.8/test/test_docxmlrpc.py'...\n",
            "Compiling '/usr/local/lib/python3.8/test/test_dtrace.py'...\n",
            "Compiling '/usr/local/lib/python3.8/test/test_dummy_thread.py'...\n",
            "Compiling '/usr/local/lib/python3.8/test/test_dummy_threading.py'...\n",
            "Compiling '/usr/local/lib/python3.8/test/test_dynamic.py'...\n",
            "Compiling '/usr/local/lib/python3.8/test/test_dynamicclassattribute.py'...\n",
            "Compiling '/usr/local/lib/python3.8/test/test_eintr.py'...\n",
            "Compiling '/usr/local/lib/python3.8/test/test_email/__init__.py'...\n",
            "Compiling '/usr/local/lib/python3.8/test/test_email/__main__.py'...\n",
            "Compiling '/usr/local/lib/python3.8/test/test_email/test__encoded_words.py'...\n",
            "Compiling '/usr/local/lib/python3.8/test/test_email/test__header_value_parser.py'...\n",
            "Compiling '/usr/local/lib/python3.8/test/test_email/test_asian_codecs.py'...\n",
            "Compiling '/usr/local/lib/python3.8/test/test_email/test_contentmanager.py'...\n",
            "Compiling '/usr/local/lib/python3.8/test/test_email/test_defect_handling.py'...\n",
            "Compiling '/usr/local/lib/python3.8/test/test_email/test_email.py'...\n",
            "Compiling '/usr/local/lib/python3.8/test/test_email/test_generator.py'...\n",
            "Compiling '/usr/local/lib/python3.8/test/test_email/test_headerregistry.py'...\n",
            "Compiling '/usr/local/lib/python3.8/test/test_email/test_inversion.py'...\n",
            "Compiling '/usr/local/lib/python3.8/test/test_email/test_message.py'...\n",
            "Compiling '/usr/local/lib/python3.8/test/test_email/test_parser.py'...\n",
            "Compiling '/usr/local/lib/python3.8/test/test_email/test_pickleable.py'...\n",
            "Compiling '/usr/local/lib/python3.8/test/test_email/test_policy.py'...\n",
            "Compiling '/usr/local/lib/python3.8/test/test_email/test_utils.py'...\n",
            "Compiling '/usr/local/lib/python3.8/test/test_email/torture_test.py'...\n",
            "Compiling '/usr/local/lib/python3.8/test/test_embed.py'...\n",
            "Compiling '/usr/local/lib/python3.8/test/test_ensurepip.py'...\n",
            "Compiling '/usr/local/lib/python3.8/test/test_enum.py'...\n",
            "Compiling '/usr/local/lib/python3.8/test/test_enumerate.py'...\n",
            "Compiling '/usr/local/lib/python3.8/test/test_eof.py'...\n",
            "Compiling '/usr/local/lib/python3.8/test/test_epoll.py'...\n",
            "Compiling '/usr/local/lib/python3.8/test/test_errno.py'...\n",
            "Compiling '/usr/local/lib/python3.8/test/test_exception_hierarchy.py'...\n",
            "Compiling '/usr/local/lib/python3.8/test/test_exception_variations.py'...\n",
            "Compiling '/usr/local/lib/python3.8/test/test_exceptions.py'...\n",
            "Compiling '/usr/local/lib/python3.8/test/test_extcall.py'...\n",
            "Compiling '/usr/local/lib/python3.8/test/test_faulthandler.py'...\n",
            "Compiling '/usr/local/lib/python3.8/test/test_fcntl.py'...\n",
            "Compiling '/usr/local/lib/python3.8/test/test_file.py'...\n",
            "Compiling '/usr/local/lib/python3.8/test/test_filecmp.py'...\n",
            "Compiling '/usr/local/lib/python3.8/test/test_file_eintr.py'...\n",
            "Compiling '/usr/local/lib/python3.8/test/test_fileinput.py'...\n",
            "Compiling '/usr/local/lib/python3.8/test/test_fileio.py'...\n",
            "Compiling '/usr/local/lib/python3.8/test/test_finalization.py'...\n",
            "Compiling '/usr/local/lib/python3.8/test/test_float.py'...\n",
            "Compiling '/usr/local/lib/python3.8/test/test_flufl.py'...\n",
            "Compiling '/usr/local/lib/python3.8/test/test_fnmatch.py'...\n",
            "Compiling '/usr/local/lib/python3.8/test/test_fork1.py'...\n",
            "Compiling '/usr/local/lib/python3.8/test/test_format.py'...\n",
            "Compiling '/usr/local/lib/python3.8/test/test_fractions.py'...\n",
            "Compiling '/usr/local/lib/python3.8/test/test_frame.py'...\n",
            "Compiling '/usr/local/lib/python3.8/test/test_frozen.py'...\n",
            "Compiling '/usr/local/lib/python3.8/test/test_fstring.py'...\n",
            "Compiling '/usr/local/lib/python3.8/test/test_ftplib.py'...\n",
            "Compiling '/usr/local/lib/python3.8/test/test_funcattrs.py'...\n",
            "Compiling '/usr/local/lib/python3.8/test/test_functools.py'...\n",
            "Compiling '/usr/local/lib/python3.8/test/test_future.py'...\n",
            "Compiling '/usr/local/lib/python3.8/test/test_future3.py'...\n",
            "Compiling '/usr/local/lib/python3.8/test/test_future4.py'...\n",
            "Compiling '/usr/local/lib/python3.8/test/test_future5.py'...\n",
            "Compiling '/usr/local/lib/python3.8/test/test_gc.py'...\n",
            "Compiling '/usr/local/lib/python3.8/test/test_gdb.py'...\n",
            "Compiling '/usr/local/lib/python3.8/test/test_generator_stop.py'...\n",
            "Compiling '/usr/local/lib/python3.8/test/test_generators.py'...\n",
            "Compiling '/usr/local/lib/python3.8/test/test_genericclass.py'...\n",
            "Compiling '/usr/local/lib/python3.8/test/test_genericpath.py'...\n",
            "Compiling '/usr/local/lib/python3.8/test/test_genexps.py'...\n",
            "Compiling '/usr/local/lib/python3.8/test/test_getargs2.py'...\n",
            "Compiling '/usr/local/lib/python3.8/test/test_getopt.py'...\n",
            "Compiling '/usr/local/lib/python3.8/test/test_getpass.py'...\n",
            "Compiling '/usr/local/lib/python3.8/test/test_gettext.py'...\n",
            "Compiling '/usr/local/lib/python3.8/test/test_glob.py'...\n",
            "Compiling '/usr/local/lib/python3.8/test/test_global.py'...\n",
            "Compiling '/usr/local/lib/python3.8/test/test_grammar.py'...\n",
            "Compiling '/usr/local/lib/python3.8/test/test_grp.py'...\n",
            "Compiling '/usr/local/lib/python3.8/test/test_gzip.py'...\n",
            "Compiling '/usr/local/lib/python3.8/test/test_hash.py'...\n",
            "Compiling '/usr/local/lib/python3.8/test/test_hashlib.py'...\n",
            "Compiling '/usr/local/lib/python3.8/test/test_heapq.py'...\n",
            "Compiling '/usr/local/lib/python3.8/test/test_hmac.py'...\n",
            "Compiling '/usr/local/lib/python3.8/test/test_html.py'...\n",
            "Compiling '/usr/local/lib/python3.8/test/test_htmlparser.py'...\n",
            "Compiling '/usr/local/lib/python3.8/test/test_http_cookiejar.py'...\n",
            "Compiling '/usr/local/lib/python3.8/test/test_http_cookies.py'...\n",
            "Compiling '/usr/local/lib/python3.8/test/test_httplib.py'...\n",
            "Compiling '/usr/local/lib/python3.8/test/test_httpservers.py'...\n",
            "Compiling '/usr/local/lib/python3.8/test/test_idle.py'...\n",
            "Compiling '/usr/local/lib/python3.8/test/test_imaplib.py'...\n",
            "Compiling '/usr/local/lib/python3.8/test/test_imghdr.py'...\n",
            "Compiling '/usr/local/lib/python3.8/test/test_imp.py'...\n",
            "Compiling '/usr/local/lib/python3.8/test/test_import/__init__.py'...\n",
            "Compiling '/usr/local/lib/python3.8/test/test_import/__main__.py'...\n",
            "Compiling '/usr/local/lib/python3.8/test/test_import/data/circular_imports/basic.py'...\n",
            "Compiling '/usr/local/lib/python3.8/test/test_import/data/circular_imports/basic2.py'...\n",
            "Compiling '/usr/local/lib/python3.8/test/test_import/data/circular_imports/binding.py'...\n",
            "Compiling '/usr/local/lib/python3.8/test/test_import/data/circular_imports/binding2.py'...\n",
            "Compiling '/usr/local/lib/python3.8/test/test_import/data/circular_imports/from_cycle1.py'...\n",
            "Compiling '/usr/local/lib/python3.8/test/test_import/data/circular_imports/from_cycle2.py'...\n",
            "Compiling '/usr/local/lib/python3.8/test/test_import/data/circular_imports/indirect.py'...\n",
            "Compiling '/usr/local/lib/python3.8/test/test_import/data/circular_imports/rebinding.py'...\n",
            "Compiling '/usr/local/lib/python3.8/test/test_import/data/circular_imports/rebinding2.py'...\n",
            "Compiling '/usr/local/lib/python3.8/test/test_import/data/circular_imports/source.py'...\n",
            "Compiling '/usr/local/lib/python3.8/test/test_import/data/circular_imports/subpackage.py'...\n",
            "Compiling '/usr/local/lib/python3.8/test/test_import/data/circular_imports/subpkg/subpackage2.py'...\n",
            "Compiling '/usr/local/lib/python3.8/test/test_import/data/circular_imports/subpkg/util.py'...\n",
            "Compiling '/usr/local/lib/python3.8/test/test_import/data/circular_imports/use.py'...\n",
            "Compiling '/usr/local/lib/python3.8/test/test_import/data/package/__init__.py'...\n",
            "Compiling '/usr/local/lib/python3.8/test/test_import/data/circular_imports/util.py'...\n",
            "Compiling '/usr/local/lib/python3.8/test/test_import/data/package/submodule.py'...\n",
            "Compiling '/usr/local/lib/python3.8/test/test_import/data/package2/submodule1.py'...\n",
            "Compiling '/usr/local/lib/python3.8/test/test_import/data/package2/submodule2.py'...\n",
            "Compiling '/usr/local/lib/python3.8/test/test_importlib/__init__.py'...\n",
            "Compiling '/usr/local/lib/python3.8/test/test_importlib/__main__.py'...\n",
            "Compiling '/usr/local/lib/python3.8/test/test_importlib/abc.py'...\n",
            "Compiling '/usr/local/lib/python3.8/test/test_importlib/builtin/__main__.py'...\n",
            "Compiling '/usr/local/lib/python3.8/test/test_importlib/builtin/__init__.py'...\n",
            "Compiling '/usr/local/lib/python3.8/test/test_importlib/builtin/test_finder.py'...\n",
            "Compiling '/usr/local/lib/python3.8/test/test_importlib/builtin/test_loader.py'...\n",
            "Compiling '/usr/local/lib/python3.8/test/test_importlib/data/__init__.py'...\n",
            "Compiling '/usr/local/lib/python3.8/test/test_importlib/data01/__init__.py'...\n",
            "Compiling '/usr/local/lib/python3.8/test/test_importlib/data01/subdirectory/__init__.py'...\n",
            "Compiling '/usr/local/lib/python3.8/test/test_importlib/data02/one/__init__.py'...\n",
            "Compiling '/usr/local/lib/python3.8/test/test_importlib/data02/__init__.py'...\n",
            "Compiling '/usr/local/lib/python3.8/test/test_importlib/data02/two/__init__.py'...\n",
            "Compiling '/usr/local/lib/python3.8/test/test_importlib/data03/__init__.py'...\n",
            "Compiling '/usr/local/lib/python3.8/test/test_importlib/data03/namespace/portion1/__init__.py'...\n",
            "Compiling '/usr/local/lib/python3.8/test/test_importlib/data03/namespace/portion2/__init__.py'...\n",
            "Compiling '/usr/local/lib/python3.8/test/test_importlib/extension/__main__.py'...\n",
            "Compiling '/usr/local/lib/python3.8/test/test_importlib/extension/__init__.py'...\n",
            "Compiling '/usr/local/lib/python3.8/test/test_importlib/extension/test_case_sensitivity.py'...\n",
            "Compiling '/usr/local/lib/python3.8/test/test_importlib/extension/test_finder.py'...\n",
            "Compiling '/usr/local/lib/python3.8/test/test_importlib/extension/test_loader.py'...\n",
            "Compiling '/usr/local/lib/python3.8/test/test_importlib/extension/test_path_hook.py'...\n",
            "Compiling '/usr/local/lib/python3.8/test/test_importlib/fixtures.py'...\n",
            "Compiling '/usr/local/lib/python3.8/test/test_importlib/frozen/__init__.py'...\n",
            "Compiling '/usr/local/lib/python3.8/test/test_importlib/frozen/__main__.py'...\n",
            "Compiling '/usr/local/lib/python3.8/test/test_importlib/frozen/test_finder.py'...\n",
            "Compiling '/usr/local/lib/python3.8/test/test_importlib/frozen/test_loader.py'...\n",
            "Compiling '/usr/local/lib/python3.8/test/test_importlib/import_/__init__.py'...\n",
            "Compiling '/usr/local/lib/python3.8/test/test_importlib/import_/__main__.py'...\n",
            "Compiling '/usr/local/lib/python3.8/test/test_importlib/import_/test___loader__.py'...\n",
            "Compiling '/usr/local/lib/python3.8/test/test_importlib/import_/test___package__.py'...\n",
            "Compiling '/usr/local/lib/python3.8/test/test_importlib/import_/test_api.py'...\n",
            "Compiling '/usr/local/lib/python3.8/test/test_importlib/import_/test_caching.py'...\n",
            "Compiling '/usr/local/lib/python3.8/test/test_importlib/import_/test_fromlist.py'...\n",
            "Compiling '/usr/local/lib/python3.8/test/test_importlib/import_/test_meta_path.py'...\n",
            "Compiling '/usr/local/lib/python3.8/test/test_importlib/import_/test_packages.py'...\n",
            "Compiling '/usr/local/lib/python3.8/test/test_importlib/import_/test_path.py'...\n",
            "Compiling '/usr/local/lib/python3.8/test/test_importlib/import_/test_relative_imports.py'...\n",
            "Compiling '/usr/local/lib/python3.8/test/test_importlib/namespace_pkgs/both_portions/foo/one.py'...\n",
            "Compiling '/usr/local/lib/python3.8/test/test_importlib/namespace_pkgs/both_portions/foo/two.py'...\n",
            "Compiling '/usr/local/lib/python3.8/test/test_importlib/namespace_pkgs/module_and_namespace_package/a_test.py'...\n",
            "Compiling '/usr/local/lib/python3.8/test/test_importlib/namespace_pkgs/not_a_namespace_pkg/foo/__init__.py'...\n",
            "Compiling '/usr/local/lib/python3.8/test/test_importlib/namespace_pkgs/not_a_namespace_pkg/foo/one.py'...\n",
            "Compiling '/usr/local/lib/python3.8/test/test_importlib/namespace_pkgs/portion1/foo/one.py'...\n",
            "Compiling '/usr/local/lib/python3.8/test/test_importlib/namespace_pkgs/portion2/foo/two.py'...\n",
            "Compiling '/usr/local/lib/python3.8/test/test_importlib/namespace_pkgs/project1/parent/child/one.py'...\n",
            "Compiling '/usr/local/lib/python3.8/test/test_importlib/namespace_pkgs/project2/parent/child/two.py'...\n",
            "Compiling '/usr/local/lib/python3.8/test/test_importlib/namespace_pkgs/project3/parent/child/three.py'...\n",
            "Compiling '/usr/local/lib/python3.8/test/test_importlib/source/__init__.py'...\n",
            "Compiling '/usr/local/lib/python3.8/test/test_importlib/source/__main__.py'...\n",
            "Compiling '/usr/local/lib/python3.8/test/test_importlib/source/test_case_sensitivity.py'...\n",
            "Compiling '/usr/local/lib/python3.8/test/test_importlib/source/test_file_loader.py'...\n",
            "Compiling '/usr/local/lib/python3.8/test/test_importlib/source/test_finder.py'...\n",
            "Compiling '/usr/local/lib/python3.8/test/test_importlib/source/test_path_hook.py'...\n",
            "Compiling '/usr/local/lib/python3.8/test/test_importlib/source/test_source_encoding.py'...\n",
            "Compiling '/usr/local/lib/python3.8/test/test_importlib/stubs.py'...\n",
            "Compiling '/usr/local/lib/python3.8/test/test_importlib/test_abc.py'...\n",
            "Compiling '/usr/local/lib/python3.8/test/test_importlib/test_api.py'...\n",
            "Compiling '/usr/local/lib/python3.8/test/test_importlib/test_lazy.py'...\n",
            "Compiling '/usr/local/lib/python3.8/test/test_importlib/test_locks.py'...\n",
            "Compiling '/usr/local/lib/python3.8/test/test_importlib/test_main.py'...\n",
            "Compiling '/usr/local/lib/python3.8/test/test_importlib/test_metadata_api.py'...\n",
            "Compiling '/usr/local/lib/python3.8/test/test_importlib/test_namespace_pkgs.py'...\n",
            "Compiling '/usr/local/lib/python3.8/test/test_importlib/test_open.py'...\n",
            "Compiling '/usr/local/lib/python3.8/test/test_importlib/test_path.py'...\n",
            "Compiling '/usr/local/lib/python3.8/test/test_importlib/test_read.py'...\n",
            "Compiling '/usr/local/lib/python3.8/test/test_importlib/test_resource.py'...\n",
            "Compiling '/usr/local/lib/python3.8/test/test_importlib/test_spec.py'...\n",
            "Compiling '/usr/local/lib/python3.8/test/test_importlib/test_util.py'...\n",
            "Compiling '/usr/local/lib/python3.8/test/test_importlib/test_windows.py'...\n",
            "Compiling '/usr/local/lib/python3.8/test/test_importlib/test_zip.py'...\n",
            "Compiling '/usr/local/lib/python3.8/test/test_importlib/util.py'...\n",
            "Compiling '/usr/local/lib/python3.8/test/test_importlib/zipdata01/__init__.py'...\n",
            "Compiling '/usr/local/lib/python3.8/test/test_importlib/zipdata02/__init__.py'...\n",
            "Compiling '/usr/local/lib/python3.8/test/test_index.py'...\n",
            "Compiling '/usr/local/lib/python3.8/test/test_inspect.py'...\n",
            "Compiling '/usr/local/lib/python3.8/test/test_int.py'...\n",
            "Compiling '/usr/local/lib/python3.8/test/test_int_literal.py'...\n",
            "Compiling '/usr/local/lib/python3.8/test/test_io.py'...\n",
            "Compiling '/usr/local/lib/python3.8/test/test_ioctl.py'...\n",
            "Compiling '/usr/local/lib/python3.8/test/test_ipaddress.py'...\n",
            "Compiling '/usr/local/lib/python3.8/test/test_isinstance.py'...\n",
            "Compiling '/usr/local/lib/python3.8/test/test_iter.py'...\n",
            "Compiling '/usr/local/lib/python3.8/test/test_iterlen.py'...\n",
            "Compiling '/usr/local/lib/python3.8/test/test_itertools.py'...\n",
            "Compiling '/usr/local/lib/python3.8/test/test_json/__init__.py'...\n",
            "Compiling '/usr/local/lib/python3.8/test/test_json/__main__.py'...\n",
            "Compiling '/usr/local/lib/python3.8/test/test_json/test_decode.py'...\n",
            "Compiling '/usr/local/lib/python3.8/test/test_json/test_default.py'...\n",
            "Compiling '/usr/local/lib/python3.8/test/test_json/test_dump.py'...\n",
            "Compiling '/usr/local/lib/python3.8/test/test_json/test_encode_basestring_ascii.py'...\n",
            "Compiling '/usr/local/lib/python3.8/test/test_json/test_enum.py'...\n",
            "Compiling '/usr/local/lib/python3.8/test/test_json/test_fail.py'...\n",
            "Compiling '/usr/local/lib/python3.8/test/test_json/test_float.py'...\n",
            "Compiling '/usr/local/lib/python3.8/test/test_json/test_indent.py'...\n",
            "Compiling '/usr/local/lib/python3.8/test/test_json/test_pass1.py'...\n",
            "Compiling '/usr/local/lib/python3.8/test/test_json/test_pass2.py'...\n",
            "Compiling '/usr/local/lib/python3.8/test/test_json/test_pass3.py'...\n",
            "Compiling '/usr/local/lib/python3.8/test/test_json/test_recursion.py'...\n",
            "Compiling '/usr/local/lib/python3.8/test/test_json/test_scanstring.py'...\n",
            "Compiling '/usr/local/lib/python3.8/test/test_json/test_separators.py'...\n",
            "Compiling '/usr/local/lib/python3.8/test/test_json/test_speedups.py'...\n",
            "Compiling '/usr/local/lib/python3.8/test/test_json/test_tool.py'...\n",
            "Compiling '/usr/local/lib/python3.8/test/test_json/test_unicode.py'...\n",
            "Compiling '/usr/local/lib/python3.8/test/test_keyword.py'...\n",
            "Compiling '/usr/local/lib/python3.8/test/test_keywordonlyarg.py'...\n",
            "Compiling '/usr/local/lib/python3.8/test/test_kqueue.py'...\n",
            "Compiling '/usr/local/lib/python3.8/test/test_largefile.py'...\n",
            "Compiling '/usr/local/lib/python3.8/test/test_lib2to3.py'...\n",
            "Compiling '/usr/local/lib/python3.8/test/test_linecache.py'...\n",
            "Compiling '/usr/local/lib/python3.8/test/test_list.py'...\n",
            "Compiling '/usr/local/lib/python3.8/test/test_listcomps.py'...\n",
            "Compiling '/usr/local/lib/python3.8/test/test_lltrace.py'...\n",
            "Compiling '/usr/local/lib/python3.8/test/test_locale.py'...\n",
            "Compiling '/usr/local/lib/python3.8/test/test_logging.py'...\n",
            "Compiling '/usr/local/lib/python3.8/test/test_long.py'...\n",
            "Compiling '/usr/local/lib/python3.8/test/test_longexp.py'...\n",
            "Compiling '/usr/local/lib/python3.8/test/test_lzma.py'...\n",
            "Compiling '/usr/local/lib/python3.8/test/test_mailbox.py'...\n",
            "Compiling '/usr/local/lib/python3.8/test/test_mailcap.py'...\n",
            "Compiling '/usr/local/lib/python3.8/test/test_marshal.py'...\n",
            "Compiling '/usr/local/lib/python3.8/test/test_math.py'...\n",
            "Compiling '/usr/local/lib/python3.8/test/test_memoryio.py'...\n",
            "Compiling '/usr/local/lib/python3.8/test/test_memoryview.py'...\n",
            "Compiling '/usr/local/lib/python3.8/test/test_metaclass.py'...\n",
            "Compiling '/usr/local/lib/python3.8/test/test_mimetypes.py'...\n",
            "Compiling '/usr/local/lib/python3.8/test/test_minidom.py'...\n",
            "Compiling '/usr/local/lib/python3.8/test/test_mmap.py'...\n",
            "Compiling '/usr/local/lib/python3.8/test/test_module.py'...\n",
            "Compiling '/usr/local/lib/python3.8/test/test_modulefinder.py'...\n",
            "Compiling '/usr/local/lib/python3.8/test/test_msilib.py'...\n",
            "Compiling '/usr/local/lib/python3.8/test/test_multiprocessing_fork.py'...\n",
            "Compiling '/usr/local/lib/python3.8/test/test_multiprocessing_forkserver.py'...\n",
            "Compiling '/usr/local/lib/python3.8/test/test_multibytecodec.py'...\n",
            "Compiling '/usr/local/lib/python3.8/test/test_multiprocessing_spawn.py'...\n",
            "Compiling '/usr/local/lib/python3.8/test/test_multiprocessing_main_handling.py'...\n",
            "Compiling '/usr/local/lib/python3.8/test/test_netrc.py'...\n",
            "Compiling '/usr/local/lib/python3.8/test/test_named_expressions.py'...\n",
            "Compiling '/usr/local/lib/python3.8/test/test_nis.py'...\n",
            "Compiling '/usr/local/lib/python3.8/test/test_nntplib.py'...\n",
            "Compiling '/usr/local/lib/python3.8/test/test_normalization.py'...\n",
            "Compiling '/usr/local/lib/python3.8/test/test_ntpath.py'...\n",
            "Compiling '/usr/local/lib/python3.8/test/test_numeric_tower.py'...\n",
            "Compiling '/usr/local/lib/python3.8/test/test_opcodes.py'...\n",
            "Compiling '/usr/local/lib/python3.8/test/test_openpty.py'...\n",
            "Compiling '/usr/local/lib/python3.8/test/test_operator.py'...\n",
            "Compiling '/usr/local/lib/python3.8/test/test_optparse.py'...\n",
            "Compiling '/usr/local/lib/python3.8/test/test_os.py'...\n",
            "Compiling '/usr/local/lib/python3.8/test/test_ordered_dict.py'...\n",
            "Compiling '/usr/local/lib/python3.8/test/test_ossaudiodev.py'...\n",
            "Compiling '/usr/local/lib/python3.8/test/test_osx_env.py'...\n",
            "Compiling '/usr/local/lib/python3.8/test/test_parser.py'...\n",
            "Compiling '/usr/local/lib/python3.8/test/test_pathlib.py'...\n",
            "Compiling '/usr/local/lib/python3.8/test/test_pdb.py'...\n",
            "Compiling '/usr/local/lib/python3.8/test/test_pickle.py'...\n",
            "Compiling '/usr/local/lib/python3.8/test/test_peepholer.py'...\n",
            "Compiling '/usr/local/lib/python3.8/test/test_picklebuffer.py'...\n",
            "Compiling '/usr/local/lib/python3.8/test/test_pipes.py'...\n",
            "Compiling '/usr/local/lib/python3.8/test/test_pickletools.py'...\n",
            "Compiling '/usr/local/lib/python3.8/test/test_pkg.py'...\n",
            "Compiling '/usr/local/lib/python3.8/test/test_pkgimport.py'...\n",
            "Compiling '/usr/local/lib/python3.8/test/test_pkgutil.py'...\n",
            "Compiling '/usr/local/lib/python3.8/test/test_platform.py'...\n",
            "Compiling '/usr/local/lib/python3.8/test/test_plistlib.py'...\n",
            "Compiling '/usr/local/lib/python3.8/test/test_poll.py'...\n",
            "Compiling '/usr/local/lib/python3.8/test/test_popen.py'...\n",
            "Compiling '/usr/local/lib/python3.8/test/test_poplib.py'...\n",
            "Compiling '/usr/local/lib/python3.8/test/test_positional_only_arg.py'...\n",
            "Compiling '/usr/local/lib/python3.8/test/test_posix.py'...\n",
            "Compiling '/usr/local/lib/python3.8/test/test_posixpath.py'...\n",
            "Compiling '/usr/local/lib/python3.8/test/test_pow.py'...\n",
            "Compiling '/usr/local/lib/python3.8/test/test_pprint.py'...\n",
            "Compiling '/usr/local/lib/python3.8/test/test_profile.py'...\n",
            "Compiling '/usr/local/lib/python3.8/test/test_print.py'...\n",
            "Compiling '/usr/local/lib/python3.8/test/test_property.py'...\n",
            "Compiling '/usr/local/lib/python3.8/test/test_pstats.py'...\n",
            "Compiling '/usr/local/lib/python3.8/test/test_pty.py'...\n",
            "Compiling '/usr/local/lib/python3.8/test/test_pulldom.py'...\n",
            "Compiling '/usr/local/lib/python3.8/test/test_pwd.py'...\n",
            "Compiling '/usr/local/lib/python3.8/test/test_py_compile.py'...\n",
            "Compiling '/usr/local/lib/python3.8/test/test_pyclbr.py'...\n",
            "Compiling '/usr/local/lib/python3.8/test/test_pydoc.py'...\n",
            "Compiling '/usr/local/lib/python3.8/test/test_pyexpat.py'...\n",
            "Compiling '/usr/local/lib/python3.8/test/test_queue.py'...\n",
            "Compiling '/usr/local/lib/python3.8/test/test_quopri.py'...\n",
            "Compiling '/usr/local/lib/python3.8/test/test_raise.py'...\n",
            "Compiling '/usr/local/lib/python3.8/test/test_random.py'...\n",
            "Compiling '/usr/local/lib/python3.8/test/test_range.py'...\n",
            "Compiling '/usr/local/lib/python3.8/test/test_re.py'...\n",
            "Compiling '/usr/local/lib/python3.8/test/test_readline.py'...\n",
            "Compiling '/usr/local/lib/python3.8/test/test_regrtest.py'...\n",
            "Compiling '/usr/local/lib/python3.8/test/test_repl.py'...\n",
            "Compiling '/usr/local/lib/python3.8/test/test_reprlib.py'...\n",
            "Compiling '/usr/local/lib/python3.8/test/test_resource.py'...\n",
            "Compiling '/usr/local/lib/python3.8/test/test_richcmp.py'...\n",
            "Compiling '/usr/local/lib/python3.8/test/test_rlcompleter.py'...\n",
            "Compiling '/usr/local/lib/python3.8/test/test_robotparser.py'...\n",
            "Compiling '/usr/local/lib/python3.8/test/test_runpy.py'...\n",
            "Compiling '/usr/local/lib/python3.8/test/test_sax.py'...\n",
            "Compiling '/usr/local/lib/python3.8/test/test_sched.py'...\n",
            "Compiling '/usr/local/lib/python3.8/test/test_scope.py'...\n",
            "Compiling '/usr/local/lib/python3.8/test/test_script_helper.py'...\n",
            "Compiling '/usr/local/lib/python3.8/test/test_secrets.py'...\n",
            "Compiling '/usr/local/lib/python3.8/test/test_select.py'...\n",
            "Compiling '/usr/local/lib/python3.8/test/test_selectors.py'...\n",
            "Compiling '/usr/local/lib/python3.8/test/test_set.py'...\n",
            "Compiling '/usr/local/lib/python3.8/test/test_setcomps.py'...\n",
            "Compiling '/usr/local/lib/python3.8/test/test_shelve.py'...\n",
            "Compiling '/usr/local/lib/python3.8/test/test_shutil.py'...\n",
            "Compiling '/usr/local/lib/python3.8/test/test_signal.py'...\n",
            "Compiling '/usr/local/lib/python3.8/test/test_shlex.py'...\n",
            "Compiling '/usr/local/lib/python3.8/test/test_site.py'...\n",
            "Compiling '/usr/local/lib/python3.8/test/test_slice.py'...\n",
            "Compiling '/usr/local/lib/python3.8/test/test_smtpd.py'...\n",
            "Compiling '/usr/local/lib/python3.8/test/test_smtplib.py'...\n",
            "Compiling '/usr/local/lib/python3.8/test/test_smtpnet.py'...\n",
            "Compiling '/usr/local/lib/python3.8/test/test_sndhdr.py'...\n",
            "Compiling '/usr/local/lib/python3.8/test/test_socket.py'...\n",
            "Compiling '/usr/local/lib/python3.8/test/test_socketserver.py'...\n",
            "Compiling '/usr/local/lib/python3.8/test/test_sort.py'...\n",
            "Compiling '/usr/local/lib/python3.8/test/test_source_encoding.py'...\n",
            "Compiling '/usr/local/lib/python3.8/test/test_spwd.py'...\n",
            "Compiling '/usr/local/lib/python3.8/test/test_sqlite.py'...\n",
            "Compiling '/usr/local/lib/python3.8/test/test_ssl.py'...\n",
            "Compiling '/usr/local/lib/python3.8/test/test_startfile.py'...\n",
            "Compiling '/usr/local/lib/python3.8/test/test_stat.py'...\n",
            "Compiling '/usr/local/lib/python3.8/test/test_statistics.py'...\n",
            "Compiling '/usr/local/lib/python3.8/test/test_strftime.py'...\n",
            "Compiling '/usr/local/lib/python3.8/test/test_string.py'...\n",
            "Compiling '/usr/local/lib/python3.8/test/test_string_literals.py'...\n",
            "Compiling '/usr/local/lib/python3.8/test/test_stringprep.py'...\n",
            "Compiling '/usr/local/lib/python3.8/test/test_strptime.py'...\n",
            "Compiling '/usr/local/lib/python3.8/test/test_strtod.py'...\n",
            "Compiling '/usr/local/lib/python3.8/test/test_struct.py'...\n",
            "Compiling '/usr/local/lib/python3.8/test/test_structmembers.py'...\n",
            "Compiling '/usr/local/lib/python3.8/test/test_structseq.py'...\n",
            "Compiling '/usr/local/lib/python3.8/test/test_subclassinit.py'...\n",
            "Compiling '/usr/local/lib/python3.8/test/test_subprocess.py'...\n",
            "Compiling '/usr/local/lib/python3.8/test/test_sunau.py'...\n",
            "Compiling '/usr/local/lib/python3.8/test/test_sundry.py'...\n",
            "Compiling '/usr/local/lib/python3.8/test/test_super.py'...\n",
            "Compiling '/usr/local/lib/python3.8/test/test_support.py'...\n",
            "Compiling '/usr/local/lib/python3.8/test/test_symbol.py'...\n",
            "Compiling '/usr/local/lib/python3.8/test/test_symtable.py'...\n",
            "Compiling '/usr/local/lib/python3.8/test/test_syntax.py'...\n",
            "Compiling '/usr/local/lib/python3.8/test/test_sys.py'...\n",
            "Compiling '/usr/local/lib/python3.8/test/test_sys_setprofile.py'...\n",
            "Compiling '/usr/local/lib/python3.8/test/test_sys_settrace.py'...\n",
            "Compiling '/usr/local/lib/python3.8/test/test_sysconfig.py'...\n",
            "Compiling '/usr/local/lib/python3.8/test/test_syslog.py'...\n",
            "Compiling '/usr/local/lib/python3.8/test/test_tabnanny.py'...\n",
            "Compiling '/usr/local/lib/python3.8/test/test_tarfile.py'...\n",
            "Compiling '/usr/local/lib/python3.8/test/test_tcl.py'...\n",
            "Compiling '/usr/local/lib/python3.8/test/test_telnetlib.py'...\n",
            "Compiling '/usr/local/lib/python3.8/test/test_tempfile.py'...\n",
            "Compiling '/usr/local/lib/python3.8/test/test_thread.py'...\n",
            "Compiling '/usr/local/lib/python3.8/test/test_textwrap.py'...\n",
            "Compiling '/usr/local/lib/python3.8/test/test_threaded_import.py'...\n",
            "Compiling '/usr/local/lib/python3.8/test/test_threadedtempfile.py'...\n",
            "Compiling '/usr/local/lib/python3.8/test/test_threading.py'...\n",
            "Compiling '/usr/local/lib/python3.8/test/test_threading_local.py'...\n",
            "Compiling '/usr/local/lib/python3.8/test/test_threadsignals.py'...\n",
            "Compiling '/usr/local/lib/python3.8/test/test_time.py'...\n",
            "Compiling '/usr/local/lib/python3.8/test/test_timeit.py'...\n",
            "Compiling '/usr/local/lib/python3.8/test/test_timeout.py'...\n",
            "Compiling '/usr/local/lib/python3.8/test/test_tix.py'...\n",
            "Compiling '/usr/local/lib/python3.8/test/test_tk.py'...\n",
            "Compiling '/usr/local/lib/python3.8/test/test_tokenize.py'...\n",
            "Compiling '/usr/local/lib/python3.8/test/test_tools/__init__.py'...\n",
            "Compiling '/usr/local/lib/python3.8/test/test_tools/__main__.py'...\n",
            "Compiling '/usr/local/lib/python3.8/test/test_tools/test_fixcid.py'...\n",
            "Compiling '/usr/local/lib/python3.8/test/test_tools/test_gprof2html.py'...\n",
            "Compiling '/usr/local/lib/python3.8/test/test_tools/test_i18n.py'...\n",
            "Compiling '/usr/local/lib/python3.8/test/test_tools/test_lll.py'...\n",
            "Compiling '/usr/local/lib/python3.8/test/test_tools/test_md5sum.py'...\n",
            "Compiling '/usr/local/lib/python3.8/test/test_tools/test_pathfix.py'...\n",
            "Compiling '/usr/local/lib/python3.8/test/test_tools/test_pdeps.py'...\n",
            "Compiling '/usr/local/lib/python3.8/test/test_tools/test_pindent.py'...\n",
            "Compiling '/usr/local/lib/python3.8/test/test_tools/test_reindent.py'...\n",
            "Compiling '/usr/local/lib/python3.8/test/test_tools/test_sundry.py'...\n",
            "Compiling '/usr/local/lib/python3.8/test/test_tools/test_unparse.py'...\n",
            "Compiling '/usr/local/lib/python3.8/test/test_trace.py'...\n",
            "Compiling '/usr/local/lib/python3.8/test/test_tracemalloc.py'...\n",
            "Compiling '/usr/local/lib/python3.8/test/test_traceback.py'...\n",
            "Compiling '/usr/local/lib/python3.8/test/test_ttk_guionly.py'...\n",
            "Compiling '/usr/local/lib/python3.8/test/test_ttk_textonly.py'...\n",
            "Compiling '/usr/local/lib/python3.8/test/test_tuple.py'...\n",
            "Compiling '/usr/local/lib/python3.8/test/test_turtle.py'...\n",
            "Compiling '/usr/local/lib/python3.8/test/test_type_comments.py'...\n",
            "Compiling '/usr/local/lib/python3.8/test/test_typechecks.py'...\n",
            "Compiling '/usr/local/lib/python3.8/test/test_types.py'...\n",
            "Compiling '/usr/local/lib/python3.8/test/test_typing.py'...\n",
            "Compiling '/usr/local/lib/python3.8/test/test_ucn.py'...\n",
            "Compiling '/usr/local/lib/python3.8/test/test_unicode.py'...\n",
            "Compiling '/usr/local/lib/python3.8/test/test_unary.py'...\n",
            "Compiling '/usr/local/lib/python3.8/test/test_unicode_file_functions.py'...\n",
            "Compiling '/usr/local/lib/python3.8/test/test_unicode_file.py'...\n",
            "Compiling '/usr/local/lib/python3.8/test/test_unicode_identifiers.py'...\n",
            "Compiling '/usr/local/lib/python3.8/test/test_unicodedata.py'...\n",
            "Compiling '/usr/local/lib/python3.8/test/test_unittest.py'...\n",
            "Compiling '/usr/local/lib/python3.8/test/test_univnewlines.py'...\n",
            "Compiling '/usr/local/lib/python3.8/test/test_unpack.py'...\n",
            "Compiling '/usr/local/lib/python3.8/test/test_unpack_ex.py'...\n",
            "Compiling '/usr/local/lib/python3.8/test/test_urllib.py'...\n",
            "Compiling '/usr/local/lib/python3.8/test/test_urllib2.py'...\n",
            "Compiling '/usr/local/lib/python3.8/test/test_urllib2_localnet.py'...\n",
            "Compiling '/usr/local/lib/python3.8/test/test_urllib2net.py'...\n",
            "Compiling '/usr/local/lib/python3.8/test/test_urllib_response.py'...\n",
            "Compiling '/usr/local/lib/python3.8/test/test_urllibnet.py'...\n",
            "Compiling '/usr/local/lib/python3.8/test/test_urlparse.py'...\n",
            "Compiling '/usr/local/lib/python3.8/test/test_userdict.py'...\n",
            "Compiling '/usr/local/lib/python3.8/test/test_userlist.py'...\n",
            "Compiling '/usr/local/lib/python3.8/test/test_userstring.py'...\n",
            "Compiling '/usr/local/lib/python3.8/test/test_utf8_mode.py'...\n",
            "Compiling '/usr/local/lib/python3.8/test/test_utf8source.py'...\n",
            "Compiling '/usr/local/lib/python3.8/test/test_uu.py'...\n",
            "Compiling '/usr/local/lib/python3.8/test/test_uuid.py'...\n",
            "Compiling '/usr/local/lib/python3.8/test/test_venv.py'...\n",
            "Compiling '/usr/local/lib/python3.8/test/test_wait3.py'...\n",
            "Compiling '/usr/local/lib/python3.8/test/test_wait4.py'...\n",
            "Compiling '/usr/local/lib/python3.8/test/test_warnings/__init__.py'...\n",
            "Compiling '/usr/local/lib/python3.8/test/test_warnings/__main__.py'...\n",
            "Compiling '/usr/local/lib/python3.8/test/test_warnings/data/import_warning.py'...\n",
            "Compiling '/usr/local/lib/python3.8/test/test_warnings/data/stacklevel.py'...\n",
            "Compiling '/usr/local/lib/python3.8/test/test_wave.py'...\n",
            "Compiling '/usr/local/lib/python3.8/test/test_weakref.py'...\n",
            "Compiling '/usr/local/lib/python3.8/test/test_weakset.py'...\n",
            "Compiling '/usr/local/lib/python3.8/test/test_webbrowser.py'...\n",
            "Compiling '/usr/local/lib/python3.8/test/test_winconsoleio.py'...\n",
            "Compiling '/usr/local/lib/python3.8/test/test_winreg.py'...\n",
            "Compiling '/usr/local/lib/python3.8/test/test_winsound.py'...\n",
            "Compiling '/usr/local/lib/python3.8/test/test_with.py'...\n",
            "Compiling '/usr/local/lib/python3.8/test/test_wsgiref.py'...\n",
            "Compiling '/usr/local/lib/python3.8/test/test_xdrlib.py'...\n",
            "Compiling '/usr/local/lib/python3.8/test/test_xml_dom_minicompat.py'...\n",
            "Compiling '/usr/local/lib/python3.8/test/test_xml_etree.py'...\n",
            "Compiling '/usr/local/lib/python3.8/test/test_xml_etree_c.py'...\n",
            "Compiling '/usr/local/lib/python3.8/test/test_xmlrpc.py'...\n",
            "Compiling '/usr/local/lib/python3.8/test/test_xmlrpc_net.py'...\n",
            "Compiling '/usr/local/lib/python3.8/test/test_xxtestfuzz.py'...\n",
            "Compiling '/usr/local/lib/python3.8/test/test_yield_from.py'...\n",
            "Compiling '/usr/local/lib/python3.8/test/test_zipapp.py'...\n",
            "Compiling '/usr/local/lib/python3.8/test/test_zipfile.py'...\n",
            "Compiling '/usr/local/lib/python3.8/test/test_zipfile64.py'...\n",
            "Compiling '/usr/local/lib/python3.8/test/test_zipimport.py'...\n",
            "Compiling '/usr/local/lib/python3.8/test/test_zipimport_support.py'...\n",
            "Compiling '/usr/local/lib/python3.8/test/test_zlib.py'...\n",
            "Compiling '/usr/local/lib/python3.8/test/testcodec.py'...\n",
            "Compiling '/usr/local/lib/python3.8/test/tf_inherit_check.py'...\n",
            "Compiling '/usr/local/lib/python3.8/test/threaded_import_hangers.py'...\n",
            "Compiling '/usr/local/lib/python3.8/test/time_hashlib.py'...\n",
            "Compiling '/usr/local/lib/python3.8/test/tracedmodules/__init__.py'...\n",
            "Compiling '/usr/local/lib/python3.8/test/tracedmodules/testmod.py'...\n",
            "Compiling '/usr/local/lib/python3.8/test/win_console_handler.py'...\n",
            "Compiling '/usr/local/lib/python3.8/test/xmltests.py'...\n",
            "Compiling '/usr/local/lib/python3.8/test/ziptestdata/testdata_module_inside_zip.py'...\n",
            "Compiling '/usr/local/lib/python3.8/textwrap.py'...\n",
            "Compiling '/usr/local/lib/python3.8/this.py'...\n",
            "Compiling '/usr/local/lib/python3.8/threading.py'...\n",
            "Compiling '/usr/local/lib/python3.8/timeit.py'...\n",
            "Compiling '/usr/local/lib/python3.8/tkinter/__init__.py'...\n",
            "Compiling '/usr/local/lib/python3.8/tkinter/__main__.py'...\n",
            "Compiling '/usr/local/lib/python3.8/tkinter/colorchooser.py'...\n",
            "Compiling '/usr/local/lib/python3.8/tkinter/commondialog.py'...\n",
            "Compiling '/usr/local/lib/python3.8/tkinter/constants.py'...\n",
            "Compiling '/usr/local/lib/python3.8/tkinter/dialog.py'...\n",
            "Compiling '/usr/local/lib/python3.8/tkinter/dnd.py'...\n",
            "Compiling '/usr/local/lib/python3.8/tkinter/filedialog.py'...\n",
            "Compiling '/usr/local/lib/python3.8/tkinter/font.py'...\n",
            "Compiling '/usr/local/lib/python3.8/tkinter/messagebox.py'...\n",
            "Compiling '/usr/local/lib/python3.8/tkinter/scrolledtext.py'...\n",
            "Compiling '/usr/local/lib/python3.8/tkinter/simpledialog.py'...\n",
            "Compiling '/usr/local/lib/python3.8/tkinter/test/__init__.py'...\n",
            "Compiling '/usr/local/lib/python3.8/tkinter/test/runtktests.py'...\n",
            "Compiling '/usr/local/lib/python3.8/tkinter/test/support.py'...\n",
            "Compiling '/usr/local/lib/python3.8/tkinter/test/test_tkinter/__init__.py'...\n",
            "Compiling '/usr/local/lib/python3.8/tkinter/test/test_tkinter/test_font.py'...\n",
            "Compiling '/usr/local/lib/python3.8/tkinter/test/test_tkinter/test_geometry_managers.py'...\n",
            "Compiling '/usr/local/lib/python3.8/tkinter/test/test_tkinter/test_images.py'...\n",
            "Compiling '/usr/local/lib/python3.8/tkinter/test/test_tkinter/test_loadtk.py'...\n",
            "Compiling '/usr/local/lib/python3.8/tkinter/test/test_tkinter/test_misc.py'...\n",
            "Compiling '/usr/local/lib/python3.8/tkinter/test/test_tkinter/test_text.py'...\n",
            "Compiling '/usr/local/lib/python3.8/tkinter/test/test_tkinter/test_variables.py'...\n",
            "Compiling '/usr/local/lib/python3.8/tkinter/test/test_tkinter/test_widgets.py'...\n",
            "Compiling '/usr/local/lib/python3.8/tkinter/test/test_ttk/__init__.py'...\n",
            "Compiling '/usr/local/lib/python3.8/tkinter/test/test_ttk/test_extensions.py'...\n",
            "Compiling '/usr/local/lib/python3.8/tkinter/test/test_ttk/test_functions.py'...\n",
            "Compiling '/usr/local/lib/python3.8/tkinter/test/test_ttk/test_style.py'...\n",
            "Compiling '/usr/local/lib/python3.8/tkinter/test/test_ttk/test_widgets.py'...\n",
            "Compiling '/usr/local/lib/python3.8/tkinter/test/widget_tests.py'...\n",
            "Compiling '/usr/local/lib/python3.8/tkinter/tix.py'...\n",
            "Compiling '/usr/local/lib/python3.8/tkinter/ttk.py'...\n",
            "Compiling '/usr/local/lib/python3.8/token.py'...\n",
            "Compiling '/usr/local/lib/python3.8/tokenize.py'...\n",
            "Compiling '/usr/local/lib/python3.8/trace.py'...\n",
            "Compiling '/usr/local/lib/python3.8/traceback.py'...\n",
            "Compiling '/usr/local/lib/python3.8/tracemalloc.py'...\n",
            "Compiling '/usr/local/lib/python3.8/tty.py'...\n",
            "Compiling '/usr/local/lib/python3.8/turtle.py'...\n",
            "Compiling '/usr/local/lib/python3.8/turtledemo/__init__.py'...\n",
            "Compiling '/usr/local/lib/python3.8/turtledemo/__main__.py'...\n",
            "Compiling '/usr/local/lib/python3.8/turtledemo/bytedesign.py'...\n",
            "Compiling '/usr/local/lib/python3.8/turtledemo/chaos.py'...\n",
            "Compiling '/usr/local/lib/python3.8/turtledemo/clock.py'...\n",
            "Compiling '/usr/local/lib/python3.8/turtledemo/colormixer.py'...\n",
            "Compiling '/usr/local/lib/python3.8/turtledemo/forest.py'...\n",
            "Compiling '/usr/local/lib/python3.8/turtledemo/fractalcurves.py'...\n",
            "Compiling '/usr/local/lib/python3.8/turtledemo/lindenmayer.py'...\n",
            "Compiling '/usr/local/lib/python3.8/turtledemo/minimal_hanoi.py'...\n",
            "Compiling '/usr/local/lib/python3.8/turtledemo/nim.py'...\n",
            "Compiling '/usr/local/lib/python3.8/turtledemo/paint.py'...\n",
            "Compiling '/usr/local/lib/python3.8/turtledemo/peace.py'...\n",
            "Compiling '/usr/local/lib/python3.8/turtledemo/penrose.py'...\n",
            "Compiling '/usr/local/lib/python3.8/turtledemo/planet_and_moon.py'...\n",
            "Compiling '/usr/local/lib/python3.8/turtledemo/rosette.py'...\n",
            "Compiling '/usr/local/lib/python3.8/turtledemo/round_dance.py'...\n",
            "Compiling '/usr/local/lib/python3.8/turtledemo/sorting_animate.py'...\n",
            "Compiling '/usr/local/lib/python3.8/turtledemo/two_canvases.py'...\n",
            "Compiling '/usr/local/lib/python3.8/turtledemo/yinyang.py'...\n",
            "Compiling '/usr/local/lib/python3.8/turtledemo/tree.py'...\n",
            "Compiling '/usr/local/lib/python3.8/types.py'...\n",
            "Compiling '/usr/local/lib/python3.8/typing.py'...\n",
            "Compiling '/usr/local/lib/python3.8/unittest/__init__.py'...\n",
            "Compiling '/usr/local/lib/python3.8/unittest/__main__.py'...\n",
            "Compiling '/usr/local/lib/python3.8/unittest/async_case.py'...\n",
            "Compiling '/usr/local/lib/python3.8/unittest/main.py'...\n",
            "Compiling '/usr/local/lib/python3.8/unittest/loader.py'...\n",
            "Compiling '/usr/local/lib/python3.8/unittest/case.py'...\n",
            "Compiling '/usr/local/lib/python3.8/unittest/mock.py'...\n",
            "Compiling '/usr/local/lib/python3.8/unittest/result.py'...\n",
            "Compiling '/usr/local/lib/python3.8/unittest/runner.py'...\n",
            "Compiling '/usr/local/lib/python3.8/unittest/signals.py'...\n",
            "Compiling '/usr/local/lib/python3.8/unittest/suite.py'...\n",
            "Compiling '/usr/local/lib/python3.8/unittest/test/__init__.py'...\n",
            "Compiling '/usr/local/lib/python3.8/unittest/test/__main__.py'...\n",
            "Compiling '/usr/local/lib/python3.8/unittest/test/_test_warnings.py'...\n",
            "Compiling '/usr/local/lib/python3.8/unittest/test/dummy.py'...\n",
            "Compiling '/usr/local/lib/python3.8/unittest/test/support.py'...\n",
            "Compiling '/usr/local/lib/python3.8/unittest/test/test_assertions.py'...\n",
            "Compiling '/usr/local/lib/python3.8/unittest/test/test_async_case.py'...\n",
            "Compiling '/usr/local/lib/python3.8/unittest/test/test_break.py'...\n",
            "Compiling '/usr/local/lib/python3.8/unittest/test/test_case.py'...\n",
            "Compiling '/usr/local/lib/python3.8/unittest/test/test_discovery.py'...\n",
            "Compiling '/usr/local/lib/python3.8/unittest/test/test_functiontestcase.py'...\n",
            "Compiling '/usr/local/lib/python3.8/unittest/test/test_loader.py'...\n",
            "Compiling '/usr/local/lib/python3.8/unittest/test/test_program.py'...\n",
            "Compiling '/usr/local/lib/python3.8/unittest/test/test_result.py'...\n",
            "Compiling '/usr/local/lib/python3.8/unittest/test/test_runner.py'...\n",
            "Compiling '/usr/local/lib/python3.8/unittest/test/test_setups.py'...\n",
            "Compiling '/usr/local/lib/python3.8/unittest/test/test_skipping.py'...\n",
            "Compiling '/usr/local/lib/python3.8/unittest/test/test_suite.py'...\n",
            "Compiling '/usr/local/lib/python3.8/unittest/test/testmock/__init__.py'...\n",
            "Compiling '/usr/local/lib/python3.8/unittest/test/testmock/__main__.py'...\n",
            "Compiling '/usr/local/lib/python3.8/unittest/test/testmock/support.py'...\n",
            "Compiling '/usr/local/lib/python3.8/unittest/test/testmock/testasync.py'...\n",
            "Compiling '/usr/local/lib/python3.8/unittest/test/testmock/testcallable.py'...\n",
            "Compiling '/usr/local/lib/python3.8/unittest/test/testmock/testhelpers.py'...\n",
            "Compiling '/usr/local/lib/python3.8/unittest/test/testmock/testmagicmethods.py'...\n",
            "Compiling '/usr/local/lib/python3.8/unittest/test/testmock/testmock.py'...\n",
            "Compiling '/usr/local/lib/python3.8/unittest/test/testmock/testpatch.py'...\n",
            "Compiling '/usr/local/lib/python3.8/unittest/test/testmock/testsealable.py'...\n",
            "Compiling '/usr/local/lib/python3.8/unittest/test/testmock/testsentinel.py'...\n",
            "Compiling '/usr/local/lib/python3.8/unittest/test/testmock/testwith.py'...\n",
            "Compiling '/usr/local/lib/python3.8/unittest/util.py'...\n",
            "Compiling '/usr/local/lib/python3.8/urllib/__init__.py'...\n",
            "Compiling '/usr/local/lib/python3.8/urllib/error.py'...\n",
            "Compiling '/usr/local/lib/python3.8/urllib/parse.py'...\n",
            "Compiling '/usr/local/lib/python3.8/urllib/request.py'...\n",
            "Compiling '/usr/local/lib/python3.8/urllib/robotparser.py'...\n",
            "Compiling '/usr/local/lib/python3.8/urllib/response.py'...\n",
            "Compiling '/usr/local/lib/python3.8/uu.py'...\n",
            "Compiling '/usr/local/lib/python3.8/uuid.py'...\n",
            "Compiling '/usr/local/lib/python3.8/venv/__init__.py'...\n",
            "Compiling '/usr/local/lib/python3.8/venv/__main__.py'...\n",
            "Compiling '/usr/local/lib/python3.8/warnings.py'...\n",
            "Compiling '/usr/local/lib/python3.8/wave.py'...\n",
            "Compiling '/usr/local/lib/python3.8/weakref.py'...\n",
            "Compiling '/usr/local/lib/python3.8/webbrowser.py'...\n",
            "Compiling '/usr/local/lib/python3.8/wsgiref/__init__.py'...\n",
            "Compiling '/usr/local/lib/python3.8/wsgiref/handlers.py'...\n",
            "Compiling '/usr/local/lib/python3.8/wsgiref/headers.py'...\n",
            "Compiling '/usr/local/lib/python3.8/wsgiref/simple_server.py'...\n",
            "Compiling '/usr/local/lib/python3.8/wsgiref/util.py'...\n",
            "Compiling '/usr/local/lib/python3.8/wsgiref/validate.py'...\n",
            "Compiling '/usr/local/lib/python3.8/xdrlib.py'...\n",
            "Compiling '/usr/local/lib/python3.8/xml/__init__.py'...\n",
            "Compiling '/usr/local/lib/python3.8/xml/dom/NodeFilter.py'...\n",
            "Compiling '/usr/local/lib/python3.8/xml/dom/__init__.py'...\n",
            "Compiling '/usr/local/lib/python3.8/xml/dom/domreg.py'...\n",
            "Compiling '/usr/local/lib/python3.8/xml/dom/expatbuilder.py'...\n",
            "Compiling '/usr/local/lib/python3.8/xml/dom/minicompat.py'...\n",
            "Compiling '/usr/local/lib/python3.8/xml/dom/pulldom.py'...\n",
            "Compiling '/usr/local/lib/python3.8/xml/dom/minidom.py'...\n",
            "Compiling '/usr/local/lib/python3.8/xml/etree/ElementInclude.py'...\n",
            "Compiling '/usr/local/lib/python3.8/xml/dom/xmlbuilder.py'...\n",
            "Compiling '/usr/local/lib/python3.8/xml/etree/ElementPath.py'...\n",
            "Compiling '/usr/local/lib/python3.8/xml/etree/ElementTree.py'...\n",
            "Compiling '/usr/local/lib/python3.8/xml/etree/__init__.py'...\n",
            "Compiling '/usr/local/lib/python3.8/xml/etree/cElementTree.py'...\n",
            "Compiling '/usr/local/lib/python3.8/xml/parsers/__init__.py'...\n",
            "Compiling '/usr/local/lib/python3.8/xml/parsers/expat.py'...\n",
            "Compiling '/usr/local/lib/python3.8/xml/sax/__init__.py'...\n",
            "Compiling '/usr/local/lib/python3.8/xml/sax/expatreader.py'...\n",
            "Compiling '/usr/local/lib/python3.8/xml/sax/handler.py'...\n",
            "Compiling '/usr/local/lib/python3.8/xml/sax/_exceptions.py'...\n",
            "Compiling '/usr/local/lib/python3.8/xml/sax/saxutils.py'...\n",
            "Compiling '/usr/local/lib/python3.8/xml/sax/xmlreader.py'...\n",
            "Compiling '/usr/local/lib/python3.8/xmlrpc/__init__.py'...\n",
            "Compiling '/usr/local/lib/python3.8/xmlrpc/client.py'...\n",
            "Compiling '/usr/local/lib/python3.8/xmlrpc/server.py'...\n",
            "Compiling '/usr/local/lib/python3.8/zipapp.py'...\n",
            "Compiling '/usr/local/lib/python3.8/zipfile.py'...\n",
            "Compiling '/usr/local/lib/python3.8/zipimport.py'...\n",
            "PYTHONPATH=/usr/local/lib/python3.8  \\\n",
            "\t./python -E -Wi -O /usr/local/lib/python3.8/compileall.py \\\n",
            "\t-j0 -d /usr/local/lib/python3.8 -f \\\n",
            "\t-x 'bad_coding|badsyntax|site-packages|lib2to3/tests/data' \\\n",
            "\t/usr/local/lib/python3.8\n",
            "Listing '/usr/local/lib/python3.8'...\n",
            "Compiling '/usr/local/lib/python3.8/__future__.py'...\n",
            "Compiling '/usr/local/lib/python3.8/__phello__.foo.py'...\n",
            "Compiling '/usr/local/lib/python3.8/_bootlocale.py'...\n",
            "Compiling '/usr/local/lib/python3.8/_collections_abc.py'...\n",
            "Compiling '/usr/local/lib/python3.8/_compat_pickle.py'...\n",
            "Compiling '/usr/local/lib/python3.8/_compression.py'...\n",
            "Compiling '/usr/local/lib/python3.8/_markupbase.py'...\n",
            "Compiling '/usr/local/lib/python3.8/_osx_support.py'...\n",
            "Compiling '/usr/local/lib/python3.8/_pydecimal.py'...\n",
            "Compiling '/usr/local/lib/python3.8/_dummy_thread.py'...\n",
            "Compiling '/usr/local/lib/python3.8/_pyio.py'...\n",
            "Compiling '/usr/local/lib/python3.8/_sitebuiltins.py'...\n",
            "Compiling '/usr/local/lib/python3.8/_strptime.py'...\n",
            "Compiling '/usr/local/lib/python3.8/_sysconfigdata__linux_x86_64-linux-gnu.py'...\n",
            "Listing '/usr/local/lib/python3.8/asyncio'...\n",
            "Compiling '/usr/local/lib/python3.8/_py_abc.py'...\n",
            "Listing '/usr/local/lib/python3.8/collections'...\n",
            "Listing '/usr/local/lib/python3.8/concurrent'...\n",
            "Compiling '/usr/local/lib/python3.8/_threading_local.py'...\n",
            "Compiling '/usr/local/lib/python3.8/_weakrefset.py'...\n",
            "Compiling '/usr/local/lib/python3.8/abc.py'...\n",
            "Compiling '/usr/local/lib/python3.8/aifc.py'...\n",
            "Compiling '/usr/local/lib/python3.8/antigravity.py'...\n",
            "Compiling '/usr/local/lib/python3.8/argparse.py'...\n",
            "Listing '/usr/local/lib/python3.8/concurrent/futures'...\n",
            "Compiling '/usr/local/lib/python3.8/ast.py'...\n",
            "Compiling '/usr/local/lib/python3.8/asynchat.py'...\n",
            "Compiling '/usr/local/lib/python3.8/asyncio/__init__.py'...\n",
            "Compiling '/usr/local/lib/python3.8/asyncio/__main__.py'...\n",
            "Compiling '/usr/local/lib/python3.8/asyncio/base_events.py'...\n",
            "Compiling '/usr/local/lib/python3.8/asyncio/base_futures.py'...\n",
            "Compiling '/usr/local/lib/python3.8/asyncio/base_subprocess.py'...\n",
            "Listing '/usr/local/lib/python3.8/ctypes'...\n",
            "Listing '/usr/local/lib/python3.8/ctypes/macholib'...\n",
            "Compiling '/usr/local/lib/python3.8/asyncio/base_tasks.py'...\n",
            "Compiling '/usr/local/lib/python3.8/asyncio/constants.py'...\n",
            "Listing '/usr/local/lib/python3.8/ctypes/test'...\n",
            "Compiling '/usr/local/lib/python3.8/asyncio/coroutines.py'...\n",
            "Compiling '/usr/local/lib/python3.8/asyncio/events.py'...\n",
            "Compiling '/usr/local/lib/python3.8/asyncio/exceptions.py'...\n",
            "Compiling '/usr/local/lib/python3.8/asyncio/format_helpers.py'...\n",
            "Compiling '/usr/local/lib/python3.8/asyncio/futures.py'...\n",
            "Compiling '/usr/local/lib/python3.8/asyncio/locks.py'...\n",
            "Listing '/usr/local/lib/python3.8/curses'...\n",
            "Listing '/usr/local/lib/python3.8/dbm'...\n",
            "Compiling '/usr/local/lib/python3.8/asyncio/log.py'...\n",
            "Listing '/usr/local/lib/python3.8/distutils'...\n",
            "Listing '/usr/local/lib/python3.8/distutils/command'...\n",
            "Compiling '/usr/local/lib/python3.8/asyncio/proactor_events.py'...\n",
            "Compiling '/usr/local/lib/python3.8/asyncio/protocols.py'...\n",
            "Compiling '/usr/local/lib/python3.8/asyncio/queues.py'...\n",
            "Compiling '/usr/local/lib/python3.8/asyncio/runners.py'...\n",
            "Compiling '/usr/local/lib/python3.8/asyncio/selector_events.py'...\n",
            "Compiling '/usr/local/lib/python3.8/asyncio/sslproto.py'...\n",
            "Compiling '/usr/local/lib/python3.8/asyncio/staggered.py'...\n",
            "Compiling '/usr/local/lib/python3.8/asyncio/streams.py'...\n",
            "Compiling '/usr/local/lib/python3.8/asyncio/subprocess.py'...\n",
            "Compiling '/usr/local/lib/python3.8/asyncio/tasks.py'...\n",
            "Compiling '/usr/local/lib/python3.8/asyncio/transports.py'...\n",
            "Compiling '/usr/local/lib/python3.8/asyncio/trsock.py'...\n",
            "Compiling '/usr/local/lib/python3.8/asyncio/unix_events.py'...\n",
            "Listing '/usr/local/lib/python3.8/distutils/tests'...\n",
            "Compiling '/usr/local/lib/python3.8/asyncio/windows_events.py'...\n",
            "Compiling '/usr/local/lib/python3.8/asyncio/windows_utils.py'...\n",
            "Compiling '/usr/local/lib/python3.8/asyncore.py'...\n",
            "Compiling '/usr/local/lib/python3.8/base64.py'...\n",
            "Compiling '/usr/local/lib/python3.8/bdb.py'...\n",
            "Compiling '/usr/local/lib/python3.8/binhex.py'...\n",
            "Listing '/usr/local/lib/python3.8/email'...\n",
            "Listing '/usr/local/lib/python3.8/email/mime'...\n",
            "Listing '/usr/local/lib/python3.8/encodings'...\n",
            "Compiling '/usr/local/lib/python3.8/bisect.py'...\n",
            "Compiling '/usr/local/lib/python3.8/bz2.py'...\n",
            "Compiling '/usr/local/lib/python3.8/cProfile.py'...\n",
            "Compiling '/usr/local/lib/python3.8/calendar.py'...\n",
            "Compiling '/usr/local/lib/python3.8/cgi.py'...\n",
            "Compiling '/usr/local/lib/python3.8/cgitb.py'...\n",
            "Compiling '/usr/local/lib/python3.8/chunk.py'...\n",
            "Compiling '/usr/local/lib/python3.8/cmd.py'...\n",
            "Listing '/usr/local/lib/python3.8/ensurepip'...\n",
            "Listing '/usr/local/lib/python3.8/ensurepip/_bundled'...\n",
            "Listing '/usr/local/lib/python3.8/html'...\n",
            "Compiling '/usr/local/lib/python3.8/code.py'...\n",
            "Compiling '/usr/local/lib/python3.8/codecs.py'...\n",
            "Compiling '/usr/local/lib/python3.8/codeop.py'...\n",
            "Compiling '/usr/local/lib/python3.8/collections/__init__.py'...\n",
            "Compiling '/usr/local/lib/python3.8/collections/abc.py'...\n",
            "Compiling '/usr/local/lib/python3.8/colorsys.py'...\n",
            "Compiling '/usr/local/lib/python3.8/compileall.py'...\n",
            "Compiling '/usr/local/lib/python3.8/concurrent/__init__.py'...\n",
            "Compiling '/usr/local/lib/python3.8/concurrent/futures/__init__.py'...\n",
            "Listing '/usr/local/lib/python3.8/http'...\n",
            "Compiling '/usr/local/lib/python3.8/concurrent/futures/_base.py'...\n",
            "Compiling '/usr/local/lib/python3.8/concurrent/futures/process.py'...\n",
            "Compiling '/usr/local/lib/python3.8/concurrent/futures/thread.py'...\n",
            "Compiling '/usr/local/lib/python3.8/configparser.py'...\n",
            "Compiling '/usr/local/lib/python3.8/contextlib.py'...\n",
            "Listing '/usr/local/lib/python3.8/idlelib'...\n",
            "Compiling '/usr/local/lib/python3.8/contextvars.py'...\n",
            "Compiling '/usr/local/lib/python3.8/copy.py'...\n",
            "Compiling '/usr/local/lib/python3.8/copyreg.py'...\n",
            "Compiling '/usr/local/lib/python3.8/crypt.py'...\n",
            "Compiling '/usr/local/lib/python3.8/csv.py'...\n",
            "Compiling '/usr/local/lib/python3.8/ctypes/__init__.py'...\n",
            "Compiling '/usr/local/lib/python3.8/ctypes/_aix.py'...\n",
            "Compiling '/usr/local/lib/python3.8/ctypes/_endian.py'...\n",
            "Compiling '/usr/local/lib/python3.8/ctypes/macholib/__init__.py'...\n",
            "Listing '/usr/local/lib/python3.8/idlelib/Icons'...\n",
            "Compiling '/usr/local/lib/python3.8/ctypes/macholib/dyld.py'...\n",
            "Compiling '/usr/local/lib/python3.8/ctypes/macholib/dylib.py'...\n",
            "Listing '/usr/local/lib/python3.8/idlelib/idle_test'...\n",
            "Compiling '/usr/local/lib/python3.8/ctypes/macholib/framework.py'...\n",
            "Compiling '/usr/local/lib/python3.8/ctypes/test/__init__.py'...\n",
            "Compiling '/usr/local/lib/python3.8/ctypes/test/__main__.py'...\n",
            "Compiling '/usr/local/lib/python3.8/ctypes/test/test_anon.py'...\n",
            "Compiling '/usr/local/lib/python3.8/ctypes/test/test_array_in_pointer.py'...\n",
            "Compiling '/usr/local/lib/python3.8/ctypes/test/test_arrays.py'...\n",
            "Compiling '/usr/local/lib/python3.8/ctypes/test/test_as_parameter.py'...\n",
            "Compiling '/usr/local/lib/python3.8/ctypes/test/test_bitfields.py'...\n",
            "Compiling '/usr/local/lib/python3.8/ctypes/test/test_buffers.py'...\n",
            "Compiling '/usr/local/lib/python3.8/ctypes/test/test_bytes.py'...\n",
            "Compiling '/usr/local/lib/python3.8/ctypes/test/test_byteswap.py'...\n",
            "Compiling '/usr/local/lib/python3.8/ctypes/test/test_callbacks.py'...\n",
            "Listing '/usr/local/lib/python3.8/importlib'...\n",
            "Listing '/usr/local/lib/python3.8/json'...\n",
            "Compiling '/usr/local/lib/python3.8/ctypes/test/test_cast.py'...\n",
            "Listing '/usr/local/lib/python3.8/lib2to3'...\n",
            "Compiling '/usr/local/lib/python3.8/ctypes/test/test_cfuncs.py'...\n",
            "Listing '/usr/local/lib/python3.8/lib2to3/fixes'...\n",
            "Compiling '/usr/local/lib/python3.8/ctypes/test/test_checkretval.py'...\n",
            "Compiling '/usr/local/lib/python3.8/ctypes/test/test_delattr.py'...\n",
            "Compiling '/usr/local/lib/python3.8/ctypes/test/test_errno.py'...\n",
            "Compiling '/usr/local/lib/python3.8/ctypes/test/test_find.py'...\n",
            "Compiling '/usr/local/lib/python3.8/ctypes/test/test_frombuffer.py'...\n",
            "Compiling '/usr/local/lib/python3.8/ctypes/test/test_funcptr.py'...\n",
            "Compiling '/usr/local/lib/python3.8/ctypes/test/test_functions.py'...\n",
            "Compiling '/usr/local/lib/python3.8/ctypes/test/test_incomplete.py'...\n",
            "Compiling '/usr/local/lib/python3.8/ctypes/test/test_init.py'...\n",
            "Compiling '/usr/local/lib/python3.8/ctypes/test/test_internals.py'...\n",
            "Compiling '/usr/local/lib/python3.8/ctypes/test/test_keeprefs.py'...\n",
            "Compiling '/usr/local/lib/python3.8/ctypes/test/test_libc.py'...\n",
            "Compiling '/usr/local/lib/python3.8/ctypes/test/test_loading.py'...\n",
            "Compiling '/usr/local/lib/python3.8/ctypes/test/test_macholib.py'...\n",
            "Compiling '/usr/local/lib/python3.8/ctypes/test/test_memfunctions.py'...\n",
            "Compiling '/usr/local/lib/python3.8/ctypes/test/test_numbers.py'...\n",
            "Compiling '/usr/local/lib/python3.8/ctypes/test/test_objects.py'...\n",
            "Compiling '/usr/local/lib/python3.8/ctypes/test/test_parameters.py'...\n",
            "Compiling '/usr/local/lib/python3.8/ctypes/test/test_pep3118.py'...\n",
            "Compiling '/usr/local/lib/python3.8/ctypes/test/test_pickling.py'...\n",
            "Compiling '/usr/local/lib/python3.8/ctypes/test/test_pointers.py'...\n",
            "Compiling '/usr/local/lib/python3.8/ctypes/test/test_prototypes.py'...\n",
            "Compiling '/usr/local/lib/python3.8/ctypes/test/test_python_api.py'...\n",
            "Compiling '/usr/local/lib/python3.8/ctypes/test/test_random_things.py'...\n",
            "Listing '/usr/local/lib/python3.8/lib2to3/pgen2'...\n",
            "Compiling '/usr/local/lib/python3.8/ctypes/test/test_refcounts.py'...\n",
            "Compiling '/usr/local/lib/python3.8/ctypes/test/test_repr.py'...\n",
            "Listing '/usr/local/lib/python3.8/lib2to3/tests'...\n",
            "Compiling '/usr/local/lib/python3.8/ctypes/test/test_returnfuncptrs.py'...\n",
            "Compiling '/usr/local/lib/python3.8/ctypes/test/test_simplesubclasses.py'...\n",
            "Compiling '/usr/local/lib/python3.8/ctypes/test/test_sizes.py'...\n",
            "Compiling '/usr/local/lib/python3.8/ctypes/test/test_slicing.py'...\n",
            "Compiling '/usr/local/lib/python3.8/ctypes/test/test_strings.py'...\n",
            "Compiling '/usr/local/lib/python3.8/ctypes/test/test_stringptr.py'...\n",
            "Compiling '/usr/local/lib/python3.8/ctypes/test/test_struct_fields.py'...\n",
            "Compiling '/usr/local/lib/python3.8/ctypes/test/test_structures.py'...\n",
            "Compiling '/usr/local/lib/python3.8/ctypes/test/test_unaligned_structures.py'...\n",
            "Compiling '/usr/local/lib/python3.8/ctypes/test/test_unicode.py'...\n",
            "Compiling '/usr/local/lib/python3.8/ctypes/test/test_values.py'...\n",
            "Compiling '/usr/local/lib/python3.8/ctypes/test/test_varsize_struct.py'...\n",
            "Compiling '/usr/local/lib/python3.8/ctypes/test/test_win32.py'...\n",
            "Compiling '/usr/local/lib/python3.8/ctypes/test/test_wintypes.py'...\n",
            "Listing '/usr/local/lib/python3.8/lib2to3/tests/data'...\n",
            "Listing '/usr/local/lib/python3.8/lib2to3/tests/data/fixers'...\n",
            "Listing '/usr/local/lib/python3.8/lib2to3/tests/data/fixers/myfixes'...\n",
            "Compiling '/usr/local/lib/python3.8/ctypes/util.py'...\n",
            "Compiling '/usr/local/lib/python3.8/ctypes/wintypes.py'...\n",
            "Compiling '/usr/local/lib/python3.8/curses/__init__.py'...\n",
            "Compiling '/usr/local/lib/python3.8/curses/ascii.py'...\n",
            "Listing '/usr/local/lib/python3.8/logging'...\n",
            "Listing '/usr/local/lib/python3.8/multiprocessing'...\n",
            "Listing '/usr/local/lib/python3.8/multiprocessing/dummy'...\n",
            "Compiling '/usr/local/lib/python3.8/curses/has_key.py'...\n",
            "Compiling '/usr/local/lib/python3.8/curses/panel.py'...\n",
            "Compiling '/usr/local/lib/python3.8/curses/textpad.py'...\n",
            "Compiling '/usr/local/lib/python3.8/dataclasses.py'...\n",
            "Compiling '/usr/local/lib/python3.8/datetime.py'...\n",
            "Compiling '/usr/local/lib/python3.8/dbm/__init__.py'...\n",
            "Compiling '/usr/local/lib/python3.8/dbm/dumb.py'...\n",
            "Compiling '/usr/local/lib/python3.8/dbm/gnu.py'...\n",
            "Compiling '/usr/local/lib/python3.8/dbm/ndbm.py'...\n",
            "Compiling '/usr/local/lib/python3.8/decimal.py'...\n",
            "Compiling '/usr/local/lib/python3.8/difflib.py'...\n",
            "Compiling '/usr/local/lib/python3.8/dis.py'...\n",
            "Compiling '/usr/local/lib/python3.8/distutils/__init__.py'...\n",
            "Compiling '/usr/local/lib/python3.8/distutils/_msvccompiler.py'...\n",
            "Compiling '/usr/local/lib/python3.8/distutils/archive_util.py'...\n",
            "Compiling '/usr/local/lib/python3.8/distutils/bcppcompiler.py'...\n",
            "Listing '/usr/local/lib/python3.8/pydoc_data'...\n",
            "Compiling '/usr/local/lib/python3.8/distutils/ccompiler.py'...\n",
            "Compiling '/usr/local/lib/python3.8/distutils/cmd.py'...\n",
            "Compiling '/usr/local/lib/python3.8/distutils/command/__init__.py'...\n",
            "Listing '/usr/local/lib/python3.8/site-packages'...\n",
            "Listing '/usr/local/lib/python3.8/sqlite3'...\n",
            "Compiling '/usr/local/lib/python3.8/distutils/command/bdist.py'...\n",
            "Listing '/usr/local/lib/python3.8/sqlite3/test'...\n",
            "Listing '/usr/local/lib/python3.8/test'...\n",
            "Compiling '/usr/local/lib/python3.8/distutils/command/bdist_dumb.py'...\n",
            "Compiling '/usr/local/lib/python3.8/distutils/command/bdist_msi.py'...\n",
            "Compiling '/usr/local/lib/python3.8/distutils/command/bdist_rpm.py'...\n",
            "Compiling '/usr/local/lib/python3.8/distutils/command/bdist_wininst.py'...\n",
            "Compiling '/usr/local/lib/python3.8/distutils/command/build.py'...\n",
            "Compiling '/usr/local/lib/python3.8/distutils/command/build_clib.py'...\n",
            "Compiling '/usr/local/lib/python3.8/distutils/command/build_ext.py'...\n",
            "Compiling '/usr/local/lib/python3.8/distutils/command/build_py.py'...\n",
            "Compiling '/usr/local/lib/python3.8/distutils/command/build_scripts.py'...\n",
            "Compiling '/usr/local/lib/python3.8/distutils/command/check.py'...\n",
            "Compiling '/usr/local/lib/python3.8/distutils/command/clean.py'...\n",
            "Listing '/usr/local/lib/python3.8/test/audiodata'...\n",
            "Compiling '/usr/local/lib/python3.8/distutils/command/config.py'...\n",
            "Compiling '/usr/local/lib/python3.8/distutils/command/install.py'...\n",
            "Compiling '/usr/local/lib/python3.8/distutils/command/install_egg_info.py'...\n",
            "Compiling '/usr/local/lib/python3.8/distutils/command/install_data.py'...\n",
            "Listing '/usr/local/lib/python3.8/test/capath'...\n",
            "Compiling '/usr/local/lib/python3.8/distutils/command/install_headers.py'...\n",
            "Compiling '/usr/local/lib/python3.8/distutils/command/install_lib.py'...\n",
            "Listing '/usr/local/lib/python3.8/test/cjkencodings'...\n",
            "Compiling '/usr/local/lib/python3.8/distutils/command/register.py'...\n",
            "Compiling '/usr/local/lib/python3.8/distutils/command/install_scripts.py'...\n",
            "Compiling '/usr/local/lib/python3.8/distutils/command/sdist.py'...\n",
            "Compiling '/usr/local/lib/python3.8/distutils/command/upload.py'...\n",
            "Compiling '/usr/local/lib/python3.8/distutils/config.py'...\n",
            "Compiling '/usr/local/lib/python3.8/distutils/core.py'...\n",
            "Compiling '/usr/local/lib/python3.8/distutils/cygwinccompiler.py'...\n",
            "Compiling '/usr/local/lib/python3.8/distutils/debug.py'...\n",
            "Compiling '/usr/local/lib/python3.8/distutils/dep_util.py'...\n",
            "Compiling '/usr/local/lib/python3.8/distutils/dir_util.py'...\n",
            "Compiling '/usr/local/lib/python3.8/distutils/dist.py'...\n",
            "Compiling '/usr/local/lib/python3.8/distutils/errors.py'...\n",
            "Compiling '/usr/local/lib/python3.8/distutils/extension.py'...\n",
            "Compiling '/usr/local/lib/python3.8/distutils/fancy_getopt.py'...\n",
            "Compiling '/usr/local/lib/python3.8/distutils/file_util.py'...\n",
            "Compiling '/usr/local/lib/python3.8/distutils/filelist.py'...\n",
            "Compiling '/usr/local/lib/python3.8/distutils/log.py'...\n",
            "Compiling '/usr/local/lib/python3.8/distutils/msvc9compiler.py'...\n",
            "Compiling '/usr/local/lib/python3.8/distutils/msvccompiler.py'...\n",
            "Compiling '/usr/local/lib/python3.8/distutils/spawn.py'...\n",
            "Compiling '/usr/local/lib/python3.8/distutils/sysconfig.py'...\n",
            "Compiling '/usr/local/lib/python3.8/distutils/tests/__init__.py'...\n",
            "Compiling '/usr/local/lib/python3.8/distutils/tests/support.py'...\n",
            "Compiling '/usr/local/lib/python3.8/distutils/tests/test_archive_util.py'...\n",
            "Compiling '/usr/local/lib/python3.8/distutils/tests/test_bdist.py'...\n",
            "Compiling '/usr/local/lib/python3.8/distutils/tests/test_bdist_dumb.py'...\n",
            "Compiling '/usr/local/lib/python3.8/distutils/tests/test_bdist_msi.py'...\n",
            "Compiling '/usr/local/lib/python3.8/distutils/tests/test_bdist_rpm.py'...\n",
            "Listing '/usr/local/lib/python3.8/test/data'...\n",
            "Compiling '/usr/local/lib/python3.8/distutils/tests/test_bdist_wininst.py'...\n",
            "Compiling '/usr/local/lib/python3.8/distutils/tests/test_build.py'...\n",
            "Compiling '/usr/local/lib/python3.8/distutils/tests/test_build_clib.py'...\n",
            "Compiling '/usr/local/lib/python3.8/distutils/tests/test_build_ext.py'...\n",
            "Compiling '/usr/local/lib/python3.8/distutils/tests/test_build_py.py'...\n",
            "Compiling '/usr/local/lib/python3.8/distutils/tests/test_build_scripts.py'...\n",
            "Compiling '/usr/local/lib/python3.8/distutils/tests/test_check.py'...\n",
            "Compiling '/usr/local/lib/python3.8/distutils/tests/test_clean.py'...\n",
            "Compiling '/usr/local/lib/python3.8/distutils/tests/test_cmd.py'...\n",
            "Compiling '/usr/local/lib/python3.8/distutils/tests/test_config.py'...\n",
            "Compiling '/usr/local/lib/python3.8/distutils/tests/test_config_cmd.py'...\n",
            "Compiling '/usr/local/lib/python3.8/distutils/tests/test_core.py'...\n",
            "Compiling '/usr/local/lib/python3.8/distutils/tests/test_cygwinccompiler.py'...\n",
            "Compiling '/usr/local/lib/python3.8/distutils/tests/test_dep_util.py'...\n",
            "Compiling '/usr/local/lib/python3.8/distutils/tests/test_dir_util.py'...\n",
            "Compiling '/usr/local/lib/python3.8/distutils/tests/test_dist.py'...\n",
            "Compiling '/usr/local/lib/python3.8/distutils/tests/test_extension.py'...\n",
            "Listing '/usr/local/lib/python3.8/test/decimaltestdata'...\n",
            "Compiling '/usr/local/lib/python3.8/distutils/tests/test_file_util.py'...\n",
            "Compiling '/usr/local/lib/python3.8/distutils/tests/test_filelist.py'...\n",
            "Compiling '/usr/local/lib/python3.8/distutils/tests/test_install.py'...\n",
            "Compiling '/usr/local/lib/python3.8/distutils/tests/test_install_data.py'...\n",
            "Compiling '/usr/local/lib/python3.8/distutils/tests/test_install_headers.py'...\n",
            "Compiling '/usr/local/lib/python3.8/distutils/tests/test_install_lib.py'...\n",
            "Compiling '/usr/local/lib/python3.8/distutils/tests/test_install_scripts.py'...\n",
            "Compiling '/usr/local/lib/python3.8/distutils/tests/test_log.py'...\n",
            "Compiling '/usr/local/lib/python3.8/distutils/tests/test_msvc9compiler.py'...\n",
            "Compiling '/usr/local/lib/python3.8/distutils/tests/test_msvccompiler.py'...\n",
            "Compiling '/usr/local/lib/python3.8/distutils/tests/test_register.py'...\n",
            "Compiling '/usr/local/lib/python3.8/distutils/tests/test_sdist.py'...\n",
            "Compiling '/usr/local/lib/python3.8/distutils/tests/test_spawn.py'...\n",
            "Compiling '/usr/local/lib/python3.8/distutils/tests/test_sysconfig.py'...\n",
            "Compiling '/usr/local/lib/python3.8/distutils/tests/test_text_file.py'...\n",
            "Compiling '/usr/local/lib/python3.8/distutils/tests/test_unixccompiler.py'...\n",
            "Compiling '/usr/local/lib/python3.8/distutils/tests/test_upload.py'...\n",
            "Compiling '/usr/local/lib/python3.8/distutils/tests/test_util.py'...\n",
            "Compiling '/usr/local/lib/python3.8/distutils/tests/test_version.py'...\n",
            "Compiling '/usr/local/lib/python3.8/distutils/tests/test_versionpredicate.py'...\n",
            "Compiling '/usr/local/lib/python3.8/distutils/text_file.py'...\n",
            "Compiling '/usr/local/lib/python3.8/distutils/unixccompiler.py'...\n",
            "Compiling '/usr/local/lib/python3.8/distutils/version.py'...\n",
            "Compiling '/usr/local/lib/python3.8/distutils/util.py'...\n",
            "Compiling '/usr/local/lib/python3.8/doctest.py'...\n",
            "Compiling '/usr/local/lib/python3.8/distutils/versionpredicate.py'...\n",
            "Compiling '/usr/local/lib/python3.8/dummy_threading.py'...\n",
            "Compiling '/usr/local/lib/python3.8/email/__init__.py'...\n",
            "Compiling '/usr/local/lib/python3.8/email/_encoded_words.py'...\n",
            "Compiling '/usr/local/lib/python3.8/email/_header_value_parser.py'...\n",
            "Compiling '/usr/local/lib/python3.8/email/_parseaddr.py'...\n",
            "Compiling '/usr/local/lib/python3.8/email/_policybase.py'...\n",
            "Compiling '/usr/local/lib/python3.8/email/base64mime.py'...\n",
            "Compiling '/usr/local/lib/python3.8/email/charset.py'...\n",
            "Compiling '/usr/local/lib/python3.8/email/contentmanager.py'...\n",
            "Compiling '/usr/local/lib/python3.8/email/encoders.py'...\n",
            "Compiling '/usr/local/lib/python3.8/email/errors.py'...\n",
            "Listing '/usr/local/lib/python3.8/test/dtracedata'...\n",
            "Compiling '/usr/local/lib/python3.8/email/feedparser.py'...\n",
            "Compiling '/usr/local/lib/python3.8/email/generator.py'...\n",
            "Compiling '/usr/local/lib/python3.8/email/header.py'...\n",
            "Compiling '/usr/local/lib/python3.8/email/headerregistry.py'...\n",
            "Listing '/usr/local/lib/python3.8/test/eintrdata'...\n",
            "Listing '/usr/local/lib/python3.8/test/encoded_modules'...\n",
            "Listing '/usr/local/lib/python3.8/test/imghdrdata'...\n",
            "Listing '/usr/local/lib/python3.8/test/libregrtest'...\n",
            "Compiling '/usr/local/lib/python3.8/email/iterators.py'...\n",
            "Compiling '/usr/local/lib/python3.8/email/message.py'...\n",
            "Compiling '/usr/local/lib/python3.8/email/mime/__init__.py'...\n",
            "Compiling '/usr/local/lib/python3.8/email/mime/application.py'...\n",
            "Compiling '/usr/local/lib/python3.8/email/mime/audio.py'...\n",
            "Compiling '/usr/local/lib/python3.8/email/mime/base.py'...\n",
            "Compiling '/usr/local/lib/python3.8/email/mime/image.py'...\n",
            "Compiling '/usr/local/lib/python3.8/email/mime/message.py'...\n",
            "Compiling '/usr/local/lib/python3.8/email/mime/multipart.py'...\n",
            "Compiling '/usr/local/lib/python3.8/email/mime/nonmultipart.py'...\n",
            "Compiling '/usr/local/lib/python3.8/email/mime/text.py'...\n",
            "Compiling '/usr/local/lib/python3.8/email/parser.py'...\n",
            "Compiling '/usr/local/lib/python3.8/email/policy.py'...\n",
            "Compiling '/usr/local/lib/python3.8/email/quoprimime.py'...\n",
            "Compiling '/usr/local/lib/python3.8/email/utils.py'...\n",
            "Compiling '/usr/local/lib/python3.8/encodings/__init__.py'...\n",
            "Compiling '/usr/local/lib/python3.8/encodings/aliases.py'...\n",
            "Compiling '/usr/local/lib/python3.8/encodings/ascii.py'...\n",
            "Compiling '/usr/local/lib/python3.8/encodings/base64_codec.py'...\n",
            "Compiling '/usr/local/lib/python3.8/encodings/big5.py'...\n",
            "Compiling '/usr/local/lib/python3.8/encodings/big5hkscs.py'...\n",
            "Compiling '/usr/local/lib/python3.8/encodings/bz2_codec.py'...\n",
            "Compiling '/usr/local/lib/python3.8/encodings/charmap.py'...\n",
            "Compiling '/usr/local/lib/python3.8/encodings/cp037.py'...\n",
            "Compiling '/usr/local/lib/python3.8/encodings/cp1006.py'...\n",
            "Compiling '/usr/local/lib/python3.8/encodings/cp1125.py'...\n",
            "Compiling '/usr/local/lib/python3.8/encodings/cp1026.py'...\n",
            "Compiling '/usr/local/lib/python3.8/encodings/cp1140.py'...\n",
            "Compiling '/usr/local/lib/python3.8/encodings/cp1250.py'...\n",
            "Compiling '/usr/local/lib/python3.8/encodings/cp1251.py'...\n",
            "Compiling '/usr/local/lib/python3.8/encodings/cp1252.py'...\n",
            "Compiling '/usr/local/lib/python3.8/encodings/cp1253.py'...\n",
            "Compiling '/usr/local/lib/python3.8/encodings/cp1254.py'...\n",
            "Compiling '/usr/local/lib/python3.8/encodings/cp1255.py'...\n",
            "Compiling '/usr/local/lib/python3.8/encodings/cp1256.py'...\n",
            "Compiling '/usr/local/lib/python3.8/encodings/cp1257.py'...\n",
            "Compiling '/usr/local/lib/python3.8/encodings/cp1258.py'...\n",
            "Compiling '/usr/local/lib/python3.8/encodings/cp273.py'...\n",
            "Compiling '/usr/local/lib/python3.8/encodings/cp424.py'...\n",
            "Compiling '/usr/local/lib/python3.8/encodings/cp437.py'...\n",
            "Compiling '/usr/local/lib/python3.8/encodings/cp500.py'...\n",
            "Compiling '/usr/local/lib/python3.8/encodings/cp720.py'...\n",
            "Listing '/usr/local/lib/python3.8/test/sndhdrdata'...\n",
            "Compiling '/usr/local/lib/python3.8/encodings/cp737.py'...\n",
            "Compiling '/usr/local/lib/python3.8/encodings/cp850.py'...\n",
            "Compiling '/usr/local/lib/python3.8/encodings/cp775.py'...\n",
            "Compiling '/usr/local/lib/python3.8/encodings/cp852.py'...\n",
            "Compiling '/usr/local/lib/python3.8/encodings/cp855.py'...\n",
            "Compiling '/usr/local/lib/python3.8/encodings/cp856.py'...\n",
            "Compiling '/usr/local/lib/python3.8/encodings/cp857.py'...\n",
            "Compiling '/usr/local/lib/python3.8/encodings/cp858.py'...\n",
            "Compiling '/usr/local/lib/python3.8/encodings/cp860.py'...\n",
            "Compiling '/usr/local/lib/python3.8/encodings/cp861.py'...\n",
            "Compiling '/usr/local/lib/python3.8/encodings/cp862.py'...\n",
            "Compiling '/usr/local/lib/python3.8/encodings/cp863.py'...\n",
            "Compiling '/usr/local/lib/python3.8/encodings/cp864.py'...\n",
            "Compiling '/usr/local/lib/python3.8/encodings/cp865.py'...\n",
            "Compiling '/usr/local/lib/python3.8/encodings/cp866.py'...\n",
            "Compiling '/usr/local/lib/python3.8/encodings/cp869.py'...\n",
            "Compiling '/usr/local/lib/python3.8/encodings/cp874.py'...\n",
            "Compiling '/usr/local/lib/python3.8/encodings/cp932.py'...\n",
            "Compiling '/usr/local/lib/python3.8/encodings/cp875.py'...\n",
            "Compiling '/usr/local/lib/python3.8/encodings/cp949.py'...\n",
            "Listing '/usr/local/lib/python3.8/test/subprocessdata'...\n",
            "Compiling '/usr/local/lib/python3.8/encodings/cp950.py'...\n",
            "Compiling '/usr/local/lib/python3.8/encodings/euc_jis_2004.py'...\n",
            "Listing '/usr/local/lib/python3.8/test/support'...\n",
            "Compiling '/usr/local/lib/python3.8/encodings/euc_jp.py'...\n",
            "Compiling '/usr/local/lib/python3.8/encodings/euc_jisx0213.py'...\n",
            "Compiling '/usr/local/lib/python3.8/encodings/euc_kr.py'...\n",
            "Compiling '/usr/local/lib/python3.8/encodings/gb18030.py'...\n",
            "Compiling '/usr/local/lib/python3.8/encodings/gb2312.py'...\n",
            "Compiling '/usr/local/lib/python3.8/encodings/gbk.py'...\n",
            "Compiling '/usr/local/lib/python3.8/encodings/hex_codec.py'...\n",
            "Compiling '/usr/local/lib/python3.8/encodings/hp_roman8.py'...\n",
            "Compiling '/usr/local/lib/python3.8/encodings/hz.py'...\n",
            "Compiling '/usr/local/lib/python3.8/encodings/idna.py'...\n",
            "Compiling '/usr/local/lib/python3.8/encodings/iso2022_jp.py'...\n",
            "Compiling '/usr/local/lib/python3.8/encodings/iso2022_jp_1.py'...\n",
            "Compiling '/usr/local/lib/python3.8/encodings/iso2022_jp_2.py'...\n",
            "Compiling '/usr/local/lib/python3.8/encodings/iso2022_jp_2004.py'...\n",
            "Compiling '/usr/local/lib/python3.8/encodings/iso2022_jp_3.py'...\n",
            "Compiling '/usr/local/lib/python3.8/encodings/iso2022_jp_ext.py'...\n",
            "Listing '/usr/local/lib/python3.8/test/test_asyncio'...\n",
            "Compiling '/usr/local/lib/python3.8/encodings/iso2022_kr.py'...\n",
            "Compiling '/usr/local/lib/python3.8/encodings/iso8859_1.py'...\n",
            "Compiling '/usr/local/lib/python3.8/encodings/iso8859_10.py'...\n",
            "Compiling '/usr/local/lib/python3.8/encodings/iso8859_11.py'...\n",
            "Compiling '/usr/local/lib/python3.8/encodings/iso8859_13.py'...\n",
            "Compiling '/usr/local/lib/python3.8/encodings/iso8859_14.py'...\n",
            "Compiling '/usr/local/lib/python3.8/encodings/iso8859_15.py'...\n",
            "Compiling '/usr/local/lib/python3.8/encodings/iso8859_16.py'...\n",
            "Compiling '/usr/local/lib/python3.8/encodings/iso8859_2.py'...\n",
            "Compiling '/usr/local/lib/python3.8/encodings/iso8859_3.py'...\n",
            "Compiling '/usr/local/lib/python3.8/encodings/iso8859_4.py'...\n",
            "Compiling '/usr/local/lib/python3.8/encodings/iso8859_5.py'...\n",
            "Compiling '/usr/local/lib/python3.8/encodings/iso8859_6.py'...\n",
            "Compiling '/usr/local/lib/python3.8/encodings/iso8859_7.py'...\n",
            "Compiling '/usr/local/lib/python3.8/encodings/iso8859_8.py'...\n",
            "Compiling '/usr/local/lib/python3.8/encodings/iso8859_9.py'...\n",
            "Compiling '/usr/local/lib/python3.8/encodings/johab.py'...\n",
            "Compiling '/usr/local/lib/python3.8/encodings/koi8_r.py'...\n",
            "Compiling '/usr/local/lib/python3.8/encodings/koi8_t.py'...\n",
            "Compiling '/usr/local/lib/python3.8/encodings/koi8_u.py'...\n",
            "Compiling '/usr/local/lib/python3.8/encodings/kz1048.py'...\n",
            "Compiling '/usr/local/lib/python3.8/encodings/latin_1.py'...\n",
            "Compiling '/usr/local/lib/python3.8/encodings/mac_arabic.py'...\n",
            "Compiling '/usr/local/lib/python3.8/encodings/mac_centeuro.py'...\n",
            "Compiling '/usr/local/lib/python3.8/encodings/mac_croatian.py'...\n",
            "Compiling '/usr/local/lib/python3.8/encodings/mac_cyrillic.py'...\n",
            "Compiling '/usr/local/lib/python3.8/encodings/mac_farsi.py'...\n",
            "Compiling '/usr/local/lib/python3.8/encodings/mac_greek.py'...\n",
            "Compiling '/usr/local/lib/python3.8/encodings/mac_iceland.py'...\n",
            "Compiling '/usr/local/lib/python3.8/encodings/mac_latin2.py'...\n",
            "Compiling '/usr/local/lib/python3.8/encodings/mac_roman.py'...\n",
            "Compiling '/usr/local/lib/python3.8/encodings/mac_romanian.py'...\n",
            "Compiling '/usr/local/lib/python3.8/encodings/mbcs.py'...\n",
            "Compiling '/usr/local/lib/python3.8/encodings/mac_turkish.py'...\n",
            "Compiling '/usr/local/lib/python3.8/encodings/oem.py'...\n",
            "Compiling '/usr/local/lib/python3.8/encodings/palmos.py'...\n",
            "Compiling '/usr/local/lib/python3.8/encodings/ptcp154.py'...\n",
            "Compiling '/usr/local/lib/python3.8/encodings/punycode.py'...\n",
            "Compiling '/usr/local/lib/python3.8/encodings/quopri_codec.py'...\n",
            "Compiling '/usr/local/lib/python3.8/encodings/raw_unicode_escape.py'...\n",
            "Compiling '/usr/local/lib/python3.8/encodings/rot_13.py'...\n",
            "Compiling '/usr/local/lib/python3.8/encodings/shift_jis.py'...\n",
            "Compiling '/usr/local/lib/python3.8/encodings/shift_jis_2004.py'...\n",
            "Compiling '/usr/local/lib/python3.8/encodings/shift_jisx0213.py'...\n",
            "Compiling '/usr/local/lib/python3.8/encodings/tis_620.py'...\n",
            "Compiling '/usr/local/lib/python3.8/encodings/undefined.py'...\n",
            "Compiling '/usr/local/lib/python3.8/encodings/unicode_escape.py'...\n",
            "Compiling '/usr/local/lib/python3.8/encodings/utf_16.py'...\n",
            "Compiling '/usr/local/lib/python3.8/encodings/utf_16_be.py'...\n",
            "Compiling '/usr/local/lib/python3.8/encodings/utf_16_le.py'...\n",
            "Compiling '/usr/local/lib/python3.8/encodings/utf_32.py'...\n",
            "Compiling '/usr/local/lib/python3.8/encodings/utf_32_be.py'...\n",
            "Compiling '/usr/local/lib/python3.8/encodings/utf_32_le.py'...\n",
            "Compiling '/usr/local/lib/python3.8/encodings/utf_7.py'...\n",
            "Compiling '/usr/local/lib/python3.8/encodings/utf_8.py'...\n",
            "Compiling '/usr/local/lib/python3.8/encodings/utf_8_sig.py'...\n",
            "Compiling '/usr/local/lib/python3.8/encodings/uu_codec.py'...\n",
            "Compiling '/usr/local/lib/python3.8/encodings/zlib_codec.py'...\n",
            "Compiling '/usr/local/lib/python3.8/ensurepip/__init__.py'...\n",
            "Compiling '/usr/local/lib/python3.8/ensurepip/__main__.py'...\n",
            "Compiling '/usr/local/lib/python3.8/ensurepip/_uninstall.py'...\n",
            "Compiling '/usr/local/lib/python3.8/enum.py'...\n",
            "Compiling '/usr/local/lib/python3.8/filecmp.py'...\n",
            "Compiling '/usr/local/lib/python3.8/fileinput.py'...\n",
            "Compiling '/usr/local/lib/python3.8/fnmatch.py'...\n",
            "Compiling '/usr/local/lib/python3.8/formatter.py'...\n",
            "Compiling '/usr/local/lib/python3.8/fractions.py'...\n",
            "Compiling '/usr/local/lib/python3.8/ftplib.py'...\n",
            "Compiling '/usr/local/lib/python3.8/functools.py'...\n",
            "Listing '/usr/local/lib/python3.8/test/test_email'...\n",
            "Listing '/usr/local/lib/python3.8/test/test_email/data'...\n",
            "Compiling '/usr/local/lib/python3.8/genericpath.py'...\n",
            "Compiling '/usr/local/lib/python3.8/getopt.py'...\n",
            "Compiling '/usr/local/lib/python3.8/getpass.py'...\n",
            "Compiling '/usr/local/lib/python3.8/gettext.py'...\n",
            "Compiling '/usr/local/lib/python3.8/glob.py'...\n",
            "Listing '/usr/local/lib/python3.8/test/test_import'...\n",
            "Compiling '/usr/local/lib/python3.8/gzip.py'...\n",
            "Compiling '/usr/local/lib/python3.8/hashlib.py'...\n",
            "Compiling '/usr/local/lib/python3.8/heapq.py'...\n",
            "Compiling '/usr/local/lib/python3.8/hmac.py'...\n",
            "Compiling '/usr/local/lib/python3.8/html/__init__.py'...\n",
            "Compiling '/usr/local/lib/python3.8/html/entities.py'...\n",
            "Compiling '/usr/local/lib/python3.8/html/parser.py'...\n",
            "Listing '/usr/local/lib/python3.8/test/test_import/data'...\n",
            "Listing '/usr/local/lib/python3.8/test/test_import/data/circular_imports'...\n",
            "Listing '/usr/local/lib/python3.8/test/test_import/data/circular_imports/subpkg'...\n",
            "Compiling '/usr/local/lib/python3.8/http/__init__.py'...\n",
            "Compiling '/usr/local/lib/python3.8/http/client.py'...\n",
            "Listing '/usr/local/lib/python3.8/test/test_import/data/package'...\n",
            "Listing '/usr/local/lib/python3.8/test/test_import/data/package2'...\n",
            "Listing '/usr/local/lib/python3.8/test/test_importlib'...\n",
            "Compiling '/usr/local/lib/python3.8/http/cookiejar.py'...\n",
            "Listing '/usr/local/lib/python3.8/test/test_importlib/builtin'...\n",
            "Listing '/usr/local/lib/python3.8/test/test_importlib/data'...\n",
            "Listing '/usr/local/lib/python3.8/test/test_importlib/data01'...\n",
            "Compiling '/usr/local/lib/python3.8/http/cookies.py'...\n",
            "Listing '/usr/local/lib/python3.8/test/test_importlib/data01/subdirectory'...\n",
            "Listing '/usr/local/lib/python3.8/test/test_importlib/data02'...\n",
            "Compiling '/usr/local/lib/python3.8/http/server.py'...\n",
            "Listing '/usr/local/lib/python3.8/test/test_importlib/data02/one'...\n",
            "Listing '/usr/local/lib/python3.8/test/test_importlib/data02/two'...\n",
            "Listing '/usr/local/lib/python3.8/test/test_importlib/data03'...\n",
            "Listing '/usr/local/lib/python3.8/test/test_importlib/data03/namespace'...\n",
            "Listing '/usr/local/lib/python3.8/test/test_importlib/data03/namespace/portion1'...\n",
            "Listing '/usr/local/lib/python3.8/test/test_importlib/data03/namespace/portion2'...\n",
            "Listing '/usr/local/lib/python3.8/test/test_importlib/extension'...\n",
            "Listing '/usr/local/lib/python3.8/test/test_importlib/frozen'...\n",
            "Listing '/usr/local/lib/python3.8/test/test_importlib/import_'...\n",
            "Compiling '/usr/local/lib/python3.8/idlelib/__init__.py'...\n",
            "Compiling '/usr/local/lib/python3.8/idlelib/__main__.py'...\n",
            "Compiling '/usr/local/lib/python3.8/idlelib/autocomplete.py'...\n",
            "Compiling '/usr/local/lib/python3.8/idlelib/autocomplete_w.py'...\n",
            "Compiling '/usr/local/lib/python3.8/idlelib/autoexpand.py'...\n",
            "Compiling '/usr/local/lib/python3.8/idlelib/browser.py'...\n",
            "Compiling '/usr/local/lib/python3.8/idlelib/calltip.py'...\n",
            "Compiling '/usr/local/lib/python3.8/idlelib/calltip_w.py'...\n",
            "Listing '/usr/local/lib/python3.8/test/test_importlib/namespace_pkgs'...\n",
            "Compiling '/usr/local/lib/python3.8/idlelib/codecontext.py'...\n",
            "Compiling '/usr/local/lib/python3.8/idlelib/colorizer.py'...\n",
            "Compiling '/usr/local/lib/python3.8/idlelib/config.py'...\n",
            "Compiling '/usr/local/lib/python3.8/idlelib/config_key.py'...\n",
            "Compiling '/usr/local/lib/python3.8/idlelib/configdialog.py'...\n",
            "Compiling '/usr/local/lib/python3.8/idlelib/debugger.py'...\n",
            "Compiling '/usr/local/lib/python3.8/idlelib/debugger_r.py'...\n",
            "Compiling '/usr/local/lib/python3.8/idlelib/debugobj.py'...\n",
            "Compiling '/usr/local/lib/python3.8/idlelib/debugobj_r.py'...\n",
            "Compiling '/usr/local/lib/python3.8/idlelib/delegator.py'...\n",
            "Compiling '/usr/local/lib/python3.8/idlelib/dynoption.py'...\n",
            "Compiling '/usr/local/lib/python3.8/idlelib/editor.py'...\n",
            "Compiling '/usr/local/lib/python3.8/idlelib/filelist.py'...\n",
            "Compiling '/usr/local/lib/python3.8/idlelib/format.py'...\n",
            "Compiling '/usr/local/lib/python3.8/idlelib/grep.py'...\n",
            "Compiling '/usr/local/lib/python3.8/idlelib/help.py'...\n",
            "Compiling '/usr/local/lib/python3.8/idlelib/help_about.py'...\n",
            "Compiling '/usr/local/lib/python3.8/idlelib/history.py'...\n",
            "Compiling '/usr/local/lib/python3.8/idlelib/hyperparser.py'...\n",
            "Compiling '/usr/local/lib/python3.8/idlelib/idle.py'...\n",
            "Compiling '/usr/local/lib/python3.8/idlelib/idle_test/__init__.py'...\n",
            "Compiling '/usr/local/lib/python3.8/idlelib/idle_test/htest.py'...\n",
            "Compiling '/usr/local/lib/python3.8/idlelib/idle_test/mock_idle.py'...\n",
            "Listing '/usr/local/lib/python3.8/test/test_importlib/namespace_pkgs/both_portions'...\n",
            "Listing '/usr/local/lib/python3.8/test/test_importlib/namespace_pkgs/both_portions/foo'...\n",
            "Compiling '/usr/local/lib/python3.8/idlelib/idle_test/mock_tk.py'...\n",
            "Listing '/usr/local/lib/python3.8/test/test_importlib/namespace_pkgs/module_and_namespace_package'...\n",
            "Listing '/usr/local/lib/python3.8/test/test_importlib/namespace_pkgs/module_and_namespace_package/a_test'...\n",
            "Listing '/usr/local/lib/python3.8/test/test_importlib/namespace_pkgs/not_a_namespace_pkg'...\n",
            "Listing '/usr/local/lib/python3.8/test/test_importlib/namespace_pkgs/not_a_namespace_pkg/foo'...\n",
            "Listing '/usr/local/lib/python3.8/test/test_importlib/namespace_pkgs/portion1'...\n",
            "Listing '/usr/local/lib/python3.8/test/test_importlib/namespace_pkgs/portion1/foo'...\n",
            "Listing '/usr/local/lib/python3.8/test/test_importlib/namespace_pkgs/portion2'...\n",
            "Listing '/usr/local/lib/python3.8/test/test_importlib/namespace_pkgs/portion2/foo'...\n",
            "Listing '/usr/local/lib/python3.8/test/test_importlib/namespace_pkgs/project1'...\n",
            "Listing '/usr/local/lib/python3.8/test/test_importlib/namespace_pkgs/project1/parent'...\n",
            "Listing '/usr/local/lib/python3.8/test/test_importlib/namespace_pkgs/project1/parent/child'...\n",
            "Listing '/usr/local/lib/python3.8/test/test_importlib/namespace_pkgs/project2'...\n",
            "Compiling '/usr/local/lib/python3.8/idlelib/idle_test/template.py'...\n",
            "Compiling '/usr/local/lib/python3.8/idlelib/idle_test/test_autocomplete.py'...\n",
            "Listing '/usr/local/lib/python3.8/test/test_importlib/namespace_pkgs/project2/parent'...\n",
            "Compiling '/usr/local/lib/python3.8/idlelib/idle_test/test_autocomplete_w.py'...\n",
            "Compiling '/usr/local/lib/python3.8/idlelib/idle_test/test_autoexpand.py'...\n",
            "Listing '/usr/local/lib/python3.8/test/test_importlib/namespace_pkgs/project2/parent/child'...\n",
            "Listing '/usr/local/lib/python3.8/test/test_importlib/namespace_pkgs/project3'...\n",
            "Listing '/usr/local/lib/python3.8/test/test_importlib/namespace_pkgs/project3/parent'...\n",
            "Compiling '/usr/local/lib/python3.8/idlelib/idle_test/test_browser.py'...\n",
            "Compiling '/usr/local/lib/python3.8/idlelib/idle_test/test_calltip.py'...\n",
            "Compiling '/usr/local/lib/python3.8/idlelib/idle_test/test_calltip_w.py'...\n",
            "Compiling '/usr/local/lib/python3.8/idlelib/idle_test/test_codecontext.py'...\n",
            "Compiling '/usr/local/lib/python3.8/idlelib/idle_test/test_colorizer.py'...\n",
            "Compiling '/usr/local/lib/python3.8/idlelib/idle_test/test_config.py'...\n",
            "Compiling '/usr/local/lib/python3.8/idlelib/idle_test/test_config_key.py'...\n",
            "Listing '/usr/local/lib/python3.8/test/test_importlib/namespace_pkgs/project3/parent/child'...\n",
            "Compiling '/usr/local/lib/python3.8/idlelib/idle_test/test_configdialog.py'...\n",
            "Listing '/usr/local/lib/python3.8/test/test_importlib/source'...\n",
            "Compiling '/usr/local/lib/python3.8/idlelib/idle_test/test_debugger.py'...\n",
            "Listing '/usr/local/lib/python3.8/test/test_importlib/zipdata01'...\n",
            "Listing '/usr/local/lib/python3.8/test/test_importlib/zipdata02'...\n",
            "Listing '/usr/local/lib/python3.8/test/test_json'...\n",
            "Compiling '/usr/local/lib/python3.8/idlelib/idle_test/test_debugobj.py'...\n",
            "Compiling '/usr/local/lib/python3.8/idlelib/idle_test/test_debugger_r.py'...\n",
            "Compiling '/usr/local/lib/python3.8/idlelib/idle_test/test_debugobj_r.py'...\n",
            "Compiling '/usr/local/lib/python3.8/idlelib/idle_test/test_delegator.py'...\n",
            "Compiling '/usr/local/lib/python3.8/idlelib/idle_test/test_editmenu.py'...\n",
            "Compiling '/usr/local/lib/python3.8/idlelib/idle_test/test_editor.py'...\n",
            "Compiling '/usr/local/lib/python3.8/idlelib/idle_test/test_filelist.py'...\n",
            "Compiling '/usr/local/lib/python3.8/idlelib/idle_test/test_format.py'...\n",
            "Compiling '/usr/local/lib/python3.8/idlelib/idle_test/test_grep.py'...\n",
            "Compiling '/usr/local/lib/python3.8/idlelib/idle_test/test_help.py'...\n",
            "Compiling '/usr/local/lib/python3.8/idlelib/idle_test/test_help_about.py'...\n",
            "Compiling '/usr/local/lib/python3.8/idlelib/idle_test/test_history.py'...\n",
            "Compiling '/usr/local/lib/python3.8/idlelib/idle_test/test_hyperparser.py'...\n",
            "Compiling '/usr/local/lib/python3.8/idlelib/idle_test/test_iomenu.py'...\n",
            "Compiling '/usr/local/lib/python3.8/idlelib/idle_test/test_macosx.py'...\n",
            "Compiling '/usr/local/lib/python3.8/idlelib/idle_test/test_mainmenu.py'...\n",
            "Compiling '/usr/local/lib/python3.8/idlelib/idle_test/test_multicall.py'...\n",
            "Compiling '/usr/local/lib/python3.8/idlelib/idle_test/test_outwin.py'...\n",
            "Compiling '/usr/local/lib/python3.8/idlelib/idle_test/test_parenmatch.py'...\n",
            "Compiling '/usr/local/lib/python3.8/idlelib/idle_test/test_pathbrowser.py'...\n",
            "Compiling '/usr/local/lib/python3.8/idlelib/idle_test/test_percolator.py'...\n",
            "Compiling '/usr/local/lib/python3.8/idlelib/idle_test/test_pyparse.py'...\n",
            "Compiling '/usr/local/lib/python3.8/idlelib/idle_test/test_pyshell.py'...\n",
            "Compiling '/usr/local/lib/python3.8/idlelib/idle_test/test_redirector.py'...\n",
            "Compiling '/usr/local/lib/python3.8/idlelib/idle_test/test_query.py'...\n",
            "Compiling '/usr/local/lib/python3.8/idlelib/idle_test/test_replace.py'...\n",
            "Listing '/usr/local/lib/python3.8/test/test_tools'...\n",
            "Compiling '/usr/local/lib/python3.8/idlelib/idle_test/test_rpc.py'...\n",
            "Compiling '/usr/local/lib/python3.8/idlelib/idle_test/test_run.py'...\n",
            "Compiling '/usr/local/lib/python3.8/idlelib/idle_test/test_runscript.py'...\n",
            "Compiling '/usr/local/lib/python3.8/idlelib/idle_test/test_scrolledlist.py'...\n",
            "Compiling '/usr/local/lib/python3.8/idlelib/idle_test/test_search.py'...\n",
            "Compiling '/usr/local/lib/python3.8/idlelib/idle_test/test_searchbase.py'...\n",
            "Compiling '/usr/local/lib/python3.8/idlelib/idle_test/test_searchengine.py'...\n",
            "Compiling '/usr/local/lib/python3.8/idlelib/idle_test/test_sidebar.py'...\n",
            "Compiling '/usr/local/lib/python3.8/idlelib/idle_test/test_squeezer.py'...\n",
            "Compiling '/usr/local/lib/python3.8/idlelib/idle_test/test_stackviewer.py'...\n",
            "Compiling '/usr/local/lib/python3.8/idlelib/idle_test/test_statusbar.py'...\n",
            "Compiling '/usr/local/lib/python3.8/idlelib/idle_test/test_text.py'...\n",
            "Listing '/usr/local/lib/python3.8/test/test_warnings'...\n",
            "Compiling '/usr/local/lib/python3.8/idlelib/idle_test/test_textview.py'...\n",
            "Listing '/usr/local/lib/python3.8/test/test_warnings/data'...\n",
            "Compiling '/usr/local/lib/python3.8/idlelib/idle_test/test_tooltip.py'...\n",
            "Compiling '/usr/local/lib/python3.8/idlelib/idle_test/test_tree.py'...\n",
            "Compiling '/usr/local/lib/python3.8/idlelib/idle_test/test_undo.py'...\n",
            "Compiling '/usr/local/lib/python3.8/idlelib/idle_test/test_warning.py'...\n",
            "Compiling '/usr/local/lib/python3.8/idlelib/idle_test/test_window.py'...\n",
            "Compiling '/usr/local/lib/python3.8/idlelib/idle_test/test_zoomheight.py'...\n",
            "Compiling '/usr/local/lib/python3.8/idlelib/iomenu.py'...\n",
            "Compiling '/usr/local/lib/python3.8/idlelib/macosx.py'...\n",
            "Compiling '/usr/local/lib/python3.8/idlelib/mainmenu.py'...\n",
            "Compiling '/usr/local/lib/python3.8/idlelib/multicall.py'...\n",
            "Compiling '/usr/local/lib/python3.8/idlelib/parenmatch.py'...\n",
            "Compiling '/usr/local/lib/python3.8/idlelib/outwin.py'...\n",
            "Compiling '/usr/local/lib/python3.8/idlelib/pathbrowser.py'...\n",
            "Compiling '/usr/local/lib/python3.8/idlelib/percolator.py'...\n",
            "Compiling '/usr/local/lib/python3.8/idlelib/pyparse.py'...\n",
            "Listing '/usr/local/lib/python3.8/test/tracedmodules'...\n",
            "Listing '/usr/local/lib/python3.8/test/xmltestdata'...\n",
            "Listing '/usr/local/lib/python3.8/test/xmltestdata/c14n-20'...\n",
            "Compiling '/usr/local/lib/python3.8/idlelib/pyshell.py'...\n",
            "Compiling '/usr/local/lib/python3.8/idlelib/query.py'...\n",
            "Compiling '/usr/local/lib/python3.8/idlelib/redirector.py'...\n",
            "Compiling '/usr/local/lib/python3.8/idlelib/replace.py'...\n",
            "Compiling '/usr/local/lib/python3.8/idlelib/rpc.py'...\n",
            "Compiling '/usr/local/lib/python3.8/idlelib/run.py'...\n",
            "Listing '/usr/local/lib/python3.8/test/ziptestdata'...\n",
            "Compiling '/usr/local/lib/python3.8/idlelib/runscript.py'...\n",
            "Compiling '/usr/local/lib/python3.8/idlelib/scrolledlist.py'...\n",
            "Listing '/usr/local/lib/python3.8/tkinter'...\n",
            "Listing '/usr/local/lib/python3.8/tkinter/test'...\n",
            "Listing '/usr/local/lib/python3.8/tkinter/test/test_tkinter'...\n",
            "Compiling '/usr/local/lib/python3.8/idlelib/search.py'...\n",
            "Listing '/usr/local/lib/python3.8/tkinter/test/test_ttk'...\n",
            "Compiling '/usr/local/lib/python3.8/idlelib/searchbase.py'...\n",
            "Listing '/usr/local/lib/python3.8/turtledemo'...\n",
            "Compiling '/usr/local/lib/python3.8/idlelib/searchengine.py'...\n",
            "Compiling '/usr/local/lib/python3.8/idlelib/sidebar.py'...\n",
            "Listing '/usr/local/lib/python3.8/unittest'...\n",
            "Listing '/usr/local/lib/python3.8/unittest/test'...\n",
            "Listing '/usr/local/lib/python3.8/unittest/test/testmock'...\n",
            "Listing '/usr/local/lib/python3.8/urllib'...\n",
            "Listing '/usr/local/lib/python3.8/venv'...\n",
            "Compiling '/usr/local/lib/python3.8/idlelib/squeezer.py'...\n",
            "Compiling '/usr/local/lib/python3.8/idlelib/stackviewer.py'...\n",
            "Compiling '/usr/local/lib/python3.8/idlelib/statusbar.py'...\n",
            "Compiling '/usr/local/lib/python3.8/idlelib/textview.py'...\n",
            "Compiling '/usr/local/lib/python3.8/idlelib/tooltip.py'...\n",
            "Compiling '/usr/local/lib/python3.8/idlelib/window.py'...\n",
            "Compiling '/usr/local/lib/python3.8/idlelib/zoomheight.py'...\n",
            "Compiling '/usr/local/lib/python3.8/idlelib/tree.py'...\n",
            "Compiling '/usr/local/lib/python3.8/idlelib/undo.py'...\n",
            "Compiling '/usr/local/lib/python3.8/idlelib/zzdummy.py'...\n",
            "Compiling '/usr/local/lib/python3.8/imaplib.py'...\n",
            "Compiling '/usr/local/lib/python3.8/imghdr.py'...\n",
            "Compiling '/usr/local/lib/python3.8/imp.py'...\n",
            "Compiling '/usr/local/lib/python3.8/importlib/__init__.py'...\n",
            "Compiling '/usr/local/lib/python3.8/importlib/_bootstrap.py'...\n",
            "Compiling '/usr/local/lib/python3.8/importlib/_bootstrap_external.py'...\n",
            "Compiling '/usr/local/lib/python3.8/importlib/abc.py'...\n",
            "Compiling '/usr/local/lib/python3.8/importlib/machinery.py'...\n",
            "Compiling '/usr/local/lib/python3.8/importlib/metadata.py'...\n",
            "Compiling '/usr/local/lib/python3.8/importlib/resources.py'...\n",
            "Compiling '/usr/local/lib/python3.8/importlib/util.py'...\n",
            "Listing '/usr/local/lib/python3.8/venv/scripts'...\n",
            "Listing '/usr/local/lib/python3.8/venv/scripts/common'...\n",
            "Listing '/usr/local/lib/python3.8/venv/scripts/posix'...\n",
            "Listing '/usr/local/lib/python3.8/wsgiref'...\n",
            "Listing '/usr/local/lib/python3.8/xml'...\n",
            "Compiling '/usr/local/lib/python3.8/inspect.py'...\n",
            "Listing '/usr/local/lib/python3.8/xml/dom'...\n",
            "Compiling '/usr/local/lib/python3.8/io.py'...\n",
            "Listing '/usr/local/lib/python3.8/xml/etree'...\n",
            "Listing '/usr/local/lib/python3.8/xml/parsers'...\n",
            "Listing '/usr/local/lib/python3.8/xml/sax'...\n",
            "Compiling '/usr/local/lib/python3.8/ipaddress.py'...\n",
            "Compiling '/usr/local/lib/python3.8/json/__init__.py'...\n",
            "Listing '/usr/local/lib/python3.8/xmlrpc'...\n",
            "Compiling '/usr/local/lib/python3.8/json/decoder.py'...\n",
            "Compiling '/usr/local/lib/python3.8/json/encoder.py'...\n",
            "Compiling '/usr/local/lib/python3.8/json/scanner.py'...\n",
            "Compiling '/usr/local/lib/python3.8/json/tool.py'...\n",
            "Compiling '/usr/local/lib/python3.8/keyword.py'...\n",
            "Compiling '/usr/local/lib/python3.8/lib2to3/__init__.py'...\n",
            "Compiling '/usr/local/lib/python3.8/lib2to3/__main__.py'...\n",
            "Compiling '/usr/local/lib/python3.8/lib2to3/btm_matcher.py'...\n",
            "Compiling '/usr/local/lib/python3.8/lib2to3/btm_utils.py'...\n",
            "Compiling '/usr/local/lib/python3.8/lib2to3/fixer_util.py'...\n",
            "Compiling '/usr/local/lib/python3.8/lib2to3/fixer_base.py'...\n",
            "Compiling '/usr/local/lib/python3.8/lib2to3/fixes/__init__.py'...\n",
            "Compiling '/usr/local/lib/python3.8/lib2to3/fixes/fix_apply.py'...\n",
            "Compiling '/usr/local/lib/python3.8/lib2to3/fixes/fix_asserts.py'...\n",
            "Compiling '/usr/local/lib/python3.8/lib2to3/fixes/fix_basestring.py'...\n",
            "Compiling '/usr/local/lib/python3.8/lib2to3/fixes/fix_buffer.py'...\n",
            "Compiling '/usr/local/lib/python3.8/lib2to3/fixes/fix_dict.py'...\n",
            "Compiling '/usr/local/lib/python3.8/lib2to3/fixes/fix_except.py'...\n",
            "Compiling '/usr/local/lib/python3.8/lib2to3/fixes/fix_exec.py'...\n",
            "Compiling '/usr/local/lib/python3.8/lib2to3/fixes/fix_execfile.py'...\n",
            "Compiling '/usr/local/lib/python3.8/lib2to3/fixes/fix_exitfunc.py'...\n",
            "Compiling '/usr/local/lib/python3.8/lib2to3/fixes/fix_filter.py'...\n",
            "Compiling '/usr/local/lib/python3.8/lib2to3/fixes/fix_funcattrs.py'...\n",
            "Compiling '/usr/local/lib/python3.8/lib2to3/fixes/fix_future.py'...\n",
            "Compiling '/usr/local/lib/python3.8/lib2to3/fixes/fix_getcwdu.py'...\n",
            "Compiling '/usr/local/lib/python3.8/lib2to3/fixes/fix_has_key.py'...\n",
            "Compiling '/usr/local/lib/python3.8/lib2to3/fixes/fix_idioms.py'...\n",
            "Compiling '/usr/local/lib/python3.8/lib2to3/fixes/fix_import.py'...\n",
            "Compiling '/usr/local/lib/python3.8/lib2to3/fixes/fix_imports.py'...\n",
            "Compiling '/usr/local/lib/python3.8/lib2to3/fixes/fix_imports2.py'...\n",
            "Compiling '/usr/local/lib/python3.8/lib2to3/fixes/fix_input.py'...\n",
            "Compiling '/usr/local/lib/python3.8/lib2to3/fixes/fix_isinstance.py'...\n",
            "Compiling '/usr/local/lib/python3.8/lib2to3/fixes/fix_itertools.py'...\n",
            "Compiling '/usr/local/lib/python3.8/lib2to3/fixes/fix_itertools_imports.py'...\n",
            "Compiling '/usr/local/lib/python3.8/lib2to3/fixes/fix_intern.py'...\n",
            "Compiling '/usr/local/lib/python3.8/lib2to3/fixes/fix_long.py'...\n",
            "Compiling '/usr/local/lib/python3.8/lib2to3/fixes/fix_map.py'...\n",
            "Compiling '/usr/local/lib/python3.8/lib2to3/fixes/fix_metaclass.py'...\n",
            "Compiling '/usr/local/lib/python3.8/lib2to3/fixes/fix_methodattrs.py'...\n",
            "Compiling '/usr/local/lib/python3.8/lib2to3/fixes/fix_ne.py'...\n",
            "Compiling '/usr/local/lib/python3.8/lib2to3/fixes/fix_next.py'...\n",
            "Compiling '/usr/local/lib/python3.8/lib2to3/fixes/fix_nonzero.py'...\n",
            "Compiling '/usr/local/lib/python3.8/lib2to3/fixes/fix_numliterals.py'...\n",
            "Compiling '/usr/local/lib/python3.8/lib2to3/fixes/fix_operator.py'...\n",
            "Compiling '/usr/local/lib/python3.8/lib2to3/fixes/fix_paren.py'...\n",
            "Compiling '/usr/local/lib/python3.8/lib2to3/fixes/fix_print.py'...\n",
            "Compiling '/usr/local/lib/python3.8/lib2to3/fixes/fix_raise.py'...\n",
            "Compiling '/usr/local/lib/python3.8/lib2to3/fixes/fix_raw_input.py'...\n",
            "Compiling '/usr/local/lib/python3.8/lib2to3/fixes/fix_reduce.py'...\n",
            "Compiling '/usr/local/lib/python3.8/lib2to3/fixes/fix_reload.py'...\n",
            "Compiling '/usr/local/lib/python3.8/lib2to3/fixes/fix_renames.py'...\n",
            "Compiling '/usr/local/lib/python3.8/lib2to3/fixes/fix_repr.py'...\n",
            "Compiling '/usr/local/lib/python3.8/lib2to3/fixes/fix_set_literal.py'...\n",
            "Compiling '/usr/local/lib/python3.8/lib2to3/fixes/fix_standarderror.py'...\n",
            "Compiling '/usr/local/lib/python3.8/lib2to3/fixes/fix_sys_exc.py'...\n",
            "Compiling '/usr/local/lib/python3.8/lib2to3/fixes/fix_throw.py'...\n",
            "Compiling '/usr/local/lib/python3.8/lib2to3/fixes/fix_tuple_params.py'...\n",
            "Compiling '/usr/local/lib/python3.8/lib2to3/fixes/fix_unicode.py'...\n",
            "Compiling '/usr/local/lib/python3.8/lib2to3/fixes/fix_types.py'...\n",
            "Compiling '/usr/local/lib/python3.8/lib2to3/fixes/fix_urllib.py'...\n",
            "Compiling '/usr/local/lib/python3.8/lib2to3/fixes/fix_ws_comma.py'...\n",
            "Compiling '/usr/local/lib/python3.8/lib2to3/fixes/fix_xrange.py'...\n",
            "Compiling '/usr/local/lib/python3.8/lib2to3/fixes/fix_xreadlines.py'...\n",
            "Compiling '/usr/local/lib/python3.8/lib2to3/fixes/fix_zip.py'...\n",
            "Compiling '/usr/local/lib/python3.8/lib2to3/main.py'...\n",
            "Compiling '/usr/local/lib/python3.8/lib2to3/patcomp.py'...\n",
            "Compiling '/usr/local/lib/python3.8/lib2to3/pgen2/__init__.py'...\n",
            "Compiling '/usr/local/lib/python3.8/lib2to3/pgen2/conv.py'...\n",
            "Compiling '/usr/local/lib/python3.8/lib2to3/pgen2/driver.py'...\n",
            "Compiling '/usr/local/lib/python3.8/lib2to3/pgen2/grammar.py'...\n",
            "Compiling '/usr/local/lib/python3.8/lib2to3/pgen2/literals.py'...\n",
            "Compiling '/usr/local/lib/python3.8/lib2to3/pgen2/parse.py'...\n",
            "Compiling '/usr/local/lib/python3.8/lib2to3/pgen2/pgen.py'...\n",
            "Compiling '/usr/local/lib/python3.8/lib2to3/pgen2/token.py'...\n",
            "Compiling '/usr/local/lib/python3.8/lib2to3/pgen2/tokenize.py'...\n",
            "Compiling '/usr/local/lib/python3.8/lib2to3/pygram.py'...\n",
            "Compiling '/usr/local/lib/python3.8/lib2to3/pytree.py'...\n",
            "Compiling '/usr/local/lib/python3.8/lib2to3/refactor.py'...\n",
            "Compiling '/usr/local/lib/python3.8/lib2to3/tests/__init__.py'...\n",
            "Compiling '/usr/local/lib/python3.8/lib2to3/tests/__main__.py'...\n",
            "Compiling '/usr/local/lib/python3.8/lib2to3/tests/pytree_idempotency.py'...\n",
            "Compiling '/usr/local/lib/python3.8/lib2to3/tests/support.py'...\n",
            "Compiling '/usr/local/lib/python3.8/lib2to3/tests/test_all_fixers.py'...\n",
            "Compiling '/usr/local/lib/python3.8/lib2to3/tests/test_fixers.py'...\n",
            "Compiling '/usr/local/lib/python3.8/lib2to3/tests/test_main.py'...\n",
            "Compiling '/usr/local/lib/python3.8/lib2to3/tests/test_parser.py'...\n",
            "Compiling '/usr/local/lib/python3.8/lib2to3/tests/test_pytree.py'...\n",
            "Compiling '/usr/local/lib/python3.8/lib2to3/tests/test_refactor.py'...\n",
            "Compiling '/usr/local/lib/python3.8/lib2to3/tests/test_util.py'...\n",
            "Compiling '/usr/local/lib/python3.8/linecache.py'...\n",
            "Compiling '/usr/local/lib/python3.8/locale.py'...\n",
            "Compiling '/usr/local/lib/python3.8/logging/__init__.py'...\n",
            "Compiling '/usr/local/lib/python3.8/logging/config.py'...\n",
            "Compiling '/usr/local/lib/python3.8/logging/handlers.py'...\n",
            "Compiling '/usr/local/lib/python3.8/lzma.py'...\n",
            "Compiling '/usr/local/lib/python3.8/mailbox.py'...\n",
            "Compiling '/usr/local/lib/python3.8/mailcap.py'...\n",
            "Compiling '/usr/local/lib/python3.8/mimetypes.py'...\n",
            "Compiling '/usr/local/lib/python3.8/modulefinder.py'...\n",
            "Compiling '/usr/local/lib/python3.8/multiprocessing/__init__.py'...\n",
            "Compiling '/usr/local/lib/python3.8/multiprocessing/connection.py'...\n",
            "Compiling '/usr/local/lib/python3.8/multiprocessing/context.py'...\n",
            "Compiling '/usr/local/lib/python3.8/multiprocessing/dummy/__init__.py'...\n",
            "Compiling '/usr/local/lib/python3.8/multiprocessing/dummy/connection.py'...\n",
            "Compiling '/usr/local/lib/python3.8/multiprocessing/forkserver.py'...\n",
            "Compiling '/usr/local/lib/python3.8/multiprocessing/heap.py'...\n",
            "Compiling '/usr/local/lib/python3.8/multiprocessing/managers.py'...\n",
            "Compiling '/usr/local/lib/python3.8/multiprocessing/pool.py'...\n",
            "Compiling '/usr/local/lib/python3.8/multiprocessing/popen_fork.py'...\n",
            "Compiling '/usr/local/lib/python3.8/multiprocessing/popen_forkserver.py'...\n",
            "Compiling '/usr/local/lib/python3.8/multiprocessing/popen_spawn_win32.py'...\n",
            "Compiling '/usr/local/lib/python3.8/multiprocessing/process.py'...\n",
            "Compiling '/usr/local/lib/python3.8/multiprocessing/queues.py'...\n",
            "Compiling '/usr/local/lib/python3.8/multiprocessing/popen_spawn_posix.py'...\n",
            "Compiling '/usr/local/lib/python3.8/multiprocessing/reduction.py'...\n",
            "Compiling '/usr/local/lib/python3.8/multiprocessing/resource_sharer.py'...\n",
            "Compiling '/usr/local/lib/python3.8/multiprocessing/resource_tracker.py'...\n",
            "Compiling '/usr/local/lib/python3.8/multiprocessing/shared_memory.py'...\n",
            "Compiling '/usr/local/lib/python3.8/multiprocessing/sharedctypes.py'...\n",
            "Compiling '/usr/local/lib/python3.8/multiprocessing/spawn.py'...\n",
            "Compiling '/usr/local/lib/python3.8/multiprocessing/util.py'...\n",
            "Compiling '/usr/local/lib/python3.8/multiprocessing/synchronize.py'...\n",
            "Compiling '/usr/local/lib/python3.8/netrc.py'...\n",
            "Compiling '/usr/local/lib/python3.8/nntplib.py'...\n",
            "Compiling '/usr/local/lib/python3.8/ntpath.py'...\n",
            "Compiling '/usr/local/lib/python3.8/nturl2path.py'...\n",
            "Compiling '/usr/local/lib/python3.8/numbers.py'...\n",
            "Compiling '/usr/local/lib/python3.8/opcode.py'...\n",
            "Compiling '/usr/local/lib/python3.8/operator.py'...\n",
            "Compiling '/usr/local/lib/python3.8/optparse.py'...\n",
            "Compiling '/usr/local/lib/python3.8/os.py'...\n",
            "Compiling '/usr/local/lib/python3.8/pathlib.py'...\n",
            "Compiling '/usr/local/lib/python3.8/pdb.py'...\n",
            "Compiling '/usr/local/lib/python3.8/pickle.py'...\n",
            "Compiling '/usr/local/lib/python3.8/pickletools.py'...\n",
            "Compiling '/usr/local/lib/python3.8/pipes.py'...\n",
            "Compiling '/usr/local/lib/python3.8/pkgutil.py'...\n",
            "Compiling '/usr/local/lib/python3.8/platform.py'...\n",
            "Compiling '/usr/local/lib/python3.8/plistlib.py'...\n",
            "Compiling '/usr/local/lib/python3.8/poplib.py'...\n",
            "Compiling '/usr/local/lib/python3.8/posixpath.py'...\n",
            "Compiling '/usr/local/lib/python3.8/pprint.py'...\n",
            "Compiling '/usr/local/lib/python3.8/profile.py'...\n",
            "Compiling '/usr/local/lib/python3.8/pstats.py'...\n",
            "Compiling '/usr/local/lib/python3.8/pty.py'...\n",
            "Compiling '/usr/local/lib/python3.8/py_compile.py'...\n",
            "Compiling '/usr/local/lib/python3.8/pyclbr.py'...\n",
            "Compiling '/usr/local/lib/python3.8/pydoc.py'...\n",
            "Compiling '/usr/local/lib/python3.8/pydoc_data/__init__.py'...\n",
            "Compiling '/usr/local/lib/python3.8/pydoc_data/topics.py'...\n",
            "Compiling '/usr/local/lib/python3.8/queue.py'...\n",
            "Compiling '/usr/local/lib/python3.8/quopri.py'...\n",
            "Compiling '/usr/local/lib/python3.8/random.py'...\n",
            "Compiling '/usr/local/lib/python3.8/reprlib.py'...\n",
            "Compiling '/usr/local/lib/python3.8/re.py'...\n",
            "Compiling '/usr/local/lib/python3.8/rlcompleter.py'...\n",
            "Compiling '/usr/local/lib/python3.8/runpy.py'...\n",
            "Compiling '/usr/local/lib/python3.8/sched.py'...\n",
            "Compiling '/usr/local/lib/python3.8/secrets.py'...\n",
            "Compiling '/usr/local/lib/python3.8/shelve.py'...\n",
            "Compiling '/usr/local/lib/python3.8/selectors.py'...\n",
            "Compiling '/usr/local/lib/python3.8/shlex.py'...\n",
            "Compiling '/usr/local/lib/python3.8/shutil.py'...\n",
            "Compiling '/usr/local/lib/python3.8/signal.py'...\n",
            "Compiling '/usr/local/lib/python3.8/site.py'...\n",
            "Compiling '/usr/local/lib/python3.8/smtpd.py'...\n",
            "Compiling '/usr/local/lib/python3.8/sndhdr.py'...\n",
            "Compiling '/usr/local/lib/python3.8/smtplib.py'...\n",
            "Compiling '/usr/local/lib/python3.8/socket.py'...\n",
            "Compiling '/usr/local/lib/python3.8/socketserver.py'...\n",
            "Compiling '/usr/local/lib/python3.8/sqlite3/__init__.py'...\n",
            "Compiling '/usr/local/lib/python3.8/sqlite3/dbapi2.py'...\n",
            "Compiling '/usr/local/lib/python3.8/sqlite3/dump.py'...\n",
            "Compiling '/usr/local/lib/python3.8/sqlite3/test/__init__.py'...\n",
            "Compiling '/usr/local/lib/python3.8/sqlite3/test/backup.py'...\n",
            "Compiling '/usr/local/lib/python3.8/sqlite3/test/dbapi.py'...\n",
            "Compiling '/usr/local/lib/python3.8/sqlite3/test/dump.py'...\n",
            "Compiling '/usr/local/lib/python3.8/sqlite3/test/factory.py'...\n",
            "Compiling '/usr/local/lib/python3.8/sqlite3/test/hooks.py'...\n",
            "Compiling '/usr/local/lib/python3.8/sqlite3/test/regression.py'...\n",
            "Compiling '/usr/local/lib/python3.8/sqlite3/test/transactions.py'...\n",
            "Compiling '/usr/local/lib/python3.8/sqlite3/test/userfunctions.py'...\n",
            "Compiling '/usr/local/lib/python3.8/sqlite3/test/types.py'...\n",
            "Compiling '/usr/local/lib/python3.8/sre_compile.py'...\n",
            "Compiling '/usr/local/lib/python3.8/sre_constants.py'...\n",
            "Compiling '/usr/local/lib/python3.8/sre_parse.py'...\n",
            "Compiling '/usr/local/lib/python3.8/ssl.py'...\n",
            "Compiling '/usr/local/lib/python3.8/stat.py'...\n",
            "Compiling '/usr/local/lib/python3.8/statistics.py'...\n",
            "Compiling '/usr/local/lib/python3.8/string.py'...\n",
            "Compiling '/usr/local/lib/python3.8/stringprep.py'...\n",
            "Compiling '/usr/local/lib/python3.8/struct.py'...\n",
            "Compiling '/usr/local/lib/python3.8/subprocess.py'...\n",
            "Compiling '/usr/local/lib/python3.8/sunau.py'...\n",
            "Compiling '/usr/local/lib/python3.8/symbol.py'...\n",
            "Compiling '/usr/local/lib/python3.8/symtable.py'...\n",
            "Compiling '/usr/local/lib/python3.8/tabnanny.py'...\n",
            "Compiling '/usr/local/lib/python3.8/sysconfig.py'...\n",
            "Compiling '/usr/local/lib/python3.8/tarfile.py'...\n",
            "Compiling '/usr/local/lib/python3.8/telnetlib.py'...\n",
            "Compiling '/usr/local/lib/python3.8/tempfile.py'...\n",
            "Compiling '/usr/local/lib/python3.8/test/__init__.py'...\n",
            "Compiling '/usr/local/lib/python3.8/test/__main__.py'...\n",
            "Compiling '/usr/local/lib/python3.8/test/_test_multiprocessing.py'...\n",
            "Compiling '/usr/local/lib/python3.8/test/ann_module.py'...\n",
            "Compiling '/usr/local/lib/python3.8/test/ann_module2.py'...\n",
            "Compiling '/usr/local/lib/python3.8/test/ann_module3.py'...\n",
            "Compiling '/usr/local/lib/python3.8/test/audiotests.py'...\n",
            "Compiling '/usr/local/lib/python3.8/test/audit-tests.py'...\n",
            "Compiling '/usr/local/lib/python3.8/test/autotest.py'...\n",
            "Compiling '/usr/local/lib/python3.8/test/bad_getattr.py'...\n",
            "Compiling '/usr/local/lib/python3.8/test/bad_getattr2.py'...\n",
            "Compiling '/usr/local/lib/python3.8/test/bad_getattr3.py'...\n",
            "Compiling '/usr/local/lib/python3.8/test/bisect_cmd.py'...\n",
            "Compiling '/usr/local/lib/python3.8/test/bytecode_helper.py'...\n",
            "Compiling '/usr/local/lib/python3.8/test/coding20731.py'...\n",
            "Compiling '/usr/local/lib/python3.8/test/curses_tests.py'...\n",
            "Compiling '/usr/local/lib/python3.8/test/dataclass_module_1.py'...\n",
            "Compiling '/usr/local/lib/python3.8/test/dataclass_module_1_str.py'...\n",
            "Compiling '/usr/local/lib/python3.8/test/dataclass_module_2.py'...\n",
            "Compiling '/usr/local/lib/python3.8/test/dataclass_module_2_str.py'...\n",
            "Compiling '/usr/local/lib/python3.8/test/dataclass_textanno.py'...\n",
            "Compiling '/usr/local/lib/python3.8/test/datetimetester.py'...\n",
            "Compiling '/usr/local/lib/python3.8/test/dis_module.py'...\n",
            "Compiling '/usr/local/lib/python3.8/test/doctest_aliases.py'...\n",
            "Compiling '/usr/local/lib/python3.8/test/double_const.py'...\n",
            "Compiling '/usr/local/lib/python3.8/test/dtracedata/call_stack.py'...\n",
            "Compiling '/usr/local/lib/python3.8/test/dtracedata/gc.py'...\n",
            "Compiling '/usr/local/lib/python3.8/test/dtracedata/instance.py'...\n",
            "Compiling '/usr/local/lib/python3.8/test/dtracedata/line.py'...\n",
            "Compiling '/usr/local/lib/python3.8/test/eintrdata/eintr_tester.py'...\n",
            "Compiling '/usr/local/lib/python3.8/test/encoded_modules/__init__.py'...\n",
            "Compiling '/usr/local/lib/python3.8/test/encoded_modules/module_iso_8859_1.py'...\n",
            "Compiling '/usr/local/lib/python3.8/test/encoded_modules/module_koi8_r.py'...\n",
            "Compiling '/usr/local/lib/python3.8/test/final_a.py'...\n",
            "Compiling '/usr/local/lib/python3.8/test/final_b.py'...\n",
            "Compiling '/usr/local/lib/python3.8/test/fork_wait.py'...\n",
            "Compiling '/usr/local/lib/python3.8/test/future_test1.py'...\n",
            "Compiling '/usr/local/lib/python3.8/test/future_test2.py'...\n",
            "Compiling '/usr/local/lib/python3.8/test/gdb_sample.py'...\n",
            "Compiling '/usr/local/lib/python3.8/test/good_getattr.py'...\n",
            "Compiling '/usr/local/lib/python3.8/test/imp_dummy.py'...\n",
            "Compiling '/usr/local/lib/python3.8/test/inspect_fodder.py'...\n",
            "Compiling '/usr/local/lib/python3.8/test/inspect_fodder2.py'...\n",
            "Compiling '/usr/local/lib/python3.8/test/libregrtest/__init__.py'...\n",
            "Compiling '/usr/local/lib/python3.8/test/libregrtest/cmdline.py'...\n",
            "Compiling '/usr/local/lib/python3.8/test/libregrtest/main.py'...\n",
            "Compiling '/usr/local/lib/python3.8/test/libregrtest/pgo.py'...\n",
            "Compiling '/usr/local/lib/python3.8/test/libregrtest/refleak.py'...\n",
            "Compiling '/usr/local/lib/python3.8/test/libregrtest/runtest.py'...\n",
            "Compiling '/usr/local/lib/python3.8/test/libregrtest/runtest_mp.py'...\n",
            "Compiling '/usr/local/lib/python3.8/test/libregrtest/save_env.py'...\n",
            "Compiling '/usr/local/lib/python3.8/test/libregrtest/setup.py'...\n",
            "Compiling '/usr/local/lib/python3.8/test/libregrtest/utils.py'...\n",
            "Compiling '/usr/local/lib/python3.8/test/libregrtest/win_utils.py'...\n",
            "Compiling '/usr/local/lib/python3.8/test/list_tests.py'...\n",
            "Compiling '/usr/local/lib/python3.8/test/lock_tests.py'...\n",
            "Compiling '/usr/local/lib/python3.8/test/make_ssl_certs.py'...\n",
            "Compiling '/usr/local/lib/python3.8/test/mapping_tests.py'...\n",
            "Compiling '/usr/local/lib/python3.8/test/memory_watchdog.py'...\n",
            "Compiling '/usr/local/lib/python3.8/test/mock_socket.py'...\n",
            "Compiling '/usr/local/lib/python3.8/test/mod_generics_cache.py'...\n",
            "Compiling '/usr/local/lib/python3.8/test/mp_fork_bomb.py'...\n",
            "Compiling '/usr/local/lib/python3.8/test/mp_preload.py'...\n",
            "Compiling '/usr/local/lib/python3.8/test/multibytecodec_support.py'...\n",
            "Compiling '/usr/local/lib/python3.8/test/outstanding_bugs.py'...\n",
            "Compiling '/usr/local/lib/python3.8/test/pickletester.py'...\n",
            "Compiling '/usr/local/lib/python3.8/test/profilee.py'...\n",
            "Compiling '/usr/local/lib/python3.8/test/pyclbr_input.py'...\n",
            "Compiling '/usr/local/lib/python3.8/test/pydoc_mod.py'...\n",
            "Compiling '/usr/local/lib/python3.8/test/pydocfodder.py'...\n",
            "Compiling '/usr/local/lib/python3.8/test/pythoninfo.py'...\n",
            "Compiling '/usr/local/lib/python3.8/test/re_tests.py'...\n",
            "Compiling '/usr/local/lib/python3.8/test/regrtest.py'...\n",
            "Compiling '/usr/local/lib/python3.8/test/relimport.py'...\n",
            "Compiling '/usr/local/lib/python3.8/test/reperf.py'...\n",
            "Compiling '/usr/local/lib/python3.8/test/sample_doctest.py'...\n",
            "Compiling '/usr/local/lib/python3.8/test/sample_doctest_no_docstrings.py'...\n",
            "Compiling '/usr/local/lib/python3.8/test/sample_doctest_no_doctests.py'...\n",
            "Compiling '/usr/local/lib/python3.8/test/seq_tests.py'...\n",
            "Compiling '/usr/local/lib/python3.8/test/signalinterproctester.py'...\n",
            "Compiling '/usr/local/lib/python3.8/test/sortperf.py'...\n",
            "Compiling '/usr/local/lib/python3.8/test/ssl_servers.py'...\n",
            "Compiling '/usr/local/lib/python3.8/test/ssltests.py'...\n",
            "Compiling '/usr/local/lib/python3.8/test/subprocessdata/fd_status.py'...\n",
            "Compiling '/usr/local/lib/python3.8/test/string_tests.py'...\n",
            "Compiling '/usr/local/lib/python3.8/test/subprocessdata/input_reader.py'...\n",
            "Compiling '/usr/local/lib/python3.8/test/subprocessdata/qcat.py'...\n",
            "Compiling '/usr/local/lib/python3.8/test/subprocessdata/qgrep.py'...\n",
            "Compiling '/usr/local/lib/python3.8/test/subprocessdata/sigchild_ignore.py'...\n",
            "Compiling '/usr/local/lib/python3.8/test/support/__init__.py'...\n",
            "Compiling '/usr/local/lib/python3.8/test/support/script_helper.py'...\n",
            "Compiling '/usr/local/lib/python3.8/test/support/testresult.py'...\n",
            "Compiling '/usr/local/lib/python3.8/test/test___all__.py'...\n",
            "Compiling '/usr/local/lib/python3.8/test/test___future__.py'...\n",
            "Compiling '/usr/local/lib/python3.8/test/test__locale.py'...\n",
            "Compiling '/usr/local/lib/python3.8/test/test__opcode.py'...\n",
            "Compiling '/usr/local/lib/python3.8/test/test__osx_support.py'...\n",
            "Compiling '/usr/local/lib/python3.8/test/test__xxsubinterpreters.py'...\n",
            "Compiling '/usr/local/lib/python3.8/test/test_abc.py'...\n",
            "Compiling '/usr/local/lib/python3.8/test/test_abstract_numbers.py'...\n",
            "Compiling '/usr/local/lib/python3.8/test/test_aifc.py'...\n",
            "Compiling '/usr/local/lib/python3.8/test/test_argparse.py'...\n",
            "Compiling '/usr/local/lib/python3.8/test/test_array.py'...\n",
            "Compiling '/usr/local/lib/python3.8/test/test_asdl_parser.py'...\n",
            "Compiling '/usr/local/lib/python3.8/test/test_ast.py'...\n",
            "Compiling '/usr/local/lib/python3.8/test/test_asyncgen.py'...\n",
            "Compiling '/usr/local/lib/python3.8/test/test_asynchat.py'...\n",
            "Compiling '/usr/local/lib/python3.8/test/test_asyncio/__init__.py'...\n",
            "Compiling '/usr/local/lib/python3.8/test/test_asyncio/__main__.py'...\n",
            "Compiling '/usr/local/lib/python3.8/test/test_asyncio/echo.py'...\n",
            "Compiling '/usr/local/lib/python3.8/test/test_asyncio/echo2.py'...\n",
            "Compiling '/usr/local/lib/python3.8/test/test_asyncio/echo3.py'...\n",
            "Compiling '/usr/local/lib/python3.8/test/test_asyncio/functional.py'...\n",
            "Compiling '/usr/local/lib/python3.8/test/test_asyncio/test_base_events.py'...\n",
            "Compiling '/usr/local/lib/python3.8/test/test_asyncio/test_buffered_proto.py'...\n",
            "Compiling '/usr/local/lib/python3.8/test/test_asyncio/test_context.py'...\n",
            "Compiling '/usr/local/lib/python3.8/test/test_asyncio/test_events.py'...\n",
            "Compiling '/usr/local/lib/python3.8/test/test_asyncio/test_futures.py'...\n",
            "Compiling '/usr/local/lib/python3.8/test/test_asyncio/test_locks.py'...\n",
            "Compiling '/usr/local/lib/python3.8/test/test_asyncio/test_pep492.py'...\n",
            "Compiling '/usr/local/lib/python3.8/test/test_asyncio/test_proactor_events.py'...\n",
            "Compiling '/usr/local/lib/python3.8/test/test_asyncio/test_protocols.py'...\n",
            "Compiling '/usr/local/lib/python3.8/test/test_asyncio/test_queues.py'...\n",
            "Compiling '/usr/local/lib/python3.8/test/test_asyncio/test_runners.py'...\n",
            "Compiling '/usr/local/lib/python3.8/test/test_asyncio/test_selector_events.py'...\n",
            "Compiling '/usr/local/lib/python3.8/test/test_asyncio/test_sendfile.py'...\n",
            "Compiling '/usr/local/lib/python3.8/test/test_asyncio/test_server.py'...\n",
            "Compiling '/usr/local/lib/python3.8/test/test_asyncio/test_sock_lowlevel.py'...\n",
            "Compiling '/usr/local/lib/python3.8/test/test_asyncio/test_sslproto.py'...\n",
            "Compiling '/usr/local/lib/python3.8/test/test_asyncio/test_streams.py'...\n",
            "Compiling '/usr/local/lib/python3.8/test/test_asyncio/test_subprocess.py'...\n",
            "Compiling '/usr/local/lib/python3.8/test/test_asyncio/test_tasks.py'...\n",
            "Compiling '/usr/local/lib/python3.8/test/test_asyncio/test_transports.py'...\n",
            "Compiling '/usr/local/lib/python3.8/test/test_asyncio/test_unix_events.py'...\n",
            "Compiling '/usr/local/lib/python3.8/test/test_asyncio/test_windows_events.py'...\n",
            "Compiling '/usr/local/lib/python3.8/test/test_asyncio/test_windows_utils.py'...\n",
            "Compiling '/usr/local/lib/python3.8/test/test_asyncio/utils.py'...\n",
            "Compiling '/usr/local/lib/python3.8/test/test_asyncore.py'...\n",
            "Compiling '/usr/local/lib/python3.8/test/test_atexit.py'...\n",
            "Compiling '/usr/local/lib/python3.8/test/test_audioop.py'...\n",
            "Compiling '/usr/local/lib/python3.8/test/test_audit.py'...\n",
            "Compiling '/usr/local/lib/python3.8/test/test_augassign.py'...\n",
            "Compiling '/usr/local/lib/python3.8/test/test_baseexception.py'...\n",
            "Compiling '/usr/local/lib/python3.8/test/test_base64.py'...\n",
            "Compiling '/usr/local/lib/python3.8/test/test_bdb.py'...\n",
            "Compiling '/usr/local/lib/python3.8/test/test_bigaddrspace.py'...\n",
            "Compiling '/usr/local/lib/python3.8/test/test_bigmem.py'...\n",
            "Compiling '/usr/local/lib/python3.8/test/test_binascii.py'...\n",
            "Compiling '/usr/local/lib/python3.8/test/test_binhex.py'...\n",
            "Compiling '/usr/local/lib/python3.8/test/test_binop.py'...\n",
            "Compiling '/usr/local/lib/python3.8/test/test_bisect.py'...\n",
            "Compiling '/usr/local/lib/python3.8/test/test_bool.py'...\n",
            "Compiling '/usr/local/lib/python3.8/test/test_buffer.py'...\n",
            "Compiling '/usr/local/lib/python3.8/test/test_bufio.py'...\n",
            "Compiling '/usr/local/lib/python3.8/test/test_bytes.py'...\n",
            "Compiling '/usr/local/lib/python3.8/test/test_bz2.py'...\n",
            "Compiling '/usr/local/lib/python3.8/test/test_builtin.py'...\n",
            "Compiling '/usr/local/lib/python3.8/test/test_c_locale_coercion.py'...\n",
            "Compiling '/usr/local/lib/python3.8/test/test_calendar.py'...\n",
            "Compiling '/usr/local/lib/python3.8/test/test_call.py'...\n",
            "Compiling '/usr/local/lib/python3.8/test/test_capi.py'...\n",
            "Compiling '/usr/local/lib/python3.8/test/test_cgi.py'...\n",
            "Compiling '/usr/local/lib/python3.8/test/test_cgitb.py'...\n",
            "Compiling '/usr/local/lib/python3.8/test/test_charmapcodec.py'...\n",
            "Compiling '/usr/local/lib/python3.8/test/test_class.py'...\n",
            "Compiling '/usr/local/lib/python3.8/test/test_clinic.py'...\n",
            "Compiling '/usr/local/lib/python3.8/test/test_cmath.py'...\n",
            "Compiling '/usr/local/lib/python3.8/test/test_cmd.py'...\n",
            "Compiling '/usr/local/lib/python3.8/test/test_cmd_line.py'...\n",
            "Compiling '/usr/local/lib/python3.8/test/test_cmd_line_script.py'...\n",
            "Compiling '/usr/local/lib/python3.8/test/test_code.py'...\n",
            "Compiling '/usr/local/lib/python3.8/test/test_code_module.py'...\n",
            "Compiling '/usr/local/lib/python3.8/test/test_codeccallbacks.py'...\n",
            "Compiling '/usr/local/lib/python3.8/test/test_codecencodings_cn.py'...\n",
            "Compiling '/usr/local/lib/python3.8/test/test_codecencodings_hk.py'...\n",
            "Compiling '/usr/local/lib/python3.8/test/test_codecencodings_iso2022.py'...\n",
            "Compiling '/usr/local/lib/python3.8/test/test_codecencodings_jp.py'...\n",
            "Compiling '/usr/local/lib/python3.8/test/test_codecencodings_kr.py'...\n",
            "Compiling '/usr/local/lib/python3.8/test/test_codecencodings_tw.py'...\n",
            "Compiling '/usr/local/lib/python3.8/test/test_codecmaps_cn.py'...\n",
            "Compiling '/usr/local/lib/python3.8/test/test_codecmaps_hk.py'...\n",
            "Compiling '/usr/local/lib/python3.8/test/test_codecmaps_jp.py'...\n",
            "Compiling '/usr/local/lib/python3.8/test/test_codecmaps_kr.py'...\n",
            "Compiling '/usr/local/lib/python3.8/test/test_codecmaps_tw.py'...\n",
            "Compiling '/usr/local/lib/python3.8/test/test_codecs.py'...\n",
            "Compiling '/usr/local/lib/python3.8/test/test_codeop.py'...\n",
            "Compiling '/usr/local/lib/python3.8/test/test_collections.py'...\n",
            "Compiling '/usr/local/lib/python3.8/test/test_colorsys.py'...\n",
            "Compiling '/usr/local/lib/python3.8/test/test_compare.py'...\n",
            "Compiling '/usr/local/lib/python3.8/test/test_compile.py'...\n",
            "Compiling '/usr/local/lib/python3.8/test/test_compileall.py'...\n",
            "Compiling '/usr/local/lib/python3.8/test/test_complex.py'...\n",
            "Compiling '/usr/local/lib/python3.8/test/test_concurrent_futures.py'...\n",
            "Compiling '/usr/local/lib/python3.8/test/test_configparser.py'...\n",
            "Compiling '/usr/local/lib/python3.8/test/test_contains.py'...\n",
            "Compiling '/usr/local/lib/python3.8/test/test_context.py'...\n",
            "Compiling '/usr/local/lib/python3.8/test/test_contextlib.py'...\n",
            "Compiling '/usr/local/lib/python3.8/test/test_contextlib_async.py'...\n",
            "Compiling '/usr/local/lib/python3.8/test/test_copy.py'...\n",
            "Compiling '/usr/local/lib/python3.8/test/test_copyreg.py'...\n",
            "Compiling '/usr/local/lib/python3.8/test/test_coroutines.py'...\n",
            "Compiling '/usr/local/lib/python3.8/test/test_cprofile.py'...\n",
            "Compiling '/usr/local/lib/python3.8/test/test_crashers.py'...\n",
            "Compiling '/usr/local/lib/python3.8/test/test_crypt.py'...\n",
            "Compiling '/usr/local/lib/python3.8/test/test_csv.py'...\n",
            "Compiling '/usr/local/lib/python3.8/test/test_ctypes.py'...\n",
            "Compiling '/usr/local/lib/python3.8/test/test_curses.py'...\n",
            "Compiling '/usr/local/lib/python3.8/test/test_dataclasses.py'...\n",
            "Compiling '/usr/local/lib/python3.8/test/test_datetime.py'...\n",
            "Compiling '/usr/local/lib/python3.8/test/test_dbm.py'...\n",
            "Compiling '/usr/local/lib/python3.8/test/test_dbm_dumb.py'...\n",
            "Compiling '/usr/local/lib/python3.8/test/test_dbm_gnu.py'...\n",
            "Compiling '/usr/local/lib/python3.8/test/test_dbm_ndbm.py'...\n",
            "Compiling '/usr/local/lib/python3.8/test/test_decimal.py'...\n",
            "Compiling '/usr/local/lib/python3.8/test/test_decorators.py'...\n",
            "Compiling '/usr/local/lib/python3.8/test/test_defaultdict.py'...\n",
            "Compiling '/usr/local/lib/python3.8/test/test_deque.py'...\n",
            "Compiling '/usr/local/lib/python3.8/test/test_descr.py'...\n",
            "Compiling '/usr/local/lib/python3.8/test/test_descrtut.py'...\n",
            "Compiling '/usr/local/lib/python3.8/test/test_devpoll.py'...\n",
            "Compiling '/usr/local/lib/python3.8/test/test_dict.py'...\n",
            "Compiling '/usr/local/lib/python3.8/test/test_dict_version.py'...\n",
            "Compiling '/usr/local/lib/python3.8/test/test_dictcomps.py'...\n",
            "Compiling '/usr/local/lib/python3.8/test/test_dictviews.py'...\n",
            "Compiling '/usr/local/lib/python3.8/test/test_difflib.py'...\n",
            "Compiling '/usr/local/lib/python3.8/test/test_dis.py'...\n",
            "Compiling '/usr/local/lib/python3.8/test/test_distutils.py'...\n",
            "Compiling '/usr/local/lib/python3.8/test/test_doctest.py'...\n",
            "Compiling '/usr/local/lib/python3.8/test/test_docxmlrpc.py'...\n",
            "Compiling '/usr/local/lib/python3.8/test/test_doctest2.py'...\n",
            "Compiling '/usr/local/lib/python3.8/test/test_dtrace.py'...\n",
            "Compiling '/usr/local/lib/python3.8/test/test_dummy_thread.py'...\n",
            "Compiling '/usr/local/lib/python3.8/test/test_dummy_threading.py'...\n",
            "Compiling '/usr/local/lib/python3.8/test/test_dynamic.py'...\n",
            "Compiling '/usr/local/lib/python3.8/test/test_dynamicclassattribute.py'...\n",
            "Compiling '/usr/local/lib/python3.8/test/test_eintr.py'...\n",
            "Compiling '/usr/local/lib/python3.8/test/test_email/__init__.py'...\n",
            "Compiling '/usr/local/lib/python3.8/test/test_email/__main__.py'...\n",
            "Compiling '/usr/local/lib/python3.8/test/test_email/test__encoded_words.py'...\n",
            "Compiling '/usr/local/lib/python3.8/test/test_email/test__header_value_parser.py'...\n",
            "Compiling '/usr/local/lib/python3.8/test/test_email/test_asian_codecs.py'...\n",
            "Compiling '/usr/local/lib/python3.8/test/test_email/test_contentmanager.py'...\n",
            "Compiling '/usr/local/lib/python3.8/test/test_email/test_defect_handling.py'...\n",
            "Compiling '/usr/local/lib/python3.8/test/test_email/test_generator.py'...\n",
            "Compiling '/usr/local/lib/python3.8/test/test_email/test_email.py'...\n",
            "Compiling '/usr/local/lib/python3.8/test/test_email/test_headerregistry.py'...\n",
            "Compiling '/usr/local/lib/python3.8/test/test_email/test_inversion.py'...\n",
            "Compiling '/usr/local/lib/python3.8/test/test_email/test_message.py'...\n",
            "Compiling '/usr/local/lib/python3.8/test/test_email/test_parser.py'...\n",
            "Compiling '/usr/local/lib/python3.8/test/test_email/test_pickleable.py'...\n",
            "Compiling '/usr/local/lib/python3.8/test/test_email/test_policy.py'...\n",
            "Compiling '/usr/local/lib/python3.8/test/test_email/test_utils.py'...\n",
            "Compiling '/usr/local/lib/python3.8/test/test_email/torture_test.py'...\n",
            "Compiling '/usr/local/lib/python3.8/test/test_embed.py'...\n",
            "Compiling '/usr/local/lib/python3.8/test/test_ensurepip.py'...\n",
            "Compiling '/usr/local/lib/python3.8/test/test_enum.py'...\n",
            "Compiling '/usr/local/lib/python3.8/test/test_enumerate.py'...\n",
            "Compiling '/usr/local/lib/python3.8/test/test_eof.py'...\n",
            "Compiling '/usr/local/lib/python3.8/test/test_epoll.py'...\n",
            "Compiling '/usr/local/lib/python3.8/test/test_errno.py'...\n",
            "Compiling '/usr/local/lib/python3.8/test/test_exception_hierarchy.py'...\n",
            "Compiling '/usr/local/lib/python3.8/test/test_exception_variations.py'...\n",
            "Compiling '/usr/local/lib/python3.8/test/test_exceptions.py'...\n",
            "Compiling '/usr/local/lib/python3.8/test/test_extcall.py'...\n",
            "Compiling '/usr/local/lib/python3.8/test/test_faulthandler.py'...\n",
            "Compiling '/usr/local/lib/python3.8/test/test_fcntl.py'...\n",
            "Compiling '/usr/local/lib/python3.8/test/test_file.py'...\n",
            "Compiling '/usr/local/lib/python3.8/test/test_file_eintr.py'...\n",
            "Compiling '/usr/local/lib/python3.8/test/test_filecmp.py'...\n",
            "Compiling '/usr/local/lib/python3.8/test/test_fileinput.py'...\n",
            "Compiling '/usr/local/lib/python3.8/test/test_fileio.py'...\n",
            "Compiling '/usr/local/lib/python3.8/test/test_finalization.py'...\n",
            "Compiling '/usr/local/lib/python3.8/test/test_float.py'...\n",
            "Compiling '/usr/local/lib/python3.8/test/test_flufl.py'...\n",
            "Compiling '/usr/local/lib/python3.8/test/test_fnmatch.py'...\n",
            "Compiling '/usr/local/lib/python3.8/test/test_fork1.py'...\n",
            "Compiling '/usr/local/lib/python3.8/test/test_format.py'...\n",
            "Compiling '/usr/local/lib/python3.8/test/test_frame.py'...\n",
            "Compiling '/usr/local/lib/python3.8/test/test_frozen.py'...\n",
            "Compiling '/usr/local/lib/python3.8/test/test_fractions.py'...\n",
            "Compiling '/usr/local/lib/python3.8/test/test_fstring.py'...\n",
            "Compiling '/usr/local/lib/python3.8/test/test_ftplib.py'...\n",
            "Compiling '/usr/local/lib/python3.8/test/test_funcattrs.py'...\n",
            "Compiling '/usr/local/lib/python3.8/test/test_functools.py'...\n",
            "Compiling '/usr/local/lib/python3.8/test/test_future.py'...\n",
            "Compiling '/usr/local/lib/python3.8/test/test_future3.py'...\n",
            "Compiling '/usr/local/lib/python3.8/test/test_future4.py'...\n",
            "Compiling '/usr/local/lib/python3.8/test/test_future5.py'...\n",
            "Compiling '/usr/local/lib/python3.8/test/test_gdb.py'...\n",
            "Compiling '/usr/local/lib/python3.8/test/test_generator_stop.py'...\n",
            "Compiling '/usr/local/lib/python3.8/test/test_generators.py'...\n",
            "Compiling '/usr/local/lib/python3.8/test/test_genericpath.py'...\n",
            "Compiling '/usr/local/lib/python3.8/test/test_genericclass.py'...\n",
            "Compiling '/usr/local/lib/python3.8/test/test_genexps.py'...\n",
            "Compiling '/usr/local/lib/python3.8/test/test_getargs2.py'...\n",
            "Compiling '/usr/local/lib/python3.8/test/test_gc.py'...\n",
            "Compiling '/usr/local/lib/python3.8/test/test_getopt.py'...\n",
            "Compiling '/usr/local/lib/python3.8/test/test_getpass.py'...\n",
            "Compiling '/usr/local/lib/python3.8/test/test_gettext.py'...\n",
            "Compiling '/usr/local/lib/python3.8/test/test_glob.py'...\n",
            "Compiling '/usr/local/lib/python3.8/test/test_global.py'...\n",
            "Compiling '/usr/local/lib/python3.8/test/test_grammar.py'...\n",
            "Compiling '/usr/local/lib/python3.8/test/test_grp.py'...\n",
            "Compiling '/usr/local/lib/python3.8/test/test_gzip.py'...\n",
            "Compiling '/usr/local/lib/python3.8/test/test_hash.py'...\n",
            "Compiling '/usr/local/lib/python3.8/test/test_hashlib.py'...\n",
            "Compiling '/usr/local/lib/python3.8/test/test_heapq.py'...\n",
            "Compiling '/usr/local/lib/python3.8/test/test_hmac.py'...\n",
            "Compiling '/usr/local/lib/python3.8/test/test_html.py'...\n",
            "Compiling '/usr/local/lib/python3.8/test/test_htmlparser.py'...\n",
            "Compiling '/usr/local/lib/python3.8/test/test_http_cookies.py'...\n",
            "Compiling '/usr/local/lib/python3.8/test/test_http_cookiejar.py'...\n",
            "Compiling '/usr/local/lib/python3.8/test/test_httplib.py'...\n",
            "Compiling '/usr/local/lib/python3.8/test/test_httpservers.py'...\n",
            "Compiling '/usr/local/lib/python3.8/test/test_idle.py'...\n",
            "Compiling '/usr/local/lib/python3.8/test/test_imghdr.py'...\n",
            "Compiling '/usr/local/lib/python3.8/test/test_imaplib.py'...\n",
            "Compiling '/usr/local/lib/python3.8/test/test_imp.py'...\n",
            "Compiling '/usr/local/lib/python3.8/test/test_import/__init__.py'...\n",
            "Compiling '/usr/local/lib/python3.8/test/test_import/__main__.py'...\n",
            "Compiling '/usr/local/lib/python3.8/test/test_import/data/circular_imports/basic.py'...\n",
            "Compiling '/usr/local/lib/python3.8/test/test_import/data/circular_imports/basic2.py'...\n",
            "Compiling '/usr/local/lib/python3.8/test/test_import/data/circular_imports/binding.py'...\n",
            "Compiling '/usr/local/lib/python3.8/test/test_import/data/circular_imports/binding2.py'...\n",
            "Compiling '/usr/local/lib/python3.8/test/test_import/data/circular_imports/from_cycle1.py'...\n",
            "Compiling '/usr/local/lib/python3.8/test/test_import/data/circular_imports/from_cycle2.py'...\n",
            "Compiling '/usr/local/lib/python3.8/test/test_import/data/circular_imports/rebinding.py'...\n",
            "Compiling '/usr/local/lib/python3.8/test/test_import/data/circular_imports/indirect.py'...\n",
            "Compiling '/usr/local/lib/python3.8/test/test_import/data/circular_imports/rebinding2.py'...\n",
            "Compiling '/usr/local/lib/python3.8/test/test_import/data/circular_imports/source.py'...\n",
            "Compiling '/usr/local/lib/python3.8/test/test_import/data/circular_imports/subpackage.py'...\n",
            "Compiling '/usr/local/lib/python3.8/test/test_import/data/circular_imports/subpkg/subpackage2.py'...\n",
            "Compiling '/usr/local/lib/python3.8/test/test_import/data/circular_imports/subpkg/util.py'...\n",
            "Compiling '/usr/local/lib/python3.8/test/test_import/data/circular_imports/use.py'...\n",
            "Compiling '/usr/local/lib/python3.8/test/test_import/data/circular_imports/util.py'...\n",
            "Compiling '/usr/local/lib/python3.8/test/test_import/data/package/__init__.py'...\n",
            "Compiling '/usr/local/lib/python3.8/test/test_import/data/package/submodule.py'...\n",
            "Compiling '/usr/local/lib/python3.8/test/test_import/data/package2/submodule1.py'...\n",
            "Compiling '/usr/local/lib/python3.8/test/test_importlib/__init__.py'...\n",
            "Compiling '/usr/local/lib/python3.8/test/test_import/data/package2/submodule2.py'...\n",
            "Compiling '/usr/local/lib/python3.8/test/test_importlib/__main__.py'...\n",
            "Compiling '/usr/local/lib/python3.8/test/test_importlib/abc.py'...\n",
            "Compiling '/usr/local/lib/python3.8/test/test_importlib/builtin/__init__.py'...\n",
            "Compiling '/usr/local/lib/python3.8/test/test_importlib/builtin/__main__.py'...\n",
            "Compiling '/usr/local/lib/python3.8/test/test_importlib/builtin/test_finder.py'...\n",
            "Compiling '/usr/local/lib/python3.8/test/test_importlib/builtin/test_loader.py'...\n",
            "Compiling '/usr/local/lib/python3.8/test/test_importlib/data/__init__.py'...\n",
            "Compiling '/usr/local/lib/python3.8/test/test_importlib/data01/__init__.py'...\n",
            "Compiling '/usr/local/lib/python3.8/test/test_importlib/data01/subdirectory/__init__.py'...\n",
            "Compiling '/usr/local/lib/python3.8/test/test_importlib/data02/__init__.py'...\n",
            "Compiling '/usr/local/lib/python3.8/test/test_importlib/data02/one/__init__.py'...\n",
            "Compiling '/usr/local/lib/python3.8/test/test_importlib/data02/two/__init__.py'...\n",
            "Compiling '/usr/local/lib/python3.8/test/test_importlib/data03/__init__.py'...\n",
            "Compiling '/usr/local/lib/python3.8/test/test_importlib/data03/namespace/portion1/__init__.py'...\n",
            "Compiling '/usr/local/lib/python3.8/test/test_importlib/data03/namespace/portion2/__init__.py'...\n",
            "Compiling '/usr/local/lib/python3.8/test/test_importlib/extension/__init__.py'...\n",
            "Compiling '/usr/local/lib/python3.8/test/test_importlib/extension/__main__.py'...\n",
            "Compiling '/usr/local/lib/python3.8/test/test_importlib/extension/test_case_sensitivity.py'...\n",
            "Compiling '/usr/local/lib/python3.8/test/test_importlib/extension/test_finder.py'...\n",
            "Compiling '/usr/local/lib/python3.8/test/test_importlib/extension/test_loader.py'...\n",
            "Compiling '/usr/local/lib/python3.8/test/test_importlib/extension/test_path_hook.py'...\n",
            "Compiling '/usr/local/lib/python3.8/test/test_importlib/fixtures.py'...\n",
            "Compiling '/usr/local/lib/python3.8/test/test_importlib/frozen/__init__.py'...\n",
            "Compiling '/usr/local/lib/python3.8/test/test_importlib/frozen/__main__.py'...\n",
            "Compiling '/usr/local/lib/python3.8/test/test_importlib/frozen/test_finder.py'...\n",
            "Compiling '/usr/local/lib/python3.8/test/test_importlib/frozen/test_loader.py'...\n",
            "Compiling '/usr/local/lib/python3.8/test/test_importlib/import_/__init__.py'...\n",
            "Compiling '/usr/local/lib/python3.8/test/test_importlib/import_/__main__.py'...\n",
            "Compiling '/usr/local/lib/python3.8/test/test_importlib/import_/test___loader__.py'...\n",
            "Compiling '/usr/local/lib/python3.8/test/test_importlib/import_/test___package__.py'...\n",
            "Compiling '/usr/local/lib/python3.8/test/test_importlib/import_/test_api.py'...\n",
            "Compiling '/usr/local/lib/python3.8/test/test_importlib/import_/test_caching.py'...\n",
            "Compiling '/usr/local/lib/python3.8/test/test_importlib/import_/test_fromlist.py'...\n",
            "Compiling '/usr/local/lib/python3.8/test/test_importlib/import_/test_meta_path.py'...\n",
            "Compiling '/usr/local/lib/python3.8/test/test_importlib/import_/test_packages.py'...\n",
            "Compiling '/usr/local/lib/python3.8/test/test_importlib/import_/test_path.py'...\n",
            "Compiling '/usr/local/lib/python3.8/test/test_importlib/import_/test_relative_imports.py'...\n",
            "Compiling '/usr/local/lib/python3.8/test/test_importlib/namespace_pkgs/both_portions/foo/one.py'...\n",
            "Compiling '/usr/local/lib/python3.8/test/test_importlib/namespace_pkgs/both_portions/foo/two.py'...\n",
            "Compiling '/usr/local/lib/python3.8/test/test_importlib/namespace_pkgs/module_and_namespace_package/a_test.py'...\n",
            "Compiling '/usr/local/lib/python3.8/test/test_importlib/namespace_pkgs/not_a_namespace_pkg/foo/__init__.py'...\n",
            "Compiling '/usr/local/lib/python3.8/test/test_importlib/namespace_pkgs/not_a_namespace_pkg/foo/one.py'...\n",
            "Compiling '/usr/local/lib/python3.8/test/test_importlib/namespace_pkgs/portion2/foo/two.py'...\n",
            "Compiling '/usr/local/lib/python3.8/test/test_importlib/namespace_pkgs/project2/parent/child/two.py'...\n",
            "Compiling '/usr/local/lib/python3.8/test/test_importlib/namespace_pkgs/project1/parent/child/one.py'...\n",
            "Compiling '/usr/local/lib/python3.8/test/test_importlib/namespace_pkgs/portion1/foo/one.py'...\n",
            "Compiling '/usr/local/lib/python3.8/test/test_importlib/namespace_pkgs/project3/parent/child/three.py'...\n",
            "Compiling '/usr/local/lib/python3.8/test/test_importlib/source/__init__.py'...\n",
            "Compiling '/usr/local/lib/python3.8/test/test_importlib/source/__main__.py'...\n",
            "Compiling '/usr/local/lib/python3.8/test/test_importlib/source/test_case_sensitivity.py'...\n",
            "Compiling '/usr/local/lib/python3.8/test/test_importlib/source/test_file_loader.py'...\n",
            "Compiling '/usr/local/lib/python3.8/test/test_importlib/source/test_finder.py'...\n",
            "Compiling '/usr/local/lib/python3.8/test/test_importlib/source/test_path_hook.py'...\n",
            "Compiling '/usr/local/lib/python3.8/test/test_importlib/source/test_source_encoding.py'...\n",
            "Compiling '/usr/local/lib/python3.8/test/test_importlib/stubs.py'...\n",
            "Compiling '/usr/local/lib/python3.8/test/test_importlib/test_abc.py'...\n",
            "Compiling '/usr/local/lib/python3.8/test/test_importlib/test_api.py'...\n",
            "Compiling '/usr/local/lib/python3.8/test/test_importlib/test_lazy.py'...\n",
            "Compiling '/usr/local/lib/python3.8/test/test_importlib/test_locks.py'...\n",
            "Compiling '/usr/local/lib/python3.8/test/test_importlib/test_main.py'...\n",
            "Compiling '/usr/local/lib/python3.8/test/test_importlib/test_metadata_api.py'...\n",
            "Compiling '/usr/local/lib/python3.8/test/test_importlib/test_namespace_pkgs.py'...\n",
            "Compiling '/usr/local/lib/python3.8/test/test_importlib/test_open.py'...\n",
            "Compiling '/usr/local/lib/python3.8/test/test_importlib/test_path.py'...\n",
            "Compiling '/usr/local/lib/python3.8/test/test_importlib/test_read.py'...\n",
            "Compiling '/usr/local/lib/python3.8/test/test_importlib/test_resource.py'...\n",
            "Compiling '/usr/local/lib/python3.8/test/test_importlib/test_util.py'...\n",
            "Compiling '/usr/local/lib/python3.8/test/test_importlib/test_spec.py'...\n",
            "Compiling '/usr/local/lib/python3.8/test/test_importlib/test_windows.py'...\n",
            "Compiling '/usr/local/lib/python3.8/test/test_importlib/test_zip.py'...\n",
            "Compiling '/usr/local/lib/python3.8/test/test_importlib/util.py'...\n",
            "Compiling '/usr/local/lib/python3.8/test/test_importlib/zipdata01/__init__.py'...\n",
            "Compiling '/usr/local/lib/python3.8/test/test_importlib/zipdata02/__init__.py'...\n",
            "Compiling '/usr/local/lib/python3.8/test/test_index.py'...\n",
            "Compiling '/usr/local/lib/python3.8/test/test_inspect.py'...\n",
            "Compiling '/usr/local/lib/python3.8/test/test_int.py'...\n",
            "Compiling '/usr/local/lib/python3.8/test/test_int_literal.py'...\n",
            "Compiling '/usr/local/lib/python3.8/test/test_io.py'...\n",
            "Compiling '/usr/local/lib/python3.8/test/test_ioctl.py'...\n",
            "Compiling '/usr/local/lib/python3.8/test/test_ipaddress.py'...\n",
            "Compiling '/usr/local/lib/python3.8/test/test_isinstance.py'...\n",
            "Compiling '/usr/local/lib/python3.8/test/test_iter.py'...\n",
            "Compiling '/usr/local/lib/python3.8/test/test_iterlen.py'...\n",
            "Compiling '/usr/local/lib/python3.8/test/test_itertools.py'...\n",
            "Compiling '/usr/local/lib/python3.8/test/test_json/__init__.py'...\n",
            "Compiling '/usr/local/lib/python3.8/test/test_json/__main__.py'...\n",
            "Compiling '/usr/local/lib/python3.8/test/test_json/test_decode.py'...\n",
            "Compiling '/usr/local/lib/python3.8/test/test_json/test_default.py'...\n",
            "Compiling '/usr/local/lib/python3.8/test/test_json/test_dump.py'...\n",
            "Compiling '/usr/local/lib/python3.8/test/test_json/test_encode_basestring_ascii.py'...\n",
            "Compiling '/usr/local/lib/python3.8/test/test_json/test_enum.py'...\n",
            "Compiling '/usr/local/lib/python3.8/test/test_json/test_fail.py'...\n",
            "Compiling '/usr/local/lib/python3.8/test/test_json/test_float.py'...\n",
            "Compiling '/usr/local/lib/python3.8/test/test_json/test_indent.py'...\n",
            "Compiling '/usr/local/lib/python3.8/test/test_json/test_pass1.py'...\n",
            "Compiling '/usr/local/lib/python3.8/test/test_json/test_pass2.py'...\n",
            "Compiling '/usr/local/lib/python3.8/test/test_json/test_pass3.py'...\n",
            "Compiling '/usr/local/lib/python3.8/test/test_json/test_recursion.py'...\n",
            "Compiling '/usr/local/lib/python3.8/test/test_json/test_scanstring.py'...\n",
            "Compiling '/usr/local/lib/python3.8/test/test_json/test_separators.py'...\n",
            "Compiling '/usr/local/lib/python3.8/test/test_json/test_speedups.py'...\n",
            "Compiling '/usr/local/lib/python3.8/test/test_json/test_tool.py'...\n",
            "Compiling '/usr/local/lib/python3.8/test/test_json/test_unicode.py'...\n",
            "Compiling '/usr/local/lib/python3.8/test/test_keyword.py'...\n",
            "Compiling '/usr/local/lib/python3.8/test/test_keywordonlyarg.py'...\n",
            "Compiling '/usr/local/lib/python3.8/test/test_kqueue.py'...\n",
            "Compiling '/usr/local/lib/python3.8/test/test_largefile.py'...\n",
            "Compiling '/usr/local/lib/python3.8/test/test_lib2to3.py'...\n",
            "Compiling '/usr/local/lib/python3.8/test/test_linecache.py'...\n",
            "Compiling '/usr/local/lib/python3.8/test/test_list.py'...\n",
            "Compiling '/usr/local/lib/python3.8/test/test_listcomps.py'...\n",
            "Compiling '/usr/local/lib/python3.8/test/test_lltrace.py'...\n",
            "Compiling '/usr/local/lib/python3.8/test/test_locale.py'...\n",
            "Compiling '/usr/local/lib/python3.8/test/test_logging.py'...\n",
            "Compiling '/usr/local/lib/python3.8/test/test_long.py'...\n",
            "Compiling '/usr/local/lib/python3.8/test/test_longexp.py'...\n",
            "Compiling '/usr/local/lib/python3.8/test/test_lzma.py'...\n",
            "Compiling '/usr/local/lib/python3.8/test/test_mailbox.py'...\n",
            "Compiling '/usr/local/lib/python3.8/test/test_mailcap.py'...\n",
            "Compiling '/usr/local/lib/python3.8/test/test_marshal.py'...\n",
            "Compiling '/usr/local/lib/python3.8/test/test_math.py'...\n",
            "Compiling '/usr/local/lib/python3.8/test/test_memoryio.py'...\n",
            "Compiling '/usr/local/lib/python3.8/test/test_memoryview.py'...\n",
            "Compiling '/usr/local/lib/python3.8/test/test_metaclass.py'...\n",
            "Compiling '/usr/local/lib/python3.8/test/test_mimetypes.py'...\n",
            "Compiling '/usr/local/lib/python3.8/test/test_minidom.py'...\n",
            "Compiling '/usr/local/lib/python3.8/test/test_mmap.py'...\n",
            "Compiling '/usr/local/lib/python3.8/test/test_module.py'...\n",
            "Compiling '/usr/local/lib/python3.8/test/test_modulefinder.py'...\n",
            "Compiling '/usr/local/lib/python3.8/test/test_msilib.py'...\n",
            "Compiling '/usr/local/lib/python3.8/test/test_multibytecodec.py'...\n",
            "Compiling '/usr/local/lib/python3.8/test/test_multiprocessing_fork.py'...\n",
            "Compiling '/usr/local/lib/python3.8/test/test_multiprocessing_forkserver.py'...\n",
            "Compiling '/usr/local/lib/python3.8/test/test_multiprocessing_spawn.py'...\n",
            "Compiling '/usr/local/lib/python3.8/test/test_multiprocessing_main_handling.py'...\n",
            "Compiling '/usr/local/lib/python3.8/test/test_named_expressions.py'...\n",
            "Compiling '/usr/local/lib/python3.8/test/test_netrc.py'...\n",
            "Compiling '/usr/local/lib/python3.8/test/test_nis.py'...\n",
            "Compiling '/usr/local/lib/python3.8/test/test_normalization.py'...\n",
            "Compiling '/usr/local/lib/python3.8/test/test_nntplib.py'...\n",
            "Compiling '/usr/local/lib/python3.8/test/test_ntpath.py'...\n",
            "Compiling '/usr/local/lib/python3.8/test/test_numeric_tower.py'...\n",
            "Compiling '/usr/local/lib/python3.8/test/test_opcodes.py'...\n",
            "Compiling '/usr/local/lib/python3.8/test/test_openpty.py'...\n",
            "Compiling '/usr/local/lib/python3.8/test/test_operator.py'...\n",
            "Compiling '/usr/local/lib/python3.8/test/test_optparse.py'...\n",
            "Compiling '/usr/local/lib/python3.8/test/test_ordered_dict.py'...\n",
            "Compiling '/usr/local/lib/python3.8/test/test_os.py'...\n",
            "Compiling '/usr/local/lib/python3.8/test/test_ossaudiodev.py'...\n",
            "Compiling '/usr/local/lib/python3.8/test/test_osx_env.py'...\n",
            "Compiling '/usr/local/lib/python3.8/test/test_parser.py'...\n",
            "Compiling '/usr/local/lib/python3.8/test/test_pathlib.py'...\n",
            "Compiling '/usr/local/lib/python3.8/test/test_pdb.py'...\n",
            "Compiling '/usr/local/lib/python3.8/test/test_peepholer.py'...\n",
            "Compiling '/usr/local/lib/python3.8/test/test_pickle.py'...\n",
            "Compiling '/usr/local/lib/python3.8/test/test_picklebuffer.py'...\n",
            "Compiling '/usr/local/lib/python3.8/test/test_pickletools.py'...\n",
            "Compiling '/usr/local/lib/python3.8/test/test_pipes.py'...\n",
            "Compiling '/usr/local/lib/python3.8/test/test_pkgimport.py'...\n",
            "Compiling '/usr/local/lib/python3.8/test/test_pkg.py'...\n",
            "Compiling '/usr/local/lib/python3.8/test/test_pkgutil.py'...\n",
            "Compiling '/usr/local/lib/python3.8/test/test_platform.py'...\n",
            "Compiling '/usr/local/lib/python3.8/test/test_plistlib.py'...\n",
            "Compiling '/usr/local/lib/python3.8/test/test_poll.py'...\n",
            "Compiling '/usr/local/lib/python3.8/test/test_popen.py'...\n",
            "Compiling '/usr/local/lib/python3.8/test/test_poplib.py'...\n",
            "Compiling '/usr/local/lib/python3.8/test/test_positional_only_arg.py'...\n",
            "Compiling '/usr/local/lib/python3.8/test/test_posix.py'...\n",
            "Compiling '/usr/local/lib/python3.8/test/test_posixpath.py'...\n",
            "Compiling '/usr/local/lib/python3.8/test/test_pow.py'...\n",
            "Compiling '/usr/local/lib/python3.8/test/test_pprint.py'...\n",
            "Compiling '/usr/local/lib/python3.8/test/test_print.py'...\n",
            "Compiling '/usr/local/lib/python3.8/test/test_profile.py'...\n",
            "Compiling '/usr/local/lib/python3.8/test/test_property.py'...\n",
            "Compiling '/usr/local/lib/python3.8/test/test_pstats.py'...\n",
            "Compiling '/usr/local/lib/python3.8/test/test_pty.py'...\n",
            "Compiling '/usr/local/lib/python3.8/test/test_pulldom.py'...\n",
            "Compiling '/usr/local/lib/python3.8/test/test_pwd.py'...\n",
            "Compiling '/usr/local/lib/python3.8/test/test_py_compile.py'...\n",
            "Compiling '/usr/local/lib/python3.8/test/test_pyclbr.py'...\n",
            "Compiling '/usr/local/lib/python3.8/test/test_pydoc.py'...\n",
            "Compiling '/usr/local/lib/python3.8/test/test_pyexpat.py'...\n",
            "Compiling '/usr/local/lib/python3.8/test/test_queue.py'...\n",
            "Compiling '/usr/local/lib/python3.8/test/test_quopri.py'...\n",
            "Compiling '/usr/local/lib/python3.8/test/test_raise.py'...\n",
            "Compiling '/usr/local/lib/python3.8/test/test_random.py'...\n",
            "Compiling '/usr/local/lib/python3.8/test/test_range.py'...\n",
            "Compiling '/usr/local/lib/python3.8/test/test_re.py'...\n",
            "Compiling '/usr/local/lib/python3.8/test/test_readline.py'...\n",
            "Compiling '/usr/local/lib/python3.8/test/test_regrtest.py'...\n",
            "Compiling '/usr/local/lib/python3.8/test/test_repl.py'...\n",
            "Compiling '/usr/local/lib/python3.8/test/test_reprlib.py'...\n",
            "Compiling '/usr/local/lib/python3.8/test/test_resource.py'...\n",
            "Compiling '/usr/local/lib/python3.8/test/test_richcmp.py'...\n",
            "Compiling '/usr/local/lib/python3.8/test/test_rlcompleter.py'...\n",
            "Compiling '/usr/local/lib/python3.8/test/test_robotparser.py'...\n",
            "Compiling '/usr/local/lib/python3.8/test/test_runpy.py'...\n",
            "Compiling '/usr/local/lib/python3.8/test/test_sched.py'...\n",
            "Compiling '/usr/local/lib/python3.8/test/test_scope.py'...\n",
            "Compiling '/usr/local/lib/python3.8/test/test_sax.py'...\n",
            "Compiling '/usr/local/lib/python3.8/test/test_script_helper.py'...\n",
            "Compiling '/usr/local/lib/python3.8/test/test_secrets.py'...\n",
            "Compiling '/usr/local/lib/python3.8/test/test_select.py'...\n",
            "Compiling '/usr/local/lib/python3.8/test/test_selectors.py'...\n",
            "Compiling '/usr/local/lib/python3.8/test/test_set.py'...\n",
            "Compiling '/usr/local/lib/python3.8/test/test_setcomps.py'...\n",
            "Compiling '/usr/local/lib/python3.8/test/test_shelve.py'...\n",
            "Compiling '/usr/local/lib/python3.8/test/test_shlex.py'...\n",
            "Compiling '/usr/local/lib/python3.8/test/test_shutil.py'...\n",
            "Compiling '/usr/local/lib/python3.8/test/test_signal.py'...\n",
            "Compiling '/usr/local/lib/python3.8/test/test_site.py'...\n",
            "Compiling '/usr/local/lib/python3.8/test/test_slice.py'...\n",
            "Compiling '/usr/local/lib/python3.8/test/test_smtpd.py'...\n",
            "Compiling '/usr/local/lib/python3.8/test/test_smtplib.py'...\n",
            "Compiling '/usr/local/lib/python3.8/test/test_smtpnet.py'...\n",
            "Compiling '/usr/local/lib/python3.8/test/test_sndhdr.py'...\n",
            "Compiling '/usr/local/lib/python3.8/test/test_socket.py'...\n",
            "Compiling '/usr/local/lib/python3.8/test/test_socketserver.py'...\n",
            "Compiling '/usr/local/lib/python3.8/test/test_sort.py'...\n",
            "Compiling '/usr/local/lib/python3.8/test/test_source_encoding.py'...\n",
            "Compiling '/usr/local/lib/python3.8/test/test_spwd.py'...\n",
            "Compiling '/usr/local/lib/python3.8/test/test_sqlite.py'...\n",
            "Compiling '/usr/local/lib/python3.8/test/test_ssl.py'...\n",
            "Compiling '/usr/local/lib/python3.8/test/test_startfile.py'...\n",
            "Compiling '/usr/local/lib/python3.8/test/test_stat.py'...\n",
            "Compiling '/usr/local/lib/python3.8/test/test_statistics.py'...\n",
            "Compiling '/usr/local/lib/python3.8/test/test_strftime.py'...\n",
            "Compiling '/usr/local/lib/python3.8/test/test_string.py'...\n",
            "Compiling '/usr/local/lib/python3.8/test/test_string_literals.py'...\n",
            "Compiling '/usr/local/lib/python3.8/test/test_stringprep.py'...\n",
            "Compiling '/usr/local/lib/python3.8/test/test_strptime.py'...\n",
            "Compiling '/usr/local/lib/python3.8/test/test_strtod.py'...\n",
            "Compiling '/usr/local/lib/python3.8/test/test_struct.py'...\n",
            "Compiling '/usr/local/lib/python3.8/test/test_structmembers.py'...\n",
            "Compiling '/usr/local/lib/python3.8/test/test_structseq.py'...\n",
            "Compiling '/usr/local/lib/python3.8/test/test_subclassinit.py'...\n",
            "Compiling '/usr/local/lib/python3.8/test/test_subprocess.py'...\n",
            "Compiling '/usr/local/lib/python3.8/test/test_sunau.py'...\n",
            "Compiling '/usr/local/lib/python3.8/test/test_sundry.py'...\n",
            "Compiling '/usr/local/lib/python3.8/test/test_super.py'...\n",
            "Compiling '/usr/local/lib/python3.8/test/test_support.py'...\n",
            "Compiling '/usr/local/lib/python3.8/test/test_symbol.py'...\n",
            "Compiling '/usr/local/lib/python3.8/test/test_symtable.py'...\n",
            "Compiling '/usr/local/lib/python3.8/test/test_syntax.py'...\n",
            "Compiling '/usr/local/lib/python3.8/test/test_sys.py'...\n",
            "Compiling '/usr/local/lib/python3.8/test/test_sys_setprofile.py'...\n",
            "Compiling '/usr/local/lib/python3.8/test/test_sys_settrace.py'...\n",
            "Compiling '/usr/local/lib/python3.8/test/test_sysconfig.py'...\n",
            "Compiling '/usr/local/lib/python3.8/test/test_syslog.py'...\n",
            "Compiling '/usr/local/lib/python3.8/test/test_tabnanny.py'...\n",
            "Compiling '/usr/local/lib/python3.8/test/test_tarfile.py'...\n",
            "Compiling '/usr/local/lib/python3.8/test/test_tcl.py'...\n",
            "Compiling '/usr/local/lib/python3.8/test/test_telnetlib.py'...\n",
            "Compiling '/usr/local/lib/python3.8/test/test_tempfile.py'...\n",
            "Compiling '/usr/local/lib/python3.8/test/test_textwrap.py'...\n",
            "Compiling '/usr/local/lib/python3.8/test/test_thread.py'...\n",
            "Compiling '/usr/local/lib/python3.8/test/test_threaded_import.py'...\n",
            "Compiling '/usr/local/lib/python3.8/test/test_threadedtempfile.py'...\n",
            "Compiling '/usr/local/lib/python3.8/test/test_threading.py'...\n",
            "Compiling '/usr/local/lib/python3.8/test/test_threading_local.py'...\n",
            "Compiling '/usr/local/lib/python3.8/test/test_threadsignals.py'...\n",
            "Compiling '/usr/local/lib/python3.8/test/test_time.py'...\n",
            "Compiling '/usr/local/lib/python3.8/test/test_timeit.py'...\n",
            "Compiling '/usr/local/lib/python3.8/test/test_timeout.py'...\n",
            "Compiling '/usr/local/lib/python3.8/test/test_tix.py'...\n",
            "Compiling '/usr/local/lib/python3.8/test/test_tk.py'...\n",
            "Compiling '/usr/local/lib/python3.8/test/test_tokenize.py'...\n",
            "Compiling '/usr/local/lib/python3.8/test/test_tools/__main__.py'...\n",
            "Compiling '/usr/local/lib/python3.8/test/test_tools/__init__.py'...\n",
            "Compiling '/usr/local/lib/python3.8/test/test_tools/test_fixcid.py'...\n",
            "Compiling '/usr/local/lib/python3.8/test/test_tools/test_gprof2html.py'...\n",
            "Compiling '/usr/local/lib/python3.8/test/test_tools/test_i18n.py'...\n",
            "Compiling '/usr/local/lib/python3.8/test/test_tools/test_lll.py'...\n",
            "Compiling '/usr/local/lib/python3.8/test/test_tools/test_md5sum.py'...\n",
            "Compiling '/usr/local/lib/python3.8/test/test_tools/test_pathfix.py'...\n",
            "Compiling '/usr/local/lib/python3.8/test/test_tools/test_pdeps.py'...\n",
            "Compiling '/usr/local/lib/python3.8/test/test_tools/test_pindent.py'...\n",
            "Compiling '/usr/local/lib/python3.8/test/test_tools/test_sundry.py'...\n",
            "Compiling '/usr/local/lib/python3.8/test/test_tools/test_unparse.py'...\n",
            "Compiling '/usr/local/lib/python3.8/test/test_tools/test_reindent.py'...\n",
            "Compiling '/usr/local/lib/python3.8/test/test_trace.py'...\n",
            "Compiling '/usr/local/lib/python3.8/test/test_traceback.py'...\n",
            "Compiling '/usr/local/lib/python3.8/test/test_tracemalloc.py'...\n",
            "Compiling '/usr/local/lib/python3.8/test/test_ttk_guionly.py'...\n",
            "Compiling '/usr/local/lib/python3.8/test/test_ttk_textonly.py'...\n",
            "Compiling '/usr/local/lib/python3.8/test/test_tuple.py'...\n",
            "Compiling '/usr/local/lib/python3.8/test/test_type_comments.py'...\n",
            "Compiling '/usr/local/lib/python3.8/test/test_turtle.py'...\n",
            "Compiling '/usr/local/lib/python3.8/test/test_typechecks.py'...\n",
            "Compiling '/usr/local/lib/python3.8/test/test_types.py'...\n",
            "Compiling '/usr/local/lib/python3.8/test/test_typing.py'...\n",
            "Compiling '/usr/local/lib/python3.8/test/test_ucn.py'...\n",
            "Compiling '/usr/local/lib/python3.8/test/test_unary.py'...\n",
            "Compiling '/usr/local/lib/python3.8/test/test_unicode.py'...\n",
            "Compiling '/usr/local/lib/python3.8/test/test_unicode_file.py'...\n",
            "Compiling '/usr/local/lib/python3.8/test/test_unicode_file_functions.py'...\n",
            "Compiling '/usr/local/lib/python3.8/test/test_unicode_identifiers.py'...\n",
            "Compiling '/usr/local/lib/python3.8/test/test_unicodedata.py'...\n",
            "Compiling '/usr/local/lib/python3.8/test/test_unittest.py'...\n",
            "Compiling '/usr/local/lib/python3.8/test/test_univnewlines.py'...\n",
            "Compiling '/usr/local/lib/python3.8/test/test_unpack.py'...\n",
            "Compiling '/usr/local/lib/python3.8/test/test_unpack_ex.py'...\n",
            "Compiling '/usr/local/lib/python3.8/test/test_urllib.py'...\n",
            "Compiling '/usr/local/lib/python3.8/test/test_urllib2.py'...\n",
            "Compiling '/usr/local/lib/python3.8/test/test_urllib2_localnet.py'...\n",
            "Compiling '/usr/local/lib/python3.8/test/test_urllib2net.py'...\n",
            "Compiling '/usr/local/lib/python3.8/test/test_urllib_response.py'...\n",
            "Compiling '/usr/local/lib/python3.8/test/test_urllibnet.py'...\n",
            "Compiling '/usr/local/lib/python3.8/test/test_urlparse.py'...\n",
            "Compiling '/usr/local/lib/python3.8/test/test_userdict.py'...\n",
            "Compiling '/usr/local/lib/python3.8/test/test_userlist.py'...\n",
            "Compiling '/usr/local/lib/python3.8/test/test_userstring.py'...\n",
            "Compiling '/usr/local/lib/python3.8/test/test_utf8_mode.py'...\n",
            "Compiling '/usr/local/lib/python3.8/test/test_utf8source.py'...\n",
            "Compiling '/usr/local/lib/python3.8/test/test_uu.py'...\n",
            "Compiling '/usr/local/lib/python3.8/test/test_uuid.py'...\n",
            "Compiling '/usr/local/lib/python3.8/test/test_venv.py'...\n",
            "Compiling '/usr/local/lib/python3.8/test/test_wait3.py'...\n",
            "Compiling '/usr/local/lib/python3.8/test/test_wait4.py'...\n",
            "Compiling '/usr/local/lib/python3.8/test/test_warnings/__init__.py'...\n",
            "Compiling '/usr/local/lib/python3.8/test/test_warnings/__main__.py'...\n",
            "Compiling '/usr/local/lib/python3.8/test/test_warnings/data/import_warning.py'...\n",
            "Compiling '/usr/local/lib/python3.8/test/test_warnings/data/stacklevel.py'...\n",
            "Compiling '/usr/local/lib/python3.8/test/test_wave.py'...\n",
            "Compiling '/usr/local/lib/python3.8/test/test_weakref.py'...\n",
            "Compiling '/usr/local/lib/python3.8/test/test_weakset.py'...\n",
            "Compiling '/usr/local/lib/python3.8/test/test_webbrowser.py'...\n",
            "Compiling '/usr/local/lib/python3.8/test/test_winconsoleio.py'...\n",
            "Compiling '/usr/local/lib/python3.8/test/test_winreg.py'...\n",
            "Compiling '/usr/local/lib/python3.8/test/test_winsound.py'...\n",
            "Compiling '/usr/local/lib/python3.8/test/test_with.py'...\n",
            "Compiling '/usr/local/lib/python3.8/test/test_wsgiref.py'...\n",
            "Compiling '/usr/local/lib/python3.8/test/test_xdrlib.py'...\n",
            "Compiling '/usr/local/lib/python3.8/test/test_xml_dom_minicompat.py'...\n",
            "Compiling '/usr/local/lib/python3.8/test/test_xml_etree.py'...\n",
            "Compiling '/usr/local/lib/python3.8/test/test_xml_etree_c.py'...\n",
            "Compiling '/usr/local/lib/python3.8/test/test_xmlrpc.py'...\n",
            "Compiling '/usr/local/lib/python3.8/test/test_xmlrpc_net.py'...\n",
            "Compiling '/usr/local/lib/python3.8/test/test_xxtestfuzz.py'...\n",
            "Compiling '/usr/local/lib/python3.8/test/test_yield_from.py'...\n",
            "Compiling '/usr/local/lib/python3.8/test/test_zipapp.py'...\n",
            "Compiling '/usr/local/lib/python3.8/test/test_zipfile.py'...\n",
            "Compiling '/usr/local/lib/python3.8/test/test_zipfile64.py'...\n",
            "Compiling '/usr/local/lib/python3.8/test/test_zipimport.py'...\n",
            "Compiling '/usr/local/lib/python3.8/test/test_zipimport_support.py'...\n",
            "Compiling '/usr/local/lib/python3.8/test/test_zlib.py'...\n",
            "Compiling '/usr/local/lib/python3.8/test/testcodec.py'...\n",
            "Compiling '/usr/local/lib/python3.8/test/tf_inherit_check.py'...\n",
            "Compiling '/usr/local/lib/python3.8/test/threaded_import_hangers.py'...\n",
            "Compiling '/usr/local/lib/python3.8/test/time_hashlib.py'...\n",
            "Compiling '/usr/local/lib/python3.8/test/tracedmodules/__init__.py'...\n",
            "Compiling '/usr/local/lib/python3.8/test/tracedmodules/testmod.py'...\n",
            "Compiling '/usr/local/lib/python3.8/test/win_console_handler.py'...\n",
            "Compiling '/usr/local/lib/python3.8/test/xmltests.py'...\n",
            "Compiling '/usr/local/lib/python3.8/test/ziptestdata/testdata_module_inside_zip.py'...\n",
            "Compiling '/usr/local/lib/python3.8/textwrap.py'...\n",
            "Compiling '/usr/local/lib/python3.8/this.py'...\n",
            "Compiling '/usr/local/lib/python3.8/threading.py'...\n",
            "Compiling '/usr/local/lib/python3.8/timeit.py'...\n",
            "Compiling '/usr/local/lib/python3.8/tkinter/__init__.py'...\n",
            "Compiling '/usr/local/lib/python3.8/tkinter/__main__.py'...\n",
            "Compiling '/usr/local/lib/python3.8/tkinter/colorchooser.py'...\n",
            "Compiling '/usr/local/lib/python3.8/tkinter/commondialog.py'...\n",
            "Compiling '/usr/local/lib/python3.8/tkinter/dialog.py'...\n",
            "Compiling '/usr/local/lib/python3.8/tkinter/constants.py'...\n",
            "Compiling '/usr/local/lib/python3.8/tkinter/dnd.py'...\n",
            "Compiling '/usr/local/lib/python3.8/tkinter/filedialog.py'...\n",
            "Compiling '/usr/local/lib/python3.8/tkinter/font.py'...\n",
            "Compiling '/usr/local/lib/python3.8/tkinter/messagebox.py'...\n",
            "Compiling '/usr/local/lib/python3.8/tkinter/scrolledtext.py'...\n",
            "Compiling '/usr/local/lib/python3.8/tkinter/simpledialog.py'...\n",
            "Compiling '/usr/local/lib/python3.8/tkinter/test/__init__.py'...\n",
            "Compiling '/usr/local/lib/python3.8/tkinter/test/runtktests.py'...\n",
            "Compiling '/usr/local/lib/python3.8/tkinter/test/support.py'...\n",
            "Compiling '/usr/local/lib/python3.8/tkinter/test/test_tkinter/__init__.py'...\n",
            "Compiling '/usr/local/lib/python3.8/tkinter/test/test_tkinter/test_font.py'...\n",
            "Compiling '/usr/local/lib/python3.8/tkinter/test/test_tkinter/test_geometry_managers.py'...\n",
            "Compiling '/usr/local/lib/python3.8/tkinter/test/test_tkinter/test_images.py'...\n",
            "Compiling '/usr/local/lib/python3.8/tkinter/test/test_tkinter/test_misc.py'...\n",
            "Compiling '/usr/local/lib/python3.8/tkinter/test/test_tkinter/test_loadtk.py'...\n",
            "Compiling '/usr/local/lib/python3.8/tkinter/test/test_tkinter/test_text.py'...\n",
            "Compiling '/usr/local/lib/python3.8/tkinter/test/test_tkinter/test_variables.py'...\n",
            "Compiling '/usr/local/lib/python3.8/tkinter/test/test_tkinter/test_widgets.py'...\n",
            "Compiling '/usr/local/lib/python3.8/tkinter/test/test_ttk/__init__.py'...\n",
            "Compiling '/usr/local/lib/python3.8/tkinter/test/test_ttk/test_extensions.py'...\n",
            "Compiling '/usr/local/lib/python3.8/tkinter/test/test_ttk/test_functions.py'...\n",
            "Compiling '/usr/local/lib/python3.8/tkinter/test/test_ttk/test_style.py'...\n",
            "Compiling '/usr/local/lib/python3.8/tkinter/test/test_ttk/test_widgets.py'...\n",
            "Compiling '/usr/local/lib/python3.8/tkinter/test/widget_tests.py'...\n",
            "Compiling '/usr/local/lib/python3.8/tkinter/tix.py'...\n",
            "Compiling '/usr/local/lib/python3.8/tkinter/ttk.py'...\n",
            "Compiling '/usr/local/lib/python3.8/token.py'...\n",
            "Compiling '/usr/local/lib/python3.8/tokenize.py'...\n",
            "Compiling '/usr/local/lib/python3.8/trace.py'...\n",
            "Compiling '/usr/local/lib/python3.8/traceback.py'...\n",
            "Compiling '/usr/local/lib/python3.8/tracemalloc.py'...\n",
            "Compiling '/usr/local/lib/python3.8/tty.py'...\n",
            "Compiling '/usr/local/lib/python3.8/turtle.py'...\n",
            "Compiling '/usr/local/lib/python3.8/turtledemo/__init__.py'...\n",
            "Compiling '/usr/local/lib/python3.8/turtledemo/__main__.py'...\n",
            "Compiling '/usr/local/lib/python3.8/turtledemo/bytedesign.py'...\n",
            "Compiling '/usr/local/lib/python3.8/turtledemo/chaos.py'...\n",
            "Compiling '/usr/local/lib/python3.8/turtledemo/clock.py'...\n",
            "Compiling '/usr/local/lib/python3.8/turtledemo/colormixer.py'...\n",
            "Compiling '/usr/local/lib/python3.8/turtledemo/forest.py'...\n",
            "Compiling '/usr/local/lib/python3.8/turtledemo/fractalcurves.py'...\n",
            "Compiling '/usr/local/lib/python3.8/turtledemo/lindenmayer.py'...\n",
            "Compiling '/usr/local/lib/python3.8/turtledemo/minimal_hanoi.py'...\n",
            "Compiling '/usr/local/lib/python3.8/turtledemo/nim.py'...\n",
            "Compiling '/usr/local/lib/python3.8/turtledemo/paint.py'...\n",
            "Compiling '/usr/local/lib/python3.8/turtledemo/peace.py'...\n",
            "Compiling '/usr/local/lib/python3.8/turtledemo/penrose.py'...\n",
            "Compiling '/usr/local/lib/python3.8/turtledemo/planet_and_moon.py'...\n",
            "Compiling '/usr/local/lib/python3.8/turtledemo/rosette.py'...\n",
            "Compiling '/usr/local/lib/python3.8/turtledemo/round_dance.py'...\n",
            "Compiling '/usr/local/lib/python3.8/turtledemo/sorting_animate.py'...\n",
            "Compiling '/usr/local/lib/python3.8/turtledemo/tree.py'...\n",
            "Compiling '/usr/local/lib/python3.8/turtledemo/two_canvases.py'...\n",
            "Compiling '/usr/local/lib/python3.8/turtledemo/yinyang.py'...\n",
            "Compiling '/usr/local/lib/python3.8/typing.py'...\n",
            "Compiling '/usr/local/lib/python3.8/types.py'...\n",
            "Compiling '/usr/local/lib/python3.8/unittest/__init__.py'...\n",
            "Compiling '/usr/local/lib/python3.8/unittest/__main__.py'...\n",
            "Compiling '/usr/local/lib/python3.8/unittest/async_case.py'...\n",
            "Compiling '/usr/local/lib/python3.8/unittest/case.py'...\n",
            "Compiling '/usr/local/lib/python3.8/unittest/loader.py'...\n",
            "Compiling '/usr/local/lib/python3.8/unittest/main.py'...\n",
            "Compiling '/usr/local/lib/python3.8/unittest/mock.py'...\n",
            "Compiling '/usr/local/lib/python3.8/unittest/result.py'...\n",
            "Compiling '/usr/local/lib/python3.8/unittest/runner.py'...\n",
            "Compiling '/usr/local/lib/python3.8/unittest/signals.py'...\n",
            "Compiling '/usr/local/lib/python3.8/unittest/suite.py'...\n",
            "Compiling '/usr/local/lib/python3.8/unittest/test/__init__.py'...\n",
            "Compiling '/usr/local/lib/python3.8/unittest/test/__main__.py'...\n",
            "Compiling '/usr/local/lib/python3.8/unittest/test/_test_warnings.py'...\n",
            "Compiling '/usr/local/lib/python3.8/unittest/test/dummy.py'...\n",
            "Compiling '/usr/local/lib/python3.8/unittest/test/support.py'...\n",
            "Compiling '/usr/local/lib/python3.8/unittest/test/test_assertions.py'...\n",
            "Compiling '/usr/local/lib/python3.8/unittest/test/test_async_case.py'...\n",
            "Compiling '/usr/local/lib/python3.8/unittest/test/test_break.py'...\n",
            "Compiling '/usr/local/lib/python3.8/unittest/test/test_case.py'...\n",
            "Compiling '/usr/local/lib/python3.8/unittest/test/test_discovery.py'...\n",
            "Compiling '/usr/local/lib/python3.8/unittest/test/test_functiontestcase.py'...\n",
            "Compiling '/usr/local/lib/python3.8/unittest/test/test_loader.py'...\n",
            "Compiling '/usr/local/lib/python3.8/unittest/test/test_program.py'...\n",
            "Compiling '/usr/local/lib/python3.8/unittest/test/test_result.py'...\n",
            "Compiling '/usr/local/lib/python3.8/unittest/test/test_runner.py'...\n",
            "Compiling '/usr/local/lib/python3.8/unittest/test/test_setups.py'...\n",
            "Compiling '/usr/local/lib/python3.8/unittest/test/test_skipping.py'...\n",
            "Compiling '/usr/local/lib/python3.8/unittest/test/test_suite.py'...\n",
            "Compiling '/usr/local/lib/python3.8/unittest/test/testmock/__init__.py'...\n",
            "Compiling '/usr/local/lib/python3.8/unittest/test/testmock/__main__.py'...\n",
            "Compiling '/usr/local/lib/python3.8/unittest/test/testmock/support.py'...\n",
            "Compiling '/usr/local/lib/python3.8/unittest/test/testmock/testcallable.py'...\n",
            "Compiling '/usr/local/lib/python3.8/unittest/test/testmock/testasync.py'...\n",
            "Compiling '/usr/local/lib/python3.8/unittest/test/testmock/testhelpers.py'...\n",
            "Compiling '/usr/local/lib/python3.8/unittest/test/testmock/testmagicmethods.py'...\n",
            "Compiling '/usr/local/lib/python3.8/unittest/test/testmock/testmock.py'...\n",
            "Compiling '/usr/local/lib/python3.8/unittest/test/testmock/testpatch.py'...\n",
            "Compiling '/usr/local/lib/python3.8/unittest/test/testmock/testsealable.py'...\n",
            "Compiling '/usr/local/lib/python3.8/unittest/test/testmock/testsentinel.py'...\n",
            "Compiling '/usr/local/lib/python3.8/unittest/test/testmock/testwith.py'...\n",
            "Compiling '/usr/local/lib/python3.8/unittest/util.py'...\n",
            "Compiling '/usr/local/lib/python3.8/urllib/__init__.py'...\n",
            "Compiling '/usr/local/lib/python3.8/urllib/error.py'...\n",
            "Compiling '/usr/local/lib/python3.8/urllib/parse.py'...\n",
            "Compiling '/usr/local/lib/python3.8/urllib/request.py'...\n",
            "Compiling '/usr/local/lib/python3.8/urllib/response.py'...\n",
            "Compiling '/usr/local/lib/python3.8/urllib/robotparser.py'...\n",
            "Compiling '/usr/local/lib/python3.8/uu.py'...\n",
            "Compiling '/usr/local/lib/python3.8/uuid.py'...\n",
            "Compiling '/usr/local/lib/python3.8/venv/__init__.py'...\n",
            "Compiling '/usr/local/lib/python3.8/venv/__main__.py'...\n",
            "Compiling '/usr/local/lib/python3.8/warnings.py'...\n",
            "Compiling '/usr/local/lib/python3.8/wave.py'...\n",
            "Compiling '/usr/local/lib/python3.8/weakref.py'...\n",
            "Compiling '/usr/local/lib/python3.8/webbrowser.py'...\n",
            "Compiling '/usr/local/lib/python3.8/wsgiref/__init__.py'...\n",
            "Compiling '/usr/local/lib/python3.8/wsgiref/handlers.py'...\n",
            "Compiling '/usr/local/lib/python3.8/wsgiref/headers.py'...\n",
            "Compiling '/usr/local/lib/python3.8/wsgiref/simple_server.py'...\n",
            "Compiling '/usr/local/lib/python3.8/wsgiref/util.py'...\n",
            "Compiling '/usr/local/lib/python3.8/wsgiref/validate.py'...\n",
            "Compiling '/usr/local/lib/python3.8/xdrlib.py'...\n",
            "Compiling '/usr/local/lib/python3.8/xml/__init__.py'...\n",
            "Compiling '/usr/local/lib/python3.8/xml/dom/NodeFilter.py'...\n",
            "Compiling '/usr/local/lib/python3.8/xml/dom/__init__.py'...\n",
            "Compiling '/usr/local/lib/python3.8/xml/dom/domreg.py'...\n",
            "Compiling '/usr/local/lib/python3.8/xml/dom/expatbuilder.py'...\n",
            "Compiling '/usr/local/lib/python3.8/xml/dom/minidom.py'...\n",
            "Compiling '/usr/local/lib/python3.8/xml/dom/minicompat.py'...\n",
            "Compiling '/usr/local/lib/python3.8/xml/dom/pulldom.py'...\n",
            "Compiling '/usr/local/lib/python3.8/xml/dom/xmlbuilder.py'...\n",
            "Compiling '/usr/local/lib/python3.8/xml/etree/ElementInclude.py'...\n",
            "Compiling '/usr/local/lib/python3.8/xml/etree/ElementPath.py'...\n",
            "Compiling '/usr/local/lib/python3.8/xml/etree/ElementTree.py'...\n",
            "Compiling '/usr/local/lib/python3.8/xml/etree/__init__.py'...\n",
            "Compiling '/usr/local/lib/python3.8/xml/etree/cElementTree.py'...\n",
            "Compiling '/usr/local/lib/python3.8/xml/parsers/__init__.py'...\n",
            "Compiling '/usr/local/lib/python3.8/xml/parsers/expat.py'...\n",
            "Compiling '/usr/local/lib/python3.8/xml/sax/__init__.py'...\n",
            "Compiling '/usr/local/lib/python3.8/xml/sax/expatreader.py'...\n",
            "Compiling '/usr/local/lib/python3.8/xml/sax/_exceptions.py'...\n",
            "Compiling '/usr/local/lib/python3.8/xml/sax/handler.py'...\n",
            "Compiling '/usr/local/lib/python3.8/xml/sax/saxutils.py'...\n",
            "Compiling '/usr/local/lib/python3.8/xml/sax/xmlreader.py'...\n",
            "Compiling '/usr/local/lib/python3.8/xmlrpc/__init__.py'...\n",
            "Compiling '/usr/local/lib/python3.8/xmlrpc/client.py'...\n",
            "Compiling '/usr/local/lib/python3.8/xmlrpc/server.py'...\n",
            "Compiling '/usr/local/lib/python3.8/zipapp.py'...\n",
            "Compiling '/usr/local/lib/python3.8/zipfile.py'...\n",
            "Compiling '/usr/local/lib/python3.8/zipimport.py'...\n",
            "PYTHONPATH=/usr/local/lib/python3.8  \\\n",
            "\t./python -E -Wi -OO /usr/local/lib/python3.8/compileall.py \\\n",
            "\t-j0 -d /usr/local/lib/python3.8 -f \\\n",
            "\t-x 'bad_coding|badsyntax|site-packages|lib2to3/tests/data' \\\n",
            "\t/usr/local/lib/python3.8\n",
            "Listing '/usr/local/lib/python3.8'...\n",
            "Compiling '/usr/local/lib/python3.8/__future__.py'...\n",
            "Compiling '/usr/local/lib/python3.8/__phello__.foo.py'...\n",
            "Compiling '/usr/local/lib/python3.8/_dummy_thread.py'...\n",
            "Compiling '/usr/local/lib/python3.8/_bootlocale.py'...\n",
            "Compiling '/usr/local/lib/python3.8/_collections_abc.py'...\n",
            "Compiling '/usr/local/lib/python3.8/_compat_pickle.py'...\n",
            "Compiling '/usr/local/lib/python3.8/_compression.py'...\n",
            "Compiling '/usr/local/lib/python3.8/_markupbase.py'...\n",
            "Compiling '/usr/local/lib/python3.8/_osx_support.py'...\n",
            "Compiling '/usr/local/lib/python3.8/_py_abc.py'...\n",
            "Compiling '/usr/local/lib/python3.8/_pydecimal.py'...\n",
            "Compiling '/usr/local/lib/python3.8/_pyio.py'...\n",
            "Compiling '/usr/local/lib/python3.8/_sitebuiltins.py'...\n",
            "Compiling '/usr/local/lib/python3.8/_strptime.py'...\n",
            "Compiling '/usr/local/lib/python3.8/_sysconfigdata__linux_x86_64-linux-gnu.py'...\n",
            "Compiling '/usr/local/lib/python3.8/_threading_local.py'...\n",
            "Compiling '/usr/local/lib/python3.8/_weakrefset.py'...\n",
            "Compiling '/usr/local/lib/python3.8/abc.py'...\n",
            "Compiling '/usr/local/lib/python3.8/aifc.py'...\n",
            "Compiling '/usr/local/lib/python3.8/antigravity.py'...\n",
            "Compiling '/usr/local/lib/python3.8/argparse.py'...\n",
            "Compiling '/usr/local/lib/python3.8/ast.py'...\n",
            "Listing '/usr/local/lib/python3.8/asyncio'...\n",
            "Compiling '/usr/local/lib/python3.8/asynchat.py'...\n",
            "Listing '/usr/local/lib/python3.8/collections'...\n",
            "Listing '/usr/local/lib/python3.8/concurrent'...\n",
            "Listing '/usr/local/lib/python3.8/concurrent/futures'...\n",
            "Compiling '/usr/local/lib/python3.8/asyncio/__init__.py'...\n",
            "Compiling '/usr/local/lib/python3.8/asyncio/__main__.py'...\n",
            "Compiling '/usr/local/lib/python3.8/asyncio/base_events.py'...\n",
            "Compiling '/usr/local/lib/python3.8/asyncio/base_futures.py'...\n",
            "Compiling '/usr/local/lib/python3.8/asyncio/base_subprocess.py'...\n",
            "Compiling '/usr/local/lib/python3.8/asyncio/base_tasks.py'...\n",
            "Compiling '/usr/local/lib/python3.8/asyncio/constants.py'...\n",
            "Compiling '/usr/local/lib/python3.8/asyncio/coroutines.py'...\n",
            "Compiling '/usr/local/lib/python3.8/asyncio/events.py'...\n",
            "Compiling '/usr/local/lib/python3.8/asyncio/exceptions.py'...\n",
            "Compiling '/usr/local/lib/python3.8/asyncio/format_helpers.py'...\n",
            "Compiling '/usr/local/lib/python3.8/asyncio/futures.py'...\n",
            "Compiling '/usr/local/lib/python3.8/asyncio/locks.py'...\n",
            "Compiling '/usr/local/lib/python3.8/asyncio/log.py'...\n",
            "Listing '/usr/local/lib/python3.8/ctypes'...\n",
            "Listing '/usr/local/lib/python3.8/ctypes/macholib'...\n",
            "Listing '/usr/local/lib/python3.8/ctypes/test'...\n",
            "Compiling '/usr/local/lib/python3.8/asyncio/proactor_events.py'...\n",
            "Compiling '/usr/local/lib/python3.8/asyncio/protocols.py'...\n",
            "Compiling '/usr/local/lib/python3.8/asyncio/queues.py'...\n",
            "Compiling '/usr/local/lib/python3.8/asyncio/runners.py'...\n",
            "Listing '/usr/local/lib/python3.8/curses'...\n",
            "Compiling '/usr/local/lib/python3.8/asyncio/selector_events.py'...\n",
            "Compiling '/usr/local/lib/python3.8/asyncio/sslproto.py'...\n",
            "Compiling '/usr/local/lib/python3.8/asyncio/staggered.py'...\n",
            "Compiling '/usr/local/lib/python3.8/asyncio/streams.py'...\n",
            "Compiling '/usr/local/lib/python3.8/asyncio/subprocess.py'...\n",
            "Compiling '/usr/local/lib/python3.8/asyncio/tasks.py'...\n",
            "Listing '/usr/local/lib/python3.8/dbm'...\n",
            "Listing '/usr/local/lib/python3.8/distutils'...\n",
            "Listing '/usr/local/lib/python3.8/distutils/command'...\n",
            "Compiling '/usr/local/lib/python3.8/asyncio/transports.py'...\n",
            "Compiling '/usr/local/lib/python3.8/asyncio/trsock.py'...\n",
            "Compiling '/usr/local/lib/python3.8/asyncio/unix_events.py'...\n",
            "Compiling '/usr/local/lib/python3.8/asyncio/windows_utils.py'...\n",
            "Compiling '/usr/local/lib/python3.8/asyncio/windows_events.py'...\n",
            "Compiling '/usr/local/lib/python3.8/asyncore.py'...\n",
            "Compiling '/usr/local/lib/python3.8/base64.py'...\n",
            "Listing '/usr/local/lib/python3.8/distutils/tests'...\n",
            "Compiling '/usr/local/lib/python3.8/bdb.py'...\n",
            "Compiling '/usr/local/lib/python3.8/binhex.py'...\n",
            "Listing '/usr/local/lib/python3.8/email'...\n",
            "Compiling '/usr/local/lib/python3.8/bisect.py'...\n",
            "Compiling '/usr/local/lib/python3.8/bz2.py'...\n",
            "Compiling '/usr/local/lib/python3.8/cProfile.py'...\n",
            "Compiling '/usr/local/lib/python3.8/calendar.py'...\n",
            "Compiling '/usr/local/lib/python3.8/cgi.py'...\n",
            "Compiling '/usr/local/lib/python3.8/cgitb.py'...\n",
            "Compiling '/usr/local/lib/python3.8/cmd.py'...\n",
            "Compiling '/usr/local/lib/python3.8/chunk.py'...\n",
            "Compiling '/usr/local/lib/python3.8/code.py'...\n",
            "Compiling '/usr/local/lib/python3.8/codecs.py'...\n",
            "Listing '/usr/local/lib/python3.8/email/mime'...\n",
            "Listing '/usr/local/lib/python3.8/encodings'...\n",
            "Compiling '/usr/local/lib/python3.8/codeop.py'...\n",
            "Compiling '/usr/local/lib/python3.8/collections/__init__.py'...\n",
            "Compiling '/usr/local/lib/python3.8/collections/abc.py'...\n",
            "Compiling '/usr/local/lib/python3.8/colorsys.py'...\n",
            "Compiling '/usr/local/lib/python3.8/compileall.py'...\n",
            "Compiling '/usr/local/lib/python3.8/concurrent/__init__.py'...\n",
            "Compiling '/usr/local/lib/python3.8/concurrent/futures/__init__.py'...\n",
            "Compiling '/usr/local/lib/python3.8/concurrent/futures/_base.py'...\n",
            "Compiling '/usr/local/lib/python3.8/concurrent/futures/process.py'...\n",
            "Compiling '/usr/local/lib/python3.8/concurrent/futures/thread.py'...\n",
            "Compiling '/usr/local/lib/python3.8/configparser.py'...\n",
            "Compiling '/usr/local/lib/python3.8/contextlib.py'...\n",
            "Compiling '/usr/local/lib/python3.8/contextvars.py'...\n",
            "Compiling '/usr/local/lib/python3.8/copy.py'...\n",
            "Compiling '/usr/local/lib/python3.8/copyreg.py'...\n",
            "Compiling '/usr/local/lib/python3.8/crypt.py'...\n",
            "Compiling '/usr/local/lib/python3.8/csv.py'...\n",
            "Compiling '/usr/local/lib/python3.8/ctypes/__init__.py'...\n",
            "Compiling '/usr/local/lib/python3.8/ctypes/_aix.py'...\n",
            "Compiling '/usr/local/lib/python3.8/ctypes/_endian.py'...\n",
            "Compiling '/usr/local/lib/python3.8/ctypes/macholib/__init__.py'...\n",
            "Compiling '/usr/local/lib/python3.8/ctypes/macholib/dyld.py'...\n",
            "Compiling '/usr/local/lib/python3.8/ctypes/macholib/dylib.py'...\n",
            "Compiling '/usr/local/lib/python3.8/ctypes/macholib/framework.py'...\n",
            "Compiling '/usr/local/lib/python3.8/ctypes/test/__init__.py'...\n",
            "Compiling '/usr/local/lib/python3.8/ctypes/test/__main__.py'...\n",
            "Listing '/usr/local/lib/python3.8/ensurepip'...\n",
            "Compiling '/usr/local/lib/python3.8/ctypes/test/test_anon.py'...\n",
            "Compiling '/usr/local/lib/python3.8/ctypes/test/test_array_in_pointer.py'...\n",
            "Compiling '/usr/local/lib/python3.8/ctypes/test/test_arrays.py'...\n",
            "Compiling '/usr/local/lib/python3.8/ctypes/test/test_as_parameter.py'...\n",
            "Compiling '/usr/local/lib/python3.8/ctypes/test/test_buffers.py'...\n",
            "Compiling '/usr/local/lib/python3.8/ctypes/test/test_bitfields.py'...\n",
            "Listing '/usr/local/lib/python3.8/ensurepip/_bundled'...\n",
            "Compiling '/usr/local/lib/python3.8/ctypes/test/test_bytes.py'...\n",
            "Compiling '/usr/local/lib/python3.8/ctypes/test/test_byteswap.py'...\n",
            "Compiling '/usr/local/lib/python3.8/ctypes/test/test_callbacks.py'...\n",
            "Listing '/usr/local/lib/python3.8/html'...\n",
            "Listing '/usr/local/lib/python3.8/http'...\n",
            "Listing '/usr/local/lib/python3.8/idlelib'...\n",
            "Compiling '/usr/local/lib/python3.8/ctypes/test/test_cast.py'...\n",
            "Compiling '/usr/local/lib/python3.8/ctypes/test/test_cfuncs.py'...\n",
            "Listing '/usr/local/lib/python3.8/idlelib/Icons'...\n",
            "Listing '/usr/local/lib/python3.8/idlelib/idle_test'...\n",
            "Compiling '/usr/local/lib/python3.8/ctypes/test/test_checkretval.py'...\n",
            "Compiling '/usr/local/lib/python3.8/ctypes/test/test_delattr.py'...\n",
            "Compiling '/usr/local/lib/python3.8/ctypes/test/test_errno.py'...\n",
            "Compiling '/usr/local/lib/python3.8/ctypes/test/test_find.py'...\n",
            "Compiling '/usr/local/lib/python3.8/ctypes/test/test_frombuffer.py'...\n",
            "Compiling '/usr/local/lib/python3.8/ctypes/test/test_funcptr.py'...\n",
            "Compiling '/usr/local/lib/python3.8/ctypes/test/test_functions.py'...\n",
            "Compiling '/usr/local/lib/python3.8/ctypes/test/test_incomplete.py'...\n",
            "Compiling '/usr/local/lib/python3.8/ctypes/test/test_init.py'...\n",
            "Compiling '/usr/local/lib/python3.8/ctypes/test/test_internals.py'...\n",
            "Compiling '/usr/local/lib/python3.8/ctypes/test/test_keeprefs.py'...\n",
            "Compiling '/usr/local/lib/python3.8/ctypes/test/test_libc.py'...\n",
            "Compiling '/usr/local/lib/python3.8/ctypes/test/test_loading.py'...\n",
            "Compiling '/usr/local/lib/python3.8/ctypes/test/test_macholib.py'...\n",
            "Compiling '/usr/local/lib/python3.8/ctypes/test/test_memfunctions.py'...\n",
            "Compiling '/usr/local/lib/python3.8/ctypes/test/test_numbers.py'...\n",
            "Compiling '/usr/local/lib/python3.8/ctypes/test/test_objects.py'...\n",
            "Compiling '/usr/local/lib/python3.8/ctypes/test/test_parameters.py'...\n",
            "Compiling '/usr/local/lib/python3.8/ctypes/test/test_pep3118.py'...\n",
            "Compiling '/usr/local/lib/python3.8/ctypes/test/test_pickling.py'...\n",
            "Compiling '/usr/local/lib/python3.8/ctypes/test/test_pointers.py'...\n",
            "Compiling '/usr/local/lib/python3.8/ctypes/test/test_prototypes.py'...\n",
            "Compiling '/usr/local/lib/python3.8/ctypes/test/test_python_api.py'...\n",
            "Compiling '/usr/local/lib/python3.8/ctypes/test/test_random_things.py'...\n",
            "Compiling '/usr/local/lib/python3.8/ctypes/test/test_refcounts.py'...\n",
            "Compiling '/usr/local/lib/python3.8/ctypes/test/test_repr.py'...\n",
            "Compiling '/usr/local/lib/python3.8/ctypes/test/test_returnfuncptrs.py'...\n",
            "Compiling '/usr/local/lib/python3.8/ctypes/test/test_simplesubclasses.py'...\n",
            "Compiling '/usr/local/lib/python3.8/ctypes/test/test_sizes.py'...\n",
            "Compiling '/usr/local/lib/python3.8/ctypes/test/test_slicing.py'...\n",
            "Compiling '/usr/local/lib/python3.8/ctypes/test/test_stringptr.py'...\n",
            "Compiling '/usr/local/lib/python3.8/ctypes/test/test_strings.py'...\n",
            "Compiling '/usr/local/lib/python3.8/ctypes/test/test_struct_fields.py'...\n",
            "Compiling '/usr/local/lib/python3.8/ctypes/test/test_structures.py'...\n",
            "Compiling '/usr/local/lib/python3.8/ctypes/test/test_unaligned_structures.py'...\n",
            "Compiling '/usr/local/lib/python3.8/ctypes/test/test_unicode.py'...\n",
            "Compiling '/usr/local/lib/python3.8/ctypes/test/test_values.py'...\n",
            "Compiling '/usr/local/lib/python3.8/ctypes/test/test_varsize_struct.py'...\n",
            "Compiling '/usr/local/lib/python3.8/ctypes/test/test_win32.py'...\n",
            "Listing '/usr/local/lib/python3.8/importlib'...\n",
            "Compiling '/usr/local/lib/python3.8/ctypes/test/test_wintypes.py'...\n",
            "Compiling '/usr/local/lib/python3.8/ctypes/util.py'...\n",
            "Listing '/usr/local/lib/python3.8/json'...\n",
            "Compiling '/usr/local/lib/python3.8/ctypes/wintypes.py'...\n",
            "Listing '/usr/local/lib/python3.8/lib2to3'...\n",
            "Listing '/usr/local/lib/python3.8/lib2to3/fixes'...\n",
            "Listing '/usr/local/lib/python3.8/lib2to3/pgen2'...\n",
            "Compiling '/usr/local/lib/python3.8/curses/__init__.py'...\n",
            "Compiling '/usr/local/lib/python3.8/curses/ascii.py'...\n",
            "Compiling '/usr/local/lib/python3.8/curses/has_key.py'...\n",
            "Compiling '/usr/local/lib/python3.8/curses/panel.py'...\n",
            "Compiling '/usr/local/lib/python3.8/curses/textpad.py'...\n",
            "Compiling '/usr/local/lib/python3.8/dataclasses.py'...\n",
            "Compiling '/usr/local/lib/python3.8/datetime.py'...\n",
            "Compiling '/usr/local/lib/python3.8/dbm/__init__.py'...\n",
            "Compiling '/usr/local/lib/python3.8/dbm/dumb.py'...\n",
            "Compiling '/usr/local/lib/python3.8/dbm/gnu.py'...\n",
            "Compiling '/usr/local/lib/python3.8/dbm/ndbm.py'...\n",
            "Compiling '/usr/local/lib/python3.8/decimal.py'...\n",
            "Compiling '/usr/local/lib/python3.8/difflib.py'...\n",
            "Compiling '/usr/local/lib/python3.8/dis.py'...\n",
            "Compiling '/usr/local/lib/python3.8/distutils/__init__.py'...\n",
            "Listing '/usr/local/lib/python3.8/lib2to3/tests'...\n",
            "Listing '/usr/local/lib/python3.8/lib2to3/tests/data'...\n",
            "Compiling '/usr/local/lib/python3.8/distutils/_msvccompiler.py'...\n",
            "Listing '/usr/local/lib/python3.8/lib2to3/tests/data/fixers'...\n",
            "Listing '/usr/local/lib/python3.8/lib2to3/tests/data/fixers/myfixes'...\n",
            "Compiling '/usr/local/lib/python3.8/distutils/archive_util.py'...\n",
            "Compiling '/usr/local/lib/python3.8/distutils/bcppcompiler.py'...\n",
            "Listing '/usr/local/lib/python3.8/logging'...\n",
            "Listing '/usr/local/lib/python3.8/multiprocessing'...\n",
            "Compiling '/usr/local/lib/python3.8/distutils/ccompiler.py'...\n",
            "Listing '/usr/local/lib/python3.8/multiprocessing/dummy'...\n",
            "Compiling '/usr/local/lib/python3.8/distutils/cmd.py'...\n",
            "Compiling '/usr/local/lib/python3.8/distutils/command/__init__.py'...\n",
            "Compiling '/usr/local/lib/python3.8/distutils/command/bdist.py'...\n",
            "Compiling '/usr/local/lib/python3.8/distutils/command/bdist_dumb.py'...\n",
            "Compiling '/usr/local/lib/python3.8/distutils/command/bdist_msi.py'...\n",
            "Compiling '/usr/local/lib/python3.8/distutils/command/bdist_rpm.py'...\n",
            "Compiling '/usr/local/lib/python3.8/distutils/command/bdist_wininst.py'...\n",
            "Compiling '/usr/local/lib/python3.8/distutils/command/build.py'...\n",
            "Compiling '/usr/local/lib/python3.8/distutils/command/build_clib.py'...\n",
            "Compiling '/usr/local/lib/python3.8/distutils/command/build_ext.py'...\n",
            "Listing '/usr/local/lib/python3.8/pydoc_data'...\n",
            "Compiling '/usr/local/lib/python3.8/distutils/command/build_py.py'...\n",
            "Compiling '/usr/local/lib/python3.8/distutils/command/build_scripts.py'...\n",
            "Compiling '/usr/local/lib/python3.8/distutils/command/clean.py'...\n",
            "Compiling '/usr/local/lib/python3.8/distutils/command/check.py'...\n",
            "Compiling '/usr/local/lib/python3.8/distutils/command/config.py'...\n",
            "Compiling '/usr/local/lib/python3.8/distutils/command/install.py'...\n",
            "Compiling '/usr/local/lib/python3.8/distutils/command/install_data.py'...\n",
            "Compiling '/usr/local/lib/python3.8/distutils/command/install_egg_info.py'...\n",
            "Compiling '/usr/local/lib/python3.8/distutils/command/install_headers.py'...\n",
            "Compiling '/usr/local/lib/python3.8/distutils/command/install_lib.py'...\n",
            "Compiling '/usr/local/lib/python3.8/distutils/command/install_scripts.py'...\n",
            "Compiling '/usr/local/lib/python3.8/distutils/command/register.py'...\n",
            "Compiling '/usr/local/lib/python3.8/distutils/command/sdist.py'...\n",
            "Compiling '/usr/local/lib/python3.8/distutils/command/upload.py'...\n",
            "Compiling '/usr/local/lib/python3.8/distutils/config.py'...\n",
            "Compiling '/usr/local/lib/python3.8/distutils/core.py'...\n",
            "Compiling '/usr/local/lib/python3.8/distutils/cygwinccompiler.py'...\n",
            "Compiling '/usr/local/lib/python3.8/distutils/debug.py'...\n",
            "Compiling '/usr/local/lib/python3.8/distutils/dep_util.py'...\n",
            "Compiling '/usr/local/lib/python3.8/distutils/dir_util.py'...\n",
            "Compiling '/usr/local/lib/python3.8/distutils/dist.py'...\n",
            "Compiling '/usr/local/lib/python3.8/distutils/errors.py'...\n",
            "Compiling '/usr/local/lib/python3.8/distutils/extension.py'...\n",
            "Compiling '/usr/local/lib/python3.8/distutils/fancy_getopt.py'...\n",
            "Compiling '/usr/local/lib/python3.8/distutils/file_util.py'...\n",
            "Listing '/usr/local/lib/python3.8/site-packages'...\n",
            "Compiling '/usr/local/lib/python3.8/distutils/filelist.py'...\n",
            "Listing '/usr/local/lib/python3.8/sqlite3'...\n",
            "Compiling '/usr/local/lib/python3.8/distutils/log.py'...\n",
            "Compiling '/usr/local/lib/python3.8/distutils/msvc9compiler.py'...\n",
            "Compiling '/usr/local/lib/python3.8/distutils/msvccompiler.py'...\n",
            "Compiling '/usr/local/lib/python3.8/distutils/spawn.py'...\n",
            "Compiling '/usr/local/lib/python3.8/distutils/sysconfig.py'...\n",
            "Compiling '/usr/local/lib/python3.8/distutils/tests/__init__.py'...\n",
            "Compiling '/usr/local/lib/python3.8/distutils/tests/support.py'...\n",
            "Compiling '/usr/local/lib/python3.8/distutils/tests/test_archive_util.py'...\n",
            "Compiling '/usr/local/lib/python3.8/distutils/tests/test_bdist.py'...\n",
            "Compiling '/usr/local/lib/python3.8/distutils/tests/test_bdist_dumb.py'...\n",
            "Compiling '/usr/local/lib/python3.8/distutils/tests/test_bdist_msi.py'...\n",
            "Compiling '/usr/local/lib/python3.8/distutils/tests/test_bdist_rpm.py'...\n",
            "Listing '/usr/local/lib/python3.8/sqlite3/test'...\n",
            "Compiling '/usr/local/lib/python3.8/distutils/tests/test_bdist_wininst.py'...\n",
            "Compiling '/usr/local/lib/python3.8/distutils/tests/test_build.py'...\n",
            "Compiling '/usr/local/lib/python3.8/distutils/tests/test_build_clib.py'...\n",
            "Compiling '/usr/local/lib/python3.8/distutils/tests/test_build_ext.py'...\n",
            "Compiling '/usr/local/lib/python3.8/distutils/tests/test_build_py.py'...\n",
            "Listing '/usr/local/lib/python3.8/test'...\n",
            "Compiling '/usr/local/lib/python3.8/distutils/tests/test_build_scripts.py'...\n",
            "Compiling '/usr/local/lib/python3.8/distutils/tests/test_check.py'...\n",
            "Compiling '/usr/local/lib/python3.8/distutils/tests/test_clean.py'...\n",
            "Compiling '/usr/local/lib/python3.8/distutils/tests/test_cmd.py'...\n",
            "Listing '/usr/local/lib/python3.8/test/audiodata'...\n",
            "Compiling '/usr/local/lib/python3.8/distutils/tests/test_config.py'...\n",
            "Compiling '/usr/local/lib/python3.8/distutils/tests/test_config_cmd.py'...\n",
            "Compiling '/usr/local/lib/python3.8/distutils/tests/test_core.py'...\n",
            "Compiling '/usr/local/lib/python3.8/distutils/tests/test_cygwinccompiler.py'...\n",
            "Compiling '/usr/local/lib/python3.8/distutils/tests/test_dep_util.py'...\n",
            "Compiling '/usr/local/lib/python3.8/distutils/tests/test_dir_util.py'...\n",
            "Compiling '/usr/local/lib/python3.8/distutils/tests/test_dist.py'...\n",
            "Compiling '/usr/local/lib/python3.8/distutils/tests/test_extension.py'...\n",
            "Compiling '/usr/local/lib/python3.8/distutils/tests/test_file_util.py'...\n",
            "Compiling '/usr/local/lib/python3.8/distutils/tests/test_filelist.py'...\n",
            "Compiling '/usr/local/lib/python3.8/distutils/tests/test_install.py'...\n",
            "Compiling '/usr/local/lib/python3.8/distutils/tests/test_install_data.py'...\n",
            "Compiling '/usr/local/lib/python3.8/distutils/tests/test_install_headers.py'...\n",
            "Compiling '/usr/local/lib/python3.8/distutils/tests/test_install_lib.py'...\n",
            "Compiling '/usr/local/lib/python3.8/distutils/tests/test_install_scripts.py'...\n",
            "Compiling '/usr/local/lib/python3.8/distutils/tests/test_log.py'...\n",
            "Compiling '/usr/local/lib/python3.8/distutils/tests/test_msvc9compiler.py'...\n",
            "Compiling '/usr/local/lib/python3.8/distutils/tests/test_msvccompiler.py'...\n",
            "Compiling '/usr/local/lib/python3.8/distutils/tests/test_register.py'...\n",
            "Compiling '/usr/local/lib/python3.8/distutils/tests/test_sdist.py'...\n",
            "Compiling '/usr/local/lib/python3.8/distutils/tests/test_spawn.py'...\n",
            "Listing '/usr/local/lib/python3.8/test/capath'...\n",
            "Listing '/usr/local/lib/python3.8/test/cjkencodings'...\n",
            "Compiling '/usr/local/lib/python3.8/distutils/tests/test_sysconfig.py'...\n",
            "Compiling '/usr/local/lib/python3.8/distutils/tests/test_text_file.py'...\n",
            "Compiling '/usr/local/lib/python3.8/distutils/tests/test_unixccompiler.py'...\n",
            "Compiling '/usr/local/lib/python3.8/distutils/tests/test_upload.py'...\n",
            "Compiling '/usr/local/lib/python3.8/distutils/tests/test_util.py'...\n",
            "Compiling '/usr/local/lib/python3.8/distutils/tests/test_version.py'...\n",
            "Compiling '/usr/local/lib/python3.8/distutils/tests/test_versionpredicate.py'...\n",
            "Compiling '/usr/local/lib/python3.8/distutils/unixccompiler.py'...\n",
            "Compiling '/usr/local/lib/python3.8/distutils/text_file.py'...\n",
            "Compiling '/usr/local/lib/python3.8/distutils/util.py'...\n",
            "Compiling '/usr/local/lib/python3.8/distutils/version.py'...\n",
            "Listing '/usr/local/lib/python3.8/test/data'...\n",
            "Compiling '/usr/local/lib/python3.8/distutils/versionpredicate.py'...\n",
            "Listing '/usr/local/lib/python3.8/test/decimaltestdata'...\n",
            "Compiling '/usr/local/lib/python3.8/doctest.py'...\n",
            "Compiling '/usr/local/lib/python3.8/dummy_threading.py'...\n",
            "Compiling '/usr/local/lib/python3.8/email/__init__.py'...\n",
            "Compiling '/usr/local/lib/python3.8/email/_encoded_words.py'...\n",
            "Compiling '/usr/local/lib/python3.8/email/_header_value_parser.py'...\n",
            "Compiling '/usr/local/lib/python3.8/email/_parseaddr.py'...\n",
            "Compiling '/usr/local/lib/python3.8/email/_policybase.py'...\n",
            "Compiling '/usr/local/lib/python3.8/email/base64mime.py'...\n",
            "Compiling '/usr/local/lib/python3.8/email/charset.py'...\n",
            "Compiling '/usr/local/lib/python3.8/email/contentmanager.py'...\n",
            "Compiling '/usr/local/lib/python3.8/email/encoders.py'...\n",
            "Compiling '/usr/local/lib/python3.8/email/errors.py'...\n",
            "Compiling '/usr/local/lib/python3.8/email/feedparser.py'...\n",
            "Compiling '/usr/local/lib/python3.8/email/generator.py'...\n",
            "Compiling '/usr/local/lib/python3.8/email/header.py'...\n",
            "Compiling '/usr/local/lib/python3.8/email/headerregistry.py'...\n",
            "Compiling '/usr/local/lib/python3.8/email/iterators.py'...\n",
            "Listing '/usr/local/lib/python3.8/test/dtracedata'...\n",
            "Listing '/usr/local/lib/python3.8/test/eintrdata'...\n",
            "Listing '/usr/local/lib/python3.8/test/encoded_modules'...\n",
            "Listing '/usr/local/lib/python3.8/test/imghdrdata'...\n",
            "Compiling '/usr/local/lib/python3.8/email/message.py'...\n",
            "Compiling '/usr/local/lib/python3.8/email/mime/__init__.py'...\n",
            "Compiling '/usr/local/lib/python3.8/email/mime/application.py'...\n",
            "Compiling '/usr/local/lib/python3.8/email/mime/audio.py'...\n",
            "Compiling '/usr/local/lib/python3.8/email/mime/base.py'...\n",
            "Compiling '/usr/local/lib/python3.8/email/mime/image.py'...\n",
            "Compiling '/usr/local/lib/python3.8/email/mime/message.py'...\n",
            "Compiling '/usr/local/lib/python3.8/email/mime/multipart.py'...\n",
            "Compiling '/usr/local/lib/python3.8/email/mime/nonmultipart.py'...\n",
            "Compiling '/usr/local/lib/python3.8/email/mime/text.py'...\n",
            "Compiling '/usr/local/lib/python3.8/email/parser.py'...\n",
            "Compiling '/usr/local/lib/python3.8/email/policy.py'...\n",
            "Compiling '/usr/local/lib/python3.8/email/quoprimime.py'...\n",
            "Compiling '/usr/local/lib/python3.8/email/utils.py'...\n",
            "Listing '/usr/local/lib/python3.8/test/libregrtest'...\n",
            "Compiling '/usr/local/lib/python3.8/encodings/__init__.py'...\n",
            "Compiling '/usr/local/lib/python3.8/encodings/aliases.py'...\n",
            "Compiling '/usr/local/lib/python3.8/encodings/ascii.py'...\n",
            "Compiling '/usr/local/lib/python3.8/encodings/base64_codec.py'...\n",
            "Listing '/usr/local/lib/python3.8/test/sndhdrdata'...\n",
            "Compiling '/usr/local/lib/python3.8/encodings/big5.py'...\n",
            "Compiling '/usr/local/lib/python3.8/encodings/big5hkscs.py'...\n",
            "Compiling '/usr/local/lib/python3.8/encodings/bz2_codec.py'...\n",
            "Compiling '/usr/local/lib/python3.8/encodings/charmap.py'...\n",
            "Compiling '/usr/local/lib/python3.8/encodings/cp037.py'...\n",
            "Compiling '/usr/local/lib/python3.8/encodings/cp1006.py'...\n",
            "Compiling '/usr/local/lib/python3.8/encodings/cp1026.py'...\n",
            "Compiling '/usr/local/lib/python3.8/encodings/cp1125.py'...\n",
            "Compiling '/usr/local/lib/python3.8/encodings/cp1140.py'...\n",
            "Compiling '/usr/local/lib/python3.8/encodings/cp1250.py'...\n",
            "Compiling '/usr/local/lib/python3.8/encodings/cp1251.py'...\n",
            "Listing '/usr/local/lib/python3.8/test/subprocessdata'...\n",
            "Compiling '/usr/local/lib/python3.8/encodings/cp1252.py'...\n",
            "Compiling '/usr/local/lib/python3.8/encodings/cp1253.py'...\n",
            "Compiling '/usr/local/lib/python3.8/encodings/cp1254.py'...\n",
            "Compiling '/usr/local/lib/python3.8/encodings/cp1255.py'...\n",
            "Compiling '/usr/local/lib/python3.8/encodings/cp1256.py'...\n",
            "Compiling '/usr/local/lib/python3.8/encodings/cp1257.py'...\n",
            "Compiling '/usr/local/lib/python3.8/encodings/cp1258.py'...\n",
            "Compiling '/usr/local/lib/python3.8/encodings/cp273.py'...\n",
            "Compiling '/usr/local/lib/python3.8/encodings/cp437.py'...\n",
            "Compiling '/usr/local/lib/python3.8/encodings/cp424.py'...\n",
            "Compiling '/usr/local/lib/python3.8/encodings/cp500.py'...\n",
            "Compiling '/usr/local/lib/python3.8/encodings/cp720.py'...\n",
            "Compiling '/usr/local/lib/python3.8/encodings/cp737.py'...\n",
            "Compiling '/usr/local/lib/python3.8/encodings/cp775.py'...\n",
            "Compiling '/usr/local/lib/python3.8/encodings/cp850.py'...\n",
            "Compiling '/usr/local/lib/python3.8/encodings/cp852.py'...\n",
            "Compiling '/usr/local/lib/python3.8/encodings/cp855.py'...\n",
            "Compiling '/usr/local/lib/python3.8/encodings/cp856.py'...\n",
            "Listing '/usr/local/lib/python3.8/test/support'...\n",
            "Compiling '/usr/local/lib/python3.8/encodings/cp857.py'...\n",
            "Compiling '/usr/local/lib/python3.8/encodings/cp860.py'...\n",
            "Compiling '/usr/local/lib/python3.8/encodings/cp858.py'...\n",
            "Compiling '/usr/local/lib/python3.8/encodings/cp861.py'...\n",
            "Compiling '/usr/local/lib/python3.8/encodings/cp862.py'...\n",
            "Compiling '/usr/local/lib/python3.8/encodings/cp863.py'...\n",
            "Listing '/usr/local/lib/python3.8/test/test_asyncio'...\n",
            "Compiling '/usr/local/lib/python3.8/encodings/cp864.py'...\n",
            "Compiling '/usr/local/lib/python3.8/encodings/cp865.py'...\n",
            "Compiling '/usr/local/lib/python3.8/encodings/cp866.py'...\n",
            "Compiling '/usr/local/lib/python3.8/encodings/cp869.py'...\n",
            "Compiling '/usr/local/lib/python3.8/encodings/cp874.py'...\n",
            "Compiling '/usr/local/lib/python3.8/encodings/cp875.py'...\n",
            "Compiling '/usr/local/lib/python3.8/encodings/cp932.py'...\n",
            "Compiling '/usr/local/lib/python3.8/encodings/cp949.py'...\n",
            "Compiling '/usr/local/lib/python3.8/encodings/cp950.py'...\n",
            "Compiling '/usr/local/lib/python3.8/encodings/euc_jis_2004.py'...\n",
            "Compiling '/usr/local/lib/python3.8/encodings/euc_jisx0213.py'...\n",
            "Compiling '/usr/local/lib/python3.8/encodings/euc_jp.py'...\n",
            "Compiling '/usr/local/lib/python3.8/encodings/euc_kr.py'...\n",
            "Compiling '/usr/local/lib/python3.8/encodings/gb18030.py'...\n",
            "Compiling '/usr/local/lib/python3.8/encodings/gb2312.py'...\n",
            "Compiling '/usr/local/lib/python3.8/encodings/gbk.py'...\n",
            "Compiling '/usr/local/lib/python3.8/encodings/hex_codec.py'...\n",
            "Compiling '/usr/local/lib/python3.8/encodings/hp_roman8.py'...\n",
            "Compiling '/usr/local/lib/python3.8/encodings/hz.py'...\n",
            "Compiling '/usr/local/lib/python3.8/encodings/idna.py'...\n",
            "Compiling '/usr/local/lib/python3.8/encodings/iso2022_jp.py'...\n",
            "Compiling '/usr/local/lib/python3.8/encodings/iso2022_jp_1.py'...\n",
            "Compiling '/usr/local/lib/python3.8/encodings/iso2022_jp_2.py'...\n",
            "Compiling '/usr/local/lib/python3.8/encodings/iso2022_jp_2004.py'...\n",
            "Compiling '/usr/local/lib/python3.8/encodings/iso2022_jp_3.py'...\n",
            "Compiling '/usr/local/lib/python3.8/encodings/iso2022_jp_ext.py'...\n",
            "Compiling '/usr/local/lib/python3.8/encodings/iso2022_kr.py'...\n",
            "Compiling '/usr/local/lib/python3.8/encodings/iso8859_1.py'...\n",
            "Compiling '/usr/local/lib/python3.8/encodings/iso8859_10.py'...\n",
            "Compiling '/usr/local/lib/python3.8/encodings/iso8859_11.py'...\n",
            "Compiling '/usr/local/lib/python3.8/encodings/iso8859_13.py'...\n",
            "Compiling '/usr/local/lib/python3.8/encodings/iso8859_14.py'...\n",
            "Compiling '/usr/local/lib/python3.8/encodings/iso8859_15.py'...\n",
            "Compiling '/usr/local/lib/python3.8/encodings/iso8859_16.py'...\n",
            "Compiling '/usr/local/lib/python3.8/encodings/iso8859_2.py'...\n",
            "Compiling '/usr/local/lib/python3.8/encodings/iso8859_3.py'...\n",
            "Compiling '/usr/local/lib/python3.8/encodings/iso8859_4.py'...\n",
            "Compiling '/usr/local/lib/python3.8/encodings/iso8859_5.py'...\n",
            "Compiling '/usr/local/lib/python3.8/encodings/iso8859_6.py'...\n",
            "Compiling '/usr/local/lib/python3.8/encodings/iso8859_7.py'...\n",
            "Compiling '/usr/local/lib/python3.8/encodings/iso8859_8.py'...\n",
            "Compiling '/usr/local/lib/python3.8/encodings/iso8859_9.py'...\n",
            "Compiling '/usr/local/lib/python3.8/encodings/johab.py'...\n",
            "Compiling '/usr/local/lib/python3.8/encodings/koi8_r.py'...\n",
            "Compiling '/usr/local/lib/python3.8/encodings/koi8_t.py'...\n",
            "Compiling '/usr/local/lib/python3.8/encodings/koi8_u.py'...\n",
            "Compiling '/usr/local/lib/python3.8/encodings/kz1048.py'...\n",
            "Compiling '/usr/local/lib/python3.8/encodings/latin_1.py'...\n",
            "Compiling '/usr/local/lib/python3.8/encodings/mac_arabic.py'...\n",
            "Compiling '/usr/local/lib/python3.8/encodings/mac_centeuro.py'...\n",
            "Compiling '/usr/local/lib/python3.8/encodings/mac_croatian.py'...\n",
            "Listing '/usr/local/lib/python3.8/test/test_email'...\n",
            "Compiling '/usr/local/lib/python3.8/encodings/mac_cyrillic.py'...\n",
            "Listing '/usr/local/lib/python3.8/test/test_email/data'...\n",
            "Compiling '/usr/local/lib/python3.8/encodings/mac_farsi.py'...\n",
            "Compiling '/usr/local/lib/python3.8/encodings/mac_greek.py'...\n",
            "Compiling '/usr/local/lib/python3.8/encodings/mac_iceland.py'...\n",
            "Compiling '/usr/local/lib/python3.8/encodings/mac_latin2.py'...\n",
            "Compiling '/usr/local/lib/python3.8/encodings/mac_roman.py'...\n",
            "Compiling '/usr/local/lib/python3.8/encodings/mac_romanian.py'...\n",
            "Compiling '/usr/local/lib/python3.8/encodings/mac_turkish.py'...\n",
            "Compiling '/usr/local/lib/python3.8/encodings/mbcs.py'...\n",
            "Compiling '/usr/local/lib/python3.8/encodings/oem.py'...\n",
            "Compiling '/usr/local/lib/python3.8/encodings/palmos.py'...\n",
            "Compiling '/usr/local/lib/python3.8/encodings/ptcp154.py'...\n",
            "Compiling '/usr/local/lib/python3.8/encodings/punycode.py'...\n",
            "Compiling '/usr/local/lib/python3.8/encodings/quopri_codec.py'...\n",
            "Compiling '/usr/local/lib/python3.8/encodings/raw_unicode_escape.py'...\n",
            "Compiling '/usr/local/lib/python3.8/encodings/rot_13.py'...\n",
            "Compiling '/usr/local/lib/python3.8/encodings/shift_jis.py'...\n",
            "Compiling '/usr/local/lib/python3.8/encodings/shift_jis_2004.py'...\n",
            "Compiling '/usr/local/lib/python3.8/encodings/shift_jisx0213.py'...\n",
            "Compiling '/usr/local/lib/python3.8/encodings/tis_620.py'...\n",
            "Compiling '/usr/local/lib/python3.8/encodings/undefined.py'...\n",
            "Compiling '/usr/local/lib/python3.8/encodings/unicode_escape.py'...\n",
            "Compiling '/usr/local/lib/python3.8/encodings/utf_16.py'...\n",
            "Compiling '/usr/local/lib/python3.8/encodings/utf_16_be.py'...\n",
            "Compiling '/usr/local/lib/python3.8/encodings/utf_16_le.py'...\n",
            "Compiling '/usr/local/lib/python3.8/encodings/utf_32.py'...\n",
            "Compiling '/usr/local/lib/python3.8/encodings/utf_32_be.py'...\n",
            "Compiling '/usr/local/lib/python3.8/encodings/utf_7.py'...\n",
            "Compiling '/usr/local/lib/python3.8/encodings/utf_32_le.py'...\n",
            "Compiling '/usr/local/lib/python3.8/encodings/utf_8.py'...\n",
            "Compiling '/usr/local/lib/python3.8/encodings/utf_8_sig.py'...\n",
            "Compiling '/usr/local/lib/python3.8/encodings/uu_codec.py'...\n",
            "Compiling '/usr/local/lib/python3.8/ensurepip/__init__.py'...\n",
            "Compiling '/usr/local/lib/python3.8/encodings/zlib_codec.py'...\n",
            "Compiling '/usr/local/lib/python3.8/ensurepip/__main__.py'...\n",
            "Compiling '/usr/local/lib/python3.8/enum.py'...\n",
            "Compiling '/usr/local/lib/python3.8/ensurepip/_uninstall.py'...\n",
            "Compiling '/usr/local/lib/python3.8/filecmp.py'...\n",
            "Compiling '/usr/local/lib/python3.8/fileinput.py'...\n",
            "Compiling '/usr/local/lib/python3.8/fnmatch.py'...\n",
            "Compiling '/usr/local/lib/python3.8/formatter.py'...\n",
            "Compiling '/usr/local/lib/python3.8/fractions.py'...\n",
            "Compiling '/usr/local/lib/python3.8/ftplib.py'...\n",
            "Compiling '/usr/local/lib/python3.8/functools.py'...\n",
            "Compiling '/usr/local/lib/python3.8/getopt.py'...\n",
            "Compiling '/usr/local/lib/python3.8/getpass.py'...\n",
            "Compiling '/usr/local/lib/python3.8/genericpath.py'...\n",
            "Compiling '/usr/local/lib/python3.8/gettext.py'...\n",
            "Compiling '/usr/local/lib/python3.8/glob.py'...\n",
            "Compiling '/usr/local/lib/python3.8/gzip.py'...\n",
            "Compiling '/usr/local/lib/python3.8/hashlib.py'...\n",
            "Compiling '/usr/local/lib/python3.8/heapq.py'...\n",
            "Compiling '/usr/local/lib/python3.8/hmac.py'...\n",
            "Compiling '/usr/local/lib/python3.8/html/__init__.py'...\n",
            "Compiling '/usr/local/lib/python3.8/html/entities.py'...\n",
            "Listing '/usr/local/lib/python3.8/test/test_import'...\n",
            "Listing '/usr/local/lib/python3.8/test/test_import/data'...\n",
            "Listing '/usr/local/lib/python3.8/test/test_import/data/circular_imports'...\n",
            "Compiling '/usr/local/lib/python3.8/html/parser.py'...\n",
            "Listing '/usr/local/lib/python3.8/test/test_import/data/circular_imports/subpkg'...\n",
            "Listing '/usr/local/lib/python3.8/test/test_import/data/package'...\n",
            "Listing '/usr/local/lib/python3.8/test/test_import/data/package2'...\n",
            "Listing '/usr/local/lib/python3.8/test/test_importlib'...\n",
            "Listing '/usr/local/lib/python3.8/test/test_importlib/builtin'...\n",
            "Listing '/usr/local/lib/python3.8/test/test_importlib/data'...\n",
            "Listing '/usr/local/lib/python3.8/test/test_importlib/data01'...\n",
            "Listing '/usr/local/lib/python3.8/test/test_importlib/data01/subdirectory'...\n",
            "Listing '/usr/local/lib/python3.8/test/test_importlib/data02'...\n",
            "Listing '/usr/local/lib/python3.8/test/test_importlib/data02/one'...\n",
            "Listing '/usr/local/lib/python3.8/test/test_importlib/data02/two'...\n",
            "Listing '/usr/local/lib/python3.8/test/test_importlib/data03'...\n",
            "Listing '/usr/local/lib/python3.8/test/test_importlib/data03/namespace'...\n",
            "Listing '/usr/local/lib/python3.8/test/test_importlib/data03/namespace/portion1'...\n",
            "Listing '/usr/local/lib/python3.8/test/test_importlib/data03/namespace/portion2'...\n",
            "Listing '/usr/local/lib/python3.8/test/test_importlib/extension'...\n",
            "Compiling '/usr/local/lib/python3.8/http/__init__.py'...\n",
            "Compiling '/usr/local/lib/python3.8/http/client.py'...\n",
            "Compiling '/usr/local/lib/python3.8/http/cookiejar.py'...\n",
            "Compiling '/usr/local/lib/python3.8/http/server.py'...\n",
            "Compiling '/usr/local/lib/python3.8/http/cookies.py'...\n",
            "Listing '/usr/local/lib/python3.8/test/test_importlib/frozen'...\n",
            "Listing '/usr/local/lib/python3.8/test/test_importlib/import_'...\n",
            "Listing '/usr/local/lib/python3.8/test/test_importlib/namespace_pkgs'...\n",
            "Listing '/usr/local/lib/python3.8/test/test_importlib/namespace_pkgs/both_portions'...\n",
            "Listing '/usr/local/lib/python3.8/test/test_importlib/namespace_pkgs/both_portions/foo'...\n",
            "Listing '/usr/local/lib/python3.8/test/test_importlib/namespace_pkgs/module_and_namespace_package'...\n",
            "Listing '/usr/local/lib/python3.8/test/test_importlib/namespace_pkgs/module_and_namespace_package/a_test'...\n",
            "Listing '/usr/local/lib/python3.8/test/test_importlib/namespace_pkgs/not_a_namespace_pkg'...\n",
            "Listing '/usr/local/lib/python3.8/test/test_importlib/namespace_pkgs/not_a_namespace_pkg/foo'...\n",
            "Listing '/usr/local/lib/python3.8/test/test_importlib/namespace_pkgs/portion1'...\n",
            "Listing '/usr/local/lib/python3.8/test/test_importlib/namespace_pkgs/portion1/foo'...\n",
            "Compiling '/usr/local/lib/python3.8/idlelib/__init__.py'...\n",
            "Compiling '/usr/local/lib/python3.8/idlelib/__main__.py'...\n",
            "Compiling '/usr/local/lib/python3.8/idlelib/autocomplete.py'...\n",
            "Compiling '/usr/local/lib/python3.8/idlelib/autocomplete_w.py'...\n",
            "Compiling '/usr/local/lib/python3.8/idlelib/browser.py'...\n",
            "Compiling '/usr/local/lib/python3.8/idlelib/autoexpand.py'...\n",
            "Compiling '/usr/local/lib/python3.8/idlelib/calltip.py'...\n",
            "Compiling '/usr/local/lib/python3.8/idlelib/calltip_w.py'...\n",
            "Compiling '/usr/local/lib/python3.8/idlelib/codecontext.py'...\n",
            "Compiling '/usr/local/lib/python3.8/idlelib/colorizer.py'...\n",
            "Compiling '/usr/local/lib/python3.8/idlelib/config.py'...\n",
            "Compiling '/usr/local/lib/python3.8/idlelib/config_key.py'...\n",
            "Compiling '/usr/local/lib/python3.8/idlelib/configdialog.py'...\n",
            "Compiling '/usr/local/lib/python3.8/idlelib/debugger_r.py'...\n",
            "Compiling '/usr/local/lib/python3.8/idlelib/debugger.py'...\n",
            "Listing '/usr/local/lib/python3.8/test/test_importlib/namespace_pkgs/portion2'...\n",
            "Listing '/usr/local/lib/python3.8/test/test_importlib/namespace_pkgs/portion2/foo'...\n",
            "Listing '/usr/local/lib/python3.8/test/test_importlib/namespace_pkgs/project1'...\n",
            "Listing '/usr/local/lib/python3.8/test/test_importlib/namespace_pkgs/project1/parent'...\n",
            "Listing '/usr/local/lib/python3.8/test/test_importlib/namespace_pkgs/project1/parent/child'...\n",
            "Listing '/usr/local/lib/python3.8/test/test_importlib/namespace_pkgs/project2'...\n",
            "Listing '/usr/local/lib/python3.8/test/test_importlib/namespace_pkgs/project2/parent'...\n",
            "Compiling '/usr/local/lib/python3.8/idlelib/debugobj.py'...\n",
            "Listing '/usr/local/lib/python3.8/test/test_importlib/namespace_pkgs/project2/parent/child'...\n",
            "Listing '/usr/local/lib/python3.8/test/test_importlib/namespace_pkgs/project3'...\n",
            "Listing '/usr/local/lib/python3.8/test/test_importlib/namespace_pkgs/project3/parent'...\n",
            "Listing '/usr/local/lib/python3.8/test/test_importlib/namespace_pkgs/project3/parent/child'...\n",
            "Listing '/usr/local/lib/python3.8/test/test_importlib/source'...\n",
            "Compiling '/usr/local/lib/python3.8/idlelib/debugobj_r.py'...\n",
            "Listing '/usr/local/lib/python3.8/test/test_importlib/zipdata01'...\n",
            "Listing '/usr/local/lib/python3.8/test/test_importlib/zipdata02'...\n",
            "Compiling '/usr/local/lib/python3.8/idlelib/delegator.py'...\n",
            "Compiling '/usr/local/lib/python3.8/idlelib/dynoption.py'...\n",
            "Compiling '/usr/local/lib/python3.8/idlelib/editor.py'...\n",
            "Listing '/usr/local/lib/python3.8/test/test_json'...\n",
            "Compiling '/usr/local/lib/python3.8/idlelib/filelist.py'...\n",
            "Compiling '/usr/local/lib/python3.8/idlelib/format.py'...\n",
            "Compiling '/usr/local/lib/python3.8/idlelib/grep.py'...\n",
            "Compiling '/usr/local/lib/python3.8/idlelib/help.py'...\n",
            "Compiling '/usr/local/lib/python3.8/idlelib/help_about.py'...\n",
            "Compiling '/usr/local/lib/python3.8/idlelib/history.py'...\n",
            "Compiling '/usr/local/lib/python3.8/idlelib/hyperparser.py'...\n",
            "Compiling '/usr/local/lib/python3.8/idlelib/idle.py'...\n",
            "Compiling '/usr/local/lib/python3.8/idlelib/idle_test/__init__.py'...\n",
            "Compiling '/usr/local/lib/python3.8/idlelib/idle_test/htest.py'...\n",
            "Compiling '/usr/local/lib/python3.8/idlelib/idle_test/mock_idle.py'...\n",
            "Compiling '/usr/local/lib/python3.8/idlelib/idle_test/mock_tk.py'...\n",
            "Compiling '/usr/local/lib/python3.8/idlelib/idle_test/template.py'...\n",
            "Compiling '/usr/local/lib/python3.8/idlelib/idle_test/test_autocomplete.py'...\n",
            "Compiling '/usr/local/lib/python3.8/idlelib/idle_test/test_autocomplete_w.py'...\n",
            "Compiling '/usr/local/lib/python3.8/idlelib/idle_test/test_autoexpand.py'...\n",
            "Compiling '/usr/local/lib/python3.8/idlelib/idle_test/test_browser.py'...\n",
            "Compiling '/usr/local/lib/python3.8/idlelib/idle_test/test_calltip.py'...\n",
            "Compiling '/usr/local/lib/python3.8/idlelib/idle_test/test_calltip_w.py'...\n",
            "Compiling '/usr/local/lib/python3.8/idlelib/idle_test/test_codecontext.py'...\n",
            "Compiling '/usr/local/lib/python3.8/idlelib/idle_test/test_colorizer.py'...\n",
            "Compiling '/usr/local/lib/python3.8/idlelib/idle_test/test_config.py'...\n",
            "Compiling '/usr/local/lib/python3.8/idlelib/idle_test/test_config_key.py'...\n",
            "Compiling '/usr/local/lib/python3.8/idlelib/idle_test/test_configdialog.py'...\n",
            "Compiling '/usr/local/lib/python3.8/idlelib/idle_test/test_debugger.py'...\n",
            "Compiling '/usr/local/lib/python3.8/idlelib/idle_test/test_debugger_r.py'...\n",
            "Compiling '/usr/local/lib/python3.8/idlelib/idle_test/test_debugobj_r.py'...\n",
            "Compiling '/usr/local/lib/python3.8/idlelib/idle_test/test_debugobj.py'...\n",
            "Compiling '/usr/local/lib/python3.8/idlelib/idle_test/test_delegator.py'...\n",
            "Compiling '/usr/local/lib/python3.8/idlelib/idle_test/test_editor.py'...\n",
            "Compiling '/usr/local/lib/python3.8/idlelib/idle_test/test_editmenu.py'...\n",
            "Compiling '/usr/local/lib/python3.8/idlelib/idle_test/test_filelist.py'...\n",
            "Compiling '/usr/local/lib/python3.8/idlelib/idle_test/test_format.py'...\n",
            "Compiling '/usr/local/lib/python3.8/idlelib/idle_test/test_grep.py'...\n",
            "Listing '/usr/local/lib/python3.8/test/test_tools'...\n",
            "Compiling '/usr/local/lib/python3.8/idlelib/idle_test/test_help.py'...\n",
            "Compiling '/usr/local/lib/python3.8/idlelib/idle_test/test_help_about.py'...\n",
            "Compiling '/usr/local/lib/python3.8/idlelib/idle_test/test_history.py'...\n",
            "Compiling '/usr/local/lib/python3.8/idlelib/idle_test/test_hyperparser.py'...\n",
            "Compiling '/usr/local/lib/python3.8/idlelib/idle_test/test_iomenu.py'...\n",
            "Compiling '/usr/local/lib/python3.8/idlelib/idle_test/test_macosx.py'...\n",
            "Compiling '/usr/local/lib/python3.8/idlelib/idle_test/test_mainmenu.py'...\n",
            "Compiling '/usr/local/lib/python3.8/idlelib/idle_test/test_multicall.py'...\n",
            "Compiling '/usr/local/lib/python3.8/idlelib/idle_test/test_outwin.py'...\n",
            "Listing '/usr/local/lib/python3.8/test/test_warnings'...\n",
            "Listing '/usr/local/lib/python3.8/test/test_warnings/data'...\n",
            "Compiling '/usr/local/lib/python3.8/idlelib/idle_test/test_parenmatch.py'...\n",
            "Compiling '/usr/local/lib/python3.8/idlelib/idle_test/test_pathbrowser.py'...\n",
            "Compiling '/usr/local/lib/python3.8/idlelib/idle_test/test_percolator.py'...\n",
            "Compiling '/usr/local/lib/python3.8/idlelib/idle_test/test_pyparse.py'...\n",
            "Compiling '/usr/local/lib/python3.8/idlelib/idle_test/test_pyshell.py'...\n",
            "Compiling '/usr/local/lib/python3.8/idlelib/idle_test/test_query.py'...\n",
            "Compiling '/usr/local/lib/python3.8/idlelib/idle_test/test_redirector.py'...\n",
            "Compiling '/usr/local/lib/python3.8/idlelib/idle_test/test_replace.py'...\n",
            "Compiling '/usr/local/lib/python3.8/idlelib/idle_test/test_rpc.py'...\n",
            "Compiling '/usr/local/lib/python3.8/idlelib/idle_test/test_run.py'...\n",
            "Compiling '/usr/local/lib/python3.8/idlelib/idle_test/test_runscript.py'...\n",
            "Compiling '/usr/local/lib/python3.8/idlelib/idle_test/test_scrolledlist.py'...\n",
            "Compiling '/usr/local/lib/python3.8/idlelib/idle_test/test_search.py'...\n",
            "Compiling '/usr/local/lib/python3.8/idlelib/idle_test/test_searchbase.py'...\n",
            "Compiling '/usr/local/lib/python3.8/idlelib/idle_test/test_searchengine.py'...\n",
            "Listing '/usr/local/lib/python3.8/test/tracedmodules'...\n",
            "Listing '/usr/local/lib/python3.8/test/xmltestdata'...\n",
            "Listing '/usr/local/lib/python3.8/test/xmltestdata/c14n-20'...\n",
            "Compiling '/usr/local/lib/python3.8/idlelib/idle_test/test_sidebar.py'...\n",
            "Compiling '/usr/local/lib/python3.8/idlelib/idle_test/test_squeezer.py'...\n",
            "Compiling '/usr/local/lib/python3.8/idlelib/idle_test/test_stackviewer.py'...\n",
            "Compiling '/usr/local/lib/python3.8/idlelib/idle_test/test_statusbar.py'...\n",
            "Compiling '/usr/local/lib/python3.8/idlelib/idle_test/test_text.py'...\n",
            "Compiling '/usr/local/lib/python3.8/idlelib/idle_test/test_textview.py'...\n",
            "Compiling '/usr/local/lib/python3.8/idlelib/idle_test/test_tooltip.py'...\n",
            "Compiling '/usr/local/lib/python3.8/idlelib/idle_test/test_tree.py'...\n",
            "Compiling '/usr/local/lib/python3.8/idlelib/idle_test/test_undo.py'...\n",
            "Compiling '/usr/local/lib/python3.8/idlelib/idle_test/test_warning.py'...\n",
            "Compiling '/usr/local/lib/python3.8/idlelib/idle_test/test_window.py'...\n",
            "Listing '/usr/local/lib/python3.8/test/ziptestdata'...\n",
            "Compiling '/usr/local/lib/python3.8/idlelib/idle_test/test_zoomheight.py'...\n",
            "Compiling '/usr/local/lib/python3.8/idlelib/iomenu.py'...\n",
            "Listing '/usr/local/lib/python3.8/tkinter'...\n",
            "Compiling '/usr/local/lib/python3.8/idlelib/macosx.py'...\n",
            "Compiling '/usr/local/lib/python3.8/idlelib/mainmenu.py'...\n",
            "Listing '/usr/local/lib/python3.8/tkinter/test'...\n",
            "Compiling '/usr/local/lib/python3.8/idlelib/multicall.py'...\n",
            "Compiling '/usr/local/lib/python3.8/idlelib/outwin.py'...\n",
            "Listing '/usr/local/lib/python3.8/tkinter/test/test_tkinter'...\n",
            "Listing '/usr/local/lib/python3.8/tkinter/test/test_ttk'...\n",
            "Compiling '/usr/local/lib/python3.8/idlelib/parenmatch.py'...\n",
            "Compiling '/usr/local/lib/python3.8/idlelib/pathbrowser.py'...\n",
            "Compiling '/usr/local/lib/python3.8/idlelib/percolator.py'...\n",
            "Compiling '/usr/local/lib/python3.8/idlelib/pyparse.py'...\n",
            "Compiling '/usr/local/lib/python3.8/idlelib/pyshell.py'...\n",
            "Compiling '/usr/local/lib/python3.8/idlelib/query.py'...\n",
            "Compiling '/usr/local/lib/python3.8/idlelib/redirector.py'...\n",
            "Compiling '/usr/local/lib/python3.8/idlelib/replace.py'...\n",
            "Compiling '/usr/local/lib/python3.8/idlelib/rpc.py'...\n",
            "Compiling '/usr/local/lib/python3.8/idlelib/run.py'...\n",
            "Compiling '/usr/local/lib/python3.8/idlelib/runscript.py'...\n",
            "Compiling '/usr/local/lib/python3.8/idlelib/scrolledlist.py'...\n",
            "Compiling '/usr/local/lib/python3.8/idlelib/search.py'...\n",
            "Compiling '/usr/local/lib/python3.8/idlelib/searchbase.py'...\n",
            "Compiling '/usr/local/lib/python3.8/idlelib/searchengine.py'...\n",
            "Compiling '/usr/local/lib/python3.8/idlelib/sidebar.py'...\n",
            "Compiling '/usr/local/lib/python3.8/idlelib/squeezer.py'...\n",
            "Compiling '/usr/local/lib/python3.8/idlelib/stackviewer.py'...\n",
            "Compiling '/usr/local/lib/python3.8/idlelib/statusbar.py'...\n",
            "Compiling '/usr/local/lib/python3.8/idlelib/textview.py'...\n",
            "Compiling '/usr/local/lib/python3.8/idlelib/tooltip.py'...\n",
            "Compiling '/usr/local/lib/python3.8/idlelib/tree.py'...\n",
            "Compiling '/usr/local/lib/python3.8/idlelib/undo.py'...\n",
            "Compiling '/usr/local/lib/python3.8/idlelib/window.py'...\n",
            "Compiling '/usr/local/lib/python3.8/idlelib/zoomheight.py'...\n",
            "Compiling '/usr/local/lib/python3.8/idlelib/zzdummy.py'...\n",
            "Compiling '/usr/local/lib/python3.8/imaplib.py'...\n",
            "Listing '/usr/local/lib/python3.8/turtledemo'...\n",
            "Compiling '/usr/local/lib/python3.8/imghdr.py'...\n",
            "Compiling '/usr/local/lib/python3.8/imp.py'...\n",
            "Compiling '/usr/local/lib/python3.8/importlib/_bootstrap.py'...\n",
            "Listing '/usr/local/lib/python3.8/unittest'...\n",
            "Compiling '/usr/local/lib/python3.8/importlib/_bootstrap_external.py'...\n",
            "Listing '/usr/local/lib/python3.8/unittest/test'...\n",
            "Compiling '/usr/local/lib/python3.8/importlib/abc.py'...\n",
            "Compiling '/usr/local/lib/python3.8/importlib/machinery.py'...\n",
            "Listing '/usr/local/lib/python3.8/unittest/test/testmock'...\n",
            "Compiling '/usr/local/lib/python3.8/importlib/metadata.py'...\n",
            "Listing '/usr/local/lib/python3.8/urllib'...\n",
            "Compiling '/usr/local/lib/python3.8/importlib/resources.py'...\n",
            "Listing '/usr/local/lib/python3.8/venv'...\n",
            "Listing '/usr/local/lib/python3.8/venv/scripts'...\n",
            "Listing '/usr/local/lib/python3.8/venv/scripts/common'...\n",
            "Listing '/usr/local/lib/python3.8/venv/scripts/posix'...\n",
            "Listing '/usr/local/lib/python3.8/wsgiref'...\n",
            "Listing '/usr/local/lib/python3.8/xml'...\n",
            "Listing '/usr/local/lib/python3.8/xml/dom'...\n",
            "Listing '/usr/local/lib/python3.8/xml/etree'...\n",
            "Compiling '/usr/local/lib/python3.8/importlib/__init__.py'...\n",
            "Listing '/usr/local/lib/python3.8/xml/parsers'...\n",
            "Listing '/usr/local/lib/python3.8/xml/sax'...\n",
            "Listing '/usr/local/lib/python3.8/xmlrpc'...\n",
            "Compiling '/usr/local/lib/python3.8/importlib/util.py'...\n",
            "Compiling '/usr/local/lib/python3.8/inspect.py'...\n",
            "Compiling '/usr/local/lib/python3.8/io.py'...\n",
            "Compiling '/usr/local/lib/python3.8/ipaddress.py'...\n",
            "Compiling '/usr/local/lib/python3.8/json/__init__.py'...\n",
            "Compiling '/usr/local/lib/python3.8/json/decoder.py'...\n",
            "Compiling '/usr/local/lib/python3.8/json/encoder.py'...\n",
            "Compiling '/usr/local/lib/python3.8/json/scanner.py'...\n",
            "Compiling '/usr/local/lib/python3.8/json/tool.py'...\n",
            "Compiling '/usr/local/lib/python3.8/keyword.py'...\n",
            "Compiling '/usr/local/lib/python3.8/lib2to3/__init__.py'...\n",
            "Compiling '/usr/local/lib/python3.8/lib2to3/__main__.py'...\n",
            "Compiling '/usr/local/lib/python3.8/lib2to3/btm_matcher.py'...\n",
            "Compiling '/usr/local/lib/python3.8/lib2to3/btm_utils.py'...\n",
            "Compiling '/usr/local/lib/python3.8/lib2to3/fixer_base.py'...\n",
            "Compiling '/usr/local/lib/python3.8/lib2to3/fixer_util.py'...\n",
            "Compiling '/usr/local/lib/python3.8/lib2to3/fixes/__init__.py'...\n",
            "Compiling '/usr/local/lib/python3.8/lib2to3/fixes/fix_asserts.py'...\n",
            "Compiling '/usr/local/lib/python3.8/lib2to3/fixes/fix_apply.py'...\n",
            "Compiling '/usr/local/lib/python3.8/lib2to3/fixes/fix_basestring.py'...\n",
            "Compiling '/usr/local/lib/python3.8/lib2to3/fixes/fix_buffer.py'...\n",
            "Compiling '/usr/local/lib/python3.8/lib2to3/fixes/fix_dict.py'...\n",
            "Compiling '/usr/local/lib/python3.8/lib2to3/fixes/fix_except.py'...\n",
            "Compiling '/usr/local/lib/python3.8/lib2to3/fixes/fix_exec.py'...\n",
            "Compiling '/usr/local/lib/python3.8/lib2to3/fixes/fix_execfile.py'...\n",
            "Compiling '/usr/local/lib/python3.8/lib2to3/fixes/fix_exitfunc.py'...\n",
            "Compiling '/usr/local/lib/python3.8/lib2to3/fixes/fix_filter.py'...\n",
            "Compiling '/usr/local/lib/python3.8/lib2to3/fixes/fix_funcattrs.py'...\n",
            "Compiling '/usr/local/lib/python3.8/lib2to3/fixes/fix_future.py'...\n",
            "Compiling '/usr/local/lib/python3.8/lib2to3/fixes/fix_getcwdu.py'...\n",
            "Compiling '/usr/local/lib/python3.8/lib2to3/fixes/fix_has_key.py'...\n",
            "Compiling '/usr/local/lib/python3.8/lib2to3/fixes/fix_idioms.py'...\n",
            "Compiling '/usr/local/lib/python3.8/lib2to3/fixes/fix_import.py'...\n",
            "Compiling '/usr/local/lib/python3.8/lib2to3/fixes/fix_imports.py'...\n",
            "Compiling '/usr/local/lib/python3.8/lib2to3/fixes/fix_imports2.py'...\n",
            "Compiling '/usr/local/lib/python3.8/lib2to3/fixes/fix_input.py'...\n",
            "Compiling '/usr/local/lib/python3.8/lib2to3/fixes/fix_intern.py'...\n",
            "Compiling '/usr/local/lib/python3.8/lib2to3/fixes/fix_isinstance.py'...\n",
            "Compiling '/usr/local/lib/python3.8/lib2to3/fixes/fix_itertools.py'...\n",
            "Compiling '/usr/local/lib/python3.8/lib2to3/fixes/fix_itertools_imports.py'...\n",
            "Compiling '/usr/local/lib/python3.8/lib2to3/fixes/fix_long.py'...\n",
            "Compiling '/usr/local/lib/python3.8/lib2to3/fixes/fix_map.py'...\n",
            "Compiling '/usr/local/lib/python3.8/lib2to3/fixes/fix_methodattrs.py'...\n",
            "Compiling '/usr/local/lib/python3.8/lib2to3/fixes/fix_metaclass.py'...\n",
            "Compiling '/usr/local/lib/python3.8/lib2to3/fixes/fix_ne.py'...\n",
            "Compiling '/usr/local/lib/python3.8/lib2to3/fixes/fix_next.py'...\n",
            "Compiling '/usr/local/lib/python3.8/lib2to3/fixes/fix_nonzero.py'...\n",
            "Compiling '/usr/local/lib/python3.8/lib2to3/fixes/fix_numliterals.py'...\n",
            "Compiling '/usr/local/lib/python3.8/lib2to3/fixes/fix_operator.py'...\n",
            "Compiling '/usr/local/lib/python3.8/lib2to3/fixes/fix_paren.py'...\n",
            "Compiling '/usr/local/lib/python3.8/lib2to3/fixes/fix_print.py'...\n",
            "Compiling '/usr/local/lib/python3.8/lib2to3/fixes/fix_raise.py'...\n",
            "Compiling '/usr/local/lib/python3.8/lib2to3/fixes/fix_raw_input.py'...\n",
            "Compiling '/usr/local/lib/python3.8/lib2to3/fixes/fix_reduce.py'...\n",
            "Compiling '/usr/local/lib/python3.8/lib2to3/fixes/fix_reload.py'...\n",
            "Compiling '/usr/local/lib/python3.8/lib2to3/fixes/fix_renames.py'...\n",
            "Compiling '/usr/local/lib/python3.8/lib2to3/fixes/fix_repr.py'...\n",
            "Compiling '/usr/local/lib/python3.8/lib2to3/fixes/fix_set_literal.py'...\n",
            "Compiling '/usr/local/lib/python3.8/lib2to3/fixes/fix_standarderror.py'...\n",
            "Compiling '/usr/local/lib/python3.8/lib2to3/fixes/fix_sys_exc.py'...\n",
            "Compiling '/usr/local/lib/python3.8/lib2to3/fixes/fix_throw.py'...\n",
            "Compiling '/usr/local/lib/python3.8/lib2to3/fixes/fix_tuple_params.py'...\n",
            "Compiling '/usr/local/lib/python3.8/lib2to3/fixes/fix_types.py'...\n",
            "Compiling '/usr/local/lib/python3.8/lib2to3/fixes/fix_unicode.py'...\n",
            "Compiling '/usr/local/lib/python3.8/lib2to3/fixes/fix_urllib.py'...\n",
            "Compiling '/usr/local/lib/python3.8/lib2to3/fixes/fix_ws_comma.py'...\n",
            "Compiling '/usr/local/lib/python3.8/lib2to3/fixes/fix_xrange.py'...\n",
            "Compiling '/usr/local/lib/python3.8/lib2to3/fixes/fix_xreadlines.py'...\n",
            "Compiling '/usr/local/lib/python3.8/lib2to3/fixes/fix_zip.py'...\n",
            "Compiling '/usr/local/lib/python3.8/lib2to3/main.py'...\n",
            "Compiling '/usr/local/lib/python3.8/lib2to3/patcomp.py'...\n",
            "Compiling '/usr/local/lib/python3.8/lib2to3/pgen2/__init__.py'...\n",
            "Compiling '/usr/local/lib/python3.8/lib2to3/pgen2/conv.py'...\n",
            "Compiling '/usr/local/lib/python3.8/lib2to3/pgen2/driver.py'...\n",
            "Compiling '/usr/local/lib/python3.8/lib2to3/pgen2/grammar.py'...\n",
            "Compiling '/usr/local/lib/python3.8/lib2to3/pgen2/literals.py'...\n",
            "Compiling '/usr/local/lib/python3.8/lib2to3/pgen2/parse.py'...\n",
            "Compiling '/usr/local/lib/python3.8/lib2to3/pgen2/pgen.py'...\n",
            "Compiling '/usr/local/lib/python3.8/lib2to3/pgen2/token.py'...\n",
            "Compiling '/usr/local/lib/python3.8/lib2to3/pgen2/tokenize.py'...\n",
            "Compiling '/usr/local/lib/python3.8/lib2to3/pygram.py'...\n",
            "Compiling '/usr/local/lib/python3.8/lib2to3/pytree.py'...\n",
            "Compiling '/usr/local/lib/python3.8/lib2to3/tests/__init__.py'...\n",
            "Compiling '/usr/local/lib/python3.8/lib2to3/refactor.py'...\n",
            "Compiling '/usr/local/lib/python3.8/lib2to3/tests/__main__.py'...\n",
            "Compiling '/usr/local/lib/python3.8/lib2to3/tests/pytree_idempotency.py'...\n",
            "Compiling '/usr/local/lib/python3.8/lib2to3/tests/support.py'...\n",
            "Compiling '/usr/local/lib/python3.8/lib2to3/tests/test_all_fixers.py'...\n",
            "Compiling '/usr/local/lib/python3.8/lib2to3/tests/test_fixers.py'...\n",
            "Compiling '/usr/local/lib/python3.8/lib2to3/tests/test_main.py'...\n",
            "Compiling '/usr/local/lib/python3.8/lib2to3/tests/test_parser.py'...\n",
            "Compiling '/usr/local/lib/python3.8/lib2to3/tests/test_pytree.py'...\n",
            "Compiling '/usr/local/lib/python3.8/lib2to3/tests/test_refactor.py'...\n",
            "Compiling '/usr/local/lib/python3.8/lib2to3/tests/test_util.py'...\n",
            "Compiling '/usr/local/lib/python3.8/linecache.py'...\n",
            "Compiling '/usr/local/lib/python3.8/locale.py'...\n",
            "Compiling '/usr/local/lib/python3.8/logging/__init__.py'...\n",
            "Compiling '/usr/local/lib/python3.8/logging/config.py'...\n",
            "Compiling '/usr/local/lib/python3.8/logging/handlers.py'...\n",
            "Compiling '/usr/local/lib/python3.8/lzma.py'...\n",
            "Compiling '/usr/local/lib/python3.8/mailbox.py'...\n",
            "Compiling '/usr/local/lib/python3.8/mailcap.py'...\n",
            "Compiling '/usr/local/lib/python3.8/mimetypes.py'...\n",
            "Compiling '/usr/local/lib/python3.8/modulefinder.py'...\n",
            "Compiling '/usr/local/lib/python3.8/multiprocessing/__init__.py'...\n",
            "Compiling '/usr/local/lib/python3.8/multiprocessing/connection.py'...\n",
            "Compiling '/usr/local/lib/python3.8/multiprocessing/context.py'...\n",
            "Compiling '/usr/local/lib/python3.8/multiprocessing/dummy/__init__.py'...\n",
            "Compiling '/usr/local/lib/python3.8/multiprocessing/dummy/connection.py'...\n",
            "Compiling '/usr/local/lib/python3.8/multiprocessing/forkserver.py'...\n",
            "Compiling '/usr/local/lib/python3.8/multiprocessing/heap.py'...\n",
            "Compiling '/usr/local/lib/python3.8/multiprocessing/managers.py'...\n",
            "Compiling '/usr/local/lib/python3.8/multiprocessing/pool.py'...\n",
            "Compiling '/usr/local/lib/python3.8/multiprocessing/popen_fork.py'...\n",
            "Compiling '/usr/local/lib/python3.8/multiprocessing/popen_forkserver.py'...\n",
            "Compiling '/usr/local/lib/python3.8/multiprocessing/popen_spawn_posix.py'...\n",
            "Compiling '/usr/local/lib/python3.8/multiprocessing/popen_spawn_win32.py'...\n",
            "Compiling '/usr/local/lib/python3.8/multiprocessing/process.py'...\n",
            "Compiling '/usr/local/lib/python3.8/multiprocessing/queues.py'...\n",
            "Compiling '/usr/local/lib/python3.8/multiprocessing/reduction.py'...\n",
            "Compiling '/usr/local/lib/python3.8/multiprocessing/resource_sharer.py'...\n",
            "Compiling '/usr/local/lib/python3.8/multiprocessing/resource_tracker.py'...\n",
            "Compiling '/usr/local/lib/python3.8/multiprocessing/shared_memory.py'...\n",
            "Compiling '/usr/local/lib/python3.8/multiprocessing/sharedctypes.py'...\n",
            "Compiling '/usr/local/lib/python3.8/multiprocessing/spawn.py'...\n",
            "Compiling '/usr/local/lib/python3.8/multiprocessing/synchronize.py'...\n",
            "Compiling '/usr/local/lib/python3.8/multiprocessing/util.py'...\n",
            "Compiling '/usr/local/lib/python3.8/netrc.py'...\n",
            "Compiling '/usr/local/lib/python3.8/nntplib.py'...\n",
            "Compiling '/usr/local/lib/python3.8/ntpath.py'...\n",
            "Compiling '/usr/local/lib/python3.8/nturl2path.py'...\n",
            "Compiling '/usr/local/lib/python3.8/numbers.py'...\n",
            "Compiling '/usr/local/lib/python3.8/opcode.py'...\n",
            "Compiling '/usr/local/lib/python3.8/operator.py'...\n",
            "Compiling '/usr/local/lib/python3.8/optparse.py'...\n",
            "Compiling '/usr/local/lib/python3.8/os.py'...\n",
            "Compiling '/usr/local/lib/python3.8/pathlib.py'...\n",
            "Compiling '/usr/local/lib/python3.8/pdb.py'...\n",
            "Compiling '/usr/local/lib/python3.8/pickle.py'...\n",
            "Compiling '/usr/local/lib/python3.8/pickletools.py'...\n",
            "Compiling '/usr/local/lib/python3.8/pipes.py'...\n",
            "Compiling '/usr/local/lib/python3.8/pkgutil.py'...\n",
            "Compiling '/usr/local/lib/python3.8/platform.py'...\n",
            "Compiling '/usr/local/lib/python3.8/plistlib.py'...\n",
            "Compiling '/usr/local/lib/python3.8/poplib.py'...\n",
            "Compiling '/usr/local/lib/python3.8/posixpath.py'...\n",
            "Compiling '/usr/local/lib/python3.8/pprint.py'...\n",
            "Compiling '/usr/local/lib/python3.8/profile.py'...\n",
            "Compiling '/usr/local/lib/python3.8/pstats.py'...\n",
            "Compiling '/usr/local/lib/python3.8/pty.py'...\n",
            "Compiling '/usr/local/lib/python3.8/py_compile.py'...\n",
            "Compiling '/usr/local/lib/python3.8/pyclbr.py'...\n",
            "Compiling '/usr/local/lib/python3.8/pydoc.py'...\n",
            "Compiling '/usr/local/lib/python3.8/pydoc_data/__init__.py'...\n",
            "Compiling '/usr/local/lib/python3.8/pydoc_data/topics.py'...\n",
            "Compiling '/usr/local/lib/python3.8/queue.py'...\n",
            "Compiling '/usr/local/lib/python3.8/quopri.py'...\n",
            "Compiling '/usr/local/lib/python3.8/random.py'...\n",
            "Compiling '/usr/local/lib/python3.8/re.py'...\n",
            "Compiling '/usr/local/lib/python3.8/reprlib.py'...\n",
            "Compiling '/usr/local/lib/python3.8/rlcompleter.py'...\n",
            "Compiling '/usr/local/lib/python3.8/runpy.py'...\n",
            "Compiling '/usr/local/lib/python3.8/sched.py'...\n",
            "Compiling '/usr/local/lib/python3.8/secrets.py'...\n",
            "Compiling '/usr/local/lib/python3.8/selectors.py'...\n",
            "Compiling '/usr/local/lib/python3.8/shelve.py'...\n",
            "Compiling '/usr/local/lib/python3.8/shlex.py'...\n",
            "Compiling '/usr/local/lib/python3.8/shutil.py'...\n",
            "Compiling '/usr/local/lib/python3.8/signal.py'...\n",
            "Compiling '/usr/local/lib/python3.8/site.py'...\n",
            "Compiling '/usr/local/lib/python3.8/smtplib.py'...\n",
            "Compiling '/usr/local/lib/python3.8/smtpd.py'...\n",
            "Compiling '/usr/local/lib/python3.8/sndhdr.py'...\n",
            "Compiling '/usr/local/lib/python3.8/socket.py'...\n",
            "Compiling '/usr/local/lib/python3.8/socketserver.py'...\n",
            "Compiling '/usr/local/lib/python3.8/sqlite3/__init__.py'...\n",
            "Compiling '/usr/local/lib/python3.8/sqlite3/dbapi2.py'...\n",
            "Compiling '/usr/local/lib/python3.8/sqlite3/dump.py'...\n",
            "Compiling '/usr/local/lib/python3.8/sqlite3/test/__init__.py'...\n",
            "Compiling '/usr/local/lib/python3.8/sqlite3/test/backup.py'...\n",
            "Compiling '/usr/local/lib/python3.8/sqlite3/test/dbapi.py'...\n",
            "Compiling '/usr/local/lib/python3.8/sqlite3/test/dump.py'...\n",
            "Compiling '/usr/local/lib/python3.8/sqlite3/test/factory.py'...\n",
            "Compiling '/usr/local/lib/python3.8/sqlite3/test/hooks.py'...\n",
            "Compiling '/usr/local/lib/python3.8/sqlite3/test/regression.py'...\n",
            "Compiling '/usr/local/lib/python3.8/sqlite3/test/transactions.py'...\n",
            "Compiling '/usr/local/lib/python3.8/sqlite3/test/types.py'...\n",
            "Compiling '/usr/local/lib/python3.8/sqlite3/test/userfunctions.py'...\n",
            "Compiling '/usr/local/lib/python3.8/sre_compile.py'...\n",
            "Compiling '/usr/local/lib/python3.8/sre_constants.py'...\n",
            "Compiling '/usr/local/lib/python3.8/sre_parse.py'...\n",
            "Compiling '/usr/local/lib/python3.8/ssl.py'...\n",
            "Compiling '/usr/local/lib/python3.8/stat.py'...\n",
            "Compiling '/usr/local/lib/python3.8/statistics.py'...\n",
            "Compiling '/usr/local/lib/python3.8/string.py'...\n",
            "Compiling '/usr/local/lib/python3.8/stringprep.py'...\n",
            "Compiling '/usr/local/lib/python3.8/struct.py'...\n",
            "Compiling '/usr/local/lib/python3.8/subprocess.py'...\n",
            "Compiling '/usr/local/lib/python3.8/sunau.py'...\n",
            "Compiling '/usr/local/lib/python3.8/symbol.py'...\n",
            "Compiling '/usr/local/lib/python3.8/symtable.py'...\n",
            "Compiling '/usr/local/lib/python3.8/sysconfig.py'...\n",
            "Compiling '/usr/local/lib/python3.8/tabnanny.py'...\n",
            "Compiling '/usr/local/lib/python3.8/tarfile.py'...\n",
            "Compiling '/usr/local/lib/python3.8/telnetlib.py'...\n",
            "Compiling '/usr/local/lib/python3.8/tempfile.py'...\n",
            "Compiling '/usr/local/lib/python3.8/test/__init__.py'...\n",
            "Compiling '/usr/local/lib/python3.8/test/__main__.py'...\n",
            "Compiling '/usr/local/lib/python3.8/test/_test_multiprocessing.py'...\n",
            "Compiling '/usr/local/lib/python3.8/test/ann_module.py'...\n",
            "Compiling '/usr/local/lib/python3.8/test/ann_module2.py'...\n",
            "Compiling '/usr/local/lib/python3.8/test/ann_module3.py'...\n",
            "Compiling '/usr/local/lib/python3.8/test/audiotests.py'...\n",
            "Compiling '/usr/local/lib/python3.8/test/audit-tests.py'...\n",
            "Compiling '/usr/local/lib/python3.8/test/autotest.py'...\n",
            "Compiling '/usr/local/lib/python3.8/test/bad_getattr.py'...\n",
            "Compiling '/usr/local/lib/python3.8/test/bad_getattr2.py'...\n",
            "Compiling '/usr/local/lib/python3.8/test/bad_getattr3.py'...\n",
            "Compiling '/usr/local/lib/python3.8/test/bisect_cmd.py'...\n",
            "Compiling '/usr/local/lib/python3.8/test/bytecode_helper.py'...\n",
            "Compiling '/usr/local/lib/python3.8/test/curses_tests.py'...\n",
            "Compiling '/usr/local/lib/python3.8/test/coding20731.py'...\n",
            "Compiling '/usr/local/lib/python3.8/test/dataclass_module_1.py'...\n",
            "Compiling '/usr/local/lib/python3.8/test/dataclass_module_1_str.py'...\n",
            "Compiling '/usr/local/lib/python3.8/test/dataclass_module_2.py'...\n",
            "Compiling '/usr/local/lib/python3.8/test/dataclass_module_2_str.py'...\n",
            "Compiling '/usr/local/lib/python3.8/test/dataclass_textanno.py'...\n",
            "Compiling '/usr/local/lib/python3.8/test/datetimetester.py'...\n",
            "Compiling '/usr/local/lib/python3.8/test/dis_module.py'...\n",
            "Compiling '/usr/local/lib/python3.8/test/doctest_aliases.py'...\n",
            "Compiling '/usr/local/lib/python3.8/test/double_const.py'...\n",
            "Compiling '/usr/local/lib/python3.8/test/dtracedata/call_stack.py'...\n",
            "Compiling '/usr/local/lib/python3.8/test/dtracedata/gc.py'...\n",
            "Compiling '/usr/local/lib/python3.8/test/dtracedata/instance.py'...\n",
            "Compiling '/usr/local/lib/python3.8/test/dtracedata/line.py'...\n",
            "Compiling '/usr/local/lib/python3.8/test/eintrdata/eintr_tester.py'...\n",
            "Compiling '/usr/local/lib/python3.8/test/encoded_modules/__init__.py'...\n",
            "Compiling '/usr/local/lib/python3.8/test/encoded_modules/module_iso_8859_1.py'...\n",
            "Compiling '/usr/local/lib/python3.8/test/encoded_modules/module_koi8_r.py'...\n",
            "Compiling '/usr/local/lib/python3.8/test/final_a.py'...\n",
            "Compiling '/usr/local/lib/python3.8/test/final_b.py'...\n",
            "Compiling '/usr/local/lib/python3.8/test/fork_wait.py'...\n",
            "Compiling '/usr/local/lib/python3.8/test/future_test1.py'...\n",
            "Compiling '/usr/local/lib/python3.8/test/future_test2.py'...\n",
            "Compiling '/usr/local/lib/python3.8/test/gdb_sample.py'...\n",
            "Compiling '/usr/local/lib/python3.8/test/good_getattr.py'...\n",
            "Compiling '/usr/local/lib/python3.8/test/imp_dummy.py'...\n",
            "Compiling '/usr/local/lib/python3.8/test/inspect_fodder.py'...\n",
            "Compiling '/usr/local/lib/python3.8/test/inspect_fodder2.py'...\n",
            "Compiling '/usr/local/lib/python3.8/test/libregrtest/__init__.py'...\n",
            "Compiling '/usr/local/lib/python3.8/test/libregrtest/main.py'...\n",
            "Compiling '/usr/local/lib/python3.8/test/libregrtest/cmdline.py'...\n",
            "Compiling '/usr/local/lib/python3.8/test/libregrtest/pgo.py'...\n",
            "Compiling '/usr/local/lib/python3.8/test/libregrtest/refleak.py'...\n",
            "Compiling '/usr/local/lib/python3.8/test/libregrtest/runtest.py'...\n",
            "Compiling '/usr/local/lib/python3.8/test/libregrtest/runtest_mp.py'...\n",
            "Compiling '/usr/local/lib/python3.8/test/libregrtest/save_env.py'...\n",
            "Compiling '/usr/local/lib/python3.8/test/libregrtest/setup.py'...\n",
            "Compiling '/usr/local/lib/python3.8/test/libregrtest/utils.py'...\n",
            "Compiling '/usr/local/lib/python3.8/test/libregrtest/win_utils.py'...\n",
            "Compiling '/usr/local/lib/python3.8/test/list_tests.py'...\n",
            "Compiling '/usr/local/lib/python3.8/test/lock_tests.py'...\n",
            "Compiling '/usr/local/lib/python3.8/test/make_ssl_certs.py'...\n",
            "Compiling '/usr/local/lib/python3.8/test/mapping_tests.py'...\n",
            "Compiling '/usr/local/lib/python3.8/test/memory_watchdog.py'...\n",
            "Compiling '/usr/local/lib/python3.8/test/mock_socket.py'...\n",
            "Compiling '/usr/local/lib/python3.8/test/mod_generics_cache.py'...\n",
            "Compiling '/usr/local/lib/python3.8/test/mp_fork_bomb.py'...\n",
            "Compiling '/usr/local/lib/python3.8/test/multibytecodec_support.py'...\n",
            "Compiling '/usr/local/lib/python3.8/test/mp_preload.py'...\n",
            "Compiling '/usr/local/lib/python3.8/test/outstanding_bugs.py'...\n",
            "Compiling '/usr/local/lib/python3.8/test/pickletester.py'...\n",
            "Compiling '/usr/local/lib/python3.8/test/profilee.py'...\n",
            "Compiling '/usr/local/lib/python3.8/test/pyclbr_input.py'...\n",
            "Compiling '/usr/local/lib/python3.8/test/pydoc_mod.py'...\n",
            "Compiling '/usr/local/lib/python3.8/test/pydocfodder.py'...\n",
            "Compiling '/usr/local/lib/python3.8/test/pythoninfo.py'...\n",
            "Compiling '/usr/local/lib/python3.8/test/re_tests.py'...\n",
            "Compiling '/usr/local/lib/python3.8/test/regrtest.py'...\n",
            "Compiling '/usr/local/lib/python3.8/test/relimport.py'...\n",
            "Compiling '/usr/local/lib/python3.8/test/reperf.py'...\n",
            "Compiling '/usr/local/lib/python3.8/test/sample_doctest.py'...\n",
            "Compiling '/usr/local/lib/python3.8/test/sample_doctest_no_docstrings.py'...\n",
            "Compiling '/usr/local/lib/python3.8/test/sample_doctest_no_doctests.py'...\n",
            "Compiling '/usr/local/lib/python3.8/test/seq_tests.py'...\n",
            "Compiling '/usr/local/lib/python3.8/test/signalinterproctester.py'...\n",
            "Compiling '/usr/local/lib/python3.8/test/sortperf.py'...\n",
            "Compiling '/usr/local/lib/python3.8/test/ssl_servers.py'...\n",
            "Compiling '/usr/local/lib/python3.8/test/ssltests.py'...\n",
            "Compiling '/usr/local/lib/python3.8/test/string_tests.py'...\n",
            "Compiling '/usr/local/lib/python3.8/test/subprocessdata/fd_status.py'...\n",
            "Compiling '/usr/local/lib/python3.8/test/subprocessdata/input_reader.py'...\n",
            "Compiling '/usr/local/lib/python3.8/test/subprocessdata/qcat.py'...\n",
            "Compiling '/usr/local/lib/python3.8/test/subprocessdata/qgrep.py'...\n",
            "Compiling '/usr/local/lib/python3.8/test/subprocessdata/sigchild_ignore.py'...\n",
            "Compiling '/usr/local/lib/python3.8/test/support/__init__.py'...\n",
            "Compiling '/usr/local/lib/python3.8/test/support/script_helper.py'...\n",
            "Compiling '/usr/local/lib/python3.8/test/support/testresult.py'...\n",
            "Compiling '/usr/local/lib/python3.8/test/test___all__.py'...\n",
            "Compiling '/usr/local/lib/python3.8/test/test___future__.py'...\n",
            "Compiling '/usr/local/lib/python3.8/test/test__locale.py'...\n",
            "Compiling '/usr/local/lib/python3.8/test/test__opcode.py'...\n",
            "Compiling '/usr/local/lib/python3.8/test/test__osx_support.py'...\n",
            "Compiling '/usr/local/lib/python3.8/test/test__xxsubinterpreters.py'...\n",
            "Compiling '/usr/local/lib/python3.8/test/test_abc.py'...\n",
            "Compiling '/usr/local/lib/python3.8/test/test_abstract_numbers.py'...\n",
            "Compiling '/usr/local/lib/python3.8/test/test_aifc.py'...\n",
            "Compiling '/usr/local/lib/python3.8/test/test_argparse.py'...\n",
            "Compiling '/usr/local/lib/python3.8/test/test_array.py'...\n",
            "Compiling '/usr/local/lib/python3.8/test/test_asdl_parser.py'...\n",
            "Compiling '/usr/local/lib/python3.8/test/test_ast.py'...\n",
            "Compiling '/usr/local/lib/python3.8/test/test_asyncgen.py'...\n",
            "Compiling '/usr/local/lib/python3.8/test/test_asynchat.py'...\n",
            "Compiling '/usr/local/lib/python3.8/test/test_asyncio/__init__.py'...\n",
            "Compiling '/usr/local/lib/python3.8/test/test_asyncio/__main__.py'...\n",
            "Compiling '/usr/local/lib/python3.8/test/test_asyncio/echo.py'...\n",
            "Compiling '/usr/local/lib/python3.8/test/test_asyncio/echo2.py'...\n",
            "Compiling '/usr/local/lib/python3.8/test/test_asyncio/echo3.py'...\n",
            "Compiling '/usr/local/lib/python3.8/test/test_asyncio/functional.py'...\n",
            "Compiling '/usr/local/lib/python3.8/test/test_asyncio/test_base_events.py'...\n",
            "Compiling '/usr/local/lib/python3.8/test/test_asyncio/test_buffered_proto.py'...\n",
            "Compiling '/usr/local/lib/python3.8/test/test_asyncio/test_context.py'...\n",
            "Compiling '/usr/local/lib/python3.8/test/test_asyncio/test_events.py'...\n",
            "Compiling '/usr/local/lib/python3.8/test/test_asyncio/test_futures.py'...\n",
            "Compiling '/usr/local/lib/python3.8/test/test_asyncio/test_locks.py'...\n",
            "Compiling '/usr/local/lib/python3.8/test/test_asyncio/test_pep492.py'...\n",
            "Compiling '/usr/local/lib/python3.8/test/test_asyncio/test_proactor_events.py'...\n",
            "Compiling '/usr/local/lib/python3.8/test/test_asyncio/test_protocols.py'...\n",
            "Compiling '/usr/local/lib/python3.8/test/test_asyncio/test_queues.py'...\n",
            "Compiling '/usr/local/lib/python3.8/test/test_asyncio/test_runners.py'...\n",
            "Compiling '/usr/local/lib/python3.8/test/test_asyncio/test_selector_events.py'...\n",
            "Compiling '/usr/local/lib/python3.8/test/test_asyncio/test_sendfile.py'...\n",
            "Compiling '/usr/local/lib/python3.8/test/test_asyncio/test_server.py'...\n",
            "Compiling '/usr/local/lib/python3.8/test/test_asyncio/test_sock_lowlevel.py'...\n",
            "Compiling '/usr/local/lib/python3.8/test/test_asyncio/test_sslproto.py'...\n",
            "Compiling '/usr/local/lib/python3.8/test/test_asyncio/test_streams.py'...\n",
            "Compiling '/usr/local/lib/python3.8/test/test_asyncio/test_subprocess.py'...\n",
            "Compiling '/usr/local/lib/python3.8/test/test_asyncio/test_tasks.py'...\n",
            "Compiling '/usr/local/lib/python3.8/test/test_asyncio/test_transports.py'...\n",
            "Compiling '/usr/local/lib/python3.8/test/test_asyncio/test_unix_events.py'...\n",
            "Compiling '/usr/local/lib/python3.8/test/test_asyncio/test_windows_events.py'...\n",
            "Compiling '/usr/local/lib/python3.8/test/test_asyncio/test_windows_utils.py'...\n",
            "Compiling '/usr/local/lib/python3.8/test/test_asyncio/utils.py'...\n",
            "Compiling '/usr/local/lib/python3.8/test/test_asyncore.py'...\n",
            "Compiling '/usr/local/lib/python3.8/test/test_atexit.py'...\n",
            "Compiling '/usr/local/lib/python3.8/test/test_audioop.py'...\n",
            "Compiling '/usr/local/lib/python3.8/test/test_audit.py'...\n",
            "Compiling '/usr/local/lib/python3.8/test/test_augassign.py'...\n",
            "Compiling '/usr/local/lib/python3.8/test/test_base64.py'...\n",
            "Compiling '/usr/local/lib/python3.8/test/test_baseexception.py'...\n",
            "Compiling '/usr/local/lib/python3.8/test/test_bdb.py'...\n",
            "Compiling '/usr/local/lib/python3.8/test/test_bigaddrspace.py'...\n",
            "Compiling '/usr/local/lib/python3.8/test/test_bigmem.py'...\n",
            "Compiling '/usr/local/lib/python3.8/test/test_binascii.py'...\n",
            "Compiling '/usr/local/lib/python3.8/test/test_binhex.py'...\n",
            "Compiling '/usr/local/lib/python3.8/test/test_binop.py'...\n",
            "Compiling '/usr/local/lib/python3.8/test/test_bisect.py'...\n",
            "Compiling '/usr/local/lib/python3.8/test/test_bool.py'...\n",
            "Compiling '/usr/local/lib/python3.8/test/test_buffer.py'...\n",
            "Compiling '/usr/local/lib/python3.8/test/test_bufio.py'...\n",
            "Compiling '/usr/local/lib/python3.8/test/test_builtin.py'...\n",
            "Compiling '/usr/local/lib/python3.8/test/test_bytes.py'...\n",
            "Compiling '/usr/local/lib/python3.8/test/test_bz2.py'...\n",
            "Compiling '/usr/local/lib/python3.8/test/test_c_locale_coercion.py'...\n",
            "Compiling '/usr/local/lib/python3.8/test/test_calendar.py'...\n",
            "Compiling '/usr/local/lib/python3.8/test/test_call.py'...\n",
            "Compiling '/usr/local/lib/python3.8/test/test_capi.py'...\n",
            "Compiling '/usr/local/lib/python3.8/test/test_cgi.py'...\n",
            "Compiling '/usr/local/lib/python3.8/test/test_cgitb.py'...\n",
            "Compiling '/usr/local/lib/python3.8/test/test_charmapcodec.py'...\n",
            "Compiling '/usr/local/lib/python3.8/test/test_class.py'...\n",
            "Compiling '/usr/local/lib/python3.8/test/test_cmath.py'...\n",
            "Compiling '/usr/local/lib/python3.8/test/test_clinic.py'...\n",
            "Compiling '/usr/local/lib/python3.8/test/test_cmd.py'...\n",
            "Compiling '/usr/local/lib/python3.8/test/test_cmd_line.py'...\n",
            "Compiling '/usr/local/lib/python3.8/test/test_cmd_line_script.py'...\n",
            "Compiling '/usr/local/lib/python3.8/test/test_code.py'...\n",
            "Compiling '/usr/local/lib/python3.8/test/test_code_module.py'...\n",
            "Compiling '/usr/local/lib/python3.8/test/test_codeccallbacks.py'...\n",
            "Compiling '/usr/local/lib/python3.8/test/test_codecencodings_cn.py'...\n",
            "Compiling '/usr/local/lib/python3.8/test/test_codecencodings_iso2022.py'...\n",
            "Compiling '/usr/local/lib/python3.8/test/test_codecencodings_hk.py'...\n",
            "Compiling '/usr/local/lib/python3.8/test/test_codecencodings_kr.py'...\n",
            "Compiling '/usr/local/lib/python3.8/test/test_codecencodings_jp.py'...\n",
            "Compiling '/usr/local/lib/python3.8/test/test_codecencodings_tw.py'...\n",
            "Compiling '/usr/local/lib/python3.8/test/test_codecmaps_cn.py'...\n",
            "Compiling '/usr/local/lib/python3.8/test/test_codecmaps_hk.py'...\n",
            "Compiling '/usr/local/lib/python3.8/test/test_codecmaps_jp.py'...\n",
            "Compiling '/usr/local/lib/python3.8/test/test_codecmaps_kr.py'...\n",
            "Compiling '/usr/local/lib/python3.8/test/test_codecmaps_tw.py'...\n",
            "Compiling '/usr/local/lib/python3.8/test/test_codecs.py'...\n",
            "Compiling '/usr/local/lib/python3.8/test/test_codeop.py'...\n",
            "Compiling '/usr/local/lib/python3.8/test/test_collections.py'...\n",
            "Compiling '/usr/local/lib/python3.8/test/test_colorsys.py'...\n",
            "Compiling '/usr/local/lib/python3.8/test/test_compare.py'...\n",
            "Compiling '/usr/local/lib/python3.8/test/test_compile.py'...\n",
            "Compiling '/usr/local/lib/python3.8/test/test_compileall.py'...\n",
            "Compiling '/usr/local/lib/python3.8/test/test_complex.py'...\n",
            "Compiling '/usr/local/lib/python3.8/test/test_concurrent_futures.py'...\n",
            "Compiling '/usr/local/lib/python3.8/test/test_configparser.py'...\n",
            "Compiling '/usr/local/lib/python3.8/test/test_contains.py'...\n",
            "Compiling '/usr/local/lib/python3.8/test/test_context.py'...\n",
            "Compiling '/usr/local/lib/python3.8/test/test_contextlib.py'...\n",
            "Compiling '/usr/local/lib/python3.8/test/test_contextlib_async.py'...\n",
            "Compiling '/usr/local/lib/python3.8/test/test_copy.py'...\n",
            "Compiling '/usr/local/lib/python3.8/test/test_copyreg.py'...\n",
            "Compiling '/usr/local/lib/python3.8/test/test_coroutines.py'...\n",
            "Compiling '/usr/local/lib/python3.8/test/test_cprofile.py'...\n",
            "Compiling '/usr/local/lib/python3.8/test/test_crashers.py'...\n",
            "Compiling '/usr/local/lib/python3.8/test/test_crypt.py'...\n",
            "Compiling '/usr/local/lib/python3.8/test/test_csv.py'...\n",
            "Compiling '/usr/local/lib/python3.8/test/test_ctypes.py'...\n",
            "Compiling '/usr/local/lib/python3.8/test/test_curses.py'...\n",
            "Compiling '/usr/local/lib/python3.8/test/test_dataclasses.py'...\n",
            "Compiling '/usr/local/lib/python3.8/test/test_datetime.py'...\n",
            "Compiling '/usr/local/lib/python3.8/test/test_dbm.py'...\n",
            "Compiling '/usr/local/lib/python3.8/test/test_dbm_dumb.py'...\n",
            "Compiling '/usr/local/lib/python3.8/test/test_dbm_gnu.py'...\n",
            "Compiling '/usr/local/lib/python3.8/test/test_dbm_ndbm.py'...\n",
            "Compiling '/usr/local/lib/python3.8/test/test_decimal.py'...\n",
            "Compiling '/usr/local/lib/python3.8/test/test_decorators.py'...\n",
            "Compiling '/usr/local/lib/python3.8/test/test_defaultdict.py'...\n",
            "Compiling '/usr/local/lib/python3.8/test/test_deque.py'...\n",
            "Compiling '/usr/local/lib/python3.8/test/test_descr.py'...\n",
            "Compiling '/usr/local/lib/python3.8/test/test_descrtut.py'...\n",
            "Compiling '/usr/local/lib/python3.8/test/test_devpoll.py'...\n",
            "Compiling '/usr/local/lib/python3.8/test/test_dict.py'...\n",
            "Compiling '/usr/local/lib/python3.8/test/test_dictcomps.py'...\n",
            "Compiling '/usr/local/lib/python3.8/test/test_dict_version.py'...\n",
            "Compiling '/usr/local/lib/python3.8/test/test_dictviews.py'...\n",
            "Compiling '/usr/local/lib/python3.8/test/test_difflib.py'...\n",
            "Compiling '/usr/local/lib/python3.8/test/test_dis.py'...\n",
            "Compiling '/usr/local/lib/python3.8/test/test_distutils.py'...\n",
            "Compiling '/usr/local/lib/python3.8/test/test_doctest.py'...\n",
            "Compiling '/usr/local/lib/python3.8/test/test_doctest2.py'...\n",
            "Compiling '/usr/local/lib/python3.8/test/test_docxmlrpc.py'...\n",
            "Compiling '/usr/local/lib/python3.8/test/test_dtrace.py'...\n",
            "Compiling '/usr/local/lib/python3.8/test/test_dummy_thread.py'...\n",
            "Compiling '/usr/local/lib/python3.8/test/test_dummy_threading.py'...\n",
            "Compiling '/usr/local/lib/python3.8/test/test_dynamic.py'...\n",
            "Compiling '/usr/local/lib/python3.8/test/test_dynamicclassattribute.py'...\n",
            "Compiling '/usr/local/lib/python3.8/test/test_eintr.py'...\n",
            "Compiling '/usr/local/lib/python3.8/test/test_email/__init__.py'...\n",
            "Compiling '/usr/local/lib/python3.8/test/test_email/__main__.py'...\n",
            "Compiling '/usr/local/lib/python3.8/test/test_email/test__encoded_words.py'...\n",
            "Compiling '/usr/local/lib/python3.8/test/test_email/test__header_value_parser.py'...\n",
            "Compiling '/usr/local/lib/python3.8/test/test_email/test_asian_codecs.py'...\n",
            "Compiling '/usr/local/lib/python3.8/test/test_email/test_contentmanager.py'...\n",
            "Compiling '/usr/local/lib/python3.8/test/test_email/test_defect_handling.py'...\n",
            "Compiling '/usr/local/lib/python3.8/test/test_email/test_email.py'...\n",
            "Compiling '/usr/local/lib/python3.8/test/test_email/test_generator.py'...\n",
            "Compiling '/usr/local/lib/python3.8/test/test_email/test_headerregistry.py'...\n",
            "Compiling '/usr/local/lib/python3.8/test/test_email/test_inversion.py'...\n",
            "Compiling '/usr/local/lib/python3.8/test/test_email/test_message.py'...\n",
            "Compiling '/usr/local/lib/python3.8/test/test_email/test_parser.py'...\n",
            "Compiling '/usr/local/lib/python3.8/test/test_email/test_pickleable.py'...\n",
            "Compiling '/usr/local/lib/python3.8/test/test_email/test_policy.py'...\n",
            "Compiling '/usr/local/lib/python3.8/test/test_email/test_utils.py'...\n",
            "Compiling '/usr/local/lib/python3.8/test/test_email/torture_test.py'...\n",
            "Compiling '/usr/local/lib/python3.8/test/test_ensurepip.py'...\n",
            "Compiling '/usr/local/lib/python3.8/test/test_embed.py'...\n",
            "Compiling '/usr/local/lib/python3.8/test/test_enum.py'...\n",
            "Compiling '/usr/local/lib/python3.8/test/test_enumerate.py'...\n",
            "Compiling '/usr/local/lib/python3.8/test/test_eof.py'...\n",
            "Compiling '/usr/local/lib/python3.8/test/test_epoll.py'...\n",
            "Compiling '/usr/local/lib/python3.8/test/test_errno.py'...\n",
            "Compiling '/usr/local/lib/python3.8/test/test_exception_hierarchy.py'...\n",
            "Compiling '/usr/local/lib/python3.8/test/test_exception_variations.py'...\n",
            "Compiling '/usr/local/lib/python3.8/test/test_exceptions.py'...\n",
            "Compiling '/usr/local/lib/python3.8/test/test_extcall.py'...\n",
            "Compiling '/usr/local/lib/python3.8/test/test_faulthandler.py'...\n",
            "Compiling '/usr/local/lib/python3.8/test/test_fcntl.py'...\n",
            "Compiling '/usr/local/lib/python3.8/test/test_file.py'...\n",
            "Compiling '/usr/local/lib/python3.8/test/test_file_eintr.py'...\n",
            "Compiling '/usr/local/lib/python3.8/test/test_filecmp.py'...\n",
            "Compiling '/usr/local/lib/python3.8/test/test_fileinput.py'...\n",
            "Compiling '/usr/local/lib/python3.8/test/test_fileio.py'...\n",
            "Compiling '/usr/local/lib/python3.8/test/test_finalization.py'...\n",
            "Compiling '/usr/local/lib/python3.8/test/test_float.py'...\n",
            "Compiling '/usr/local/lib/python3.8/test/test_flufl.py'...\n",
            "Compiling '/usr/local/lib/python3.8/test/test_fork1.py'...\n",
            "Compiling '/usr/local/lib/python3.8/test/test_fnmatch.py'...\n",
            "Compiling '/usr/local/lib/python3.8/test/test_format.py'...\n",
            "Compiling '/usr/local/lib/python3.8/test/test_fractions.py'...\n",
            "Compiling '/usr/local/lib/python3.8/test/test_frame.py'...\n",
            "Compiling '/usr/local/lib/python3.8/test/test_frozen.py'...\n",
            "Compiling '/usr/local/lib/python3.8/test/test_fstring.py'...\n",
            "Compiling '/usr/local/lib/python3.8/test/test_ftplib.py'...\n",
            "Compiling '/usr/local/lib/python3.8/test/test_funcattrs.py'...\n",
            "Compiling '/usr/local/lib/python3.8/test/test_functools.py'...\n",
            "Compiling '/usr/local/lib/python3.8/test/test_future.py'...\n",
            "Compiling '/usr/local/lib/python3.8/test/test_future3.py'...\n",
            "Compiling '/usr/local/lib/python3.8/test/test_future4.py'...\n",
            "Compiling '/usr/local/lib/python3.8/test/test_future5.py'...\n",
            "Compiling '/usr/local/lib/python3.8/test/test_gc.py'...\n",
            "Compiling '/usr/local/lib/python3.8/test/test_gdb.py'...\n",
            "Compiling '/usr/local/lib/python3.8/test/test_generator_stop.py'...\n",
            "Compiling '/usr/local/lib/python3.8/test/test_generators.py'...\n",
            "Compiling '/usr/local/lib/python3.8/test/test_genericclass.py'...\n",
            "Compiling '/usr/local/lib/python3.8/test/test_genericpath.py'...\n",
            "Compiling '/usr/local/lib/python3.8/test/test_genexps.py'...\n",
            "Compiling '/usr/local/lib/python3.8/test/test_getargs2.py'...\n",
            "Compiling '/usr/local/lib/python3.8/test/test_getpass.py'...\n",
            "Compiling '/usr/local/lib/python3.8/test/test_getopt.py'...\n",
            "Compiling '/usr/local/lib/python3.8/test/test_gettext.py'...\n",
            "Compiling '/usr/local/lib/python3.8/test/test_glob.py'...\n",
            "Compiling '/usr/local/lib/python3.8/test/test_global.py'...\n",
            "Compiling '/usr/local/lib/python3.8/test/test_grammar.py'...\n",
            "Compiling '/usr/local/lib/python3.8/test/test_grp.py'...\n",
            "Compiling '/usr/local/lib/python3.8/test/test_gzip.py'...\n",
            "Compiling '/usr/local/lib/python3.8/test/test_hashlib.py'...\n",
            "Compiling '/usr/local/lib/python3.8/test/test_hash.py'...\n",
            "Compiling '/usr/local/lib/python3.8/test/test_heapq.py'...\n",
            "Compiling '/usr/local/lib/python3.8/test/test_hmac.py'...\n",
            "Compiling '/usr/local/lib/python3.8/test/test_html.py'...\n",
            "Compiling '/usr/local/lib/python3.8/test/test_htmlparser.py'...\n",
            "Compiling '/usr/local/lib/python3.8/test/test_http_cookiejar.py'...\n",
            "Compiling '/usr/local/lib/python3.8/test/test_http_cookies.py'...\n",
            "Compiling '/usr/local/lib/python3.8/test/test_httpservers.py'...\n",
            "Compiling '/usr/local/lib/python3.8/test/test_httplib.py'...\n",
            "Compiling '/usr/local/lib/python3.8/test/test_idle.py'...\n",
            "Compiling '/usr/local/lib/python3.8/test/test_imaplib.py'...\n",
            "Compiling '/usr/local/lib/python3.8/test/test_imghdr.py'...\n",
            "Compiling '/usr/local/lib/python3.8/test/test_imp.py'...\n",
            "Compiling '/usr/local/lib/python3.8/test/test_import/__init__.py'...\n",
            "Compiling '/usr/local/lib/python3.8/test/test_import/__main__.py'...\n",
            "Compiling '/usr/local/lib/python3.8/test/test_import/data/circular_imports/basic.py'...\n",
            "Compiling '/usr/local/lib/python3.8/test/test_import/data/circular_imports/basic2.py'...\n",
            "Compiling '/usr/local/lib/python3.8/test/test_import/data/circular_imports/binding.py'...\n",
            "Compiling '/usr/local/lib/python3.8/test/test_import/data/circular_imports/binding2.py'...\n",
            "Compiling '/usr/local/lib/python3.8/test/test_import/data/circular_imports/from_cycle1.py'...\n",
            "Compiling '/usr/local/lib/python3.8/test/test_import/data/circular_imports/from_cycle2.py'...\n",
            "Compiling '/usr/local/lib/python3.8/test/test_import/data/circular_imports/rebinding.py'...\n",
            "Compiling '/usr/local/lib/python3.8/test/test_import/data/circular_imports/indirect.py'...\n",
            "Compiling '/usr/local/lib/python3.8/test/test_import/data/circular_imports/rebinding2.py'...\n",
            "Compiling '/usr/local/lib/python3.8/test/test_import/data/circular_imports/source.py'...\n",
            "Compiling '/usr/local/lib/python3.8/test/test_import/data/circular_imports/subpackage.py'...\n",
            "Compiling '/usr/local/lib/python3.8/test/test_import/data/circular_imports/subpkg/subpackage2.py'...\n",
            "Compiling '/usr/local/lib/python3.8/test/test_import/data/circular_imports/subpkg/util.py'...\n",
            "Compiling '/usr/local/lib/python3.8/test/test_import/data/circular_imports/use.py'...\n",
            "Compiling '/usr/local/lib/python3.8/test/test_import/data/package/__init__.py'...\n",
            "Compiling '/usr/local/lib/python3.8/test/test_import/data/package/submodule.py'...\n",
            "Compiling '/usr/local/lib/python3.8/test/test_import/data/package2/submodule1.py'...\n",
            "Compiling '/usr/local/lib/python3.8/test/test_import/data/circular_imports/util.py'...\n",
            "Compiling '/usr/local/lib/python3.8/test/test_import/data/package2/submodule2.py'...\n",
            "Compiling '/usr/local/lib/python3.8/test/test_importlib/__init__.py'...\n",
            "Compiling '/usr/local/lib/python3.8/test/test_importlib/__main__.py'...\n",
            "Compiling '/usr/local/lib/python3.8/test/test_importlib/abc.py'...\n",
            "Compiling '/usr/local/lib/python3.8/test/test_importlib/builtin/__init__.py'...\n",
            "Compiling '/usr/local/lib/python3.8/test/test_importlib/builtin/__main__.py'...\n",
            "Compiling '/usr/local/lib/python3.8/test/test_importlib/builtin/test_finder.py'...\n",
            "Compiling '/usr/local/lib/python3.8/test/test_importlib/builtin/test_loader.py'...\n",
            "Compiling '/usr/local/lib/python3.8/test/test_importlib/data/__init__.py'...\n",
            "Compiling '/usr/local/lib/python3.8/test/test_importlib/data01/__init__.py'...\n",
            "Compiling '/usr/local/lib/python3.8/test/test_importlib/data01/subdirectory/__init__.py'...\n",
            "Compiling '/usr/local/lib/python3.8/test/test_importlib/data02/__init__.py'...\n",
            "Compiling '/usr/local/lib/python3.8/test/test_importlib/data02/one/__init__.py'...\n",
            "Compiling '/usr/local/lib/python3.8/test/test_importlib/data02/two/__init__.py'...\n",
            "Compiling '/usr/local/lib/python3.8/test/test_importlib/data03/__init__.py'...\n",
            "Compiling '/usr/local/lib/python3.8/test/test_importlib/data03/namespace/portion1/__init__.py'...\n",
            "Compiling '/usr/local/lib/python3.8/test/test_importlib/data03/namespace/portion2/__init__.py'...\n",
            "Compiling '/usr/local/lib/python3.8/test/test_importlib/extension/__init__.py'...\n",
            "Compiling '/usr/local/lib/python3.8/test/test_importlib/extension/__main__.py'...\n",
            "Compiling '/usr/local/lib/python3.8/test/test_importlib/extension/test_case_sensitivity.py'...\n",
            "Compiling '/usr/local/lib/python3.8/test/test_importlib/extension/test_finder.py'...\n",
            "Compiling '/usr/local/lib/python3.8/test/test_importlib/extension/test_loader.py'...\n",
            "Compiling '/usr/local/lib/python3.8/test/test_importlib/fixtures.py'...\n",
            "Compiling '/usr/local/lib/python3.8/test/test_importlib/frozen/__init__.py'...\n",
            "Compiling '/usr/local/lib/python3.8/test/test_importlib/extension/test_path_hook.py'...\n",
            "Compiling '/usr/local/lib/python3.8/test/test_importlib/frozen/__main__.py'...\n",
            "Compiling '/usr/local/lib/python3.8/test/test_importlib/frozen/test_finder.py'...\n",
            "Compiling '/usr/local/lib/python3.8/test/test_importlib/frozen/test_loader.py'...\n",
            "Compiling '/usr/local/lib/python3.8/test/test_importlib/import_/__init__.py'...\n",
            "Compiling '/usr/local/lib/python3.8/test/test_importlib/import_/__main__.py'...\n",
            "Compiling '/usr/local/lib/python3.8/test/test_importlib/import_/test___loader__.py'...\n",
            "Compiling '/usr/local/lib/python3.8/test/test_importlib/import_/test_api.py'...\n",
            "Compiling '/usr/local/lib/python3.8/test/test_importlib/import_/test_caching.py'...\n",
            "Compiling '/usr/local/lib/python3.8/test/test_importlib/import_/test___package__.py'...\n",
            "Compiling '/usr/local/lib/python3.8/test/test_importlib/import_/test_fromlist.py'...\n",
            "Compiling '/usr/local/lib/python3.8/test/test_importlib/import_/test_meta_path.py'...\n",
            "Compiling '/usr/local/lib/python3.8/test/test_importlib/import_/test_packages.py'...\n",
            "Compiling '/usr/local/lib/python3.8/test/test_importlib/import_/test_path.py'...\n",
            "Compiling '/usr/local/lib/python3.8/test/test_importlib/import_/test_relative_imports.py'...\n",
            "Compiling '/usr/local/lib/python3.8/test/test_importlib/namespace_pkgs/both_portions/foo/one.py'...\n",
            "Compiling '/usr/local/lib/python3.8/test/test_importlib/namespace_pkgs/both_portions/foo/two.py'...\n",
            "Compiling '/usr/local/lib/python3.8/test/test_importlib/namespace_pkgs/module_and_namespace_package/a_test.py'...\n",
            "Compiling '/usr/local/lib/python3.8/test/test_importlib/namespace_pkgs/not_a_namespace_pkg/foo/__init__.py'...\n",
            "Compiling '/usr/local/lib/python3.8/test/test_importlib/namespace_pkgs/not_a_namespace_pkg/foo/one.py'...\n",
            "Compiling '/usr/local/lib/python3.8/test/test_importlib/namespace_pkgs/portion1/foo/one.py'...\n",
            "Compiling '/usr/local/lib/python3.8/test/test_importlib/namespace_pkgs/portion2/foo/two.py'...\n",
            "Compiling '/usr/local/lib/python3.8/test/test_importlib/namespace_pkgs/project1/parent/child/one.py'...\n",
            "Compiling '/usr/local/lib/python3.8/test/test_importlib/namespace_pkgs/project2/parent/child/two.py'...\n",
            "Compiling '/usr/local/lib/python3.8/test/test_importlib/namespace_pkgs/project3/parent/child/three.py'...\n",
            "Compiling '/usr/local/lib/python3.8/test/test_importlib/source/__init__.py'...\n",
            "Compiling '/usr/local/lib/python3.8/test/test_importlib/source/__main__.py'...\n",
            "Compiling '/usr/local/lib/python3.8/test/test_importlib/source/test_case_sensitivity.py'...\n",
            "Compiling '/usr/local/lib/python3.8/test/test_importlib/source/test_file_loader.py'...\n",
            "Compiling '/usr/local/lib/python3.8/test/test_importlib/source/test_finder.py'...\n",
            "Compiling '/usr/local/lib/python3.8/test/test_importlib/source/test_path_hook.py'...\n",
            "Compiling '/usr/local/lib/python3.8/test/test_importlib/source/test_source_encoding.py'...\n",
            "Compiling '/usr/local/lib/python3.8/test/test_importlib/stubs.py'...\n",
            "Compiling '/usr/local/lib/python3.8/test/test_importlib/test_abc.py'...\n",
            "Compiling '/usr/local/lib/python3.8/test/test_importlib/test_api.py'...\n",
            "Compiling '/usr/local/lib/python3.8/test/test_importlib/test_lazy.py'...\n",
            "Compiling '/usr/local/lib/python3.8/test/test_importlib/test_locks.py'...\n",
            "Compiling '/usr/local/lib/python3.8/test/test_importlib/test_main.py'...\n",
            "Compiling '/usr/local/lib/python3.8/test/test_importlib/test_metadata_api.py'...\n",
            "Compiling '/usr/local/lib/python3.8/test/test_importlib/test_namespace_pkgs.py'...\n",
            "Compiling '/usr/local/lib/python3.8/test/test_importlib/test_open.py'...\n",
            "Compiling '/usr/local/lib/python3.8/test/test_importlib/test_path.py'...\n",
            "Compiling '/usr/local/lib/python3.8/test/test_importlib/test_read.py'...\n",
            "Compiling '/usr/local/lib/python3.8/test/test_importlib/test_resource.py'...\n",
            "Compiling '/usr/local/lib/python3.8/test/test_importlib/test_spec.py'...\n",
            "Compiling '/usr/local/lib/python3.8/test/test_importlib/test_util.py'...\n",
            "Compiling '/usr/local/lib/python3.8/test/test_importlib/test_windows.py'...\n",
            "Compiling '/usr/local/lib/python3.8/test/test_importlib/test_zip.py'...\n",
            "Compiling '/usr/local/lib/python3.8/test/test_importlib/util.py'...\n",
            "Compiling '/usr/local/lib/python3.8/test/test_importlib/zipdata01/__init__.py'...\n",
            "Compiling '/usr/local/lib/python3.8/test/test_importlib/zipdata02/__init__.py'...\n",
            "Compiling '/usr/local/lib/python3.8/test/test_index.py'...\n",
            "Compiling '/usr/local/lib/python3.8/test/test_inspect.py'...\n",
            "Compiling '/usr/local/lib/python3.8/test/test_int.py'...\n",
            "Compiling '/usr/local/lib/python3.8/test/test_int_literal.py'...\n",
            "Compiling '/usr/local/lib/python3.8/test/test_io.py'...\n",
            "Compiling '/usr/local/lib/python3.8/test/test_ioctl.py'...\n",
            "Compiling '/usr/local/lib/python3.8/test/test_ipaddress.py'...\n",
            "Compiling '/usr/local/lib/python3.8/test/test_isinstance.py'...\n",
            "Compiling '/usr/local/lib/python3.8/test/test_iter.py'...\n",
            "Compiling '/usr/local/lib/python3.8/test/test_iterlen.py'...\n",
            "Compiling '/usr/local/lib/python3.8/test/test_itertools.py'...\n",
            "Compiling '/usr/local/lib/python3.8/test/test_json/__init__.py'...\n",
            "Compiling '/usr/local/lib/python3.8/test/test_json/__main__.py'...\n",
            "Compiling '/usr/local/lib/python3.8/test/test_json/test_decode.py'...\n",
            "Compiling '/usr/local/lib/python3.8/test/test_json/test_default.py'...\n",
            "Compiling '/usr/local/lib/python3.8/test/test_json/test_dump.py'...\n",
            "Compiling '/usr/local/lib/python3.8/test/test_json/test_encode_basestring_ascii.py'...\n",
            "Compiling '/usr/local/lib/python3.8/test/test_json/test_enum.py'...\n",
            "Compiling '/usr/local/lib/python3.8/test/test_json/test_fail.py'...\n",
            "Compiling '/usr/local/lib/python3.8/test/test_json/test_float.py'...\n",
            "Compiling '/usr/local/lib/python3.8/test/test_json/test_indent.py'...\n",
            "Compiling '/usr/local/lib/python3.8/test/test_json/test_pass2.py'...\n",
            "Compiling '/usr/local/lib/python3.8/test/test_json/test_pass3.py'...\n",
            "Compiling '/usr/local/lib/python3.8/test/test_json/test_pass1.py'...\n",
            "Compiling '/usr/local/lib/python3.8/test/test_json/test_recursion.py'...\n",
            "Compiling '/usr/local/lib/python3.8/test/test_json/test_scanstring.py'...\n",
            "Compiling '/usr/local/lib/python3.8/test/test_json/test_separators.py'...\n",
            "Compiling '/usr/local/lib/python3.8/test/test_json/test_speedups.py'...\n",
            "Compiling '/usr/local/lib/python3.8/test/test_json/test_unicode.py'...\n",
            "Compiling '/usr/local/lib/python3.8/test/test_json/test_tool.py'...\n",
            "Compiling '/usr/local/lib/python3.8/test/test_keyword.py'...\n",
            "Compiling '/usr/local/lib/python3.8/test/test_kqueue.py'...\n",
            "Compiling '/usr/local/lib/python3.8/test/test_largefile.py'...\n",
            "Compiling '/usr/local/lib/python3.8/test/test_lib2to3.py'...\n",
            "Compiling '/usr/local/lib/python3.8/test/test_keywordonlyarg.py'...\n",
            "Compiling '/usr/local/lib/python3.8/test/test_linecache.py'...\n",
            "Compiling '/usr/local/lib/python3.8/test/test_list.py'...\n",
            "Compiling '/usr/local/lib/python3.8/test/test_listcomps.py'...\n",
            "Compiling '/usr/local/lib/python3.8/test/test_lltrace.py'...\n",
            "Compiling '/usr/local/lib/python3.8/test/test_locale.py'...\n",
            "Compiling '/usr/local/lib/python3.8/test/test_logging.py'...\n",
            "Compiling '/usr/local/lib/python3.8/test/test_long.py'...\n",
            "Compiling '/usr/local/lib/python3.8/test/test_longexp.py'...\n",
            "Compiling '/usr/local/lib/python3.8/test/test_lzma.py'...\n",
            "Compiling '/usr/local/lib/python3.8/test/test_mailbox.py'...\n",
            "Compiling '/usr/local/lib/python3.8/test/test_mailcap.py'...\n",
            "Compiling '/usr/local/lib/python3.8/test/test_marshal.py'...\n",
            "Compiling '/usr/local/lib/python3.8/test/test_math.py'...\n",
            "Compiling '/usr/local/lib/python3.8/test/test_memoryio.py'...\n",
            "Compiling '/usr/local/lib/python3.8/test/test_memoryview.py'...\n",
            "Compiling '/usr/local/lib/python3.8/test/test_metaclass.py'...\n",
            "Compiling '/usr/local/lib/python3.8/test/test_mimetypes.py'...\n",
            "Compiling '/usr/local/lib/python3.8/test/test_minidom.py'...\n",
            "Compiling '/usr/local/lib/python3.8/test/test_mmap.py'...\n",
            "Compiling '/usr/local/lib/python3.8/test/test_module.py'...\n",
            "Compiling '/usr/local/lib/python3.8/test/test_modulefinder.py'...\n",
            "Compiling '/usr/local/lib/python3.8/test/test_msilib.py'...\n",
            "Compiling '/usr/local/lib/python3.8/test/test_multibytecodec.py'...\n",
            "Compiling '/usr/local/lib/python3.8/test/test_multiprocessing_fork.py'...\n",
            "Compiling '/usr/local/lib/python3.8/test/test_multiprocessing_main_handling.py'...\n",
            "Compiling '/usr/local/lib/python3.8/test/test_multiprocessing_forkserver.py'...\n",
            "Compiling '/usr/local/lib/python3.8/test/test_multiprocessing_spawn.py'...\n",
            "Compiling '/usr/local/lib/python3.8/test/test_named_expressions.py'...\n",
            "Compiling '/usr/local/lib/python3.8/test/test_netrc.py'...\n",
            "Compiling '/usr/local/lib/python3.8/test/test_nis.py'...\n",
            "Compiling '/usr/local/lib/python3.8/test/test_nntplib.py'...\n",
            "Compiling '/usr/local/lib/python3.8/test/test_normalization.py'...\n",
            "Compiling '/usr/local/lib/python3.8/test/test_ntpath.py'...\n",
            "Compiling '/usr/local/lib/python3.8/test/test_numeric_tower.py'...\n",
            "Compiling '/usr/local/lib/python3.8/test/test_opcodes.py'...\n",
            "Compiling '/usr/local/lib/python3.8/test/test_operator.py'...\n",
            "Compiling '/usr/local/lib/python3.8/test/test_openpty.py'...\n",
            "Compiling '/usr/local/lib/python3.8/test/test_optparse.py'...\n",
            "Compiling '/usr/local/lib/python3.8/test/test_ordered_dict.py'...\n",
            "Compiling '/usr/local/lib/python3.8/test/test_os.py'...\n",
            "Compiling '/usr/local/lib/python3.8/test/test_ossaudiodev.py'...\n",
            "Compiling '/usr/local/lib/python3.8/test/test_osx_env.py'...\n",
            "Compiling '/usr/local/lib/python3.8/test/test_pathlib.py'...\n",
            "Compiling '/usr/local/lib/python3.8/test/test_parser.py'...\n",
            "Compiling '/usr/local/lib/python3.8/test/test_pdb.py'...\n",
            "Compiling '/usr/local/lib/python3.8/test/test_peepholer.py'...\n",
            "Compiling '/usr/local/lib/python3.8/test/test_pickle.py'...\n",
            "Compiling '/usr/local/lib/python3.8/test/test_picklebuffer.py'...\n",
            "Compiling '/usr/local/lib/python3.8/test/test_pickletools.py'...\n",
            "Compiling '/usr/local/lib/python3.8/test/test_pipes.py'...\n",
            "Compiling '/usr/local/lib/python3.8/test/test_pkg.py'...\n",
            "Compiling '/usr/local/lib/python3.8/test/test_pkgimport.py'...\n",
            "Compiling '/usr/local/lib/python3.8/test/test_pkgutil.py'...\n",
            "Compiling '/usr/local/lib/python3.8/test/test_plistlib.py'...\n",
            "Compiling '/usr/local/lib/python3.8/test/test_poll.py'...\n",
            "Compiling '/usr/local/lib/python3.8/test/test_popen.py'...\n",
            "Compiling '/usr/local/lib/python3.8/test/test_platform.py'...\n",
            "Compiling '/usr/local/lib/python3.8/test/test_poplib.py'...\n",
            "Compiling '/usr/local/lib/python3.8/test/test_positional_only_arg.py'...\n",
            "Compiling '/usr/local/lib/python3.8/test/test_posix.py'...\n",
            "Compiling '/usr/local/lib/python3.8/test/test_posixpath.py'...\n",
            "Compiling '/usr/local/lib/python3.8/test/test_pow.py'...\n",
            "Compiling '/usr/local/lib/python3.8/test/test_pprint.py'...\n",
            "Compiling '/usr/local/lib/python3.8/test/test_print.py'...\n",
            "Compiling '/usr/local/lib/python3.8/test/test_property.py'...\n",
            "Compiling '/usr/local/lib/python3.8/test/test_profile.py'...\n",
            "Compiling '/usr/local/lib/python3.8/test/test_pstats.py'...\n",
            "Compiling '/usr/local/lib/python3.8/test/test_pty.py'...\n",
            "Compiling '/usr/local/lib/python3.8/test/test_pulldom.py'...\n",
            "Compiling '/usr/local/lib/python3.8/test/test_pwd.py'...\n",
            "Compiling '/usr/local/lib/python3.8/test/test_py_compile.py'...\n",
            "Compiling '/usr/local/lib/python3.8/test/test_pyclbr.py'...\n",
            "Compiling '/usr/local/lib/python3.8/test/test_pydoc.py'...\n",
            "Compiling '/usr/local/lib/python3.8/test/test_pyexpat.py'...\n",
            "Compiling '/usr/local/lib/python3.8/test/test_queue.py'...\n",
            "Compiling '/usr/local/lib/python3.8/test/test_quopri.py'...\n",
            "Compiling '/usr/local/lib/python3.8/test/test_raise.py'...\n",
            "Compiling '/usr/local/lib/python3.8/test/test_random.py'...\n",
            "Compiling '/usr/local/lib/python3.8/test/test_range.py'...\n",
            "Compiling '/usr/local/lib/python3.8/test/test_re.py'...\n",
            "Compiling '/usr/local/lib/python3.8/test/test_readline.py'...\n",
            "Compiling '/usr/local/lib/python3.8/test/test_regrtest.py'...\n",
            "Compiling '/usr/local/lib/python3.8/test/test_repl.py'...\n",
            "Compiling '/usr/local/lib/python3.8/test/test_reprlib.py'...\n",
            "Compiling '/usr/local/lib/python3.8/test/test_resource.py'...\n",
            "Compiling '/usr/local/lib/python3.8/test/test_richcmp.py'...\n",
            "Compiling '/usr/local/lib/python3.8/test/test_rlcompleter.py'...\n",
            "Compiling '/usr/local/lib/python3.8/test/test_robotparser.py'...\n",
            "Compiling '/usr/local/lib/python3.8/test/test_runpy.py'...\n",
            "Compiling '/usr/local/lib/python3.8/test/test_sax.py'...\n",
            "Compiling '/usr/local/lib/python3.8/test/test_sched.py'...\n",
            "Compiling '/usr/local/lib/python3.8/test/test_scope.py'...\n",
            "Compiling '/usr/local/lib/python3.8/test/test_script_helper.py'...\n",
            "Compiling '/usr/local/lib/python3.8/test/test_secrets.py'...\n",
            "Compiling '/usr/local/lib/python3.8/test/test_select.py'...\n",
            "Compiling '/usr/local/lib/python3.8/test/test_selectors.py'...\n",
            "Compiling '/usr/local/lib/python3.8/test/test_set.py'...\n",
            "Compiling '/usr/local/lib/python3.8/test/test_setcomps.py'...\n",
            "Compiling '/usr/local/lib/python3.8/test/test_shelve.py'...\n",
            "Compiling '/usr/local/lib/python3.8/test/test_shlex.py'...\n",
            "Compiling '/usr/local/lib/python3.8/test/test_signal.py'...\n",
            "Compiling '/usr/local/lib/python3.8/test/test_shutil.py'...\n",
            "Compiling '/usr/local/lib/python3.8/test/test_site.py'...\n",
            "Compiling '/usr/local/lib/python3.8/test/test_slice.py'...\n",
            "Compiling '/usr/local/lib/python3.8/test/test_smtpd.py'...\n",
            "Compiling '/usr/local/lib/python3.8/test/test_smtplib.py'...\n",
            "Compiling '/usr/local/lib/python3.8/test/test_smtpnet.py'...\n",
            "Compiling '/usr/local/lib/python3.8/test/test_sndhdr.py'...\n",
            "Compiling '/usr/local/lib/python3.8/test/test_socket.py'...\n",
            "Compiling '/usr/local/lib/python3.8/test/test_socketserver.py'...\n",
            "Compiling '/usr/local/lib/python3.8/test/test_sort.py'...\n",
            "Compiling '/usr/local/lib/python3.8/test/test_source_encoding.py'...\n",
            "Compiling '/usr/local/lib/python3.8/test/test_spwd.py'...\n",
            "Compiling '/usr/local/lib/python3.8/test/test_sqlite.py'...\n",
            "Compiling '/usr/local/lib/python3.8/test/test_ssl.py'...\n",
            "Compiling '/usr/local/lib/python3.8/test/test_startfile.py'...\n",
            "Compiling '/usr/local/lib/python3.8/test/test_stat.py'...\n",
            "Compiling '/usr/local/lib/python3.8/test/test_statistics.py'...\n",
            "Compiling '/usr/local/lib/python3.8/test/test_string.py'...\n",
            "Compiling '/usr/local/lib/python3.8/test/test_strftime.py'...\n",
            "Compiling '/usr/local/lib/python3.8/test/test_string_literals.py'...\n",
            "Compiling '/usr/local/lib/python3.8/test/test_stringprep.py'...\n",
            "Compiling '/usr/local/lib/python3.8/test/test_strptime.py'...\n",
            "Compiling '/usr/local/lib/python3.8/test/test_strtod.py'...\n",
            "Compiling '/usr/local/lib/python3.8/test/test_struct.py'...\n",
            "Compiling '/usr/local/lib/python3.8/test/test_structmembers.py'...\n",
            "Compiling '/usr/local/lib/python3.8/test/test_structseq.py'...\n",
            "Compiling '/usr/local/lib/python3.8/test/test_subclassinit.py'...\n",
            "Compiling '/usr/local/lib/python3.8/test/test_subprocess.py'...\n",
            "Compiling '/usr/local/lib/python3.8/test/test_sunau.py'...\n",
            "Compiling '/usr/local/lib/python3.8/test/test_sundry.py'...\n",
            "Compiling '/usr/local/lib/python3.8/test/test_super.py'...\n",
            "Compiling '/usr/local/lib/python3.8/test/test_support.py'...\n",
            "Compiling '/usr/local/lib/python3.8/test/test_symbol.py'...\n",
            "Compiling '/usr/local/lib/python3.8/test/test_symtable.py'...\n",
            "Compiling '/usr/local/lib/python3.8/test/test_syntax.py'...\n",
            "Compiling '/usr/local/lib/python3.8/test/test_sys.py'...\n",
            "Compiling '/usr/local/lib/python3.8/test/test_sys_setprofile.py'...\n",
            "Compiling '/usr/local/lib/python3.8/test/test_sys_settrace.py'...\n",
            "Compiling '/usr/local/lib/python3.8/test/test_sysconfig.py'...\n",
            "Compiling '/usr/local/lib/python3.8/test/test_syslog.py'...\n",
            "Compiling '/usr/local/lib/python3.8/test/test_tabnanny.py'...\n",
            "Compiling '/usr/local/lib/python3.8/test/test_tarfile.py'...\n",
            "Compiling '/usr/local/lib/python3.8/test/test_tcl.py'...\n",
            "Compiling '/usr/local/lib/python3.8/test/test_telnetlib.py'...\n",
            "Compiling '/usr/local/lib/python3.8/test/test_tempfile.py'...\n",
            "Compiling '/usr/local/lib/python3.8/test/test_textwrap.py'...\n",
            "Compiling '/usr/local/lib/python3.8/test/test_thread.py'...\n",
            "Compiling '/usr/local/lib/python3.8/test/test_threaded_import.py'...\n",
            "Compiling '/usr/local/lib/python3.8/test/test_threadedtempfile.py'...\n",
            "Compiling '/usr/local/lib/python3.8/test/test_threading.py'...\n",
            "Compiling '/usr/local/lib/python3.8/test/test_threading_local.py'...\n",
            "Compiling '/usr/local/lib/python3.8/test/test_threadsignals.py'...\n",
            "Compiling '/usr/local/lib/python3.8/test/test_time.py'...\n",
            "Compiling '/usr/local/lib/python3.8/test/test_timeit.py'...\n",
            "Compiling '/usr/local/lib/python3.8/test/test_timeout.py'...\n",
            "Compiling '/usr/local/lib/python3.8/test/test_tix.py'...\n",
            "Compiling '/usr/local/lib/python3.8/test/test_tk.py'...\n",
            "Compiling '/usr/local/lib/python3.8/test/test_tokenize.py'...\n",
            "Compiling '/usr/local/lib/python3.8/test/test_tools/__init__.py'...\n",
            "Compiling '/usr/local/lib/python3.8/test/test_tools/__main__.py'...\n",
            "Compiling '/usr/local/lib/python3.8/test/test_tools/test_fixcid.py'...\n",
            "Compiling '/usr/local/lib/python3.8/test/test_tools/test_i18n.py'...\n",
            "Compiling '/usr/local/lib/python3.8/test/test_tools/test_lll.py'...\n",
            "Compiling '/usr/local/lib/python3.8/test/test_tools/test_gprof2html.py'...\n",
            "Compiling '/usr/local/lib/python3.8/test/test_tools/test_md5sum.py'...\n",
            "Compiling '/usr/local/lib/python3.8/test/test_tools/test_pathfix.py'...\n",
            "Compiling '/usr/local/lib/python3.8/test/test_tools/test_pdeps.py'...\n",
            "Compiling '/usr/local/lib/python3.8/test/test_tools/test_pindent.py'...\n",
            "Compiling '/usr/local/lib/python3.8/test/test_tools/test_sundry.py'...\n",
            "Compiling '/usr/local/lib/python3.8/test/test_tools/test_reindent.py'...\n",
            "Compiling '/usr/local/lib/python3.8/test/test_tools/test_unparse.py'...\n",
            "Compiling '/usr/local/lib/python3.8/test/test_trace.py'...\n",
            "Compiling '/usr/local/lib/python3.8/test/test_traceback.py'...\n",
            "Compiling '/usr/local/lib/python3.8/test/test_tracemalloc.py'...\n",
            "Compiling '/usr/local/lib/python3.8/test/test_ttk_textonly.py'...\n",
            "Compiling '/usr/local/lib/python3.8/test/test_ttk_guionly.py'...\n",
            "Compiling '/usr/local/lib/python3.8/test/test_tuple.py'...\n",
            "Compiling '/usr/local/lib/python3.8/test/test_turtle.py'...\n",
            "Compiling '/usr/local/lib/python3.8/test/test_type_comments.py'...\n",
            "Compiling '/usr/local/lib/python3.8/test/test_typechecks.py'...\n",
            "Compiling '/usr/local/lib/python3.8/test/test_types.py'...\n",
            "Compiling '/usr/local/lib/python3.8/test/test_typing.py'...\n",
            "Compiling '/usr/local/lib/python3.8/test/test_ucn.py'...\n",
            "Compiling '/usr/local/lib/python3.8/test/test_unary.py'...\n",
            "Compiling '/usr/local/lib/python3.8/test/test_unicode.py'...\n",
            "Compiling '/usr/local/lib/python3.8/test/test_unicode_file.py'...\n",
            "Compiling '/usr/local/lib/python3.8/test/test_unicode_file_functions.py'...\n",
            "Compiling '/usr/local/lib/python3.8/test/test_unicode_identifiers.py'...\n",
            "Compiling '/usr/local/lib/python3.8/test/test_unicodedata.py'...\n",
            "Compiling '/usr/local/lib/python3.8/test/test_unittest.py'...\n",
            "Compiling '/usr/local/lib/python3.8/test/test_univnewlines.py'...\n",
            "Compiling '/usr/local/lib/python3.8/test/test_unpack.py'...\n",
            "Compiling '/usr/local/lib/python3.8/test/test_unpack_ex.py'...\n",
            "Compiling '/usr/local/lib/python3.8/test/test_urllib.py'...\n",
            "Compiling '/usr/local/lib/python3.8/test/test_urllib2.py'...\n",
            "Compiling '/usr/local/lib/python3.8/test/test_urllib2_localnet.py'...\n",
            "Compiling '/usr/local/lib/python3.8/test/test_urllib2net.py'...\n",
            "Compiling '/usr/local/lib/python3.8/test/test_urllib_response.py'...\n",
            "Compiling '/usr/local/lib/python3.8/test/test_urllibnet.py'...\n",
            "Compiling '/usr/local/lib/python3.8/test/test_urlparse.py'...\n",
            "Compiling '/usr/local/lib/python3.8/test/test_userdict.py'...\n",
            "Compiling '/usr/local/lib/python3.8/test/test_userlist.py'...\n",
            "Compiling '/usr/local/lib/python3.8/test/test_userstring.py'...\n",
            "Compiling '/usr/local/lib/python3.8/test/test_utf8_mode.py'...\n",
            "Compiling '/usr/local/lib/python3.8/test/test_utf8source.py'...\n",
            "Compiling '/usr/local/lib/python3.8/test/test_uu.py'...\n",
            "Compiling '/usr/local/lib/python3.8/test/test_uuid.py'...\n",
            "Compiling '/usr/local/lib/python3.8/test/test_venv.py'...\n",
            "Compiling '/usr/local/lib/python3.8/test/test_wait3.py'...\n",
            "Compiling '/usr/local/lib/python3.8/test/test_wait4.py'...\n",
            "Compiling '/usr/local/lib/python3.8/test/test_warnings/__init__.py'...\n",
            "Compiling '/usr/local/lib/python3.8/test/test_warnings/__main__.py'...\n",
            "Compiling '/usr/local/lib/python3.8/test/test_warnings/data/import_warning.py'...\n",
            "Compiling '/usr/local/lib/python3.8/test/test_warnings/data/stacklevel.py'...\n",
            "Compiling '/usr/local/lib/python3.8/test/test_wave.py'...\n",
            "Compiling '/usr/local/lib/python3.8/test/test_weakref.py'...\n",
            "Compiling '/usr/local/lib/python3.8/test/test_weakset.py'...\n",
            "Compiling '/usr/local/lib/python3.8/test/test_webbrowser.py'...\n",
            "Compiling '/usr/local/lib/python3.8/test/test_winconsoleio.py'...\n",
            "Compiling '/usr/local/lib/python3.8/test/test_winreg.py'...\n",
            "Compiling '/usr/local/lib/python3.8/test/test_winsound.py'...\n",
            "Compiling '/usr/local/lib/python3.8/test/test_with.py'...\n",
            "Compiling '/usr/local/lib/python3.8/test/test_wsgiref.py'...\n",
            "Compiling '/usr/local/lib/python3.8/test/test_xdrlib.py'...\n",
            "Compiling '/usr/local/lib/python3.8/test/test_xml_dom_minicompat.py'...\n",
            "Compiling '/usr/local/lib/python3.8/test/test_xml_etree.py'...\n",
            "Compiling '/usr/local/lib/python3.8/test/test_xml_etree_c.py'...\n",
            "Compiling '/usr/local/lib/python3.8/test/test_xmlrpc.py'...\n",
            "Compiling '/usr/local/lib/python3.8/test/test_xmlrpc_net.py'...\n",
            "Compiling '/usr/local/lib/python3.8/test/test_xxtestfuzz.py'...\n",
            "Compiling '/usr/local/lib/python3.8/test/test_yield_from.py'...\n",
            "Compiling '/usr/local/lib/python3.8/test/test_zipapp.py'...\n",
            "Compiling '/usr/local/lib/python3.8/test/test_zipfile.py'...\n",
            "Compiling '/usr/local/lib/python3.8/test/test_zipfile64.py'...\n",
            "Compiling '/usr/local/lib/python3.8/test/test_zipimport.py'...\n",
            "Compiling '/usr/local/lib/python3.8/test/test_zipimport_support.py'...\n",
            "Compiling '/usr/local/lib/python3.8/test/test_zlib.py'...\n",
            "Compiling '/usr/local/lib/python3.8/test/testcodec.py'...\n",
            "Compiling '/usr/local/lib/python3.8/test/tf_inherit_check.py'...\n",
            "Compiling '/usr/local/lib/python3.8/test/threaded_import_hangers.py'...\n",
            "Compiling '/usr/local/lib/python3.8/test/time_hashlib.py'...\n",
            "Compiling '/usr/local/lib/python3.8/test/tracedmodules/__init__.py'...\n",
            "Compiling '/usr/local/lib/python3.8/test/tracedmodules/testmod.py'...\n",
            "Compiling '/usr/local/lib/python3.8/test/win_console_handler.py'...\n",
            "Compiling '/usr/local/lib/python3.8/test/xmltests.py'...\n",
            "Compiling '/usr/local/lib/python3.8/test/ziptestdata/testdata_module_inside_zip.py'...\n",
            "Compiling '/usr/local/lib/python3.8/textwrap.py'...\n",
            "Compiling '/usr/local/lib/python3.8/this.py'...\n",
            "Compiling '/usr/local/lib/python3.8/threading.py'...\n",
            "Compiling '/usr/local/lib/python3.8/timeit.py'...\n",
            "Compiling '/usr/local/lib/python3.8/tkinter/__init__.py'...\n",
            "Compiling '/usr/local/lib/python3.8/tkinter/__main__.py'...\n",
            "Compiling '/usr/local/lib/python3.8/tkinter/colorchooser.py'...\n",
            "Compiling '/usr/local/lib/python3.8/tkinter/commondialog.py'...\n",
            "Compiling '/usr/local/lib/python3.8/tkinter/constants.py'...\n",
            "Compiling '/usr/local/lib/python3.8/tkinter/dialog.py'...\n",
            "Compiling '/usr/local/lib/python3.8/tkinter/dnd.py'...\n",
            "Compiling '/usr/local/lib/python3.8/tkinter/filedialog.py'...\n",
            "Compiling '/usr/local/lib/python3.8/tkinter/font.py'...\n",
            "Compiling '/usr/local/lib/python3.8/tkinter/messagebox.py'...\n",
            "Compiling '/usr/local/lib/python3.8/tkinter/scrolledtext.py'...\n",
            "Compiling '/usr/local/lib/python3.8/tkinter/simpledialog.py'...\n",
            "Compiling '/usr/local/lib/python3.8/tkinter/test/runtktests.py'...\n",
            "Compiling '/usr/local/lib/python3.8/tkinter/test/__init__.py'...\n",
            "Compiling '/usr/local/lib/python3.8/tkinter/test/support.py'...\n",
            "Compiling '/usr/local/lib/python3.8/tkinter/test/test_tkinter/__init__.py'...\n",
            "Compiling '/usr/local/lib/python3.8/tkinter/test/test_tkinter/test_font.py'...\n",
            "Compiling '/usr/local/lib/python3.8/tkinter/test/test_tkinter/test_geometry_managers.py'...\n",
            "Compiling '/usr/local/lib/python3.8/tkinter/test/test_tkinter/test_images.py'...\n",
            "Compiling '/usr/local/lib/python3.8/tkinter/test/test_tkinter/test_loadtk.py'...\n",
            "Compiling '/usr/local/lib/python3.8/tkinter/test/test_tkinter/test_misc.py'...\n",
            "Compiling '/usr/local/lib/python3.8/tkinter/test/test_tkinter/test_text.py'...\n",
            "Compiling '/usr/local/lib/python3.8/tkinter/test/test_tkinter/test_variables.py'...\n",
            "Compiling '/usr/local/lib/python3.8/tkinter/test/test_tkinter/test_widgets.py'...\n",
            "Compiling '/usr/local/lib/python3.8/tkinter/test/test_ttk/__init__.py'...\n",
            "Compiling '/usr/local/lib/python3.8/tkinter/test/test_ttk/test_extensions.py'...\n",
            "Compiling '/usr/local/lib/python3.8/tkinter/test/test_ttk/test_functions.py'...\n",
            "Compiling '/usr/local/lib/python3.8/tkinter/test/test_ttk/test_style.py'...\n",
            "Compiling '/usr/local/lib/python3.8/tkinter/test/test_ttk/test_widgets.py'...\n",
            "Compiling '/usr/local/lib/python3.8/tkinter/test/widget_tests.py'...\n",
            "Compiling '/usr/local/lib/python3.8/tkinter/tix.py'...\n",
            "Compiling '/usr/local/lib/python3.8/tkinter/ttk.py'...\n",
            "Compiling '/usr/local/lib/python3.8/token.py'...\n",
            "Compiling '/usr/local/lib/python3.8/tokenize.py'...\n",
            "Compiling '/usr/local/lib/python3.8/trace.py'...\n",
            "Compiling '/usr/local/lib/python3.8/traceback.py'...\n",
            "Compiling '/usr/local/lib/python3.8/tracemalloc.py'...\n",
            "Compiling '/usr/local/lib/python3.8/tty.py'...\n",
            "Compiling '/usr/local/lib/python3.8/turtle.py'...\n",
            "Compiling '/usr/local/lib/python3.8/turtledemo/__init__.py'...\n",
            "Compiling '/usr/local/lib/python3.8/turtledemo/__main__.py'...\n",
            "Compiling '/usr/local/lib/python3.8/turtledemo/bytedesign.py'...\n",
            "Compiling '/usr/local/lib/python3.8/turtledemo/chaos.py'...\n",
            "Compiling '/usr/local/lib/python3.8/turtledemo/clock.py'...\n",
            "Compiling '/usr/local/lib/python3.8/turtledemo/forest.py'...\n",
            "Compiling '/usr/local/lib/python3.8/turtledemo/fractalcurves.py'...\n",
            "Compiling '/usr/local/lib/python3.8/turtledemo/colormixer.py'...\n",
            "Compiling '/usr/local/lib/python3.8/turtledemo/lindenmayer.py'...\n",
            "Compiling '/usr/local/lib/python3.8/turtledemo/minimal_hanoi.py'...\n",
            "Compiling '/usr/local/lib/python3.8/turtledemo/nim.py'...\n",
            "Compiling '/usr/local/lib/python3.8/turtledemo/paint.py'...\n",
            "Compiling '/usr/local/lib/python3.8/turtledemo/peace.py'...\n",
            "Compiling '/usr/local/lib/python3.8/turtledemo/penrose.py'...\n",
            "Compiling '/usr/local/lib/python3.8/turtledemo/planet_and_moon.py'...\n",
            "Compiling '/usr/local/lib/python3.8/turtledemo/rosette.py'...\n",
            "Compiling '/usr/local/lib/python3.8/turtledemo/round_dance.py'...\n",
            "Compiling '/usr/local/lib/python3.8/turtledemo/sorting_animate.py'...\n",
            "Compiling '/usr/local/lib/python3.8/turtledemo/tree.py'...\n",
            "Compiling '/usr/local/lib/python3.8/turtledemo/two_canvases.py'...\n",
            "Compiling '/usr/local/lib/python3.8/turtledemo/yinyang.py'...\n",
            "Compiling '/usr/local/lib/python3.8/types.py'...\n",
            "Compiling '/usr/local/lib/python3.8/typing.py'...\n",
            "Compiling '/usr/local/lib/python3.8/unittest/__init__.py'...\n",
            "Compiling '/usr/local/lib/python3.8/unittest/__main__.py'...\n",
            "Compiling '/usr/local/lib/python3.8/unittest/async_case.py'...\n",
            "Compiling '/usr/local/lib/python3.8/unittest/case.py'...\n",
            "Compiling '/usr/local/lib/python3.8/unittest/loader.py'...\n",
            "Compiling '/usr/local/lib/python3.8/unittest/main.py'...\n",
            "Compiling '/usr/local/lib/python3.8/unittest/mock.py'...\n",
            "Compiling '/usr/local/lib/python3.8/unittest/result.py'...\n",
            "Compiling '/usr/local/lib/python3.8/unittest/runner.py'...\n",
            "Compiling '/usr/local/lib/python3.8/unittest/signals.py'...\n",
            "Compiling '/usr/local/lib/python3.8/unittest/suite.py'...\n",
            "Compiling '/usr/local/lib/python3.8/unittest/test/__init__.py'...\n",
            "Compiling '/usr/local/lib/python3.8/unittest/test/__main__.py'...\n",
            "Compiling '/usr/local/lib/python3.8/unittest/test/_test_warnings.py'...\n",
            "Compiling '/usr/local/lib/python3.8/unittest/test/dummy.py'...\n",
            "Compiling '/usr/local/lib/python3.8/unittest/test/support.py'...\n",
            "Compiling '/usr/local/lib/python3.8/unittest/test/test_assertions.py'...\n",
            "Compiling '/usr/local/lib/python3.8/unittest/test/test_async_case.py'...\n",
            "Compiling '/usr/local/lib/python3.8/unittest/test/test_break.py'...\n",
            "Compiling '/usr/local/lib/python3.8/unittest/test/test_case.py'...\n",
            "Compiling '/usr/local/lib/python3.8/unittest/test/test_discovery.py'...\n",
            "Compiling '/usr/local/lib/python3.8/unittest/test/test_functiontestcase.py'...\n",
            "Compiling '/usr/local/lib/python3.8/unittest/test/test_loader.py'...\n",
            "Compiling '/usr/local/lib/python3.8/unittest/test/test_program.py'...\n",
            "Compiling '/usr/local/lib/python3.8/unittest/test/test_result.py'...\n",
            "Compiling '/usr/local/lib/python3.8/unittest/test/test_runner.py'...\n",
            "Compiling '/usr/local/lib/python3.8/unittest/test/test_setups.py'...\n",
            "Compiling '/usr/local/lib/python3.8/unittest/test/test_skipping.py'...\n",
            "Compiling '/usr/local/lib/python3.8/unittest/test/test_suite.py'...\n",
            "Compiling '/usr/local/lib/python3.8/unittest/test/testmock/__init__.py'...\n",
            "Compiling '/usr/local/lib/python3.8/unittest/test/testmock/__main__.py'...\n",
            "Compiling '/usr/local/lib/python3.8/unittest/test/testmock/support.py'...\n",
            "Compiling '/usr/local/lib/python3.8/unittest/test/testmock/testasync.py'...\n",
            "Compiling '/usr/local/lib/python3.8/unittest/test/testmock/testcallable.py'...\n",
            "Compiling '/usr/local/lib/python3.8/unittest/test/testmock/testhelpers.py'...\n",
            "Compiling '/usr/local/lib/python3.8/unittest/test/testmock/testmagicmethods.py'...\n",
            "Compiling '/usr/local/lib/python3.8/unittest/test/testmock/testmock.py'...\n",
            "Compiling '/usr/local/lib/python3.8/unittest/test/testmock/testpatch.py'...\n",
            "Compiling '/usr/local/lib/python3.8/unittest/test/testmock/testsealable.py'...\n",
            "Compiling '/usr/local/lib/python3.8/unittest/test/testmock/testsentinel.py'...\n",
            "Compiling '/usr/local/lib/python3.8/unittest/test/testmock/testwith.py'...\n",
            "Compiling '/usr/local/lib/python3.8/unittest/util.py'...\n",
            "Compiling '/usr/local/lib/python3.8/urllib/__init__.py'...\n",
            "Compiling '/usr/local/lib/python3.8/urllib/error.py'...\n",
            "Compiling '/usr/local/lib/python3.8/urllib/parse.py'...\n",
            "Compiling '/usr/local/lib/python3.8/urllib/request.py'...\n",
            "Compiling '/usr/local/lib/python3.8/urllib/response.py'...\n",
            "Compiling '/usr/local/lib/python3.8/urllib/robotparser.py'...\n",
            "Compiling '/usr/local/lib/python3.8/uu.py'...\n",
            "Compiling '/usr/local/lib/python3.8/uuid.py'...\n",
            "Compiling '/usr/local/lib/python3.8/venv/__init__.py'...\n",
            "Compiling '/usr/local/lib/python3.8/venv/__main__.py'...\n",
            "Compiling '/usr/local/lib/python3.8/warnings.py'...\n",
            "Compiling '/usr/local/lib/python3.8/wave.py'...\n",
            "Compiling '/usr/local/lib/python3.8/weakref.py'...\n",
            "Compiling '/usr/local/lib/python3.8/webbrowser.py'...\n",
            "Compiling '/usr/local/lib/python3.8/wsgiref/__init__.py'...\n",
            "Compiling '/usr/local/lib/python3.8/wsgiref/headers.py'...\n",
            "Compiling '/usr/local/lib/python3.8/wsgiref/simple_server.py'...\n",
            "Compiling '/usr/local/lib/python3.8/wsgiref/handlers.py'...\n",
            "Compiling '/usr/local/lib/python3.8/wsgiref/util.py'...\n",
            "Compiling '/usr/local/lib/python3.8/wsgiref/validate.py'...\n",
            "Compiling '/usr/local/lib/python3.8/xdrlib.py'...\n",
            "Compiling '/usr/local/lib/python3.8/xml/__init__.py'...\n",
            "Compiling '/usr/local/lib/python3.8/xml/dom/NodeFilter.py'...\n",
            "Compiling '/usr/local/lib/python3.8/xml/dom/__init__.py'...\n",
            "Compiling '/usr/local/lib/python3.8/xml/dom/domreg.py'...\n",
            "Compiling '/usr/local/lib/python3.8/xml/dom/expatbuilder.py'...\n",
            "Compiling '/usr/local/lib/python3.8/xml/dom/minicompat.py'...\n",
            "Compiling '/usr/local/lib/python3.8/xml/dom/minidom.py'...\n",
            "Compiling '/usr/local/lib/python3.8/xml/dom/pulldom.py'...\n",
            "Compiling '/usr/local/lib/python3.8/xml/etree/ElementInclude.py'...\n",
            "Compiling '/usr/local/lib/python3.8/xml/etree/ElementPath.py'...\n",
            "Compiling '/usr/local/lib/python3.8/xml/dom/xmlbuilder.py'...\n",
            "Compiling '/usr/local/lib/python3.8/xml/etree/ElementTree.py'...\n",
            "Compiling '/usr/local/lib/python3.8/xml/etree/__init__.py'...\n",
            "Compiling '/usr/local/lib/python3.8/xml/etree/cElementTree.py'...\n",
            "Compiling '/usr/local/lib/python3.8/xml/parsers/__init__.py'...\n",
            "Compiling '/usr/local/lib/python3.8/xml/parsers/expat.py'...\n",
            "Compiling '/usr/local/lib/python3.8/xml/sax/__init__.py'...\n",
            "Compiling '/usr/local/lib/python3.8/xml/sax/expatreader.py'...\n",
            "Compiling '/usr/local/lib/python3.8/xml/sax/_exceptions.py'...\n",
            "Compiling '/usr/local/lib/python3.8/xml/sax/handler.py'...\n",
            "Compiling '/usr/local/lib/python3.8/xml/sax/saxutils.py'...\n",
            "Compiling '/usr/local/lib/python3.8/xml/sax/xmlreader.py'...\n",
            "Compiling '/usr/local/lib/python3.8/xmlrpc/__init__.py'...\n",
            "Compiling '/usr/local/lib/python3.8/xmlrpc/client.py'...\n",
            "Compiling '/usr/local/lib/python3.8/xmlrpc/server.py'...\n",
            "Compiling '/usr/local/lib/python3.8/zipapp.py'...\n",
            "Compiling '/usr/local/lib/python3.8/zipfile.py'...\n",
            "Compiling '/usr/local/lib/python3.8/zipimport.py'...\n",
            "PYTHONPATH=/usr/local/lib/python3.8  \\\n",
            "\t./python -E -Wi /usr/local/lib/python3.8/compileall.py \\\n",
            "\t-j0 -d /usr/local/lib/python3.8/site-packages -f \\\n",
            "\t-x badsyntax /usr/local/lib/python3.8/site-packages\n",
            "Listing '/usr/local/lib/python3.8/site-packages'...\n",
            "PYTHONPATH=/usr/local/lib/python3.8  \\\n",
            "\t./python -E -Wi -O /usr/local/lib/python3.8/compileall.py \\\n",
            "\t-j0 -d /usr/local/lib/python3.8/site-packages -f \\\n",
            "\t-x badsyntax /usr/local/lib/python3.8/site-packages\n",
            "Listing '/usr/local/lib/python3.8/site-packages'...\n",
            "PYTHONPATH=/usr/local/lib/python3.8  \\\n",
            "\t./python -E -Wi -OO /usr/local/lib/python3.8/compileall.py \\\n",
            "\t-j0 -d /usr/local/lib/python3.8/site-packages -f \\\n",
            "\t-x badsyntax /usr/local/lib/python3.8/site-packages\n",
            "Listing '/usr/local/lib/python3.8/site-packages'...\n",
            "PYTHONPATH=/usr/local/lib/python3.8  \\\n",
            "\t./python -E -m lib2to3.pgen2.driver /usr/local/lib/python3.8/lib2to3/Grammar.txt\n",
            "Generating grammar tables from /usr/local/lib/python3.8/lib2to3/Grammar.txt\n",
            "Writing grammar tables to /usr/local/lib/python3.8/lib2to3/Grammar3.8.6.final.0.pickle\n",
            "PYTHONPATH=/usr/local/lib/python3.8  \\\n",
            "\t./python -E -m lib2to3.pgen2.driver /usr/local/lib/python3.8/lib2to3/PatternGrammar.txt\n",
            "Generating grammar tables from /usr/local/lib/python3.8/lib2to3/PatternGrammar.txt\n",
            "Writing grammar tables to /usr/local/lib/python3.8/lib2to3/PatternGrammar3.8.6.final.0.pickle\n",
            "Creating directory /usr/local/include/python3.8\n",
            "Creating directory /usr/local/include/python3.8/cpython\n",
            "Creating directory /usr/local/include/python3.8/internal\n",
            "/usr/bin/install -c -m 644 Python-3.8.6/Include/Python-ast.h /usr/local/include/python3.8\n",
            "/usr/bin/install -c -m 644 Python-3.8.6/Include/Python.h /usr/local/include/python3.8\n",
            "/usr/bin/install -c -m 644 Python-3.8.6/Include/abstract.h /usr/local/include/python3.8\n",
            "/usr/bin/install -c -m 644 Python-3.8.6/Include/asdl.h /usr/local/include/python3.8\n",
            "/usr/bin/install -c -m 644 Python-3.8.6/Include/ast.h /usr/local/include/python3.8\n",
            "/usr/bin/install -c -m 644 Python-3.8.6/Include/bitset.h /usr/local/include/python3.8\n",
            "/usr/bin/install -c -m 644 Python-3.8.6/Include/bltinmodule.h /usr/local/include/python3.8\n",
            "/usr/bin/install -c -m 644 Python-3.8.6/Include/boolobject.h /usr/local/include/python3.8\n",
            "/usr/bin/install -c -m 644 Python-3.8.6/Include/bytearrayobject.h /usr/local/include/python3.8\n",
            "/usr/bin/install -c -m 644 Python-3.8.6/Include/bytes_methods.h /usr/local/include/python3.8\n",
            "/usr/bin/install -c -m 644 Python-3.8.6/Include/bytesobject.h /usr/local/include/python3.8\n",
            "/usr/bin/install -c -m 644 Python-3.8.6/Include/cellobject.h /usr/local/include/python3.8\n",
            "/usr/bin/install -c -m 644 Python-3.8.6/Include/ceval.h /usr/local/include/python3.8\n",
            "/usr/bin/install -c -m 644 Python-3.8.6/Include/classobject.h /usr/local/include/python3.8\n",
            "/usr/bin/install -c -m 644 Python-3.8.6/Include/code.h /usr/local/include/python3.8\n",
            "/usr/bin/install -c -m 644 Python-3.8.6/Include/codecs.h /usr/local/include/python3.8\n",
            "/usr/bin/install -c -m 644 Python-3.8.6/Include/compile.h /usr/local/include/python3.8\n",
            "/usr/bin/install -c -m 644 Python-3.8.6/Include/complexobject.h /usr/local/include/python3.8\n",
            "/usr/bin/install -c -m 644 Python-3.8.6/Include/context.h /usr/local/include/python3.8\n",
            "/usr/bin/install -c -m 644 Python-3.8.6/Include/datetime.h /usr/local/include/python3.8\n",
            "/usr/bin/install -c -m 644 Python-3.8.6/Include/descrobject.h /usr/local/include/python3.8\n",
            "/usr/bin/install -c -m 644 Python-3.8.6/Include/dictobject.h /usr/local/include/python3.8\n",
            "/usr/bin/install -c -m 644 Python-3.8.6/Include/dtoa.h /usr/local/include/python3.8\n",
            "/usr/bin/install -c -m 644 Python-3.8.6/Include/dynamic_annotations.h /usr/local/include/python3.8\n",
            "/usr/bin/install -c -m 644 Python-3.8.6/Include/enumobject.h /usr/local/include/python3.8\n",
            "/usr/bin/install -c -m 644 Python-3.8.6/Include/errcode.h /usr/local/include/python3.8\n",
            "/usr/bin/install -c -m 644 Python-3.8.6/Include/eval.h /usr/local/include/python3.8\n",
            "/usr/bin/install -c -m 644 Python-3.8.6/Include/fileobject.h /usr/local/include/python3.8\n",
            "/usr/bin/install -c -m 644 Python-3.8.6/Include/fileutils.h /usr/local/include/python3.8\n",
            "/usr/bin/install -c -m 644 Python-3.8.6/Include/floatobject.h /usr/local/include/python3.8\n",
            "/usr/bin/install -c -m 644 Python-3.8.6/Include/frameobject.h /usr/local/include/python3.8\n",
            "/usr/bin/install -c -m 644 Python-3.8.6/Include/funcobject.h /usr/local/include/python3.8\n",
            "/usr/bin/install -c -m 644 Python-3.8.6/Include/genobject.h /usr/local/include/python3.8\n",
            "/usr/bin/install -c -m 644 Python-3.8.6/Include/graminit.h /usr/local/include/python3.8\n",
            "/usr/bin/install -c -m 644 Python-3.8.6/Include/grammar.h /usr/local/include/python3.8\n",
            "/usr/bin/install -c -m 644 Python-3.8.6/Include/import.h /usr/local/include/python3.8\n",
            "/usr/bin/install -c -m 644 Python-3.8.6/Include/interpreteridobject.h /usr/local/include/python3.8\n",
            "/usr/bin/install -c -m 644 Python-3.8.6/Include/intrcheck.h /usr/local/include/python3.8\n",
            "/usr/bin/install -c -m 644 Python-3.8.6/Include/iterobject.h /usr/local/include/python3.8\n",
            "/usr/bin/install -c -m 644 Python-3.8.6/Include/listobject.h /usr/local/include/python3.8\n",
            "/usr/bin/install -c -m 644 Python-3.8.6/Include/longintrepr.h /usr/local/include/python3.8\n",
            "/usr/bin/install -c -m 644 Python-3.8.6/Include/longobject.h /usr/local/include/python3.8\n",
            "/usr/bin/install -c -m 644 Python-3.8.6/Include/marshal.h /usr/local/include/python3.8\n",
            "/usr/bin/install -c -m 644 Python-3.8.6/Include/memoryobject.h /usr/local/include/python3.8\n",
            "/usr/bin/install -c -m 644 Python-3.8.6/Include/methodobject.h /usr/local/include/python3.8\n",
            "/usr/bin/install -c -m 644 Python-3.8.6/Include/modsupport.h /usr/local/include/python3.8\n",
            "/usr/bin/install -c -m 644 Python-3.8.6/Include/moduleobject.h /usr/local/include/python3.8\n",
            "/usr/bin/install -c -m 644 Python-3.8.6/Include/namespaceobject.h /usr/local/include/python3.8\n",
            "/usr/bin/install -c -m 644 Python-3.8.6/Include/node.h /usr/local/include/python3.8\n",
            "/usr/bin/install -c -m 644 Python-3.8.6/Include/object.h /usr/local/include/python3.8\n",
            "/usr/bin/install -c -m 644 Python-3.8.6/Include/objimpl.h /usr/local/include/python3.8\n",
            "/usr/bin/install -c -m 644 Python-3.8.6/Include/odictobject.h /usr/local/include/python3.8\n",
            "/usr/bin/install -c -m 644 Python-3.8.6/Include/opcode.h /usr/local/include/python3.8\n",
            "/usr/bin/install -c -m 644 Python-3.8.6/Include/osdefs.h /usr/local/include/python3.8\n",
            "/usr/bin/install -c -m 644 Python-3.8.6/Include/osmodule.h /usr/local/include/python3.8\n",
            "/usr/bin/install -c -m 644 Python-3.8.6/Include/parsetok.h /usr/local/include/python3.8\n",
            "/usr/bin/install -c -m 644 Python-3.8.6/Include/patchlevel.h /usr/local/include/python3.8\n",
            "/usr/bin/install -c -m 644 Python-3.8.6/Include/picklebufobject.h /usr/local/include/python3.8\n",
            "/usr/bin/install -c -m 644 Python-3.8.6/Include/py_curses.h /usr/local/include/python3.8\n",
            "/usr/bin/install -c -m 644 Python-3.8.6/Include/pyarena.h /usr/local/include/python3.8\n",
            "/usr/bin/install -c -m 644 Python-3.8.6/Include/pycapsule.h /usr/local/include/python3.8\n",
            "/usr/bin/install -c -m 644 Python-3.8.6/Include/pyctype.h /usr/local/include/python3.8\n",
            "/usr/bin/install -c -m 644 Python-3.8.6/Include/pydebug.h /usr/local/include/python3.8\n",
            "/usr/bin/install -c -m 644 Python-3.8.6/Include/pydtrace.h /usr/local/include/python3.8\n",
            "/usr/bin/install -c -m 644 Python-3.8.6/Include/pyerrors.h /usr/local/include/python3.8\n",
            "/usr/bin/install -c -m 644 Python-3.8.6/Include/pyexpat.h /usr/local/include/python3.8\n",
            "/usr/bin/install -c -m 644 Python-3.8.6/Include/pyfpe.h /usr/local/include/python3.8\n",
            "/usr/bin/install -c -m 644 Python-3.8.6/Include/pyhash.h /usr/local/include/python3.8\n",
            "/usr/bin/install -c -m 644 Python-3.8.6/Include/pylifecycle.h /usr/local/include/python3.8\n",
            "/usr/bin/install -c -m 644 Python-3.8.6/Include/pymacconfig.h /usr/local/include/python3.8\n",
            "/usr/bin/install -c -m 644 Python-3.8.6/Include/pymacro.h /usr/local/include/python3.8\n",
            "/usr/bin/install -c -m 644 Python-3.8.6/Include/pymath.h /usr/local/include/python3.8\n",
            "/usr/bin/install -c -m 644 Python-3.8.6/Include/pymem.h /usr/local/include/python3.8\n",
            "/usr/bin/install -c -m 644 Python-3.8.6/Include/pyport.h /usr/local/include/python3.8\n",
            "/usr/bin/install -c -m 644 Python-3.8.6/Include/pystate.h /usr/local/include/python3.8\n",
            "/usr/bin/install -c -m 644 Python-3.8.6/Include/pystrcmp.h /usr/local/include/python3.8\n",
            "/usr/bin/install -c -m 644 Python-3.8.6/Include/pystrhex.h /usr/local/include/python3.8\n",
            "/usr/bin/install -c -m 644 Python-3.8.6/Include/pystrtod.h /usr/local/include/python3.8\n",
            "/usr/bin/install -c -m 644 Python-3.8.6/Include/pythonrun.h /usr/local/include/python3.8\n",
            "/usr/bin/install -c -m 644 Python-3.8.6/Include/pythread.h /usr/local/include/python3.8\n",
            "/usr/bin/install -c -m 644 Python-3.8.6/Include/pytime.h /usr/local/include/python3.8\n",
            "/usr/bin/install -c -m 644 Python-3.8.6/Include/rangeobject.h /usr/local/include/python3.8\n",
            "/usr/bin/install -c -m 644 Python-3.8.6/Include/setobject.h /usr/local/include/python3.8\n",
            "/usr/bin/install -c -m 644 Python-3.8.6/Include/sliceobject.h /usr/local/include/python3.8\n",
            "/usr/bin/install -c -m 644 Python-3.8.6/Include/structmember.h /usr/local/include/python3.8\n",
            "/usr/bin/install -c -m 644 Python-3.8.6/Include/structseq.h /usr/local/include/python3.8\n",
            "/usr/bin/install -c -m 644 Python-3.8.6/Include/symtable.h /usr/local/include/python3.8\n",
            "/usr/bin/install -c -m 644 Python-3.8.6/Include/sysmodule.h /usr/local/include/python3.8\n",
            "/usr/bin/install -c -m 644 Python-3.8.6/Include/token.h /usr/local/include/python3.8\n",
            "/usr/bin/install -c -m 644 Python-3.8.6/Include/traceback.h /usr/local/include/python3.8\n",
            "/usr/bin/install -c -m 644 Python-3.8.6/Include/tracemalloc.h /usr/local/include/python3.8\n",
            "/usr/bin/install -c -m 644 Python-3.8.6/Include/tupleobject.h /usr/local/include/python3.8\n",
            "/usr/bin/install -c -m 644 Python-3.8.6/Include/typeslots.h /usr/local/include/python3.8\n",
            "/usr/bin/install -c -m 644 Python-3.8.6/Include/ucnhash.h /usr/local/include/python3.8\n",
            "/usr/bin/install -c -m 644 Python-3.8.6/Include/unicodeobject.h /usr/local/include/python3.8\n",
            "/usr/bin/install -c -m 644 Python-3.8.6/Include/warnings.h /usr/local/include/python3.8\n",
            "/usr/bin/install -c -m 644 Python-3.8.6/Include/weakrefobject.h /usr/local/include/python3.8\n",
            "/usr/bin/install -c -m 644 Python-3.8.6/Include/cpython/abstract.h /usr/local/include/python3.8/cpython\n",
            "/usr/bin/install -c -m 644 Python-3.8.6/Include/cpython/dictobject.h /usr/local/include/python3.8/cpython\n",
            "/usr/bin/install -c -m 644 Python-3.8.6/Include/cpython/fileobject.h /usr/local/include/python3.8/cpython\n",
            "/usr/bin/install -c -m 644 Python-3.8.6/Include/cpython/initconfig.h /usr/local/include/python3.8/cpython\n",
            "/usr/bin/install -c -m 644 Python-3.8.6/Include/cpython/interpreteridobject.h /usr/local/include/python3.8/cpython\n",
            "/usr/bin/install -c -m 644 Python-3.8.6/Include/cpython/object.h /usr/local/include/python3.8/cpython\n",
            "/usr/bin/install -c -m 644 Python-3.8.6/Include/cpython/objimpl.h /usr/local/include/python3.8/cpython\n",
            "/usr/bin/install -c -m 644 Python-3.8.6/Include/cpython/pyerrors.h /usr/local/include/python3.8/cpython\n",
            "/usr/bin/install -c -m 644 Python-3.8.6/Include/cpython/pylifecycle.h /usr/local/include/python3.8/cpython\n",
            "/usr/bin/install -c -m 644 Python-3.8.6/Include/cpython/pymem.h /usr/local/include/python3.8/cpython\n",
            "/usr/bin/install -c -m 644 Python-3.8.6/Include/cpython/pystate.h /usr/local/include/python3.8/cpython\n",
            "/usr/bin/install -c -m 644 Python-3.8.6/Include/cpython/sysmodule.h /usr/local/include/python3.8/cpython\n",
            "/usr/bin/install -c -m 644 Python-3.8.6/Include/cpython/traceback.h /usr/local/include/python3.8/cpython\n",
            "/usr/bin/install -c -m 644 Python-3.8.6/Include/cpython/tupleobject.h /usr/local/include/python3.8/cpython\n",
            "/usr/bin/install -c -m 644 Python-3.8.6/Include/cpython/unicodeobject.h /usr/local/include/python3.8/cpython\n",
            "/usr/bin/install -c -m 644 Python-3.8.6/Include/internal/pycore_accu.h /usr/local/include/python3.8/internal\n",
            "/usr/bin/install -c -m 644 Python-3.8.6/Include/internal/pycore_atomic.h /usr/local/include/python3.8/internal\n",
            "/usr/bin/install -c -m 644 Python-3.8.6/Include/internal/pycore_ceval.h /usr/local/include/python3.8/internal\n",
            "/usr/bin/install -c -m 644 Python-3.8.6/Include/internal/pycore_code.h /usr/local/include/python3.8/internal\n",
            "/usr/bin/install -c -m 644 Python-3.8.6/Include/internal/pycore_condvar.h /usr/local/include/python3.8/internal\n",
            "/usr/bin/install -c -m 644 Python-3.8.6/Include/internal/pycore_context.h /usr/local/include/python3.8/internal\n",
            "/usr/bin/install -c -m 644 Python-3.8.6/Include/internal/pycore_fileutils.h /usr/local/include/python3.8/internal\n",
            "/usr/bin/install -c -m 644 Python-3.8.6/Include/internal/pycore_getopt.h /usr/local/include/python3.8/internal\n",
            "/usr/bin/install -c -m 644 Python-3.8.6/Include/internal/pycore_gil.h /usr/local/include/python3.8/internal\n",
            "/usr/bin/install -c -m 644 Python-3.8.6/Include/internal/pycore_hamt.h /usr/local/include/python3.8/internal\n",
            "/usr/bin/install -c -m 644 Python-3.8.6/Include/internal/pycore_initconfig.h /usr/local/include/python3.8/internal\n",
            "/usr/bin/install -c -m 644 Python-3.8.6/Include/internal/pycore_object.h /usr/local/include/python3.8/internal\n",
            "/usr/bin/install -c -m 644 Python-3.8.6/Include/internal/pycore_pathconfig.h /usr/local/include/python3.8/internal\n",
            "/usr/bin/install -c -m 644 Python-3.8.6/Include/internal/pycore_pyerrors.h /usr/local/include/python3.8/internal\n",
            "/usr/bin/install -c -m 644 Python-3.8.6/Include/internal/pycore_pyhash.h /usr/local/include/python3.8/internal\n",
            "/usr/bin/install -c -m 644 Python-3.8.6/Include/internal/pycore_pylifecycle.h /usr/local/include/python3.8/internal\n",
            "/usr/bin/install -c -m 644 Python-3.8.6/Include/internal/pycore_pymem.h /usr/local/include/python3.8/internal\n",
            "/usr/bin/install -c -m 644 Python-3.8.6/Include/internal/pycore_pystate.h /usr/local/include/python3.8/internal\n",
            "/usr/bin/install -c -m 644 Python-3.8.6/Include/internal/pycore_traceback.h /usr/local/include/python3.8/internal\n",
            "/usr/bin/install -c -m 644 Python-3.8.6/Include/internal/pycore_tupleobject.h /usr/local/include/python3.8/internal\n",
            "/usr/bin/install -c -m 644 Python-3.8.6/Include/internal/pycore_warnings.h /usr/local/include/python3.8/internal\n",
            "/usr/bin/install -c -m 644 pyconfig.h /usr/local/include/python3.8/pyconfig.h\n",
            "Creating directory /usr/local/lib/python3.8/config-3.8-x86_64-linux-gnu\n",
            "Creating directory /usr/local/lib/pkgconfig\n",
            "/usr/bin/install -c -m 644 Modules/config.c /usr/local/lib/python3.8/config-3.8-x86_64-linux-gnu/config.c\n",
            "/usr/bin/install -c -m 644 Programs/python.o /usr/local/lib/python3.8/config-3.8-x86_64-linux-gnu/python.o\n",
            "/usr/bin/install -c -m 644 Python-3.8.6/Modules/config.c.in /usr/local/lib/python3.8/config-3.8-x86_64-linux-gnu/config.c.in\n",
            "/usr/bin/install -c -m 644 Makefile /usr/local/lib/python3.8/config-3.8-x86_64-linux-gnu/Makefile\n",
            "/usr/bin/install -c -m 644 Python-3.8.6/Modules/Setup /usr/local/lib/python3.8/config-3.8-x86_64-linux-gnu/Setup\n",
            "/usr/bin/install -c -m 644 Modules/Setup.local /usr/local/lib/python3.8/config-3.8-x86_64-linux-gnu/Setup.local\n",
            "/usr/bin/install -c -m 644 Misc/python.pc /usr/local/lib/pkgconfig/python-3.8.pc\n",
            "/usr/bin/install -c -m 644 Misc/python-embed.pc /usr/local/lib/pkgconfig/python-3.8-embed.pc\n",
            "/usr/bin/install -c Python-3.8.6/Modules/makesetup /usr/local/lib/python3.8/config-3.8-x86_64-linux-gnu/makesetup\n",
            "/usr/bin/install -c Python-3.8.6/install-sh /usr/local/lib/python3.8/config-3.8-x86_64-linux-gnu/install-sh\n",
            "/usr/bin/install -c python-config.py /usr/local/lib/python3.8/config-3.8-x86_64-linux-gnu/python-config.py\n",
            "/usr/bin/install -c python-config /usr/local/bin/python3.8-config\n",
            "./python -E Python-3.8.6/setup.py install \\\n",
            "   \t--prefix=/usr/local \\\n",
            "\t--install-scripts=/usr/local/bin \\\n",
            "\t--install-platlib=/usr/local/lib/python3.8/lib-dynload \\\n",
            "\t--root=/\n",
            "running install\n",
            "running build\n",
            "running build_ext\n",
            "INFO: Could not locate ffi libs and/or headers\n",
            "\n",
            "Python build finished successfully!\n",
            "The necessary bits to build these optional modules were not found:\n",
            "_dbm                  _gdbm                                    \n",
            "To find the necessary bits, look in setup.py in detect_modules() for the module's name.\n",
            "\n",
            "\n",
            "The following modules found by detect_modules() in setup.py, have been\n",
            "built by the Makefile instead, as configured by the Setup files:\n",
            "_abc                  atexit                pwd                \n",
            "time                                                           \n",
            "\n",
            "\n",
            "Failed to build these modules:\n",
            "_ctypes                                                        \n",
            "\n",
            "running build_scripts\n",
            "copying and adjusting /content/Python-3.8.6/Tools/scripts/pydoc3 -> build/scripts-3.8\n",
            "copying and adjusting /content/Python-3.8.6/Tools/scripts/idle3 -> build/scripts-3.8\n",
            "copying and adjusting /content/Python-3.8.6/Tools/scripts/2to3 -> build/scripts-3.8\n",
            "changing mode of build/scripts-3.8/pydoc3 from 644 to 755\n",
            "changing mode of build/scripts-3.8/idle3 from 644 to 755\n",
            "changing mode of build/scripts-3.8/2to3 from 644 to 755\n",
            "renaming build/scripts-3.8/pydoc3 to build/scripts-3.8/pydoc3.8\n",
            "renaming build/scripts-3.8/idle3 to build/scripts-3.8/idle3.8\n",
            "renaming build/scripts-3.8/2to3 to build/scripts-3.8/2to3-3.8\n",
            "running install_lib\n",
            "creating /usr/local/lib/python3.8/lib-dynload\n",
            "copying build/lib.linux-x86_64-3.8/_pickle.cpython-38-x86_64-linux-gnu.so -> /usr/local/lib/python3.8/lib-dynload\n",
            "copying build/lib.linux-x86_64-3.8/_queue.cpython-38-x86_64-linux-gnu.so -> /usr/local/lib/python3.8/lib-dynload\n",
            "copying build/lib.linux-x86_64-3.8/_random.cpython-38-x86_64-linux-gnu.so -> /usr/local/lib/python3.8/lib-dynload\n",
            "copying build/lib.linux-x86_64-3.8/_asyncio.cpython-38-x86_64-linux-gnu.so -> /usr/local/lib/python3.8/lib-dynload\n",
            "copying build/lib.linux-x86_64-3.8/_bz2.cpython-38-x86_64-linux-gnu.so -> /usr/local/lib/python3.8/lib-dynload\n",
            "copying build/lib.linux-x86_64-3.8/_sha1.cpython-38-x86_64-linux-gnu.so -> /usr/local/lib/python3.8/lib-dynload\n",
            "copying build/lib.linux-x86_64-3.8/_posixsubprocess.cpython-38-x86_64-linux-gnu.so -> /usr/local/lib/python3.8/lib-dynload\n",
            "copying build/lib.linux-x86_64-3.8/_testcapi.cpython-38-x86_64-linux-gnu.so -> /usr/local/lib/python3.8/lib-dynload\n",
            "copying build/lib.linux-x86_64-3.8/_curses.cpython-38-x86_64-linux-gnu.so -> /usr/local/lib/python3.8/lib-dynload\n",
            "copying build/lib.linux-x86_64-3.8/_heapq.cpython-38-x86_64-linux-gnu.so -> /usr/local/lib/python3.8/lib-dynload\n",
            "copying build/lib.linux-x86_64-3.8/ossaudiodev.cpython-38-x86_64-linux-gnu.so -> /usr/local/lib/python3.8/lib-dynload\n",
            "copying build/lib.linux-x86_64-3.8/_md5.cpython-38-x86_64-linux-gnu.so -> /usr/local/lib/python3.8/lib-dynload\n",
            "copying build/lib.linux-x86_64-3.8/parser.cpython-38-x86_64-linux-gnu.so -> /usr/local/lib/python3.8/lib-dynload\n",
            "copying build/lib.linux-x86_64-3.8/_xxtestfuzz.cpython-38-x86_64-linux-gnu.so -> /usr/local/lib/python3.8/lib-dynload\n",
            "copying build/lib.linux-x86_64-3.8/_testimportmultiple.cpython-38-x86_64-linux-gnu.so -> /usr/local/lib/python3.8/lib-dynload\n",
            "copying build/lib.linux-x86_64-3.8/_hashlib.cpython-38-x86_64-linux-gnu.so -> /usr/local/lib/python3.8/lib-dynload\n",
            "copying build/lib.linux-x86_64-3.8/array.cpython-38-x86_64-linux-gnu.so -> /usr/local/lib/python3.8/lib-dynload\n",
            "copying build/lib.linux-x86_64-3.8/_codecs_jp.cpython-38-x86_64-linux-gnu.so -> /usr/local/lib/python3.8/lib-dynload\n",
            "copying build/lib.linux-x86_64-3.8/_sqlite3.cpython-38-x86_64-linux-gnu.so -> /usr/local/lib/python3.8/lib-dynload\n",
            "copying build/lib.linux-x86_64-3.8/nis.cpython-38-x86_64-linux-gnu.so -> /usr/local/lib/python3.8/lib-dynload\n",
            "copying build/lib.linux-x86_64-3.8/_sha256.cpython-38-x86_64-linux-gnu.so -> /usr/local/lib/python3.8/lib-dynload\n",
            "copying build/lib.linux-x86_64-3.8/_codecs_iso2022.cpython-38-x86_64-linux-gnu.so -> /usr/local/lib/python3.8/lib-dynload\n",
            "copying build/lib.linux-x86_64-3.8/_testinternalcapi.cpython-38-x86_64-linux-gnu.so -> /usr/local/lib/python3.8/lib-dynload\n",
            "copying build/lib.linux-x86_64-3.8/audioop.cpython-38-x86_64-linux-gnu.so -> /usr/local/lib/python3.8/lib-dynload\n",
            "copying build/lib.linux-x86_64-3.8/unicodedata.cpython-38-x86_64-linux-gnu.so -> /usr/local/lib/python3.8/lib-dynload\n",
            "copying build/lib.linux-x86_64-3.8/_xxsubinterpreters.cpython-38-x86_64-linux-gnu.so -> /usr/local/lib/python3.8/lib-dynload\n",
            "copying build/lib.linux-x86_64-3.8/_testbuffer.cpython-38-x86_64-linux-gnu.so -> /usr/local/lib/python3.8/lib-dynload\n",
            "copying build/lib.linux-x86_64-3.8/_codecs_hk.cpython-38-x86_64-linux-gnu.so -> /usr/local/lib/python3.8/lib-dynload\n",
            "copying build/lib.linux-x86_64-3.8/_decimal.cpython-38-x86_64-linux-gnu.so -> /usr/local/lib/python3.8/lib-dynload\n",
            "copying build/lib.linux-x86_64-3.8/_socket.cpython-38-x86_64-linux-gnu.so -> /usr/local/lib/python3.8/lib-dynload\n",
            "copying build/lib.linux-x86_64-3.8/grp.cpython-38-x86_64-linux-gnu.so -> /usr/local/lib/python3.8/lib-dynload\n",
            "copying build/lib.linux-x86_64-3.8/_elementtree.cpython-38-x86_64-linux-gnu.so -> /usr/local/lib/python3.8/lib-dynload\n",
            "copying build/lib.linux-x86_64-3.8/pyexpat.cpython-38-x86_64-linux-gnu.so -> /usr/local/lib/python3.8/lib-dynload\n",
            "copying build/lib.linux-x86_64-3.8/_csv.cpython-38-x86_64-linux-gnu.so -> /usr/local/lib/python3.8/lib-dynload\n",
            "copying build/lib.linux-x86_64-3.8/spwd.cpython-38-x86_64-linux-gnu.so -> /usr/local/lib/python3.8/lib-dynload\n",
            "copying build/lib.linux-x86_64-3.8/binascii.cpython-38-x86_64-linux-gnu.so -> /usr/local/lib/python3.8/lib-dynload\n",
            "copying build/lib.linux-x86_64-3.8/math.cpython-38-x86_64-linux-gnu.so -> /usr/local/lib/python3.8/lib-dynload\n",
            "copying build/lib.linux-x86_64-3.8/_statistics.cpython-38-x86_64-linux-gnu.so -> /usr/local/lib/python3.8/lib-dynload\n",
            "copying build/lib.linux-x86_64-3.8/_multibytecodec.cpython-38-x86_64-linux-gnu.so -> /usr/local/lib/python3.8/lib-dynload\n",
            "copying build/lib.linux-x86_64-3.8/_crypt.cpython-38-x86_64-linux-gnu.so -> /usr/local/lib/python3.8/lib-dynload\n",
            "copying build/lib.linux-x86_64-3.8/_multiprocessing.cpython-38-x86_64-linux-gnu.so -> /usr/local/lib/python3.8/lib-dynload\n",
            "copying build/lib.linux-x86_64-3.8/_sha512.cpython-38-x86_64-linux-gnu.so -> /usr/local/lib/python3.8/lib-dynload\n",
            "copying build/lib.linux-x86_64-3.8/_posixshmem.cpython-38-x86_64-linux-gnu.so -> /usr/local/lib/python3.8/lib-dynload\n",
            "copying build/lib.linux-x86_64-3.8/_testmultiphase.cpython-38-x86_64-linux-gnu.so -> /usr/local/lib/python3.8/lib-dynload\n",
            "copying build/lib.linux-x86_64-3.8/_codecs_kr.cpython-38-x86_64-linux-gnu.so -> /usr/local/lib/python3.8/lib-dynload\n",
            "copying build/lib.linux-x86_64-3.8/xxlimited.cpython-38-x86_64-linux-gnu.so -> /usr/local/lib/python3.8/lib-dynload\n",
            "copying build/lib.linux-x86_64-3.8/_ctypes_test.cpython-38-x86_64-linux-gnu.so -> /usr/local/lib/python3.8/lib-dynload\n",
            "copying build/lib.linux-x86_64-3.8/select.cpython-38-x86_64-linux-gnu.so -> /usr/local/lib/python3.8/lib-dynload\n",
            "copying build/lib.linux-x86_64-3.8/_tkinter.cpython-38-x86_64-linux-gnu.so -> /usr/local/lib/python3.8/lib-dynload\n",
            "copying build/lib.linux-x86_64-3.8/syslog.cpython-38-x86_64-linux-gnu.so -> /usr/local/lib/python3.8/lib-dynload\n",
            "copying build/lib.linux-x86_64-3.8/_sysconfigdata__linux_x86_64-linux-gnu.py -> /usr/local/lib/python3.8/lib-dynload\n",
            "copying build/lib.linux-x86_64-3.8/_struct.cpython-38-x86_64-linux-gnu.so -> /usr/local/lib/python3.8/lib-dynload\n",
            "copying build/lib.linux-x86_64-3.8/cmath.cpython-38-x86_64-linux-gnu.so -> /usr/local/lib/python3.8/lib-dynload\n",
            "copying build/lib.linux-x86_64-3.8/_sha3.cpython-38-x86_64-linux-gnu.so -> /usr/local/lib/python3.8/lib-dynload\n",
            "copying build/lib.linux-x86_64-3.8/_lsprof.cpython-38-x86_64-linux-gnu.so -> /usr/local/lib/python3.8/lib-dynload\n",
            "copying build/lib.linux-x86_64-3.8/_bisect.cpython-38-x86_64-linux-gnu.so -> /usr/local/lib/python3.8/lib-dynload\n",
            "copying build/lib.linux-x86_64-3.8/_curses_panel.cpython-38-x86_64-linux-gnu.so -> /usr/local/lib/python3.8/lib-dynload\n",
            "copying build/lib.linux-x86_64-3.8/_lzma.cpython-38-x86_64-linux-gnu.so -> /usr/local/lib/python3.8/lib-dynload\n",
            "copying build/lib.linux-x86_64-3.8/termios.cpython-38-x86_64-linux-gnu.so -> /usr/local/lib/python3.8/lib-dynload\n",
            "copying build/lib.linux-x86_64-3.8/_datetime.cpython-38-x86_64-linux-gnu.so -> /usr/local/lib/python3.8/lib-dynload\n",
            "copying build/lib.linux-x86_64-3.8/_contextvars.cpython-38-x86_64-linux-gnu.so -> /usr/local/lib/python3.8/lib-dynload\n",
            "copying build/lib.linux-x86_64-3.8/_codecs_tw.cpython-38-x86_64-linux-gnu.so -> /usr/local/lib/python3.8/lib-dynload\n",
            "copying build/lib.linux-x86_64-3.8/mmap.cpython-38-x86_64-linux-gnu.so -> /usr/local/lib/python3.8/lib-dynload\n",
            "copying build/lib.linux-x86_64-3.8/_opcode.cpython-38-x86_64-linux-gnu.so -> /usr/local/lib/python3.8/lib-dynload\n",
            "copying build/lib.linux-x86_64-3.8/zlib.cpython-38-x86_64-linux-gnu.so -> /usr/local/lib/python3.8/lib-dynload\n",
            "copying build/lib.linux-x86_64-3.8/_json.cpython-38-x86_64-linux-gnu.so -> /usr/local/lib/python3.8/lib-dynload\n",
            "copying build/lib.linux-x86_64-3.8/resource.cpython-38-x86_64-linux-gnu.so -> /usr/local/lib/python3.8/lib-dynload\n",
            "copying build/lib.linux-x86_64-3.8/_uuid.cpython-38-x86_64-linux-gnu.so -> /usr/local/lib/python3.8/lib-dynload\n",
            "copying build/lib.linux-x86_64-3.8/readline.cpython-38-x86_64-linux-gnu.so -> /usr/local/lib/python3.8/lib-dynload\n",
            "copying build/lib.linux-x86_64-3.8/_blake2.cpython-38-x86_64-linux-gnu.so -> /usr/local/lib/python3.8/lib-dynload\n",
            "creating /usr/local/lib/python3.8/lib-dynload/__pycache__\n",
            "copying build/lib.linux-x86_64-3.8/__pycache__/_sysconfigdata__linux_x86_64-linux-gnu.cpython-38.pyc -> /usr/local/lib/python3.8/lib-dynload/__pycache__\n",
            "copying build/lib.linux-x86_64-3.8/_ssl.cpython-38-x86_64-linux-gnu.so -> /usr/local/lib/python3.8/lib-dynload\n",
            "copying build/lib.linux-x86_64-3.8/_codecs_cn.cpython-38-x86_64-linux-gnu.so -> /usr/local/lib/python3.8/lib-dynload\n",
            "copying build/lib.linux-x86_64-3.8/fcntl.cpython-38-x86_64-linux-gnu.so -> /usr/local/lib/python3.8/lib-dynload\n",
            "changing mode of /usr/local/lib/python3.8/lib-dynload/_pickle.cpython-38-x86_64-linux-gnu.so to 755\n",
            "changing mode of /usr/local/lib/python3.8/lib-dynload/_queue.cpython-38-x86_64-linux-gnu.so to 755\n",
            "changing mode of /usr/local/lib/python3.8/lib-dynload/_random.cpython-38-x86_64-linux-gnu.so to 755\n",
            "changing mode of /usr/local/lib/python3.8/lib-dynload/_asyncio.cpython-38-x86_64-linux-gnu.so to 755\n",
            "changing mode of /usr/local/lib/python3.8/lib-dynload/_bz2.cpython-38-x86_64-linux-gnu.so to 755\n",
            "changing mode of /usr/local/lib/python3.8/lib-dynload/_sha1.cpython-38-x86_64-linux-gnu.so to 755\n",
            "changing mode of /usr/local/lib/python3.8/lib-dynload/_posixsubprocess.cpython-38-x86_64-linux-gnu.so to 755\n",
            "changing mode of /usr/local/lib/python3.8/lib-dynload/_testcapi.cpython-38-x86_64-linux-gnu.so to 755\n",
            "changing mode of /usr/local/lib/python3.8/lib-dynload/_curses.cpython-38-x86_64-linux-gnu.so to 755\n",
            "changing mode of /usr/local/lib/python3.8/lib-dynload/_heapq.cpython-38-x86_64-linux-gnu.so to 755\n",
            "changing mode of /usr/local/lib/python3.8/lib-dynload/ossaudiodev.cpython-38-x86_64-linux-gnu.so to 755\n",
            "changing mode of /usr/local/lib/python3.8/lib-dynload/_md5.cpython-38-x86_64-linux-gnu.so to 755\n",
            "changing mode of /usr/local/lib/python3.8/lib-dynload/parser.cpython-38-x86_64-linux-gnu.so to 755\n",
            "changing mode of /usr/local/lib/python3.8/lib-dynload/_xxtestfuzz.cpython-38-x86_64-linux-gnu.so to 755\n",
            "changing mode of /usr/local/lib/python3.8/lib-dynload/_testimportmultiple.cpython-38-x86_64-linux-gnu.so to 755\n",
            "changing mode of /usr/local/lib/python3.8/lib-dynload/_hashlib.cpython-38-x86_64-linux-gnu.so to 755\n",
            "changing mode of /usr/local/lib/python3.8/lib-dynload/array.cpython-38-x86_64-linux-gnu.so to 755\n",
            "changing mode of /usr/local/lib/python3.8/lib-dynload/_codecs_jp.cpython-38-x86_64-linux-gnu.so to 755\n",
            "changing mode of /usr/local/lib/python3.8/lib-dynload/_sqlite3.cpython-38-x86_64-linux-gnu.so to 755\n",
            "changing mode of /usr/local/lib/python3.8/lib-dynload/nis.cpython-38-x86_64-linux-gnu.so to 755\n",
            "changing mode of /usr/local/lib/python3.8/lib-dynload/_sha256.cpython-38-x86_64-linux-gnu.so to 755\n",
            "changing mode of /usr/local/lib/python3.8/lib-dynload/_codecs_iso2022.cpython-38-x86_64-linux-gnu.so to 755\n",
            "changing mode of /usr/local/lib/python3.8/lib-dynload/_testinternalcapi.cpython-38-x86_64-linux-gnu.so to 755\n",
            "changing mode of /usr/local/lib/python3.8/lib-dynload/audioop.cpython-38-x86_64-linux-gnu.so to 755\n",
            "changing mode of /usr/local/lib/python3.8/lib-dynload/unicodedata.cpython-38-x86_64-linux-gnu.so to 755\n",
            "changing mode of /usr/local/lib/python3.8/lib-dynload/_xxsubinterpreters.cpython-38-x86_64-linux-gnu.so to 755\n",
            "changing mode of /usr/local/lib/python3.8/lib-dynload/_testbuffer.cpython-38-x86_64-linux-gnu.so to 755\n",
            "changing mode of /usr/local/lib/python3.8/lib-dynload/_codecs_hk.cpython-38-x86_64-linux-gnu.so to 755\n",
            "changing mode of /usr/local/lib/python3.8/lib-dynload/_decimal.cpython-38-x86_64-linux-gnu.so to 755\n",
            "changing mode of /usr/local/lib/python3.8/lib-dynload/_socket.cpython-38-x86_64-linux-gnu.so to 755\n",
            "changing mode of /usr/local/lib/python3.8/lib-dynload/grp.cpython-38-x86_64-linux-gnu.so to 755\n",
            "changing mode of /usr/local/lib/python3.8/lib-dynload/_elementtree.cpython-38-x86_64-linux-gnu.so to 755\n",
            "changing mode of /usr/local/lib/python3.8/lib-dynload/pyexpat.cpython-38-x86_64-linux-gnu.so to 755\n",
            "changing mode of /usr/local/lib/python3.8/lib-dynload/_csv.cpython-38-x86_64-linux-gnu.so to 755\n",
            "changing mode of /usr/local/lib/python3.8/lib-dynload/spwd.cpython-38-x86_64-linux-gnu.so to 755\n",
            "changing mode of /usr/local/lib/python3.8/lib-dynload/binascii.cpython-38-x86_64-linux-gnu.so to 755\n",
            "changing mode of /usr/local/lib/python3.8/lib-dynload/math.cpython-38-x86_64-linux-gnu.so to 755\n",
            "changing mode of /usr/local/lib/python3.8/lib-dynload/_statistics.cpython-38-x86_64-linux-gnu.so to 755\n",
            "changing mode of /usr/local/lib/python3.8/lib-dynload/_multibytecodec.cpython-38-x86_64-linux-gnu.so to 755\n",
            "changing mode of /usr/local/lib/python3.8/lib-dynload/_crypt.cpython-38-x86_64-linux-gnu.so to 755\n",
            "changing mode of /usr/local/lib/python3.8/lib-dynload/_multiprocessing.cpython-38-x86_64-linux-gnu.so to 755\n",
            "changing mode of /usr/local/lib/python3.8/lib-dynload/_sha512.cpython-38-x86_64-linux-gnu.so to 755\n",
            "changing mode of /usr/local/lib/python3.8/lib-dynload/_posixshmem.cpython-38-x86_64-linux-gnu.so to 755\n",
            "changing mode of /usr/local/lib/python3.8/lib-dynload/_testmultiphase.cpython-38-x86_64-linux-gnu.so to 755\n",
            "changing mode of /usr/local/lib/python3.8/lib-dynload/_codecs_kr.cpython-38-x86_64-linux-gnu.so to 755\n",
            "changing mode of /usr/local/lib/python3.8/lib-dynload/xxlimited.cpython-38-x86_64-linux-gnu.so to 755\n",
            "changing mode of /usr/local/lib/python3.8/lib-dynload/_ctypes_test.cpython-38-x86_64-linux-gnu.so to 755\n",
            "changing mode of /usr/local/lib/python3.8/lib-dynload/select.cpython-38-x86_64-linux-gnu.so to 755\n",
            "changing mode of /usr/local/lib/python3.8/lib-dynload/_tkinter.cpython-38-x86_64-linux-gnu.so to 755\n",
            "changing mode of /usr/local/lib/python3.8/lib-dynload/syslog.cpython-38-x86_64-linux-gnu.so to 755\n",
            "changing mode of /usr/local/lib/python3.8/lib-dynload/_sysconfigdata__linux_x86_64-linux-gnu.py to 644\n",
            "changing mode of /usr/local/lib/python3.8/lib-dynload/_struct.cpython-38-x86_64-linux-gnu.so to 755\n",
            "changing mode of /usr/local/lib/python3.8/lib-dynload/cmath.cpython-38-x86_64-linux-gnu.so to 755\n",
            "changing mode of /usr/local/lib/python3.8/lib-dynload/_sha3.cpython-38-x86_64-linux-gnu.so to 755\n",
            "changing mode of /usr/local/lib/python3.8/lib-dynload/_lsprof.cpython-38-x86_64-linux-gnu.so to 755\n",
            "changing mode of /usr/local/lib/python3.8/lib-dynload/_bisect.cpython-38-x86_64-linux-gnu.so to 755\n",
            "changing mode of /usr/local/lib/python3.8/lib-dynload/_curses_panel.cpython-38-x86_64-linux-gnu.so to 755\n",
            "changing mode of /usr/local/lib/python3.8/lib-dynload/_lzma.cpython-38-x86_64-linux-gnu.so to 755\n",
            "changing mode of /usr/local/lib/python3.8/lib-dynload/termios.cpython-38-x86_64-linux-gnu.so to 755\n",
            "changing mode of /usr/local/lib/python3.8/lib-dynload/_datetime.cpython-38-x86_64-linux-gnu.so to 755\n",
            "changing mode of /usr/local/lib/python3.8/lib-dynload/_contextvars.cpython-38-x86_64-linux-gnu.so to 755\n",
            "changing mode of /usr/local/lib/python3.8/lib-dynload/_codecs_tw.cpython-38-x86_64-linux-gnu.so to 755\n",
            "changing mode of /usr/local/lib/python3.8/lib-dynload/mmap.cpython-38-x86_64-linux-gnu.so to 755\n",
            "changing mode of /usr/local/lib/python3.8/lib-dynload/_opcode.cpython-38-x86_64-linux-gnu.so to 755\n",
            "changing mode of /usr/local/lib/python3.8/lib-dynload/zlib.cpython-38-x86_64-linux-gnu.so to 755\n",
            "changing mode of /usr/local/lib/python3.8/lib-dynload/_json.cpython-38-x86_64-linux-gnu.so to 755\n",
            "changing mode of /usr/local/lib/python3.8/lib-dynload/resource.cpython-38-x86_64-linux-gnu.so to 755\n",
            "changing mode of /usr/local/lib/python3.8/lib-dynload/_uuid.cpython-38-x86_64-linux-gnu.so to 755\n",
            "changing mode of /usr/local/lib/python3.8/lib-dynload/readline.cpython-38-x86_64-linux-gnu.so to 755\n",
            "changing mode of /usr/local/lib/python3.8/lib-dynload/_blake2.cpython-38-x86_64-linux-gnu.so to 755\n",
            "changing mode of /usr/local/lib/python3.8/lib-dynload/__pycache__/_sysconfigdata__linux_x86_64-linux-gnu.cpython-38.pyc to 644\n",
            "changing mode of /usr/local/lib/python3.8/lib-dynload/_ssl.cpython-38-x86_64-linux-gnu.so to 755\n",
            "changing mode of /usr/local/lib/python3.8/lib-dynload/_codecs_cn.cpython-38-x86_64-linux-gnu.so to 755\n",
            "changing mode of /usr/local/lib/python3.8/lib-dynload/fcntl.cpython-38-x86_64-linux-gnu.so to 755\n",
            "changing mode of /usr/local/lib/python3.8/lib-dynload/ to 755\n",
            "changing mode of /usr/local/lib/python3.8/lib-dynload/__pycache__ to 755\n",
            "running install_scripts\n",
            "copying build/scripts-3.8/idle3.8 -> /usr/local/bin\n",
            "copying build/scripts-3.8/pydoc3.8 -> /usr/local/bin\n",
            "copying build/scripts-3.8/2to3-3.8 -> /usr/local/bin\n",
            "changing mode of /usr/local/bin/idle3.8 to 755\n",
            "changing mode of /usr/local/bin/pydoc3.8 to 755\n",
            "changing mode of /usr/local/bin/2to3-3.8 to 755\n",
            "rm /usr/local/lib/python3.8/lib-dynload/_sysconfigdata__linux_x86_64-linux-gnu.py\n",
            "rm -r /usr/local/lib/python3.8/lib-dynload/__pycache__\n",
            "/usr/bin/install -c -m 644 Python-3.8.6/Misc/python.man \\\n",
            "\t/usr/local/share/man/man1/python3.8.1\n",
            "if test ! -d /usr/local/lib/pkgconfig; then \\\n",
            "\techo \"Creating directory /usr/local/lib/pkgconfig\"; \\\n",
            "\t/usr/bin/install -c -d -m 755 /usr/local/lib/pkgconfig; \\\n",
            "fi\n",
            "if test -f /usr/local/bin/python3 -o -h /usr/local/bin/python3; \\\n",
            "then rm -f /usr/local/bin/python3; \\\n",
            "else true; \\\n",
            "fi\n",
            "(cd /usr/local/bin; ln -s python3.8 python3)\n",
            "if test \"3.8\" != \"3.8\"; then \\\n",
            "\trm -f /usr/local/bin/python3.8-config; \\\n",
            "\t(cd /usr/local/bin; ln -s python3.8-config python3.8-config); \\\n",
            "\trm -f /usr/local/lib/pkgconfig/python-3.8.pc; \\\n",
            "\t(cd /usr/local/lib/pkgconfig; ln -s python-3.8.pc python-3.8.pc); \\\n",
            "\trm -f /usr/local/lib/pkgconfig/python-3.8-embed.pc; \\\n",
            "\t(cd /usr/local/lib/pkgconfig; ln -s python-3.8-embed.pc python-3.8-embed.pc); \\\n",
            "fi\n",
            "rm -f /usr/local/bin/python3-config\n",
            "(cd /usr/local/bin; ln -s python3.8-config python3-config)\n",
            "rm -f /usr/local/lib/pkgconfig/python3.pc\n",
            "(cd /usr/local/lib/pkgconfig; ln -s python-3.8.pc python3.pc)\n",
            "rm -f /usr/local/lib/pkgconfig/python3-embed.pc\n",
            "(cd /usr/local/lib/pkgconfig; ln -s python-3.8-embed.pc python3-embed.pc)\n",
            "rm -f /usr/local/bin/idle3\n",
            "(cd /usr/local/bin; ln -s idle3.8 idle3)\n",
            "rm -f /usr/local/bin/pydoc3\n",
            "(cd /usr/local/bin; ln -s pydoc3.8 pydoc3)\n",
            "rm -f /usr/local/bin/2to3\n",
            "(cd /usr/local/bin; ln -s 2to3-3.8 2to3)\n",
            "if test \"x\" != \"x\" ; then \\\n",
            "\trm -f /usr/local/bin/python3-32; \\\n",
            "\t(cd /usr/local/bin; ln -s python3.8-32 python3-32) \\\n",
            "fi\n",
            "rm -f /usr/local/share/man/man1/python3.1\n",
            "(cd /usr/local/share/man/man1; ln -s python3.8.1 python3.1)\n",
            "if test \"xupgrade\" != \"xno\"  ; then \\\n",
            "\tcase upgrade in \\\n",
            "\t\tupgrade) ensurepip=\"--upgrade\" ;; \\\n",
            "\t\tinstall|*) ensurepip=\"\" ;; \\\n",
            "\tesac; \\\n",
            "\t ./python -E -m ensurepip \\\n",
            "\t\t$ensurepip --root=/ ; \\\n",
            "fi\n",
            "Looking in links: /tmp/tmpk_7kvjeu\n",
            "Processing /tmp/tmpk_7kvjeu/setuptools-49.2.1-py3-none-any.whl\n",
            "Processing /tmp/tmpk_7kvjeu/pip-20.2.1-py2.py3-none-any.whl\n",
            "Installing collected packages: setuptools, pip\n",
            "Successfully installed pip-20.2.1 setuptools-49.2.1\n"
          ]
        }
      ]
    },
    {
      "cell_type": "code",
      "source": [
        "#ERROR: command errored out with exit status 1 python setup.py egg_info 해결\n",
        "!pip install --upgrade setuptools"
      ],
      "metadata": {
        "colab": {
          "base_uri": "https://localhost:8080/"
        },
        "id": "jixOx6jQgARB",
        "outputId": "6681342b-3b28-4dc1-99f8-80e53c2f9a77"
      },
      "execution_count": 5,
      "outputs": [
        {
          "output_type": "stream",
          "name": "stdout",
          "text": [
            "Collecting setuptools\n",
            "  Downloading setuptools-68.2.2-py3-none-any.whl (807 kB)\n",
            "\u001b[K     |████████████████████████████████| 807 kB 2.6 MB/s \n",
            "\u001b[?25hInstalling collected packages: setuptools\n",
            "  Attempting uninstall: setuptools\n",
            "    Found existing installation: setuptools 49.2.1\n",
            "    Uninstalling setuptools-49.2.1:\n",
            "      Successfully uninstalled setuptools-49.2.1\n",
            "Successfully installed setuptools-68.2.2\n"
          ]
        }
      ]
    },
    {
      "cell_type": "code",
      "execution_count": 2,
      "metadata": {
        "id": "Qn56MbdNfhcR",
        "colab": {
          "base_uri": "https://localhost:8080/"
        },
        "outputId": "c3b51efa-55f6-4b89-9c9e-b195a9dbb29e"
      },
      "outputs": [
        {
          "output_type": "stream",
          "name": "stdout",
          "text": [
            "Looking in links: https://download.pytorch.org/whl/torch_stable.html\n",
            "Requirement already satisfied: pydub in /usr/local/lib/python3.8/site-packages (0.25.1)\n",
            "Requirement already satisfied: torch==1.7.0+cu101 in /usr/local/lib/python3.8/site-packages (1.7.0+cu101)\n",
            "Requirement already satisfied: torchvision==0.8.1+cu101 in /usr/local/lib/python3.8/site-packages (0.8.1+cu101)\n",
            "Requirement already satisfied: torchaudio==0.7.0 in /usr/local/lib/python3.8/site-packages (0.7.0)\n",
            "Requirement already satisfied: typing-extensions in /usr/local/lib/python3.8/site-packages (from torch==1.7.0+cu101) (4.8.0)\n",
            "Requirement already satisfied: future in /usr/local/lib/python3.8/site-packages (from torch==1.7.0+cu101) (0.18.3)\n",
            "Requirement already satisfied: numpy in /usr/local/lib/python3.8/site-packages (from torch==1.7.0+cu101) (1.24.4)\n",
            "Requirement already satisfied: dataclasses in /usr/local/lib/python3.8/site-packages (from torch==1.7.0+cu101) (0.6)\n",
            "Requirement already satisfied: pillow>=4.1.1 in /usr/local/lib/python3.8/site-packages (from torchvision==0.8.1+cu101) (10.1.0)\n"
          ]
        }
      ],
      "source": [
        "# Uncomment the line corresponding to your \"runtime type\" to run in Google Colab\n",
        "\n",
        "# CPU:\n",
        "# !pip install pydub torch==1.7.0+cpu torchvision==0.8.1+cpu torchaudio==0.7.0 -f https://download.pytorch.org/whl/torch_stable.html\n",
        "\n",
        "# GPU:\n",
        "!pip install pydub torch==1.7.0+cu101 torchvision==0.8.1+cu101 torchaudio==0.7.0 -f https://download.pytorch.org/whl/torch_stable.html\n",
        "\n",
        "import torch\n",
        "import torch.nn as nn\n",
        "import torch.nn.functional as F\n",
        "import torch.optim as optim\n",
        "import torchaudio\n",
        "import sys\n",
        "\n",
        "import matplotlib.pyplot as plt\n",
        "import IPython.display as ipd\n",
        "\n",
        "from tqdm import tqdm"
      ]
    },
    {
      "cell_type": "markdown",
      "metadata": {
        "id": "wny_fEeEfhcR"
      },
      "source": [
        "Let’s check if a CUDA GPU is available and select our device. Running\n",
        "the network on a GPU will greatly decrease the training/testing runtime.\n",
        "\n",
        "\n"
      ]
    },
    {
      "cell_type": "code",
      "execution_count": 3,
      "metadata": {
        "id": "s7QoEsuxfhcR",
        "colab": {
          "base_uri": "https://localhost:8080/"
        },
        "outputId": "bc298966-29b1-40aa-ae7e-da794ae3f064"
      },
      "outputs": [
        {
          "output_type": "stream",
          "name": "stdout",
          "text": [
            "cuda\n"
          ]
        }
      ],
      "source": [
        "device = torch.device(\"cuda\" if torch.cuda.is_available() else \"cpu\")\n",
        "print(device)"
      ]
    },
    {
      "cell_type": "markdown",
      "metadata": {
        "id": "ri20jHzTfhcS"
      },
      "source": [
        "## Importing the Dataset\n",
        "\n",
        "We use torchaudio to download and represent the dataset. Here we use\n",
        "[SpeechCommands](https://arxiv.org/abs/1804.03209)_, which is a\n",
        "datasets of 35 commands spoken by different people. The dataset\n",
        "``SPEECHCOMMANDS`` is a ``torch.utils.data.Dataset`` version of the\n",
        "dataset. In this dataset, all audio files are about 1 second long (and\n",
        "so about 16000 time frames long).\n",
        "\n",
        "The actual loading and formatting steps happen when a data point is\n",
        "being accessed, and torchaudio takes care of converting the audio files\n",
        "to tensors. If one wants to load an audio file directly instead,\n",
        "``torchaudio.load()`` can be used. It returns a tuple containing the\n",
        "newly created tensor along with the sampling frequency of the audio file\n",
        "(16kHz for SpeechCommands).\n",
        "\n",
        "Going back to the dataset, here we create a subclass that splits it into\n",
        "standard training, validation, testing subsets.\n",
        "\n",
        "\n"
      ]
    },
    {
      "cell_type": "code",
      "execution_count": 4,
      "metadata": {
        "id": "Rfv7exJCfhcS"
      },
      "outputs": [],
      "source": [
        "# SpeechCommands 데이터세트 가져오기\n",
        "from torchaudio.datasets import SPEECHCOMMANDS\n",
        "import os\n",
        "\n",
        "\n",
        "class SubsetSC(SPEECHCOMMANDS):\n",
        "    def __init__(self, subset: str = None):\n",
        "        super().__init__(\"./\", download=True)\n",
        "\n",
        "        def load_list(filename):\n",
        "            filepath = os.path.join(self._path, filename)\n",
        "            with open(filepath) as fileobj:\n",
        "                return [os.path.normpath(os.path.join(self._path, line.strip())) for line in fileobj]\n",
        "\n",
        "        if subset == \"validation\":\n",
        "            self._walker = load_list(\"validation_list.txt\")\n",
        "        elif subset == \"testing\":\n",
        "            self._walker = load_list(\"testing_list.txt\")\n",
        "        elif subset == \"training\":\n",
        "            excludes = load_list(\"validation_list.txt\") + load_list(\"testing_list.txt\")\n",
        "            excludes = set(excludes)\n",
        "            self._walker = [w for w in self._walker if w not in excludes]\n",
        "\n",
        "\n",
        "# Create training and testing split of the data. We do not use validation in this tutorial.\n",
        "train_set = SubsetSC(\"training\")\n",
        "test_set = SubsetSC(\"testing\")\n",
        "\n",
        "waveform, sample_rate, label, speaker_id, utterance_number = train_set[0]"
      ]
    },
    {
      "cell_type": "markdown",
      "metadata": {
        "id": "VNBri69sfhcS"
      },
      "source": [
        "A data point in the SPEECHCOMMANDS dataset is a tuple made of a waveform\n",
        "(the audio signal), the sample rate, the utterance (label), the ID of\n",
        "the speaker, the number of the utterance.\n",
        "\n",
        "\n"
      ]
    },
    {
      "cell_type": "code",
      "execution_count": 5,
      "metadata": {
        "id": "kPx0f77YfhcS",
        "colab": {
          "base_uri": "https://localhost:8080/",
          "height": 466
        },
        "outputId": "a9af644e-684f-453f-997b-937606da6fc8"
      },
      "outputs": [
        {
          "output_type": "stream",
          "name": "stdout",
          "text": [
            "Shape of waveform: torch.Size([1, 16000])\n",
            "Sample rate of waveform: 16000\n"
          ]
        },
        {
          "output_type": "display_data",
          "data": {
            "text/plain": [
              "<Figure size 640x480 with 1 Axes>"
            ],
            "image/png": "[encoded data removed]"
          },
          "metadata": {}
        }
      ],
      "source": [
        "#웨이브폼 (waveform):시간에 따른 오디오 신호의 변화를 표현하는 시각적인 그래픽\n",
        "print(\"Shape of waveform: {}\".format(waveform.size()))\n",
        "print(\"Sample rate of waveform: {}\".format(sample_rate))\n",
        "\n",
        "plt.plot(waveform.t().numpy());"
      ]
    },
    {
      "cell_type": "markdown",
      "metadata": {
        "id": "HxXEquasfhcT"
      },
      "source": [
        "Let’s find the list of labels available in the dataset.\n",
        "\n",
        "\n"
      ]
    },
    {
      "cell_type": "code",
      "execution_count": 6,
      "metadata": {
        "id": "E0AeMMcUfhcT",
        "colab": {
          "base_uri": "https://localhost:8080/"
        },
        "outputId": "c40919cc-1875-4f88-f874-74afd58cedb8"
      },
      "outputs": [
        {
          "output_type": "execute_result",
          "data": {
            "text/plain": [
              "['backward',\n",
              " 'bed',\n",
              " 'bird',\n",
              " 'cat',\n",
              " 'dog',\n",
              " 'down',\n",
              " 'eight',\n",
              " 'five',\n",
              " 'follow',\n",
              " 'forward',\n",
              " 'four',\n",
              " 'go',\n",
              " 'happy',\n",
              " 'house',\n",
              " 'learn',\n",
              " 'left',\n",
              " 'marvin',\n",
              " 'nine',\n",
              " 'no',\n",
              " 'off',\n",
              " 'on',\n",
              " 'one',\n",
              " 'right',\n",
              " 'seven',\n",
              " 'sheila',\n",
              " 'six',\n",
              " 'stop',\n",
              " 'three',\n",
              " 'tree',\n",
              " 'two',\n",
              " 'up',\n",
              " 'visual',\n",
              " 'wow',\n",
              " 'yes',\n",
              " 'zero']"
            ]
          },
          "metadata": {},
          "execution_count": 6
        }
      ],
      "source": [
        "#사용 가능한 라벨 목록\n",
        "labels = sorted(list(set(datapoint[2] for datapoint in train_set)))\n",
        "labels"
      ]
    },
    {
      "cell_type": "markdown",
      "metadata": {
        "id": "C0qNP2GufhcT"
      },
      "source": [
        "The 35 audio labels are commands that are said by users. The first few\n",
        "files are people saying “backward”.\n",
        "\n",
        "\n"
      ]
    },
    {
      "cell_type": "code",
      "execution_count": 7,
      "metadata": {
        "id": "Ao2gQ1oHfhcT",
        "colab": {
          "base_uri": "https://localhost:8080/",
          "height": 74
        },
        "outputId": "6feb26e1-b810-454a-ab4f-dbad3fc8d399"
      },
      "outputs": [
        {
          "output_type": "execute_result",
          "data": {
            "text/plain": [
              "<IPython.lib.display.Audio object>"
            ],
            "text/html": [
              "\n",
              "                <audio  controls=\"controls\" >\n",
              "                    <source src=\"data:audio/wav;base64,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\" type=\"audio/wav\" />\n",
              "                    Your browser does not support the audio element.\n",
              "                </audio>\n",
              "              "
            ]
          },
          "metadata": {},
          "execution_count": 7
        }
      ],
      "source": [
        "waveform_first, *_ = train_set[0]\n",
        "ipd.Audio(waveform_first.numpy(), rate=sample_rate)\n",
        "\n",
        "waveform_second, *_ = train_set[1]\n",
        "ipd.Audio(waveform_second.numpy(), rate=sample_rate)"
      ]
    },
    {
      "cell_type": "markdown",
      "metadata": {
        "id": "0IrfOWr8fhcT"
      },
      "source": [
        "The last file is someone saying “zero”.\n",
        "\n",
        "\n"
      ]
    },
    {
      "cell_type": "code",
      "execution_count": 8,
      "metadata": {
        "id": "JTkF82VhfhcT",
        "colab": {
          "base_uri": "https://localhost:8080/",
          "height": 74
        },
        "outputId": "7d076cc2-3130-4edb-bf2e-1c0e3a224b1c"
      },
      "outputs": [
        {
          "output_type": "execute_result",
          "data": {
            "text/plain": [
              "<IPython.lib.display.Audio object>"
            ],
            "text/html": [
              "\n",
              "                <audio  controls=\"controls\" >\n",
              "                    <source src=\"data:audio/wav;base64,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\" type=\"audio/wav\" />\n",
              "                    Your browser does not support the audio element.\n",
              "                </audio>\n",
              "              "
            ]
          },
          "metadata": {},
          "execution_count": 8
        }
      ],
      "source": [
        "waveform_last, *_ = train_set[-1]\n",
        "ipd.Audio(waveform_last.numpy(), rate=sample_rate)"
      ]
    },
    {
      "cell_type": "markdown",
      "metadata": {
        "id": "nLBA_GHhfhcT"
      },
      "source": [
        "## Formatting the Data(전처리)\n",
        "\n",
        "This is a good place to apply transformations to the data. For the\n",
        "waveform, we downsample the audio for faster processing without losing\n",
        "too much of the classification power.\n",
        "\n",
        "We don’t need to apply other transformations here. It is common for some\n",
        "datasets though to have to reduce the number of channels (say from\n",
        "stereo to mono) by either taking the mean along the channel dimension,\n",
        "or simply keeping only one of the channels. Since SpeechCommands uses a\n",
        "single channel for audio, this is not needed here.\n",
        "\n",
        "\n"
      ]
    },
    {
      "cell_type": "code",
      "source": [
        "#transform 객체를 사용하여 데이터를 새로운 샘플 속도로 다시 샘플링함\n",
        "new_sample_rate = 8000\n",
        "transform = torchaudio.transforms.Resample(orig_freq=sample_rate, new_freq=new_sample_rate)\n",
        "transformed = transform(waveform)"
      ],
      "metadata": {
        "id": "dxJl3LrIQxqA"
      },
      "execution_count": 33,
      "outputs": []
    },
    {
      "cell_type": "markdown",
      "metadata": {
        "id": "TkvwLKNJfhcT"
      },
      "source": [
        "We are encoding each word using its index in the list of labels.\n",
        "\n",
        "\n"
      ]
    },
    {
      "cell_type": "code",
      "execution_count": 9,
      "metadata": {
        "id": "ooAFTrywfhcU",
        "colab": {
          "base_uri": "https://localhost:8080/"
        },
        "outputId": "82e067c3-f81c-4206-e02e-4cf7d113eef5"
      },
      "outputs": [
        {
          "output_type": "stream",
          "name": "stdout",
          "text": [
            "yes --> tensor(33) --> yes\n"
          ]
        }
      ],
      "source": [
        "#레이블 목록의 인덱스를 사용하여 각 단어를 인코딩\n",
        "def label_to_index(word):\n",
        "    # Return the position of the word in labels\n",
        "    return torch.tensor(labels.index(word))\n",
        "\n",
        "\n",
        "def index_to_label(index):\n",
        "    # Return the word corresponding to the index in labels\n",
        "    # This is the inverse of label_to_index\n",
        "    return labels[index]\n",
        "\n",
        "\n",
        "word_start = \"yes\"\n",
        "index = label_to_index(word_start)\n",
        "word_recovered = index_to_label(index)\n",
        "\n",
        "print(word_start, \"-->\", index, \"-->\", word_recovered)"
      ]
    },
    {
      "cell_type": "markdown",
      "metadata": {
        "id": "1uw70TRdfhcU"
      },
      "source": [
        "To turn a list of data point made of audio recordings and utterances\n",
        "into two batched tensors for the model, we implement a collate function\n",
        "which is used by the PyTorch DataLoader that allows us to iterate over a\n",
        "dataset by batches. Please see [the\n",
        "documentation](https://pytorch.org/docs/stable/data.html#working-with-collate-fn)_\n",
        "for more information about working with a collate function.\n",
        "\n",
        "In the collate function, we also apply the resampling, and the text\n",
        "encoding.\n",
        "\n",
        "\n"
      ]
    },
    {
      "cell_type": "code",
      "execution_count": 10,
      "metadata": {
        "id": "-8tIHbjifhcU"
      },
      "outputs": [],
      "source": [
        "#리샘플링과 텍스트 인코딩\n",
        "def pad_sequence(batch):\n",
        "    # Make all tensor in a batch the same length by padding with zeros\n",
        "    batch = [item.t() for item in batch]\n",
        "    batch = torch.nn.utils.rnn.pad_sequence(batch, batch_first=True, padding_value=0.)\n",
        "    return batch.permute(0, 2, 1)\n",
        "\n",
        "\n",
        "def collate_fn(batch):\n",
        "\n",
        "    # A data tuple has the form:\n",
        "    # waveform, sample_rate, label, speaker_id, utterance_number\n",
        "\n",
        "    tensors, targets = [], []\n",
        "\n",
        "    # Gather in lists, and encode labels as indices\n",
        "    for waveform, _, label, *_ in batch:\n",
        "        tensors += [waveform]\n",
        "        targets += [label_to_index(label)]\n",
        "\n",
        "    # Group the list of tensors into a batched tensor\n",
        "    tensors = pad_sequence(tensors)\n",
        "    targets = torch.stack(targets)\n",
        "\n",
        "    return tensors, targets\n",
        "\n",
        "\n",
        "batch_size = 256\n",
        "\n",
        "if device == \"cuda\":\n",
        "    num_workers = 1\n",
        "    pin_memory = True\n",
        "else:\n",
        "    num_workers = 0\n",
        "    pin_memory = False\n",
        "\n",
        "train_loader = torch.utils.data.DataLoader(\n",
        "    train_set,\n",
        "    batch_size=batch_size,\n",
        "    shuffle=True,\n",
        "    collate_fn=collate_fn,\n",
        "    num_workers=num_workers,\n",
        "    pin_memory=pin_memory,\n",
        ")\n",
        "test_loader = torch.utils.data.DataLoader(\n",
        "    test_set,\n",
        "    batch_size=batch_size,\n",
        "    shuffle=False,\n",
        "    drop_last=False,\n",
        "    collate_fn=collate_fn,\n",
        "    num_workers=num_workers,\n",
        "    pin_memory=pin_memory,\n",
        ")"
      ]
    },
    {
      "cell_type": "markdown",
      "metadata": {
        "id": "banRYT1jfhcU"
      },
      "source": [
        "## Define the Network\n",
        "\n",
        "For this tutorial we will use a convolutional neural network to process\n",
        "the raw audio data. Usually more advanced transforms are applied to the\n",
        "audio data, however CNNs can be used to accurately process the raw data.\n",
        "The specific architecture is modeled after the M5 network architecture\n",
        "described in [this paper](https://arxiv.org/pdf/1610.00087.pdf)_. An\n",
        "important aspect of models processing raw audio data is the receptive\n",
        "field of their first layer’s filters. Our model’s first filter is length\n",
        "80 so when processing audio sampled at 8kHz the receptive field is\n",
        "around 10ms (and at 4kHz, around 20 ms). This size is similar to speech\n",
        "processing applications that often use receptive fields ranging from\n",
        "20ms to 40ms.\n",
        "\n",
        "\n"
      ]
    },
    {
      "cell_type": "code",
      "execution_count": 15,
      "metadata": {
        "id": "m74HY0xnfhcU",
        "colab": {
          "base_uri": "https://localhost:8080/"
        },
        "outputId": "ac80f3b7-b615-4d9e-8558-a684b50977df"
      },
      "outputs": [
        {
          "output_type": "stream",
          "name": "stdout",
          "text": [
            "M5(\n",
            "  (conv1): Conv1d(1, 32, kernel_size=(80,), stride=(16,))\n",
            "  (bn1): BatchNorm1d(32, eps=1e-05, momentum=0.1, affine=True, track_running_stats=True)\n",
            "  (pool1): MaxPool1d(kernel_size=4, stride=4, padding=0, dilation=1, ceil_mode=False)\n",
            "  (conv2): Conv1d(32, 32, kernel_size=(3,), stride=(1,))\n",
            "  (bn2): BatchNorm1d(32, eps=1e-05, momentum=0.1, affine=True, track_running_stats=True)\n",
            "  (pool2): MaxPool1d(kernel_size=4, stride=4, padding=0, dilation=1, ceil_mode=False)\n",
            "  (conv3): Conv1d(32, 64, kernel_size=(3,), stride=(1,))\n",
            "  (bn3): BatchNorm1d(64, eps=1e-05, momentum=0.1, affine=True, track_running_stats=True)\n",
            "  (pool3): MaxPool1d(kernel_size=4, stride=4, padding=0, dilation=1, ceil_mode=False)\n",
            "  (conv4): Conv1d(64, 64, kernel_size=(3,), stride=(1,))\n",
            "  (bn4): BatchNorm1d(64, eps=1e-05, momentum=0.1, affine=True, track_running_stats=True)\n",
            "  (pool4): MaxPool1d(kernel_size=4, stride=4, padding=0, dilation=1, ceil_mode=False)\n",
            "  (fc1): Linear(in_features=64, out_features=35, bias=True)\n",
            ")\n",
            "Number of parameters: 26915\n"
          ]
        }
      ],
      "source": [
        "#M5 네트워크 아키텍처 모델\n",
        "class M5(nn.Module):\n",
        "    def __init__(self, n_input=1, n_output=35, stride=16, n_channel=32):\n",
        "        super().__init__()\n",
        "        self.conv1 = nn.Conv1d(n_input, n_channel, kernel_size=80, stride=stride)\n",
        "        self.bn1 = nn.BatchNorm1d(n_channel)\n",
        "        self.pool1 = nn.MaxPool1d(4)\n",
        "        self.conv2 = nn.Conv1d(n_channel, n_channel, kernel_size=3)\n",
        "        self.bn2 = nn.BatchNorm1d(n_channel)\n",
        "        self.pool2 = nn.MaxPool1d(4)\n",
        "        self.conv3 = nn.Conv1d(n_channel, 2 * n_channel, kernel_size=3)\n",
        "        self.bn3 = nn.BatchNorm1d(2 * n_channel)\n",
        "        self.pool3 = nn.MaxPool1d(4)\n",
        "        self.conv4 = nn.Conv1d(2 * n_channel, 2 * n_channel, kernel_size=3)\n",
        "        self.bn4 = nn.BatchNorm1d(2 * n_channel)\n",
        "        self.pool4 = nn.MaxPool1d(4)\n",
        "        self.fc1 = nn.Linear(2 * n_channel, n_output)\n",
        "\n",
        "    def forward(self, x):\n",
        "        x = self.conv1(x)\n",
        "        x = F.relu(self.bn1(x))\n",
        "        x = self.pool1(x)\n",
        "        x = self.conv2(x)\n",
        "        x = F.relu(self.bn2(x))\n",
        "        x = self.pool2(x)\n",
        "        x = self.conv3(x)\n",
        "        x = F.relu(self.bn3(x))\n",
        "        x = self.pool3(x)\n",
        "        x = self.conv4(x)\n",
        "        x = F.relu(self.bn4(x))\n",
        "        x = self.pool4(x)\n",
        "        x = F.avg_pool1d(x, x.shape[-1])\n",
        "        x = x.permute(0, 2, 1)\n",
        "        x = self.fc1(x)\n",
        "        return F.log_softmax(x, dim=2)\n",
        "\n",
        "\n",
        "model = M5(n_input=transformed.shape[0], n_output=len(labels))\n",
        "model.to(device)\n",
        "print(model)\n",
        "\n",
        "\n",
        "def count_parameters(model):\n",
        "    return sum(p.numel() for p in model.parameters() if p.requires_grad)\n",
        "\n",
        "\n",
        "n = count_parameters(model)\n",
        "print(\"Number of parameters: %s\" % n)"
      ]
    },
    {
      "cell_type": "markdown",
      "metadata": {
        "id": "JbCNsheDfhcU"
      },
      "source": [
        "We will use the same optimization technique used in the paper, an Adam\n",
        "optimizer with weight decay set to 0.0001. At first, we will train with\n",
        "a learning rate of 0.01, but we will use a ``scheduler`` to decrease it\n",
        "to 0.001 during training after 20 epochs.\n",
        "\n",
        "\n"
      ]
    },
    {
      "cell_type": "code",
      "execution_count": 16,
      "metadata": {
        "id": "aJv-XIaAfhcU"
      },
      "outputs": [],
      "source": [
        "# Adam 최적화\n",
        "optimizer = optim.Adam(model.parameters(), lr=0.01, weight_decay=0.0001)\n",
        "scheduler = optim.lr_scheduler.StepLR(optimizer, step_size=20, gamma=0.1)  # reduce the learning after 20 epochs by a factor of 10"
      ]
    },
    {
      "cell_type": "markdown",
      "metadata": {
        "id": "ijUK8YETfhcU"
      },
      "source": [
        "## Training and Testing the Network\n",
        "\n",
        "Now let’s define a training function that will feed our training data\n",
        "into the model and perform the backward pass and optimization steps. For\n",
        "training, the loss we will use is the negative log-likelihood. The\n",
        "network will then be tested after each epoch to see how the accuracy\n",
        "varies during the training.\n",
        "\n",
        "\n"
      ]
    },
    {
      "cell_type": "code",
      "execution_count": 17,
      "metadata": {
        "id": "cl-dm2AgfhcU"
      },
      "outputs": [],
      "source": [
        "#훈련 기능: 훈련 데이터를 모델에 공급하고 역방향 전달 및 최적화 단계를 수행하는 훈련 함수\n",
        "def train(model, epoch, log_interval):\n",
        "    model.train()\n",
        "    for batch_idx, (data, target) in enumerate(train_loader):\n",
        "\n",
        "        data = data.to(device)\n",
        "        target = target.to(device)\n",
        "\n",
        "        # apply transform and model on whole batch directly on device\n",
        "        data = transform(data)\n",
        "        output = model(data)\n",
        "\n",
        "        # negative log-likelihood for a tensor of size (batch x 1 x n_output)\n",
        "        loss = F.nll_loss(output.squeeze(), target)\n",
        "\n",
        "        optimizer.zero_grad()\n",
        "        loss.backward()\n",
        "        optimizer.step()\n",
        "\n",
        "        # print training stats\n",
        "        if batch_idx % log_interval == 0:\n",
        "            print(f\"Train Epoch: {epoch} [{batch_idx * len(data)}/{len(train_loader.dataset)} ({100. * batch_idx / len(train_loader):.0f}%)]\\tLoss: {loss.item():.6f}\")\n",
        "\n",
        "        # update progress bar\n",
        "        pbar.update(pbar_update)\n",
        "        # record loss\n",
        "        losses.append(loss.item())\n",
        "\n",
        ""
      ]
    },
    {
      "cell_type": "markdown",
      "metadata": {
        "id": "3dnF5RB_fhcU"
      },
      "source": [
        "Now that we have a training function, we need to make one for testing\n",
        "the networks accuracy. We will set the model to ``eval()`` mode and then\n",
        "run inference on the test dataset. Calling ``eval()`` sets the training\n",
        "variable in all modules in the network to false. Certain layers like\n",
        "batch normalization and dropout layers behave differently during\n",
        "training so this step is crucial for getting correct results.\n",
        "\n",
        "\n"
      ]
    },
    {
      "cell_type": "code",
      "execution_count": 18,
      "metadata": {
        "id": "tmwZSYI4fhcU"
      },
      "outputs": [],
      "source": [
        "#테스트 기능: 네트워크 정확도를 테스트하기 위한 기능\n",
        "def number_of_correct(pred, target):\n",
        "    # count number of correct predictions\n",
        "    return pred.squeeze().eq(target).sum().item()\n",
        "\n",
        "\n",
        "def get_likely_index(tensor):\n",
        "    # find most likely label index for each element in the batch\n",
        "    return tensor.argmax(dim=-1)\n",
        "\n",
        "\n",
        "def test(model, epoch):\n",
        "    model.eval()\n",
        "    correct = 0\n",
        "    for data, target in test_loader:\n",
        "\n",
        "        data = data.to(device)\n",
        "        target = target.to(device)\n",
        "\n",
        "        # apply transform and model on whole batch directly on device\n",
        "        data = transform(data)\n",
        "        output = model(data)\n",
        "\n",
        "        pred = get_likely_index(output)\n",
        "        correct += number_of_correct(pred, target)\n",
        "\n",
        "        # update progress bar\n",
        "        pbar.update(pbar_update)\n",
        "\n",
        "    print(f\"\\nTest Epoch: {epoch}\\tAccuracy: {correct}/{len(test_loader.dataset)} ({100. * correct / len(test_loader.dataset):.0f}%)\\n\")"
      ]
    },
    {
      "cell_type": "markdown",
      "metadata": {
        "id": "SRBTAyDifhcU"
      },
      "source": [
        "Finally, we can train and test the network. We will train the network\n",
        "for ten epochs then reduce the learn rate and train for ten more epochs.\n",
        "The network will be tested after each epoch to see how the accuracy\n",
        "varies during the training.\n",
        "\n",
        "\n"
      ]
    },
    {
      "cell_type": "code",
      "execution_count": 23,
      "metadata": {
        "id": "B0lgBWgffhcV",
        "colab": {
          "base_uri": "https://localhost:8080/",
          "height": 1000
        },
        "outputId": "24443b2a-0022-4494-9975-95a957a03b68"
      },
      "outputs": [
        {
          "output_type": "stream",
          "name": "stderr",
          "text": [
            "  0%|          | 0.005333333333333333/2 [00:00<00:52, 26.08s/it]"
          ]
        },
        {
          "output_type": "stream",
          "name": "stdout",
          "text": [
            "Train Epoch: 1 [0/84843 (0%)]\tLoss: 0.376127\n"
          ]
        },
        {
          "output_type": "stream",
          "name": "stderr",
          "text": [
            "  3%|▎         | 0.06399999999999999/2 [00:01<00:50, 25.87s/it]"
          ]
        },
        {
          "output_type": "stream",
          "name": "stdout",
          "text": [
            "Train Epoch: 1 [5120/84843 (6%)]\tLoss: 0.471527\n"
          ]
        },
        {
          "output_type": "stream",
          "name": "stderr",
          "text": [
            "  6%|▌         | 0.11199999999999995/2 [00:02<00:50, 26.49s/it]"
          ]
        },
        {
          "output_type": "stream",
          "name": "stdout",
          "text": [
            "Train Epoch: 1 [10240/84843 (12%)]\tLoss: 0.598959\n"
          ]
        },
        {
          "output_type": "stream",
          "name": "stderr",
          "text": [
            "  8%|▊         | 0.16533333333333344/2 [00:04<00:48, 26.41s/it]"
          ]
        },
        {
          "output_type": "stream",
          "name": "stdout",
          "text": [
            "Train Epoch: 1 [15360/84843 (18%)]\tLoss: 0.535726\n"
          ]
        },
        {
          "output_type": "stream",
          "name": "stderr",
          "text": [
            " 11%|█         | 0.218666666666667/2 [00:05<00:49, 27.62s/it]  "
          ]
        },
        {
          "output_type": "stream",
          "name": "stdout",
          "text": [
            "Train Epoch: 1 [20480/84843 (24%)]\tLoss: 0.511869\n"
          ]
        },
        {
          "output_type": "stream",
          "name": "stderr",
          "text": [
            " 14%|█▎        | 0.27200000000000035/2 [00:07<00:46, 26.91s/it]"
          ]
        },
        {
          "output_type": "stream",
          "name": "stdout",
          "text": [
            "Train Epoch: 1 [25600/84843 (30%)]\tLoss: 0.477835\n"
          ]
        },
        {
          "output_type": "stream",
          "name": "stderr",
          "text": [
            " 16%|█▋        | 0.32533333333333336/2 [00:08<00:43, 25.75s/it]"
          ]
        },
        {
          "output_type": "stream",
          "name": "stdout",
          "text": [
            "Train Epoch: 1 [30720/84843 (36%)]\tLoss: 0.481216\n"
          ]
        },
        {
          "output_type": "stream",
          "name": "stderr",
          "text": [
            " 19%|█▉        | 0.3786666666666664/2 [00:09<00:41, 25.81s/it]"
          ]
        },
        {
          "output_type": "stream",
          "name": "stdout",
          "text": [
            "Train Epoch: 1 [35840/84843 (42%)]\tLoss: 0.649258\n"
          ]
        },
        {
          "output_type": "stream",
          "name": "stderr",
          "text": [
            " 22%|██▏       | 0.4373333333333327/2 [00:11<00:40, 25.64s/it]"
          ]
        },
        {
          "output_type": "stream",
          "name": "stdout",
          "text": [
            "Train Epoch: 1 [40960/84843 (48%)]\tLoss: 0.433526\n"
          ]
        },
        {
          "output_type": "stream",
          "name": "stderr",
          "text": [
            " 24%|██▍       | 0.4853333333333324/2 [00:12<00:38, 25.64s/it]"
          ]
        },
        {
          "output_type": "stream",
          "name": "stdout",
          "text": [
            "Train Epoch: 1 [46080/84843 (54%)]\tLoss: 0.588543\n"
          ]
        },
        {
          "output_type": "stream",
          "name": "stderr",
          "text": [
            " 27%|██▋       | 0.5386666666666662/2 [00:14<00:37, 25.65s/it]"
          ]
        },
        {
          "output_type": "stream",
          "name": "stdout",
          "text": [
            "Train Epoch: 1 [51200/84843 (60%)]\tLoss: 0.654420\n"
          ]
        },
        {
          "output_type": "stream",
          "name": "stderr",
          "text": [
            " 30%|██▉       | 0.5973333333333337/2 [00:15<00:35, 25.55s/it]"
          ]
        },
        {
          "output_type": "stream",
          "name": "stdout",
          "text": [
            "Train Epoch: 1 [56320/84843 (66%)]\tLoss: 0.507345\n"
          ]
        },
        {
          "output_type": "stream",
          "name": "stderr",
          "text": [
            " 33%|███▎      | 0.6506666666666678/2 [00:16<00:35, 26.12s/it]"
          ]
        },
        {
          "output_type": "stream",
          "name": "stdout",
          "text": [
            "Train Epoch: 1 [61440/84843 (72%)]\tLoss: 0.428288\n"
          ]
        },
        {
          "output_type": "stream",
          "name": "stderr",
          "text": [
            " 35%|███▍      | 0.6986666666666685/2 [00:18<00:33, 25.77s/it]"
          ]
        },
        {
          "output_type": "stream",
          "name": "stdout",
          "text": [
            "Train Epoch: 1 [66560/84843 (78%)]\tLoss: 0.511144\n"
          ]
        },
        {
          "output_type": "stream",
          "name": "stderr",
          "text": [
            " 38%|███▊      | 0.7520000000000027/2 [00:19<00:34, 27.80s/it]"
          ]
        },
        {
          "output_type": "stream",
          "name": "stdout",
          "text": [
            "Train Epoch: 1 [71680/84843 (84%)]\tLoss: 0.501714\n"
          ]
        },
        {
          "output_type": "stream",
          "name": "stderr",
          "text": [
            " 40%|████      | 0.8053333333333368/2 [00:21<00:31, 26.20s/it]"
          ]
        },
        {
          "output_type": "stream",
          "name": "stdout",
          "text": [
            "Train Epoch: 1 [76800/84843 (90%)]\tLoss: 0.522246\n"
          ]
        },
        {
          "output_type": "stream",
          "name": "stderr",
          "text": [
            " 43%|████▎     | 0.8586666666666709/2 [00:22<00:30, 27.13s/it]"
          ]
        },
        {
          "output_type": "stream",
          "name": "stdout",
          "text": [
            "Train Epoch: 1 [81920/84843 (96%)]\tLoss: 0.619052\n"
          ]
        },
        {
          "output_type": "stream",
          "name": "stderr",
          "text": [
            " 50%|█████     | 1.0026666666666728/2 [00:26<00:24, 25.05s/it]"
          ]
        },
        {
          "output_type": "stream",
          "name": "stdout",
          "text": [
            "\n",
            "Test Epoch: 1\tAccuracy: 8877/11005 (81%)\n",
            "\n",
            "Train Epoch: 2 [0/84843 (0%)]\tLoss: 0.538891\n"
          ]
        },
        {
          "output_type": "stream",
          "name": "stderr",
          "text": [
            " 53%|█████▎    | 1.061333333333338/2 [00:27<00:24, 26.16s/it] "
          ]
        },
        {
          "output_type": "stream",
          "name": "stdout",
          "text": [
            "Train Epoch: 2 [5120/84843 (6%)]\tLoss: 0.427526\n"
          ]
        },
        {
          "output_type": "stream",
          "name": "stderr",
          "text": [
            " 56%|█████▌    | 1.1146666666666698/2 [00:28<00:23, 26.04s/it]"
          ]
        },
        {
          "output_type": "stream",
          "name": "stdout",
          "text": [
            "Train Epoch: 2 [10240/84843 (12%)]\tLoss: 0.430820\n"
          ]
        },
        {
          "output_type": "stream",
          "name": "stderr",
          "text": [
            " 58%|█████▊    | 1.1680000000000017/2 [00:30<00:21, 25.71s/it]"
          ]
        },
        {
          "output_type": "stream",
          "name": "stdout",
          "text": [
            "Train Epoch: 2 [15360/84843 (18%)]\tLoss: 0.435227\n"
          ]
        },
        {
          "output_type": "stream",
          "name": "stderr",
          "text": [
            " 61%|██████    | 1.2213333333333336/2 [00:31<00:19, 25.47s/it]"
          ]
        },
        {
          "output_type": "stream",
          "name": "stdout",
          "text": [
            "Train Epoch: 2 [20480/84843 (24%)]\tLoss: 0.505842\n"
          ]
        },
        {
          "output_type": "stream",
          "name": "stderr",
          "text": [
            " 64%|██████▎   | 1.2746666666666655/2 [00:33<00:18, 25.64s/it]"
          ]
        },
        {
          "output_type": "stream",
          "name": "stdout",
          "text": [
            "Train Epoch: 2 [25600/84843 (30%)]\tLoss: 0.549162\n"
          ]
        },
        {
          "output_type": "stream",
          "name": "stderr",
          "text": [
            " 66%|██████▋   | 1.3279999999999974/2 [00:34<00:17, 26.31s/it]"
          ]
        },
        {
          "output_type": "stream",
          "name": "stdout",
          "text": [
            "Train Epoch: 2 [30720/84843 (36%)]\tLoss: 0.461180\n"
          ]
        },
        {
          "output_type": "stream",
          "name": "stderr",
          "text": [
            " 69%|██████▉   | 1.3813333333333293/2 [00:36<00:18, 29.70s/it]"
          ]
        },
        {
          "output_type": "stream",
          "name": "stdout",
          "text": [
            "Train Epoch: 2 [35840/84843 (42%)]\tLoss: 0.519324\n"
          ]
        },
        {
          "output_type": "stream",
          "name": "stderr",
          "text": [
            " 72%|███████▏  | 1.4346666666666612/2 [00:37<00:14, 26.29s/it]"
          ]
        },
        {
          "output_type": "stream",
          "name": "stdout",
          "text": [
            "Train Epoch: 2 [40960/84843 (48%)]\tLoss: 0.465115\n"
          ]
        },
        {
          "output_type": "stream",
          "name": "stderr",
          "text": [
            " 74%|███████▍  | 1.487999999999993/2 [00:38<00:13, 26.75s/it]"
          ]
        },
        {
          "output_type": "stream",
          "name": "stdout",
          "text": [
            "Train Epoch: 2 [46080/84843 (54%)]\tLoss: 0.568367\n"
          ]
        },
        {
          "output_type": "stream",
          "name": "stderr",
          "text": [
            " 77%|███████▋  | 1.541333333333325/2 [00:40<00:14, 31.70s/it] "
          ]
        },
        {
          "output_type": "stream",
          "name": "stdout",
          "text": [
            "Train Epoch: 2 [51200/84843 (60%)]\tLoss: 0.495091\n"
          ]
        },
        {
          "output_type": "stream",
          "name": "stderr",
          "text": [
            " 80%|███████▉  | 1.594666666666657/2 [00:41<00:10, 25.81s/it] "
          ]
        },
        {
          "output_type": "stream",
          "name": "stdout",
          "text": [
            "Train Epoch: 2 [56320/84843 (66%)]\tLoss: 0.495900\n"
          ]
        },
        {
          "output_type": "stream",
          "name": "stderr",
          "text": [
            " 82%|████████▏ | 1.6479999999999888/2 [00:43<00:09, 25.93s/it]"
          ]
        },
        {
          "output_type": "stream",
          "name": "stdout",
          "text": [
            "Train Epoch: 2 [61440/84843 (72%)]\tLoss: 0.543832\n"
          ]
        },
        {
          "output_type": "stream",
          "name": "stderr",
          "text": [
            " 85%|████████▌ | 1.7013333333333207/2 [00:44<00:07, 26.67s/it]"
          ]
        },
        {
          "output_type": "stream",
          "name": "stdout",
          "text": [
            "Train Epoch: 2 [66560/84843 (78%)]\tLoss: 0.466952\n"
          ]
        },
        {
          "output_type": "stream",
          "name": "stderr",
          "text": [
            " 88%|████████▊ | 1.7546666666666526/2 [00:45<00:06, 25.16s/it]"
          ]
        },
        {
          "output_type": "stream",
          "name": "stdout",
          "text": [
            "Train Epoch: 2 [71680/84843 (84%)]\tLoss: 0.530675\n"
          ]
        },
        {
          "output_type": "stream",
          "name": "stderr",
          "text": [
            " 90%|█████████ | 1.8079999999999845/2 [00:47<00:05, 26.24s/it]"
          ]
        },
        {
          "output_type": "stream",
          "name": "stdout",
          "text": [
            "Train Epoch: 2 [76800/84843 (90%)]\tLoss: 0.509957\n"
          ]
        },
        {
          "output_type": "stream",
          "name": "stderr",
          "text": [
            " 93%|█████████▎| 1.8613333333333164/2 [00:48<00:03, 26.43s/it]"
          ]
        },
        {
          "output_type": "stream",
          "name": "stdout",
          "text": [
            "Train Epoch: 2 [81920/84843 (96%)]\tLoss: 0.696699\n"
          ]
        },
        {
          "output_type": "stream",
          "name": "stderr",
          "text": [
            "100%|█████████▉| 1.9999999999999793/2 [00:52<00:00, 26.13s/it]\n"
          ]
        },
        {
          "output_type": "stream",
          "name": "stdout",
          "text": [
            "\n",
            "Test Epoch: 2\tAccuracy: 8802/11005 (80%)\n",
            "\n"
          ]
        },
        {
          "output_type": "display_data",
          "data": {
            "text/plain": [
              "<Figure size 1000x400 with 3 Axes>"
            ],
            "image/png": "[encoded data removed]"
          },
          "metadata": {}
        }
      ],
      "source": [
        "import matplotlib.pyplot as plt\n",
        "#2에포크일 경우일 경우\n",
        "log_interval = 20\n",
        "n_epoch = 2\n",
        "\n",
        "pbar_update = 1 / (len(train_loader) + len(test_loader))\n",
        "losses = []\n",
        "\n",
        "# Lists to store data for plotting\n",
        "learning_rates = []\n",
        "training_losses = []\n",
        "test_accuracies = []\n",
        "\n",
        "# The transform needs to live on the same device as the model and the data.\n",
        "transform = transform.to(device)\n",
        "with tqdm(total=n_epoch) as pbar:\n",
        "    for epoch in range(1, n_epoch + 1):\n",
        "        train(model, epoch, log_interval)\n",
        "        test_acc = test(model, epoch)  # Store the returned accuracy in test_acc\n",
        "        scheduler.step()\n",
        "\n",
        "        # Record learning rate\n",
        "        learning_rates.append(optimizer.param_groups[0]['lr'])\n",
        "\n",
        "        # Record training loss\n",
        "        training_losses.append(losses[-1])\n",
        "\n",
        "        # Record test accuracy\n",
        "        test_accuracies.append(test_acc)  # Use test_acc\n",
        "\n",
        "# Plot learning rate\n",
        "plt.figure(figsize=(10, 4))\n",
        "plt.subplot(1, 3, 1)\n",
        "plt.plot(learning_rates)\n",
        "plt.title(\"Learning Rate\")\n",
        "plt.xlabel(\"Epoch\")\n",
        "\n",
        "# Plot training loss\n",
        "plt.subplot(1, 3, 2)\n",
        "plt.plot(training_losses)\n",
        "plt.title(\"Training Loss\")\n",
        "plt.xlabel(\"Epoch\")\n",
        "\n",
        "# Plot test accuracy\n",
        "plt.subplot(1, 3, 3)\n",
        "plt.plot(test_accuracies)\n",
        "plt.title(\"Test Accuracy\")\n",
        "plt.xlabel(\"Epoch\")\n",
        "\n",
        "plt.tight_layout()\n",
        "plt.show()"
      ]
    },
    {
      "cell_type": "code",
      "source": [
        "import matplotlib.pyplot as plt\n",
        "#21에포크일 경우\n",
        "log_interval = 20\n",
        "n_epoch = 21\n",
        "\n",
        "pbar_update = 1 / (len(train_loader) + len(test_loader))\n",
        "losses = []\n",
        "\n",
        "# Lists to store data for plotting\n",
        "learning_rates = []\n",
        "training_losses = []\n",
        "test_accuracies = []\n",
        "\n",
        "# The transform needs to live on the same device as the model and the data.\n",
        "transform = transform.to(device)\n",
        "with tqdm(total=n_epoch) as pbar:\n",
        "    for epoch in range(1, n_epoch + 1):\n",
        "        train(model, epoch, log_interval)\n",
        "        test_acc = test(model, epoch)  # Store the returned accuracy in test_acc\n",
        "        scheduler.step()\n",
        "\n",
        "        # Record learning rate\n",
        "        learning_rates.append(optimizer.param_groups[0]['lr'])\n",
        "\n",
        "        # Record training loss\n",
        "        training_losses.append(losses[-1])\n",
        "\n",
        "        # Record test accuracy\n",
        "        test_accuracies.append(test_acc)  # Use test_acc\n",
        "\n",
        "# Plot learning rate\n",
        "plt.figure(figsize=(10, 4))\n",
        "plt.subplot(1, 3, 1)\n",
        "plt.plot(learning_rates)\n",
        "plt.title(\"Learning Rate\")\n",
        "plt.xlabel(\"Epoch\")\n",
        "\n",
        "# Plot training loss\n",
        "plt.subplot(1, 3, 2)\n",
        "plt.plot(training_losses)\n",
        "plt.title(\"Training Loss\")\n",
        "plt.xlabel(\"Epoch\")\n",
        "\n",
        "# Plot test accuracy\n",
        "plt.subplot(1, 3, 3)\n",
        "plt.plot(test_accuracies)\n",
        "plt.title(\"Test Accuracy\")\n",
        "plt.xlabel(\"Epoch\")\n",
        "\n",
        "plt.tight_layout()\n",
        "plt.show()\n"
      ],
      "metadata": {
        "colab": {
          "base_uri": "https://localhost:8080/",
          "height": 1000
        },
        "id": "PXFR23kVhom1",
        "outputId": "ce217832-6fa3-4c99-cece-b90673516b87"
      },
      "execution_count": 24,
      "outputs": [
        {
          "output_type": "stream",
          "name": "stderr",
          "text": [
            "  0%|          | 0.005333333333333333/21 [00:00<10:12, 29.15s/it]"
          ]
        },
        {
          "output_type": "stream",
          "name": "stdout",
          "text": [
            "Train Epoch: 1 [0/84843 (0%)]\tLoss: 0.433660\n"
          ]
        },
        {
          "output_type": "stream",
          "name": "stderr",
          "text": [
            "  0%|          | 0.05866666666666665/21 [00:01<09:18, 26.69s/it]"
          ]
        },
        {
          "output_type": "stream",
          "name": "stdout",
          "text": [
            "Train Epoch: 1 [5120/84843 (6%)]\tLoss: 0.446144\n"
          ]
        },
        {
          "output_type": "stream",
          "name": "stderr",
          "text": [
            "  1%|          | 0.11733333333333328/21 [00:03<09:16, 26.64s/it]"
          ]
        },
        {
          "output_type": "stream",
          "name": "stdout",
          "text": [
            "Train Epoch: 1 [10240/84843 (12%)]\tLoss: 0.635170\n"
          ]
        },
        {
          "output_type": "stream",
          "name": "stderr",
          "text": [
            "  1%|          | 0.16533333333333344/21 [00:04<09:02, 26.03s/it]"
          ]
        },
        {
          "output_type": "stream",
          "name": "stdout",
          "text": [
            "Train Epoch: 1 [15360/84843 (18%)]\tLoss: 0.489963\n"
          ]
        },
        {
          "output_type": "stream",
          "name": "stderr",
          "text": [
            "  1%|          | 0.218666666666667/21 [00:05<09:02, 26.12s/it]  "
          ]
        },
        {
          "output_type": "stream",
          "name": "stdout",
          "text": [
            "Train Epoch: 1 [20480/84843 (24%)]\tLoss: 0.501023\n"
          ]
        },
        {
          "output_type": "stream",
          "name": "stderr",
          "text": [
            "  1%|▏         | 0.27200000000000035/21 [00:07<08:52, 25.67s/it]"
          ]
        },
        {
          "output_type": "stream",
          "name": "stdout",
          "text": [
            "Train Epoch: 1 [25600/84843 (30%)]\tLoss: 0.476164\n"
          ]
        },
        {
          "output_type": "stream",
          "name": "stderr",
          "text": [
            "  2%|▏         | 0.32533333333333336/21 [00:08<09:04, 26.33s/it]"
          ]
        },
        {
          "output_type": "stream",
          "name": "stdout",
          "text": [
            "Train Epoch: 1 [30720/84843 (36%)]\tLoss: 0.586615\n"
          ]
        },
        {
          "output_type": "stream",
          "name": "stderr",
          "text": [
            "  2%|▏         | 0.3786666666666664/21 [00:09<08:47, 25.59s/it]"
          ]
        },
        {
          "output_type": "stream",
          "name": "stdout",
          "text": [
            "Train Epoch: 1 [35840/84843 (42%)]\tLoss: 0.480592\n"
          ]
        },
        {
          "output_type": "stream",
          "name": "stderr",
          "text": [
            "  2%|▏         | 0.4319999999999994/21 [00:11<08:42, 25.38s/it]"
          ]
        },
        {
          "output_type": "stream",
          "name": "stdout",
          "text": [
            "Train Epoch: 1 [40960/84843 (48%)]\tLoss: 0.528905\n"
          ]
        },
        {
          "output_type": "stream",
          "name": "stderr",
          "text": [
            "  2%|▏         | 0.4906666666666657/21 [00:12<08:38, 25.26s/it]"
          ]
        },
        {
          "output_type": "stream",
          "name": "stdout",
          "text": [
            "Train Epoch: 1 [46080/84843 (54%)]\tLoss: 0.502744\n"
          ]
        },
        {
          "output_type": "stream",
          "name": "stderr",
          "text": [
            "  3%|▎         | 0.5386666666666662/21 [00:14<08:57, 26.25s/it]"
          ]
        },
        {
          "output_type": "stream",
          "name": "stdout",
          "text": [
            "Train Epoch: 1 [51200/84843 (60%)]\tLoss: 0.463023\n"
          ]
        },
        {
          "output_type": "stream",
          "name": "stderr",
          "text": [
            "  3%|▎         | 0.5920000000000003/21 [00:15<09:04, 26.68s/it]"
          ]
        },
        {
          "output_type": "stream",
          "name": "stdout",
          "text": [
            "Train Epoch: 1 [56320/84843 (66%)]\tLoss: 0.463144\n"
          ]
        },
        {
          "output_type": "stream",
          "name": "stderr",
          "text": [
            "  3%|▎         | 0.6453333333333344/21 [00:16<09:07, 26.89s/it]"
          ]
        },
        {
          "output_type": "stream",
          "name": "stdout",
          "text": [
            "Train Epoch: 1 [61440/84843 (72%)]\tLoss: 0.564320\n"
          ]
        },
        {
          "output_type": "stream",
          "name": "stderr",
          "text": [
            "  3%|▎         | 0.6986666666666685/21 [00:18<08:55, 26.39s/it]"
          ]
        },
        {
          "output_type": "stream",
          "name": "stdout",
          "text": [
            "Train Epoch: 1 [66560/84843 (78%)]\tLoss: 0.657629\n"
          ]
        },
        {
          "output_type": "stream",
          "name": "stderr",
          "text": [
            "  4%|▎         | 0.7520000000000027/21 [00:19<08:44, 25.92s/it]"
          ]
        },
        {
          "output_type": "stream",
          "name": "stdout",
          "text": [
            "Train Epoch: 1 [71680/84843 (84%)]\tLoss: 0.601310\n"
          ]
        },
        {
          "output_type": "stream",
          "name": "stderr",
          "text": [
            "  4%|▍         | 0.8106666666666702/21 [00:21<08:44, 25.98s/it]"
          ]
        },
        {
          "output_type": "stream",
          "name": "stdout",
          "text": [
            "Train Epoch: 1 [76800/84843 (90%)]\tLoss: 0.525599\n"
          ]
        },
        {
          "output_type": "stream",
          "name": "stderr",
          "text": [
            "  4%|▍         | 0.8586666666666709/21 [00:22<08:38, 25.77s/it]"
          ]
        },
        {
          "output_type": "stream",
          "name": "stdout",
          "text": [
            "Train Epoch: 1 [81920/84843 (96%)]\tLoss: 0.623921\n"
          ]
        },
        {
          "output_type": "stream",
          "name": "stderr",
          "text": [
            "  5%|▍         | 1.0026666666666728/21 [00:25<08:07, 24.39s/it]"
          ]
        },
        {
          "output_type": "stream",
          "name": "stdout",
          "text": [
            "\n",
            "Test Epoch: 1\tAccuracy: 8930/11005 (81%)\n",
            "\n",
            "Train Epoch: 2 [0/84843 (0%)]\tLoss: 0.505769\n"
          ]
        },
        {
          "output_type": "stream",
          "name": "stderr",
          "text": [
            "  5%|▌         | 1.061333333333338/21 [00:27<08:27, 25.45s/it] "
          ]
        },
        {
          "output_type": "stream",
          "name": "stdout",
          "text": [
            "Train Epoch: 2 [5120/84843 (6%)]\tLoss: 0.527238\n"
          ]
        },
        {
          "output_type": "stream",
          "name": "stderr",
          "text": [
            "  5%|▌         | 1.1146666666666698/21 [00:28<08:33, 25.83s/it]"
          ]
        },
        {
          "output_type": "stream",
          "name": "stdout",
          "text": [
            "Train Epoch: 2 [10240/84843 (12%)]\tLoss: 0.449477\n"
          ]
        },
        {
          "output_type": "stream",
          "name": "stderr",
          "text": [
            "  6%|▌         | 1.1680000000000017/21 [00:30<08:46, 26.55s/it]"
          ]
        },
        {
          "output_type": "stream",
          "name": "stdout",
          "text": [
            "Train Epoch: 2 [15360/84843 (18%)]\tLoss: 0.434920\n"
          ]
        },
        {
          "output_type": "stream",
          "name": "stderr",
          "text": [
            "  6%|▌         | 1.2213333333333336/21 [00:31<08:45, 26.57s/it]"
          ]
        },
        {
          "output_type": "stream",
          "name": "stdout",
          "text": [
            "Train Epoch: 2 [20480/84843 (24%)]\tLoss: 0.560673\n"
          ]
        },
        {
          "output_type": "stream",
          "name": "stderr",
          "text": [
            "  6%|▌         | 1.2746666666666655/21 [00:33<08:50, 26.91s/it]"
          ]
        },
        {
          "output_type": "stream",
          "name": "stdout",
          "text": [
            "Train Epoch: 2 [25600/84843 (30%)]\tLoss: 0.360373\n"
          ]
        },
        {
          "output_type": "stream",
          "name": "stderr",
          "text": [
            "  6%|▋         | 1.3279999999999974/21 [00:34<08:43, 26.61s/it]"
          ]
        },
        {
          "output_type": "stream",
          "name": "stdout",
          "text": [
            "Train Epoch: 2 [30720/84843 (36%)]\tLoss: 0.584531\n"
          ]
        },
        {
          "output_type": "stream",
          "name": "stderr",
          "text": [
            "  7%|▋         | 1.3813333333333293/21 [00:35<08:36, 26.33s/it]"
          ]
        },
        {
          "output_type": "stream",
          "name": "stdout",
          "text": [
            "Train Epoch: 2 [35840/84843 (42%)]\tLoss: 0.583669\n"
          ]
        },
        {
          "output_type": "stream",
          "name": "stderr",
          "text": [
            "  7%|▋         | 1.4346666666666612/21 [00:37<08:26, 25.90s/it]"
          ]
        },
        {
          "output_type": "stream",
          "name": "stdout",
          "text": [
            "Train Epoch: 2 [40960/84843 (48%)]\tLoss: 0.535647\n"
          ]
        },
        {
          "output_type": "stream",
          "name": "stderr",
          "text": [
            "  7%|▋         | 1.487999999999993/21 [00:38<08:22, 25.77s/it]"
          ]
        },
        {
          "output_type": "stream",
          "name": "stdout",
          "text": [
            "Train Epoch: 2 [46080/84843 (54%)]\tLoss: 0.594826\n"
          ]
        },
        {
          "output_type": "stream",
          "name": "stderr",
          "text": [
            "  7%|▋         | 1.541333333333325/21 [00:40<08:21, 25.78s/it] "
          ]
        },
        {
          "output_type": "stream",
          "name": "stdout",
          "text": [
            "Train Epoch: 2 [51200/84843 (60%)]\tLoss: 0.574466\n"
          ]
        },
        {
          "output_type": "stream",
          "name": "stderr",
          "text": [
            "  8%|▊         | 1.594666666666657/21 [00:41<08:22, 25.90s/it] "
          ]
        },
        {
          "output_type": "stream",
          "name": "stdout",
          "text": [
            "Train Epoch: 2 [56320/84843 (66%)]\tLoss: 0.509692\n"
          ]
        },
        {
          "output_type": "stream",
          "name": "stderr",
          "text": [
            "  8%|▊         | 1.6479999999999888/21 [00:42<08:17, 25.70s/it]"
          ]
        },
        {
          "output_type": "stream",
          "name": "stdout",
          "text": [
            "Train Epoch: 2 [61440/84843 (72%)]\tLoss: 0.442984\n"
          ]
        },
        {
          "output_type": "stream",
          "name": "stderr",
          "text": [
            "  8%|▊         | 1.7013333333333207/21 [00:44<08:20, 25.93s/it]"
          ]
        },
        {
          "output_type": "stream",
          "name": "stdout",
          "text": [
            "Train Epoch: 2 [66560/84843 (78%)]\tLoss: 0.645046\n"
          ]
        },
        {
          "output_type": "stream",
          "name": "stderr",
          "text": [
            "  8%|▊         | 1.7546666666666526/21 [00:45<08:27, 26.38s/it]"
          ]
        },
        {
          "output_type": "stream",
          "name": "stdout",
          "text": [
            "Train Epoch: 2 [71680/84843 (84%)]\tLoss: 0.514484\n"
          ]
        },
        {
          "output_type": "stream",
          "name": "stderr",
          "text": [
            "  9%|▊         | 1.8079999999999845/21 [00:47<08:29, 26.53s/it]"
          ]
        },
        {
          "output_type": "stream",
          "name": "stdout",
          "text": [
            "Train Epoch: 2 [76800/84843 (90%)]\tLoss: 0.568636\n"
          ]
        },
        {
          "output_type": "stream",
          "name": "stderr",
          "text": [
            "  9%|▉         | 1.8613333333333164/21 [00:48<08:41, 27.23s/it]"
          ]
        },
        {
          "output_type": "stream",
          "name": "stdout",
          "text": [
            "Train Epoch: 2 [81920/84843 (96%)]\tLoss: 0.500265\n"
          ]
        },
        {
          "output_type": "stream",
          "name": "stderr",
          "text": [
            " 10%|▉         | 2.0053333333333128/21 [00:52<07:54, 24.97s/it]"
          ]
        },
        {
          "output_type": "stream",
          "name": "stdout",
          "text": [
            "\n",
            "Test Epoch: 2\tAccuracy: 8921/11005 (81%)\n",
            "\n",
            "Train Epoch: 3 [0/84843 (0%)]\tLoss: 0.367406\n"
          ]
        },
        {
          "output_type": "stream",
          "name": "stderr",
          "text": [
            " 10%|▉         | 2.058666666666649/21 [00:53<08:17, 26.26s/it] "
          ]
        },
        {
          "output_type": "stream",
          "name": "stdout",
          "text": [
            "Train Epoch: 3 [5120/84843 (6%)]\tLoss: 0.463532\n"
          ]
        },
        {
          "output_type": "stream",
          "name": "stderr",
          "text": [
            " 10%|█         | 2.1119999999999854/21 [00:55<08:10, 25.95s/it]"
          ]
        },
        {
          "output_type": "stream",
          "name": "stdout",
          "text": [
            "Train Epoch: 3 [10240/84843 (12%)]\tLoss: 0.549928\n"
          ]
        },
        {
          "output_type": "stream",
          "name": "stderr",
          "text": [
            " 10%|█         | 2.165333333333322/21 [00:56<08:11, 26.11s/it]"
          ]
        },
        {
          "output_type": "stream",
          "name": "stdout",
          "text": [
            "Train Epoch: 3 [15360/84843 (18%)]\tLoss: 0.495606\n"
          ]
        },
        {
          "output_type": "stream",
          "name": "stderr",
          "text": [
            " 11%|█         | 2.218666666666658/21 [00:57<08:25, 26.92s/it] "
          ]
        },
        {
          "output_type": "stream",
          "name": "stdout",
          "text": [
            "Train Epoch: 3 [20480/84843 (24%)]\tLoss: 0.540138\n"
          ]
        },
        {
          "output_type": "stream",
          "name": "stderr",
          "text": [
            " 11%|█         | 2.2719999999999945/21 [00:59<08:06, 26.00s/it]"
          ]
        },
        {
          "output_type": "stream",
          "name": "stdout",
          "text": [
            "Train Epoch: 3 [25600/84843 (30%)]\tLoss: 0.471797\n"
          ]
        },
        {
          "output_type": "stream",
          "name": "stderr",
          "text": [
            " 11%|█         | 2.325333333333331/21 [01:00<08:12, 26.36s/it]"
          ]
        },
        {
          "output_type": "stream",
          "name": "stdout",
          "text": [
            "Train Epoch: 3 [30720/84843 (36%)]\tLoss: 0.553244\n"
          ]
        },
        {
          "output_type": "stream",
          "name": "stderr",
          "text": [
            " 11%|█▏        | 2.378666666666667/21 [01:02<08:07, 26.20s/it] "
          ]
        },
        {
          "output_type": "stream",
          "name": "stdout",
          "text": [
            "Train Epoch: 3 [35840/84843 (42%)]\tLoss: 0.509568\n"
          ]
        },
        {
          "output_type": "stream",
          "name": "stderr",
          "text": [
            " 12%|█▏        | 2.4320000000000035/21 [01:03<08:13, 26.58s/it]"
          ]
        },
        {
          "output_type": "stream",
          "name": "stdout",
          "text": [
            "Train Epoch: 3 [40960/84843 (48%)]\tLoss: 0.404454\n"
          ]
        },
        {
          "output_type": "stream",
          "name": "stderr",
          "text": [
            " 12%|█▏        | 2.48533333333334/21 [01:04<08:21, 27.10s/it] "
          ]
        },
        {
          "output_type": "stream",
          "name": "stdout",
          "text": [
            "Train Epoch: 3 [46080/84843 (54%)]\tLoss: 0.543374\n"
          ]
        },
        {
          "output_type": "stream",
          "name": "stderr",
          "text": [
            " 12%|█▏        | 2.538666666666676/21 [01:06<08:17, 26.95s/it] "
          ]
        },
        {
          "output_type": "stream",
          "name": "stdout",
          "text": [
            "Train Epoch: 3 [51200/84843 (60%)]\tLoss: 0.664215\n"
          ]
        },
        {
          "output_type": "stream",
          "name": "stderr",
          "text": [
            " 12%|█▏        | 2.5920000000000125/21 [01:07<08:06, 26.45s/it]"
          ]
        },
        {
          "output_type": "stream",
          "name": "stdout",
          "text": [
            "Train Epoch: 3 [56320/84843 (66%)]\tLoss: 0.558992\n"
          ]
        },
        {
          "output_type": "stream",
          "name": "stderr",
          "text": [
            " 13%|█▎        | 2.645333333333349/21 [01:09<08:01, 26.24s/it] "
          ]
        },
        {
          "output_type": "stream",
          "name": "stdout",
          "text": [
            "Train Epoch: 3 [61440/84843 (72%)]\tLoss: 0.546791\n"
          ]
        },
        {
          "output_type": "stream",
          "name": "stderr",
          "text": [
            " 13%|█▎        | 2.698666666666685/21 [01:10<08:01, 26.30s/it] "
          ]
        },
        {
          "output_type": "stream",
          "name": "stdout",
          "text": [
            "Train Epoch: 3 [66560/84843 (78%)]\tLoss: 0.642737\n"
          ]
        },
        {
          "output_type": "stream",
          "name": "stderr",
          "text": [
            " 13%|█▎        | 2.757333333333355/21 [01:12<07:50, 25.80s/it] "
          ]
        },
        {
          "output_type": "stream",
          "name": "stdout",
          "text": [
            "Train Epoch: 3 [71680/84843 (84%)]\tLoss: 0.587837\n"
          ]
        },
        {
          "output_type": "stream",
          "name": "stderr",
          "text": [
            " 13%|█▎        | 2.805333333333358/21 [01:13<07:48, 25.77s/it] "
          ]
        },
        {
          "output_type": "stream",
          "name": "stdout",
          "text": [
            "Train Epoch: 3 [76800/84843 (90%)]\tLoss: 0.551323\n"
          ]
        },
        {
          "output_type": "stream",
          "name": "stderr",
          "text": [
            " 14%|█▎        | 2.8586666666666942/21 [01:14<07:55, 26.19s/it]"
          ]
        },
        {
          "output_type": "stream",
          "name": "stdout",
          "text": [
            "Train Epoch: 3 [81920/84843 (96%)]\tLoss: 0.543824\n"
          ]
        },
        {
          "output_type": "stream",
          "name": "stderr",
          "text": [
            " 14%|█▍        | 3.0026666666667023/21 [01:18<07:23, 24.62s/it]"
          ]
        },
        {
          "output_type": "stream",
          "name": "stdout",
          "text": [
            "\n",
            "Test Epoch: 3\tAccuracy: 8954/11005 (81%)\n",
            "\n",
            "Train Epoch: 4 [0/84843 (0%)]\tLoss: 0.548544\n"
          ]
        },
        {
          "output_type": "stream",
          "name": "stderr",
          "text": [
            " 15%|█▍        | 3.0613333333333723/21 [01:19<08:06, 27.14s/it]"
          ]
        },
        {
          "output_type": "stream",
          "name": "stdout",
          "text": [
            "Train Epoch: 4 [5120/84843 (6%)]\tLoss: 0.398840\n"
          ]
        },
        {
          "output_type": "stream",
          "name": "stderr",
          "text": [
            " 15%|█▍        | 3.1146666666667087/21 [01:21<07:59, 26.80s/it]"
          ]
        },
        {
          "output_type": "stream",
          "name": "stdout",
          "text": [
            "Train Epoch: 4 [10240/84843 (12%)]\tLoss: 0.384384\n"
          ]
        },
        {
          "output_type": "stream",
          "name": "stderr",
          "text": [
            " 15%|█▌        | 3.168000000000045/21 [01:22<07:50, 26.36s/it] "
          ]
        },
        {
          "output_type": "stream",
          "name": "stdout",
          "text": [
            "Train Epoch: 4 [15360/84843 (18%)]\tLoss: 0.518034\n"
          ]
        },
        {
          "output_type": "stream",
          "name": "stderr",
          "text": [
            " 15%|█▌        | 3.2213333333333813/21 [01:24<07:48, 26.37s/it]"
          ]
        },
        {
          "output_type": "stream",
          "name": "stdout",
          "text": [
            "Train Epoch: 4 [20480/84843 (24%)]\tLoss: 0.378161\n"
          ]
        },
        {
          "output_type": "stream",
          "name": "stderr",
          "text": [
            " 16%|█▌        | 3.2746666666667177/21 [01:25<07:46, 26.34s/it]"
          ]
        },
        {
          "output_type": "stream",
          "name": "stdout",
          "text": [
            "Train Epoch: 4 [25600/84843 (30%)]\tLoss: 0.416081\n"
          ]
        },
        {
          "output_type": "stream",
          "name": "stderr",
          "text": [
            " 16%|█▌        | 3.328000000000054/21 [01:26<07:38, 25.97s/it] "
          ]
        },
        {
          "output_type": "stream",
          "name": "stdout",
          "text": [
            "Train Epoch: 4 [30720/84843 (36%)]\tLoss: 0.362394\n"
          ]
        },
        {
          "output_type": "stream",
          "name": "stderr",
          "text": [
            " 16%|█▌        | 3.3813333333333904/21 [01:28<07:31, 25.61s/it]"
          ]
        },
        {
          "output_type": "stream",
          "name": "stdout",
          "text": [
            "Train Epoch: 4 [35840/84843 (42%)]\tLoss: 0.434338\n"
          ]
        },
        {
          "output_type": "stream",
          "name": "stderr",
          "text": [
            " 16%|█▋        | 3.4346666666667267/21 [01:29<07:33, 25.80s/it]"
          ]
        },
        {
          "output_type": "stream",
          "name": "stdout",
          "text": [
            "Train Epoch: 4 [40960/84843 (48%)]\tLoss: 0.360251\n"
          ]
        },
        {
          "output_type": "stream",
          "name": "stderr",
          "text": [
            " 17%|█▋        | 3.488000000000063/21 [01:31<07:33, 25.90s/it] "
          ]
        },
        {
          "output_type": "stream",
          "name": "stdout",
          "text": [
            "Train Epoch: 4 [46080/84843 (54%)]\tLoss: 0.370926\n"
          ]
        },
        {
          "output_type": "stream",
          "name": "stderr",
          "text": [
            " 17%|█▋        | 3.5413333333333994/21 [01:32<07:28, 25.71s/it]"
          ]
        },
        {
          "output_type": "stream",
          "name": "stdout",
          "text": [
            "Train Epoch: 4 [51200/84843 (60%)]\tLoss: 0.314219\n"
          ]
        },
        {
          "output_type": "stream",
          "name": "stderr",
          "text": [
            " 17%|█▋        | 3.5946666666667357/21 [01:33<07:34, 26.12s/it]"
          ]
        },
        {
          "output_type": "stream",
          "name": "stdout",
          "text": [
            "Train Epoch: 4 [56320/84843 (66%)]\tLoss: 0.277601\n"
          ]
        },
        {
          "output_type": "stream",
          "name": "stderr",
          "text": [
            " 17%|█▋        | 3.648000000000072/21 [01:35<07:39, 26.49s/it] "
          ]
        },
        {
          "output_type": "stream",
          "name": "stdout",
          "text": [
            "Train Epoch: 4 [61440/84843 (72%)]\tLoss: 0.296249\n"
          ]
        },
        {
          "output_type": "stream",
          "name": "stderr",
          "text": [
            " 18%|█▊        | 3.7013333333334084/21 [01:36<07:44, 26.84s/it]"
          ]
        },
        {
          "output_type": "stream",
          "name": "stdout",
          "text": [
            "Train Epoch: 4 [66560/84843 (78%)]\tLoss: 0.434895\n"
          ]
        },
        {
          "output_type": "stream",
          "name": "stderr",
          "text": [
            " 18%|█▊        | 3.7546666666667448/21 [01:38<07:36, 26.48s/it]"
          ]
        },
        {
          "output_type": "stream",
          "name": "stdout",
          "text": [
            "Train Epoch: 4 [71680/84843 (84%)]\tLoss: 0.407163\n"
          ]
        },
        {
          "output_type": "stream",
          "name": "stderr",
          "text": [
            " 18%|█▊        | 3.808000000000081/21 [01:39<07:49, 27.29s/it] "
          ]
        },
        {
          "output_type": "stream",
          "name": "stdout",
          "text": [
            "Train Epoch: 4 [76800/84843 (90%)]\tLoss: 0.494486\n"
          ]
        },
        {
          "output_type": "stream",
          "name": "stderr",
          "text": [
            " 18%|█▊        | 3.8613333333334174/21 [01:40<07:25, 25.97s/it]"
          ]
        },
        {
          "output_type": "stream",
          "name": "stdout",
          "text": [
            "Train Epoch: 4 [81920/84843 (96%)]\tLoss: 0.413284\n"
          ]
        },
        {
          "output_type": "stream",
          "name": "stderr",
          "text": [
            " 19%|█▉        | 4.005333333333424/21 [01:44<07:03, 24.93s/it] "
          ]
        },
        {
          "output_type": "stream",
          "name": "stdout",
          "text": [
            "\n",
            "Test Epoch: 4\tAccuracy: 9361/11005 (85%)\n",
            "\n",
            "Train Epoch: 5 [0/84843 (0%)]\tLoss: 0.291706\n"
          ]
        },
        {
          "output_type": "stream",
          "name": "stderr",
          "text": [
            " 19%|█▉        | 4.058666666666752/21 [01:45<07:18, 25.86s/it]"
          ]
        },
        {
          "output_type": "stream",
          "name": "stdout",
          "text": [
            "Train Epoch: 5 [5120/84843 (6%)]\tLoss: 0.337808\n"
          ]
        },
        {
          "output_type": "stream",
          "name": "stderr",
          "text": [
            " 20%|█▉        | 4.117333333333412/21 [01:47<07:10, 25.49s/it]"
          ]
        },
        {
          "output_type": "stream",
          "name": "stdout",
          "text": [
            "Train Epoch: 5 [10240/84843 (12%)]\tLoss: 0.297029\n"
          ]
        },
        {
          "output_type": "stream",
          "name": "stderr",
          "text": [
            " 20%|█▉        | 4.165333333333407/21 [01:48<07:17, 26.01s/it]"
          ]
        },
        {
          "output_type": "stream",
          "name": "stdout",
          "text": [
            "Train Epoch: 5 [15360/84843 (18%)]\tLoss: 0.329730\n"
          ]
        },
        {
          "output_type": "stream",
          "name": "stderr",
          "text": [
            " 20%|██        | 4.218666666666734/21 [01:49<07:18, 26.10s/it]"
          ]
        },
        {
          "output_type": "stream",
          "name": "stdout",
          "text": [
            "Train Epoch: 5 [20480/84843 (24%)]\tLoss: 0.294073\n"
          ]
        },
        {
          "output_type": "stream",
          "name": "stderr",
          "text": [
            " 20%|██        | 4.2720000000000615/21 [01:51<07:15, 26.06s/it]"
          ]
        },
        {
          "output_type": "stream",
          "name": "stdout",
          "text": [
            "Train Epoch: 5 [25600/84843 (30%)]\tLoss: 0.259287\n"
          ]
        },
        {
          "output_type": "stream",
          "name": "stderr",
          "text": [
            " 21%|██        | 4.325333333333389/21 [01:52<07:26, 26.78s/it]"
          ]
        },
        {
          "output_type": "stream",
          "name": "stdout",
          "text": [
            "Train Epoch: 5 [30720/84843 (36%)]\tLoss: 0.347653\n"
          ]
        },
        {
          "output_type": "stream",
          "name": "stderr",
          "text": [
            " 21%|██        | 4.3786666666667164/21 [01:54<07:19, 26.47s/it]"
          ]
        },
        {
          "output_type": "stream",
          "name": "stdout",
          "text": [
            "Train Epoch: 5 [35840/84843 (42%)]\tLoss: 0.415733\n"
          ]
        },
        {
          "output_type": "stream",
          "name": "stderr",
          "text": [
            " 21%|██        | 4.432000000000044/21 [01:55<07:20, 26.58s/it]"
          ]
        },
        {
          "output_type": "stream",
          "name": "stdout",
          "text": [
            "Train Epoch: 5 [40960/84843 (48%)]\tLoss: 0.335304\n"
          ]
        },
        {
          "output_type": "stream",
          "name": "stderr",
          "text": [
            " 21%|██▏       | 4.485333333333371/21 [01:56<07:09, 26.01s/it]"
          ]
        },
        {
          "output_type": "stream",
          "name": "stdout",
          "text": [
            "Train Epoch: 5 [46080/84843 (54%)]\tLoss: 0.327303\n"
          ]
        },
        {
          "output_type": "stream",
          "name": "stderr",
          "text": [
            " 22%|██▏       | 4.538666666666699/21 [01:58<07:08, 26.02s/it]"
          ]
        },
        {
          "output_type": "stream",
          "name": "stdout",
          "text": [
            "Train Epoch: 5 [51200/84843 (60%)]\tLoss: 0.328734\n"
          ]
        },
        {
          "output_type": "stream",
          "name": "stderr",
          "text": [
            " 22%|██▏       | 4.592000000000026/21 [01:59<07:06, 26.00s/it] "
          ]
        },
        {
          "output_type": "stream",
          "name": "stdout",
          "text": [
            "Train Epoch: 5 [56320/84843 (66%)]\tLoss: 0.446797\n"
          ]
        },
        {
          "output_type": "stream",
          "name": "stderr",
          "text": [
            " 22%|██▏       | 4.645333333333354/21 [02:01<07:05, 26.03s/it]"
          ]
        },
        {
          "output_type": "stream",
          "name": "stdout",
          "text": [
            "Train Epoch: 5 [61440/84843 (72%)]\tLoss: 0.304032\n"
          ]
        },
        {
          "output_type": "stream",
          "name": "stderr",
          "text": [
            " 22%|██▏       | 4.698666666666681/21 [02:02<06:56, 25.52s/it] "
          ]
        },
        {
          "output_type": "stream",
          "name": "stdout",
          "text": [
            "Train Epoch: 5 [66560/84843 (78%)]\tLoss: 0.305493\n"
          ]
        },
        {
          "output_type": "stream",
          "name": "stderr",
          "text": [
            " 23%|██▎       | 4.752000000000009/21 [02:03<06:56, 25.66s/it]"
          ]
        },
        {
          "output_type": "stream",
          "name": "stdout",
          "text": [
            "Train Epoch: 5 [71680/84843 (84%)]\tLoss: 0.505179\n"
          ]
        },
        {
          "output_type": "stream",
          "name": "stderr",
          "text": [
            " 23%|██▎       | 4.805333333333336/21 [02:05<07:03, 26.18s/it]"
          ]
        },
        {
          "output_type": "stream",
          "name": "stdout",
          "text": [
            "Train Epoch: 5 [76800/84843 (90%)]\tLoss: 0.407954\n"
          ]
        },
        {
          "output_type": "stream",
          "name": "stderr",
          "text": [
            " 23%|██▎       | 4.858666666666664/21 [02:06<07:01, 26.14s/it]"
          ]
        },
        {
          "output_type": "stream",
          "name": "stdout",
          "text": [
            "Train Epoch: 5 [81920/84843 (96%)]\tLoss: 0.293947\n"
          ]
        },
        {
          "output_type": "stream",
          "name": "stderr",
          "text": [
            " 24%|██▍       | 5.002666666666648/21 [02:10<06:48, 25.54s/it]"
          ]
        },
        {
          "output_type": "stream",
          "name": "stdout",
          "text": [
            "\n",
            "Test Epoch: 5\tAccuracy: 9417/11005 (86%)\n",
            "\n",
            "Train Epoch: 6 [0/84843 (0%)]\tLoss: 0.293461\n"
          ]
        },
        {
          "output_type": "stream",
          "name": "stderr",
          "text": [
            " 24%|██▍       | 5.061333333333308/21 [02:11<07:02, 26.53s/it]"
          ]
        },
        {
          "output_type": "stream",
          "name": "stdout",
          "text": [
            "Train Epoch: 6 [5120/84843 (6%)]\tLoss: 0.355145\n"
          ]
        },
        {
          "output_type": "stream",
          "name": "stderr",
          "text": [
            " 24%|██▍       | 5.114666666666635/21 [02:13<06:55, 26.13s/it]"
          ]
        },
        {
          "output_type": "stream",
          "name": "stdout",
          "text": [
            "Train Epoch: 6 [10240/84843 (12%)]\tLoss: 0.372955\n"
          ]
        },
        {
          "output_type": "stream",
          "name": "stderr",
          "text": [
            " 25%|██▍       | 5.167999999999963/21 [02:14<06:52, 26.07s/it]"
          ]
        },
        {
          "output_type": "stream",
          "name": "stdout",
          "text": [
            "Train Epoch: 6 [15360/84843 (18%)]\tLoss: 0.363620\n"
          ]
        },
        {
          "output_type": "stream",
          "name": "stderr",
          "text": [
            " 25%|██▍       | 5.22133333333329/21 [02:16<06:54, 26.26s/it] "
          ]
        },
        {
          "output_type": "stream",
          "name": "stdout",
          "text": [
            "Train Epoch: 6 [20480/84843 (24%)]\tLoss: 0.358045\n"
          ]
        },
        {
          "output_type": "stream",
          "name": "stderr",
          "text": [
            " 25%|██▌       | 5.274666666666618/21 [02:17<06:52, 26.23s/it]"
          ]
        },
        {
          "output_type": "stream",
          "name": "stdout",
          "text": [
            "Train Epoch: 6 [25600/84843 (30%)]\tLoss: 0.405281\n"
          ]
        },
        {
          "output_type": "stream",
          "name": "stderr",
          "text": [
            " 25%|██▌       | 5.327999999999945/21 [02:18<06:49, 26.12s/it] "
          ]
        },
        {
          "output_type": "stream",
          "name": "stdout",
          "text": [
            "Train Epoch: 6 [30720/84843 (36%)]\tLoss: 0.372823\n"
          ]
        },
        {
          "output_type": "stream",
          "name": "stderr",
          "text": [
            " 26%|██▌       | 5.381333333333273/21 [02:20<06:43, 25.87s/it]"
          ]
        },
        {
          "output_type": "stream",
          "name": "stdout",
          "text": [
            "Train Epoch: 6 [35840/84843 (42%)]\tLoss: 0.330110\n"
          ]
        },
        {
          "output_type": "stream",
          "name": "stderr",
          "text": [
            " 26%|██▌       | 5.4346666666666/21 [02:21<06:45, 26.07s/it]  "
          ]
        },
        {
          "output_type": "stream",
          "name": "stdout",
          "text": [
            "Train Epoch: 6 [40960/84843 (48%)]\tLoss: 0.382306\n"
          ]
        },
        {
          "output_type": "stream",
          "name": "stderr",
          "text": [
            " 26%|██▌       | 5.487999999999928/21 [02:22<06:45, 26.14s/it]"
          ]
        },
        {
          "output_type": "stream",
          "name": "stdout",
          "text": [
            "Train Epoch: 6 [46080/84843 (54%)]\tLoss: 0.382207\n"
          ]
        },
        {
          "output_type": "stream",
          "name": "stderr",
          "text": [
            " 26%|██▋       | 5.541333333333255/21 [02:24<07:08, 27.70s/it]"
          ]
        },
        {
          "output_type": "stream",
          "name": "stdout",
          "text": [
            "Train Epoch: 6 [51200/84843 (60%)]\tLoss: 0.365690\n"
          ]
        },
        {
          "output_type": "stream",
          "name": "stderr",
          "text": [
            " 27%|██▋       | 5.5946666666665825/21 [02:25<07:08, 27.82s/it]"
          ]
        },
        {
          "output_type": "stream",
          "name": "stdout",
          "text": [
            "Train Epoch: 6 [56320/84843 (66%)]\tLoss: 0.399129\n"
          ]
        },
        {
          "output_type": "stream",
          "name": "stderr",
          "text": [
            " 27%|██▋       | 5.64799999999991/21 [02:27<06:51, 26.80s/it] "
          ]
        },
        {
          "output_type": "stream",
          "name": "stdout",
          "text": [
            "Train Epoch: 6 [61440/84843 (72%)]\tLoss: 0.367242\n"
          ]
        },
        {
          "output_type": "stream",
          "name": "stderr",
          "text": [
            " 27%|██▋       | 5.701333333333237/21 [02:28<06:42, 26.34s/it]"
          ]
        },
        {
          "output_type": "stream",
          "name": "stdout",
          "text": [
            "Train Epoch: 6 [66560/84843 (78%)]\tLoss: 0.296393\n"
          ]
        },
        {
          "output_type": "stream",
          "name": "stderr",
          "text": [
            " 27%|██▋       | 5.754666666666565/21 [02:30<06:41, 26.35s/it]"
          ]
        },
        {
          "output_type": "stream",
          "name": "stdout",
          "text": [
            "Train Epoch: 6 [71680/84843 (84%)]\tLoss: 0.354410\n"
          ]
        },
        {
          "output_type": "stream",
          "name": "stderr",
          "text": [
            " 28%|██▊       | 5.807999999999892/21 [02:31<06:39, 26.32s/it]"
          ]
        },
        {
          "output_type": "stream",
          "name": "stdout",
          "text": [
            "Train Epoch: 6 [76800/84843 (90%)]\tLoss: 0.348176\n"
          ]
        },
        {
          "output_type": "stream",
          "name": "stderr",
          "text": [
            " 28%|██▊       | 5.86133333333322/21 [02:32<06:28, 25.64s/it] "
          ]
        },
        {
          "output_type": "stream",
          "name": "stdout",
          "text": [
            "Train Epoch: 6 [81920/84843 (96%)]\tLoss: 0.291976\n"
          ]
        },
        {
          "output_type": "stream",
          "name": "stderr",
          "text": [
            " 29%|██▊       | 6.005333333333204/21 [02:36<06:13, 24.89s/it]"
          ]
        },
        {
          "output_type": "stream",
          "name": "stdout",
          "text": [
            "\n",
            "Test Epoch: 6\tAccuracy: 9365/11005 (85%)\n",
            "\n",
            "Train Epoch: 7 [0/84843 (0%)]\tLoss: 0.306845\n"
          ]
        },
        {
          "output_type": "stream",
          "name": "stderr",
          "text": [
            " 29%|██▉       | 6.058666666666531/21 [02:37<06:25, 25.77s/it]"
          ]
        },
        {
          "output_type": "stream",
          "name": "stdout",
          "text": [
            "Train Epoch: 7 [5120/84843 (6%)]\tLoss: 0.331086\n"
          ]
        },
        {
          "output_type": "stream",
          "name": "stderr",
          "text": [
            " 29%|██▉       | 6.111999999999859/21 [02:39<06:25, 25.90s/it]"
          ]
        },
        {
          "output_type": "stream",
          "name": "stdout",
          "text": [
            "Train Epoch: 7 [10240/84843 (12%)]\tLoss: 0.281892\n"
          ]
        },
        {
          "output_type": "stream",
          "name": "stderr",
          "text": [
            " 29%|██▉       | 6.165333333333186/21 [02:40<06:31, 26.36s/it]"
          ]
        },
        {
          "output_type": "stream",
          "name": "stdout",
          "text": [
            "Train Epoch: 7 [15360/84843 (18%)]\tLoss: 0.371435\n"
          ]
        },
        {
          "output_type": "stream",
          "name": "stderr",
          "text": [
            " 30%|██▉       | 6.218666666666514/21 [02:42<06:34, 26.66s/it]"
          ]
        },
        {
          "output_type": "stream",
          "name": "stdout",
          "text": [
            "Train Epoch: 7 [20480/84843 (24%)]\tLoss: 0.268254\n"
          ]
        },
        {
          "output_type": "stream",
          "name": "stderr",
          "text": [
            " 30%|██▉       | 6.271999999999841/21 [02:43<06:50, 27.86s/it] "
          ]
        },
        {
          "output_type": "stream",
          "name": "stdout",
          "text": [
            "Train Epoch: 7 [25600/84843 (30%)]\tLoss: 0.309993\n"
          ]
        },
        {
          "output_type": "stream",
          "name": "stderr",
          "text": [
            " 30%|███       | 6.325333333333169/21 [02:44<06:22, 26.09s/it]"
          ]
        },
        {
          "output_type": "stream",
          "name": "stdout",
          "text": [
            "Train Epoch: 7 [30720/84843 (36%)]\tLoss: 0.371608\n"
          ]
        },
        {
          "output_type": "stream",
          "name": "stderr",
          "text": [
            " 30%|███       | 6.378666666666496/21 [02:46<06:28, 26.59s/it]"
          ]
        },
        {
          "output_type": "stream",
          "name": "stdout",
          "text": [
            "Train Epoch: 7 [35840/84843 (42%)]\tLoss: 0.343393\n"
          ]
        },
        {
          "output_type": "stream",
          "name": "stderr",
          "text": [
            " 31%|███       | 6.431999999999824/21 [02:47<06:19, 26.05s/it]"
          ]
        },
        {
          "output_type": "stream",
          "name": "stdout",
          "text": [
            "Train Epoch: 7 [40960/84843 (48%)]\tLoss: 0.316905\n"
          ]
        },
        {
          "output_type": "stream",
          "name": "stderr",
          "text": [
            " 31%|███       | 6.490666666666484/21 [02:49<06:07, 25.34s/it]"
          ]
        },
        {
          "output_type": "stream",
          "name": "stdout",
          "text": [
            "Train Epoch: 7 [46080/84843 (54%)]\tLoss: 0.344386\n"
          ]
        },
        {
          "output_type": "stream",
          "name": "stderr",
          "text": [
            " 31%|███       | 6.5386666666664786/21 [02:50<06:06, 25.32s/it]"
          ]
        },
        {
          "output_type": "stream",
          "name": "stdout",
          "text": [
            "Train Epoch: 7 [51200/84843 (60%)]\tLoss: 0.364891\n"
          ]
        },
        {
          "output_type": "stream",
          "name": "stderr",
          "text": [
            " 31%|███▏      | 6.597333333333139/21 [02:51<06:09, 25.65s/it]"
          ]
        },
        {
          "output_type": "stream",
          "name": "stdout",
          "text": [
            "Train Epoch: 7 [56320/84843 (66%)]\tLoss: 0.273041\n"
          ]
        },
        {
          "output_type": "stream",
          "name": "stderr",
          "text": [
            " 32%|███▏      | 6.650666666666466/21 [02:53<06:05, 25.45s/it] "
          ]
        },
        {
          "output_type": "stream",
          "name": "stdout",
          "text": [
            "Train Epoch: 7 [61440/84843 (72%)]\tLoss: 0.255369\n"
          ]
        },
        {
          "output_type": "stream",
          "name": "stderr",
          "text": [
            " 32%|███▏      | 6.698666666666461/21 [02:54<06:19, 26.54s/it]"
          ]
        },
        {
          "output_type": "stream",
          "name": "stdout",
          "text": [
            "Train Epoch: 7 [66560/84843 (78%)]\tLoss: 0.350052\n"
          ]
        },
        {
          "output_type": "stream",
          "name": "stderr",
          "text": [
            " 32%|███▏      | 6.751999999999788/21 [02:55<06:10, 26.03s/it]"
          ]
        },
        {
          "output_type": "stream",
          "name": "stdout",
          "text": [
            "Train Epoch: 7 [71680/84843 (84%)]\tLoss: 0.440234\n"
          ]
        },
        {
          "output_type": "stream",
          "name": "stderr",
          "text": [
            " 32%|███▏      | 6.805333333333116/21 [02:57<06:17, 26.58s/it]"
          ]
        },
        {
          "output_type": "stream",
          "name": "stdout",
          "text": [
            "Train Epoch: 7 [76800/84843 (90%)]\tLoss: 0.285195\n"
          ]
        },
        {
          "output_type": "stream",
          "name": "stderr",
          "text": [
            " 33%|███▎      | 6.858666666666443/21 [02:58<06:20, 26.93s/it]"
          ]
        },
        {
          "output_type": "stream",
          "name": "stdout",
          "text": [
            "Train Epoch: 7 [81920/84843 (96%)]\tLoss: 0.485858\n"
          ]
        },
        {
          "output_type": "stream",
          "name": "stderr",
          "text": [
            " 33%|███▎      | 7.0026666666664275/21 [03:02<05:43, 24.52s/it]"
          ]
        },
        {
          "output_type": "stream",
          "name": "stdout",
          "text": [
            "\n",
            "Test Epoch: 7\tAccuracy: 9407/11005 (85%)\n",
            "\n",
            "Train Epoch: 8 [0/84843 (0%)]\tLoss: 0.306311\n"
          ]
        },
        {
          "output_type": "stream",
          "name": "stderr",
          "text": [
            " 34%|███▎      | 7.061333333333088/21 [03:03<05:53, 25.36s/it]"
          ]
        },
        {
          "output_type": "stream",
          "name": "stdout",
          "text": [
            "Train Epoch: 8 [5120/84843 (6%)]\tLoss: 0.312804\n"
          ]
        },
        {
          "output_type": "stream",
          "name": "stderr",
          "text": [
            " 34%|███▍      | 7.114666666666415/21 [03:05<05:54, 25.51s/it]"
          ]
        },
        {
          "output_type": "stream",
          "name": "stdout",
          "text": [
            "Train Epoch: 8 [10240/84843 (12%)]\tLoss: 0.293123\n"
          ]
        },
        {
          "output_type": "stream",
          "name": "stderr",
          "text": [
            " 34%|███▍      | 7.167999999999743/21 [03:06<05:56, 25.74s/it]"
          ]
        },
        {
          "output_type": "stream",
          "name": "stdout",
          "text": [
            "Train Epoch: 8 [15360/84843 (18%)]\tLoss: 0.323381\n"
          ]
        },
        {
          "output_type": "stream",
          "name": "stderr",
          "text": [
            " 34%|███▍      | 7.22133333333307/21 [03:07<05:55, 25.81s/it] "
          ]
        },
        {
          "output_type": "stream",
          "name": "stdout",
          "text": [
            "Train Epoch: 8 [20480/84843 (24%)]\tLoss: 0.337733\n"
          ]
        },
        {
          "output_type": "stream",
          "name": "stderr",
          "text": [
            " 35%|███▍      | 7.2746666666663975/21 [03:09<05:49, 25.49s/it]"
          ]
        },
        {
          "output_type": "stream",
          "name": "stdout",
          "text": [
            "Train Epoch: 8 [25600/84843 (30%)]\tLoss: 0.316370\n"
          ]
        },
        {
          "output_type": "stream",
          "name": "stderr",
          "text": [
            " 35%|███▍      | 7.327999999999725/21 [03:10<06:00, 26.40s/it]"
          ]
        },
        {
          "output_type": "stream",
          "name": "stdout",
          "text": [
            "Train Epoch: 8 [30720/84843 (36%)]\tLoss: 0.396884\n"
          ]
        },
        {
          "output_type": "stream",
          "name": "stderr",
          "text": [
            " 35%|███▌      | 7.381333333333052/21 [03:12<06:04, 26.76s/it]"
          ]
        },
        {
          "output_type": "stream",
          "name": "stdout",
          "text": [
            "Train Epoch: 8 [35840/84843 (42%)]\tLoss: 0.330258\n"
          ]
        },
        {
          "output_type": "stream",
          "name": "stderr",
          "text": [
            " 35%|███▌      | 7.43466666666638/21 [03:13<06:18, 27.88s/it] "
          ]
        },
        {
          "output_type": "stream",
          "name": "stdout",
          "text": [
            "Train Epoch: 8 [40960/84843 (48%)]\tLoss: 0.324862\n"
          ]
        },
        {
          "output_type": "stream",
          "name": "stderr",
          "text": [
            " 36%|███▌      | 7.487999999999707/21 [03:15<06:03, 26.93s/it]"
          ]
        },
        {
          "output_type": "stream",
          "name": "stdout",
          "text": [
            "Train Epoch: 8 [46080/84843 (54%)]\tLoss: 0.399333\n"
          ]
        },
        {
          "output_type": "stream",
          "name": "stderr",
          "text": [
            " 36%|███▌      | 7.541333333333035/21 [03:16<06:02, 26.97s/it]"
          ]
        },
        {
          "output_type": "stream",
          "name": "stdout",
          "text": [
            "Train Epoch: 8 [51200/84843 (60%)]\tLoss: 0.277020\n"
          ]
        },
        {
          "output_type": "stream",
          "name": "stderr",
          "text": [
            " 36%|███▌      | 7.594666666666362/21 [03:17<05:51, 26.25s/it] "
          ]
        },
        {
          "output_type": "stream",
          "name": "stdout",
          "text": [
            "Train Epoch: 8 [56320/84843 (66%)]\tLoss: 0.306739\n"
          ]
        },
        {
          "output_type": "stream",
          "name": "stderr",
          "text": [
            " 36%|███▋      | 7.64799999999969/21 [03:19<05:46, 25.93s/it] "
          ]
        },
        {
          "output_type": "stream",
          "name": "stdout",
          "text": [
            "Train Epoch: 8 [61440/84843 (72%)]\tLoss: 0.373752\n"
          ]
        },
        {
          "output_type": "stream",
          "name": "stderr",
          "text": [
            " 37%|███▋      | 7.701333333333017/21 [03:20<05:47, 26.15s/it]"
          ]
        },
        {
          "output_type": "stream",
          "name": "stdout",
          "text": [
            "Train Epoch: 8 [66560/84843 (78%)]\tLoss: 0.289897\n"
          ]
        },
        {
          "output_type": "stream",
          "name": "stderr",
          "text": [
            " 37%|███▋      | 7.754666666666345/21 [03:22<05:43, 25.94s/it]"
          ]
        },
        {
          "output_type": "stream",
          "name": "stdout",
          "text": [
            "Train Epoch: 8 [71680/84843 (84%)]\tLoss: 0.229463\n"
          ]
        },
        {
          "output_type": "stream",
          "name": "stderr",
          "text": [
            " 37%|███▋      | 7.807999999999672/21 [03:23<05:47, 26.32s/it]"
          ]
        },
        {
          "output_type": "stream",
          "name": "stdout",
          "text": [
            "Train Epoch: 8 [76800/84843 (90%)]\tLoss: 0.267578\n"
          ]
        },
        {
          "output_type": "stream",
          "name": "stderr",
          "text": [
            " 37%|███▋      | 7.8613333333329996/21 [03:24<05:39, 25.84s/it]"
          ]
        },
        {
          "output_type": "stream",
          "name": "stdout",
          "text": [
            "Train Epoch: 8 [81920/84843 (96%)]\tLoss: 0.280684\n"
          ]
        },
        {
          "output_type": "stream",
          "name": "stderr",
          "text": [
            " 38%|███▊      | 8.005333333332985/21 [03:28<05:32, 25.58s/it]"
          ]
        },
        {
          "output_type": "stream",
          "name": "stdout",
          "text": [
            "\n",
            "Test Epoch: 8\tAccuracy: 9421/11005 (86%)\n",
            "\n",
            "Train Epoch: 9 [0/84843 (0%)]\tLoss: 0.324825\n"
          ]
        },
        {
          "output_type": "stream",
          "name": "stderr",
          "text": [
            " 38%|███▊      | 8.058666666666312/21 [03:29<05:46, 26.80s/it]"
          ]
        },
        {
          "output_type": "stream",
          "name": "stdout",
          "text": [
            "Train Epoch: 9 [5120/84843 (6%)]\tLoss: 0.241629\n"
          ]
        },
        {
          "output_type": "stream",
          "name": "stderr",
          "text": [
            " 39%|███▊      | 8.11199999999964/21 [03:31<05:44, 26.73s/it] "
          ]
        },
        {
          "output_type": "stream",
          "name": "stdout",
          "text": [
            "Train Epoch: 9 [10240/84843 (12%)]\tLoss: 0.261659\n"
          ]
        },
        {
          "output_type": "stream",
          "name": "stderr",
          "text": [
            " 39%|███▉      | 8.165333333332967/21 [03:32<05:49, 27.27s/it]"
          ]
        },
        {
          "output_type": "stream",
          "name": "stdout",
          "text": [
            "Train Epoch: 9 [15360/84843 (18%)]\tLoss: 0.262905\n"
          ]
        },
        {
          "output_type": "stream",
          "name": "stderr",
          "text": [
            " 39%|███▉      | 8.218666666666294/21 [03:34<05:35, 26.22s/it]"
          ]
        },
        {
          "output_type": "stream",
          "name": "stdout",
          "text": [
            "Train Epoch: 9 [20480/84843 (24%)]\tLoss: 0.337421\n"
          ]
        },
        {
          "output_type": "stream",
          "name": "stderr",
          "text": [
            " 39%|███▉      | 8.271999999999622/21 [03:35<05:31, 26.01s/it]"
          ]
        },
        {
          "output_type": "stream",
          "name": "stdout",
          "text": [
            "Train Epoch: 9 [25600/84843 (30%)]\tLoss: 0.265480\n"
          ]
        },
        {
          "output_type": "stream",
          "name": "stderr",
          "text": [
            " 40%|███▉      | 8.32533333333295/21 [03:36<05:28, 25.92s/it] "
          ]
        },
        {
          "output_type": "stream",
          "name": "stdout",
          "text": [
            "Train Epoch: 9 [30720/84843 (36%)]\tLoss: 0.367199\n"
          ]
        },
        {
          "output_type": "stream",
          "name": "stderr",
          "text": [
            " 40%|███▉      | 8.378666666666277/21 [03:38<05:28, 26.06s/it]"
          ]
        },
        {
          "output_type": "stream",
          "name": "stdout",
          "text": [
            "Train Epoch: 9 [35840/84843 (42%)]\tLoss: 0.315750\n"
          ]
        },
        {
          "output_type": "stream",
          "name": "stderr",
          "text": [
            " 40%|████      | 8.431999999999604/21 [03:39<05:28, 26.10s/it]"
          ]
        },
        {
          "output_type": "stream",
          "name": "stdout",
          "text": [
            "Train Epoch: 9 [40960/84843 (48%)]\tLoss: 0.316906\n"
          ]
        },
        {
          "output_type": "stream",
          "name": "stderr",
          "text": [
            " 40%|████      | 8.485333333332932/21 [03:41<05:31, 26.49s/it]"
          ]
        },
        {
          "output_type": "stream",
          "name": "stdout",
          "text": [
            "Train Epoch: 9 [46080/84843 (54%)]\tLoss: 0.322977\n"
          ]
        },
        {
          "output_type": "stream",
          "name": "stderr",
          "text": [
            " 41%|████      | 8.53866666666626/21 [03:42<05:30, 26.51s/it] "
          ]
        },
        {
          "output_type": "stream",
          "name": "stdout",
          "text": [
            "Train Epoch: 9 [51200/84843 (60%)]\tLoss: 0.357529\n"
          ]
        },
        {
          "output_type": "stream",
          "name": "stderr",
          "text": [
            " 41%|████      | 8.591999999999587/21 [03:43<05:22, 26.01s/it]"
          ]
        },
        {
          "output_type": "stream",
          "name": "stdout",
          "text": [
            "Train Epoch: 9 [56320/84843 (66%)]\tLoss: 0.293365\n"
          ]
        },
        {
          "output_type": "stream",
          "name": "stderr",
          "text": [
            " 41%|████      | 8.645333333332914/21 [03:45<05:29, 26.65s/it]"
          ]
        },
        {
          "output_type": "stream",
          "name": "stdout",
          "text": [
            "Train Epoch: 9 [61440/84843 (72%)]\tLoss: 0.259258\n"
          ]
        },
        {
          "output_type": "stream",
          "name": "stderr",
          "text": [
            " 41%|████▏     | 8.698666666666242/21 [03:46<05:43, 27.92s/it]"
          ]
        },
        {
          "output_type": "stream",
          "name": "stdout",
          "text": [
            "Train Epoch: 9 [66560/84843 (78%)]\tLoss: 0.390108\n"
          ]
        },
        {
          "output_type": "stream",
          "name": "stderr",
          "text": [
            " 42%|████▏     | 8.751999999999569/21 [03:48<05:33, 27.25s/it]"
          ]
        },
        {
          "output_type": "stream",
          "name": "stdout",
          "text": [
            "Train Epoch: 9 [71680/84843 (84%)]\tLoss: 0.390796\n"
          ]
        },
        {
          "output_type": "stream",
          "name": "stderr",
          "text": [
            " 42%|████▏     | 8.81066666666623/21 [03:49<05:11, 25.56s/it] "
          ]
        },
        {
          "output_type": "stream",
          "name": "stdout",
          "text": [
            "Train Epoch: 9 [76800/84843 (90%)]\tLoss: 0.382747\n"
          ]
        },
        {
          "output_type": "stream",
          "name": "stderr",
          "text": [
            " 42%|████▏     | 8.863999999999557/21 [03:51<05:09, 25.54s/it]"
          ]
        },
        {
          "output_type": "stream",
          "name": "stdout",
          "text": [
            "Train Epoch: 9 [81920/84843 (96%)]\tLoss: 0.322662\n"
          ]
        },
        {
          "output_type": "stream",
          "name": "stderr",
          "text": [
            " 43%|████▎     | 9.002666666666208/21 [03:54<04:58, 24.89s/it]"
          ]
        },
        {
          "output_type": "stream",
          "name": "stdout",
          "text": [
            "\n",
            "Test Epoch: 9\tAccuracy: 9405/11005 (85%)\n",
            "\n",
            "Train Epoch: 10 [0/84843 (0%)]\tLoss: 0.287622\n"
          ]
        },
        {
          "output_type": "stream",
          "name": "stderr",
          "text": [
            " 43%|████▎     | 9.061333333332868/21 [03:56<05:05, 25.56s/it]"
          ]
        },
        {
          "output_type": "stream",
          "name": "stdout",
          "text": [
            "Train Epoch: 10 [5120/84843 (6%)]\tLoss: 0.282183\n"
          ]
        },
        {
          "output_type": "stream",
          "name": "stderr",
          "text": [
            " 43%|████▎     | 9.114666666666196/21 [03:57<05:05, 25.72s/it]"
          ]
        },
        {
          "output_type": "stream",
          "name": "stdout",
          "text": [
            "Train Epoch: 10 [10240/84843 (12%)]\tLoss: 0.302181\n"
          ]
        },
        {
          "output_type": "stream",
          "name": "stderr",
          "text": [
            " 44%|████▎     | 9.167999999999523/21 [03:58<05:06, 25.92s/it]"
          ]
        },
        {
          "output_type": "stream",
          "name": "stdout",
          "text": [
            "Train Epoch: 10 [15360/84843 (18%)]\tLoss: 0.295084\n"
          ]
        },
        {
          "output_type": "stream",
          "name": "stderr",
          "text": [
            " 44%|████▍     | 9.22133333333285/21 [04:00<05:05, 25.91s/it] "
          ]
        },
        {
          "output_type": "stream",
          "name": "stdout",
          "text": [
            "Train Epoch: 10 [20480/84843 (24%)]\tLoss: 0.329905\n"
          ]
        },
        {
          "output_type": "stream",
          "name": "stderr",
          "text": [
            " 44%|████▍     | 9.274666666666178/21 [04:01<05:12, 26.63s/it]"
          ]
        },
        {
          "output_type": "stream",
          "name": "stdout",
          "text": [
            "Train Epoch: 10 [25600/84843 (30%)]\tLoss: 0.308993\n"
          ]
        },
        {
          "output_type": "stream",
          "name": "stderr",
          "text": [
            " 44%|████▍     | 9.327999999999506/21 [04:03<05:15, 27.05s/it]"
          ]
        },
        {
          "output_type": "stream",
          "name": "stdout",
          "text": [
            "Train Epoch: 10 [30720/84843 (36%)]\tLoss: 0.327042\n"
          ]
        },
        {
          "output_type": "stream",
          "name": "stderr",
          "text": [
            " 45%|████▍     | 9.381333333332833/21 [04:04<05:16, 27.21s/it]"
          ]
        },
        {
          "output_type": "stream",
          "name": "stdout",
          "text": [
            "Train Epoch: 10 [35840/84843 (42%)]\tLoss: 0.311815\n"
          ]
        },
        {
          "output_type": "stream",
          "name": "stderr",
          "text": [
            " 45%|████▍     | 9.43466666666616/21 [04:05<04:54, 25.42s/it] "
          ]
        },
        {
          "output_type": "stream",
          "name": "stdout",
          "text": [
            "Train Epoch: 10 [40960/84843 (48%)]\tLoss: 0.313138\n"
          ]
        },
        {
          "output_type": "stream",
          "name": "stderr",
          "text": [
            " 45%|████▌     | 9.487999999999488/21 [04:07<04:47, 25.00s/it]"
          ]
        },
        {
          "output_type": "stream",
          "name": "stdout",
          "text": [
            "Train Epoch: 10 [46080/84843 (54%)]\tLoss: 0.242772\n"
          ]
        },
        {
          "output_type": "stream",
          "name": "stderr",
          "text": [
            " 45%|████▌     | 9.541333333332815/21 [04:08<04:54, 25.74s/it]"
          ]
        },
        {
          "output_type": "stream",
          "name": "stdout",
          "text": [
            "Train Epoch: 10 [51200/84843 (60%)]\tLoss: 0.338052\n"
          ]
        },
        {
          "output_type": "stream",
          "name": "stderr",
          "text": [
            " 46%|████▌     | 9.594666666666143/21 [04:10<04:51, 25.53s/it]"
          ]
        },
        {
          "output_type": "stream",
          "name": "stdout",
          "text": [
            "Train Epoch: 10 [56320/84843 (66%)]\tLoss: 0.328735\n"
          ]
        },
        {
          "output_type": "stream",
          "name": "stderr",
          "text": [
            " 46%|████▌     | 9.64799999999947/21 [04:11<04:49, 25.50s/it] "
          ]
        },
        {
          "output_type": "stream",
          "name": "stdout",
          "text": [
            "Train Epoch: 10 [61440/84843 (72%)]\tLoss: 0.356293\n"
          ]
        },
        {
          "output_type": "stream",
          "name": "stderr",
          "text": [
            " 46%|████▌     | 9.701333333332798/21 [04:12<04:51, 25.76s/it]"
          ]
        },
        {
          "output_type": "stream",
          "name": "stdout",
          "text": [
            "Train Epoch: 10 [66560/84843 (78%)]\tLoss: 0.363899\n"
          ]
        },
        {
          "output_type": "stream",
          "name": "stderr",
          "text": [
            " 46%|████▋     | 9.754666666666125/21 [04:14<04:56, 26.33s/it]"
          ]
        },
        {
          "output_type": "stream",
          "name": "stdout",
          "text": [
            "Train Epoch: 10 [71680/84843 (84%)]\tLoss: 0.297276\n"
          ]
        },
        {
          "output_type": "stream",
          "name": "stderr",
          "text": [
            " 47%|████▋     | 9.807999999999453/21 [04:15<04:53, 26.20s/it]"
          ]
        },
        {
          "output_type": "stream",
          "name": "stdout",
          "text": [
            "Train Epoch: 10 [76800/84843 (90%)]\tLoss: 0.434273\n"
          ]
        },
        {
          "output_type": "stream",
          "name": "stderr",
          "text": [
            " 47%|████▋     | 9.86133333333278/21 [04:16<04:58, 26.79s/it] "
          ]
        },
        {
          "output_type": "stream",
          "name": "stdout",
          "text": [
            "Train Epoch: 10 [81920/84843 (96%)]\tLoss: 0.252880\n"
          ]
        },
        {
          "output_type": "stream",
          "name": "stderr",
          "text": [
            " 48%|████▊     | 10.005333333332764/21 [04:20<04:49, 26.36s/it]"
          ]
        },
        {
          "output_type": "stream",
          "name": "stdout",
          "text": [
            "\n",
            "Test Epoch: 10\tAccuracy: 9403/11005 (85%)\n",
            "\n",
            "Train Epoch: 11 [0/84843 (0%)]\tLoss: 0.263950\n"
          ]
        },
        {
          "output_type": "stream",
          "name": "stderr",
          "text": [
            " 48%|████▊     | 10.063999999999425/21 [04:22<04:39, 25.52s/it]"
          ]
        },
        {
          "output_type": "stream",
          "name": "stdout",
          "text": [
            "Train Epoch: 11 [5120/84843 (6%)]\tLoss: 0.292314\n"
          ]
        },
        {
          "output_type": "stream",
          "name": "stderr",
          "text": [
            " 48%|████▊     | 10.11199999999942/21 [04:23<04:44, 26.09s/it] "
          ]
        },
        {
          "output_type": "stream",
          "name": "stdout",
          "text": [
            "Train Epoch: 11 [10240/84843 (12%)]\tLoss: 0.250440\n"
          ]
        },
        {
          "output_type": "stream",
          "name": "stderr",
          "text": [
            " 48%|████▊     | 10.17066666666608/21 [04:24<04:40, 25.90s/it] "
          ]
        },
        {
          "output_type": "stream",
          "name": "stdout",
          "text": [
            "Train Epoch: 11 [15360/84843 (18%)]\tLoss: 0.262883\n"
          ]
        },
        {
          "output_type": "stream",
          "name": "stderr",
          "text": [
            " 49%|████▊     | 10.218666666666074/21 [04:26<04:35, 25.55s/it]"
          ]
        },
        {
          "output_type": "stream",
          "name": "stdout",
          "text": [
            "Train Epoch: 11 [20480/84843 (24%)]\tLoss: 0.333917\n"
          ]
        },
        {
          "output_type": "stream",
          "name": "stderr",
          "text": [
            " 49%|████▉     | 10.271999999999402/21 [04:27<04:38, 25.99s/it]"
          ]
        },
        {
          "output_type": "stream",
          "name": "stdout",
          "text": [
            "Train Epoch: 11 [25600/84843 (30%)]\tLoss: 0.305444\n"
          ]
        },
        {
          "output_type": "stream",
          "name": "stderr",
          "text": [
            " 49%|████▉     | 10.330666666666062/21 [04:29<04:32, 25.51s/it]"
          ]
        },
        {
          "output_type": "stream",
          "name": "stdout",
          "text": [
            "Train Epoch: 11 [30720/84843 (36%)]\tLoss: 0.452651\n"
          ]
        },
        {
          "output_type": "stream",
          "name": "stderr",
          "text": [
            " 49%|████▉     | 10.378666666666057/21 [04:30<04:30, 25.43s/it]"
          ]
        },
        {
          "output_type": "stream",
          "name": "stdout",
          "text": [
            "Train Epoch: 11 [35840/84843 (42%)]\tLoss: 0.223010\n"
          ]
        },
        {
          "output_type": "stream",
          "name": "stderr",
          "text": [
            " 50%|████▉     | 10.431999999999384/21 [04:31<04:37, 26.21s/it]"
          ]
        },
        {
          "output_type": "stream",
          "name": "stdout",
          "text": [
            "Train Epoch: 11 [40960/84843 (48%)]\tLoss: 0.315799\n"
          ]
        },
        {
          "output_type": "stream",
          "name": "stderr",
          "text": [
            " 50%|████▉     | 10.485333333332711/21 [04:33<04:37, 26.40s/it]"
          ]
        },
        {
          "output_type": "stream",
          "name": "stdout",
          "text": [
            "Train Epoch: 11 [46080/84843 (54%)]\tLoss: 0.374402\n"
          ]
        },
        {
          "output_type": "stream",
          "name": "stderr",
          "text": [
            " 50%|█████     | 10.538666666666039/21 [04:34<04:44, 27.16s/it]"
          ]
        },
        {
          "output_type": "stream",
          "name": "stdout",
          "text": [
            "Train Epoch: 11 [51200/84843 (60%)]\tLoss: 0.281574\n"
          ]
        },
        {
          "output_type": "stream",
          "name": "stderr",
          "text": [
            " 50%|█████     | 10.591999999999366/21 [04:35<04:42, 27.13s/it]"
          ]
        },
        {
          "output_type": "stream",
          "name": "stdout",
          "text": [
            "Train Epoch: 11 [56320/84843 (66%)]\tLoss: 0.300285\n"
          ]
        },
        {
          "output_type": "stream",
          "name": "stderr",
          "text": [
            " 51%|█████     | 10.645333333332694/21 [04:37<04:42, 27.31s/it]"
          ]
        },
        {
          "output_type": "stream",
          "name": "stdout",
          "text": [
            "Train Epoch: 11 [61440/84843 (72%)]\tLoss: 0.325698\n"
          ]
        },
        {
          "output_type": "stream",
          "name": "stderr",
          "text": [
            " 51%|█████     | 10.703999999999354/21 [04:38<04:25, 25.77s/it]"
          ]
        },
        {
          "output_type": "stream",
          "name": "stdout",
          "text": [
            "Train Epoch: 11 [66560/84843 (78%)]\tLoss: 0.310046\n"
          ]
        },
        {
          "output_type": "stream",
          "name": "stderr",
          "text": [
            " 51%|█████     | 10.757333333332681/21 [04:40<04:20, 25.47s/it]"
          ]
        },
        {
          "output_type": "stream",
          "name": "stdout",
          "text": [
            "Train Epoch: 11 [71680/84843 (84%)]\tLoss: 0.413999\n"
          ]
        },
        {
          "output_type": "stream",
          "name": "stderr",
          "text": [
            " 51%|█████▏    | 10.810666666666009/21 [04:41<04:21, 25.68s/it]"
          ]
        },
        {
          "output_type": "stream",
          "name": "stdout",
          "text": [
            "Train Epoch: 11 [76800/84843 (90%)]\tLoss: 0.231347\n"
          ]
        },
        {
          "output_type": "stream",
          "name": "stderr",
          "text": [
            " 52%|█████▏    | 10.863999999999336/21 [04:43<04:20, 25.70s/it]"
          ]
        },
        {
          "output_type": "stream",
          "name": "stdout",
          "text": [
            "Train Epoch: 11 [81920/84843 (96%)]\tLoss: 0.300348\n"
          ]
        },
        {
          "output_type": "stream",
          "name": "stderr",
          "text": [
            " 52%|█████▏    | 11.002666666665988/21 [04:46<04:11, 25.19s/it]"
          ]
        },
        {
          "output_type": "stream",
          "name": "stdout",
          "text": [
            "\n",
            "Test Epoch: 11\tAccuracy: 9394/11005 (85%)\n",
            "\n",
            "Train Epoch: 12 [0/84843 (0%)]\tLoss: 0.236295\n"
          ]
        },
        {
          "output_type": "stream",
          "name": "stderr",
          "text": [
            " 53%|█████▎    | 11.061333333332648/21 [04:47<04:17, 25.87s/it]"
          ]
        },
        {
          "output_type": "stream",
          "name": "stdout",
          "text": [
            "Train Epoch: 12 [5120/84843 (6%)]\tLoss: 0.266912\n"
          ]
        },
        {
          "output_type": "stream",
          "name": "stderr",
          "text": [
            " 53%|█████▎    | 11.114666666665975/21 [04:49<04:20, 26.33s/it]"
          ]
        },
        {
          "output_type": "stream",
          "name": "stdout",
          "text": [
            "Train Epoch: 12 [10240/84843 (12%)]\tLoss: 0.254083\n"
          ]
        },
        {
          "output_type": "stream",
          "name": "stderr",
          "text": [
            " 53%|█████▎    | 11.167999999999303/21 [04:50<04:16, 26.07s/it]"
          ]
        },
        {
          "output_type": "stream",
          "name": "stdout",
          "text": [
            "Train Epoch: 12 [15360/84843 (18%)]\tLoss: 0.262380\n"
          ]
        },
        {
          "output_type": "stream",
          "name": "stderr",
          "text": [
            " 53%|█████▎    | 11.22133333333263/21 [04:52<04:24, 27.08s/it] "
          ]
        },
        {
          "output_type": "stream",
          "name": "stdout",
          "text": [
            "Train Epoch: 12 [20480/84843 (24%)]\tLoss: 0.357207\n"
          ]
        },
        {
          "output_type": "stream",
          "name": "stderr",
          "text": [
            " 54%|█████▎    | 11.274666666665958/21 [04:53<04:24, 27.21s/it]"
          ]
        },
        {
          "output_type": "stream",
          "name": "stdout",
          "text": [
            "Train Epoch: 12 [25600/84843 (30%)]\tLoss: 0.305714\n"
          ]
        },
        {
          "output_type": "stream",
          "name": "stderr",
          "text": [
            " 54%|█████▍    | 11.327999999999285/21 [04:55<04:09, 25.78s/it]"
          ]
        },
        {
          "output_type": "stream",
          "name": "stdout",
          "text": [
            "Train Epoch: 12 [30720/84843 (36%)]\tLoss: 0.230422\n"
          ]
        },
        {
          "output_type": "stream",
          "name": "stderr",
          "text": [
            " 54%|█████▍    | 11.381333333332613/21 [04:56<04:05, 25.52s/it]"
          ]
        },
        {
          "output_type": "stream",
          "name": "stdout",
          "text": [
            "Train Epoch: 12 [35840/84843 (42%)]\tLoss: 0.298502\n"
          ]
        },
        {
          "output_type": "stream",
          "name": "stderr",
          "text": [
            " 54%|█████▍    | 11.43466666666594/21 [04:57<04:04, 25.58s/it] "
          ]
        },
        {
          "output_type": "stream",
          "name": "stdout",
          "text": [
            "Train Epoch: 12 [40960/84843 (48%)]\tLoss: 0.302826\n"
          ]
        },
        {
          "output_type": "stream",
          "name": "stderr",
          "text": [
            " 55%|█████▍    | 11.487999999999268/21 [04:59<04:10, 26.33s/it]"
          ]
        },
        {
          "output_type": "stream",
          "name": "stdout",
          "text": [
            "Train Epoch: 12 [46080/84843 (54%)]\tLoss: 0.294507\n"
          ]
        },
        {
          "output_type": "stream",
          "name": "stderr",
          "text": [
            " 55%|█████▍    | 11.541333333332595/21 [05:00<04:05, 25.98s/it]"
          ]
        },
        {
          "output_type": "stream",
          "name": "stdout",
          "text": [
            "Train Epoch: 12 [51200/84843 (60%)]\tLoss: 0.272229\n"
          ]
        },
        {
          "output_type": "stream",
          "name": "stderr",
          "text": [
            " 55%|█████▌    | 11.594666666665923/21 [05:01<03:57, 25.27s/it]"
          ]
        },
        {
          "output_type": "stream",
          "name": "stdout",
          "text": [
            "Train Epoch: 12 [56320/84843 (66%)]\tLoss: 0.298340\n"
          ]
        },
        {
          "output_type": "stream",
          "name": "stderr",
          "text": [
            " 55%|█████▌    | 11.64799999999925/21 [05:03<03:58, 25.49s/it] "
          ]
        },
        {
          "output_type": "stream",
          "name": "stdout",
          "text": [
            "Train Epoch: 12 [61440/84843 (72%)]\tLoss: 0.284207\n"
          ]
        },
        {
          "output_type": "stream",
          "name": "stderr",
          "text": [
            " 56%|█████▌    | 11.701333333332578/21 [05:04<04:05, 26.39s/it]"
          ]
        },
        {
          "output_type": "stream",
          "name": "stdout",
          "text": [
            "Train Epoch: 12 [66560/84843 (78%)]\tLoss: 0.290984\n"
          ]
        },
        {
          "output_type": "stream",
          "name": "stderr",
          "text": [
            " 56%|█████▌    | 11.754666666665905/21 [05:06<04:10, 27.06s/it]"
          ]
        },
        {
          "output_type": "stream",
          "name": "stdout",
          "text": [
            "Train Epoch: 12 [71680/84843 (84%)]\tLoss: 0.303254\n"
          ]
        },
        {
          "output_type": "stream",
          "name": "stderr",
          "text": [
            " 56%|█████▌    | 11.807999999999232/21 [05:07<04:02, 26.36s/it]"
          ]
        },
        {
          "output_type": "stream",
          "name": "stdout",
          "text": [
            "Train Epoch: 12 [76800/84843 (90%)]\tLoss: 0.281920\n"
          ]
        },
        {
          "output_type": "stream",
          "name": "stderr",
          "text": [
            " 56%|█████▋    | 11.86133333333256/21 [05:08<04:05, 26.85s/it] "
          ]
        },
        {
          "output_type": "stream",
          "name": "stdout",
          "text": [
            "Train Epoch: 12 [81920/84843 (96%)]\tLoss: 0.289962\n"
          ]
        },
        {
          "output_type": "stream",
          "name": "stderr",
          "text": [
            " 57%|█████▋    | 12.005333333332544/21 [05:12<03:45, 25.05s/it]"
          ]
        },
        {
          "output_type": "stream",
          "name": "stdout",
          "text": [
            "\n",
            "Test Epoch: 12\tAccuracy: 9403/11005 (85%)\n",
            "\n",
            "Train Epoch: 13 [0/84843 (0%)]\tLoss: 0.288627\n"
          ]
        },
        {
          "output_type": "stream",
          "name": "stderr",
          "text": [
            " 57%|█████▋    | 12.063999999999204/21 [05:13<03:44, 25.14s/it]"
          ]
        },
        {
          "output_type": "stream",
          "name": "stdout",
          "text": [
            "Train Epoch: 13 [5120/84843 (6%)]\tLoss: 0.244168\n"
          ]
        },
        {
          "output_type": "stream",
          "name": "stderr",
          "text": [
            " 58%|█████▊    | 12.111999999999199/21 [05:15<03:45, 25.42s/it]"
          ]
        },
        {
          "output_type": "stream",
          "name": "stdout",
          "text": [
            "Train Epoch: 13 [10240/84843 (12%)]\tLoss: 0.380147\n"
          ]
        },
        {
          "output_type": "stream",
          "name": "stderr",
          "text": [
            " 58%|█████▊    | 12.165333333332526/21 [05:16<03:48, 25.83s/it]"
          ]
        },
        {
          "output_type": "stream",
          "name": "stdout",
          "text": [
            "Train Epoch: 13 [15360/84843 (18%)]\tLoss: 0.192650\n"
          ]
        },
        {
          "output_type": "stream",
          "name": "stderr",
          "text": [
            " 58%|█████▊    | 12.223999999999187/21 [05:18<03:43, 25.51s/it]"
          ]
        },
        {
          "output_type": "stream",
          "name": "stdout",
          "text": [
            "Train Epoch: 13 [20480/84843 (24%)]\tLoss: 0.268460\n"
          ]
        },
        {
          "output_type": "stream",
          "name": "stderr",
          "text": [
            " 58%|█████▊    | 12.271999999999181/21 [05:19<03:47, 26.09s/it]"
          ]
        },
        {
          "output_type": "stream",
          "name": "stdout",
          "text": [
            "Train Epoch: 13 [25600/84843 (30%)]\tLoss: 0.297496\n"
          ]
        },
        {
          "output_type": "stream",
          "name": "stderr",
          "text": [
            " 59%|█████▊    | 12.325333333332509/21 [05:20<03:47, 26.24s/it]"
          ]
        },
        {
          "output_type": "stream",
          "name": "stdout",
          "text": [
            "Train Epoch: 13 [30720/84843 (36%)]\tLoss: 0.369061\n"
          ]
        },
        {
          "output_type": "stream",
          "name": "stderr",
          "text": [
            " 59%|█████▉    | 12.378666666665836/21 [05:22<03:42, 25.85s/it]"
          ]
        },
        {
          "output_type": "stream",
          "name": "stdout",
          "text": [
            "Train Epoch: 13 [35840/84843 (42%)]\tLoss: 0.272692\n"
          ]
        },
        {
          "output_type": "stream",
          "name": "stderr",
          "text": [
            " 59%|█████▉    | 12.431999999999164/21 [05:23<03:42, 26.03s/it]"
          ]
        },
        {
          "output_type": "stream",
          "name": "stdout",
          "text": [
            "Train Epoch: 13 [40960/84843 (48%)]\tLoss: 0.312412\n"
          ]
        },
        {
          "output_type": "stream",
          "name": "stderr",
          "text": [
            " 59%|█████▉    | 12.485333333332491/21 [05:24<03:48, 26.89s/it]"
          ]
        },
        {
          "output_type": "stream",
          "name": "stdout",
          "text": [
            "Train Epoch: 13 [46080/84843 (54%)]\tLoss: 0.300899\n"
          ]
        },
        {
          "output_type": "stream",
          "name": "stderr",
          "text": [
            " 60%|█████▉    | 12.538666666665819/21 [05:26<03:44, 26.49s/it]"
          ]
        },
        {
          "output_type": "stream",
          "name": "stdout",
          "text": [
            "Train Epoch: 13 [51200/84843 (60%)]\tLoss: 0.303452\n"
          ]
        },
        {
          "output_type": "stream",
          "name": "stderr",
          "text": [
            " 60%|█████▉    | 12.591999999999146/21 [05:27<03:40, 26.18s/it]"
          ]
        },
        {
          "output_type": "stream",
          "name": "stdout",
          "text": [
            "Train Epoch: 13 [56320/84843 (66%)]\tLoss: 0.249937\n"
          ]
        },
        {
          "output_type": "stream",
          "name": "stderr",
          "text": [
            " 60%|██████    | 12.645333333332474/21 [05:29<03:36, 25.89s/it]"
          ]
        },
        {
          "output_type": "stream",
          "name": "stdout",
          "text": [
            "Train Epoch: 13 [61440/84843 (72%)]\tLoss: 0.250083\n"
          ]
        },
        {
          "output_type": "stream",
          "name": "stderr",
          "text": [
            " 60%|██████    | 12.703999999999134/21 [05:30<03:34, 25.86s/it]"
          ]
        },
        {
          "output_type": "stream",
          "name": "stdout",
          "text": [
            "Train Epoch: 13 [66560/84843 (78%)]\tLoss: 0.267477\n"
          ]
        },
        {
          "output_type": "stream",
          "name": "stderr",
          "text": [
            " 61%|██████    | 12.751999999999128/21 [05:31<03:33, 25.86s/it]"
          ]
        },
        {
          "output_type": "stream",
          "name": "stdout",
          "text": [
            "Train Epoch: 13 [71680/84843 (84%)]\tLoss: 0.268165\n"
          ]
        },
        {
          "output_type": "stream",
          "name": "stderr",
          "text": [
            " 61%|██████    | 12.810666666665789/21 [05:33<03:29, 25.53s/it]"
          ]
        },
        {
          "output_type": "stream",
          "name": "stdout",
          "text": [
            "Train Epoch: 13 [76800/84843 (90%)]\tLoss: 0.232976\n"
          ]
        },
        {
          "output_type": "stream",
          "name": "stderr",
          "text": [
            " 61%|██████    | 12.858666666665783/21 [05:34<03:33, 26.21s/it]"
          ]
        },
        {
          "output_type": "stream",
          "name": "stdout",
          "text": [
            "Train Epoch: 13 [81920/84843 (96%)]\tLoss: 0.319617\n"
          ]
        },
        {
          "output_type": "stream",
          "name": "stderr",
          "text": [
            " 62%|██████▏   | 13.002666666665768/21 [05:38<03:24, 25.61s/it]"
          ]
        },
        {
          "output_type": "stream",
          "name": "stdout",
          "text": [
            "\n",
            "Test Epoch: 13\tAccuracy: 9402/11005 (85%)\n",
            "\n",
            "Train Epoch: 14 [0/84843 (0%)]\tLoss: 0.236201\n"
          ]
        },
        {
          "output_type": "stream",
          "name": "stderr",
          "text": [
            " 62%|██████▏   | 13.061333333332428/21 [05:39<03:29, 26.42s/it]"
          ]
        },
        {
          "output_type": "stream",
          "name": "stdout",
          "text": [
            "Train Epoch: 14 [5120/84843 (6%)]\tLoss: 0.297939\n"
          ]
        },
        {
          "output_type": "stream",
          "name": "stderr",
          "text": [
            " 62%|██████▏   | 13.114666666665755/21 [05:41<03:27, 26.35s/it]"
          ]
        },
        {
          "output_type": "stream",
          "name": "stdout",
          "text": [
            "Train Epoch: 14 [10240/84843 (12%)]\tLoss: 0.382563\n"
          ]
        },
        {
          "output_type": "stream",
          "name": "stderr",
          "text": [
            " 63%|██████▎   | 13.167999999999083/21 [05:42<03:19, 25.51s/it]"
          ]
        },
        {
          "output_type": "stream",
          "name": "stdout",
          "text": [
            "Train Epoch: 14 [15360/84843 (18%)]\tLoss: 0.363333\n"
          ]
        },
        {
          "output_type": "stream",
          "name": "stderr",
          "text": [
            " 63%|██████▎   | 13.22133333333241/21 [05:44<03:16, 25.23s/it] "
          ]
        },
        {
          "output_type": "stream",
          "name": "stdout",
          "text": [
            "Train Epoch: 14 [20480/84843 (24%)]\tLoss: 0.379874\n"
          ]
        },
        {
          "output_type": "stream",
          "name": "stderr",
          "text": [
            " 63%|██████▎   | 13.274666666665738/21 [05:45<03:20, 25.89s/it]"
          ]
        },
        {
          "output_type": "stream",
          "name": "stdout",
          "text": [
            "Train Epoch: 14 [25600/84843 (30%)]\tLoss: 0.264344\n"
          ]
        },
        {
          "output_type": "stream",
          "name": "stderr",
          "text": [
            " 63%|██████▎   | 13.327999999999065/21 [05:46<03:18, 25.91s/it]"
          ]
        },
        {
          "output_type": "stream",
          "name": "stdout",
          "text": [
            "Train Epoch: 14 [30720/84843 (36%)]\tLoss: 0.255615\n"
          ]
        },
        {
          "output_type": "stream",
          "name": "stderr",
          "text": [
            " 64%|██████▎   | 13.381333333332392/21 [05:48<03:12, 25.24s/it]"
          ]
        },
        {
          "output_type": "stream",
          "name": "stdout",
          "text": [
            "Train Epoch: 14 [35840/84843 (42%)]\tLoss: 0.261441\n"
          ]
        },
        {
          "output_type": "stream",
          "name": "stderr",
          "text": [
            " 64%|██████▍   | 13.43466666666572/21 [05:49<03:11, 25.36s/it] "
          ]
        },
        {
          "output_type": "stream",
          "name": "stdout",
          "text": [
            "Train Epoch: 14 [40960/84843 (48%)]\tLoss: 0.230706\n"
          ]
        },
        {
          "output_type": "stream",
          "name": "stderr",
          "text": [
            " 64%|██████▍   | 13.487999999999047/21 [05:50<03:15, 25.97s/it]"
          ]
        },
        {
          "output_type": "stream",
          "name": "stdout",
          "text": [
            "Train Epoch: 14 [46080/84843 (54%)]\tLoss: 0.253885\n"
          ]
        },
        {
          "output_type": "stream",
          "name": "stderr",
          "text": [
            " 64%|██████▍   | 13.541333333332375/21 [05:52<03:15, 26.26s/it]"
          ]
        },
        {
          "output_type": "stream",
          "name": "stdout",
          "text": [
            "Train Epoch: 14 [51200/84843 (60%)]\tLoss: 0.235411\n"
          ]
        },
        {
          "output_type": "stream",
          "name": "stderr",
          "text": [
            " 65%|██████▍   | 13.594666666665702/21 [05:53<03:13, 26.19s/it]"
          ]
        },
        {
          "output_type": "stream",
          "name": "stdout",
          "text": [
            "Train Epoch: 14 [56320/84843 (66%)]\tLoss: 0.220060\n"
          ]
        },
        {
          "output_type": "stream",
          "name": "stderr",
          "text": [
            " 65%|██████▍   | 13.64799999999903/21 [05:55<03:13, 26.28s/it] "
          ]
        },
        {
          "output_type": "stream",
          "name": "stdout",
          "text": [
            "Train Epoch: 14 [61440/84843 (72%)]\tLoss: 0.287834\n"
          ]
        },
        {
          "output_type": "stream",
          "name": "stderr",
          "text": [
            " 65%|██████▌   | 13.701333333332357/21 [05:56<03:15, 26.80s/it]"
          ]
        },
        {
          "output_type": "stream",
          "name": "stdout",
          "text": [
            "Train Epoch: 14 [66560/84843 (78%)]\tLoss: 0.306073\n"
          ]
        },
        {
          "output_type": "stream",
          "name": "stderr",
          "text": [
            " 65%|██████▌   | 13.754666666665685/21 [05:57<03:11, 26.49s/it]"
          ]
        },
        {
          "output_type": "stream",
          "name": "stdout",
          "text": [
            "Train Epoch: 14 [71680/84843 (84%)]\tLoss: 0.287528\n"
          ]
        },
        {
          "output_type": "stream",
          "name": "stderr",
          "text": [
            " 66%|██████▌   | 13.807999999999012/21 [05:59<03:06, 25.93s/it]"
          ]
        },
        {
          "output_type": "stream",
          "name": "stdout",
          "text": [
            "Train Epoch: 14 [76800/84843 (90%)]\tLoss: 0.296334\n"
          ]
        },
        {
          "output_type": "stream",
          "name": "stderr",
          "text": [
            " 66%|██████▌   | 13.86133333333234/21 [06:00<03:06, 26.06s/it] "
          ]
        },
        {
          "output_type": "stream",
          "name": "stdout",
          "text": [
            "Train Epoch: 14 [81920/84843 (96%)]\tLoss: 0.214107\n"
          ]
        },
        {
          "output_type": "stream",
          "name": "stderr",
          "text": [
            " 67%|██████▋   | 14.005333333332324/21 [06:04<02:56, 25.17s/it]"
          ]
        },
        {
          "output_type": "stream",
          "name": "stdout",
          "text": [
            "\n",
            "Test Epoch: 14\tAccuracy: 9398/11005 (85%)\n",
            "\n",
            "Train Epoch: 15 [0/84843 (0%)]\tLoss: 0.330563\n"
          ]
        },
        {
          "output_type": "stream",
          "name": "stderr",
          "text": [
            " 67%|██████▋   | 14.058666666665651/21 [06:05<03:00, 25.94s/it]"
          ]
        },
        {
          "output_type": "stream",
          "name": "stdout",
          "text": [
            "Train Epoch: 15 [5120/84843 (6%)]\tLoss: 0.230493\n"
          ]
        },
        {
          "output_type": "stream",
          "name": "stderr",
          "text": [
            " 67%|██████▋   | 14.111999999998979/21 [06:07<02:58, 25.87s/it]"
          ]
        },
        {
          "output_type": "stream",
          "name": "stdout",
          "text": [
            "Train Epoch: 15 [10240/84843 (12%)]\tLoss: 0.373919\n"
          ]
        },
        {
          "output_type": "stream",
          "name": "stderr",
          "text": [
            " 67%|██████▋   | 14.165333333332306/21 [06:08<03:01, 26.49s/it]"
          ]
        },
        {
          "output_type": "stream",
          "name": "stdout",
          "text": [
            "Train Epoch: 15 [15360/84843 (18%)]\tLoss: 0.335607\n"
          ]
        },
        {
          "output_type": "stream",
          "name": "stderr",
          "text": [
            " 68%|██████▊   | 14.218666666665634/21 [06:09<02:56, 26.06s/it]"
          ]
        },
        {
          "output_type": "stream",
          "name": "stdout",
          "text": [
            "Train Epoch: 15 [20480/84843 (24%)]\tLoss: 0.278083\n"
          ]
        },
        {
          "output_type": "stream",
          "name": "stderr",
          "text": [
            " 68%|██████▊   | 14.271999999998961/21 [06:11<03:01, 26.91s/it]"
          ]
        },
        {
          "output_type": "stream",
          "name": "stdout",
          "text": [
            "Train Epoch: 15 [25600/84843 (30%)]\tLoss: 0.266380\n"
          ]
        },
        {
          "output_type": "stream",
          "name": "stderr",
          "text": [
            " 68%|██████▊   | 14.325333333332289/21 [06:12<03:04, 27.59s/it]"
          ]
        },
        {
          "output_type": "stream",
          "name": "stdout",
          "text": [
            "Train Epoch: 15 [30720/84843 (36%)]\tLoss: 0.298813\n"
          ]
        },
        {
          "output_type": "stream",
          "name": "stderr",
          "text": [
            " 68%|██████▊   | 14.378666666665616/21 [06:14<02:57, 26.80s/it]"
          ]
        },
        {
          "output_type": "stream",
          "name": "stdout",
          "text": [
            "Train Epoch: 15 [35840/84843 (42%)]\tLoss: 0.272764\n"
          ]
        },
        {
          "output_type": "stream",
          "name": "stderr",
          "text": [
            " 69%|██████▊   | 14.437333333332276/21 [06:15<02:52, 26.31s/it]"
          ]
        },
        {
          "output_type": "stream",
          "name": "stdout",
          "text": [
            "Train Epoch: 15 [40960/84843 (48%)]\tLoss: 0.249115\n"
          ]
        },
        {
          "output_type": "stream",
          "name": "stderr",
          "text": [
            " 69%|██████▉   | 14.485333333332271/21 [06:17<02:53, 26.61s/it]"
          ]
        },
        {
          "output_type": "stream",
          "name": "stdout",
          "text": [
            "Train Epoch: 15 [46080/84843 (54%)]\tLoss: 0.219975\n"
          ]
        },
        {
          "output_type": "stream",
          "name": "stderr",
          "text": [
            " 69%|██████▉   | 14.538666666665598/21 [06:18<02:50, 26.32s/it]"
          ]
        },
        {
          "output_type": "stream",
          "name": "stdout",
          "text": [
            "Train Epoch: 15 [51200/84843 (60%)]\tLoss: 0.252726\n"
          ]
        },
        {
          "output_type": "stream",
          "name": "stderr",
          "text": [
            " 69%|██████▉   | 14.591999999998926/21 [06:19<02:46, 26.02s/it]"
          ]
        },
        {
          "output_type": "stream",
          "name": "stdout",
          "text": [
            "Train Epoch: 15 [56320/84843 (66%)]\tLoss: 0.311875\n"
          ]
        },
        {
          "output_type": "stream",
          "name": "stderr",
          "text": [
            " 70%|██████▉   | 14.645333333332253/21 [06:21<02:42, 25.59s/it]"
          ]
        },
        {
          "output_type": "stream",
          "name": "stdout",
          "text": [
            "Train Epoch: 15 [61440/84843 (72%)]\tLoss: 0.284708\n"
          ]
        },
        {
          "output_type": "stream",
          "name": "stderr",
          "text": [
            " 70%|██████▉   | 14.69866666666558/21 [06:22<02:46, 26.49s/it] "
          ]
        },
        {
          "output_type": "stream",
          "name": "stdout",
          "text": [
            "Train Epoch: 15 [66560/84843 (78%)]\tLoss: 0.280123\n"
          ]
        },
        {
          "output_type": "stream",
          "name": "stderr",
          "text": [
            " 70%|███████   | 14.751999999998908/21 [06:24<02:48, 27.02s/it]"
          ]
        },
        {
          "output_type": "stream",
          "name": "stdout",
          "text": [
            "Train Epoch: 15 [71680/84843 (84%)]\tLoss: 0.389567\n"
          ]
        },
        {
          "output_type": "stream",
          "name": "stderr",
          "text": [
            " 71%|███████   | 14.805333333332236/21 [06:25<02:45, 26.64s/it]"
          ]
        },
        {
          "output_type": "stream",
          "name": "stdout",
          "text": [
            "Train Epoch: 15 [76800/84843 (90%)]\tLoss: 0.321206\n"
          ]
        },
        {
          "output_type": "stream",
          "name": "stderr",
          "text": [
            " 71%|███████   | 14.858666666665563/21 [06:26<02:45, 27.02s/it]"
          ]
        },
        {
          "output_type": "stream",
          "name": "stdout",
          "text": [
            "Train Epoch: 15 [81920/84843 (96%)]\tLoss: 0.315191\n"
          ]
        },
        {
          "output_type": "stream",
          "name": "stderr",
          "text": [
            " 71%|███████▏  | 15.002666666665547/21 [06:30<02:32, 25.50s/it]"
          ]
        },
        {
          "output_type": "stream",
          "name": "stdout",
          "text": [
            "\n",
            "Test Epoch: 15\tAccuracy: 9395/11005 (85%)\n",
            "\n",
            "Train Epoch: 16 [0/84843 (0%)]\tLoss: 0.297923\n"
          ]
        },
        {
          "output_type": "stream",
          "name": "stderr",
          "text": [
            " 72%|███████▏  | 15.061333333332207/21 [06:32<02:34, 25.97s/it]"
          ]
        },
        {
          "output_type": "stream",
          "name": "stdout",
          "text": [
            "Train Epoch: 16 [5120/84843 (6%)]\tLoss: 0.295826\n"
          ]
        },
        {
          "output_type": "stream",
          "name": "stderr",
          "text": [
            " 72%|███████▏  | 15.114666666665535/21 [06:33<02:34, 26.21s/it]"
          ]
        },
        {
          "output_type": "stream",
          "name": "stdout",
          "text": [
            "Train Epoch: 16 [10240/84843 (12%)]\tLoss: 0.269194\n"
          ]
        },
        {
          "output_type": "stream",
          "name": "stderr",
          "text": [
            " 72%|███████▏  | 15.167999999998862/21 [06:34<02:34, 26.41s/it]"
          ]
        },
        {
          "output_type": "stream",
          "name": "stdout",
          "text": [
            "Train Epoch: 16 [15360/84843 (18%)]\tLoss: 0.339779\n"
          ]
        },
        {
          "output_type": "stream",
          "name": "stderr",
          "text": [
            " 72%|███████▏  | 15.22133333333219/21 [06:36<02:31, 26.21s/it] "
          ]
        },
        {
          "output_type": "stream",
          "name": "stdout",
          "text": [
            "Train Epoch: 16 [20480/84843 (24%)]\tLoss: 0.319432\n"
          ]
        },
        {
          "output_type": "stream",
          "name": "stderr",
          "text": [
            " 73%|███████▎  | 15.274666666665517/21 [06:37<02:30, 26.34s/it]"
          ]
        },
        {
          "output_type": "stream",
          "name": "stdout",
          "text": [
            "Train Epoch: 16 [25600/84843 (30%)]\tLoss: 0.317623\n"
          ]
        },
        {
          "output_type": "stream",
          "name": "stderr",
          "text": [
            " 73%|███████▎  | 15.327999999998845/21 [06:39<02:29, 26.40s/it]"
          ]
        },
        {
          "output_type": "stream",
          "name": "stdout",
          "text": [
            "Train Epoch: 16 [30720/84843 (36%)]\tLoss: 0.277597\n"
          ]
        },
        {
          "output_type": "stream",
          "name": "stderr",
          "text": [
            " 73%|███████▎  | 15.381333333332172/21 [06:40<02:27, 26.25s/it]"
          ]
        },
        {
          "output_type": "stream",
          "name": "stdout",
          "text": [
            "Train Epoch: 16 [35840/84843 (42%)]\tLoss: 0.232354\n"
          ]
        },
        {
          "output_type": "stream",
          "name": "stderr",
          "text": [
            " 73%|███████▎  | 15.4346666666655/21 [06:41<02:27, 26.49s/it]  "
          ]
        },
        {
          "output_type": "stream",
          "name": "stdout",
          "text": [
            "Train Epoch: 16 [40960/84843 (48%)]\tLoss: 0.231906\n"
          ]
        },
        {
          "output_type": "stream",
          "name": "stderr",
          "text": [
            " 74%|███████▍  | 15.487999999998827/21 [06:43<02:30, 27.27s/it]"
          ]
        },
        {
          "output_type": "stream",
          "name": "stdout",
          "text": [
            "Train Epoch: 16 [46080/84843 (54%)]\tLoss: 0.265118\n"
          ]
        },
        {
          "output_type": "stream",
          "name": "stderr",
          "text": [
            " 74%|███████▍  | 15.541333333332155/21 [06:44<02:26, 26.85s/it]"
          ]
        },
        {
          "output_type": "stream",
          "name": "stdout",
          "text": [
            "Train Epoch: 16 [51200/84843 (60%)]\tLoss: 0.345239\n"
          ]
        },
        {
          "output_type": "stream",
          "name": "stderr",
          "text": [
            " 74%|███████▍  | 15.594666666665482/21 [06:46<02:31, 28.10s/it]"
          ]
        },
        {
          "output_type": "stream",
          "name": "stdout",
          "text": [
            "Train Epoch: 16 [56320/84843 (66%)]\tLoss: 0.233537\n"
          ]
        },
        {
          "output_type": "stream",
          "name": "stderr",
          "text": [
            " 75%|███████▍  | 15.64799999999881/21 [06:47<02:23, 26.86s/it] "
          ]
        },
        {
          "output_type": "stream",
          "name": "stdout",
          "text": [
            "Train Epoch: 16 [61440/84843 (72%)]\tLoss: 0.344550\n"
          ]
        },
        {
          "output_type": "stream",
          "name": "stderr",
          "text": [
            " 75%|███████▍  | 15.701333333332137/21 [06:48<02:16, 25.73s/it]"
          ]
        },
        {
          "output_type": "stream",
          "name": "stdout",
          "text": [
            "Train Epoch: 16 [66560/84843 (78%)]\tLoss: 0.281500\n"
          ]
        },
        {
          "output_type": "stream",
          "name": "stderr",
          "text": [
            " 75%|███████▌  | 15.754666666665464/21 [06:50<02:15, 25.92s/it]"
          ]
        },
        {
          "output_type": "stream",
          "name": "stdout",
          "text": [
            "Train Epoch: 16 [71680/84843 (84%)]\tLoss: 0.272092\n"
          ]
        },
        {
          "output_type": "stream",
          "name": "stderr",
          "text": [
            " 75%|███████▌  | 15.807999999998792/21 [06:51<02:14, 25.97s/it]"
          ]
        },
        {
          "output_type": "stream",
          "name": "stdout",
          "text": [
            "Train Epoch: 16 [76800/84843 (90%)]\tLoss: 0.220187\n"
          ]
        },
        {
          "output_type": "stream",
          "name": "stderr",
          "text": [
            " 76%|███████▌  | 15.86133333333212/21 [06:53<02:12, 25.80s/it] "
          ]
        },
        {
          "output_type": "stream",
          "name": "stdout",
          "text": [
            "Train Epoch: 16 [81920/84843 (96%)]\tLoss: 0.306276\n"
          ]
        },
        {
          "output_type": "stream",
          "name": "stderr",
          "text": [
            " 76%|███████▌  | 16.005333333332104/21 [06:56<02:06, 25.31s/it]"
          ]
        },
        {
          "output_type": "stream",
          "name": "stdout",
          "text": [
            "\n",
            "Test Epoch: 16\tAccuracy: 9399/11005 (85%)\n",
            "\n",
            "Train Epoch: 17 [0/84843 (0%)]\tLoss: 0.192493\n"
          ]
        },
        {
          "output_type": "stream",
          "name": "stderr",
          "text": [
            " 76%|███████▋  | 16.05866666666543/21 [06:58<02:10, 26.31s/it] "
          ]
        },
        {
          "output_type": "stream",
          "name": "stdout",
          "text": [
            "Train Epoch: 17 [5120/84843 (6%)]\tLoss: 0.270362\n"
          ]
        },
        {
          "output_type": "stream",
          "name": "stderr",
          "text": [
            " 77%|███████▋  | 16.11199999999876/21 [06:59<02:09, 26.52s/it] "
          ]
        },
        {
          "output_type": "stream",
          "name": "stdout",
          "text": [
            "Train Epoch: 17 [10240/84843 (12%)]\tLoss: 0.235010\n"
          ]
        },
        {
          "output_type": "stream",
          "name": "stderr",
          "text": [
            " 77%|███████▋  | 16.165333333332086/21 [07:00<02:10, 26.94s/it]"
          ]
        },
        {
          "output_type": "stream",
          "name": "stdout",
          "text": [
            "Train Epoch: 17 [15360/84843 (18%)]\tLoss: 0.426647\n"
          ]
        },
        {
          "output_type": "stream",
          "name": "stderr",
          "text": [
            " 77%|███████▋  | 16.218666666665413/21 [07:02<02:08, 26.79s/it]"
          ]
        },
        {
          "output_type": "stream",
          "name": "stdout",
          "text": [
            "Train Epoch: 17 [20480/84843 (24%)]\tLoss: 0.277854\n"
          ]
        },
        {
          "output_type": "stream",
          "name": "stderr",
          "text": [
            " 77%|███████▋  | 16.27199999999874/21 [07:03<02:04, 26.28s/it] "
          ]
        },
        {
          "output_type": "stream",
          "name": "stdout",
          "text": [
            "Train Epoch: 17 [25600/84843 (30%)]\tLoss: 0.255958\n"
          ]
        },
        {
          "output_type": "stream",
          "name": "stderr",
          "text": [
            " 78%|███████▊  | 16.32533333333207/21 [07:05<02:03, 26.43s/it] "
          ]
        },
        {
          "output_type": "stream",
          "name": "stdout",
          "text": [
            "Train Epoch: 17 [30720/84843 (36%)]\tLoss: 0.358373\n"
          ]
        },
        {
          "output_type": "stream",
          "name": "stderr",
          "text": [
            " 78%|███████▊  | 16.378666666665396/21 [07:06<01:59, 25.90s/it]"
          ]
        },
        {
          "output_type": "stream",
          "name": "stdout",
          "text": [
            "Train Epoch: 17 [35840/84843 (42%)]\tLoss: 0.367521\n"
          ]
        },
        {
          "output_type": "stream",
          "name": "stderr",
          "text": [
            " 78%|███████▊  | 16.431999999998723/21 [07:07<01:57, 25.75s/it]"
          ]
        },
        {
          "output_type": "stream",
          "name": "stdout",
          "text": [
            "Train Epoch: 17 [40960/84843 (48%)]\tLoss: 0.172308\n"
          ]
        },
        {
          "output_type": "stream",
          "name": "stderr",
          "text": [
            " 79%|███████▊  | 16.48533333333205/21 [07:09<01:56, 25.71s/it] "
          ]
        },
        {
          "output_type": "stream",
          "name": "stdout",
          "text": [
            "Train Epoch: 17 [46080/84843 (54%)]\tLoss: 0.260745\n"
          ]
        },
        {
          "output_type": "stream",
          "name": "stderr",
          "text": [
            " 79%|███████▉  | 16.538666666665378/21 [07:10<01:55, 25.97s/it]"
          ]
        },
        {
          "output_type": "stream",
          "name": "stdout",
          "text": [
            "Train Epoch: 17 [51200/84843 (60%)]\tLoss: 0.230315\n"
          ]
        },
        {
          "output_type": "stream",
          "name": "stderr",
          "text": [
            " 79%|███████▉  | 16.591999999998706/21 [07:12<01:53, 25.66s/it]"
          ]
        },
        {
          "output_type": "stream",
          "name": "stdout",
          "text": [
            "Train Epoch: 17 [56320/84843 (66%)]\tLoss: 0.281683\n"
          ]
        },
        {
          "output_type": "stream",
          "name": "stderr",
          "text": [
            " 79%|███████▉  | 16.645333333332033/21 [07:13<01:54, 26.41s/it]"
          ]
        },
        {
          "output_type": "stream",
          "name": "stdout",
          "text": [
            "Train Epoch: 17 [61440/84843 (72%)]\tLoss: 0.273269\n"
          ]
        },
        {
          "output_type": "stream",
          "name": "stderr",
          "text": [
            " 80%|███████▉  | 16.69866666666536/21 [07:14<01:53, 26.47s/it] "
          ]
        },
        {
          "output_type": "stream",
          "name": "stdout",
          "text": [
            "Train Epoch: 17 [66560/84843 (78%)]\tLoss: 0.341695\n"
          ]
        },
        {
          "output_type": "stream",
          "name": "stderr",
          "text": [
            " 80%|███████▉  | 16.751999999998688/21 [07:16<01:53, 26.67s/it]"
          ]
        },
        {
          "output_type": "stream",
          "name": "stdout",
          "text": [
            "Train Epoch: 17 [71680/84843 (84%)]\tLoss: 0.177544\n"
          ]
        },
        {
          "output_type": "stream",
          "name": "stderr",
          "text": [
            " 80%|████████  | 16.805333333332015/21 [07:17<01:55, 27.56s/it]"
          ]
        },
        {
          "output_type": "stream",
          "name": "stdout",
          "text": [
            "Train Epoch: 17 [76800/84843 (90%)]\tLoss: 0.335841\n"
          ]
        },
        {
          "output_type": "stream",
          "name": "stderr",
          "text": [
            " 80%|████████  | 16.858666666665343/21 [07:19<01:49, 26.52s/it]"
          ]
        },
        {
          "output_type": "stream",
          "name": "stdout",
          "text": [
            "Train Epoch: 17 [81920/84843 (96%)]\tLoss: 0.242867\n"
          ]
        },
        {
          "output_type": "stream",
          "name": "stderr",
          "text": [
            " 81%|████████  | 17.002666666665327/21 [07:22<01:40, 25.14s/it]"
          ]
        },
        {
          "output_type": "stream",
          "name": "stdout",
          "text": [
            "\n",
            "Test Epoch: 17\tAccuracy: 9388/11005 (85%)\n",
            "\n",
            "Train Epoch: 18 [0/84843 (0%)]\tLoss: 0.322137\n"
          ]
        },
        {
          "output_type": "stream",
          "name": "stderr",
          "text": [
            " 81%|████████  | 17.061333333331987/21 [07:24<01:48, 27.47s/it]"
          ]
        },
        {
          "output_type": "stream",
          "name": "stdout",
          "text": [
            "Train Epoch: 18 [5120/84843 (6%)]\tLoss: 0.250678\n"
          ]
        },
        {
          "output_type": "stream",
          "name": "stderr",
          "text": [
            " 81%|████████▏ | 17.114666666665315/21 [07:25<01:43, 26.53s/it]"
          ]
        },
        {
          "output_type": "stream",
          "name": "stdout",
          "text": [
            "Train Epoch: 18 [10240/84843 (12%)]\tLoss: 0.269626\n"
          ]
        },
        {
          "output_type": "stream",
          "name": "stderr",
          "text": [
            " 82%|████████▏ | 17.167999999998642/21 [07:27<01:38, 25.67s/it]"
          ]
        },
        {
          "output_type": "stream",
          "name": "stdout",
          "text": [
            "Train Epoch: 18 [15360/84843 (18%)]\tLoss: 0.192415\n"
          ]
        },
        {
          "output_type": "stream",
          "name": "stderr",
          "text": [
            " 82%|████████▏ | 17.22133333333197/21 [07:28<01:38, 26.05s/it] "
          ]
        },
        {
          "output_type": "stream",
          "name": "stdout",
          "text": [
            "Train Epoch: 18 [20480/84843 (24%)]\tLoss: 0.256214\n"
          ]
        },
        {
          "output_type": "stream",
          "name": "stderr",
          "text": [
            " 82%|████████▏ | 17.274666666665297/21 [07:29<01:38, 26.36s/it]"
          ]
        },
        {
          "output_type": "stream",
          "name": "stdout",
          "text": [
            "Train Epoch: 18 [25600/84843 (30%)]\tLoss: 0.304850\n"
          ]
        },
        {
          "output_type": "stream",
          "name": "stderr",
          "text": [
            " 83%|████████▎ | 17.327999999998625/21 [07:31<01:38, 26.72s/it]"
          ]
        },
        {
          "output_type": "stream",
          "name": "stdout",
          "text": [
            "Train Epoch: 18 [30720/84843 (36%)]\tLoss: 0.281891\n"
          ]
        },
        {
          "output_type": "stream",
          "name": "stderr",
          "text": [
            " 83%|████████▎ | 17.381333333331952/21 [07:32<01:39, 27.62s/it]"
          ]
        },
        {
          "output_type": "stream",
          "name": "stdout",
          "text": [
            "Train Epoch: 18 [35840/84843 (42%)]\tLoss: 0.236877\n"
          ]
        },
        {
          "output_type": "stream",
          "name": "stderr",
          "text": [
            " 83%|████████▎ | 17.43466666666528/21 [07:34<01:35, 26.86s/it] "
          ]
        },
        {
          "output_type": "stream",
          "name": "stdout",
          "text": [
            "Train Epoch: 18 [40960/84843 (48%)]\tLoss: 0.328843\n"
          ]
        },
        {
          "output_type": "stream",
          "name": "stderr",
          "text": [
            " 83%|████████▎ | 17.487999999998607/21 [07:35<01:33, 26.65s/it]"
          ]
        },
        {
          "output_type": "stream",
          "name": "stdout",
          "text": [
            "Train Epoch: 18 [46080/84843 (54%)]\tLoss: 0.294564\n"
          ]
        },
        {
          "output_type": "stream",
          "name": "stderr",
          "text": [
            " 84%|████████▎ | 17.541333333331934/21 [07:37<01:28, 25.48s/it]"
          ]
        },
        {
          "output_type": "stream",
          "name": "stdout",
          "text": [
            "Train Epoch: 18 [51200/84843 (60%)]\tLoss: 0.248638\n"
          ]
        },
        {
          "output_type": "stream",
          "name": "stderr",
          "text": [
            " 84%|████████▍ | 17.594666666665262/21 [07:38<01:27, 25.83s/it]"
          ]
        },
        {
          "output_type": "stream",
          "name": "stdout",
          "text": [
            "Train Epoch: 18 [56320/84843 (66%)]\tLoss: 0.315846\n"
          ]
        },
        {
          "output_type": "stream",
          "name": "stderr",
          "text": [
            " 84%|████████▍ | 17.64799999999859/21 [07:39<01:27, 25.96s/it] "
          ]
        },
        {
          "output_type": "stream",
          "name": "stdout",
          "text": [
            "Train Epoch: 18 [61440/84843 (72%)]\tLoss: 0.260748\n"
          ]
        },
        {
          "output_type": "stream",
          "name": "stderr",
          "text": [
            " 84%|████████▍ | 17.701333333331917/21 [07:41<01:26, 26.28s/it]"
          ]
        },
        {
          "output_type": "stream",
          "name": "stdout",
          "text": [
            "Train Epoch: 18 [66560/84843 (78%)]\tLoss: 0.284133\n"
          ]
        },
        {
          "output_type": "stream",
          "name": "stderr",
          "text": [
            " 85%|████████▍ | 17.754666666665244/21 [07:42<01:25, 26.31s/it]"
          ]
        },
        {
          "output_type": "stream",
          "name": "stdout",
          "text": [
            "Train Epoch: 18 [71680/84843 (84%)]\tLoss: 0.224921\n"
          ]
        },
        {
          "output_type": "stream",
          "name": "stderr",
          "text": [
            " 85%|████████▍ | 17.80799999999857/21 [07:44<01:22, 25.79s/it]"
          ]
        },
        {
          "output_type": "stream",
          "name": "stdout",
          "text": [
            "Train Epoch: 18 [76800/84843 (90%)]\tLoss: 0.362440\n"
          ]
        },
        {
          "output_type": "stream",
          "name": "stderr",
          "text": [
            " 85%|████████▌ | 17.8613333333319/21 [07:45<01:24, 26.88s/it]  "
          ]
        },
        {
          "output_type": "stream",
          "name": "stdout",
          "text": [
            "Train Epoch: 18 [81920/84843 (96%)]\tLoss: 0.300219\n"
          ]
        },
        {
          "output_type": "stream",
          "name": "stderr",
          "text": [
            " 86%|████████▌ | 18.005333333331883/21 [07:49<01:17, 25.87s/it]"
          ]
        },
        {
          "output_type": "stream",
          "name": "stdout",
          "text": [
            "\n",
            "Test Epoch: 18\tAccuracy: 9410/11005 (86%)\n",
            "\n",
            "Train Epoch: 19 [0/84843 (0%)]\tLoss: 0.322379\n"
          ]
        },
        {
          "output_type": "stream",
          "name": "stderr",
          "text": [
            " 86%|████████▌ | 18.05866666666521/21 [07:50<01:22, 27.91s/it] "
          ]
        },
        {
          "output_type": "stream",
          "name": "stdout",
          "text": [
            "Train Epoch: 19 [5120/84843 (6%)]\tLoss: 0.345524\n"
          ]
        },
        {
          "output_type": "stream",
          "name": "stderr",
          "text": [
            " 86%|████████▋ | 18.11733333333187/21 [07:52<01:14, 25.92s/it] "
          ]
        },
        {
          "output_type": "stream",
          "name": "stdout",
          "text": [
            "Train Epoch: 19 [10240/84843 (12%)]\tLoss: 0.231956\n"
          ]
        },
        {
          "output_type": "stream",
          "name": "stderr",
          "text": [
            " 87%|████████▋ | 18.165333333331866/21 [07:53<01:13, 25.90s/it]"
          ]
        },
        {
          "output_type": "stream",
          "name": "stdout",
          "text": [
            "Train Epoch: 19 [15360/84843 (18%)]\tLoss: 0.234327\n"
          ]
        },
        {
          "output_type": "stream",
          "name": "stderr",
          "text": [
            " 87%|████████▋ | 18.223999999998526/21 [07:55<01:12, 26.02s/it]"
          ]
        },
        {
          "output_type": "stream",
          "name": "stdout",
          "text": [
            "Train Epoch: 19 [20480/84843 (24%)]\tLoss: 0.215492\n"
          ]
        },
        {
          "output_type": "stream",
          "name": "stderr",
          "text": [
            " 87%|████████▋ | 18.277333333331853/21 [07:56<01:09, 25.59s/it]"
          ]
        },
        {
          "output_type": "stream",
          "name": "stdout",
          "text": [
            "Train Epoch: 19 [25600/84843 (30%)]\tLoss: 0.316573\n"
          ]
        },
        {
          "output_type": "stream",
          "name": "stderr",
          "text": [
            " 87%|████████▋ | 18.33066666666518/21 [07:57<01:08, 25.68s/it] "
          ]
        },
        {
          "output_type": "stream",
          "name": "stdout",
          "text": [
            "Train Epoch: 19 [30720/84843 (36%)]\tLoss: 0.184928\n"
          ]
        },
        {
          "output_type": "stream",
          "name": "stderr",
          "text": [
            " 88%|████████▊ | 18.383999999998508/21 [07:59<01:07, 25.75s/it]"
          ]
        },
        {
          "output_type": "stream",
          "name": "stdout",
          "text": [
            "Train Epoch: 19 [35840/84843 (42%)]\tLoss: 0.322051\n"
          ]
        },
        {
          "output_type": "stream",
          "name": "stderr",
          "text": [
            " 88%|████████▊ | 18.431999999998503/21 [08:00<01:07, 26.43s/it]"
          ]
        },
        {
          "output_type": "stream",
          "name": "stdout",
          "text": [
            "Train Epoch: 19 [40960/84843 (48%)]\tLoss: 0.237503\n"
          ]
        },
        {
          "output_type": "stream",
          "name": "stderr",
          "text": [
            " 88%|████████▊ | 18.48533333333183/21 [08:01<01:05, 26.09s/it] "
          ]
        },
        {
          "output_type": "stream",
          "name": "stdout",
          "text": [
            "Train Epoch: 19 [46080/84843 (54%)]\tLoss: 0.246041\n"
          ]
        },
        {
          "output_type": "stream",
          "name": "stderr",
          "text": [
            " 88%|████████▊ | 18.538666666665158/21 [08:03<01:06, 26.84s/it]"
          ]
        },
        {
          "output_type": "stream",
          "name": "stdout",
          "text": [
            "Train Epoch: 19 [51200/84843 (60%)]\tLoss: 0.386355\n"
          ]
        },
        {
          "output_type": "stream",
          "name": "stderr",
          "text": [
            " 89%|████████▊ | 18.591999999998485/21 [08:04<01:05, 27.13s/it]"
          ]
        },
        {
          "output_type": "stream",
          "name": "stdout",
          "text": [
            "Train Epoch: 19 [56320/84843 (66%)]\tLoss: 0.292638\n"
          ]
        },
        {
          "output_type": "stream",
          "name": "stderr",
          "text": [
            " 89%|████████▉ | 18.645333333331813/21 [08:06<01:05, 27.88s/it]"
          ]
        },
        {
          "output_type": "stream",
          "name": "stdout",
          "text": [
            "Train Epoch: 19 [61440/84843 (72%)]\tLoss: 0.225377\n"
          ]
        },
        {
          "output_type": "stream",
          "name": "stderr",
          "text": [
            " 89%|████████▉ | 18.69866666666514/21 [08:07<01:02, 27.28s/it] "
          ]
        },
        {
          "output_type": "stream",
          "name": "stdout",
          "text": [
            "Train Epoch: 19 [66560/84843 (78%)]\tLoss: 0.315681\n"
          ]
        },
        {
          "output_type": "stream",
          "name": "stderr",
          "text": [
            " 89%|████████▉ | 18.751999999998468/21 [08:09<00:58, 25.87s/it]"
          ]
        },
        {
          "output_type": "stream",
          "name": "stdout",
          "text": [
            "Train Epoch: 19 [71680/84843 (84%)]\tLoss: 0.318527\n"
          ]
        },
        {
          "output_type": "stream",
          "name": "stderr",
          "text": [
            " 90%|████████▉ | 18.805333333331795/21 [08:10<00:57, 26.35s/it]"
          ]
        },
        {
          "output_type": "stream",
          "name": "stdout",
          "text": [
            "Train Epoch: 19 [76800/84843 (90%)]\tLoss: 0.259344\n"
          ]
        },
        {
          "output_type": "stream",
          "name": "stderr",
          "text": [
            " 90%|████████▉ | 18.858666666665123/21 [08:11<00:56, 26.16s/it]"
          ]
        },
        {
          "output_type": "stream",
          "name": "stdout",
          "text": [
            "Train Epoch: 19 [81920/84843 (96%)]\tLoss: 0.424544\n"
          ]
        },
        {
          "output_type": "stream",
          "name": "stderr",
          "text": [
            " 90%|█████████ | 19.002666666665107/21 [08:15<00:50, 25.45s/it]"
          ]
        },
        {
          "output_type": "stream",
          "name": "stdout",
          "text": [
            "\n",
            "Test Epoch: 19\tAccuracy: 9388/11005 (85%)\n",
            "\n",
            "Train Epoch: 20 [0/84843 (0%)]\tLoss: 0.232218\n"
          ]
        },
        {
          "output_type": "stream",
          "name": "stderr",
          "text": [
            " 91%|█████████ | 19.061333333331767/21 [08:16<00:51, 26.54s/it]"
          ]
        },
        {
          "output_type": "stream",
          "name": "stdout",
          "text": [
            "Train Epoch: 20 [5120/84843 (6%)]\tLoss: 0.235564\n"
          ]
        },
        {
          "output_type": "stream",
          "name": "stderr",
          "text": [
            " 91%|█████████ | 19.114666666665094/21 [08:18<00:49, 26.50s/it]"
          ]
        },
        {
          "output_type": "stream",
          "name": "stdout",
          "text": [
            "Train Epoch: 20 [10240/84843 (12%)]\tLoss: 0.341458\n"
          ]
        },
        {
          "output_type": "stream",
          "name": "stderr",
          "text": [
            " 91%|█████████▏| 19.167999999998422/21 [08:19<00:49, 27.26s/it]"
          ]
        },
        {
          "output_type": "stream",
          "name": "stdout",
          "text": [
            "Train Epoch: 20 [15360/84843 (18%)]\tLoss: 0.316846\n"
          ]
        },
        {
          "output_type": "stream",
          "name": "stderr",
          "text": [
            " 92%|█████████▏| 19.22133333333175/21 [08:21<00:48, 27.12s/it] "
          ]
        },
        {
          "output_type": "stream",
          "name": "stdout",
          "text": [
            "Train Epoch: 20 [20480/84843 (24%)]\tLoss: 0.363618\n"
          ]
        },
        {
          "output_type": "stream",
          "name": "stderr",
          "text": [
            " 92%|█████████▏| 19.274666666665077/21 [08:22<00:48, 28.05s/it]"
          ]
        },
        {
          "output_type": "stream",
          "name": "stdout",
          "text": [
            "Train Epoch: 20 [25600/84843 (30%)]\tLoss: 0.186544\n"
          ]
        },
        {
          "output_type": "stream",
          "name": "stderr",
          "text": [
            " 92%|█████████▏| 19.327999999998404/21 [08:24<00:45, 27.10s/it]"
          ]
        },
        {
          "output_type": "stream",
          "name": "stdout",
          "text": [
            "Train Epoch: 20 [30720/84843 (36%)]\tLoss: 0.238937\n"
          ]
        },
        {
          "output_type": "stream",
          "name": "stderr",
          "text": [
            " 92%|█████████▏| 19.38133333333173/21 [08:25<00:42, 26.23s/it]"
          ]
        },
        {
          "output_type": "stream",
          "name": "stdout",
          "text": [
            "Train Epoch: 20 [35840/84843 (42%)]\tLoss: 0.259199\n"
          ]
        },
        {
          "output_type": "stream",
          "name": "stderr",
          "text": [
            " 93%|█████████▎| 19.43466666666506/21 [08:26<00:40, 25.83s/it] "
          ]
        },
        {
          "output_type": "stream",
          "name": "stdout",
          "text": [
            "Train Epoch: 20 [40960/84843 (48%)]\tLoss: 0.329258\n"
          ]
        },
        {
          "output_type": "stream",
          "name": "stderr",
          "text": [
            " 93%|█████████▎| 19.487999999998387/21 [08:28<00:39, 26.06s/it]"
          ]
        },
        {
          "output_type": "stream",
          "name": "stdout",
          "text": [
            "Train Epoch: 20 [46080/84843 (54%)]\tLoss: 0.226306\n"
          ]
        },
        {
          "output_type": "stream",
          "name": "stderr",
          "text": [
            " 93%|█████████▎| 19.541333333331714/21 [08:29<00:37, 25.97s/it]"
          ]
        },
        {
          "output_type": "stream",
          "name": "stdout",
          "text": [
            "Train Epoch: 20 [51200/84843 (60%)]\tLoss: 0.307448\n"
          ]
        },
        {
          "output_type": "stream",
          "name": "stderr",
          "text": [
            " 93%|█████████▎| 19.59466666666504/21 [08:31<00:36, 26.16s/it]"
          ]
        },
        {
          "output_type": "stream",
          "name": "stdout",
          "text": [
            "Train Epoch: 20 [56320/84843 (66%)]\tLoss: 0.301838\n"
          ]
        },
        {
          "output_type": "stream",
          "name": "stderr",
          "text": [
            " 94%|█████████▎| 19.64799999999837/21 [08:32<00:35, 26.14s/it] "
          ]
        },
        {
          "output_type": "stream",
          "name": "stdout",
          "text": [
            "Train Epoch: 20 [61440/84843 (72%)]\tLoss: 0.340924\n"
          ]
        },
        {
          "output_type": "stream",
          "name": "stderr",
          "text": [
            " 94%|█████████▍| 19.701333333331696/21 [08:33<00:33, 26.16s/it]"
          ]
        },
        {
          "output_type": "stream",
          "name": "stdout",
          "text": [
            "Train Epoch: 20 [66560/84843 (78%)]\tLoss: 0.263988\n"
          ]
        },
        {
          "output_type": "stream",
          "name": "stderr",
          "text": [
            " 94%|█████████▍| 19.754666666665024/21 [08:35<00:33, 27.04s/it]"
          ]
        },
        {
          "output_type": "stream",
          "name": "stdout",
          "text": [
            "Train Epoch: 20 [71680/84843 (84%)]\tLoss: 0.193280\n"
          ]
        },
        {
          "output_type": "stream",
          "name": "stderr",
          "text": [
            " 94%|█████████▍| 19.80799999999835/21 [08:36<00:32, 27.00s/it]"
          ]
        },
        {
          "output_type": "stream",
          "name": "stdout",
          "text": [
            "Train Epoch: 20 [76800/84843 (90%)]\tLoss: 0.206506\n"
          ]
        },
        {
          "output_type": "stream",
          "name": "stderr",
          "text": [
            " 95%|█████████▍| 19.86133333333168/21 [08:38<00:30, 26.83s/it] "
          ]
        },
        {
          "output_type": "stream",
          "name": "stdout",
          "text": [
            "Train Epoch: 20 [81920/84843 (96%)]\tLoss: 0.237515\n"
          ]
        },
        {
          "output_type": "stream",
          "name": "stderr",
          "text": [
            " 95%|█████████▌| 20.005333333331663/21 [08:41<00:24, 24.96s/it]"
          ]
        },
        {
          "output_type": "stream",
          "name": "stdout",
          "text": [
            "\n",
            "Test Epoch: 20\tAccuracy: 9366/11005 (85%)\n",
            "\n",
            "Train Epoch: 21 [0/84843 (0%)]\tLoss: 0.219815\n"
          ]
        },
        {
          "output_type": "stream",
          "name": "stderr",
          "text": [
            " 96%|█████████▌| 20.05866666666499/21 [08:43<00:24, 25.59s/it] "
          ]
        },
        {
          "output_type": "stream",
          "name": "stdout",
          "text": [
            "Train Epoch: 21 [5120/84843 (6%)]\tLoss: 0.225626\n"
          ]
        },
        {
          "output_type": "stream",
          "name": "stderr",
          "text": [
            " 96%|█████████▌| 20.111999999998318/21 [08:44<00:23, 26.94s/it]"
          ]
        },
        {
          "output_type": "stream",
          "name": "stdout",
          "text": [
            "Train Epoch: 21 [10240/84843 (12%)]\tLoss: 0.242872\n"
          ]
        },
        {
          "output_type": "stream",
          "name": "stderr",
          "text": [
            " 96%|█████████▌| 20.165333333331645/21 [08:46<00:22, 26.42s/it]"
          ]
        },
        {
          "output_type": "stream",
          "name": "stdout",
          "text": [
            "Train Epoch: 21 [15360/84843 (18%)]\tLoss: 0.322345\n"
          ]
        },
        {
          "output_type": "stream",
          "name": "stderr",
          "text": [
            " 96%|█████████▋| 20.218666666664973/21 [08:47<00:20, 26.40s/it]"
          ]
        },
        {
          "output_type": "stream",
          "name": "stdout",
          "text": [
            "Train Epoch: 21 [20480/84843 (24%)]\tLoss: 0.185685\n"
          ]
        },
        {
          "output_type": "stream",
          "name": "stderr",
          "text": [
            " 97%|█████████▋| 20.2719999999983/21 [08:48<00:19, 26.58s/it]  "
          ]
        },
        {
          "output_type": "stream",
          "name": "stdout",
          "text": [
            "Train Epoch: 21 [25600/84843 (30%)]\tLoss: 0.243803\n"
          ]
        },
        {
          "output_type": "stream",
          "name": "stderr",
          "text": [
            " 97%|█████████▋| 20.325333333331628/21 [08:50<00:17, 26.45s/it]"
          ]
        },
        {
          "output_type": "stream",
          "name": "stdout",
          "text": [
            "Train Epoch: 21 [30720/84843 (36%)]\tLoss: 0.165247\n"
          ]
        },
        {
          "output_type": "stream",
          "name": "stderr",
          "text": [
            " 97%|█████████▋| 20.378666666664955/21 [08:51<00:16, 26.61s/it]"
          ]
        },
        {
          "output_type": "stream",
          "name": "stdout",
          "text": [
            "Train Epoch: 21 [35840/84843 (42%)]\tLoss: 0.308941\n"
          ]
        },
        {
          "output_type": "stream",
          "name": "stderr",
          "text": [
            " 97%|█████████▋| 20.431999999998283/21 [08:53<00:15, 27.81s/it]"
          ]
        },
        {
          "output_type": "stream",
          "name": "stdout",
          "text": [
            "Train Epoch: 21 [40960/84843 (48%)]\tLoss: 0.281552\n"
          ]
        },
        {
          "output_type": "stream",
          "name": "stderr",
          "text": [
            " 98%|█████████▊| 20.48533333333161/21 [08:54<00:14, 27.81s/it] "
          ]
        },
        {
          "output_type": "stream",
          "name": "stdout",
          "text": [
            "Train Epoch: 21 [46080/84843 (54%)]\tLoss: 0.245917\n"
          ]
        },
        {
          "output_type": "stream",
          "name": "stderr",
          "text": [
            " 98%|█████████▊| 20.538666666664938/21 [08:56<00:12, 27.50s/it]"
          ]
        },
        {
          "output_type": "stream",
          "name": "stdout",
          "text": [
            "Train Epoch: 21 [51200/84843 (60%)]\tLoss: 0.318688\n"
          ]
        },
        {
          "output_type": "stream",
          "name": "stderr",
          "text": [
            " 98%|█████████▊| 20.591999999998265/21 [08:57<00:10, 26.48s/it]"
          ]
        },
        {
          "output_type": "stream",
          "name": "stdout",
          "text": [
            "Train Epoch: 21 [56320/84843 (66%)]\tLoss: 0.300814\n"
          ]
        },
        {
          "output_type": "stream",
          "name": "stderr",
          "text": [
            " 98%|█████████▊| 20.645333333331592/21 [08:58<00:09, 26.49s/it]"
          ]
        },
        {
          "output_type": "stream",
          "name": "stdout",
          "text": [
            "Train Epoch: 21 [61440/84843 (72%)]\tLoss: 0.294141\n"
          ]
        },
        {
          "output_type": "stream",
          "name": "stderr",
          "text": [
            " 99%|█████████▊| 20.69866666666492/21 [09:00<00:07, 26.35s/it] "
          ]
        },
        {
          "output_type": "stream",
          "name": "stdout",
          "text": [
            "Train Epoch: 21 [66560/84843 (78%)]\tLoss: 0.247549\n"
          ]
        },
        {
          "output_type": "stream",
          "name": "stderr",
          "text": [
            " 99%|█████████▉| 20.751999999998247/21 [09:01<00:06, 26.28s/it]"
          ]
        },
        {
          "output_type": "stream",
          "name": "stdout",
          "text": [
            "Train Epoch: 21 [71680/84843 (84%)]\tLoss: 0.261219\n"
          ]
        },
        {
          "output_type": "stream",
          "name": "stderr",
          "text": [
            " 99%|█████████▉| 20.805333333331575/21 [09:03<00:05, 26.36s/it]"
          ]
        },
        {
          "output_type": "stream",
          "name": "stdout",
          "text": [
            "Train Epoch: 21 [76800/84843 (90%)]\tLoss: 0.311029\n"
          ]
        },
        {
          "output_type": "stream",
          "name": "stderr",
          "text": [
            " 99%|█████████▉| 20.858666666664902/21 [09:04<00:03, 27.03s/it]"
          ]
        },
        {
          "output_type": "stream",
          "name": "stdout",
          "text": [
            "Train Epoch: 21 [81920/84843 (96%)]\tLoss: 0.264334\n"
          ]
        },
        {
          "output_type": "stream",
          "name": "stderr",
          "text": [
            "100%|█████████▉| 20.99999999999822/21 [09:08<00:00, 26.11s/it] \n"
          ]
        },
        {
          "output_type": "stream",
          "name": "stdout",
          "text": [
            "\n",
            "Test Epoch: 21\tAccuracy: 9369/11005 (85%)\n",
            "\n"
          ]
        },
        {
          "output_type": "display_data",
          "data": {
            "text/plain": [
              "<Figure size 1000x400 with 3 Axes>"
            ],
            "image/png": "[encoded data removed]"
          },
          "metadata": {}
        }
      ]
    },
    {
      "cell_type": "code",
      "source": [
        "import matplotlib.pyplot as plt\n",
        "\n",
        "# Early stopping 설정\n",
        "early_stopping_patience = 5 # 성능 향상이 없는 에폭 수 10[Test Epoch: 10\tAccuracy: 8481/11005 (77%)] ->5\n",
        "best_accuracy = 0\n",
        "no_improvement_count = 0\n",
        "\n",
        "log_interval = 20\n",
        "n_epoch = 30\n",
        "\n",
        "pbar_update = 1 / (len(train_loader) + len(test_loader))\n",
        "losses = []\n",
        "\n",
        "# 그래프를 그리기 위한 리스트\n",
        "learning_rates = []\n",
        "training_losses = []\n",
        "test_accuracies = []\n",
        "\n",
        "# 변환(transform)은 모델과 데이터가 동일한 장치(device)에서 실행되어야 합니다.\n",
        "transform = transform.to(device)\n",
        "\n",
        "with tqdm(total=n_epoch) as pbar:\n",
        "    for epoch in range(1, n_epoch + 1):\n",
        "        train(model, epoch, log_interval)\n",
        "        test_acc = test(model, epoch)  # 정확도를 test_acc에 저장\n",
        "        scheduler.step()\n",
        "\n",
        "        # 학습률 기록\n",
        "        learning_rates.append(optimizer.param_groups[0]['lr'])\n",
        "\n",
        "        # 훈련 손실 기록\n",
        "        training_losses.append(losses[-1])\n",
        "\n",
        "        # 테스트 정확도 기록\n",
        "        if test_acc is not None:\n",
        "            test_accuracies.append(test_acc)\n",
        "\n",
        "        # 조기 종료 로직\n",
        "        if test_acc is not None and test_acc > best_accuracy:\n",
        "            best_accuracy = test_acc\n",
        "            no_improvement_count = 0\n",
        "        else:\n",
        "            no_improvement_count += 1\n",
        "\n",
        "        if no_improvement_count >= early_stopping_patience:\n",
        "            print(f\"성능 향상이 없는 {epoch} 에폭 후 조기 종료.\")\n",
        "            break  # 성능 향상이 없으면 훈련 중지\n",
        "\n",
        "# 학습률 그래프 그리기\n",
        "plt.figure(figsize=(10, 4))\n",
        "plt.subplot(1, 3, 1)\n",
        "plt.plot(learning_rates)\n",
        "plt.title(\"Learning Rate\")\n",
        "plt.xlabel(\"Epoch\")\n",
        "\n",
        "# 훈련 손실 그래프 그리기\n",
        "plt.subplot(1, 3, 2)\n",
        "plt.plot(training_losses)\n",
        "plt.title(\"training Loss\")\n",
        "plt.xlabel(\"Epoch\")\n",
        "\n",
        "# 테스트 정확도 그래프 그리기\n",
        "plt.subplot(1, 3, 3)\n",
        "plt.plot(test_accuracies)\n",
        "plt.title(\"Test Accuracy\")\n",
        "plt.xlabel(\"Epoch\")\n",
        "\n",
        "plt.tight_layout()\n",
        "plt.show()\n"
      ],
      "metadata": {
        "colab": {
          "base_uri": "https://localhost:8080/",
          "height": 1000
        },
        "id": "z7mHMUdNl_38",
        "outputId": "8d2965af-8970-46aa-fb46-298d0d094bd9"
      },
      "execution_count": 25,
      "outputs": [
        {
          "output_type": "stream",
          "name": "stderr",
          "text": [
            "  0%|          | 0.005333333333333333/30 [00:00<13:53, 27.78s/it]"
          ]
        },
        {
          "output_type": "stream",
          "name": "stdout",
          "text": [
            "Train Epoch: 1 [0/84843 (0%)]\tLoss: 0.257361\n"
          ]
        },
        {
          "output_type": "stream",
          "name": "stderr",
          "text": [
            "  0%|          | 0.05866666666666665/30 [00:01<13:53, 27.84s/it]"
          ]
        },
        {
          "output_type": "stream",
          "name": "stdout",
          "text": [
            "Train Epoch: 1 [5120/84843 (6%)]\tLoss: 0.138385\n"
          ]
        },
        {
          "output_type": "stream",
          "name": "stderr",
          "text": [
            "  0%|          | 0.11199999999999995/30 [00:03<13:33, 27.23s/it]"
          ]
        },
        {
          "output_type": "stream",
          "name": "stdout",
          "text": [
            "Train Epoch: 1 [10240/84843 (12%)]\tLoss: 0.234424\n"
          ]
        },
        {
          "output_type": "stream",
          "name": "stderr",
          "text": [
            "  1%|          | 0.16533333333333344/30 [00:04<12:58, 26.09s/it]"
          ]
        },
        {
          "output_type": "stream",
          "name": "stdout",
          "text": [
            "Train Epoch: 1 [15360/84843 (18%)]\tLoss: 0.268137\n"
          ]
        },
        {
          "output_type": "stream",
          "name": "stderr",
          "text": [
            "  1%|          | 0.218666666666667/30 [00:05<12:49, 25.83s/it]  "
          ]
        },
        {
          "output_type": "stream",
          "name": "stdout",
          "text": [
            "Train Epoch: 1 [20480/84843 (24%)]\tLoss: 0.260377\n"
          ]
        },
        {
          "output_type": "stream",
          "name": "stderr",
          "text": [
            "  1%|          | 0.27200000000000035/30 [00:07<12:54, 26.05s/it]"
          ]
        },
        {
          "output_type": "stream",
          "name": "stdout",
          "text": [
            "Train Epoch: 1 [25600/84843 (30%)]\tLoss: 0.175943\n"
          ]
        },
        {
          "output_type": "stream",
          "name": "stderr",
          "text": [
            "  1%|          | 0.32533333333333336/30 [00:08<12:59, 26.26s/it]"
          ]
        },
        {
          "output_type": "stream",
          "name": "stdout",
          "text": [
            "Train Epoch: 1 [30720/84843 (36%)]\tLoss: 0.326904\n"
          ]
        },
        {
          "output_type": "stream",
          "name": "stderr",
          "text": [
            "  1%|▏         | 0.3786666666666664/30 [00:10<12:56, 26.23s/it]"
          ]
        },
        {
          "output_type": "stream",
          "name": "stdout",
          "text": [
            "Train Epoch: 1 [35840/84843 (42%)]\tLoss: 0.254495\n"
          ]
        },
        {
          "output_type": "stream",
          "name": "stderr",
          "text": [
            "  1%|▏         | 0.4319999999999994/30 [00:11<12:56, 26.25s/it]"
          ]
        },
        {
          "output_type": "stream",
          "name": "stdout",
          "text": [
            "Train Epoch: 1 [40960/84843 (48%)]\tLoss: 0.248991\n"
          ]
        },
        {
          "output_type": "stream",
          "name": "stderr",
          "text": [
            "  2%|▏         | 0.4853333333333324/30 [00:12<12:49, 26.07s/it]"
          ]
        },
        {
          "output_type": "stream",
          "name": "stdout",
          "text": [
            "Train Epoch: 1 [46080/84843 (54%)]\tLoss: 0.254626\n"
          ]
        },
        {
          "output_type": "stream",
          "name": "stderr",
          "text": [
            "  2%|▏         | 0.5386666666666662/30 [00:14<13:18, 27.10s/it]"
          ]
        },
        {
          "output_type": "stream",
          "name": "stdout",
          "text": [
            "Train Epoch: 1 [51200/84843 (60%)]\tLoss: 0.253088\n"
          ]
        },
        {
          "output_type": "stream",
          "name": "stderr",
          "text": [
            "  2%|▏         | 0.5920000000000003/30 [00:15<13:26, 27.43s/it]"
          ]
        },
        {
          "output_type": "stream",
          "name": "stdout",
          "text": [
            "Train Epoch: 1 [56320/84843 (66%)]\tLoss: 0.187897\n"
          ]
        },
        {
          "output_type": "stream",
          "name": "stderr",
          "text": [
            "  2%|▏         | 0.6453333333333344/30 [00:17<13:16, 27.14s/it]"
          ]
        },
        {
          "output_type": "stream",
          "name": "stdout",
          "text": [
            "Train Epoch: 1 [61440/84843 (72%)]\tLoss: 0.275548\n"
          ]
        },
        {
          "output_type": "stream",
          "name": "stderr",
          "text": [
            "  2%|▏         | 0.6986666666666685/30 [00:18<13:45, 28.16s/it]"
          ]
        },
        {
          "output_type": "stream",
          "name": "stdout",
          "text": [
            "Train Epoch: 1 [66560/84843 (78%)]\tLoss: 0.254212\n"
          ]
        },
        {
          "output_type": "stream",
          "name": "stderr",
          "text": [
            "  3%|▎         | 0.7520000000000027/30 [00:20<12:57, 26.59s/it]"
          ]
        },
        {
          "output_type": "stream",
          "name": "stdout",
          "text": [
            "Train Epoch: 1 [71680/84843 (84%)]\tLoss: 0.300846\n"
          ]
        },
        {
          "output_type": "stream",
          "name": "stderr",
          "text": [
            "  3%|▎         | 0.8053333333333368/30 [00:21<12:49, 26.34s/it]"
          ]
        },
        {
          "output_type": "stream",
          "name": "stdout",
          "text": [
            "Train Epoch: 1 [76800/84843 (90%)]\tLoss: 0.321560\n"
          ]
        },
        {
          "output_type": "stream",
          "name": "stderr",
          "text": [
            "  3%|▎         | 0.8586666666666709/30 [00:22<12:54, 26.58s/it]"
          ]
        },
        {
          "output_type": "stream",
          "name": "stdout",
          "text": [
            "Train Epoch: 1 [81920/84843 (96%)]\tLoss: 0.327804\n"
          ]
        },
        {
          "output_type": "stream",
          "name": "stderr",
          "text": [
            "  3%|▎         | 1.0026666666666728/30 [00:26<12:21, 25.58s/it]"
          ]
        },
        {
          "output_type": "stream",
          "name": "stdout",
          "text": [
            "\n",
            "Test Epoch: 1\tAccuracy: 9409/11005 (85%)\n",
            "\n",
            "Train Epoch: 2 [0/84843 (0%)]\tLoss: 0.219904\n"
          ]
        },
        {
          "output_type": "stream",
          "name": "stderr",
          "text": [
            "  4%|▎         | 1.061333333333338/30 [00:28<12:49, 26.58s/it] "
          ]
        },
        {
          "output_type": "stream",
          "name": "stdout",
          "text": [
            "Train Epoch: 2 [5120/84843 (6%)]\tLoss: 0.279382\n"
          ]
        },
        {
          "output_type": "stream",
          "name": "stderr",
          "text": [
            "  4%|▎         | 1.1146666666666698/30 [00:29<12:52, 26.74s/it]"
          ]
        },
        {
          "output_type": "stream",
          "name": "stdout",
          "text": [
            "Train Epoch: 2 [10240/84843 (12%)]\tLoss: 0.278705\n"
          ]
        },
        {
          "output_type": "stream",
          "name": "stderr",
          "text": [
            "  4%|▍         | 1.1680000000000017/30 [00:31<12:57, 26.97s/it]"
          ]
        },
        {
          "output_type": "stream",
          "name": "stdout",
          "text": [
            "Train Epoch: 2 [15360/84843 (18%)]\tLoss: 0.267182\n"
          ]
        },
        {
          "output_type": "stream",
          "name": "stderr",
          "text": [
            "  4%|▍         | 1.2213333333333336/30 [00:32<13:09, 27.44s/it]"
          ]
        },
        {
          "output_type": "stream",
          "name": "stdout",
          "text": [
            "Train Epoch: 2 [20480/84843 (24%)]\tLoss: 0.213614\n"
          ]
        },
        {
          "output_type": "stream",
          "name": "stderr",
          "text": [
            "  4%|▍         | 1.2746666666666655/30 [00:33<13:09, 27.50s/it]"
          ]
        },
        {
          "output_type": "stream",
          "name": "stdout",
          "text": [
            "Train Epoch: 2 [25600/84843 (30%)]\tLoss: 0.267422\n"
          ]
        },
        {
          "output_type": "stream",
          "name": "stderr",
          "text": [
            "  4%|▍         | 1.3279999999999974/30 [00:35<13:01, 27.26s/it]"
          ]
        },
        {
          "output_type": "stream",
          "name": "stdout",
          "text": [
            "Train Epoch: 2 [30720/84843 (36%)]\tLoss: 0.200066\n"
          ]
        },
        {
          "output_type": "stream",
          "name": "stderr",
          "text": [
            "  5%|▍         | 1.3813333333333293/30 [00:36<12:45, 26.73s/it]"
          ]
        },
        {
          "output_type": "stream",
          "name": "stdout",
          "text": [
            "Train Epoch: 2 [35840/84843 (42%)]\tLoss: 0.247040\n"
          ]
        },
        {
          "output_type": "stream",
          "name": "stderr",
          "text": [
            "  5%|▍         | 1.4346666666666612/30 [00:38<12:31, 26.32s/it]"
          ]
        },
        {
          "output_type": "stream",
          "name": "stdout",
          "text": [
            "Train Epoch: 2 [40960/84843 (48%)]\tLoss: 0.267310\n"
          ]
        },
        {
          "output_type": "stream",
          "name": "stderr",
          "text": [
            "  5%|▍         | 1.487999999999993/30 [00:39<12:35, 26.51s/it]"
          ]
        },
        {
          "output_type": "stream",
          "name": "stdout",
          "text": [
            "Train Epoch: 2 [46080/84843 (54%)]\tLoss: 0.327061\n"
          ]
        },
        {
          "output_type": "stream",
          "name": "stderr",
          "text": [
            "  5%|▌         | 1.541333333333325/30 [00:41<12:52, 27.14s/it] "
          ]
        },
        {
          "output_type": "stream",
          "name": "stdout",
          "text": [
            "Train Epoch: 2 [51200/84843 (60%)]\tLoss: 0.268386\n"
          ]
        },
        {
          "output_type": "stream",
          "name": "stderr",
          "text": [
            "  5%|▌         | 1.594666666666657/30 [00:42<12:24, 26.19s/it] "
          ]
        },
        {
          "output_type": "stream",
          "name": "stdout",
          "text": [
            "Train Epoch: 2 [56320/84843 (66%)]\tLoss: 0.342759\n"
          ]
        },
        {
          "output_type": "stream",
          "name": "stderr",
          "text": [
            "  5%|▌         | 1.6479999999999888/30 [00:43<12:22, 26.20s/it]"
          ]
        },
        {
          "output_type": "stream",
          "name": "stdout",
          "text": [
            "Train Epoch: 2 [61440/84843 (72%)]\tLoss: 0.220202\n"
          ]
        },
        {
          "output_type": "stream",
          "name": "stderr",
          "text": [
            "  6%|▌         | 1.7013333333333207/30 [00:45<12:25, 26.35s/it]"
          ]
        },
        {
          "output_type": "stream",
          "name": "stdout",
          "text": [
            "Train Epoch: 2 [66560/84843 (78%)]\tLoss: 0.207992\n"
          ]
        },
        {
          "output_type": "stream",
          "name": "stderr",
          "text": [
            "  6%|▌         | 1.7546666666666526/30 [00:46<12:50, 27.28s/it]"
          ]
        },
        {
          "output_type": "stream",
          "name": "stdout",
          "text": [
            "Train Epoch: 2 [71680/84843 (84%)]\tLoss: 0.293211\n"
          ]
        },
        {
          "output_type": "stream",
          "name": "stderr",
          "text": [
            "  6%|▌         | 1.8079999999999845/30 [00:48<12:57, 27.58s/it]"
          ]
        },
        {
          "output_type": "stream",
          "name": "stdout",
          "text": [
            "Train Epoch: 2 [76800/84843 (90%)]\tLoss: 0.226850\n"
          ]
        },
        {
          "output_type": "stream",
          "name": "stderr",
          "text": [
            "  6%|▌         | 1.8613333333333164/30 [00:49<13:17, 28.36s/it]"
          ]
        },
        {
          "output_type": "stream",
          "name": "stdout",
          "text": [
            "Train Epoch: 2 [81920/84843 (96%)]\tLoss: 0.318818\n"
          ]
        },
        {
          "output_type": "stream",
          "name": "stderr",
          "text": [
            "  7%|▋         | 2.0053333333333128/30 [00:53<11:41, 25.06s/it]"
          ]
        },
        {
          "output_type": "stream",
          "name": "stdout",
          "text": [
            "\n",
            "Test Epoch: 2\tAccuracy: 9338/11005 (85%)\n",
            "\n",
            "Train Epoch: 3 [0/84843 (0%)]\tLoss: 0.224185\n"
          ]
        },
        {
          "output_type": "stream",
          "name": "stderr",
          "text": [
            "  7%|▋         | 2.0639999999999827/30 [00:54<11:57, 25.68s/it]"
          ]
        },
        {
          "output_type": "stream",
          "name": "stdout",
          "text": [
            "Train Epoch: 3 [5120/84843 (6%)]\tLoss: 0.219444\n"
          ]
        },
        {
          "output_type": "stream",
          "name": "stderr",
          "text": [
            "  7%|▋         | 2.1119999999999854/30 [00:56<12:08, 26.10s/it]"
          ]
        },
        {
          "output_type": "stream",
          "name": "stdout",
          "text": [
            "Train Epoch: 3 [10240/84843 (12%)]\tLoss: 0.231970\n"
          ]
        },
        {
          "output_type": "stream",
          "name": "stderr",
          "text": [
            "  7%|▋         | 2.165333333333322/30 [00:57<12:10, 26.24s/it]"
          ]
        },
        {
          "output_type": "stream",
          "name": "stdout",
          "text": [
            "Train Epoch: 3 [15360/84843 (18%)]\tLoss: 0.235365\n"
          ]
        },
        {
          "output_type": "stream",
          "name": "stderr",
          "text": [
            "  7%|▋         | 2.218666666666658/30 [00:59<12:12, 26.37s/it] "
          ]
        },
        {
          "output_type": "stream",
          "name": "stdout",
          "text": [
            "Train Epoch: 3 [20480/84843 (24%)]\tLoss: 0.235547\n"
          ]
        },
        {
          "output_type": "stream",
          "name": "stderr",
          "text": [
            "  8%|▊         | 2.2719999999999945/30 [01:00<12:09, 26.30s/it]"
          ]
        },
        {
          "output_type": "stream",
          "name": "stdout",
          "text": [
            "Train Epoch: 3 [25600/84843 (30%)]\tLoss: 0.233095\n"
          ]
        },
        {
          "output_type": "stream",
          "name": "stderr",
          "text": [
            "  8%|▊         | 2.325333333333331/30 [01:01<12:07, 26.29s/it]"
          ]
        },
        {
          "output_type": "stream",
          "name": "stdout",
          "text": [
            "Train Epoch: 3 [30720/84843 (36%)]\tLoss: 0.321880\n"
          ]
        },
        {
          "output_type": "stream",
          "name": "stderr",
          "text": [
            "  8%|▊         | 2.378666666666667/30 [01:03<12:20, 26.80s/it] "
          ]
        },
        {
          "output_type": "stream",
          "name": "stdout",
          "text": [
            "Train Epoch: 3 [35840/84843 (42%)]\tLoss: 0.207658\n"
          ]
        },
        {
          "output_type": "stream",
          "name": "stderr",
          "text": [
            "  8%|▊         | 2.4320000000000035/30 [01:04<12:18, 26.78s/it]"
          ]
        },
        {
          "output_type": "stream",
          "name": "stdout",
          "text": [
            "Train Epoch: 3 [40960/84843 (48%)]\tLoss: 0.159767\n"
          ]
        },
        {
          "output_type": "stream",
          "name": "stderr",
          "text": [
            "  8%|▊         | 2.48533333333334/30 [01:06<12:26, 27.14s/it] "
          ]
        },
        {
          "output_type": "stream",
          "name": "stdout",
          "text": [
            "Train Epoch: 3 [46080/84843 (54%)]\tLoss: 0.318444\n"
          ]
        },
        {
          "output_type": "stream",
          "name": "stderr",
          "text": [
            "  8%|▊         | 2.538666666666676/30 [01:07<12:40, 27.68s/it] "
          ]
        },
        {
          "output_type": "stream",
          "name": "stdout",
          "text": [
            "Train Epoch: 3 [51200/84843 (60%)]\tLoss: 0.184858\n"
          ]
        },
        {
          "output_type": "stream",
          "name": "stderr",
          "text": [
            "  9%|▊         | 2.5920000000000125/30 [01:09<12:33, 27.48s/it]"
          ]
        },
        {
          "output_type": "stream",
          "name": "stdout",
          "text": [
            "Train Epoch: 3 [56320/84843 (66%)]\tLoss: 0.183283\n"
          ]
        },
        {
          "output_type": "stream",
          "name": "stderr",
          "text": [
            "  9%|▉         | 2.645333333333349/30 [01:10<11:52, 26.04s/it] "
          ]
        },
        {
          "output_type": "stream",
          "name": "stdout",
          "text": [
            "Train Epoch: 3 [61440/84843 (72%)]\tLoss: 0.294678\n"
          ]
        },
        {
          "output_type": "stream",
          "name": "stderr",
          "text": [
            "  9%|▉         | 2.698666666666685/30 [01:11<11:57, 26.27s/it] "
          ]
        },
        {
          "output_type": "stream",
          "name": "stdout",
          "text": [
            "Train Epoch: 3 [66560/84843 (78%)]\tLoss: 0.182660\n"
          ]
        },
        {
          "output_type": "stream",
          "name": "stderr",
          "text": [
            "  9%|▉         | 2.7520000000000215/30 [01:13<11:59, 26.40s/it]"
          ]
        },
        {
          "output_type": "stream",
          "name": "stdout",
          "text": [
            "Train Epoch: 3 [71680/84843 (84%)]\tLoss: 0.219127\n"
          ]
        },
        {
          "output_type": "stream",
          "name": "stderr",
          "text": [
            "  9%|▉         | 2.805333333333358/30 [01:14<12:09, 26.83s/it] "
          ]
        },
        {
          "output_type": "stream",
          "name": "stdout",
          "text": [
            "Train Epoch: 3 [76800/84843 (90%)]\tLoss: 0.245956\n"
          ]
        },
        {
          "output_type": "stream",
          "name": "stderr",
          "text": [
            " 10%|▉         | 2.8586666666666942/30 [01:16<11:45, 25.98s/it]"
          ]
        },
        {
          "output_type": "stream",
          "name": "stdout",
          "text": [
            "Train Epoch: 3 [81920/84843 (96%)]\tLoss: 0.283345\n"
          ]
        },
        {
          "output_type": "stream",
          "name": "stderr",
          "text": [
            " 10%|█         | 3.0026666666667023/30 [01:19<11:19, 25.17s/it]"
          ]
        },
        {
          "output_type": "stream",
          "name": "stdout",
          "text": [
            "\n",
            "Test Epoch: 3\tAccuracy: 9431/11005 (86%)\n",
            "\n",
            "Train Epoch: 4 [0/84843 (0%)]\tLoss: 0.272066\n"
          ]
        },
        {
          "output_type": "stream",
          "name": "stderr",
          "text": [
            " 10%|█         | 3.0613333333333723/30 [01:21<11:54, 26.52s/it]"
          ]
        },
        {
          "output_type": "stream",
          "name": "stdout",
          "text": [
            "Train Epoch: 4 [5120/84843 (6%)]\tLoss: 0.161388\n"
          ]
        },
        {
          "output_type": "stream",
          "name": "stderr",
          "text": [
            " 10%|█         | 3.1146666666667087/30 [01:22<11:58, 26.72s/it]"
          ]
        },
        {
          "output_type": "stream",
          "name": "stdout",
          "text": [
            "Train Epoch: 4 [10240/84843 (12%)]\tLoss: 0.238410\n"
          ]
        },
        {
          "output_type": "stream",
          "name": "stderr",
          "text": [
            " 11%|█         | 3.168000000000045/30 [01:24<12:06, 27.08s/it] "
          ]
        },
        {
          "output_type": "stream",
          "name": "stdout",
          "text": [
            "Train Epoch: 4 [15360/84843 (18%)]\tLoss: 0.216045\n"
          ]
        },
        {
          "output_type": "stream",
          "name": "stderr",
          "text": [
            " 11%|█         | 3.2213333333333813/30 [01:25<11:41, 26.19s/it]"
          ]
        },
        {
          "output_type": "stream",
          "name": "stdout",
          "text": [
            "Train Epoch: 4 [20480/84843 (24%)]\tLoss: 0.278840\n"
          ]
        },
        {
          "output_type": "stream",
          "name": "stderr",
          "text": [
            " 11%|█         | 3.2746666666667177/30 [01:26<11:30, 25.84s/it]"
          ]
        },
        {
          "output_type": "stream",
          "name": "stdout",
          "text": [
            "Train Epoch: 4 [25600/84843 (30%)]\tLoss: 0.158138\n"
          ]
        },
        {
          "output_type": "stream",
          "name": "stderr",
          "text": [
            " 11%|█         | 3.328000000000054/30 [01:28<11:36, 26.12s/it] "
          ]
        },
        {
          "output_type": "stream",
          "name": "stdout",
          "text": [
            "Train Epoch: 4 [30720/84843 (36%)]\tLoss: 0.158763\n"
          ]
        },
        {
          "output_type": "stream",
          "name": "stderr",
          "text": [
            " 11%|█▏        | 3.3813333333333904/30 [01:29<11:36, 26.17s/it]"
          ]
        },
        {
          "output_type": "stream",
          "name": "stdout",
          "text": [
            "Train Epoch: 4 [35840/84843 (42%)]\tLoss: 0.181806\n"
          ]
        },
        {
          "output_type": "stream",
          "name": "stderr",
          "text": [
            " 11%|█▏        | 3.4346666666667267/30 [01:31<11:29, 25.97s/it]"
          ]
        },
        {
          "output_type": "stream",
          "name": "stdout",
          "text": [
            "Train Epoch: 4 [40960/84843 (48%)]\tLoss: 0.275220\n"
          ]
        },
        {
          "output_type": "stream",
          "name": "stderr",
          "text": [
            " 12%|█▏        | 3.488000000000063/30 [01:32<11:23, 25.76s/it] "
          ]
        },
        {
          "output_type": "stream",
          "name": "stdout",
          "text": [
            "Train Epoch: 4 [46080/84843 (54%)]\tLoss: 0.267914\n"
          ]
        },
        {
          "output_type": "stream",
          "name": "stderr",
          "text": [
            " 12%|█▏        | 3.5413333333333994/30 [01:33<11:22, 25.79s/it]"
          ]
        },
        {
          "output_type": "stream",
          "name": "stdout",
          "text": [
            "Train Epoch: 4 [51200/84843 (60%)]\tLoss: 0.261365\n"
          ]
        },
        {
          "output_type": "stream",
          "name": "stderr",
          "text": [
            " 12%|█▏        | 3.5946666666667357/30 [01:35<11:31, 26.18s/it]"
          ]
        },
        {
          "output_type": "stream",
          "name": "stdout",
          "text": [
            "Train Epoch: 4 [56320/84843 (66%)]\tLoss: 0.223847\n"
          ]
        },
        {
          "output_type": "stream",
          "name": "stderr",
          "text": [
            " 12%|█▏        | 3.648000000000072/30 [01:36<11:48, 26.88s/it] "
          ]
        },
        {
          "output_type": "stream",
          "name": "stdout",
          "text": [
            "Train Epoch: 4 [61440/84843 (72%)]\tLoss: 0.159806\n"
          ]
        },
        {
          "output_type": "stream",
          "name": "stderr",
          "text": [
            " 12%|█▏        | 3.7013333333334084/30 [01:38<11:41, 26.68s/it]"
          ]
        },
        {
          "output_type": "stream",
          "name": "stdout",
          "text": [
            "Train Epoch: 4 [66560/84843 (78%)]\tLoss: 0.303776\n"
          ]
        },
        {
          "output_type": "stream",
          "name": "stderr",
          "text": [
            " 13%|█▎        | 3.7546666666667448/30 [01:39<11:41, 26.72s/it]"
          ]
        },
        {
          "output_type": "stream",
          "name": "stdout",
          "text": [
            "Train Epoch: 4 [71680/84843 (84%)]\tLoss: 0.181195\n"
          ]
        },
        {
          "output_type": "stream",
          "name": "stderr",
          "text": [
            " 13%|█▎        | 3.808000000000081/30 [01:41<11:35, 26.57s/it] "
          ]
        },
        {
          "output_type": "stream",
          "name": "stdout",
          "text": [
            "Train Epoch: 4 [76800/84843 (90%)]\tLoss: 0.215044\n"
          ]
        },
        {
          "output_type": "stream",
          "name": "stderr",
          "text": [
            " 13%|█▎        | 3.8613333333334174/30 [01:42<11:21, 26.07s/it]"
          ]
        },
        {
          "output_type": "stream",
          "name": "stdout",
          "text": [
            "Train Epoch: 4 [81920/84843 (96%)]\tLoss: 0.258882\n"
          ]
        },
        {
          "output_type": "stream",
          "name": "stderr",
          "text": [
            " 13%|█▎        | 4.005333333333424/30 [01:46<11:10, 25.79s/it] "
          ]
        },
        {
          "output_type": "stream",
          "name": "stdout",
          "text": [
            "\n",
            "Test Epoch: 4\tAccuracy: 9429/11005 (86%)\n",
            "\n",
            "Train Epoch: 5 [0/84843 (0%)]\tLoss: 0.278678\n"
          ]
        },
        {
          "output_type": "stream",
          "name": "stderr",
          "text": [
            " 14%|█▎        | 4.064000000000084/30 [01:47<11:08, 25.77s/it]"
          ]
        },
        {
          "output_type": "stream",
          "name": "stdout",
          "text": [
            "Train Epoch: 5 [5120/84843 (6%)]\tLoss: 0.377122\n"
          ]
        },
        {
          "output_type": "stream",
          "name": "stderr",
          "text": [
            " 14%|█▎        | 4.117333333333412/30 [01:49<11:29, 26.64s/it]"
          ]
        },
        {
          "output_type": "stream",
          "name": "stdout",
          "text": [
            "Train Epoch: 5 [10240/84843 (12%)]\tLoss: 0.246094\n"
          ]
        },
        {
          "output_type": "stream",
          "name": "stderr",
          "text": [
            " 14%|█▍        | 4.170666666666739/30 [01:50<11:05, 25.77s/it]"
          ]
        },
        {
          "output_type": "stream",
          "name": "stdout",
          "text": [
            "Train Epoch: 5 [15360/84843 (18%)]\tLoss: 0.162344\n"
          ]
        },
        {
          "output_type": "stream",
          "name": "stderr",
          "text": [
            " 14%|█▍        | 4.218666666666734/30 [01:51<11:27, 26.68s/it]"
          ]
        },
        {
          "output_type": "stream",
          "name": "stdout",
          "text": [
            "Train Epoch: 5 [20480/84843 (24%)]\tLoss: 0.218838\n"
          ]
        },
        {
          "output_type": "stream",
          "name": "stderr",
          "text": [
            " 14%|█▍        | 4.2720000000000615/30 [01:53<11:34, 26.98s/it]"
          ]
        },
        {
          "output_type": "stream",
          "name": "stdout",
          "text": [
            "Train Epoch: 5 [25600/84843 (30%)]\tLoss: 0.281682\n"
          ]
        },
        {
          "output_type": "stream",
          "name": "stderr",
          "text": [
            " 14%|█▍        | 4.325333333333389/30 [01:54<11:23, 26.64s/it]"
          ]
        },
        {
          "output_type": "stream",
          "name": "stdout",
          "text": [
            "Train Epoch: 5 [30720/84843 (36%)]\tLoss: 0.274577\n"
          ]
        },
        {
          "output_type": "stream",
          "name": "stderr",
          "text": [
            " 15%|█▍        | 4.3786666666667164/30 [01:56<11:41, 27.38s/it]"
          ]
        },
        {
          "output_type": "stream",
          "name": "stdout",
          "text": [
            "Train Epoch: 5 [35840/84843 (42%)]\tLoss: 0.247818\n"
          ]
        },
        {
          "output_type": "stream",
          "name": "stderr",
          "text": [
            " 15%|█▍        | 4.432000000000044/30 [01:57<11:03, 25.95s/it]"
          ]
        },
        {
          "output_type": "stream",
          "name": "stdout",
          "text": [
            "Train Epoch: 5 [40960/84843 (48%)]\tLoss: 0.322952\n"
          ]
        },
        {
          "output_type": "stream",
          "name": "stderr",
          "text": [
            " 15%|█▍        | 4.485333333333371/30 [01:58<11:40, 27.44s/it]"
          ]
        },
        {
          "output_type": "stream",
          "name": "stdout",
          "text": [
            "Train Epoch: 5 [46080/84843 (54%)]\tLoss: 0.272532\n"
          ]
        },
        {
          "output_type": "stream",
          "name": "stderr",
          "text": [
            " 15%|█▌        | 4.544000000000032/30 [02:00<10:52, 25.65s/it]"
          ]
        },
        {
          "output_type": "stream",
          "name": "stdout",
          "text": [
            "Train Epoch: 5 [51200/84843 (60%)]\tLoss: 0.213740\n"
          ]
        },
        {
          "output_type": "stream",
          "name": "stderr",
          "text": [
            " 15%|█▌        | 4.592000000000026/30 [02:01<11:07, 26.29s/it] "
          ]
        },
        {
          "output_type": "stream",
          "name": "stdout",
          "text": [
            "Train Epoch: 5 [56320/84843 (66%)]\tLoss: 0.237600\n"
          ]
        },
        {
          "output_type": "stream",
          "name": "stderr",
          "text": [
            " 15%|█▌        | 4.645333333333354/30 [02:03<11:07, 26.31s/it]"
          ]
        },
        {
          "output_type": "stream",
          "name": "stdout",
          "text": [
            "Train Epoch: 5 [61440/84843 (72%)]\tLoss: 0.274015\n"
          ]
        },
        {
          "output_type": "stream",
          "name": "stderr",
          "text": [
            " 16%|█▌        | 4.698666666666681/30 [02:04<11:03, 26.22s/it] "
          ]
        },
        {
          "output_type": "stream",
          "name": "stdout",
          "text": [
            "Train Epoch: 5 [66560/84843 (78%)]\tLoss: 0.229154\n"
          ]
        },
        {
          "output_type": "stream",
          "name": "stderr",
          "text": [
            " 16%|█▌        | 4.752000000000009/30 [02:05<11:02, 26.25s/it]"
          ]
        },
        {
          "output_type": "stream",
          "name": "stdout",
          "text": [
            "Train Epoch: 5 [71680/84843 (84%)]\tLoss: 0.259004\n"
          ]
        },
        {
          "output_type": "stream",
          "name": "stderr",
          "text": [
            " 16%|█▌        | 4.805333333333336/30 [02:07<11:08, 26.52s/it]"
          ]
        },
        {
          "output_type": "stream",
          "name": "stdout",
          "text": [
            "Train Epoch: 5 [76800/84843 (90%)]\tLoss: 0.314209\n"
          ]
        },
        {
          "output_type": "stream",
          "name": "stderr",
          "text": [
            " 16%|█▌        | 4.858666666666664/30 [02:08<11:08, 26.59s/it]"
          ]
        },
        {
          "output_type": "stream",
          "name": "stdout",
          "text": [
            "Train Epoch: 5 [81920/84843 (96%)]\tLoss: 0.245599\n"
          ]
        },
        {
          "output_type": "stream",
          "name": "stderr",
          "text": [
            " 17%|█▋        | 4.999999999999981/30 [02:12<11:01, 26.46s/it]\n"
          ]
        },
        {
          "output_type": "stream",
          "name": "stdout",
          "text": [
            "\n",
            "Test Epoch: 5\tAccuracy: 9451/11005 (86%)\n",
            "\n",
            "성능 향상이 없는 5 에폭 후 조기 종료.\n"
          ]
        },
        {
          "output_type": "display_data",
          "data": {
            "text/plain": [
              "<Figure size 1000x400 with 3 Axes>"
            ],
            "image/png": "[encoded data removed]"
          },
          "metadata": {}
        }
      ]
    },
    {
      "cell_type": "markdown",
      "metadata": {
        "id": "R_O07gpBfhcV"
      },
      "source": [
        "The network should be more than 65% accurate on the test set after 2\n",
        "epochs, and 85% after 21 epochs. Let’s look at the last words in the\n",
        "train set, and see how the model did on it.\n",
        "\n",
        "\n"
      ]
    },
    {
      "cell_type": "code",
      "execution_count": 26,
      "metadata": {
        "id": "EBRHfxedfhcV",
        "colab": {
          "base_uri": "https://localhost:8080/"
        },
        "outputId": "50e6ec09-6a2b-443f-e2d7-cabb3160db87"
      },
      "outputs": [
        {
          "output_type": "stream",
          "name": "stdout",
          "text": [
            "Expected: zero. Predicted: zero.\n"
          ]
        }
      ],
      "source": [
        "def predict(tensor):\n",
        "    # Use the model to predict the label of the waveform\n",
        "    tensor = tensor.to(device)\n",
        "    tensor = transform(tensor)\n",
        "    tensor = model(tensor.unsqueeze(0))\n",
        "    tensor = get_likely_index(tensor)\n",
        "    tensor = index_to_label(tensor.squeeze())\n",
        "    return tensor\n",
        "\n",
        "\n",
        "waveform, sample_rate, utterance, *_ = train_set[-1]\n",
        "ipd.Audio(waveform.numpy(), rate=sample_rate)\n",
        "\n",
        "print(f\"Expected: {utterance}. Predicted: {predict(waveform)}.\")"
      ]
    },
    {
      "cell_type": "markdown",
      "metadata": {
        "id": "C4zHJ_8YfhcV"
      },
      "source": [
        "Let’s find an example that isn’t classified correctly, if there is one.\n",
        "\n",
        "\n"
      ]
    },
    {
      "cell_type": "code",
      "execution_count": 27,
      "metadata": {
        "id": "ioH_w9AtfhcV",
        "colab": {
          "base_uri": "https://localhost:8080/"
        },
        "outputId": "7ad982a5-8573-450d-ccc8-441ca7a6c946"
      },
      "outputs": [
        {
          "output_type": "stream",
          "name": "stdout",
          "text": [
            "Data point #1. Expected: right. Predicted: nine.\n"
          ]
        }
      ],
      "source": [
        "for i, (waveform, sample_rate, utterance, *_) in enumerate(test_set):\n",
        "    output = predict(waveform)\n",
        "    if output != utterance:\n",
        "        ipd.Audio(waveform.numpy(), rate=sample_rate)\n",
        "        print(f\"Data point #{i}. Expected: {utterance}. Predicted: {output}.\")\n",
        "        break\n",
        "else:\n",
        "    print(\"All examples in this dataset were correctly classified!\")\n",
        "    print(\"In this case, let's just look at the last data point\")\n",
        "    ipd.Audio(waveform.numpy(), rate=sample_rate)\n",
        "    print(f\"Data point #{i}. Expected: {utterance}. Predicted: {output}.\")"
      ]
    },
    {
      "cell_type": "markdown",
      "metadata": {
        "id": "2PMBEqxBfhcV"
      },
      "source": [
        "Feel free to try with one of your own recordings of one of the labels!\n",
        "For example, using Colab, say “Go” while executing the cell below. This\n",
        "will record one second of audio and try to classify it.\n",
        "\n",
        "\n"
      ]
    },
    {
      "cell_type": "code",
      "source": [
        "import sys\n",
        "sys.path\n"
      ],
      "metadata": {
        "colab": {
          "base_uri": "https://localhost:8080/"
        },
        "id": "QdSboGz70Lop",
        "outputId": "bbebc43e-eaee-401f-f9c8-67baeec41693"
      },
      "execution_count": 40,
      "outputs": [
        {
          "output_type": "execute_result",
          "data": {
            "text/plain": [
              "['/content',\n",
              " '/env/python',\n",
              " '/usr/lib/python310.zip',\n",
              " '/usr/lib/python3.10',\n",
              " '/usr/lib/python3.10/lib-dynload',\n",
              " '',\n",
              " '/usr/local/lib/python3.10/dist-packages',\n",
              " '/usr/lib/python3/dist-packages',\n",
              " '/usr/local/lib/python3.10/dist-packages/IPython/extensions',\n",
              " '/root/.ipython']"
            ]
          },
          "metadata": {},
          "execution_count": 40
        }
      ]
    },
    {
      "cell_type": "code",
      "source": [
        "#ModuleNotFoundError: No module named 'pydub'문제 해결\n",
        "#\"pydub\" 패키지의 경로가 경로 리스트에 없어서, 필요한 경로를 직접 추가\n",
        "sys.path.append('/usr/local/lib/python3.8/site-packages')"
      ],
      "metadata": {
        "id": "Fvp4yxKJ0O5Q"
      },
      "execution_count": 29,
      "outputs": []
    },
    {
      "cell_type": "code",
      "execution_count": 30,
      "metadata": {
        "id": "Xb0NeX-1fhcV",
        "colab": {
          "base_uri": "https://localhost:8080/",
          "height": 71
        },
        "outputId": "ad62ae35-9c45-407e-8cc7-fe02a3cbc3ef"
      },
      "outputs": [
        {
          "output_type": "stream",
          "name": "stdout",
          "text": [
            "Recording started for 3 seconds.\n"
          ]
        },
        {
          "output_type": "display_data",
          "data": {
            "text/plain": [
              "<IPython.core.display.Javascript object>"
            ],
            "application/javascript": [
              "const sleep  = time => new Promise(resolve => setTimeout(resolve, time))\n",
              "const b2text = blob => new Promise(resolve => {\n",
              "  const reader = new FileReader()\n",
              "  reader.onloadend = e => resolve(e.srcElement.result)\n",
              "  reader.readAsDataURL(blob)\n",
              "})\n",
              "var record = time => new Promise(async resolve => {\n",
              "  stream = await navigator.mediaDevices.getUserMedia({ audio: true })\n",
              "  recorder = new MediaRecorder(stream)\n",
              "  chunks = []\n",
              "  recorder.ondataavailable = e => chunks.push(e.data)\n",
              "  recorder.start()\n",
              "  await sleep(time)\n",
              "  recorder.onstop = async ()=>{\n",
              "    blob = new Blob(chunks)\n",
              "    text = await b2text(blob)\n",
              "    resolve(text)\n",
              "  }\n",
              "  recorder.stop()\n",
              "})"
            ]
          },
          "metadata": {}
        },
        {
          "output_type": "stream",
          "name": "stdout",
          "text": [
            "Recording ended.\n",
            "Predicted: three.\n"
          ]
        }
      ],
      "source": [
        "def record(seconds=3):\n",
        "\n",
        "    from google.colab import output as colab_output\n",
        "    from base64 import b64decode\n",
        "    from io import BytesIO\n",
        "    from pydub import AudioSegment\n",
        "\n",
        "    RECORD = (\n",
        "        b\"const sleep  = time => new Promise(resolve => setTimeout(resolve, time))\\n\"\n",
        "        b\"const b2text = blob => new Promise(resolve => {\\n\"\n",
        "        b\"  const reader = new FileReader()\\n\"\n",
        "        b\"  reader.onloadend = e => resolve(e.srcElement.result)\\n\"\n",
        "        b\"  reader.readAsDataURL(blob)\\n\"\n",
        "        b\"})\\n\"\n",
        "        b\"var record = time => new Promise(async resolve => {\\n\"\n",
        "        b\"  stream = await navigator.mediaDevices.getUserMedia({ audio: true })\\n\"\n",
        "        b\"  recorder = new MediaRecorder(stream)\\n\"\n",
        "        b\"  chunks = []\\n\"\n",
        "        b\"  recorder.ondataavailable = e => chunks.push(e.data)\\n\"\n",
        "        b\"  recorder.start()\\n\"\n",
        "        b\"  await sleep(time)\\n\"\n",
        "        b\"  recorder.onstop = async ()=>{\\n\"\n",
        "        b\"    blob = new Blob(chunks)\\n\"\n",
        "        b\"    text = await b2text(blob)\\n\"\n",
        "        b\"    resolve(text)\\n\"\n",
        "        b\"  }\\n\"\n",
        "        b\"  recorder.stop()\\n\"\n",
        "        b\"})\"\n",
        "    )\n",
        "    RECORD = RECORD.decode(\"ascii\")\n",
        "\n",
        "    print(f\"Recording started for {seconds} seconds.\")\n",
        "    display(ipd.Javascript(RECORD))\n",
        "    s = colab_output.eval_js(\"record(%d)\" % (seconds * 1000))\n",
        "    print(\"Recording ended.\")\n",
        "    b = b64decode(s.split(\",\")[1])\n",
        "\n",
        "    fileformat = \"wav\"\n",
        "    filename = f\"_audio.{fileformat}\"\n",
        "    AudioSegment.from_file(BytesIO(b)).export(filename, format=fileformat)\n",
        "    return torchaudio.load(filename)\n",
        "\n",
        "\n",
        "# Detect whether notebook runs in google colab\n",
        "if \"google.colab\" in sys.modules:\n",
        "    waveform, sample_rate = record()\n",
        "    print(f\"Predicted: {predict(waveform)}.\")\n",
        "    ipd.Audio(waveform.numpy(), rate=sample_rate)"
      ]
    },
    {
      "cell_type": "code",
      "execution_count": 32,
      "metadata": {
        "id": "hGd3jr6dfhcT",
        "colab": {
          "base_uri": "https://localhost:8080/",
          "height": 74
        },
        "outputId": "f97014d9-be5d-4196-e604-854da8660d7a"
      },
      "outputs": [
        {
          "output_type": "execute_result",
          "data": {
            "text/plain": [
              "<IPython.lib.display.Audio object>"
            ],
            "text/html": [
              "\n",
              "                <audio  controls=\"controls\" >\n",
              "                    <source src=\"data:audio/wav;base64,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\" type=\"audio/wav\" />\n",
              "                    Your browser does not support the audio element.\n",
              "                </audio>\n",
              "              "
            ]
          },
          "metadata": {},
          "execution_count": 32
        }
      ],
      "source": [
        "ipd.Audio(transformed.numpy(), rate=new_sample_rate)"
      ]
    },
    {
      "cell_type": "markdown",
      "metadata": {
        "id": "yZS81OWCfhcV"
      },
      "source": [
        "## Conclusion\n",
        "\n",
        "In this tutorial, we used torchaudio to load a dataset and resample the\n",
        "signal. We have then defined a neural network that we trained to\n",
        "recognize a given command. There are also other data preprocessing\n",
        "methods, such as finding the mel frequency cepstral coefficients (MFCC),\n",
        "that can reduce the size of the dataset. This transform is also\n",
        "available in torchaudio as ``torchaudio.transforms.MFCC``.\n",
        "\n",
        "\n"
      ]
    }
  ],
  "metadata": {
    "kernelspec": {
      "display_name": "Python 3",
      "name": "python3"
    },
    "language_info": {
      "codemirror_mode": {
        "name": "ipython",
        "version": 3
      },
      "file_extension": ".py",
      "mimetype": "text/x-python",
      "name": "python",
      "nbconvert_exporter": "python",
      "pygments_lexer": "ipython3",
      "version": "3.10.9"
    },
    "colab": {
      "provenance": [],
      "machine_shape": "hm",
      "gpuType": "T4",
      "include_colab_link": true
    },
    "accelerator": "GPU"
  },
  "nbformat": 4,
  "nbformat_minor": 0
}
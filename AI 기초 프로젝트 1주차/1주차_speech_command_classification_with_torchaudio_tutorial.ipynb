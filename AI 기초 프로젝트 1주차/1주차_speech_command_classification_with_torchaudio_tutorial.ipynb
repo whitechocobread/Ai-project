{
  "cells": [
    {
      "cell_type": "markdown",
      "metadata": {
        "id": "view-in-github",
        "colab_type": "text"
      },
      "source": [
        "<a href=\"https://colab.research.google.com/github/whitechocobread/Ai-project/blob/main/1%EC%A3%BC%EC%B0%A8_speech_command_classification_with_torchaudio_tutorial.ipynb\" target=\"_parent\"><img src=\"https://colab.research.google.com/assets/colab-badge.svg\" alt=\"Open In Colab\"/></a>"
      ]
    },
    {
      "cell_type": "code",
      "execution_count": 1,
      "metadata": {
        "id": "cP7cVCL8fhcN"
      },
      "outputs": [],
      "source": [
        "%matplotlib inline"
      ]
    },
    {
      "cell_type": "markdown",
      "metadata": {
        "id": "hTw4SVBffhcP"
      },
      "source": [
        "\n",
        "# Speech Command Classification with torchaudio\n",
        "\n",
        "This tutorial will show you how to correctly format an audio dataset and\n",
        "then train/test an audio classifier network on the dataset.\n",
        "\n",
        "Colab has GPU option available. In the menu tabs, select “Runtime” then\n",
        "“Change runtime type”. In the pop-up that follows, you can choose GPU.\n",
        "After the change, your runtime should automatically restart (which means\n",
        "information from executed cells disappear).\n",
        "\n",
        "First, let’s import the common torch packages such as\n",
        "[torchaudio](https://github.com/pytorch/audio)_ that can be installed\n",
        "by following the instructions on the website.\n"
      ]
    },
    {
      "cell_type": "code",
      "source": [
        "print(torch.__version__)\n",
        "!python -V"
      ],
      "metadata": {
        "colab": {
          "base_uri": "https://localhost:8080/"
        },
        "id": "UxHeIsnsf3Dp",
        "outputId": "c8a5b50e-4e02-403f-b533-25c0c161ff88"
      },
      "execution_count": 3,
      "outputs": [
        {
          "output_type": "stream",
          "name": "stdout",
          "text": [
            "2.0.1+cu118\n",
            "Python 3.10.12\n"
          ]
        }
      ]
    },
    {
      "cell_type": "code",
      "source": [
        "#파이썬 버전 변경 3.10.12 -> 3.8.6\n",
        "#ERROR: Could not find a version that satisfies the requirement torch==1.7.0+cpu (from versions: 0.1.2, 0.1.2.post1, 0.1.2.post2)\n",
        "#ERROR: No matching distribution found for torch==1.7.0+cpu 해결\n",
        "!wget https://www.python.org/ftp/python/3.8.6/Python-3.8.6.tgz\n",
        "!tar xvfz Python-3.8.6.tgz\n",
        "!Python-3.8.6/configure\n",
        "!make\n",
        "!sudo make install"
      ],
      "metadata": {
        "colab": {
          "base_uri": "https://localhost:8080/"
        },
        "id": "jz8_-X6mf7r_",
        "outputId": "5a6a5d73-e8c9-4c8d-f026-e07f69ebebe4"
      },
      "execution_count": 4,
      "outputs": [
        {
          "output_type": "stream",
          "name": "stdout",
          "text": [
            "\u001b[1;30;43m스트리밍 출력 내용이 길어서 마지막 5000줄이 삭제되었습니다.\u001b[0m\n",
            "Compiling '/usr/local/lib/python3.8/importlib/abc.py'...\n",
            "Compiling '/usr/local/lib/python3.8/importlib/machinery.py'...\n",
            "Compiling '/usr/local/lib/python3.8/importlib/metadata.py'...\n",
            "Compiling '/usr/local/lib/python3.8/importlib/resources.py'...\n",
            "Listing '/usr/local/lib/python3.8/xmlrpc'...\n",
            "Compiling '/usr/local/lib/python3.8/importlib/util.py'...\n",
            "Compiling '/usr/local/lib/python3.8/inspect.py'...\n",
            "Compiling '/usr/local/lib/python3.8/io.py'...\n",
            "Compiling '/usr/local/lib/python3.8/ipaddress.py'...\n",
            "Compiling '/usr/local/lib/python3.8/json/__init__.py'...\n",
            "Compiling '/usr/local/lib/python3.8/json/decoder.py'...\n",
            "Compiling '/usr/local/lib/python3.8/json/encoder.py'...\n",
            "Compiling '/usr/local/lib/python3.8/json/scanner.py'...\n",
            "Compiling '/usr/local/lib/python3.8/json/tool.py'...\n",
            "Compiling '/usr/local/lib/python3.8/keyword.py'...\n",
            "Compiling '/usr/local/lib/python3.8/lib2to3/__init__.py'...\n",
            "Compiling '/usr/local/lib/python3.8/lib2to3/__main__.py'...\n",
            "Compiling '/usr/local/lib/python3.8/lib2to3/btm_matcher.py'...\n",
            "Compiling '/usr/local/lib/python3.8/lib2to3/btm_utils.py'...\n",
            "Compiling '/usr/local/lib/python3.8/lib2to3/fixer_base.py'...\n",
            "Compiling '/usr/local/lib/python3.8/lib2to3/fixer_util.py'...\n",
            "Compiling '/usr/local/lib/python3.8/lib2to3/fixes/__init__.py'...\n",
            "Compiling '/usr/local/lib/python3.8/lib2to3/fixes/fix_apply.py'...\n",
            "Compiling '/usr/local/lib/python3.8/lib2to3/fixes/fix_asserts.py'...\n",
            "Compiling '/usr/local/lib/python3.8/lib2to3/fixes/fix_basestring.py'...\n",
            "Compiling '/usr/local/lib/python3.8/lib2to3/fixes/fix_buffer.py'...\n",
            "Compiling '/usr/local/lib/python3.8/lib2to3/fixes/fix_dict.py'...\n",
            "Compiling '/usr/local/lib/python3.8/lib2to3/fixes/fix_except.py'...\n",
            "Compiling '/usr/local/lib/python3.8/lib2to3/fixes/fix_exec.py'...\n",
            "Compiling '/usr/local/lib/python3.8/lib2to3/fixes/fix_execfile.py'...\n",
            "Compiling '/usr/local/lib/python3.8/lib2to3/fixes/fix_exitfunc.py'...\n",
            "Compiling '/usr/local/lib/python3.8/lib2to3/fixes/fix_filter.py'...\n",
            "Compiling '/usr/local/lib/python3.8/lib2to3/fixes/fix_funcattrs.py'...\n",
            "Compiling '/usr/local/lib/python3.8/lib2to3/fixes/fix_future.py'...\n",
            "Compiling '/usr/local/lib/python3.8/lib2to3/fixes/fix_getcwdu.py'...\n",
            "Compiling '/usr/local/lib/python3.8/lib2to3/fixes/fix_has_key.py'...\n",
            "Compiling '/usr/local/lib/python3.8/lib2to3/fixes/fix_idioms.py'...\n",
            "Compiling '/usr/local/lib/python3.8/lib2to3/fixes/fix_import.py'...\n",
            "Compiling '/usr/local/lib/python3.8/lib2to3/fixes/fix_imports.py'...\n",
            "Compiling '/usr/local/lib/python3.8/lib2to3/fixes/fix_imports2.py'...\n",
            "Compiling '/usr/local/lib/python3.8/lib2to3/fixes/fix_input.py'...\n",
            "Compiling '/usr/local/lib/python3.8/lib2to3/fixes/fix_intern.py'...\n",
            "Compiling '/usr/local/lib/python3.8/lib2to3/fixes/fix_isinstance.py'...\n",
            "Compiling '/usr/local/lib/python3.8/lib2to3/fixes/fix_itertools.py'...\n",
            "Compiling '/usr/local/lib/python3.8/lib2to3/fixes/fix_itertools_imports.py'...\n",
            "Compiling '/usr/local/lib/python3.8/lib2to3/fixes/fix_long.py'...\n",
            "Compiling '/usr/local/lib/python3.8/lib2to3/fixes/fix_map.py'...\n",
            "Compiling '/usr/local/lib/python3.8/lib2to3/fixes/fix_metaclass.py'...\n",
            "Compiling '/usr/local/lib/python3.8/lib2to3/fixes/fix_methodattrs.py'...\n",
            "Compiling '/usr/local/lib/python3.8/lib2to3/fixes/fix_ne.py'...\n",
            "Compiling '/usr/local/lib/python3.8/lib2to3/fixes/fix_next.py'...\n",
            "Compiling '/usr/local/lib/python3.8/lib2to3/fixes/fix_nonzero.py'...\n",
            "Compiling '/usr/local/lib/python3.8/lib2to3/fixes/fix_numliterals.py'...\n",
            "Compiling '/usr/local/lib/python3.8/lib2to3/fixes/fix_operator.py'...\n",
            "Compiling '/usr/local/lib/python3.8/lib2to3/fixes/fix_paren.py'...\n",
            "Compiling '/usr/local/lib/python3.8/lib2to3/fixes/fix_print.py'...\n",
            "Compiling '/usr/local/lib/python3.8/lib2to3/fixes/fix_raise.py'...\n",
            "Compiling '/usr/local/lib/python3.8/lib2to3/fixes/fix_raw_input.py'...\n",
            "Compiling '/usr/local/lib/python3.8/lib2to3/fixes/fix_reduce.py'...\n",
            "Compiling '/usr/local/lib/python3.8/lib2to3/fixes/fix_reload.py'...\n",
            "Compiling '/usr/local/lib/python3.8/lib2to3/fixes/fix_renames.py'...\n",
            "Compiling '/usr/local/lib/python3.8/lib2to3/fixes/fix_repr.py'...\n",
            "Compiling '/usr/local/lib/python3.8/lib2to3/fixes/fix_set_literal.py'...\n",
            "Compiling '/usr/local/lib/python3.8/lib2to3/fixes/fix_standarderror.py'...\n",
            "Compiling '/usr/local/lib/python3.8/lib2to3/fixes/fix_sys_exc.py'...\n",
            "Compiling '/usr/local/lib/python3.8/lib2to3/fixes/fix_throw.py'...\n",
            "Compiling '/usr/local/lib/python3.8/lib2to3/fixes/fix_tuple_params.py'...\n",
            "Compiling '/usr/local/lib/python3.8/lib2to3/fixes/fix_types.py'...\n",
            "Compiling '/usr/local/lib/python3.8/lib2to3/fixes/fix_unicode.py'...\n",
            "Compiling '/usr/local/lib/python3.8/lib2to3/fixes/fix_ws_comma.py'...\n",
            "Compiling '/usr/local/lib/python3.8/lib2to3/fixes/fix_urllib.py'...\n",
            "Compiling '/usr/local/lib/python3.8/lib2to3/fixes/fix_xrange.py'...\n",
            "Compiling '/usr/local/lib/python3.8/lib2to3/fixes/fix_xreadlines.py'...\n",
            "Compiling '/usr/local/lib/python3.8/lib2to3/fixes/fix_zip.py'...\n",
            "Compiling '/usr/local/lib/python3.8/lib2to3/main.py'...\n",
            "Compiling '/usr/local/lib/python3.8/lib2to3/patcomp.py'...\n",
            "Compiling '/usr/local/lib/python3.8/lib2to3/pgen2/__init__.py'...\n",
            "Compiling '/usr/local/lib/python3.8/lib2to3/pgen2/driver.py'...\n",
            "Compiling '/usr/local/lib/python3.8/lib2to3/pgen2/conv.py'...\n",
            "Compiling '/usr/local/lib/python3.8/lib2to3/pgen2/grammar.py'...\n",
            "Compiling '/usr/local/lib/python3.8/lib2to3/pgen2/literals.py'...\n",
            "Compiling '/usr/local/lib/python3.8/lib2to3/pgen2/parse.py'...\n",
            "Compiling '/usr/local/lib/python3.8/lib2to3/pgen2/pgen.py'...\n",
            "Compiling '/usr/local/lib/python3.8/lib2to3/pgen2/token.py'...\n",
            "Compiling '/usr/local/lib/python3.8/lib2to3/pgen2/tokenize.py'...\n",
            "Compiling '/usr/local/lib/python3.8/lib2to3/pygram.py'...\n",
            "Compiling '/usr/local/lib/python3.8/lib2to3/pytree.py'...\n",
            "Compiling '/usr/local/lib/python3.8/lib2to3/refactor.py'...\n",
            "Compiling '/usr/local/lib/python3.8/lib2to3/tests/__init__.py'...\n",
            "Compiling '/usr/local/lib/python3.8/lib2to3/tests/__main__.py'...\n",
            "Compiling '/usr/local/lib/python3.8/lib2to3/tests/pytree_idempotency.py'...\n",
            "Compiling '/usr/local/lib/python3.8/lib2to3/tests/support.py'...\n",
            "Compiling '/usr/local/lib/python3.8/lib2to3/tests/test_all_fixers.py'...\n",
            "Compiling '/usr/local/lib/python3.8/lib2to3/tests/test_fixers.py'...\n",
            "Compiling '/usr/local/lib/python3.8/lib2to3/tests/test_main.py'...\n",
            "Compiling '/usr/local/lib/python3.8/lib2to3/tests/test_pytree.py'...\n",
            "Compiling '/usr/local/lib/python3.8/lib2to3/tests/test_refactor.py'...\n",
            "Compiling '/usr/local/lib/python3.8/lib2to3/tests/test_util.py'...\n",
            "Compiling '/usr/local/lib/python3.8/lib2to3/tests/test_parser.py'...\n",
            "Compiling '/usr/local/lib/python3.8/linecache.py'...\n",
            "Compiling '/usr/local/lib/python3.8/locale.py'...\n",
            "Compiling '/usr/local/lib/python3.8/logging/__init__.py'...\n",
            "Compiling '/usr/local/lib/python3.8/logging/config.py'...\n",
            "Compiling '/usr/local/lib/python3.8/logging/handlers.py'...\n",
            "Compiling '/usr/local/lib/python3.8/lzma.py'...\n",
            "Compiling '/usr/local/lib/python3.8/mailbox.py'...\n",
            "Compiling '/usr/local/lib/python3.8/mailcap.py'...\n",
            "Compiling '/usr/local/lib/python3.8/mimetypes.py'...\n",
            "Compiling '/usr/local/lib/python3.8/modulefinder.py'...\n",
            "Compiling '/usr/local/lib/python3.8/multiprocessing/__init__.py'...\n",
            "Compiling '/usr/local/lib/python3.8/multiprocessing/connection.py'...\n",
            "Compiling '/usr/local/lib/python3.8/multiprocessing/context.py'...\n",
            "Compiling '/usr/local/lib/python3.8/multiprocessing/dummy/__init__.py'...\n",
            "Compiling '/usr/local/lib/python3.8/multiprocessing/dummy/connection.py'...\n",
            "Compiling '/usr/local/lib/python3.8/multiprocessing/forkserver.py'...\n",
            "Compiling '/usr/local/lib/python3.8/multiprocessing/heap.py'...\n",
            "Compiling '/usr/local/lib/python3.8/multiprocessing/managers.py'...\n",
            "Compiling '/usr/local/lib/python3.8/multiprocessing/pool.py'...\n",
            "Compiling '/usr/local/lib/python3.8/multiprocessing/popen_fork.py'...\n",
            "Compiling '/usr/local/lib/python3.8/multiprocessing/popen_spawn_posix.py'...\n",
            "Compiling '/usr/local/lib/python3.8/multiprocessing/popen_forkserver.py'...\n",
            "Compiling '/usr/local/lib/python3.8/multiprocessing/popen_spawn_win32.py'...\n",
            "Compiling '/usr/local/lib/python3.8/multiprocessing/process.py'...\n",
            "Compiling '/usr/local/lib/python3.8/multiprocessing/queues.py'...\n",
            "Compiling '/usr/local/lib/python3.8/multiprocessing/reduction.py'...\n",
            "Compiling '/usr/local/lib/python3.8/multiprocessing/resource_sharer.py'...\n",
            "Compiling '/usr/local/lib/python3.8/multiprocessing/resource_tracker.py'...\n",
            "Compiling '/usr/local/lib/python3.8/multiprocessing/shared_memory.py'...\n",
            "Compiling '/usr/local/lib/python3.8/multiprocessing/sharedctypes.py'...\n",
            "Compiling '/usr/local/lib/python3.8/multiprocessing/spawn.py'...\n",
            "Compiling '/usr/local/lib/python3.8/multiprocessing/util.py'...\n",
            "Compiling '/usr/local/lib/python3.8/multiprocessing/synchronize.py'...\n",
            "Compiling '/usr/local/lib/python3.8/netrc.py'...\n",
            "Compiling '/usr/local/lib/python3.8/nntplib.py'...\n",
            "Compiling '/usr/local/lib/python3.8/nturl2path.py'...\n",
            "Compiling '/usr/local/lib/python3.8/ntpath.py'...\n",
            "Compiling '/usr/local/lib/python3.8/numbers.py'...\n",
            "Compiling '/usr/local/lib/python3.8/opcode.py'...\n",
            "Compiling '/usr/local/lib/python3.8/operator.py'...\n",
            "Compiling '/usr/local/lib/python3.8/optparse.py'...\n",
            "Compiling '/usr/local/lib/python3.8/os.py'...\n",
            "Compiling '/usr/local/lib/python3.8/pathlib.py'...\n",
            "Compiling '/usr/local/lib/python3.8/pdb.py'...\n",
            "Compiling '/usr/local/lib/python3.8/pickle.py'...\n",
            "Compiling '/usr/local/lib/python3.8/pickletools.py'...\n",
            "Compiling '/usr/local/lib/python3.8/pipes.py'...\n",
            "Compiling '/usr/local/lib/python3.8/pkgutil.py'...\n",
            "Compiling '/usr/local/lib/python3.8/platform.py'...\n",
            "Compiling '/usr/local/lib/python3.8/plistlib.py'...\n",
            "Compiling '/usr/local/lib/python3.8/poplib.py'...\n",
            "Compiling '/usr/local/lib/python3.8/posixpath.py'...\n",
            "Compiling '/usr/local/lib/python3.8/pprint.py'...\n",
            "Compiling '/usr/local/lib/python3.8/profile.py'...\n",
            "Compiling '/usr/local/lib/python3.8/pstats.py'...\n",
            "Compiling '/usr/local/lib/python3.8/pty.py'...\n",
            "Compiling '/usr/local/lib/python3.8/py_compile.py'...\n",
            "Compiling '/usr/local/lib/python3.8/pyclbr.py'...\n",
            "Compiling '/usr/local/lib/python3.8/pydoc.py'...\n",
            "Compiling '/usr/local/lib/python3.8/pydoc_data/__init__.py'...\n",
            "Compiling '/usr/local/lib/python3.8/pydoc_data/topics.py'...\n",
            "Compiling '/usr/local/lib/python3.8/queue.py'...\n",
            "Compiling '/usr/local/lib/python3.8/quopri.py'...\n",
            "Compiling '/usr/local/lib/python3.8/random.py'...\n",
            "Compiling '/usr/local/lib/python3.8/re.py'...\n",
            "Compiling '/usr/local/lib/python3.8/reprlib.py'...\n",
            "Compiling '/usr/local/lib/python3.8/rlcompleter.py'...\n",
            "Compiling '/usr/local/lib/python3.8/sched.py'...\n",
            "Compiling '/usr/local/lib/python3.8/secrets.py'...\n",
            "Compiling '/usr/local/lib/python3.8/runpy.py'...\n",
            "Compiling '/usr/local/lib/python3.8/selectors.py'...\n",
            "Compiling '/usr/local/lib/python3.8/shelve.py'...\n",
            "Compiling '/usr/local/lib/python3.8/shlex.py'...\n",
            "Compiling '/usr/local/lib/python3.8/shutil.py'...\n",
            "Compiling '/usr/local/lib/python3.8/signal.py'...\n",
            "Compiling '/usr/local/lib/python3.8/site.py'...\n",
            "Compiling '/usr/local/lib/python3.8/smtpd.py'...\n",
            "Compiling '/usr/local/lib/python3.8/smtplib.py'...\n",
            "Compiling '/usr/local/lib/python3.8/sndhdr.py'...\n",
            "Compiling '/usr/local/lib/python3.8/socket.py'...\n",
            "Compiling '/usr/local/lib/python3.8/socketserver.py'...\n",
            "Compiling '/usr/local/lib/python3.8/sqlite3/__init__.py'...\n",
            "Compiling '/usr/local/lib/python3.8/sqlite3/dbapi2.py'...\n",
            "Compiling '/usr/local/lib/python3.8/sqlite3/dump.py'...\n",
            "Compiling '/usr/local/lib/python3.8/sqlite3/test/__init__.py'...\n",
            "Compiling '/usr/local/lib/python3.8/sqlite3/test/backup.py'...\n",
            "Compiling '/usr/local/lib/python3.8/sqlite3/test/dbapi.py'...\n",
            "Compiling '/usr/local/lib/python3.8/sqlite3/test/dump.py'...\n",
            "Compiling '/usr/local/lib/python3.8/sqlite3/test/factory.py'...\n",
            "Compiling '/usr/local/lib/python3.8/sqlite3/test/hooks.py'...\n",
            "Compiling '/usr/local/lib/python3.8/sqlite3/test/regression.py'...\n",
            "Compiling '/usr/local/lib/python3.8/sqlite3/test/transactions.py'...\n",
            "Compiling '/usr/local/lib/python3.8/sqlite3/test/types.py'...\n",
            "Compiling '/usr/local/lib/python3.8/sqlite3/test/userfunctions.py'...\n",
            "Compiling '/usr/local/lib/python3.8/sre_compile.py'...\n",
            "Compiling '/usr/local/lib/python3.8/sre_constants.py'...\n",
            "Compiling '/usr/local/lib/python3.8/sre_parse.py'...\n",
            "Compiling '/usr/local/lib/python3.8/ssl.py'...\n",
            "Compiling '/usr/local/lib/python3.8/stat.py'...\n",
            "Compiling '/usr/local/lib/python3.8/statistics.py'...\n",
            "Compiling '/usr/local/lib/python3.8/string.py'...\n",
            "Compiling '/usr/local/lib/python3.8/stringprep.py'...\n",
            "Compiling '/usr/local/lib/python3.8/struct.py'...\n",
            "Compiling '/usr/local/lib/python3.8/subprocess.py'...\n",
            "Compiling '/usr/local/lib/python3.8/sunau.py'...\n",
            "Compiling '/usr/local/lib/python3.8/symbol.py'...\n",
            "Compiling '/usr/local/lib/python3.8/symtable.py'...\n",
            "Compiling '/usr/local/lib/python3.8/sysconfig.py'...\n",
            "Compiling '/usr/local/lib/python3.8/tabnanny.py'...\n",
            "Compiling '/usr/local/lib/python3.8/tarfile.py'...\n",
            "Compiling '/usr/local/lib/python3.8/telnetlib.py'...\n",
            "Compiling '/usr/local/lib/python3.8/tempfile.py'...\n",
            "Compiling '/usr/local/lib/python3.8/test/__init__.py'...\n",
            "Compiling '/usr/local/lib/python3.8/test/__main__.py'...\n",
            "Compiling '/usr/local/lib/python3.8/test/_test_multiprocessing.py'...\n",
            "Compiling '/usr/local/lib/python3.8/test/ann_module.py'...\n",
            "Compiling '/usr/local/lib/python3.8/test/ann_module2.py'...\n",
            "Compiling '/usr/local/lib/python3.8/test/ann_module3.py'...\n",
            "Compiling '/usr/local/lib/python3.8/test/audiotests.py'...\n",
            "Compiling '/usr/local/lib/python3.8/test/audit-tests.py'...\n",
            "Compiling '/usr/local/lib/python3.8/test/autotest.py'...\n",
            "Compiling '/usr/local/lib/python3.8/test/bad_getattr.py'...\n",
            "Compiling '/usr/local/lib/python3.8/test/bad_getattr2.py'...\n",
            "Compiling '/usr/local/lib/python3.8/test/bad_getattr3.py'...\n",
            "Compiling '/usr/local/lib/python3.8/test/bisect_cmd.py'...\n",
            "Compiling '/usr/local/lib/python3.8/test/bytecode_helper.py'...\n",
            "Compiling '/usr/local/lib/python3.8/test/coding20731.py'...\n",
            "Compiling '/usr/local/lib/python3.8/test/curses_tests.py'...\n",
            "Compiling '/usr/local/lib/python3.8/test/dataclass_module_1.py'...\n",
            "Compiling '/usr/local/lib/python3.8/test/dataclass_module_2.py'...\n",
            "Compiling '/usr/local/lib/python3.8/test/dataclass_module_1_str.py'...\n",
            "Compiling '/usr/local/lib/python3.8/test/dataclass_module_2_str.py'...\n",
            "Compiling '/usr/local/lib/python3.8/test/dataclass_textanno.py'...\n",
            "Compiling '/usr/local/lib/python3.8/test/datetimetester.py'...\n",
            "Compiling '/usr/local/lib/python3.8/test/dis_module.py'...\n",
            "Compiling '/usr/local/lib/python3.8/test/doctest_aliases.py'...\n",
            "Compiling '/usr/local/lib/python3.8/test/double_const.py'...\n",
            "Compiling '/usr/local/lib/python3.8/test/dtracedata/call_stack.py'...\n",
            "Compiling '/usr/local/lib/python3.8/test/dtracedata/gc.py'...\n",
            "Compiling '/usr/local/lib/python3.8/test/dtracedata/instance.py'...\n",
            "Compiling '/usr/local/lib/python3.8/test/dtracedata/line.py'...\n",
            "Compiling '/usr/local/lib/python3.8/test/eintrdata/eintr_tester.py'...\n",
            "Compiling '/usr/local/lib/python3.8/test/encoded_modules/__init__.py'...\n",
            "Compiling '/usr/local/lib/python3.8/test/encoded_modules/module_iso_8859_1.py'...\n",
            "Compiling '/usr/local/lib/python3.8/test/encoded_modules/module_koi8_r.py'...\n",
            "Compiling '/usr/local/lib/python3.8/test/final_a.py'...\n",
            "Compiling '/usr/local/lib/python3.8/test/final_b.py'...\n",
            "Compiling '/usr/local/lib/python3.8/test/fork_wait.py'...\n",
            "Compiling '/usr/local/lib/python3.8/test/future_test1.py'...\n",
            "Compiling '/usr/local/lib/python3.8/test/future_test2.py'...\n",
            "Compiling '/usr/local/lib/python3.8/test/gdb_sample.py'...\n",
            "Compiling '/usr/local/lib/python3.8/test/good_getattr.py'...\n",
            "Compiling '/usr/local/lib/python3.8/test/imp_dummy.py'...\n",
            "Compiling '/usr/local/lib/python3.8/test/inspect_fodder.py'...\n",
            "Compiling '/usr/local/lib/python3.8/test/inspect_fodder2.py'...\n",
            "Compiling '/usr/local/lib/python3.8/test/libregrtest/__init__.py'...\n",
            "Compiling '/usr/local/lib/python3.8/test/libregrtest/cmdline.py'...\n",
            "Compiling '/usr/local/lib/python3.8/test/libregrtest/main.py'...\n",
            "Compiling '/usr/local/lib/python3.8/test/libregrtest/pgo.py'...\n",
            "Compiling '/usr/local/lib/python3.8/test/libregrtest/refleak.py'...\n",
            "Compiling '/usr/local/lib/python3.8/test/libregrtest/runtest.py'...\n",
            "Compiling '/usr/local/lib/python3.8/test/libregrtest/runtest_mp.py'...\n",
            "Compiling '/usr/local/lib/python3.8/test/libregrtest/save_env.py'...\n",
            "Compiling '/usr/local/lib/python3.8/test/libregrtest/setup.py'...\n",
            "Compiling '/usr/local/lib/python3.8/test/libregrtest/utils.py'...\n",
            "Compiling '/usr/local/lib/python3.8/test/libregrtest/win_utils.py'...\n",
            "Compiling '/usr/local/lib/python3.8/test/list_tests.py'...\n",
            "Compiling '/usr/local/lib/python3.8/test/lock_tests.py'...\n",
            "Compiling '/usr/local/lib/python3.8/test/make_ssl_certs.py'...\n",
            "Compiling '/usr/local/lib/python3.8/test/mapping_tests.py'...\n",
            "Compiling '/usr/local/lib/python3.8/test/memory_watchdog.py'...\n",
            "Compiling '/usr/local/lib/python3.8/test/mock_socket.py'...\n",
            "Compiling '/usr/local/lib/python3.8/test/mod_generics_cache.py'...\n",
            "Compiling '/usr/local/lib/python3.8/test/mp_fork_bomb.py'...\n",
            "Compiling '/usr/local/lib/python3.8/test/mp_preload.py'...\n",
            "Compiling '/usr/local/lib/python3.8/test/multibytecodec_support.py'...\n",
            "Compiling '/usr/local/lib/python3.8/test/outstanding_bugs.py'...\n",
            "Compiling '/usr/local/lib/python3.8/test/pickletester.py'...\n",
            "Compiling '/usr/local/lib/python3.8/test/profilee.py'...\n",
            "Compiling '/usr/local/lib/python3.8/test/pyclbr_input.py'...\n",
            "Compiling '/usr/local/lib/python3.8/test/pydoc_mod.py'...\n",
            "Compiling '/usr/local/lib/python3.8/test/pydocfodder.py'...\n",
            "Compiling '/usr/local/lib/python3.8/test/pythoninfo.py'...\n",
            "Compiling '/usr/local/lib/python3.8/test/re_tests.py'...\n",
            "Compiling '/usr/local/lib/python3.8/test/regrtest.py'...\n",
            "Compiling '/usr/local/lib/python3.8/test/relimport.py'...\n",
            "Compiling '/usr/local/lib/python3.8/test/reperf.py'...\n",
            "Compiling '/usr/local/lib/python3.8/test/sample_doctest.py'...\n",
            "Compiling '/usr/local/lib/python3.8/test/sample_doctest_no_docstrings.py'...\n",
            "Compiling '/usr/local/lib/python3.8/test/sample_doctest_no_doctests.py'...\n",
            "Compiling '/usr/local/lib/python3.8/test/seq_tests.py'...\n",
            "Compiling '/usr/local/lib/python3.8/test/signalinterproctester.py'...\n",
            "Compiling '/usr/local/lib/python3.8/test/sortperf.py'...\n",
            "Compiling '/usr/local/lib/python3.8/test/ssl_servers.py'...\n",
            "Compiling '/usr/local/lib/python3.8/test/ssltests.py'...\n",
            "Compiling '/usr/local/lib/python3.8/test/string_tests.py'...\n",
            "Compiling '/usr/local/lib/python3.8/test/subprocessdata/fd_status.py'...\n",
            "Compiling '/usr/local/lib/python3.8/test/subprocessdata/input_reader.py'...\n",
            "Compiling '/usr/local/lib/python3.8/test/subprocessdata/qcat.py'...\n",
            "Compiling '/usr/local/lib/python3.8/test/subprocessdata/qgrep.py'...\n",
            "Compiling '/usr/local/lib/python3.8/test/subprocessdata/sigchild_ignore.py'...\n",
            "Compiling '/usr/local/lib/python3.8/test/support/__init__.py'...\n",
            "Compiling '/usr/local/lib/python3.8/test/support/script_helper.py'...\n",
            "Compiling '/usr/local/lib/python3.8/test/support/testresult.py'...\n",
            "Compiling '/usr/local/lib/python3.8/test/test___all__.py'...\n",
            "Compiling '/usr/local/lib/python3.8/test/test___future__.py'...\n",
            "Compiling '/usr/local/lib/python3.8/test/test__locale.py'...\n",
            "Compiling '/usr/local/lib/python3.8/test/test__opcode.py'...\n",
            "Compiling '/usr/local/lib/python3.8/test/test__osx_support.py'...\n",
            "Compiling '/usr/local/lib/python3.8/test/test__xxsubinterpreters.py'...\n",
            "Compiling '/usr/local/lib/python3.8/test/test_abc.py'...\n",
            "Compiling '/usr/local/lib/python3.8/test/test_abstract_numbers.py'...\n",
            "Compiling '/usr/local/lib/python3.8/test/test_aifc.py'...\n",
            "Compiling '/usr/local/lib/python3.8/test/test_argparse.py'...\n",
            "Compiling '/usr/local/lib/python3.8/test/test_array.py'...\n",
            "Compiling '/usr/local/lib/python3.8/test/test_asdl_parser.py'...\n",
            "Compiling '/usr/local/lib/python3.8/test/test_ast.py'...\n",
            "Compiling '/usr/local/lib/python3.8/test/test_asyncgen.py'...\n",
            "Compiling '/usr/local/lib/python3.8/test/test_asyncio/__init__.py'...\n",
            "Compiling '/usr/local/lib/python3.8/test/test_asynchat.py'...\n",
            "Compiling '/usr/local/lib/python3.8/test/test_asyncio/__main__.py'...\n",
            "Compiling '/usr/local/lib/python3.8/test/test_asyncio/echo.py'...\n",
            "Compiling '/usr/local/lib/python3.8/test/test_asyncio/echo2.py'...\n",
            "Compiling '/usr/local/lib/python3.8/test/test_asyncio/echo3.py'...\n",
            "Compiling '/usr/local/lib/python3.8/test/test_asyncio/functional.py'...\n",
            "Compiling '/usr/local/lib/python3.8/test/test_asyncio/test_base_events.py'...\n",
            "Compiling '/usr/local/lib/python3.8/test/test_asyncio/test_buffered_proto.py'...\n",
            "Compiling '/usr/local/lib/python3.8/test/test_asyncio/test_context.py'...\n",
            "Compiling '/usr/local/lib/python3.8/test/test_asyncio/test_events.py'...\n",
            "Compiling '/usr/local/lib/python3.8/test/test_asyncio/test_futures.py'...\n",
            "Compiling '/usr/local/lib/python3.8/test/test_asyncio/test_locks.py'...\n",
            "Compiling '/usr/local/lib/python3.8/test/test_asyncio/test_pep492.py'...\n",
            "Compiling '/usr/local/lib/python3.8/test/test_asyncio/test_proactor_events.py'...\n",
            "Compiling '/usr/local/lib/python3.8/test/test_asyncio/test_protocols.py'...\n",
            "Compiling '/usr/local/lib/python3.8/test/test_asyncio/test_queues.py'...\n",
            "Compiling '/usr/local/lib/python3.8/test/test_asyncio/test_runners.py'...\n",
            "Compiling '/usr/local/lib/python3.8/test/test_asyncio/test_selector_events.py'...\n",
            "Compiling '/usr/local/lib/python3.8/test/test_asyncio/test_sendfile.py'...\n",
            "Compiling '/usr/local/lib/python3.8/test/test_asyncio/test_server.py'...\n",
            "Compiling '/usr/local/lib/python3.8/test/test_asyncio/test_sock_lowlevel.py'...\n",
            "Compiling '/usr/local/lib/python3.8/test/test_asyncio/test_sslproto.py'...\n",
            "Compiling '/usr/local/lib/python3.8/test/test_asyncio/test_streams.py'...\n",
            "Compiling '/usr/local/lib/python3.8/test/test_asyncio/test_subprocess.py'...\n",
            "Compiling '/usr/local/lib/python3.8/test/test_asyncio/test_tasks.py'...\n",
            "Compiling '/usr/local/lib/python3.8/test/test_asyncio/test_transports.py'...\n",
            "Compiling '/usr/local/lib/python3.8/test/test_asyncio/test_unix_events.py'...\n",
            "Compiling '/usr/local/lib/python3.8/test/test_asyncio/test_windows_events.py'...\n",
            "Compiling '/usr/local/lib/python3.8/test/test_asyncio/test_windows_utils.py'...\n",
            "Compiling '/usr/local/lib/python3.8/test/test_asyncio/utils.py'...\n",
            "Compiling '/usr/local/lib/python3.8/test/test_asyncore.py'...\n",
            "Compiling '/usr/local/lib/python3.8/test/test_atexit.py'...\n",
            "Compiling '/usr/local/lib/python3.8/test/test_audioop.py'...\n",
            "Compiling '/usr/local/lib/python3.8/test/test_audit.py'...\n",
            "Compiling '/usr/local/lib/python3.8/test/test_augassign.py'...\n",
            "Compiling '/usr/local/lib/python3.8/test/test_base64.py'...\n",
            "Compiling '/usr/local/lib/python3.8/test/test_baseexception.py'...\n",
            "Compiling '/usr/local/lib/python3.8/test/test_bdb.py'...\n",
            "Compiling '/usr/local/lib/python3.8/test/test_bigaddrspace.py'...\n",
            "Compiling '/usr/local/lib/python3.8/test/test_bigmem.py'...\n",
            "Compiling '/usr/local/lib/python3.8/test/test_binascii.py'...\n",
            "Compiling '/usr/local/lib/python3.8/test/test_binhex.py'...\n",
            "Compiling '/usr/local/lib/python3.8/test/test_binop.py'...\n",
            "Compiling '/usr/local/lib/python3.8/test/test_bisect.py'...\n",
            "Compiling '/usr/local/lib/python3.8/test/test_buffer.py'...\n",
            "Compiling '/usr/local/lib/python3.8/test/test_bool.py'...\n",
            "Compiling '/usr/local/lib/python3.8/test/test_bufio.py'...\n",
            "Compiling '/usr/local/lib/python3.8/test/test_builtin.py'...\n",
            "Compiling '/usr/local/lib/python3.8/test/test_bytes.py'...\n",
            "Compiling '/usr/local/lib/python3.8/test/test_bz2.py'...\n",
            "Compiling '/usr/local/lib/python3.8/test/test_c_locale_coercion.py'...\n",
            "Compiling '/usr/local/lib/python3.8/test/test_calendar.py'...\n",
            "Compiling '/usr/local/lib/python3.8/test/test_call.py'...\n",
            "Compiling '/usr/local/lib/python3.8/test/test_capi.py'...\n",
            "Compiling '/usr/local/lib/python3.8/test/test_cgi.py'...\n",
            "Compiling '/usr/local/lib/python3.8/test/test_cgitb.py'...\n",
            "Compiling '/usr/local/lib/python3.8/test/test_charmapcodec.py'...\n",
            "Compiling '/usr/local/lib/python3.8/test/test_class.py'...\n",
            "Compiling '/usr/local/lib/python3.8/test/test_clinic.py'...\n",
            "Compiling '/usr/local/lib/python3.8/test/test_cmath.py'...\n",
            "Compiling '/usr/local/lib/python3.8/test/test_cmd.py'...\n",
            "Compiling '/usr/local/lib/python3.8/test/test_cmd_line.py'...\n",
            "Compiling '/usr/local/lib/python3.8/test/test_cmd_line_script.py'...\n",
            "Compiling '/usr/local/lib/python3.8/test/test_code.py'...\n",
            "Compiling '/usr/local/lib/python3.8/test/test_code_module.py'...\n",
            "Compiling '/usr/local/lib/python3.8/test/test_codeccallbacks.py'...\n",
            "Compiling '/usr/local/lib/python3.8/test/test_codecencodings_cn.py'...\n",
            "Compiling '/usr/local/lib/python3.8/test/test_codecencodings_hk.py'...\n",
            "Compiling '/usr/local/lib/python3.8/test/test_codecencodings_iso2022.py'...\n",
            "Compiling '/usr/local/lib/python3.8/test/test_codecencodings_kr.py'...\n",
            "Compiling '/usr/local/lib/python3.8/test/test_codecencodings_tw.py'...\n",
            "Compiling '/usr/local/lib/python3.8/test/test_codecmaps_cn.py'...\n",
            "Compiling '/usr/local/lib/python3.8/test/test_codecencodings_jp.py'...\n",
            "Compiling '/usr/local/lib/python3.8/test/test_codecmaps_hk.py'...\n",
            "Compiling '/usr/local/lib/python3.8/test/test_codecmaps_jp.py'...\n",
            "Compiling '/usr/local/lib/python3.8/test/test_codecmaps_kr.py'...\n",
            "Compiling '/usr/local/lib/python3.8/test/test_codecmaps_tw.py'...\n",
            "Compiling '/usr/local/lib/python3.8/test/test_codecs.py'...\n",
            "Compiling '/usr/local/lib/python3.8/test/test_codeop.py'...\n",
            "Compiling '/usr/local/lib/python3.8/test/test_colorsys.py'...\n",
            "Compiling '/usr/local/lib/python3.8/test/test_collections.py'...\n",
            "Compiling '/usr/local/lib/python3.8/test/test_compile.py'...\n",
            "Compiling '/usr/local/lib/python3.8/test/test_compare.py'...\n",
            "Compiling '/usr/local/lib/python3.8/test/test_compileall.py'...\n",
            "Compiling '/usr/local/lib/python3.8/test/test_complex.py'...\n",
            "Compiling '/usr/local/lib/python3.8/test/test_concurrent_futures.py'...\n",
            "Compiling '/usr/local/lib/python3.8/test/test_configparser.py'...\n",
            "Compiling '/usr/local/lib/python3.8/test/test_contains.py'...\n",
            "Compiling '/usr/local/lib/python3.8/test/test_context.py'...\n",
            "Compiling '/usr/local/lib/python3.8/test/test_contextlib.py'...\n",
            "Compiling '/usr/local/lib/python3.8/test/test_copy.py'...\n",
            "Compiling '/usr/local/lib/python3.8/test/test_contextlib_async.py'...\n",
            "Compiling '/usr/local/lib/python3.8/test/test_coroutines.py'...\n",
            "Compiling '/usr/local/lib/python3.8/test/test_cprofile.py'...\n",
            "Compiling '/usr/local/lib/python3.8/test/test_copyreg.py'...\n",
            "Compiling '/usr/local/lib/python3.8/test/test_crashers.py'...\n",
            "Compiling '/usr/local/lib/python3.8/test/test_crypt.py'...\n",
            "Compiling '/usr/local/lib/python3.8/test/test_csv.py'...\n",
            "Compiling '/usr/local/lib/python3.8/test/test_ctypes.py'...\n",
            "Compiling '/usr/local/lib/python3.8/test/test_curses.py'...\n",
            "Compiling '/usr/local/lib/python3.8/test/test_dataclasses.py'...\n",
            "Compiling '/usr/local/lib/python3.8/test/test_datetime.py'...\n",
            "Compiling '/usr/local/lib/python3.8/test/test_dbm.py'...\n",
            "Compiling '/usr/local/lib/python3.8/test/test_dbm_dumb.py'...\n",
            "Compiling '/usr/local/lib/python3.8/test/test_dbm_gnu.py'...\n",
            "Compiling '/usr/local/lib/python3.8/test/test_dbm_ndbm.py'...\n",
            "Compiling '/usr/local/lib/python3.8/test/test_decimal.py'...\n",
            "Compiling '/usr/local/lib/python3.8/test/test_decorators.py'...\n",
            "Compiling '/usr/local/lib/python3.8/test/test_defaultdict.py'...\n",
            "Compiling '/usr/local/lib/python3.8/test/test_deque.py'...\n",
            "Compiling '/usr/local/lib/python3.8/test/test_descr.py'...\n",
            "Compiling '/usr/local/lib/python3.8/test/test_descrtut.py'...\n",
            "Compiling '/usr/local/lib/python3.8/test/test_devpoll.py'...\n",
            "Compiling '/usr/local/lib/python3.8/test/test_dict.py'...\n",
            "Compiling '/usr/local/lib/python3.8/test/test_dict_version.py'...\n",
            "Compiling '/usr/local/lib/python3.8/test/test_dictcomps.py'...\n",
            "Compiling '/usr/local/lib/python3.8/test/test_dictviews.py'...\n",
            "Compiling '/usr/local/lib/python3.8/test/test_difflib.py'...\n",
            "Compiling '/usr/local/lib/python3.8/test/test_distutils.py'...\n",
            "Compiling '/usr/local/lib/python3.8/test/test_dis.py'...\n",
            "Compiling '/usr/local/lib/python3.8/test/test_doctest.py'...\n",
            "Compiling '/usr/local/lib/python3.8/test/test_doctest2.py'...\n",
            "Compiling '/usr/local/lib/python3.8/test/test_docxmlrpc.py'...\n",
            "Compiling '/usr/local/lib/python3.8/test/test_dtrace.py'...\n",
            "Compiling '/usr/local/lib/python3.8/test/test_dummy_thread.py'...\n",
            "Compiling '/usr/local/lib/python3.8/test/test_dummy_threading.py'...\n",
            "Compiling '/usr/local/lib/python3.8/test/test_dynamic.py'...\n",
            "Compiling '/usr/local/lib/python3.8/test/test_dynamicclassattribute.py'...\n",
            "Compiling '/usr/local/lib/python3.8/test/test_eintr.py'...\n",
            "Compiling '/usr/local/lib/python3.8/test/test_email/__init__.py'...\n",
            "Compiling '/usr/local/lib/python3.8/test/test_email/__main__.py'...\n",
            "Compiling '/usr/local/lib/python3.8/test/test_email/test__encoded_words.py'...\n",
            "Compiling '/usr/local/lib/python3.8/test/test_email/test__header_value_parser.py'...\n",
            "Compiling '/usr/local/lib/python3.8/test/test_email/test_asian_codecs.py'...\n",
            "Compiling '/usr/local/lib/python3.8/test/test_email/test_contentmanager.py'...\n",
            "Compiling '/usr/local/lib/python3.8/test/test_email/test_defect_handling.py'...\n",
            "Compiling '/usr/local/lib/python3.8/test/test_email/test_email.py'...\n",
            "Compiling '/usr/local/lib/python3.8/test/test_email/test_generator.py'...\n",
            "Compiling '/usr/local/lib/python3.8/test/test_email/test_headerregistry.py'...\n",
            "Compiling '/usr/local/lib/python3.8/test/test_email/test_inversion.py'...\n",
            "Compiling '/usr/local/lib/python3.8/test/test_email/test_message.py'...\n",
            "Compiling '/usr/local/lib/python3.8/test/test_email/test_parser.py'...\n",
            "Compiling '/usr/local/lib/python3.8/test/test_email/test_pickleable.py'...\n",
            "Compiling '/usr/local/lib/python3.8/test/test_email/test_policy.py'...\n",
            "Compiling '/usr/local/lib/python3.8/test/test_email/test_utils.py'...\n",
            "Compiling '/usr/local/lib/python3.8/test/test_email/torture_test.py'...\n",
            "Compiling '/usr/local/lib/python3.8/test/test_embed.py'...\n",
            "Compiling '/usr/local/lib/python3.8/test/test_ensurepip.py'...\n",
            "Compiling '/usr/local/lib/python3.8/test/test_enum.py'...\n",
            "Compiling '/usr/local/lib/python3.8/test/test_enumerate.py'...\n",
            "Compiling '/usr/local/lib/python3.8/test/test_eof.py'...\n",
            "Compiling '/usr/local/lib/python3.8/test/test_epoll.py'...\n",
            "Compiling '/usr/local/lib/python3.8/test/test_errno.py'...\n",
            "Compiling '/usr/local/lib/python3.8/test/test_exception_hierarchy.py'...\n",
            "Compiling '/usr/local/lib/python3.8/test/test_exception_variations.py'...\n",
            "Compiling '/usr/local/lib/python3.8/test/test_exceptions.py'...\n",
            "Compiling '/usr/local/lib/python3.8/test/test_extcall.py'...\n",
            "Compiling '/usr/local/lib/python3.8/test/test_faulthandler.py'...\n",
            "Compiling '/usr/local/lib/python3.8/test/test_fcntl.py'...\n",
            "Compiling '/usr/local/lib/python3.8/test/test_file.py'...\n",
            "Compiling '/usr/local/lib/python3.8/test/test_filecmp.py'...\n",
            "Compiling '/usr/local/lib/python3.8/test/test_file_eintr.py'...\n",
            "Compiling '/usr/local/lib/python3.8/test/test_fileinput.py'...\n",
            "Compiling '/usr/local/lib/python3.8/test/test_fileio.py'...\n",
            "Compiling '/usr/local/lib/python3.8/test/test_finalization.py'...\n",
            "Compiling '/usr/local/lib/python3.8/test/test_float.py'...\n",
            "Compiling '/usr/local/lib/python3.8/test/test_flufl.py'...\n",
            "Compiling '/usr/local/lib/python3.8/test/test_fnmatch.py'...\n",
            "Compiling '/usr/local/lib/python3.8/test/test_fork1.py'...\n",
            "Compiling '/usr/local/lib/python3.8/test/test_format.py'...\n",
            "Compiling '/usr/local/lib/python3.8/test/test_fractions.py'...\n",
            "Compiling '/usr/local/lib/python3.8/test/test_frame.py'...\n",
            "Compiling '/usr/local/lib/python3.8/test/test_frozen.py'...\n",
            "Compiling '/usr/local/lib/python3.8/test/test_fstring.py'...\n",
            "Compiling '/usr/local/lib/python3.8/test/test_ftplib.py'...\n",
            "Compiling '/usr/local/lib/python3.8/test/test_funcattrs.py'...\n",
            "Compiling '/usr/local/lib/python3.8/test/test_functools.py'...\n",
            "Compiling '/usr/local/lib/python3.8/test/test_future.py'...\n",
            "Compiling '/usr/local/lib/python3.8/test/test_future3.py'...\n",
            "Compiling '/usr/local/lib/python3.8/test/test_future4.py'...\n",
            "Compiling '/usr/local/lib/python3.8/test/test_future5.py'...\n",
            "Compiling '/usr/local/lib/python3.8/test/test_gc.py'...\n",
            "Compiling '/usr/local/lib/python3.8/test/test_gdb.py'...\n",
            "Compiling '/usr/local/lib/python3.8/test/test_generator_stop.py'...\n",
            "Compiling '/usr/local/lib/python3.8/test/test_generators.py'...\n",
            "Compiling '/usr/local/lib/python3.8/test/test_genericclass.py'...\n",
            "Compiling '/usr/local/lib/python3.8/test/test_genericpath.py'...\n",
            "Compiling '/usr/local/lib/python3.8/test/test_genexps.py'...\n",
            "Compiling '/usr/local/lib/python3.8/test/test_getargs2.py'...\n",
            "Compiling '/usr/local/lib/python3.8/test/test_getopt.py'...\n",
            "Compiling '/usr/local/lib/python3.8/test/test_getpass.py'...\n",
            "Compiling '/usr/local/lib/python3.8/test/test_gettext.py'...\n",
            "Compiling '/usr/local/lib/python3.8/test/test_glob.py'...\n",
            "Compiling '/usr/local/lib/python3.8/test/test_global.py'...\n",
            "Compiling '/usr/local/lib/python3.8/test/test_grammar.py'...\n",
            "Compiling '/usr/local/lib/python3.8/test/test_grp.py'...\n",
            "Compiling '/usr/local/lib/python3.8/test/test_gzip.py'...\n",
            "Compiling '/usr/local/lib/python3.8/test/test_hash.py'...\n",
            "Compiling '/usr/local/lib/python3.8/test/test_hashlib.py'...\n",
            "Compiling '/usr/local/lib/python3.8/test/test_heapq.py'...\n",
            "Compiling '/usr/local/lib/python3.8/test/test_hmac.py'...\n",
            "Compiling '/usr/local/lib/python3.8/test/test_html.py'...\n",
            "Compiling '/usr/local/lib/python3.8/test/test_htmlparser.py'...\n",
            "Compiling '/usr/local/lib/python3.8/test/test_http_cookiejar.py'...\n",
            "Compiling '/usr/local/lib/python3.8/test/test_http_cookies.py'...\n",
            "Compiling '/usr/local/lib/python3.8/test/test_httplib.py'...\n",
            "Compiling '/usr/local/lib/python3.8/test/test_httpservers.py'...\n",
            "Compiling '/usr/local/lib/python3.8/test/test_idle.py'...\n",
            "Compiling '/usr/local/lib/python3.8/test/test_imaplib.py'...\n",
            "Compiling '/usr/local/lib/python3.8/test/test_imghdr.py'...\n",
            "Compiling '/usr/local/lib/python3.8/test/test_imp.py'...\n",
            "Compiling '/usr/local/lib/python3.8/test/test_import/__init__.py'...\n",
            "Compiling '/usr/local/lib/python3.8/test/test_import/__main__.py'...\n",
            "Compiling '/usr/local/lib/python3.8/test/test_import/data/circular_imports/basic.py'...\n",
            "Compiling '/usr/local/lib/python3.8/test/test_import/data/circular_imports/basic2.py'...\n",
            "Compiling '/usr/local/lib/python3.8/test/test_import/data/circular_imports/binding.py'...\n",
            "Compiling '/usr/local/lib/python3.8/test/test_import/data/circular_imports/binding2.py'...\n",
            "Compiling '/usr/local/lib/python3.8/test/test_import/data/circular_imports/from_cycle1.py'...\n",
            "Compiling '/usr/local/lib/python3.8/test/test_import/data/circular_imports/from_cycle2.py'...\n",
            "Compiling '/usr/local/lib/python3.8/test/test_import/data/circular_imports/indirect.py'...\n",
            "Compiling '/usr/local/lib/python3.8/test/test_import/data/circular_imports/rebinding.py'...\n",
            "Compiling '/usr/local/lib/python3.8/test/test_import/data/circular_imports/rebinding2.py'...\n",
            "Compiling '/usr/local/lib/python3.8/test/test_import/data/circular_imports/source.py'...\n",
            "Compiling '/usr/local/lib/python3.8/test/test_import/data/circular_imports/subpackage.py'...\n",
            "Compiling '/usr/local/lib/python3.8/test/test_import/data/circular_imports/subpkg/subpackage2.py'...\n",
            "Compiling '/usr/local/lib/python3.8/test/test_import/data/circular_imports/subpkg/util.py'...\n",
            "Compiling '/usr/local/lib/python3.8/test/test_import/data/circular_imports/use.py'...\n",
            "Compiling '/usr/local/lib/python3.8/test/test_import/data/package/__init__.py'...\n",
            "Compiling '/usr/local/lib/python3.8/test/test_import/data/circular_imports/util.py'...\n",
            "Compiling '/usr/local/lib/python3.8/test/test_import/data/package/submodule.py'...\n",
            "Compiling '/usr/local/lib/python3.8/test/test_import/data/package2/submodule1.py'...\n",
            "Compiling '/usr/local/lib/python3.8/test/test_import/data/package2/submodule2.py'...\n",
            "Compiling '/usr/local/lib/python3.8/test/test_importlib/__init__.py'...\n",
            "Compiling '/usr/local/lib/python3.8/test/test_importlib/__main__.py'...\n",
            "Compiling '/usr/local/lib/python3.8/test/test_importlib/abc.py'...\n",
            "Compiling '/usr/local/lib/python3.8/test/test_importlib/builtin/__main__.py'...\n",
            "Compiling '/usr/local/lib/python3.8/test/test_importlib/builtin/__init__.py'...\n",
            "Compiling '/usr/local/lib/python3.8/test/test_importlib/builtin/test_finder.py'...\n",
            "Compiling '/usr/local/lib/python3.8/test/test_importlib/builtin/test_loader.py'...\n",
            "Compiling '/usr/local/lib/python3.8/test/test_importlib/data/__init__.py'...\n",
            "Compiling '/usr/local/lib/python3.8/test/test_importlib/data01/__init__.py'...\n",
            "Compiling '/usr/local/lib/python3.8/test/test_importlib/data01/subdirectory/__init__.py'...\n",
            "Compiling '/usr/local/lib/python3.8/test/test_importlib/data02/one/__init__.py'...\n",
            "Compiling '/usr/local/lib/python3.8/test/test_importlib/data02/__init__.py'...\n",
            "Compiling '/usr/local/lib/python3.8/test/test_importlib/data02/two/__init__.py'...\n",
            "Compiling '/usr/local/lib/python3.8/test/test_importlib/data03/__init__.py'...\n",
            "Compiling '/usr/local/lib/python3.8/test/test_importlib/data03/namespace/portion1/__init__.py'...\n",
            "Compiling '/usr/local/lib/python3.8/test/test_importlib/data03/namespace/portion2/__init__.py'...\n",
            "Compiling '/usr/local/lib/python3.8/test/test_importlib/extension/__main__.py'...\n",
            "Compiling '/usr/local/lib/python3.8/test/test_importlib/extension/__init__.py'...\n",
            "Compiling '/usr/local/lib/python3.8/test/test_importlib/extension/test_case_sensitivity.py'...\n",
            "Compiling '/usr/local/lib/python3.8/test/test_importlib/extension/test_finder.py'...\n",
            "Compiling '/usr/local/lib/python3.8/test/test_importlib/extension/test_loader.py'...\n",
            "Compiling '/usr/local/lib/python3.8/test/test_importlib/extension/test_path_hook.py'...\n",
            "Compiling '/usr/local/lib/python3.8/test/test_importlib/fixtures.py'...\n",
            "Compiling '/usr/local/lib/python3.8/test/test_importlib/frozen/__init__.py'...\n",
            "Compiling '/usr/local/lib/python3.8/test/test_importlib/frozen/__main__.py'...\n",
            "Compiling '/usr/local/lib/python3.8/test/test_importlib/frozen/test_finder.py'...\n",
            "Compiling '/usr/local/lib/python3.8/test/test_importlib/frozen/test_loader.py'...\n",
            "Compiling '/usr/local/lib/python3.8/test/test_importlib/import_/__init__.py'...\n",
            "Compiling '/usr/local/lib/python3.8/test/test_importlib/import_/__main__.py'...\n",
            "Compiling '/usr/local/lib/python3.8/test/test_importlib/import_/test___loader__.py'...\n",
            "Compiling '/usr/local/lib/python3.8/test/test_importlib/import_/test___package__.py'...\n",
            "Compiling '/usr/local/lib/python3.8/test/test_importlib/import_/test_api.py'...\n",
            "Compiling '/usr/local/lib/python3.8/test/test_importlib/import_/test_caching.py'...\n",
            "Compiling '/usr/local/lib/python3.8/test/test_importlib/import_/test_fromlist.py'...\n",
            "Compiling '/usr/local/lib/python3.8/test/test_importlib/import_/test_meta_path.py'...\n",
            "Compiling '/usr/local/lib/python3.8/test/test_importlib/import_/test_packages.py'...\n",
            "Compiling '/usr/local/lib/python3.8/test/test_importlib/import_/test_path.py'...\n",
            "Compiling '/usr/local/lib/python3.8/test/test_importlib/import_/test_relative_imports.py'...\n",
            "Compiling '/usr/local/lib/python3.8/test/test_importlib/namespace_pkgs/both_portions/foo/one.py'...\n",
            "Compiling '/usr/local/lib/python3.8/test/test_importlib/namespace_pkgs/both_portions/foo/two.py'...\n",
            "Compiling '/usr/local/lib/python3.8/test/test_importlib/namespace_pkgs/module_and_namespace_package/a_test.py'...\n",
            "Compiling '/usr/local/lib/python3.8/test/test_importlib/namespace_pkgs/not_a_namespace_pkg/foo/__init__.py'...\n",
            "Compiling '/usr/local/lib/python3.8/test/test_importlib/namespace_pkgs/not_a_namespace_pkg/foo/one.py'...\n",
            "Compiling '/usr/local/lib/python3.8/test/test_importlib/namespace_pkgs/portion1/foo/one.py'...\n",
            "Compiling '/usr/local/lib/python3.8/test/test_importlib/namespace_pkgs/portion2/foo/two.py'...\n",
            "Compiling '/usr/local/lib/python3.8/test/test_importlib/namespace_pkgs/project1/parent/child/one.py'...\n",
            "Compiling '/usr/local/lib/python3.8/test/test_importlib/namespace_pkgs/project2/parent/child/two.py'...\n",
            "Compiling '/usr/local/lib/python3.8/test/test_importlib/namespace_pkgs/project3/parent/child/three.py'...\n",
            "Compiling '/usr/local/lib/python3.8/test/test_importlib/source/__init__.py'...\n",
            "Compiling '/usr/local/lib/python3.8/test/test_importlib/source/__main__.py'...\n",
            "Compiling '/usr/local/lib/python3.8/test/test_importlib/source/test_case_sensitivity.py'...\n",
            "Compiling '/usr/local/lib/python3.8/test/test_importlib/source/test_file_loader.py'...\n",
            "Compiling '/usr/local/lib/python3.8/test/test_importlib/source/test_finder.py'...\n",
            "Compiling '/usr/local/lib/python3.8/test/test_importlib/source/test_path_hook.py'...\n",
            "Compiling '/usr/local/lib/python3.8/test/test_importlib/source/test_source_encoding.py'...\n",
            "Compiling '/usr/local/lib/python3.8/test/test_importlib/stubs.py'...\n",
            "Compiling '/usr/local/lib/python3.8/test/test_importlib/test_abc.py'...\n",
            "Compiling '/usr/local/lib/python3.8/test/test_importlib/test_api.py'...\n",
            "Compiling '/usr/local/lib/python3.8/test/test_importlib/test_lazy.py'...\n",
            "Compiling '/usr/local/lib/python3.8/test/test_importlib/test_locks.py'...\n",
            "Compiling '/usr/local/lib/python3.8/test/test_importlib/test_main.py'...\n",
            "Compiling '/usr/local/lib/python3.8/test/test_importlib/test_metadata_api.py'...\n",
            "Compiling '/usr/local/lib/python3.8/test/test_importlib/test_namespace_pkgs.py'...\n",
            "Compiling '/usr/local/lib/python3.8/test/test_importlib/test_open.py'...\n",
            "Compiling '/usr/local/lib/python3.8/test/test_importlib/test_path.py'...\n",
            "Compiling '/usr/local/lib/python3.8/test/test_importlib/test_read.py'...\n",
            "Compiling '/usr/local/lib/python3.8/test/test_importlib/test_resource.py'...\n",
            "Compiling '/usr/local/lib/python3.8/test/test_importlib/test_spec.py'...\n",
            "Compiling '/usr/local/lib/python3.8/test/test_importlib/test_util.py'...\n",
            "Compiling '/usr/local/lib/python3.8/test/test_importlib/test_windows.py'...\n",
            "Compiling '/usr/local/lib/python3.8/test/test_importlib/test_zip.py'...\n",
            "Compiling '/usr/local/lib/python3.8/test/test_importlib/util.py'...\n",
            "Compiling '/usr/local/lib/python3.8/test/test_importlib/zipdata01/__init__.py'...\n",
            "Compiling '/usr/local/lib/python3.8/test/test_importlib/zipdata02/__init__.py'...\n",
            "Compiling '/usr/local/lib/python3.8/test/test_index.py'...\n",
            "Compiling '/usr/local/lib/python3.8/test/test_inspect.py'...\n",
            "Compiling '/usr/local/lib/python3.8/test/test_int.py'...\n",
            "Compiling '/usr/local/lib/python3.8/test/test_int_literal.py'...\n",
            "Compiling '/usr/local/lib/python3.8/test/test_io.py'...\n",
            "Compiling '/usr/local/lib/python3.8/test/test_ioctl.py'...\n",
            "Compiling '/usr/local/lib/python3.8/test/test_ipaddress.py'...\n",
            "Compiling '/usr/local/lib/python3.8/test/test_isinstance.py'...\n",
            "Compiling '/usr/local/lib/python3.8/test/test_iter.py'...\n",
            "Compiling '/usr/local/lib/python3.8/test/test_iterlen.py'...\n",
            "Compiling '/usr/local/lib/python3.8/test/test_itertools.py'...\n",
            "Compiling '/usr/local/lib/python3.8/test/test_json/__init__.py'...\n",
            "Compiling '/usr/local/lib/python3.8/test/test_json/__main__.py'...\n",
            "Compiling '/usr/local/lib/python3.8/test/test_json/test_decode.py'...\n",
            "Compiling '/usr/local/lib/python3.8/test/test_json/test_default.py'...\n",
            "Compiling '/usr/local/lib/python3.8/test/test_json/test_dump.py'...\n",
            "Compiling '/usr/local/lib/python3.8/test/test_json/test_encode_basestring_ascii.py'...\n",
            "Compiling '/usr/local/lib/python3.8/test/test_json/test_enum.py'...\n",
            "Compiling '/usr/local/lib/python3.8/test/test_json/test_fail.py'...\n",
            "Compiling '/usr/local/lib/python3.8/test/test_json/test_float.py'...\n",
            "Compiling '/usr/local/lib/python3.8/test/test_json/test_indent.py'...\n",
            "Compiling '/usr/local/lib/python3.8/test/test_json/test_pass1.py'...\n",
            "Compiling '/usr/local/lib/python3.8/test/test_json/test_pass2.py'...\n",
            "Compiling '/usr/local/lib/python3.8/test/test_json/test_pass3.py'...\n",
            "Compiling '/usr/local/lib/python3.8/test/test_json/test_recursion.py'...\n",
            "Compiling '/usr/local/lib/python3.8/test/test_json/test_scanstring.py'...\n",
            "Compiling '/usr/local/lib/python3.8/test/test_json/test_separators.py'...\n",
            "Compiling '/usr/local/lib/python3.8/test/test_json/test_speedups.py'...\n",
            "Compiling '/usr/local/lib/python3.8/test/test_json/test_tool.py'...\n",
            "Compiling '/usr/local/lib/python3.8/test/test_json/test_unicode.py'...\n",
            "Compiling '/usr/local/lib/python3.8/test/test_keyword.py'...\n",
            "Compiling '/usr/local/lib/python3.8/test/test_keywordonlyarg.py'...\n",
            "Compiling '/usr/local/lib/python3.8/test/test_kqueue.py'...\n",
            "Compiling '/usr/local/lib/python3.8/test/test_largefile.py'...\n",
            "Compiling '/usr/local/lib/python3.8/test/test_lib2to3.py'...\n",
            "Compiling '/usr/local/lib/python3.8/test/test_linecache.py'...\n",
            "Compiling '/usr/local/lib/python3.8/test/test_list.py'...\n",
            "Compiling '/usr/local/lib/python3.8/test/test_listcomps.py'...\n",
            "Compiling '/usr/local/lib/python3.8/test/test_lltrace.py'...\n",
            "Compiling '/usr/local/lib/python3.8/test/test_locale.py'...\n",
            "Compiling '/usr/local/lib/python3.8/test/test_logging.py'...\n",
            "Compiling '/usr/local/lib/python3.8/test/test_long.py'...\n",
            "Compiling '/usr/local/lib/python3.8/test/test_longexp.py'...\n",
            "Compiling '/usr/local/lib/python3.8/test/test_lzma.py'...\n",
            "Compiling '/usr/local/lib/python3.8/test/test_mailbox.py'...\n",
            "Compiling '/usr/local/lib/python3.8/test/test_mailcap.py'...\n",
            "Compiling '/usr/local/lib/python3.8/test/test_marshal.py'...\n",
            "Compiling '/usr/local/lib/python3.8/test/test_math.py'...\n",
            "Compiling '/usr/local/lib/python3.8/test/test_memoryio.py'...\n",
            "Compiling '/usr/local/lib/python3.8/test/test_memoryview.py'...\n",
            "Compiling '/usr/local/lib/python3.8/test/test_metaclass.py'...\n",
            "Compiling '/usr/local/lib/python3.8/test/test_mimetypes.py'...\n",
            "Compiling '/usr/local/lib/python3.8/test/test_minidom.py'...\n",
            "Compiling '/usr/local/lib/python3.8/test/test_mmap.py'...\n",
            "Compiling '/usr/local/lib/python3.8/test/test_module.py'...\n",
            "Compiling '/usr/local/lib/python3.8/test/test_modulefinder.py'...\n",
            "Compiling '/usr/local/lib/python3.8/test/test_msilib.py'...\n",
            "Compiling '/usr/local/lib/python3.8/test/test_multiprocessing_fork.py'...\n",
            "Compiling '/usr/local/lib/python3.8/test/test_multiprocessing_forkserver.py'...\n",
            "Compiling '/usr/local/lib/python3.8/test/test_multibytecodec.py'...\n",
            "Compiling '/usr/local/lib/python3.8/test/test_multiprocessing_spawn.py'...\n",
            "Compiling '/usr/local/lib/python3.8/test/test_multiprocessing_main_handling.py'...\n",
            "Compiling '/usr/local/lib/python3.8/test/test_netrc.py'...\n",
            "Compiling '/usr/local/lib/python3.8/test/test_named_expressions.py'...\n",
            "Compiling '/usr/local/lib/python3.8/test/test_nis.py'...\n",
            "Compiling '/usr/local/lib/python3.8/test/test_nntplib.py'...\n",
            "Compiling '/usr/local/lib/python3.8/test/test_normalization.py'...\n",
            "Compiling '/usr/local/lib/python3.8/test/test_ntpath.py'...\n",
            "Compiling '/usr/local/lib/python3.8/test/test_numeric_tower.py'...\n",
            "Compiling '/usr/local/lib/python3.8/test/test_opcodes.py'...\n",
            "Compiling '/usr/local/lib/python3.8/test/test_openpty.py'...\n",
            "Compiling '/usr/local/lib/python3.8/test/test_operator.py'...\n",
            "Compiling '/usr/local/lib/python3.8/test/test_optparse.py'...\n",
            "Compiling '/usr/local/lib/python3.8/test/test_os.py'...\n",
            "Compiling '/usr/local/lib/python3.8/test/test_ordered_dict.py'...\n",
            "Compiling '/usr/local/lib/python3.8/test/test_ossaudiodev.py'...\n",
            "Compiling '/usr/local/lib/python3.8/test/test_osx_env.py'...\n",
            "Compiling '/usr/local/lib/python3.8/test/test_parser.py'...\n",
            "Compiling '/usr/local/lib/python3.8/test/test_pathlib.py'...\n",
            "Compiling '/usr/local/lib/python3.8/test/test_pdb.py'...\n",
            "Compiling '/usr/local/lib/python3.8/test/test_pickle.py'...\n",
            "Compiling '/usr/local/lib/python3.8/test/test_peepholer.py'...\n",
            "Compiling '/usr/local/lib/python3.8/test/test_picklebuffer.py'...\n",
            "Compiling '/usr/local/lib/python3.8/test/test_pipes.py'...\n",
            "Compiling '/usr/local/lib/python3.8/test/test_pickletools.py'...\n",
            "Compiling '/usr/local/lib/python3.8/test/test_pkg.py'...\n",
            "Compiling '/usr/local/lib/python3.8/test/test_pkgimport.py'...\n",
            "Compiling '/usr/local/lib/python3.8/test/test_pkgutil.py'...\n",
            "Compiling '/usr/local/lib/python3.8/test/test_platform.py'...\n",
            "Compiling '/usr/local/lib/python3.8/test/test_plistlib.py'...\n",
            "Compiling '/usr/local/lib/python3.8/test/test_poll.py'...\n",
            "Compiling '/usr/local/lib/python3.8/test/test_popen.py'...\n",
            "Compiling '/usr/local/lib/python3.8/test/test_poplib.py'...\n",
            "Compiling '/usr/local/lib/python3.8/test/test_positional_only_arg.py'...\n",
            "Compiling '/usr/local/lib/python3.8/test/test_posix.py'...\n",
            "Compiling '/usr/local/lib/python3.8/test/test_posixpath.py'...\n",
            "Compiling '/usr/local/lib/python3.8/test/test_pow.py'...\n",
            "Compiling '/usr/local/lib/python3.8/test/test_pprint.py'...\n",
            "Compiling '/usr/local/lib/python3.8/test/test_profile.py'...\n",
            "Compiling '/usr/local/lib/python3.8/test/test_print.py'...\n",
            "Compiling '/usr/local/lib/python3.8/test/test_property.py'...\n",
            "Compiling '/usr/local/lib/python3.8/test/test_pstats.py'...\n",
            "Compiling '/usr/local/lib/python3.8/test/test_pty.py'...\n",
            "Compiling '/usr/local/lib/python3.8/test/test_pulldom.py'...\n",
            "Compiling '/usr/local/lib/python3.8/test/test_pwd.py'...\n",
            "Compiling '/usr/local/lib/python3.8/test/test_py_compile.py'...\n",
            "Compiling '/usr/local/lib/python3.8/test/test_pyclbr.py'...\n",
            "Compiling '/usr/local/lib/python3.8/test/test_pydoc.py'...\n",
            "Compiling '/usr/local/lib/python3.8/test/test_pyexpat.py'...\n",
            "Compiling '/usr/local/lib/python3.8/test/test_queue.py'...\n",
            "Compiling '/usr/local/lib/python3.8/test/test_quopri.py'...\n",
            "Compiling '/usr/local/lib/python3.8/test/test_raise.py'...\n",
            "Compiling '/usr/local/lib/python3.8/test/test_random.py'...\n",
            "Compiling '/usr/local/lib/python3.8/test/test_range.py'...\n",
            "Compiling '/usr/local/lib/python3.8/test/test_re.py'...\n",
            "Compiling '/usr/local/lib/python3.8/test/test_readline.py'...\n",
            "Compiling '/usr/local/lib/python3.8/test/test_regrtest.py'...\n",
            "Compiling '/usr/local/lib/python3.8/test/test_repl.py'...\n",
            "Compiling '/usr/local/lib/python3.8/test/test_reprlib.py'...\n",
            "Compiling '/usr/local/lib/python3.8/test/test_resource.py'...\n",
            "Compiling '/usr/local/lib/python3.8/test/test_richcmp.py'...\n",
            "Compiling '/usr/local/lib/python3.8/test/test_rlcompleter.py'...\n",
            "Compiling '/usr/local/lib/python3.8/test/test_robotparser.py'...\n",
            "Compiling '/usr/local/lib/python3.8/test/test_runpy.py'...\n",
            "Compiling '/usr/local/lib/python3.8/test/test_sax.py'...\n",
            "Compiling '/usr/local/lib/python3.8/test/test_sched.py'...\n",
            "Compiling '/usr/local/lib/python3.8/test/test_scope.py'...\n",
            "Compiling '/usr/local/lib/python3.8/test/test_script_helper.py'...\n",
            "Compiling '/usr/local/lib/python3.8/test/test_secrets.py'...\n",
            "Compiling '/usr/local/lib/python3.8/test/test_select.py'...\n",
            "Compiling '/usr/local/lib/python3.8/test/test_selectors.py'...\n",
            "Compiling '/usr/local/lib/python3.8/test/test_set.py'...\n",
            "Compiling '/usr/local/lib/python3.8/test/test_setcomps.py'...\n",
            "Compiling '/usr/local/lib/python3.8/test/test_shelve.py'...\n",
            "Compiling '/usr/local/lib/python3.8/test/test_shutil.py'...\n",
            "Compiling '/usr/local/lib/python3.8/test/test_signal.py'...\n",
            "Compiling '/usr/local/lib/python3.8/test/test_shlex.py'...\n",
            "Compiling '/usr/local/lib/python3.8/test/test_site.py'...\n",
            "Compiling '/usr/local/lib/python3.8/test/test_slice.py'...\n",
            "Compiling '/usr/local/lib/python3.8/test/test_smtpd.py'...\n",
            "Compiling '/usr/local/lib/python3.8/test/test_smtplib.py'...\n",
            "Compiling '/usr/local/lib/python3.8/test/test_smtpnet.py'...\n",
            "Compiling '/usr/local/lib/python3.8/test/test_sndhdr.py'...\n",
            "Compiling '/usr/local/lib/python3.8/test/test_socket.py'...\n",
            "Compiling '/usr/local/lib/python3.8/test/test_socketserver.py'...\n",
            "Compiling '/usr/local/lib/python3.8/test/test_sort.py'...\n",
            "Compiling '/usr/local/lib/python3.8/test/test_source_encoding.py'...\n",
            "Compiling '/usr/local/lib/python3.8/test/test_spwd.py'...\n",
            "Compiling '/usr/local/lib/python3.8/test/test_sqlite.py'...\n",
            "Compiling '/usr/local/lib/python3.8/test/test_ssl.py'...\n",
            "Compiling '/usr/local/lib/python3.8/test/test_startfile.py'...\n",
            "Compiling '/usr/local/lib/python3.8/test/test_stat.py'...\n",
            "Compiling '/usr/local/lib/python3.8/test/test_statistics.py'...\n",
            "Compiling '/usr/local/lib/python3.8/test/test_strftime.py'...\n",
            "Compiling '/usr/local/lib/python3.8/test/test_string.py'...\n",
            "Compiling '/usr/local/lib/python3.8/test/test_string_literals.py'...\n",
            "Compiling '/usr/local/lib/python3.8/test/test_stringprep.py'...\n",
            "Compiling '/usr/local/lib/python3.8/test/test_strptime.py'...\n",
            "Compiling '/usr/local/lib/python3.8/test/test_strtod.py'...\n",
            "Compiling '/usr/local/lib/python3.8/test/test_struct.py'...\n",
            "Compiling '/usr/local/lib/python3.8/test/test_structmembers.py'...\n",
            "Compiling '/usr/local/lib/python3.8/test/test_structseq.py'...\n",
            "Compiling '/usr/local/lib/python3.8/test/test_subclassinit.py'...\n",
            "Compiling '/usr/local/lib/python3.8/test/test_subprocess.py'...\n",
            "Compiling '/usr/local/lib/python3.8/test/test_sunau.py'...\n",
            "Compiling '/usr/local/lib/python3.8/test/test_sundry.py'...\n",
            "Compiling '/usr/local/lib/python3.8/test/test_super.py'...\n",
            "Compiling '/usr/local/lib/python3.8/test/test_support.py'...\n",
            "Compiling '/usr/local/lib/python3.8/test/test_symbol.py'...\n",
            "Compiling '/usr/local/lib/python3.8/test/test_symtable.py'...\n",
            "Compiling '/usr/local/lib/python3.8/test/test_syntax.py'...\n",
            "Compiling '/usr/local/lib/python3.8/test/test_sys.py'...\n",
            "Compiling '/usr/local/lib/python3.8/test/test_sys_setprofile.py'...\n",
            "Compiling '/usr/local/lib/python3.8/test/test_sys_settrace.py'...\n",
            "Compiling '/usr/local/lib/python3.8/test/test_sysconfig.py'...\n",
            "Compiling '/usr/local/lib/python3.8/test/test_syslog.py'...\n",
            "Compiling '/usr/local/lib/python3.8/test/test_tabnanny.py'...\n",
            "Compiling '/usr/local/lib/python3.8/test/test_tarfile.py'...\n",
            "Compiling '/usr/local/lib/python3.8/test/test_tcl.py'...\n",
            "Compiling '/usr/local/lib/python3.8/test/test_telnetlib.py'...\n",
            "Compiling '/usr/local/lib/python3.8/test/test_tempfile.py'...\n",
            "Compiling '/usr/local/lib/python3.8/test/test_thread.py'...\n",
            "Compiling '/usr/local/lib/python3.8/test/test_textwrap.py'...\n",
            "Compiling '/usr/local/lib/python3.8/test/test_threaded_import.py'...\n",
            "Compiling '/usr/local/lib/python3.8/test/test_threadedtempfile.py'...\n",
            "Compiling '/usr/local/lib/python3.8/test/test_threading.py'...\n",
            "Compiling '/usr/local/lib/python3.8/test/test_threading_local.py'...\n",
            "Compiling '/usr/local/lib/python3.8/test/test_threadsignals.py'...\n",
            "Compiling '/usr/local/lib/python3.8/test/test_time.py'...\n",
            "Compiling '/usr/local/lib/python3.8/test/test_timeit.py'...\n",
            "Compiling '/usr/local/lib/python3.8/test/test_timeout.py'...\n",
            "Compiling '/usr/local/lib/python3.8/test/test_tix.py'...\n",
            "Compiling '/usr/local/lib/python3.8/test/test_tk.py'...\n",
            "Compiling '/usr/local/lib/python3.8/test/test_tokenize.py'...\n",
            "Compiling '/usr/local/lib/python3.8/test/test_tools/__init__.py'...\n",
            "Compiling '/usr/local/lib/python3.8/test/test_tools/__main__.py'...\n",
            "Compiling '/usr/local/lib/python3.8/test/test_tools/test_fixcid.py'...\n",
            "Compiling '/usr/local/lib/python3.8/test/test_tools/test_gprof2html.py'...\n",
            "Compiling '/usr/local/lib/python3.8/test/test_tools/test_i18n.py'...\n",
            "Compiling '/usr/local/lib/python3.8/test/test_tools/test_lll.py'...\n",
            "Compiling '/usr/local/lib/python3.8/test/test_tools/test_md5sum.py'...\n",
            "Compiling '/usr/local/lib/python3.8/test/test_tools/test_pathfix.py'...\n",
            "Compiling '/usr/local/lib/python3.8/test/test_tools/test_pdeps.py'...\n",
            "Compiling '/usr/local/lib/python3.8/test/test_tools/test_pindent.py'...\n",
            "Compiling '/usr/local/lib/python3.8/test/test_tools/test_reindent.py'...\n",
            "Compiling '/usr/local/lib/python3.8/test/test_tools/test_sundry.py'...\n",
            "Compiling '/usr/local/lib/python3.8/test/test_tools/test_unparse.py'...\n",
            "Compiling '/usr/local/lib/python3.8/test/test_trace.py'...\n",
            "Compiling '/usr/local/lib/python3.8/test/test_tracemalloc.py'...\n",
            "Compiling '/usr/local/lib/python3.8/test/test_traceback.py'...\n",
            "Compiling '/usr/local/lib/python3.8/test/test_ttk_guionly.py'...\n",
            "Compiling '/usr/local/lib/python3.8/test/test_ttk_textonly.py'...\n",
            "Compiling '/usr/local/lib/python3.8/test/test_tuple.py'...\n",
            "Compiling '/usr/local/lib/python3.8/test/test_turtle.py'...\n",
            "Compiling '/usr/local/lib/python3.8/test/test_type_comments.py'...\n",
            "Compiling '/usr/local/lib/python3.8/test/test_typechecks.py'...\n",
            "Compiling '/usr/local/lib/python3.8/test/test_types.py'...\n",
            "Compiling '/usr/local/lib/python3.8/test/test_typing.py'...\n",
            "Compiling '/usr/local/lib/python3.8/test/test_ucn.py'...\n",
            "Compiling '/usr/local/lib/python3.8/test/test_unicode.py'...\n",
            "Compiling '/usr/local/lib/python3.8/test/test_unary.py'...\n",
            "Compiling '/usr/local/lib/python3.8/test/test_unicode_file_functions.py'...\n",
            "Compiling '/usr/local/lib/python3.8/test/test_unicode_file.py'...\n",
            "Compiling '/usr/local/lib/python3.8/test/test_unicode_identifiers.py'...\n",
            "Compiling '/usr/local/lib/python3.8/test/test_unicodedata.py'...\n",
            "Compiling '/usr/local/lib/python3.8/test/test_unittest.py'...\n",
            "Compiling '/usr/local/lib/python3.8/test/test_univnewlines.py'...\n",
            "Compiling '/usr/local/lib/python3.8/test/test_unpack.py'...\n",
            "Compiling '/usr/local/lib/python3.8/test/test_unpack_ex.py'...\n",
            "Compiling '/usr/local/lib/python3.8/test/test_urllib.py'...\n",
            "Compiling '/usr/local/lib/python3.8/test/test_urllib2.py'...\n",
            "Compiling '/usr/local/lib/python3.8/test/test_urllib2_localnet.py'...\n",
            "Compiling '/usr/local/lib/python3.8/test/test_urllib2net.py'...\n",
            "Compiling '/usr/local/lib/python3.8/test/test_urllib_response.py'...\n",
            "Compiling '/usr/local/lib/python3.8/test/test_urllibnet.py'...\n",
            "Compiling '/usr/local/lib/python3.8/test/test_urlparse.py'...\n",
            "Compiling '/usr/local/lib/python3.8/test/test_userdict.py'...\n",
            "Compiling '/usr/local/lib/python3.8/test/test_userlist.py'...\n",
            "Compiling '/usr/local/lib/python3.8/test/test_userstring.py'...\n",
            "Compiling '/usr/local/lib/python3.8/test/test_utf8_mode.py'...\n",
            "Compiling '/usr/local/lib/python3.8/test/test_utf8source.py'...\n",
            "Compiling '/usr/local/lib/python3.8/test/test_uu.py'...\n",
            "Compiling '/usr/local/lib/python3.8/test/test_uuid.py'...\n",
            "Compiling '/usr/local/lib/python3.8/test/test_venv.py'...\n",
            "Compiling '/usr/local/lib/python3.8/test/test_wait3.py'...\n",
            "Compiling '/usr/local/lib/python3.8/test/test_wait4.py'...\n",
            "Compiling '/usr/local/lib/python3.8/test/test_warnings/__init__.py'...\n",
            "Compiling '/usr/local/lib/python3.8/test/test_warnings/__main__.py'...\n",
            "Compiling '/usr/local/lib/python3.8/test/test_warnings/data/import_warning.py'...\n",
            "Compiling '/usr/local/lib/python3.8/test/test_warnings/data/stacklevel.py'...\n",
            "Compiling '/usr/local/lib/python3.8/test/test_wave.py'...\n",
            "Compiling '/usr/local/lib/python3.8/test/test_weakref.py'...\n",
            "Compiling '/usr/local/lib/python3.8/test/test_weakset.py'...\n",
            "Compiling '/usr/local/lib/python3.8/test/test_webbrowser.py'...\n",
            "Compiling '/usr/local/lib/python3.8/test/test_winconsoleio.py'...\n",
            "Compiling '/usr/local/lib/python3.8/test/test_winreg.py'...\n",
            "Compiling '/usr/local/lib/python3.8/test/test_winsound.py'...\n",
            "Compiling '/usr/local/lib/python3.8/test/test_with.py'...\n",
            "Compiling '/usr/local/lib/python3.8/test/test_wsgiref.py'...\n",
            "Compiling '/usr/local/lib/python3.8/test/test_xdrlib.py'...\n",
            "Compiling '/usr/local/lib/python3.8/test/test_xml_dom_minicompat.py'...\n",
            "Compiling '/usr/local/lib/python3.8/test/test_xml_etree.py'...\n",
            "Compiling '/usr/local/lib/python3.8/test/test_xml_etree_c.py'...\n",
            "Compiling '/usr/local/lib/python3.8/test/test_xmlrpc.py'...\n",
            "Compiling '/usr/local/lib/python3.8/test/test_xmlrpc_net.py'...\n",
            "Compiling '/usr/local/lib/python3.8/test/test_xxtestfuzz.py'...\n",
            "Compiling '/usr/local/lib/python3.8/test/test_yield_from.py'...\n",
            "Compiling '/usr/local/lib/python3.8/test/test_zipapp.py'...\n",
            "Compiling '/usr/local/lib/python3.8/test/test_zipfile.py'...\n",
            "Compiling '/usr/local/lib/python3.8/test/test_zipfile64.py'...\n",
            "Compiling '/usr/local/lib/python3.8/test/test_zipimport.py'...\n",
            "Compiling '/usr/local/lib/python3.8/test/test_zipimport_support.py'...\n",
            "Compiling '/usr/local/lib/python3.8/test/test_zlib.py'...\n",
            "Compiling '/usr/local/lib/python3.8/test/testcodec.py'...\n",
            "Compiling '/usr/local/lib/python3.8/test/tf_inherit_check.py'...\n",
            "Compiling '/usr/local/lib/python3.8/test/threaded_import_hangers.py'...\n",
            "Compiling '/usr/local/lib/python3.8/test/time_hashlib.py'...\n",
            "Compiling '/usr/local/lib/python3.8/test/tracedmodules/__init__.py'...\n",
            "Compiling '/usr/local/lib/python3.8/test/tracedmodules/testmod.py'...\n",
            "Compiling '/usr/local/lib/python3.8/test/win_console_handler.py'...\n",
            "Compiling '/usr/local/lib/python3.8/test/xmltests.py'...\n",
            "Compiling '/usr/local/lib/python3.8/test/ziptestdata/testdata_module_inside_zip.py'...\n",
            "Compiling '/usr/local/lib/python3.8/textwrap.py'...\n",
            "Compiling '/usr/local/lib/python3.8/this.py'...\n",
            "Compiling '/usr/local/lib/python3.8/threading.py'...\n",
            "Compiling '/usr/local/lib/python3.8/timeit.py'...\n",
            "Compiling '/usr/local/lib/python3.8/tkinter/__init__.py'...\n",
            "Compiling '/usr/local/lib/python3.8/tkinter/__main__.py'...\n",
            "Compiling '/usr/local/lib/python3.8/tkinter/colorchooser.py'...\n",
            "Compiling '/usr/local/lib/python3.8/tkinter/commondialog.py'...\n",
            "Compiling '/usr/local/lib/python3.8/tkinter/constants.py'...\n",
            "Compiling '/usr/local/lib/python3.8/tkinter/dialog.py'...\n",
            "Compiling '/usr/local/lib/python3.8/tkinter/dnd.py'...\n",
            "Compiling '/usr/local/lib/python3.8/tkinter/filedialog.py'...\n",
            "Compiling '/usr/local/lib/python3.8/tkinter/font.py'...\n",
            "Compiling '/usr/local/lib/python3.8/tkinter/messagebox.py'...\n",
            "Compiling '/usr/local/lib/python3.8/tkinter/scrolledtext.py'...\n",
            "Compiling '/usr/local/lib/python3.8/tkinter/simpledialog.py'...\n",
            "Compiling '/usr/local/lib/python3.8/tkinter/test/__init__.py'...\n",
            "Compiling '/usr/local/lib/python3.8/tkinter/test/runtktests.py'...\n",
            "Compiling '/usr/local/lib/python3.8/tkinter/test/support.py'...\n",
            "Compiling '/usr/local/lib/python3.8/tkinter/test/test_tkinter/__init__.py'...\n",
            "Compiling '/usr/local/lib/python3.8/tkinter/test/test_tkinter/test_font.py'...\n",
            "Compiling '/usr/local/lib/python3.8/tkinter/test/test_tkinter/test_geometry_managers.py'...\n",
            "Compiling '/usr/local/lib/python3.8/tkinter/test/test_tkinter/test_images.py'...\n",
            "Compiling '/usr/local/lib/python3.8/tkinter/test/test_tkinter/test_loadtk.py'...\n",
            "Compiling '/usr/local/lib/python3.8/tkinter/test/test_tkinter/test_misc.py'...\n",
            "Compiling '/usr/local/lib/python3.8/tkinter/test/test_tkinter/test_text.py'...\n",
            "Compiling '/usr/local/lib/python3.8/tkinter/test/test_tkinter/test_variables.py'...\n",
            "Compiling '/usr/local/lib/python3.8/tkinter/test/test_tkinter/test_widgets.py'...\n",
            "Compiling '/usr/local/lib/python3.8/tkinter/test/test_ttk/__init__.py'...\n",
            "Compiling '/usr/local/lib/python3.8/tkinter/test/test_ttk/test_extensions.py'...\n",
            "Compiling '/usr/local/lib/python3.8/tkinter/test/test_ttk/test_functions.py'...\n",
            "Compiling '/usr/local/lib/python3.8/tkinter/test/test_ttk/test_style.py'...\n",
            "Compiling '/usr/local/lib/python3.8/tkinter/test/test_ttk/test_widgets.py'...\n",
            "Compiling '/usr/local/lib/python3.8/tkinter/test/widget_tests.py'...\n",
            "Compiling '/usr/local/lib/python3.8/tkinter/tix.py'...\n",
            "Compiling '/usr/local/lib/python3.8/tkinter/ttk.py'...\n",
            "Compiling '/usr/local/lib/python3.8/token.py'...\n",
            "Compiling '/usr/local/lib/python3.8/tokenize.py'...\n",
            "Compiling '/usr/local/lib/python3.8/trace.py'...\n",
            "Compiling '/usr/local/lib/python3.8/traceback.py'...\n",
            "Compiling '/usr/local/lib/python3.8/tracemalloc.py'...\n",
            "Compiling '/usr/local/lib/python3.8/tty.py'...\n",
            "Compiling '/usr/local/lib/python3.8/turtle.py'...\n",
            "Compiling '/usr/local/lib/python3.8/turtledemo/__init__.py'...\n",
            "Compiling '/usr/local/lib/python3.8/turtledemo/__main__.py'...\n",
            "Compiling '/usr/local/lib/python3.8/turtledemo/bytedesign.py'...\n",
            "Compiling '/usr/local/lib/python3.8/turtledemo/chaos.py'...\n",
            "Compiling '/usr/local/lib/python3.8/turtledemo/clock.py'...\n",
            "Compiling '/usr/local/lib/python3.8/turtledemo/colormixer.py'...\n",
            "Compiling '/usr/local/lib/python3.8/turtledemo/forest.py'...\n",
            "Compiling '/usr/local/lib/python3.8/turtledemo/fractalcurves.py'...\n",
            "Compiling '/usr/local/lib/python3.8/turtledemo/lindenmayer.py'...\n",
            "Compiling '/usr/local/lib/python3.8/turtledemo/minimal_hanoi.py'...\n",
            "Compiling '/usr/local/lib/python3.8/turtledemo/nim.py'...\n",
            "Compiling '/usr/local/lib/python3.8/turtledemo/paint.py'...\n",
            "Compiling '/usr/local/lib/python3.8/turtledemo/peace.py'...\n",
            "Compiling '/usr/local/lib/python3.8/turtledemo/penrose.py'...\n",
            "Compiling '/usr/local/lib/python3.8/turtledemo/planet_and_moon.py'...\n",
            "Compiling '/usr/local/lib/python3.8/turtledemo/rosette.py'...\n",
            "Compiling '/usr/local/lib/python3.8/turtledemo/round_dance.py'...\n",
            "Compiling '/usr/local/lib/python3.8/turtledemo/sorting_animate.py'...\n",
            "Compiling '/usr/local/lib/python3.8/turtledemo/two_canvases.py'...\n",
            "Compiling '/usr/local/lib/python3.8/turtledemo/yinyang.py'...\n",
            "Compiling '/usr/local/lib/python3.8/turtledemo/tree.py'...\n",
            "Compiling '/usr/local/lib/python3.8/types.py'...\n",
            "Compiling '/usr/local/lib/python3.8/typing.py'...\n",
            "Compiling '/usr/local/lib/python3.8/unittest/__init__.py'...\n",
            "Compiling '/usr/local/lib/python3.8/unittest/__main__.py'...\n",
            "Compiling '/usr/local/lib/python3.8/unittest/async_case.py'...\n",
            "Compiling '/usr/local/lib/python3.8/unittest/main.py'...\n",
            "Compiling '/usr/local/lib/python3.8/unittest/loader.py'...\n",
            "Compiling '/usr/local/lib/python3.8/unittest/case.py'...\n",
            "Compiling '/usr/local/lib/python3.8/unittest/mock.py'...\n",
            "Compiling '/usr/local/lib/python3.8/unittest/result.py'...\n",
            "Compiling '/usr/local/lib/python3.8/unittest/runner.py'...\n",
            "Compiling '/usr/local/lib/python3.8/unittest/signals.py'...\n",
            "Compiling '/usr/local/lib/python3.8/unittest/suite.py'...\n",
            "Compiling '/usr/local/lib/python3.8/unittest/test/__init__.py'...\n",
            "Compiling '/usr/local/lib/python3.8/unittest/test/__main__.py'...\n",
            "Compiling '/usr/local/lib/python3.8/unittest/test/_test_warnings.py'...\n",
            "Compiling '/usr/local/lib/python3.8/unittest/test/dummy.py'...\n",
            "Compiling '/usr/local/lib/python3.8/unittest/test/support.py'...\n",
            "Compiling '/usr/local/lib/python3.8/unittest/test/test_assertions.py'...\n",
            "Compiling '/usr/local/lib/python3.8/unittest/test/test_async_case.py'...\n",
            "Compiling '/usr/local/lib/python3.8/unittest/test/test_break.py'...\n",
            "Compiling '/usr/local/lib/python3.8/unittest/test/test_case.py'...\n",
            "Compiling '/usr/local/lib/python3.8/unittest/test/test_discovery.py'...\n",
            "Compiling '/usr/local/lib/python3.8/unittest/test/test_functiontestcase.py'...\n",
            "Compiling '/usr/local/lib/python3.8/unittest/test/test_loader.py'...\n",
            "Compiling '/usr/local/lib/python3.8/unittest/test/test_program.py'...\n",
            "Compiling '/usr/local/lib/python3.8/unittest/test/test_result.py'...\n",
            "Compiling '/usr/local/lib/python3.8/unittest/test/test_runner.py'...\n",
            "Compiling '/usr/local/lib/python3.8/unittest/test/test_setups.py'...\n",
            "Compiling '/usr/local/lib/python3.8/unittest/test/test_skipping.py'...\n",
            "Compiling '/usr/local/lib/python3.8/unittest/test/test_suite.py'...\n",
            "Compiling '/usr/local/lib/python3.8/unittest/test/testmock/__init__.py'...\n",
            "Compiling '/usr/local/lib/python3.8/unittest/test/testmock/__main__.py'...\n",
            "Compiling '/usr/local/lib/python3.8/unittest/test/testmock/support.py'...\n",
            "Compiling '/usr/local/lib/python3.8/unittest/test/testmock/testasync.py'...\n",
            "Compiling '/usr/local/lib/python3.8/unittest/test/testmock/testcallable.py'...\n",
            "Compiling '/usr/local/lib/python3.8/unittest/test/testmock/testhelpers.py'...\n",
            "Compiling '/usr/local/lib/python3.8/unittest/test/testmock/testmagicmethods.py'...\n",
            "Compiling '/usr/local/lib/python3.8/unittest/test/testmock/testmock.py'...\n",
            "Compiling '/usr/local/lib/python3.8/unittest/test/testmock/testpatch.py'...\n",
            "Compiling '/usr/local/lib/python3.8/unittest/test/testmock/testsealable.py'...\n",
            "Compiling '/usr/local/lib/python3.8/unittest/test/testmock/testsentinel.py'...\n",
            "Compiling '/usr/local/lib/python3.8/unittest/test/testmock/testwith.py'...\n",
            "Compiling '/usr/local/lib/python3.8/unittest/util.py'...\n",
            "Compiling '/usr/local/lib/python3.8/urllib/__init__.py'...\n",
            "Compiling '/usr/local/lib/python3.8/urllib/error.py'...\n",
            "Compiling '/usr/local/lib/python3.8/urllib/parse.py'...\n",
            "Compiling '/usr/local/lib/python3.8/urllib/request.py'...\n",
            "Compiling '/usr/local/lib/python3.8/urllib/robotparser.py'...\n",
            "Compiling '/usr/local/lib/python3.8/urllib/response.py'...\n",
            "Compiling '/usr/local/lib/python3.8/uu.py'...\n",
            "Compiling '/usr/local/lib/python3.8/uuid.py'...\n",
            "Compiling '/usr/local/lib/python3.8/venv/__init__.py'...\n",
            "Compiling '/usr/local/lib/python3.8/venv/__main__.py'...\n",
            "Compiling '/usr/local/lib/python3.8/warnings.py'...\n",
            "Compiling '/usr/local/lib/python3.8/wave.py'...\n",
            "Compiling '/usr/local/lib/python3.8/weakref.py'...\n",
            "Compiling '/usr/local/lib/python3.8/webbrowser.py'...\n",
            "Compiling '/usr/local/lib/python3.8/wsgiref/__init__.py'...\n",
            "Compiling '/usr/local/lib/python3.8/wsgiref/handlers.py'...\n",
            "Compiling '/usr/local/lib/python3.8/wsgiref/headers.py'...\n",
            "Compiling '/usr/local/lib/python3.8/wsgiref/simple_server.py'...\n",
            "Compiling '/usr/local/lib/python3.8/wsgiref/util.py'...\n",
            "Compiling '/usr/local/lib/python3.8/wsgiref/validate.py'...\n",
            "Compiling '/usr/local/lib/python3.8/xdrlib.py'...\n",
            "Compiling '/usr/local/lib/python3.8/xml/__init__.py'...\n",
            "Compiling '/usr/local/lib/python3.8/xml/dom/NodeFilter.py'...\n",
            "Compiling '/usr/local/lib/python3.8/xml/dom/__init__.py'...\n",
            "Compiling '/usr/local/lib/python3.8/xml/dom/domreg.py'...\n",
            "Compiling '/usr/local/lib/python3.8/xml/dom/expatbuilder.py'...\n",
            "Compiling '/usr/local/lib/python3.8/xml/dom/minicompat.py'...\n",
            "Compiling '/usr/local/lib/python3.8/xml/dom/pulldom.py'...\n",
            "Compiling '/usr/local/lib/python3.8/xml/dom/minidom.py'...\n",
            "Compiling '/usr/local/lib/python3.8/xml/etree/ElementInclude.py'...\n",
            "Compiling '/usr/local/lib/python3.8/xml/dom/xmlbuilder.py'...\n",
            "Compiling '/usr/local/lib/python3.8/xml/etree/ElementPath.py'...\n",
            "Compiling '/usr/local/lib/python3.8/xml/etree/ElementTree.py'...\n",
            "Compiling '/usr/local/lib/python3.8/xml/etree/__init__.py'...\n",
            "Compiling '/usr/local/lib/python3.8/xml/etree/cElementTree.py'...\n",
            "Compiling '/usr/local/lib/python3.8/xml/parsers/__init__.py'...\n",
            "Compiling '/usr/local/lib/python3.8/xml/parsers/expat.py'...\n",
            "Compiling '/usr/local/lib/python3.8/xml/sax/__init__.py'...\n",
            "Compiling '/usr/local/lib/python3.8/xml/sax/expatreader.py'...\n",
            "Compiling '/usr/local/lib/python3.8/xml/sax/handler.py'...\n",
            "Compiling '/usr/local/lib/python3.8/xml/sax/_exceptions.py'...\n",
            "Compiling '/usr/local/lib/python3.8/xml/sax/saxutils.py'...\n",
            "Compiling '/usr/local/lib/python3.8/xml/sax/xmlreader.py'...\n",
            "Compiling '/usr/local/lib/python3.8/xmlrpc/__init__.py'...\n",
            "Compiling '/usr/local/lib/python3.8/xmlrpc/client.py'...\n",
            "Compiling '/usr/local/lib/python3.8/xmlrpc/server.py'...\n",
            "Compiling '/usr/local/lib/python3.8/zipapp.py'...\n",
            "Compiling '/usr/local/lib/python3.8/zipfile.py'...\n",
            "Compiling '/usr/local/lib/python3.8/zipimport.py'...\n",
            "PYTHONPATH=/usr/local/lib/python3.8  \\\n",
            "\t./python -E -Wi -O /usr/local/lib/python3.8/compileall.py \\\n",
            "\t-j0 -d /usr/local/lib/python3.8 -f \\\n",
            "\t-x 'bad_coding|badsyntax|site-packages|lib2to3/tests/data' \\\n",
            "\t/usr/local/lib/python3.8\n",
            "Listing '/usr/local/lib/python3.8'...\n",
            "Compiling '/usr/local/lib/python3.8/__future__.py'...\n",
            "Compiling '/usr/local/lib/python3.8/__phello__.foo.py'...\n",
            "Compiling '/usr/local/lib/python3.8/_bootlocale.py'...\n",
            "Compiling '/usr/local/lib/python3.8/_collections_abc.py'...\n",
            "Compiling '/usr/local/lib/python3.8/_compat_pickle.py'...\n",
            "Compiling '/usr/local/lib/python3.8/_compression.py'...\n",
            "Compiling '/usr/local/lib/python3.8/_markupbase.py'...\n",
            "Compiling '/usr/local/lib/python3.8/_osx_support.py'...\n",
            "Compiling '/usr/local/lib/python3.8/_pydecimal.py'...\n",
            "Compiling '/usr/local/lib/python3.8/_dummy_thread.py'...\n",
            "Compiling '/usr/local/lib/python3.8/_pyio.py'...\n",
            "Compiling '/usr/local/lib/python3.8/_sitebuiltins.py'...\n",
            "Compiling '/usr/local/lib/python3.8/_strptime.py'...\n",
            "Compiling '/usr/local/lib/python3.8/_sysconfigdata__linux_x86_64-linux-gnu.py'...\n",
            "Listing '/usr/local/lib/python3.8/asyncio'...\n",
            "Compiling '/usr/local/lib/python3.8/_py_abc.py'...\n",
            "Listing '/usr/local/lib/python3.8/collections'...\n",
            "Listing '/usr/local/lib/python3.8/concurrent'...\n",
            "Compiling '/usr/local/lib/python3.8/_threading_local.py'...\n",
            "Compiling '/usr/local/lib/python3.8/_weakrefset.py'...\n",
            "Compiling '/usr/local/lib/python3.8/abc.py'...\n",
            "Compiling '/usr/local/lib/python3.8/aifc.py'...\n",
            "Compiling '/usr/local/lib/python3.8/antigravity.py'...\n",
            "Compiling '/usr/local/lib/python3.8/argparse.py'...\n",
            "Listing '/usr/local/lib/python3.8/concurrent/futures'...\n",
            "Compiling '/usr/local/lib/python3.8/ast.py'...\n",
            "Compiling '/usr/local/lib/python3.8/asynchat.py'...\n",
            "Compiling '/usr/local/lib/python3.8/asyncio/__init__.py'...\n",
            "Compiling '/usr/local/lib/python3.8/asyncio/__main__.py'...\n",
            "Compiling '/usr/local/lib/python3.8/asyncio/base_events.py'...\n",
            "Compiling '/usr/local/lib/python3.8/asyncio/base_futures.py'...\n",
            "Compiling '/usr/local/lib/python3.8/asyncio/base_subprocess.py'...\n",
            "Listing '/usr/local/lib/python3.8/ctypes'...\n",
            "Listing '/usr/local/lib/python3.8/ctypes/macholib'...\n",
            "Compiling '/usr/local/lib/python3.8/asyncio/base_tasks.py'...\n",
            "Compiling '/usr/local/lib/python3.8/asyncio/constants.py'...\n",
            "Listing '/usr/local/lib/python3.8/ctypes/test'...\n",
            "Compiling '/usr/local/lib/python3.8/asyncio/coroutines.py'...\n",
            "Compiling '/usr/local/lib/python3.8/asyncio/events.py'...\n",
            "Compiling '/usr/local/lib/python3.8/asyncio/exceptions.py'...\n",
            "Compiling '/usr/local/lib/python3.8/asyncio/format_helpers.py'...\n",
            "Compiling '/usr/local/lib/python3.8/asyncio/futures.py'...\n",
            "Compiling '/usr/local/lib/python3.8/asyncio/locks.py'...\n",
            "Listing '/usr/local/lib/python3.8/curses'...\n",
            "Listing '/usr/local/lib/python3.8/dbm'...\n",
            "Compiling '/usr/local/lib/python3.8/asyncio/log.py'...\n",
            "Listing '/usr/local/lib/python3.8/distutils'...\n",
            "Listing '/usr/local/lib/python3.8/distutils/command'...\n",
            "Compiling '/usr/local/lib/python3.8/asyncio/proactor_events.py'...\n",
            "Compiling '/usr/local/lib/python3.8/asyncio/protocols.py'...\n",
            "Compiling '/usr/local/lib/python3.8/asyncio/queues.py'...\n",
            "Compiling '/usr/local/lib/python3.8/asyncio/runners.py'...\n",
            "Compiling '/usr/local/lib/python3.8/asyncio/selector_events.py'...\n",
            "Compiling '/usr/local/lib/python3.8/asyncio/sslproto.py'...\n",
            "Compiling '/usr/local/lib/python3.8/asyncio/staggered.py'...\n",
            "Compiling '/usr/local/lib/python3.8/asyncio/streams.py'...\n",
            "Compiling '/usr/local/lib/python3.8/asyncio/subprocess.py'...\n",
            "Compiling '/usr/local/lib/python3.8/asyncio/tasks.py'...\n",
            "Compiling '/usr/local/lib/python3.8/asyncio/transports.py'...\n",
            "Compiling '/usr/local/lib/python3.8/asyncio/trsock.py'...\n",
            "Compiling '/usr/local/lib/python3.8/asyncio/unix_events.py'...\n",
            "Listing '/usr/local/lib/python3.8/distutils/tests'...\n",
            "Compiling '/usr/local/lib/python3.8/asyncio/windows_events.py'...\n",
            "Compiling '/usr/local/lib/python3.8/asyncio/windows_utils.py'...\n",
            "Compiling '/usr/local/lib/python3.8/asyncore.py'...\n",
            "Compiling '/usr/local/lib/python3.8/base64.py'...\n",
            "Compiling '/usr/local/lib/python3.8/bdb.py'...\n",
            "Compiling '/usr/local/lib/python3.8/binhex.py'...\n",
            "Listing '/usr/local/lib/python3.8/email'...\n",
            "Listing '/usr/local/lib/python3.8/email/mime'...\n",
            "Listing '/usr/local/lib/python3.8/encodings'...\n",
            "Compiling '/usr/local/lib/python3.8/bisect.py'...\n",
            "Compiling '/usr/local/lib/python3.8/bz2.py'...\n",
            "Compiling '/usr/local/lib/python3.8/cProfile.py'...\n",
            "Compiling '/usr/local/lib/python3.8/calendar.py'...\n",
            "Compiling '/usr/local/lib/python3.8/cgi.py'...\n",
            "Compiling '/usr/local/lib/python3.8/cgitb.py'...\n",
            "Compiling '/usr/local/lib/python3.8/chunk.py'...\n",
            "Compiling '/usr/local/lib/python3.8/cmd.py'...\n",
            "Listing '/usr/local/lib/python3.8/ensurepip'...\n",
            "Listing '/usr/local/lib/python3.8/ensurepip/_bundled'...\n",
            "Listing '/usr/local/lib/python3.8/html'...\n",
            "Compiling '/usr/local/lib/python3.8/code.py'...\n",
            "Compiling '/usr/local/lib/python3.8/codecs.py'...\n",
            "Compiling '/usr/local/lib/python3.8/codeop.py'...\n",
            "Compiling '/usr/local/lib/python3.8/collections/__init__.py'...\n",
            "Compiling '/usr/local/lib/python3.8/collections/abc.py'...\n",
            "Compiling '/usr/local/lib/python3.8/colorsys.py'...\n",
            "Compiling '/usr/local/lib/python3.8/compileall.py'...\n",
            "Compiling '/usr/local/lib/python3.8/concurrent/__init__.py'...\n",
            "Compiling '/usr/local/lib/python3.8/concurrent/futures/__init__.py'...\n",
            "Listing '/usr/local/lib/python3.8/http'...\n",
            "Compiling '/usr/local/lib/python3.8/concurrent/futures/_base.py'...\n",
            "Compiling '/usr/local/lib/python3.8/concurrent/futures/process.py'...\n",
            "Compiling '/usr/local/lib/python3.8/concurrent/futures/thread.py'...\n",
            "Compiling '/usr/local/lib/python3.8/configparser.py'...\n",
            "Compiling '/usr/local/lib/python3.8/contextlib.py'...\n",
            "Listing '/usr/local/lib/python3.8/idlelib'...\n",
            "Compiling '/usr/local/lib/python3.8/contextvars.py'...\n",
            "Compiling '/usr/local/lib/python3.8/copy.py'...\n",
            "Compiling '/usr/local/lib/python3.8/copyreg.py'...\n",
            "Compiling '/usr/local/lib/python3.8/crypt.py'...\n",
            "Compiling '/usr/local/lib/python3.8/csv.py'...\n",
            "Compiling '/usr/local/lib/python3.8/ctypes/__init__.py'...\n",
            "Compiling '/usr/local/lib/python3.8/ctypes/_aix.py'...\n",
            "Compiling '/usr/local/lib/python3.8/ctypes/_endian.py'...\n",
            "Compiling '/usr/local/lib/python3.8/ctypes/macholib/__init__.py'...\n",
            "Listing '/usr/local/lib/python3.8/idlelib/Icons'...\n",
            "Compiling '/usr/local/lib/python3.8/ctypes/macholib/dyld.py'...\n",
            "Compiling '/usr/local/lib/python3.8/ctypes/macholib/dylib.py'...\n",
            "Listing '/usr/local/lib/python3.8/idlelib/idle_test'...\n",
            "Compiling '/usr/local/lib/python3.8/ctypes/macholib/framework.py'...\n",
            "Compiling '/usr/local/lib/python3.8/ctypes/test/__init__.py'...\n",
            "Compiling '/usr/local/lib/python3.8/ctypes/test/__main__.py'...\n",
            "Compiling '/usr/local/lib/python3.8/ctypes/test/test_anon.py'...\n",
            "Compiling '/usr/local/lib/python3.8/ctypes/test/test_array_in_pointer.py'...\n",
            "Compiling '/usr/local/lib/python3.8/ctypes/test/test_arrays.py'...\n",
            "Compiling '/usr/local/lib/python3.8/ctypes/test/test_as_parameter.py'...\n",
            "Compiling '/usr/local/lib/python3.8/ctypes/test/test_bitfields.py'...\n",
            "Compiling '/usr/local/lib/python3.8/ctypes/test/test_buffers.py'...\n",
            "Compiling '/usr/local/lib/python3.8/ctypes/test/test_bytes.py'...\n",
            "Compiling '/usr/local/lib/python3.8/ctypes/test/test_byteswap.py'...\n",
            "Compiling '/usr/local/lib/python3.8/ctypes/test/test_callbacks.py'...\n",
            "Listing '/usr/local/lib/python3.8/importlib'...\n",
            "Listing '/usr/local/lib/python3.8/json'...\n",
            "Compiling '/usr/local/lib/python3.8/ctypes/test/test_cast.py'...\n",
            "Listing '/usr/local/lib/python3.8/lib2to3'...\n",
            "Compiling '/usr/local/lib/python3.8/ctypes/test/test_cfuncs.py'...\n",
            "Listing '/usr/local/lib/python3.8/lib2to3/fixes'...\n",
            "Compiling '/usr/local/lib/python3.8/ctypes/test/test_checkretval.py'...\n",
            "Compiling '/usr/local/lib/python3.8/ctypes/test/test_delattr.py'...\n",
            "Compiling '/usr/local/lib/python3.8/ctypes/test/test_errno.py'...\n",
            "Compiling '/usr/local/lib/python3.8/ctypes/test/test_find.py'...\n",
            "Compiling '/usr/local/lib/python3.8/ctypes/test/test_frombuffer.py'...\n",
            "Compiling '/usr/local/lib/python3.8/ctypes/test/test_funcptr.py'...\n",
            "Compiling '/usr/local/lib/python3.8/ctypes/test/test_functions.py'...\n",
            "Compiling '/usr/local/lib/python3.8/ctypes/test/test_incomplete.py'...\n",
            "Compiling '/usr/local/lib/python3.8/ctypes/test/test_init.py'...\n",
            "Compiling '/usr/local/lib/python3.8/ctypes/test/test_internals.py'...\n",
            "Compiling '/usr/local/lib/python3.8/ctypes/test/test_keeprefs.py'...\n",
            "Compiling '/usr/local/lib/python3.8/ctypes/test/test_libc.py'...\n",
            "Compiling '/usr/local/lib/python3.8/ctypes/test/test_loading.py'...\n",
            "Compiling '/usr/local/lib/python3.8/ctypes/test/test_macholib.py'...\n",
            "Compiling '/usr/local/lib/python3.8/ctypes/test/test_memfunctions.py'...\n",
            "Compiling '/usr/local/lib/python3.8/ctypes/test/test_numbers.py'...\n",
            "Compiling '/usr/local/lib/python3.8/ctypes/test/test_objects.py'...\n",
            "Compiling '/usr/local/lib/python3.8/ctypes/test/test_parameters.py'...\n",
            "Compiling '/usr/local/lib/python3.8/ctypes/test/test_pep3118.py'...\n",
            "Compiling '/usr/local/lib/python3.8/ctypes/test/test_pickling.py'...\n",
            "Compiling '/usr/local/lib/python3.8/ctypes/test/test_pointers.py'...\n",
            "Compiling '/usr/local/lib/python3.8/ctypes/test/test_prototypes.py'...\n",
            "Compiling '/usr/local/lib/python3.8/ctypes/test/test_python_api.py'...\n",
            "Compiling '/usr/local/lib/python3.8/ctypes/test/test_random_things.py'...\n",
            "Listing '/usr/local/lib/python3.8/lib2to3/pgen2'...\n",
            "Compiling '/usr/local/lib/python3.8/ctypes/test/test_refcounts.py'...\n",
            "Compiling '/usr/local/lib/python3.8/ctypes/test/test_repr.py'...\n",
            "Listing '/usr/local/lib/python3.8/lib2to3/tests'...\n",
            "Compiling '/usr/local/lib/python3.8/ctypes/test/test_returnfuncptrs.py'...\n",
            "Compiling '/usr/local/lib/python3.8/ctypes/test/test_simplesubclasses.py'...\n",
            "Compiling '/usr/local/lib/python3.8/ctypes/test/test_sizes.py'...\n",
            "Compiling '/usr/local/lib/python3.8/ctypes/test/test_slicing.py'...\n",
            "Compiling '/usr/local/lib/python3.8/ctypes/test/test_strings.py'...\n",
            "Compiling '/usr/local/lib/python3.8/ctypes/test/test_stringptr.py'...\n",
            "Compiling '/usr/local/lib/python3.8/ctypes/test/test_struct_fields.py'...\n",
            "Compiling '/usr/local/lib/python3.8/ctypes/test/test_structures.py'...\n",
            "Compiling '/usr/local/lib/python3.8/ctypes/test/test_unaligned_structures.py'...\n",
            "Compiling '/usr/local/lib/python3.8/ctypes/test/test_unicode.py'...\n",
            "Compiling '/usr/local/lib/python3.8/ctypes/test/test_values.py'...\n",
            "Compiling '/usr/local/lib/python3.8/ctypes/test/test_varsize_struct.py'...\n",
            "Compiling '/usr/local/lib/python3.8/ctypes/test/test_win32.py'...\n",
            "Compiling '/usr/local/lib/python3.8/ctypes/test/test_wintypes.py'...\n",
            "Listing '/usr/local/lib/python3.8/lib2to3/tests/data'...\n",
            "Listing '/usr/local/lib/python3.8/lib2to3/tests/data/fixers'...\n",
            "Listing '/usr/local/lib/python3.8/lib2to3/tests/data/fixers/myfixes'...\n",
            "Compiling '/usr/local/lib/python3.8/ctypes/util.py'...\n",
            "Compiling '/usr/local/lib/python3.8/ctypes/wintypes.py'...\n",
            "Compiling '/usr/local/lib/python3.8/curses/__init__.py'...\n",
            "Compiling '/usr/local/lib/python3.8/curses/ascii.py'...\n",
            "Listing '/usr/local/lib/python3.8/logging'...\n",
            "Listing '/usr/local/lib/python3.8/multiprocessing'...\n",
            "Listing '/usr/local/lib/python3.8/multiprocessing/dummy'...\n",
            "Compiling '/usr/local/lib/python3.8/curses/has_key.py'...\n",
            "Compiling '/usr/local/lib/python3.8/curses/panel.py'...\n",
            "Compiling '/usr/local/lib/python3.8/curses/textpad.py'...\n",
            "Compiling '/usr/local/lib/python3.8/dataclasses.py'...\n",
            "Compiling '/usr/local/lib/python3.8/datetime.py'...\n",
            "Compiling '/usr/local/lib/python3.8/dbm/__init__.py'...\n",
            "Compiling '/usr/local/lib/python3.8/dbm/dumb.py'...\n",
            "Compiling '/usr/local/lib/python3.8/dbm/gnu.py'...\n",
            "Compiling '/usr/local/lib/python3.8/dbm/ndbm.py'...\n",
            "Compiling '/usr/local/lib/python3.8/decimal.py'...\n",
            "Compiling '/usr/local/lib/python3.8/difflib.py'...\n",
            "Compiling '/usr/local/lib/python3.8/dis.py'...\n",
            "Compiling '/usr/local/lib/python3.8/distutils/__init__.py'...\n",
            "Compiling '/usr/local/lib/python3.8/distutils/_msvccompiler.py'...\n",
            "Compiling '/usr/local/lib/python3.8/distutils/archive_util.py'...\n",
            "Compiling '/usr/local/lib/python3.8/distutils/bcppcompiler.py'...\n",
            "Listing '/usr/local/lib/python3.8/pydoc_data'...\n",
            "Compiling '/usr/local/lib/python3.8/distutils/ccompiler.py'...\n",
            "Compiling '/usr/local/lib/python3.8/distutils/cmd.py'...\n",
            "Compiling '/usr/local/lib/python3.8/distutils/command/__init__.py'...\n",
            "Listing '/usr/local/lib/python3.8/site-packages'...\n",
            "Listing '/usr/local/lib/python3.8/sqlite3'...\n",
            "Compiling '/usr/local/lib/python3.8/distutils/command/bdist.py'...\n",
            "Listing '/usr/local/lib/python3.8/sqlite3/test'...\n",
            "Listing '/usr/local/lib/python3.8/test'...\n",
            "Compiling '/usr/local/lib/python3.8/distutils/command/bdist_dumb.py'...\n",
            "Compiling '/usr/local/lib/python3.8/distutils/command/bdist_msi.py'...\n",
            "Compiling '/usr/local/lib/python3.8/distutils/command/bdist_rpm.py'...\n",
            "Compiling '/usr/local/lib/python3.8/distutils/command/bdist_wininst.py'...\n",
            "Compiling '/usr/local/lib/python3.8/distutils/command/build.py'...\n",
            "Compiling '/usr/local/lib/python3.8/distutils/command/build_clib.py'...\n",
            "Compiling '/usr/local/lib/python3.8/distutils/command/build_ext.py'...\n",
            "Compiling '/usr/local/lib/python3.8/distutils/command/build_py.py'...\n",
            "Compiling '/usr/local/lib/python3.8/distutils/command/build_scripts.py'...\n",
            "Compiling '/usr/local/lib/python3.8/distutils/command/check.py'...\n",
            "Compiling '/usr/local/lib/python3.8/distutils/command/clean.py'...\n",
            "Listing '/usr/local/lib/python3.8/test/audiodata'...\n",
            "Compiling '/usr/local/lib/python3.8/distutils/command/config.py'...\n",
            "Compiling '/usr/local/lib/python3.8/distutils/command/install.py'...\n",
            "Compiling '/usr/local/lib/python3.8/distutils/command/install_egg_info.py'...\n",
            "Compiling '/usr/local/lib/python3.8/distutils/command/install_data.py'...\n",
            "Listing '/usr/local/lib/python3.8/test/capath'...\n",
            "Compiling '/usr/local/lib/python3.8/distutils/command/install_headers.py'...\n",
            "Compiling '/usr/local/lib/python3.8/distutils/command/install_lib.py'...\n",
            "Listing '/usr/local/lib/python3.8/test/cjkencodings'...\n",
            "Compiling '/usr/local/lib/python3.8/distutils/command/register.py'...\n",
            "Compiling '/usr/local/lib/python3.8/distutils/command/install_scripts.py'...\n",
            "Compiling '/usr/local/lib/python3.8/distutils/command/sdist.py'...\n",
            "Compiling '/usr/local/lib/python3.8/distutils/command/upload.py'...\n",
            "Compiling '/usr/local/lib/python3.8/distutils/config.py'...\n",
            "Compiling '/usr/local/lib/python3.8/distutils/core.py'...\n",
            "Compiling '/usr/local/lib/python3.8/distutils/cygwinccompiler.py'...\n",
            "Compiling '/usr/local/lib/python3.8/distutils/debug.py'...\n",
            "Compiling '/usr/local/lib/python3.8/distutils/dep_util.py'...\n",
            "Compiling '/usr/local/lib/python3.8/distutils/dir_util.py'...\n",
            "Compiling '/usr/local/lib/python3.8/distutils/dist.py'...\n",
            "Compiling '/usr/local/lib/python3.8/distutils/errors.py'...\n",
            "Compiling '/usr/local/lib/python3.8/distutils/extension.py'...\n",
            "Compiling '/usr/local/lib/python3.8/distutils/fancy_getopt.py'...\n",
            "Compiling '/usr/local/lib/python3.8/distutils/file_util.py'...\n",
            "Compiling '/usr/local/lib/python3.8/distutils/filelist.py'...\n",
            "Compiling '/usr/local/lib/python3.8/distutils/log.py'...\n",
            "Compiling '/usr/local/lib/python3.8/distutils/msvc9compiler.py'...\n",
            "Compiling '/usr/local/lib/python3.8/distutils/msvccompiler.py'...\n",
            "Compiling '/usr/local/lib/python3.8/distutils/spawn.py'...\n",
            "Compiling '/usr/local/lib/python3.8/distutils/sysconfig.py'...\n",
            "Compiling '/usr/local/lib/python3.8/distutils/tests/__init__.py'...\n",
            "Compiling '/usr/local/lib/python3.8/distutils/tests/support.py'...\n",
            "Compiling '/usr/local/lib/python3.8/distutils/tests/test_archive_util.py'...\n",
            "Compiling '/usr/local/lib/python3.8/distutils/tests/test_bdist.py'...\n",
            "Compiling '/usr/local/lib/python3.8/distutils/tests/test_bdist_dumb.py'...\n",
            "Compiling '/usr/local/lib/python3.8/distutils/tests/test_bdist_msi.py'...\n",
            "Compiling '/usr/local/lib/python3.8/distutils/tests/test_bdist_rpm.py'...\n",
            "Listing '/usr/local/lib/python3.8/test/data'...\n",
            "Compiling '/usr/local/lib/python3.8/distutils/tests/test_bdist_wininst.py'...\n",
            "Compiling '/usr/local/lib/python3.8/distutils/tests/test_build.py'...\n",
            "Compiling '/usr/local/lib/python3.8/distutils/tests/test_build_clib.py'...\n",
            "Compiling '/usr/local/lib/python3.8/distutils/tests/test_build_ext.py'...\n",
            "Compiling '/usr/local/lib/python3.8/distutils/tests/test_build_py.py'...\n",
            "Compiling '/usr/local/lib/python3.8/distutils/tests/test_build_scripts.py'...\n",
            "Compiling '/usr/local/lib/python3.8/distutils/tests/test_check.py'...\n",
            "Compiling '/usr/local/lib/python3.8/distutils/tests/test_clean.py'...\n",
            "Compiling '/usr/local/lib/python3.8/distutils/tests/test_cmd.py'...\n",
            "Compiling '/usr/local/lib/python3.8/distutils/tests/test_config.py'...\n",
            "Compiling '/usr/local/lib/python3.8/distutils/tests/test_config_cmd.py'...\n",
            "Compiling '/usr/local/lib/python3.8/distutils/tests/test_core.py'...\n",
            "Compiling '/usr/local/lib/python3.8/distutils/tests/test_cygwinccompiler.py'...\n",
            "Compiling '/usr/local/lib/python3.8/distutils/tests/test_dep_util.py'...\n",
            "Compiling '/usr/local/lib/python3.8/distutils/tests/test_dir_util.py'...\n",
            "Compiling '/usr/local/lib/python3.8/distutils/tests/test_dist.py'...\n",
            "Compiling '/usr/local/lib/python3.8/distutils/tests/test_extension.py'...\n",
            "Listing '/usr/local/lib/python3.8/test/decimaltestdata'...\n",
            "Compiling '/usr/local/lib/python3.8/distutils/tests/test_file_util.py'...\n",
            "Compiling '/usr/local/lib/python3.8/distutils/tests/test_filelist.py'...\n",
            "Compiling '/usr/local/lib/python3.8/distutils/tests/test_install.py'...\n",
            "Compiling '/usr/local/lib/python3.8/distutils/tests/test_install_data.py'...\n",
            "Compiling '/usr/local/lib/python3.8/distutils/tests/test_install_headers.py'...\n",
            "Compiling '/usr/local/lib/python3.8/distutils/tests/test_install_lib.py'...\n",
            "Compiling '/usr/local/lib/python3.8/distutils/tests/test_install_scripts.py'...\n",
            "Compiling '/usr/local/lib/python3.8/distutils/tests/test_log.py'...\n",
            "Compiling '/usr/local/lib/python3.8/distutils/tests/test_msvc9compiler.py'...\n",
            "Compiling '/usr/local/lib/python3.8/distutils/tests/test_msvccompiler.py'...\n",
            "Compiling '/usr/local/lib/python3.8/distutils/tests/test_register.py'...\n",
            "Compiling '/usr/local/lib/python3.8/distutils/tests/test_sdist.py'...\n",
            "Compiling '/usr/local/lib/python3.8/distutils/tests/test_spawn.py'...\n",
            "Compiling '/usr/local/lib/python3.8/distutils/tests/test_sysconfig.py'...\n",
            "Compiling '/usr/local/lib/python3.8/distutils/tests/test_text_file.py'...\n",
            "Compiling '/usr/local/lib/python3.8/distutils/tests/test_unixccompiler.py'...\n",
            "Compiling '/usr/local/lib/python3.8/distutils/tests/test_upload.py'...\n",
            "Compiling '/usr/local/lib/python3.8/distutils/tests/test_util.py'...\n",
            "Compiling '/usr/local/lib/python3.8/distutils/tests/test_version.py'...\n",
            "Compiling '/usr/local/lib/python3.8/distutils/tests/test_versionpredicate.py'...\n",
            "Compiling '/usr/local/lib/python3.8/distutils/text_file.py'...\n",
            "Compiling '/usr/local/lib/python3.8/distutils/unixccompiler.py'...\n",
            "Compiling '/usr/local/lib/python3.8/distutils/version.py'...\n",
            "Compiling '/usr/local/lib/python3.8/distutils/util.py'...\n",
            "Compiling '/usr/local/lib/python3.8/doctest.py'...\n",
            "Compiling '/usr/local/lib/python3.8/distutils/versionpredicate.py'...\n",
            "Compiling '/usr/local/lib/python3.8/dummy_threading.py'...\n",
            "Compiling '/usr/local/lib/python3.8/email/__init__.py'...\n",
            "Compiling '/usr/local/lib/python3.8/email/_encoded_words.py'...\n",
            "Compiling '/usr/local/lib/python3.8/email/_header_value_parser.py'...\n",
            "Compiling '/usr/local/lib/python3.8/email/_parseaddr.py'...\n",
            "Compiling '/usr/local/lib/python3.8/email/_policybase.py'...\n",
            "Compiling '/usr/local/lib/python3.8/email/base64mime.py'...\n",
            "Compiling '/usr/local/lib/python3.8/email/charset.py'...\n",
            "Compiling '/usr/local/lib/python3.8/email/contentmanager.py'...\n",
            "Compiling '/usr/local/lib/python3.8/email/encoders.py'...\n",
            "Compiling '/usr/local/lib/python3.8/email/errors.py'...\n",
            "Listing '/usr/local/lib/python3.8/test/dtracedata'...\n",
            "Compiling '/usr/local/lib/python3.8/email/feedparser.py'...\n",
            "Compiling '/usr/local/lib/python3.8/email/generator.py'...\n",
            "Compiling '/usr/local/lib/python3.8/email/header.py'...\n",
            "Compiling '/usr/local/lib/python3.8/email/headerregistry.py'...\n",
            "Listing '/usr/local/lib/python3.8/test/eintrdata'...\n",
            "Listing '/usr/local/lib/python3.8/test/encoded_modules'...\n",
            "Listing '/usr/local/lib/python3.8/test/imghdrdata'...\n",
            "Listing '/usr/local/lib/python3.8/test/libregrtest'...\n",
            "Compiling '/usr/local/lib/python3.8/email/iterators.py'...\n",
            "Compiling '/usr/local/lib/python3.8/email/message.py'...\n",
            "Compiling '/usr/local/lib/python3.8/email/mime/__init__.py'...\n",
            "Compiling '/usr/local/lib/python3.8/email/mime/application.py'...\n",
            "Compiling '/usr/local/lib/python3.8/email/mime/audio.py'...\n",
            "Compiling '/usr/local/lib/python3.8/email/mime/base.py'...\n",
            "Compiling '/usr/local/lib/python3.8/email/mime/image.py'...\n",
            "Compiling '/usr/local/lib/python3.8/email/mime/message.py'...\n",
            "Compiling '/usr/local/lib/python3.8/email/mime/multipart.py'...\n",
            "Compiling '/usr/local/lib/python3.8/email/mime/nonmultipart.py'...\n",
            "Compiling '/usr/local/lib/python3.8/email/mime/text.py'...\n",
            "Compiling '/usr/local/lib/python3.8/email/parser.py'...\n",
            "Compiling '/usr/local/lib/python3.8/email/policy.py'...\n",
            "Compiling '/usr/local/lib/python3.8/email/quoprimime.py'...\n",
            "Compiling '/usr/local/lib/python3.8/email/utils.py'...\n",
            "Compiling '/usr/local/lib/python3.8/encodings/__init__.py'...\n",
            "Compiling '/usr/local/lib/python3.8/encodings/aliases.py'...\n",
            "Compiling '/usr/local/lib/python3.8/encodings/ascii.py'...\n",
            "Compiling '/usr/local/lib/python3.8/encodings/base64_codec.py'...\n",
            "Compiling '/usr/local/lib/python3.8/encodings/big5.py'...\n",
            "Compiling '/usr/local/lib/python3.8/encodings/big5hkscs.py'...\n",
            "Compiling '/usr/local/lib/python3.8/encodings/bz2_codec.py'...\n",
            "Compiling '/usr/local/lib/python3.8/encodings/charmap.py'...\n",
            "Compiling '/usr/local/lib/python3.8/encodings/cp037.py'...\n",
            "Compiling '/usr/local/lib/python3.8/encodings/cp1006.py'...\n",
            "Compiling '/usr/local/lib/python3.8/encodings/cp1125.py'...\n",
            "Compiling '/usr/local/lib/python3.8/encodings/cp1026.py'...\n",
            "Compiling '/usr/local/lib/python3.8/encodings/cp1140.py'...\n",
            "Compiling '/usr/local/lib/python3.8/encodings/cp1250.py'...\n",
            "Compiling '/usr/local/lib/python3.8/encodings/cp1251.py'...\n",
            "Compiling '/usr/local/lib/python3.8/encodings/cp1252.py'...\n",
            "Compiling '/usr/local/lib/python3.8/encodings/cp1253.py'...\n",
            "Compiling '/usr/local/lib/python3.8/encodings/cp1254.py'...\n",
            "Compiling '/usr/local/lib/python3.8/encodings/cp1255.py'...\n",
            "Compiling '/usr/local/lib/python3.8/encodings/cp1256.py'...\n",
            "Compiling '/usr/local/lib/python3.8/encodings/cp1257.py'...\n",
            "Compiling '/usr/local/lib/python3.8/encodings/cp1258.py'...\n",
            "Compiling '/usr/local/lib/python3.8/encodings/cp273.py'...\n",
            "Compiling '/usr/local/lib/python3.8/encodings/cp424.py'...\n",
            "Compiling '/usr/local/lib/python3.8/encodings/cp437.py'...\n",
            "Compiling '/usr/local/lib/python3.8/encodings/cp500.py'...\n",
            "Compiling '/usr/local/lib/python3.8/encodings/cp720.py'...\n",
            "Listing '/usr/local/lib/python3.8/test/sndhdrdata'...\n",
            "Compiling '/usr/local/lib/python3.8/encodings/cp737.py'...\n",
            "Compiling '/usr/local/lib/python3.8/encodings/cp850.py'...\n",
            "Compiling '/usr/local/lib/python3.8/encodings/cp775.py'...\n",
            "Compiling '/usr/local/lib/python3.8/encodings/cp852.py'...\n",
            "Compiling '/usr/local/lib/python3.8/encodings/cp855.py'...\n",
            "Compiling '/usr/local/lib/python3.8/encodings/cp856.py'...\n",
            "Compiling '/usr/local/lib/python3.8/encodings/cp857.py'...\n",
            "Compiling '/usr/local/lib/python3.8/encodings/cp858.py'...\n",
            "Compiling '/usr/local/lib/python3.8/encodings/cp860.py'...\n",
            "Compiling '/usr/local/lib/python3.8/encodings/cp861.py'...\n",
            "Compiling '/usr/local/lib/python3.8/encodings/cp862.py'...\n",
            "Compiling '/usr/local/lib/python3.8/encodings/cp863.py'...\n",
            "Compiling '/usr/local/lib/python3.8/encodings/cp864.py'...\n",
            "Compiling '/usr/local/lib/python3.8/encodings/cp865.py'...\n",
            "Compiling '/usr/local/lib/python3.8/encodings/cp866.py'...\n",
            "Compiling '/usr/local/lib/python3.8/encodings/cp869.py'...\n",
            "Compiling '/usr/local/lib/python3.8/encodings/cp874.py'...\n",
            "Compiling '/usr/local/lib/python3.8/encodings/cp932.py'...\n",
            "Compiling '/usr/local/lib/python3.8/encodings/cp875.py'...\n",
            "Compiling '/usr/local/lib/python3.8/encodings/cp949.py'...\n",
            "Listing '/usr/local/lib/python3.8/test/subprocessdata'...\n",
            "Compiling '/usr/local/lib/python3.8/encodings/cp950.py'...\n",
            "Compiling '/usr/local/lib/python3.8/encodings/euc_jis_2004.py'...\n",
            "Listing '/usr/local/lib/python3.8/test/support'...\n",
            "Compiling '/usr/local/lib/python3.8/encodings/euc_jp.py'...\n",
            "Compiling '/usr/local/lib/python3.8/encodings/euc_jisx0213.py'...\n",
            "Compiling '/usr/local/lib/python3.8/encodings/euc_kr.py'...\n",
            "Compiling '/usr/local/lib/python3.8/encodings/gb18030.py'...\n",
            "Compiling '/usr/local/lib/python3.8/encodings/gb2312.py'...\n",
            "Compiling '/usr/local/lib/python3.8/encodings/gbk.py'...\n",
            "Compiling '/usr/local/lib/python3.8/encodings/hex_codec.py'...\n",
            "Compiling '/usr/local/lib/python3.8/encodings/hp_roman8.py'...\n",
            "Compiling '/usr/local/lib/python3.8/encodings/hz.py'...\n",
            "Compiling '/usr/local/lib/python3.8/encodings/idna.py'...\n",
            "Compiling '/usr/local/lib/python3.8/encodings/iso2022_jp.py'...\n",
            "Compiling '/usr/local/lib/python3.8/encodings/iso2022_jp_1.py'...\n",
            "Compiling '/usr/local/lib/python3.8/encodings/iso2022_jp_2.py'...\n",
            "Compiling '/usr/local/lib/python3.8/encodings/iso2022_jp_2004.py'...\n",
            "Compiling '/usr/local/lib/python3.8/encodings/iso2022_jp_3.py'...\n",
            "Compiling '/usr/local/lib/python3.8/encodings/iso2022_jp_ext.py'...\n",
            "Listing '/usr/local/lib/python3.8/test/test_asyncio'...\n",
            "Compiling '/usr/local/lib/python3.8/encodings/iso2022_kr.py'...\n",
            "Compiling '/usr/local/lib/python3.8/encodings/iso8859_1.py'...\n",
            "Compiling '/usr/local/lib/python3.8/encodings/iso8859_10.py'...\n",
            "Compiling '/usr/local/lib/python3.8/encodings/iso8859_11.py'...\n",
            "Compiling '/usr/local/lib/python3.8/encodings/iso8859_13.py'...\n",
            "Compiling '/usr/local/lib/python3.8/encodings/iso8859_14.py'...\n",
            "Compiling '/usr/local/lib/python3.8/encodings/iso8859_15.py'...\n",
            "Compiling '/usr/local/lib/python3.8/encodings/iso8859_16.py'...\n",
            "Compiling '/usr/local/lib/python3.8/encodings/iso8859_2.py'...\n",
            "Compiling '/usr/local/lib/python3.8/encodings/iso8859_3.py'...\n",
            "Compiling '/usr/local/lib/python3.8/encodings/iso8859_4.py'...\n",
            "Compiling '/usr/local/lib/python3.8/encodings/iso8859_5.py'...\n",
            "Compiling '/usr/local/lib/python3.8/encodings/iso8859_6.py'...\n",
            "Compiling '/usr/local/lib/python3.8/encodings/iso8859_7.py'...\n",
            "Compiling '/usr/local/lib/python3.8/encodings/iso8859_8.py'...\n",
            "Compiling '/usr/local/lib/python3.8/encodings/iso8859_9.py'...\n",
            "Compiling '/usr/local/lib/python3.8/encodings/johab.py'...\n",
            "Compiling '/usr/local/lib/python3.8/encodings/koi8_r.py'...\n",
            "Compiling '/usr/local/lib/python3.8/encodings/koi8_t.py'...\n",
            "Compiling '/usr/local/lib/python3.8/encodings/koi8_u.py'...\n",
            "Compiling '/usr/local/lib/python3.8/encodings/kz1048.py'...\n",
            "Compiling '/usr/local/lib/python3.8/encodings/latin_1.py'...\n",
            "Compiling '/usr/local/lib/python3.8/encodings/mac_arabic.py'...\n",
            "Compiling '/usr/local/lib/python3.8/encodings/mac_centeuro.py'...\n",
            "Compiling '/usr/local/lib/python3.8/encodings/mac_croatian.py'...\n",
            "Compiling '/usr/local/lib/python3.8/encodings/mac_cyrillic.py'...\n",
            "Compiling '/usr/local/lib/python3.8/encodings/mac_farsi.py'...\n",
            "Compiling '/usr/local/lib/python3.8/encodings/mac_greek.py'...\n",
            "Compiling '/usr/local/lib/python3.8/encodings/mac_iceland.py'...\n",
            "Compiling '/usr/local/lib/python3.8/encodings/mac_latin2.py'...\n",
            "Compiling '/usr/local/lib/python3.8/encodings/mac_roman.py'...\n",
            "Compiling '/usr/local/lib/python3.8/encodings/mac_romanian.py'...\n",
            "Compiling '/usr/local/lib/python3.8/encodings/mbcs.py'...\n",
            "Compiling '/usr/local/lib/python3.8/encodings/mac_turkish.py'...\n",
            "Compiling '/usr/local/lib/python3.8/encodings/oem.py'...\n",
            "Compiling '/usr/local/lib/python3.8/encodings/palmos.py'...\n",
            "Compiling '/usr/local/lib/python3.8/encodings/ptcp154.py'...\n",
            "Compiling '/usr/local/lib/python3.8/encodings/punycode.py'...\n",
            "Compiling '/usr/local/lib/python3.8/encodings/quopri_codec.py'...\n",
            "Compiling '/usr/local/lib/python3.8/encodings/raw_unicode_escape.py'...\n",
            "Compiling '/usr/local/lib/python3.8/encodings/rot_13.py'...\n",
            "Compiling '/usr/local/lib/python3.8/encodings/shift_jis.py'...\n",
            "Compiling '/usr/local/lib/python3.8/encodings/shift_jis_2004.py'...\n",
            "Compiling '/usr/local/lib/python3.8/encodings/shift_jisx0213.py'...\n",
            "Compiling '/usr/local/lib/python3.8/encodings/tis_620.py'...\n",
            "Compiling '/usr/local/lib/python3.8/encodings/undefined.py'...\n",
            "Compiling '/usr/local/lib/python3.8/encodings/unicode_escape.py'...\n",
            "Compiling '/usr/local/lib/python3.8/encodings/utf_16.py'...\n",
            "Compiling '/usr/local/lib/python3.8/encodings/utf_16_be.py'...\n",
            "Compiling '/usr/local/lib/python3.8/encodings/utf_16_le.py'...\n",
            "Compiling '/usr/local/lib/python3.8/encodings/utf_32.py'...\n",
            "Compiling '/usr/local/lib/python3.8/encodings/utf_32_be.py'...\n",
            "Compiling '/usr/local/lib/python3.8/encodings/utf_32_le.py'...\n",
            "Compiling '/usr/local/lib/python3.8/encodings/utf_7.py'...\n",
            "Compiling '/usr/local/lib/python3.8/encodings/utf_8.py'...\n",
            "Compiling '/usr/local/lib/python3.8/encodings/utf_8_sig.py'...\n",
            "Compiling '/usr/local/lib/python3.8/encodings/uu_codec.py'...\n",
            "Compiling '/usr/local/lib/python3.8/encodings/zlib_codec.py'...\n",
            "Compiling '/usr/local/lib/python3.8/ensurepip/__init__.py'...\n",
            "Compiling '/usr/local/lib/python3.8/ensurepip/__main__.py'...\n",
            "Compiling '/usr/local/lib/python3.8/ensurepip/_uninstall.py'...\n",
            "Compiling '/usr/local/lib/python3.8/enum.py'...\n",
            "Compiling '/usr/local/lib/python3.8/filecmp.py'...\n",
            "Compiling '/usr/local/lib/python3.8/fileinput.py'...\n",
            "Compiling '/usr/local/lib/python3.8/fnmatch.py'...\n",
            "Compiling '/usr/local/lib/python3.8/formatter.py'...\n",
            "Compiling '/usr/local/lib/python3.8/fractions.py'...\n",
            "Compiling '/usr/local/lib/python3.8/ftplib.py'...\n",
            "Compiling '/usr/local/lib/python3.8/functools.py'...\n",
            "Listing '/usr/local/lib/python3.8/test/test_email'...\n",
            "Listing '/usr/local/lib/python3.8/test/test_email/data'...\n",
            "Compiling '/usr/local/lib/python3.8/genericpath.py'...\n",
            "Compiling '/usr/local/lib/python3.8/getopt.py'...\n",
            "Compiling '/usr/local/lib/python3.8/getpass.py'...\n",
            "Compiling '/usr/local/lib/python3.8/gettext.py'...\n",
            "Compiling '/usr/local/lib/python3.8/glob.py'...\n",
            "Listing '/usr/local/lib/python3.8/test/test_import'...\n",
            "Compiling '/usr/local/lib/python3.8/gzip.py'...\n",
            "Compiling '/usr/local/lib/python3.8/hashlib.py'...\n",
            "Compiling '/usr/local/lib/python3.8/heapq.py'...\n",
            "Compiling '/usr/local/lib/python3.8/hmac.py'...\n",
            "Compiling '/usr/local/lib/python3.8/html/__init__.py'...\n",
            "Compiling '/usr/local/lib/python3.8/html/entities.py'...\n",
            "Compiling '/usr/local/lib/python3.8/html/parser.py'...\n",
            "Listing '/usr/local/lib/python3.8/test/test_import/data'...\n",
            "Listing '/usr/local/lib/python3.8/test/test_import/data/circular_imports'...\n",
            "Listing '/usr/local/lib/python3.8/test/test_import/data/circular_imports/subpkg'...\n",
            "Compiling '/usr/local/lib/python3.8/http/__init__.py'...\n",
            "Compiling '/usr/local/lib/python3.8/http/client.py'...\n",
            "Listing '/usr/local/lib/python3.8/test/test_import/data/package'...\n",
            "Listing '/usr/local/lib/python3.8/test/test_import/data/package2'...\n",
            "Listing '/usr/local/lib/python3.8/test/test_importlib'...\n",
            "Compiling '/usr/local/lib/python3.8/http/cookiejar.py'...\n",
            "Listing '/usr/local/lib/python3.8/test/test_importlib/builtin'...\n",
            "Listing '/usr/local/lib/python3.8/test/test_importlib/data'...\n",
            "Listing '/usr/local/lib/python3.8/test/test_importlib/data01'...\n",
            "Compiling '/usr/local/lib/python3.8/http/cookies.py'...\n",
            "Listing '/usr/local/lib/python3.8/test/test_importlib/data01/subdirectory'...\n",
            "Listing '/usr/local/lib/python3.8/test/test_importlib/data02'...\n",
            "Compiling '/usr/local/lib/python3.8/http/server.py'...\n",
            "Listing '/usr/local/lib/python3.8/test/test_importlib/data02/one'...\n",
            "Listing '/usr/local/lib/python3.8/test/test_importlib/data02/two'...\n",
            "Listing '/usr/local/lib/python3.8/test/test_importlib/data03'...\n",
            "Listing '/usr/local/lib/python3.8/test/test_importlib/data03/namespace'...\n",
            "Listing '/usr/local/lib/python3.8/test/test_importlib/data03/namespace/portion1'...\n",
            "Listing '/usr/local/lib/python3.8/test/test_importlib/data03/namespace/portion2'...\n",
            "Listing '/usr/local/lib/python3.8/test/test_importlib/extension'...\n",
            "Listing '/usr/local/lib/python3.8/test/test_importlib/frozen'...\n",
            "Listing '/usr/local/lib/python3.8/test/test_importlib/import_'...\n",
            "Compiling '/usr/local/lib/python3.8/idlelib/__init__.py'...\n",
            "Compiling '/usr/local/lib/python3.8/idlelib/__main__.py'...\n",
            "Compiling '/usr/local/lib/python3.8/idlelib/autocomplete.py'...\n",
            "Compiling '/usr/local/lib/python3.8/idlelib/autocomplete_w.py'...\n",
            "Compiling '/usr/local/lib/python3.8/idlelib/autoexpand.py'...\n",
            "Compiling '/usr/local/lib/python3.8/idlelib/browser.py'...\n",
            "Compiling '/usr/local/lib/python3.8/idlelib/calltip.py'...\n",
            "Compiling '/usr/local/lib/python3.8/idlelib/calltip_w.py'...\n",
            "Listing '/usr/local/lib/python3.8/test/test_importlib/namespace_pkgs'...\n",
            "Compiling '/usr/local/lib/python3.8/idlelib/codecontext.py'...\n",
            "Compiling '/usr/local/lib/python3.8/idlelib/colorizer.py'...\n",
            "Compiling '/usr/local/lib/python3.8/idlelib/config.py'...\n",
            "Compiling '/usr/local/lib/python3.8/idlelib/config_key.py'...\n",
            "Compiling '/usr/local/lib/python3.8/idlelib/configdialog.py'...\n",
            "Compiling '/usr/local/lib/python3.8/idlelib/debugger.py'...\n",
            "Compiling '/usr/local/lib/python3.8/idlelib/debugger_r.py'...\n",
            "Compiling '/usr/local/lib/python3.8/idlelib/debugobj.py'...\n",
            "Compiling '/usr/local/lib/python3.8/idlelib/debugobj_r.py'...\n",
            "Compiling '/usr/local/lib/python3.8/idlelib/delegator.py'...\n",
            "Compiling '/usr/local/lib/python3.8/idlelib/dynoption.py'...\n",
            "Compiling '/usr/local/lib/python3.8/idlelib/editor.py'...\n",
            "Compiling '/usr/local/lib/python3.8/idlelib/filelist.py'...\n",
            "Compiling '/usr/local/lib/python3.8/idlelib/format.py'...\n",
            "Compiling '/usr/local/lib/python3.8/idlelib/grep.py'...\n",
            "Compiling '/usr/local/lib/python3.8/idlelib/help.py'...\n",
            "Compiling '/usr/local/lib/python3.8/idlelib/help_about.py'...\n",
            "Compiling '/usr/local/lib/python3.8/idlelib/history.py'...\n",
            "Compiling '/usr/local/lib/python3.8/idlelib/hyperparser.py'...\n",
            "Compiling '/usr/local/lib/python3.8/idlelib/idle.py'...\n",
            "Compiling '/usr/local/lib/python3.8/idlelib/idle_test/__init__.py'...\n",
            "Compiling '/usr/local/lib/python3.8/idlelib/idle_test/htest.py'...\n",
            "Compiling '/usr/local/lib/python3.8/idlelib/idle_test/mock_idle.py'...\n",
            "Listing '/usr/local/lib/python3.8/test/test_importlib/namespace_pkgs/both_portions'...\n",
            "Listing '/usr/local/lib/python3.8/test/test_importlib/namespace_pkgs/both_portions/foo'...\n",
            "Compiling '/usr/local/lib/python3.8/idlelib/idle_test/mock_tk.py'...\n",
            "Listing '/usr/local/lib/python3.8/test/test_importlib/namespace_pkgs/module_and_namespace_package'...\n",
            "Listing '/usr/local/lib/python3.8/test/test_importlib/namespace_pkgs/module_and_namespace_package/a_test'...\n",
            "Listing '/usr/local/lib/python3.8/test/test_importlib/namespace_pkgs/not_a_namespace_pkg'...\n",
            "Listing '/usr/local/lib/python3.8/test/test_importlib/namespace_pkgs/not_a_namespace_pkg/foo'...\n",
            "Listing '/usr/local/lib/python3.8/test/test_importlib/namespace_pkgs/portion1'...\n",
            "Listing '/usr/local/lib/python3.8/test/test_importlib/namespace_pkgs/portion1/foo'...\n",
            "Listing '/usr/local/lib/python3.8/test/test_importlib/namespace_pkgs/portion2'...\n",
            "Listing '/usr/local/lib/python3.8/test/test_importlib/namespace_pkgs/portion2/foo'...\n",
            "Listing '/usr/local/lib/python3.8/test/test_importlib/namespace_pkgs/project1'...\n",
            "Listing '/usr/local/lib/python3.8/test/test_importlib/namespace_pkgs/project1/parent'...\n",
            "Listing '/usr/local/lib/python3.8/test/test_importlib/namespace_pkgs/project1/parent/child'...\n",
            "Listing '/usr/local/lib/python3.8/test/test_importlib/namespace_pkgs/project2'...\n",
            "Compiling '/usr/local/lib/python3.8/idlelib/idle_test/template.py'...\n",
            "Compiling '/usr/local/lib/python3.8/idlelib/idle_test/test_autocomplete.py'...\n",
            "Listing '/usr/local/lib/python3.8/test/test_importlib/namespace_pkgs/project2/parent'...\n",
            "Compiling '/usr/local/lib/python3.8/idlelib/idle_test/test_autocomplete_w.py'...\n",
            "Compiling '/usr/local/lib/python3.8/idlelib/idle_test/test_autoexpand.py'...\n",
            "Listing '/usr/local/lib/python3.8/test/test_importlib/namespace_pkgs/project2/parent/child'...\n",
            "Listing '/usr/local/lib/python3.8/test/test_importlib/namespace_pkgs/project3'...\n",
            "Listing '/usr/local/lib/python3.8/test/test_importlib/namespace_pkgs/project3/parent'...\n",
            "Compiling '/usr/local/lib/python3.8/idlelib/idle_test/test_browser.py'...\n",
            "Compiling '/usr/local/lib/python3.8/idlelib/idle_test/test_calltip.py'...\n",
            "Compiling '/usr/local/lib/python3.8/idlelib/idle_test/test_calltip_w.py'...\n",
            "Compiling '/usr/local/lib/python3.8/idlelib/idle_test/test_codecontext.py'...\n",
            "Compiling '/usr/local/lib/python3.8/idlelib/idle_test/test_colorizer.py'...\n",
            "Compiling '/usr/local/lib/python3.8/idlelib/idle_test/test_config.py'...\n",
            "Compiling '/usr/local/lib/python3.8/idlelib/idle_test/test_config_key.py'...\n",
            "Listing '/usr/local/lib/python3.8/test/test_importlib/namespace_pkgs/project3/parent/child'...\n",
            "Compiling '/usr/local/lib/python3.8/idlelib/idle_test/test_configdialog.py'...\n",
            "Listing '/usr/local/lib/python3.8/test/test_importlib/source'...\n",
            "Compiling '/usr/local/lib/python3.8/idlelib/idle_test/test_debugger.py'...\n",
            "Listing '/usr/local/lib/python3.8/test/test_importlib/zipdata01'...\n",
            "Listing '/usr/local/lib/python3.8/test/test_importlib/zipdata02'...\n",
            "Listing '/usr/local/lib/python3.8/test/test_json'...\n",
            "Compiling '/usr/local/lib/python3.8/idlelib/idle_test/test_debugobj.py'...\n",
            "Compiling '/usr/local/lib/python3.8/idlelib/idle_test/test_debugger_r.py'...\n",
            "Compiling '/usr/local/lib/python3.8/idlelib/idle_test/test_debugobj_r.py'...\n",
            "Compiling '/usr/local/lib/python3.8/idlelib/idle_test/test_delegator.py'...\n",
            "Compiling '/usr/local/lib/python3.8/idlelib/idle_test/test_editmenu.py'...\n",
            "Compiling '/usr/local/lib/python3.8/idlelib/idle_test/test_editor.py'...\n",
            "Compiling '/usr/local/lib/python3.8/idlelib/idle_test/test_filelist.py'...\n",
            "Compiling '/usr/local/lib/python3.8/idlelib/idle_test/test_format.py'...\n",
            "Compiling '/usr/local/lib/python3.8/idlelib/idle_test/test_grep.py'...\n",
            "Compiling '/usr/local/lib/python3.8/idlelib/idle_test/test_help.py'...\n",
            "Compiling '/usr/local/lib/python3.8/idlelib/idle_test/test_help_about.py'...\n",
            "Compiling '/usr/local/lib/python3.8/idlelib/idle_test/test_history.py'...\n",
            "Compiling '/usr/local/lib/python3.8/idlelib/idle_test/test_hyperparser.py'...\n",
            "Compiling '/usr/local/lib/python3.8/idlelib/idle_test/test_iomenu.py'...\n",
            "Compiling '/usr/local/lib/python3.8/idlelib/idle_test/test_macosx.py'...\n",
            "Compiling '/usr/local/lib/python3.8/idlelib/idle_test/test_mainmenu.py'...\n",
            "Compiling '/usr/local/lib/python3.8/idlelib/idle_test/test_multicall.py'...\n",
            "Compiling '/usr/local/lib/python3.8/idlelib/idle_test/test_outwin.py'...\n",
            "Compiling '/usr/local/lib/python3.8/idlelib/idle_test/test_parenmatch.py'...\n",
            "Compiling '/usr/local/lib/python3.8/idlelib/idle_test/test_pathbrowser.py'...\n",
            "Compiling '/usr/local/lib/python3.8/idlelib/idle_test/test_percolator.py'...\n",
            "Compiling '/usr/local/lib/python3.8/idlelib/idle_test/test_pyparse.py'...\n",
            "Compiling '/usr/local/lib/python3.8/idlelib/idle_test/test_pyshell.py'...\n",
            "Compiling '/usr/local/lib/python3.8/idlelib/idle_test/test_redirector.py'...\n",
            "Compiling '/usr/local/lib/python3.8/idlelib/idle_test/test_query.py'...\n",
            "Compiling '/usr/local/lib/python3.8/idlelib/idle_test/test_replace.py'...\n",
            "Listing '/usr/local/lib/python3.8/test/test_tools'...\n",
            "Compiling '/usr/local/lib/python3.8/idlelib/idle_test/test_rpc.py'...\n",
            "Compiling '/usr/local/lib/python3.8/idlelib/idle_test/test_run.py'...\n",
            "Compiling '/usr/local/lib/python3.8/idlelib/idle_test/test_runscript.py'...\n",
            "Compiling '/usr/local/lib/python3.8/idlelib/idle_test/test_scrolledlist.py'...\n",
            "Compiling '/usr/local/lib/python3.8/idlelib/idle_test/test_search.py'...\n",
            "Compiling '/usr/local/lib/python3.8/idlelib/idle_test/test_searchbase.py'...\n",
            "Compiling '/usr/local/lib/python3.8/idlelib/idle_test/test_searchengine.py'...\n",
            "Compiling '/usr/local/lib/python3.8/idlelib/idle_test/test_sidebar.py'...\n",
            "Compiling '/usr/local/lib/python3.8/idlelib/idle_test/test_squeezer.py'...\n",
            "Compiling '/usr/local/lib/python3.8/idlelib/idle_test/test_stackviewer.py'...\n",
            "Compiling '/usr/local/lib/python3.8/idlelib/idle_test/test_statusbar.py'...\n",
            "Compiling '/usr/local/lib/python3.8/idlelib/idle_test/test_text.py'...\n",
            "Listing '/usr/local/lib/python3.8/test/test_warnings'...\n",
            "Compiling '/usr/local/lib/python3.8/idlelib/idle_test/test_textview.py'...\n",
            "Listing '/usr/local/lib/python3.8/test/test_warnings/data'...\n",
            "Compiling '/usr/local/lib/python3.8/idlelib/idle_test/test_tooltip.py'...\n",
            "Compiling '/usr/local/lib/python3.8/idlelib/idle_test/test_tree.py'...\n",
            "Compiling '/usr/local/lib/python3.8/idlelib/idle_test/test_undo.py'...\n",
            "Compiling '/usr/local/lib/python3.8/idlelib/idle_test/test_warning.py'...\n",
            "Compiling '/usr/local/lib/python3.8/idlelib/idle_test/test_window.py'...\n",
            "Compiling '/usr/local/lib/python3.8/idlelib/idle_test/test_zoomheight.py'...\n",
            "Compiling '/usr/local/lib/python3.8/idlelib/iomenu.py'...\n",
            "Compiling '/usr/local/lib/python3.8/idlelib/macosx.py'...\n",
            "Compiling '/usr/local/lib/python3.8/idlelib/mainmenu.py'...\n",
            "Compiling '/usr/local/lib/python3.8/idlelib/multicall.py'...\n",
            "Compiling '/usr/local/lib/python3.8/idlelib/parenmatch.py'...\n",
            "Compiling '/usr/local/lib/python3.8/idlelib/outwin.py'...\n",
            "Compiling '/usr/local/lib/python3.8/idlelib/pathbrowser.py'...\n",
            "Compiling '/usr/local/lib/python3.8/idlelib/percolator.py'...\n",
            "Compiling '/usr/local/lib/python3.8/idlelib/pyparse.py'...\n",
            "Listing '/usr/local/lib/python3.8/test/tracedmodules'...\n",
            "Listing '/usr/local/lib/python3.8/test/xmltestdata'...\n",
            "Listing '/usr/local/lib/python3.8/test/xmltestdata/c14n-20'...\n",
            "Compiling '/usr/local/lib/python3.8/idlelib/pyshell.py'...\n",
            "Compiling '/usr/local/lib/python3.8/idlelib/query.py'...\n",
            "Compiling '/usr/local/lib/python3.8/idlelib/redirector.py'...\n",
            "Compiling '/usr/local/lib/python3.8/idlelib/replace.py'...\n",
            "Compiling '/usr/local/lib/python3.8/idlelib/rpc.py'...\n",
            "Compiling '/usr/local/lib/python3.8/idlelib/run.py'...\n",
            "Listing '/usr/local/lib/python3.8/test/ziptestdata'...\n",
            "Compiling '/usr/local/lib/python3.8/idlelib/runscript.py'...\n",
            "Compiling '/usr/local/lib/python3.8/idlelib/scrolledlist.py'...\n",
            "Listing '/usr/local/lib/python3.8/tkinter'...\n",
            "Listing '/usr/local/lib/python3.8/tkinter/test'...\n",
            "Listing '/usr/local/lib/python3.8/tkinter/test/test_tkinter'...\n",
            "Compiling '/usr/local/lib/python3.8/idlelib/search.py'...\n",
            "Listing '/usr/local/lib/python3.8/tkinter/test/test_ttk'...\n",
            "Compiling '/usr/local/lib/python3.8/idlelib/searchbase.py'...\n",
            "Listing '/usr/local/lib/python3.8/turtledemo'...\n",
            "Compiling '/usr/local/lib/python3.8/idlelib/searchengine.py'...\n",
            "Compiling '/usr/local/lib/python3.8/idlelib/sidebar.py'...\n",
            "Listing '/usr/local/lib/python3.8/unittest'...\n",
            "Listing '/usr/local/lib/python3.8/unittest/test'...\n",
            "Listing '/usr/local/lib/python3.8/unittest/test/testmock'...\n",
            "Listing '/usr/local/lib/python3.8/urllib'...\n",
            "Listing '/usr/local/lib/python3.8/venv'...\n",
            "Compiling '/usr/local/lib/python3.8/idlelib/squeezer.py'...\n",
            "Compiling '/usr/local/lib/python3.8/idlelib/stackviewer.py'...\n",
            "Compiling '/usr/local/lib/python3.8/idlelib/statusbar.py'...\n",
            "Compiling '/usr/local/lib/python3.8/idlelib/textview.py'...\n",
            "Compiling '/usr/local/lib/python3.8/idlelib/tooltip.py'...\n",
            "Compiling '/usr/local/lib/python3.8/idlelib/window.py'...\n",
            "Compiling '/usr/local/lib/python3.8/idlelib/zoomheight.py'...\n",
            "Compiling '/usr/local/lib/python3.8/idlelib/tree.py'...\n",
            "Compiling '/usr/local/lib/python3.8/idlelib/undo.py'...\n",
            "Compiling '/usr/local/lib/python3.8/idlelib/zzdummy.py'...\n",
            "Compiling '/usr/local/lib/python3.8/imaplib.py'...\n",
            "Compiling '/usr/local/lib/python3.8/imghdr.py'...\n",
            "Compiling '/usr/local/lib/python3.8/imp.py'...\n",
            "Compiling '/usr/local/lib/python3.8/importlib/__init__.py'...\n",
            "Compiling '/usr/local/lib/python3.8/importlib/_bootstrap.py'...\n",
            "Compiling '/usr/local/lib/python3.8/importlib/_bootstrap_external.py'...\n",
            "Compiling '/usr/local/lib/python3.8/importlib/abc.py'...\n",
            "Compiling '/usr/local/lib/python3.8/importlib/machinery.py'...\n",
            "Compiling '/usr/local/lib/python3.8/importlib/metadata.py'...\n",
            "Compiling '/usr/local/lib/python3.8/importlib/resources.py'...\n",
            "Compiling '/usr/local/lib/python3.8/importlib/util.py'...\n",
            "Listing '/usr/local/lib/python3.8/venv/scripts'...\n",
            "Listing '/usr/local/lib/python3.8/venv/scripts/common'...\n",
            "Listing '/usr/local/lib/python3.8/venv/scripts/posix'...\n",
            "Listing '/usr/local/lib/python3.8/wsgiref'...\n",
            "Listing '/usr/local/lib/python3.8/xml'...\n",
            "Compiling '/usr/local/lib/python3.8/inspect.py'...\n",
            "Listing '/usr/local/lib/python3.8/xml/dom'...\n",
            "Compiling '/usr/local/lib/python3.8/io.py'...\n",
            "Listing '/usr/local/lib/python3.8/xml/etree'...\n",
            "Listing '/usr/local/lib/python3.8/xml/parsers'...\n",
            "Listing '/usr/local/lib/python3.8/xml/sax'...\n",
            "Compiling '/usr/local/lib/python3.8/ipaddress.py'...\n",
            "Compiling '/usr/local/lib/python3.8/json/__init__.py'...\n",
            "Listing '/usr/local/lib/python3.8/xmlrpc'...\n",
            "Compiling '/usr/local/lib/python3.8/json/decoder.py'...\n",
            "Compiling '/usr/local/lib/python3.8/json/encoder.py'...\n",
            "Compiling '/usr/local/lib/python3.8/json/scanner.py'...\n",
            "Compiling '/usr/local/lib/python3.8/json/tool.py'...\n",
            "Compiling '/usr/local/lib/python3.8/keyword.py'...\n",
            "Compiling '/usr/local/lib/python3.8/lib2to3/__init__.py'...\n",
            "Compiling '/usr/local/lib/python3.8/lib2to3/__main__.py'...\n",
            "Compiling '/usr/local/lib/python3.8/lib2to3/btm_matcher.py'...\n",
            "Compiling '/usr/local/lib/python3.8/lib2to3/btm_utils.py'...\n",
            "Compiling '/usr/local/lib/python3.8/lib2to3/fixer_util.py'...\n",
            "Compiling '/usr/local/lib/python3.8/lib2to3/fixer_base.py'...\n",
            "Compiling '/usr/local/lib/python3.8/lib2to3/fixes/__init__.py'...\n",
            "Compiling '/usr/local/lib/python3.8/lib2to3/fixes/fix_apply.py'...\n",
            "Compiling '/usr/local/lib/python3.8/lib2to3/fixes/fix_asserts.py'...\n",
            "Compiling '/usr/local/lib/python3.8/lib2to3/fixes/fix_basestring.py'...\n",
            "Compiling '/usr/local/lib/python3.8/lib2to3/fixes/fix_buffer.py'...\n",
            "Compiling '/usr/local/lib/python3.8/lib2to3/fixes/fix_dict.py'...\n",
            "Compiling '/usr/local/lib/python3.8/lib2to3/fixes/fix_except.py'...\n",
            "Compiling '/usr/local/lib/python3.8/lib2to3/fixes/fix_exec.py'...\n",
            "Compiling '/usr/local/lib/python3.8/lib2to3/fixes/fix_execfile.py'...\n",
            "Compiling '/usr/local/lib/python3.8/lib2to3/fixes/fix_exitfunc.py'...\n",
            "Compiling '/usr/local/lib/python3.8/lib2to3/fixes/fix_filter.py'...\n",
            "Compiling '/usr/local/lib/python3.8/lib2to3/fixes/fix_funcattrs.py'...\n",
            "Compiling '/usr/local/lib/python3.8/lib2to3/fixes/fix_future.py'...\n",
            "Compiling '/usr/local/lib/python3.8/lib2to3/fixes/fix_getcwdu.py'...\n",
            "Compiling '/usr/local/lib/python3.8/lib2to3/fixes/fix_has_key.py'...\n",
            "Compiling '/usr/local/lib/python3.8/lib2to3/fixes/fix_idioms.py'...\n",
            "Compiling '/usr/local/lib/python3.8/lib2to3/fixes/fix_import.py'...\n",
            "Compiling '/usr/local/lib/python3.8/lib2to3/fixes/fix_imports.py'...\n",
            "Compiling '/usr/local/lib/python3.8/lib2to3/fixes/fix_imports2.py'...\n",
            "Compiling '/usr/local/lib/python3.8/lib2to3/fixes/fix_input.py'...\n",
            "Compiling '/usr/local/lib/python3.8/lib2to3/fixes/fix_isinstance.py'...\n",
            "Compiling '/usr/local/lib/python3.8/lib2to3/fixes/fix_itertools.py'...\n",
            "Compiling '/usr/local/lib/python3.8/lib2to3/fixes/fix_itertools_imports.py'...\n",
            "Compiling '/usr/local/lib/python3.8/lib2to3/fixes/fix_intern.py'...\n",
            "Compiling '/usr/local/lib/python3.8/lib2to3/fixes/fix_long.py'...\n",
            "Compiling '/usr/local/lib/python3.8/lib2to3/fixes/fix_map.py'...\n",
            "Compiling '/usr/local/lib/python3.8/lib2to3/fixes/fix_metaclass.py'...\n",
            "Compiling '/usr/local/lib/python3.8/lib2to3/fixes/fix_methodattrs.py'...\n",
            "Compiling '/usr/local/lib/python3.8/lib2to3/fixes/fix_ne.py'...\n",
            "Compiling '/usr/local/lib/python3.8/lib2to3/fixes/fix_next.py'...\n",
            "Compiling '/usr/local/lib/python3.8/lib2to3/fixes/fix_nonzero.py'...\n",
            "Compiling '/usr/local/lib/python3.8/lib2to3/fixes/fix_numliterals.py'...\n",
            "Compiling '/usr/local/lib/python3.8/lib2to3/fixes/fix_operator.py'...\n",
            "Compiling '/usr/local/lib/python3.8/lib2to3/fixes/fix_paren.py'...\n",
            "Compiling '/usr/local/lib/python3.8/lib2to3/fixes/fix_print.py'...\n",
            "Compiling '/usr/local/lib/python3.8/lib2to3/fixes/fix_raise.py'...\n",
            "Compiling '/usr/local/lib/python3.8/lib2to3/fixes/fix_raw_input.py'...\n",
            "Compiling '/usr/local/lib/python3.8/lib2to3/fixes/fix_reduce.py'...\n",
            "Compiling '/usr/local/lib/python3.8/lib2to3/fixes/fix_reload.py'...\n",
            "Compiling '/usr/local/lib/python3.8/lib2to3/fixes/fix_renames.py'...\n",
            "Compiling '/usr/local/lib/python3.8/lib2to3/fixes/fix_repr.py'...\n",
            "Compiling '/usr/local/lib/python3.8/lib2to3/fixes/fix_set_literal.py'...\n",
            "Compiling '/usr/local/lib/python3.8/lib2to3/fixes/fix_standarderror.py'...\n",
            "Compiling '/usr/local/lib/python3.8/lib2to3/fixes/fix_sys_exc.py'...\n",
            "Compiling '/usr/local/lib/python3.8/lib2to3/fixes/fix_throw.py'...\n",
            "Compiling '/usr/local/lib/python3.8/lib2to3/fixes/fix_tuple_params.py'...\n",
            "Compiling '/usr/local/lib/python3.8/lib2to3/fixes/fix_unicode.py'...\n",
            "Compiling '/usr/local/lib/python3.8/lib2to3/fixes/fix_types.py'...\n",
            "Compiling '/usr/local/lib/python3.8/lib2to3/fixes/fix_urllib.py'...\n",
            "Compiling '/usr/local/lib/python3.8/lib2to3/fixes/fix_ws_comma.py'...\n",
            "Compiling '/usr/local/lib/python3.8/lib2to3/fixes/fix_xrange.py'...\n",
            "Compiling '/usr/local/lib/python3.8/lib2to3/fixes/fix_xreadlines.py'...\n",
            "Compiling '/usr/local/lib/python3.8/lib2to3/fixes/fix_zip.py'...\n",
            "Compiling '/usr/local/lib/python3.8/lib2to3/main.py'...\n",
            "Compiling '/usr/local/lib/python3.8/lib2to3/patcomp.py'...\n",
            "Compiling '/usr/local/lib/python3.8/lib2to3/pgen2/__init__.py'...\n",
            "Compiling '/usr/local/lib/python3.8/lib2to3/pgen2/conv.py'...\n",
            "Compiling '/usr/local/lib/python3.8/lib2to3/pgen2/driver.py'...\n",
            "Compiling '/usr/local/lib/python3.8/lib2to3/pgen2/grammar.py'...\n",
            "Compiling '/usr/local/lib/python3.8/lib2to3/pgen2/literals.py'...\n",
            "Compiling '/usr/local/lib/python3.8/lib2to3/pgen2/parse.py'...\n",
            "Compiling '/usr/local/lib/python3.8/lib2to3/pgen2/pgen.py'...\n",
            "Compiling '/usr/local/lib/python3.8/lib2to3/pgen2/token.py'...\n",
            "Compiling '/usr/local/lib/python3.8/lib2to3/pgen2/tokenize.py'...\n",
            "Compiling '/usr/local/lib/python3.8/lib2to3/pygram.py'...\n",
            "Compiling '/usr/local/lib/python3.8/lib2to3/pytree.py'...\n",
            "Compiling '/usr/local/lib/python3.8/lib2to3/refactor.py'...\n",
            "Compiling '/usr/local/lib/python3.8/lib2to3/tests/__init__.py'...\n",
            "Compiling '/usr/local/lib/python3.8/lib2to3/tests/__main__.py'...\n",
            "Compiling '/usr/local/lib/python3.8/lib2to3/tests/pytree_idempotency.py'...\n",
            "Compiling '/usr/local/lib/python3.8/lib2to3/tests/support.py'...\n",
            "Compiling '/usr/local/lib/python3.8/lib2to3/tests/test_all_fixers.py'...\n",
            "Compiling '/usr/local/lib/python3.8/lib2to3/tests/test_fixers.py'...\n",
            "Compiling '/usr/local/lib/python3.8/lib2to3/tests/test_main.py'...\n",
            "Compiling '/usr/local/lib/python3.8/lib2to3/tests/test_parser.py'...\n",
            "Compiling '/usr/local/lib/python3.8/lib2to3/tests/test_pytree.py'...\n",
            "Compiling '/usr/local/lib/python3.8/lib2to3/tests/test_refactor.py'...\n",
            "Compiling '/usr/local/lib/python3.8/lib2to3/tests/test_util.py'...\n",
            "Compiling '/usr/local/lib/python3.8/linecache.py'...\n",
            "Compiling '/usr/local/lib/python3.8/locale.py'...\n",
            "Compiling '/usr/local/lib/python3.8/logging/__init__.py'...\n",
            "Compiling '/usr/local/lib/python3.8/logging/config.py'...\n",
            "Compiling '/usr/local/lib/python3.8/logging/handlers.py'...\n",
            "Compiling '/usr/local/lib/python3.8/lzma.py'...\n",
            "Compiling '/usr/local/lib/python3.8/mailbox.py'...\n",
            "Compiling '/usr/local/lib/python3.8/mailcap.py'...\n",
            "Compiling '/usr/local/lib/python3.8/mimetypes.py'...\n",
            "Compiling '/usr/local/lib/python3.8/modulefinder.py'...\n",
            "Compiling '/usr/local/lib/python3.8/multiprocessing/__init__.py'...\n",
            "Compiling '/usr/local/lib/python3.8/multiprocessing/connection.py'...\n",
            "Compiling '/usr/local/lib/python3.8/multiprocessing/context.py'...\n",
            "Compiling '/usr/local/lib/python3.8/multiprocessing/dummy/__init__.py'...\n",
            "Compiling '/usr/local/lib/python3.8/multiprocessing/dummy/connection.py'...\n",
            "Compiling '/usr/local/lib/python3.8/multiprocessing/forkserver.py'...\n",
            "Compiling '/usr/local/lib/python3.8/multiprocessing/heap.py'...\n",
            "Compiling '/usr/local/lib/python3.8/multiprocessing/managers.py'...\n",
            "Compiling '/usr/local/lib/python3.8/multiprocessing/pool.py'...\n",
            "Compiling '/usr/local/lib/python3.8/multiprocessing/popen_fork.py'...\n",
            "Compiling '/usr/local/lib/python3.8/multiprocessing/popen_forkserver.py'...\n",
            "Compiling '/usr/local/lib/python3.8/multiprocessing/popen_spawn_win32.py'...\n",
            "Compiling '/usr/local/lib/python3.8/multiprocessing/process.py'...\n",
            "Compiling '/usr/local/lib/python3.8/multiprocessing/queues.py'...\n",
            "Compiling '/usr/local/lib/python3.8/multiprocessing/popen_spawn_posix.py'...\n",
            "Compiling '/usr/local/lib/python3.8/multiprocessing/reduction.py'...\n",
            "Compiling '/usr/local/lib/python3.8/multiprocessing/resource_sharer.py'...\n",
            "Compiling '/usr/local/lib/python3.8/multiprocessing/resource_tracker.py'...\n",
            "Compiling '/usr/local/lib/python3.8/multiprocessing/shared_memory.py'...\n",
            "Compiling '/usr/local/lib/python3.8/multiprocessing/sharedctypes.py'...\n",
            "Compiling '/usr/local/lib/python3.8/multiprocessing/spawn.py'...\n",
            "Compiling '/usr/local/lib/python3.8/multiprocessing/util.py'...\n",
            "Compiling '/usr/local/lib/python3.8/multiprocessing/synchronize.py'...\n",
            "Compiling '/usr/local/lib/python3.8/netrc.py'...\n",
            "Compiling '/usr/local/lib/python3.8/nntplib.py'...\n",
            "Compiling '/usr/local/lib/python3.8/ntpath.py'...\n",
            "Compiling '/usr/local/lib/python3.8/nturl2path.py'...\n",
            "Compiling '/usr/local/lib/python3.8/numbers.py'...\n",
            "Compiling '/usr/local/lib/python3.8/opcode.py'...\n",
            "Compiling '/usr/local/lib/python3.8/operator.py'...\n",
            "Compiling '/usr/local/lib/python3.8/optparse.py'...\n",
            "Compiling '/usr/local/lib/python3.8/os.py'...\n",
            "Compiling '/usr/local/lib/python3.8/pathlib.py'...\n",
            "Compiling '/usr/local/lib/python3.8/pdb.py'...\n",
            "Compiling '/usr/local/lib/python3.8/pickle.py'...\n",
            "Compiling '/usr/local/lib/python3.8/pickletools.py'...\n",
            "Compiling '/usr/local/lib/python3.8/pipes.py'...\n",
            "Compiling '/usr/local/lib/python3.8/pkgutil.py'...\n",
            "Compiling '/usr/local/lib/python3.8/platform.py'...\n",
            "Compiling '/usr/local/lib/python3.8/plistlib.py'...\n",
            "Compiling '/usr/local/lib/python3.8/poplib.py'...\n",
            "Compiling '/usr/local/lib/python3.8/posixpath.py'...\n",
            "Compiling '/usr/local/lib/python3.8/pprint.py'...\n",
            "Compiling '/usr/local/lib/python3.8/profile.py'...\n",
            "Compiling '/usr/local/lib/python3.8/pstats.py'...\n",
            "Compiling '/usr/local/lib/python3.8/pty.py'...\n",
            "Compiling '/usr/local/lib/python3.8/py_compile.py'...\n",
            "Compiling '/usr/local/lib/python3.8/pyclbr.py'...\n",
            "Compiling '/usr/local/lib/python3.8/pydoc.py'...\n",
            "Compiling '/usr/local/lib/python3.8/pydoc_data/__init__.py'...\n",
            "Compiling '/usr/local/lib/python3.8/pydoc_data/topics.py'...\n",
            "Compiling '/usr/local/lib/python3.8/queue.py'...\n",
            "Compiling '/usr/local/lib/python3.8/quopri.py'...\n",
            "Compiling '/usr/local/lib/python3.8/random.py'...\n",
            "Compiling '/usr/local/lib/python3.8/reprlib.py'...\n",
            "Compiling '/usr/local/lib/python3.8/re.py'...\n",
            "Compiling '/usr/local/lib/python3.8/rlcompleter.py'...\n",
            "Compiling '/usr/local/lib/python3.8/runpy.py'...\n",
            "Compiling '/usr/local/lib/python3.8/sched.py'...\n",
            "Compiling '/usr/local/lib/python3.8/secrets.py'...\n",
            "Compiling '/usr/local/lib/python3.8/shelve.py'...\n",
            "Compiling '/usr/local/lib/python3.8/selectors.py'...\n",
            "Compiling '/usr/local/lib/python3.8/shlex.py'...\n",
            "Compiling '/usr/local/lib/python3.8/shutil.py'...\n",
            "Compiling '/usr/local/lib/python3.8/signal.py'...\n",
            "Compiling '/usr/local/lib/python3.8/site.py'...\n",
            "Compiling '/usr/local/lib/python3.8/smtpd.py'...\n",
            "Compiling '/usr/local/lib/python3.8/sndhdr.py'...\n",
            "Compiling '/usr/local/lib/python3.8/smtplib.py'...\n",
            "Compiling '/usr/local/lib/python3.8/socket.py'...\n",
            "Compiling '/usr/local/lib/python3.8/socketserver.py'...\n",
            "Compiling '/usr/local/lib/python3.8/sqlite3/__init__.py'...\n",
            "Compiling '/usr/local/lib/python3.8/sqlite3/dbapi2.py'...\n",
            "Compiling '/usr/local/lib/python3.8/sqlite3/dump.py'...\n",
            "Compiling '/usr/local/lib/python3.8/sqlite3/test/__init__.py'...\n",
            "Compiling '/usr/local/lib/python3.8/sqlite3/test/backup.py'...\n",
            "Compiling '/usr/local/lib/python3.8/sqlite3/test/dbapi.py'...\n",
            "Compiling '/usr/local/lib/python3.8/sqlite3/test/dump.py'...\n",
            "Compiling '/usr/local/lib/python3.8/sqlite3/test/factory.py'...\n",
            "Compiling '/usr/local/lib/python3.8/sqlite3/test/hooks.py'...\n",
            "Compiling '/usr/local/lib/python3.8/sqlite3/test/regression.py'...\n",
            "Compiling '/usr/local/lib/python3.8/sqlite3/test/transactions.py'...\n",
            "Compiling '/usr/local/lib/python3.8/sqlite3/test/userfunctions.py'...\n",
            "Compiling '/usr/local/lib/python3.8/sqlite3/test/types.py'...\n",
            "Compiling '/usr/local/lib/python3.8/sre_compile.py'...\n",
            "Compiling '/usr/local/lib/python3.8/sre_constants.py'...\n",
            "Compiling '/usr/local/lib/python3.8/sre_parse.py'...\n",
            "Compiling '/usr/local/lib/python3.8/ssl.py'...\n",
            "Compiling '/usr/local/lib/python3.8/stat.py'...\n",
            "Compiling '/usr/local/lib/python3.8/statistics.py'...\n",
            "Compiling '/usr/local/lib/python3.8/string.py'...\n",
            "Compiling '/usr/local/lib/python3.8/stringprep.py'...\n",
            "Compiling '/usr/local/lib/python3.8/struct.py'...\n",
            "Compiling '/usr/local/lib/python3.8/subprocess.py'...\n",
            "Compiling '/usr/local/lib/python3.8/sunau.py'...\n",
            "Compiling '/usr/local/lib/python3.8/symbol.py'...\n",
            "Compiling '/usr/local/lib/python3.8/symtable.py'...\n",
            "Compiling '/usr/local/lib/python3.8/tabnanny.py'...\n",
            "Compiling '/usr/local/lib/python3.8/sysconfig.py'...\n",
            "Compiling '/usr/local/lib/python3.8/tarfile.py'...\n",
            "Compiling '/usr/local/lib/python3.8/telnetlib.py'...\n",
            "Compiling '/usr/local/lib/python3.8/tempfile.py'...\n",
            "Compiling '/usr/local/lib/python3.8/test/__init__.py'...\n",
            "Compiling '/usr/local/lib/python3.8/test/__main__.py'...\n",
            "Compiling '/usr/local/lib/python3.8/test/_test_multiprocessing.py'...\n",
            "Compiling '/usr/local/lib/python3.8/test/ann_module.py'...\n",
            "Compiling '/usr/local/lib/python3.8/test/ann_module2.py'...\n",
            "Compiling '/usr/local/lib/python3.8/test/ann_module3.py'...\n",
            "Compiling '/usr/local/lib/python3.8/test/audiotests.py'...\n",
            "Compiling '/usr/local/lib/python3.8/test/audit-tests.py'...\n",
            "Compiling '/usr/local/lib/python3.8/test/autotest.py'...\n",
            "Compiling '/usr/local/lib/python3.8/test/bad_getattr.py'...\n",
            "Compiling '/usr/local/lib/python3.8/test/bad_getattr2.py'...\n",
            "Compiling '/usr/local/lib/python3.8/test/bad_getattr3.py'...\n",
            "Compiling '/usr/local/lib/python3.8/test/bisect_cmd.py'...\n",
            "Compiling '/usr/local/lib/python3.8/test/bytecode_helper.py'...\n",
            "Compiling '/usr/local/lib/python3.8/test/coding20731.py'...\n",
            "Compiling '/usr/local/lib/python3.8/test/curses_tests.py'...\n",
            "Compiling '/usr/local/lib/python3.8/test/dataclass_module_1.py'...\n",
            "Compiling '/usr/local/lib/python3.8/test/dataclass_module_1_str.py'...\n",
            "Compiling '/usr/local/lib/python3.8/test/dataclass_module_2.py'...\n",
            "Compiling '/usr/local/lib/python3.8/test/dataclass_module_2_str.py'...\n",
            "Compiling '/usr/local/lib/python3.8/test/dataclass_textanno.py'...\n",
            "Compiling '/usr/local/lib/python3.8/test/datetimetester.py'...\n",
            "Compiling '/usr/local/lib/python3.8/test/dis_module.py'...\n",
            "Compiling '/usr/local/lib/python3.8/test/doctest_aliases.py'...\n",
            "Compiling '/usr/local/lib/python3.8/test/double_const.py'...\n",
            "Compiling '/usr/local/lib/python3.8/test/dtracedata/call_stack.py'...\n",
            "Compiling '/usr/local/lib/python3.8/test/dtracedata/gc.py'...\n",
            "Compiling '/usr/local/lib/python3.8/test/dtracedata/instance.py'...\n",
            "Compiling '/usr/local/lib/python3.8/test/dtracedata/line.py'...\n",
            "Compiling '/usr/local/lib/python3.8/test/eintrdata/eintr_tester.py'...\n",
            "Compiling '/usr/local/lib/python3.8/test/encoded_modules/__init__.py'...\n",
            "Compiling '/usr/local/lib/python3.8/test/encoded_modules/module_iso_8859_1.py'...\n",
            "Compiling '/usr/local/lib/python3.8/test/encoded_modules/module_koi8_r.py'...\n",
            "Compiling '/usr/local/lib/python3.8/test/final_a.py'...\n",
            "Compiling '/usr/local/lib/python3.8/test/final_b.py'...\n",
            "Compiling '/usr/local/lib/python3.8/test/fork_wait.py'...\n",
            "Compiling '/usr/local/lib/python3.8/test/future_test1.py'...\n",
            "Compiling '/usr/local/lib/python3.8/test/future_test2.py'...\n",
            "Compiling '/usr/local/lib/python3.8/test/gdb_sample.py'...\n",
            "Compiling '/usr/local/lib/python3.8/test/good_getattr.py'...\n",
            "Compiling '/usr/local/lib/python3.8/test/imp_dummy.py'...\n",
            "Compiling '/usr/local/lib/python3.8/test/inspect_fodder.py'...\n",
            "Compiling '/usr/local/lib/python3.8/test/inspect_fodder2.py'...\n",
            "Compiling '/usr/local/lib/python3.8/test/libregrtest/__init__.py'...\n",
            "Compiling '/usr/local/lib/python3.8/test/libregrtest/cmdline.py'...\n",
            "Compiling '/usr/local/lib/python3.8/test/libregrtest/main.py'...\n",
            "Compiling '/usr/local/lib/python3.8/test/libregrtest/pgo.py'...\n",
            "Compiling '/usr/local/lib/python3.8/test/libregrtest/refleak.py'...\n",
            "Compiling '/usr/local/lib/python3.8/test/libregrtest/runtest.py'...\n",
            "Compiling '/usr/local/lib/python3.8/test/libregrtest/runtest_mp.py'...\n",
            "Compiling '/usr/local/lib/python3.8/test/libregrtest/save_env.py'...\n",
            "Compiling '/usr/local/lib/python3.8/test/libregrtest/setup.py'...\n",
            "Compiling '/usr/local/lib/python3.8/test/libregrtest/utils.py'...\n",
            "Compiling '/usr/local/lib/python3.8/test/libregrtest/win_utils.py'...\n",
            "Compiling '/usr/local/lib/python3.8/test/list_tests.py'...\n",
            "Compiling '/usr/local/lib/python3.8/test/lock_tests.py'...\n",
            "Compiling '/usr/local/lib/python3.8/test/make_ssl_certs.py'...\n",
            "Compiling '/usr/local/lib/python3.8/test/mapping_tests.py'...\n",
            "Compiling '/usr/local/lib/python3.8/test/memory_watchdog.py'...\n",
            "Compiling '/usr/local/lib/python3.8/test/mock_socket.py'...\n",
            "Compiling '/usr/local/lib/python3.8/test/mod_generics_cache.py'...\n",
            "Compiling '/usr/local/lib/python3.8/test/mp_fork_bomb.py'...\n",
            "Compiling '/usr/local/lib/python3.8/test/mp_preload.py'...\n",
            "Compiling '/usr/local/lib/python3.8/test/multibytecodec_support.py'...\n",
            "Compiling '/usr/local/lib/python3.8/test/outstanding_bugs.py'...\n",
            "Compiling '/usr/local/lib/python3.8/test/pickletester.py'...\n",
            "Compiling '/usr/local/lib/python3.8/test/profilee.py'...\n",
            "Compiling '/usr/local/lib/python3.8/test/pyclbr_input.py'...\n",
            "Compiling '/usr/local/lib/python3.8/test/pydoc_mod.py'...\n",
            "Compiling '/usr/local/lib/python3.8/test/pydocfodder.py'...\n",
            "Compiling '/usr/local/lib/python3.8/test/pythoninfo.py'...\n",
            "Compiling '/usr/local/lib/python3.8/test/re_tests.py'...\n",
            "Compiling '/usr/local/lib/python3.8/test/regrtest.py'...\n",
            "Compiling '/usr/local/lib/python3.8/test/relimport.py'...\n",
            "Compiling '/usr/local/lib/python3.8/test/reperf.py'...\n",
            "Compiling '/usr/local/lib/python3.8/test/sample_doctest.py'...\n",
            "Compiling '/usr/local/lib/python3.8/test/sample_doctest_no_docstrings.py'...\n",
            "Compiling '/usr/local/lib/python3.8/test/sample_doctest_no_doctests.py'...\n",
            "Compiling '/usr/local/lib/python3.8/test/seq_tests.py'...\n",
            "Compiling '/usr/local/lib/python3.8/test/signalinterproctester.py'...\n",
            "Compiling '/usr/local/lib/python3.8/test/sortperf.py'...\n",
            "Compiling '/usr/local/lib/python3.8/test/ssl_servers.py'...\n",
            "Compiling '/usr/local/lib/python3.8/test/ssltests.py'...\n",
            "Compiling '/usr/local/lib/python3.8/test/subprocessdata/fd_status.py'...\n",
            "Compiling '/usr/local/lib/python3.8/test/string_tests.py'...\n",
            "Compiling '/usr/local/lib/python3.8/test/subprocessdata/input_reader.py'...\n",
            "Compiling '/usr/local/lib/python3.8/test/subprocessdata/qcat.py'...\n",
            "Compiling '/usr/local/lib/python3.8/test/subprocessdata/qgrep.py'...\n",
            "Compiling '/usr/local/lib/python3.8/test/subprocessdata/sigchild_ignore.py'...\n",
            "Compiling '/usr/local/lib/python3.8/test/support/__init__.py'...\n",
            "Compiling '/usr/local/lib/python3.8/test/support/script_helper.py'...\n",
            "Compiling '/usr/local/lib/python3.8/test/support/testresult.py'...\n",
            "Compiling '/usr/local/lib/python3.8/test/test___all__.py'...\n",
            "Compiling '/usr/local/lib/python3.8/test/test___future__.py'...\n",
            "Compiling '/usr/local/lib/python3.8/test/test__locale.py'...\n",
            "Compiling '/usr/local/lib/python3.8/test/test__opcode.py'...\n",
            "Compiling '/usr/local/lib/python3.8/test/test__osx_support.py'...\n",
            "Compiling '/usr/local/lib/python3.8/test/test__xxsubinterpreters.py'...\n",
            "Compiling '/usr/local/lib/python3.8/test/test_abc.py'...\n",
            "Compiling '/usr/local/lib/python3.8/test/test_abstract_numbers.py'...\n",
            "Compiling '/usr/local/lib/python3.8/test/test_aifc.py'...\n",
            "Compiling '/usr/local/lib/python3.8/test/test_argparse.py'...\n",
            "Compiling '/usr/local/lib/python3.8/test/test_array.py'...\n",
            "Compiling '/usr/local/lib/python3.8/test/test_asdl_parser.py'...\n",
            "Compiling '/usr/local/lib/python3.8/test/test_ast.py'...\n",
            "Compiling '/usr/local/lib/python3.8/test/test_asyncgen.py'...\n",
            "Compiling '/usr/local/lib/python3.8/test/test_asynchat.py'...\n",
            "Compiling '/usr/local/lib/python3.8/test/test_asyncio/__init__.py'...\n",
            "Compiling '/usr/local/lib/python3.8/test/test_asyncio/__main__.py'...\n",
            "Compiling '/usr/local/lib/python3.8/test/test_asyncio/echo.py'...\n",
            "Compiling '/usr/local/lib/python3.8/test/test_asyncio/echo2.py'...\n",
            "Compiling '/usr/local/lib/python3.8/test/test_asyncio/echo3.py'...\n",
            "Compiling '/usr/local/lib/python3.8/test/test_asyncio/functional.py'...\n",
            "Compiling '/usr/local/lib/python3.8/test/test_asyncio/test_base_events.py'...\n",
            "Compiling '/usr/local/lib/python3.8/test/test_asyncio/test_buffered_proto.py'...\n",
            "Compiling '/usr/local/lib/python3.8/test/test_asyncio/test_context.py'...\n",
            "Compiling '/usr/local/lib/python3.8/test/test_asyncio/test_events.py'...\n",
            "Compiling '/usr/local/lib/python3.8/test/test_asyncio/test_futures.py'...\n",
            "Compiling '/usr/local/lib/python3.8/test/test_asyncio/test_locks.py'...\n",
            "Compiling '/usr/local/lib/python3.8/test/test_asyncio/test_pep492.py'...\n",
            "Compiling '/usr/local/lib/python3.8/test/test_asyncio/test_proactor_events.py'...\n",
            "Compiling '/usr/local/lib/python3.8/test/test_asyncio/test_protocols.py'...\n",
            "Compiling '/usr/local/lib/python3.8/test/test_asyncio/test_queues.py'...\n",
            "Compiling '/usr/local/lib/python3.8/test/test_asyncio/test_runners.py'...\n",
            "Compiling '/usr/local/lib/python3.8/test/test_asyncio/test_selector_events.py'...\n",
            "Compiling '/usr/local/lib/python3.8/test/test_asyncio/test_sendfile.py'...\n",
            "Compiling '/usr/local/lib/python3.8/test/test_asyncio/test_server.py'...\n",
            "Compiling '/usr/local/lib/python3.8/test/test_asyncio/test_sock_lowlevel.py'...\n",
            "Compiling '/usr/local/lib/python3.8/test/test_asyncio/test_sslproto.py'...\n",
            "Compiling '/usr/local/lib/python3.8/test/test_asyncio/test_streams.py'...\n",
            "Compiling '/usr/local/lib/python3.8/test/test_asyncio/test_subprocess.py'...\n",
            "Compiling '/usr/local/lib/python3.8/test/test_asyncio/test_tasks.py'...\n",
            "Compiling '/usr/local/lib/python3.8/test/test_asyncio/test_transports.py'...\n",
            "Compiling '/usr/local/lib/python3.8/test/test_asyncio/test_unix_events.py'...\n",
            "Compiling '/usr/local/lib/python3.8/test/test_asyncio/test_windows_events.py'...\n",
            "Compiling '/usr/local/lib/python3.8/test/test_asyncio/test_windows_utils.py'...\n",
            "Compiling '/usr/local/lib/python3.8/test/test_asyncio/utils.py'...\n",
            "Compiling '/usr/local/lib/python3.8/test/test_asyncore.py'...\n",
            "Compiling '/usr/local/lib/python3.8/test/test_atexit.py'...\n",
            "Compiling '/usr/local/lib/python3.8/test/test_audioop.py'...\n",
            "Compiling '/usr/local/lib/python3.8/test/test_audit.py'...\n",
            "Compiling '/usr/local/lib/python3.8/test/test_augassign.py'...\n",
            "Compiling '/usr/local/lib/python3.8/test/test_baseexception.py'...\n",
            "Compiling '/usr/local/lib/python3.8/test/test_base64.py'...\n",
            "Compiling '/usr/local/lib/python3.8/test/test_bdb.py'...\n",
            "Compiling '/usr/local/lib/python3.8/test/test_bigaddrspace.py'...\n",
            "Compiling '/usr/local/lib/python3.8/test/test_bigmem.py'...\n",
            "Compiling '/usr/local/lib/python3.8/test/test_binascii.py'...\n",
            "Compiling '/usr/local/lib/python3.8/test/test_binhex.py'...\n",
            "Compiling '/usr/local/lib/python3.8/test/test_binop.py'...\n",
            "Compiling '/usr/local/lib/python3.8/test/test_bisect.py'...\n",
            "Compiling '/usr/local/lib/python3.8/test/test_bool.py'...\n",
            "Compiling '/usr/local/lib/python3.8/test/test_buffer.py'...\n",
            "Compiling '/usr/local/lib/python3.8/test/test_bufio.py'...\n",
            "Compiling '/usr/local/lib/python3.8/test/test_bytes.py'...\n",
            "Compiling '/usr/local/lib/python3.8/test/test_bz2.py'...\n",
            "Compiling '/usr/local/lib/python3.8/test/test_builtin.py'...\n",
            "Compiling '/usr/local/lib/python3.8/test/test_c_locale_coercion.py'...\n",
            "Compiling '/usr/local/lib/python3.8/test/test_calendar.py'...\n",
            "Compiling '/usr/local/lib/python3.8/test/test_call.py'...\n",
            "Compiling '/usr/local/lib/python3.8/test/test_capi.py'...\n",
            "Compiling '/usr/local/lib/python3.8/test/test_cgi.py'...\n",
            "Compiling '/usr/local/lib/python3.8/test/test_cgitb.py'...\n",
            "Compiling '/usr/local/lib/python3.8/test/test_charmapcodec.py'...\n",
            "Compiling '/usr/local/lib/python3.8/test/test_class.py'...\n",
            "Compiling '/usr/local/lib/python3.8/test/test_clinic.py'...\n",
            "Compiling '/usr/local/lib/python3.8/test/test_cmath.py'...\n",
            "Compiling '/usr/local/lib/python3.8/test/test_cmd.py'...\n",
            "Compiling '/usr/local/lib/python3.8/test/test_cmd_line.py'...\n",
            "Compiling '/usr/local/lib/python3.8/test/test_cmd_line_script.py'...\n",
            "Compiling '/usr/local/lib/python3.8/test/test_code.py'...\n",
            "Compiling '/usr/local/lib/python3.8/test/test_code_module.py'...\n",
            "Compiling '/usr/local/lib/python3.8/test/test_codeccallbacks.py'...\n",
            "Compiling '/usr/local/lib/python3.8/test/test_codecencodings_cn.py'...\n",
            "Compiling '/usr/local/lib/python3.8/test/test_codecencodings_hk.py'...\n",
            "Compiling '/usr/local/lib/python3.8/test/test_codecencodings_iso2022.py'...\n",
            "Compiling '/usr/local/lib/python3.8/test/test_codecencodings_jp.py'...\n",
            "Compiling '/usr/local/lib/python3.8/test/test_codecencodings_kr.py'...\n",
            "Compiling '/usr/local/lib/python3.8/test/test_codecencodings_tw.py'...\n",
            "Compiling '/usr/local/lib/python3.8/test/test_codecmaps_cn.py'...\n",
            "Compiling '/usr/local/lib/python3.8/test/test_codecmaps_hk.py'...\n",
            "Compiling '/usr/local/lib/python3.8/test/test_codecmaps_jp.py'...\n",
            "Compiling '/usr/local/lib/python3.8/test/test_codecmaps_kr.py'...\n",
            "Compiling '/usr/local/lib/python3.8/test/test_codecmaps_tw.py'...\n",
            "Compiling '/usr/local/lib/python3.8/test/test_codecs.py'...\n",
            "Compiling '/usr/local/lib/python3.8/test/test_codeop.py'...\n",
            "Compiling '/usr/local/lib/python3.8/test/test_collections.py'...\n",
            "Compiling '/usr/local/lib/python3.8/test/test_colorsys.py'...\n",
            "Compiling '/usr/local/lib/python3.8/test/test_compare.py'...\n",
            "Compiling '/usr/local/lib/python3.8/test/test_compile.py'...\n",
            "Compiling '/usr/local/lib/python3.8/test/test_compileall.py'...\n",
            "Compiling '/usr/local/lib/python3.8/test/test_complex.py'...\n",
            "Compiling '/usr/local/lib/python3.8/test/test_concurrent_futures.py'...\n",
            "Compiling '/usr/local/lib/python3.8/test/test_configparser.py'...\n",
            "Compiling '/usr/local/lib/python3.8/test/test_contains.py'...\n",
            "Compiling '/usr/local/lib/python3.8/test/test_context.py'...\n",
            "Compiling '/usr/local/lib/python3.8/test/test_contextlib.py'...\n",
            "Compiling '/usr/local/lib/python3.8/test/test_contextlib_async.py'...\n",
            "Compiling '/usr/local/lib/python3.8/test/test_copy.py'...\n",
            "Compiling '/usr/local/lib/python3.8/test/test_copyreg.py'...\n",
            "Compiling '/usr/local/lib/python3.8/test/test_coroutines.py'...\n",
            "Compiling '/usr/local/lib/python3.8/test/test_cprofile.py'...\n",
            "Compiling '/usr/local/lib/python3.8/test/test_crashers.py'...\n",
            "Compiling '/usr/local/lib/python3.8/test/test_crypt.py'...\n",
            "Compiling '/usr/local/lib/python3.8/test/test_csv.py'...\n",
            "Compiling '/usr/local/lib/python3.8/test/test_ctypes.py'...\n",
            "Compiling '/usr/local/lib/python3.8/test/test_curses.py'...\n",
            "Compiling '/usr/local/lib/python3.8/test/test_dataclasses.py'...\n",
            "Compiling '/usr/local/lib/python3.8/test/test_datetime.py'...\n",
            "Compiling '/usr/local/lib/python3.8/test/test_dbm.py'...\n",
            "Compiling '/usr/local/lib/python3.8/test/test_dbm_dumb.py'...\n",
            "Compiling '/usr/local/lib/python3.8/test/test_dbm_gnu.py'...\n",
            "Compiling '/usr/local/lib/python3.8/test/test_dbm_ndbm.py'...\n",
            "Compiling '/usr/local/lib/python3.8/test/test_decimal.py'...\n",
            "Compiling '/usr/local/lib/python3.8/test/test_decorators.py'...\n",
            "Compiling '/usr/local/lib/python3.8/test/test_defaultdict.py'...\n",
            "Compiling '/usr/local/lib/python3.8/test/test_deque.py'...\n",
            "Compiling '/usr/local/lib/python3.8/test/test_descr.py'...\n",
            "Compiling '/usr/local/lib/python3.8/test/test_descrtut.py'...\n",
            "Compiling '/usr/local/lib/python3.8/test/test_devpoll.py'...\n",
            "Compiling '/usr/local/lib/python3.8/test/test_dict.py'...\n",
            "Compiling '/usr/local/lib/python3.8/test/test_dict_version.py'...\n",
            "Compiling '/usr/local/lib/python3.8/test/test_dictcomps.py'...\n",
            "Compiling '/usr/local/lib/python3.8/test/test_dictviews.py'...\n",
            "Compiling '/usr/local/lib/python3.8/test/test_difflib.py'...\n",
            "Compiling '/usr/local/lib/python3.8/test/test_dis.py'...\n",
            "Compiling '/usr/local/lib/python3.8/test/test_distutils.py'...\n",
            "Compiling '/usr/local/lib/python3.8/test/test_doctest.py'...\n",
            "Compiling '/usr/local/lib/python3.8/test/test_docxmlrpc.py'...\n",
            "Compiling '/usr/local/lib/python3.8/test/test_doctest2.py'...\n",
            "Compiling '/usr/local/lib/python3.8/test/test_dtrace.py'...\n",
            "Compiling '/usr/local/lib/python3.8/test/test_dummy_thread.py'...\n",
            "Compiling '/usr/local/lib/python3.8/test/test_dummy_threading.py'...\n",
            "Compiling '/usr/local/lib/python3.8/test/test_dynamic.py'...\n",
            "Compiling '/usr/local/lib/python3.8/test/test_dynamicclassattribute.py'...\n",
            "Compiling '/usr/local/lib/python3.8/test/test_eintr.py'...\n",
            "Compiling '/usr/local/lib/python3.8/test/test_email/__init__.py'...\n",
            "Compiling '/usr/local/lib/python3.8/test/test_email/__main__.py'...\n",
            "Compiling '/usr/local/lib/python3.8/test/test_email/test__encoded_words.py'...\n",
            "Compiling '/usr/local/lib/python3.8/test/test_email/test__header_value_parser.py'...\n",
            "Compiling '/usr/local/lib/python3.8/test/test_email/test_asian_codecs.py'...\n",
            "Compiling '/usr/local/lib/python3.8/test/test_email/test_contentmanager.py'...\n",
            "Compiling '/usr/local/lib/python3.8/test/test_email/test_defect_handling.py'...\n",
            "Compiling '/usr/local/lib/python3.8/test/test_email/test_generator.py'...\n",
            "Compiling '/usr/local/lib/python3.8/test/test_email/test_email.py'...\n",
            "Compiling '/usr/local/lib/python3.8/test/test_email/test_headerregistry.py'...\n",
            "Compiling '/usr/local/lib/python3.8/test/test_email/test_inversion.py'...\n",
            "Compiling '/usr/local/lib/python3.8/test/test_email/test_message.py'...\n",
            "Compiling '/usr/local/lib/python3.8/test/test_email/test_parser.py'...\n",
            "Compiling '/usr/local/lib/python3.8/test/test_email/test_pickleable.py'...\n",
            "Compiling '/usr/local/lib/python3.8/test/test_email/test_policy.py'...\n",
            "Compiling '/usr/local/lib/python3.8/test/test_email/test_utils.py'...\n",
            "Compiling '/usr/local/lib/python3.8/test/test_email/torture_test.py'...\n",
            "Compiling '/usr/local/lib/python3.8/test/test_embed.py'...\n",
            "Compiling '/usr/local/lib/python3.8/test/test_ensurepip.py'...\n",
            "Compiling '/usr/local/lib/python3.8/test/test_enum.py'...\n",
            "Compiling '/usr/local/lib/python3.8/test/test_enumerate.py'...\n",
            "Compiling '/usr/local/lib/python3.8/test/test_eof.py'...\n",
            "Compiling '/usr/local/lib/python3.8/test/test_epoll.py'...\n",
            "Compiling '/usr/local/lib/python3.8/test/test_errno.py'...\n",
            "Compiling '/usr/local/lib/python3.8/test/test_exception_hierarchy.py'...\n",
            "Compiling '/usr/local/lib/python3.8/test/test_exception_variations.py'...\n",
            "Compiling '/usr/local/lib/python3.8/test/test_exceptions.py'...\n",
            "Compiling '/usr/local/lib/python3.8/test/test_extcall.py'...\n",
            "Compiling '/usr/local/lib/python3.8/test/test_faulthandler.py'...\n",
            "Compiling '/usr/local/lib/python3.8/test/test_fcntl.py'...\n",
            "Compiling '/usr/local/lib/python3.8/test/test_file.py'...\n",
            "Compiling '/usr/local/lib/python3.8/test/test_file_eintr.py'...\n",
            "Compiling '/usr/local/lib/python3.8/test/test_filecmp.py'...\n",
            "Compiling '/usr/local/lib/python3.8/test/test_fileinput.py'...\n",
            "Compiling '/usr/local/lib/python3.8/test/test_fileio.py'...\n",
            "Compiling '/usr/local/lib/python3.8/test/test_finalization.py'...\n",
            "Compiling '/usr/local/lib/python3.8/test/test_float.py'...\n",
            "Compiling '/usr/local/lib/python3.8/test/test_flufl.py'...\n",
            "Compiling '/usr/local/lib/python3.8/test/test_fnmatch.py'...\n",
            "Compiling '/usr/local/lib/python3.8/test/test_fork1.py'...\n",
            "Compiling '/usr/local/lib/python3.8/test/test_format.py'...\n",
            "Compiling '/usr/local/lib/python3.8/test/test_frame.py'...\n",
            "Compiling '/usr/local/lib/python3.8/test/test_frozen.py'...\n",
            "Compiling '/usr/local/lib/python3.8/test/test_fractions.py'...\n",
            "Compiling '/usr/local/lib/python3.8/test/test_fstring.py'...\n",
            "Compiling '/usr/local/lib/python3.8/test/test_ftplib.py'...\n",
            "Compiling '/usr/local/lib/python3.8/test/test_funcattrs.py'...\n",
            "Compiling '/usr/local/lib/python3.8/test/test_functools.py'...\n",
            "Compiling '/usr/local/lib/python3.8/test/test_future.py'...\n",
            "Compiling '/usr/local/lib/python3.8/test/test_future3.py'...\n",
            "Compiling '/usr/local/lib/python3.8/test/test_future4.py'...\n",
            "Compiling '/usr/local/lib/python3.8/test/test_future5.py'...\n",
            "Compiling '/usr/local/lib/python3.8/test/test_gdb.py'...\n",
            "Compiling '/usr/local/lib/python3.8/test/test_generator_stop.py'...\n",
            "Compiling '/usr/local/lib/python3.8/test/test_generators.py'...\n",
            "Compiling '/usr/local/lib/python3.8/test/test_genericpath.py'...\n",
            "Compiling '/usr/local/lib/python3.8/test/test_genericclass.py'...\n",
            "Compiling '/usr/local/lib/python3.8/test/test_genexps.py'...\n",
            "Compiling '/usr/local/lib/python3.8/test/test_getargs2.py'...\n",
            "Compiling '/usr/local/lib/python3.8/test/test_gc.py'...\n",
            "Compiling '/usr/local/lib/python3.8/test/test_getopt.py'...\n",
            "Compiling '/usr/local/lib/python3.8/test/test_getpass.py'...\n",
            "Compiling '/usr/local/lib/python3.8/test/test_gettext.py'...\n",
            "Compiling '/usr/local/lib/python3.8/test/test_glob.py'...\n",
            "Compiling '/usr/local/lib/python3.8/test/test_global.py'...\n",
            "Compiling '/usr/local/lib/python3.8/test/test_grammar.py'...\n",
            "Compiling '/usr/local/lib/python3.8/test/test_grp.py'...\n",
            "Compiling '/usr/local/lib/python3.8/test/test_gzip.py'...\n",
            "Compiling '/usr/local/lib/python3.8/test/test_hash.py'...\n",
            "Compiling '/usr/local/lib/python3.8/test/test_hashlib.py'...\n",
            "Compiling '/usr/local/lib/python3.8/test/test_heapq.py'...\n",
            "Compiling '/usr/local/lib/python3.8/test/test_hmac.py'...\n",
            "Compiling '/usr/local/lib/python3.8/test/test_html.py'...\n",
            "Compiling '/usr/local/lib/python3.8/test/test_htmlparser.py'...\n",
            "Compiling '/usr/local/lib/python3.8/test/test_http_cookies.py'...\n",
            "Compiling '/usr/local/lib/python3.8/test/test_http_cookiejar.py'...\n",
            "Compiling '/usr/local/lib/python3.8/test/test_httplib.py'...\n",
            "Compiling '/usr/local/lib/python3.8/test/test_httpservers.py'...\n",
            "Compiling '/usr/local/lib/python3.8/test/test_idle.py'...\n",
            "Compiling '/usr/local/lib/python3.8/test/test_imghdr.py'...\n",
            "Compiling '/usr/local/lib/python3.8/test/test_imaplib.py'...\n",
            "Compiling '/usr/local/lib/python3.8/test/test_imp.py'...\n",
            "Compiling '/usr/local/lib/python3.8/test/test_import/__init__.py'...\n",
            "Compiling '/usr/local/lib/python3.8/test/test_import/__main__.py'...\n",
            "Compiling '/usr/local/lib/python3.8/test/test_import/data/circular_imports/basic.py'...\n",
            "Compiling '/usr/local/lib/python3.8/test/test_import/data/circular_imports/basic2.py'...\n",
            "Compiling '/usr/local/lib/python3.8/test/test_import/data/circular_imports/binding.py'...\n",
            "Compiling '/usr/local/lib/python3.8/test/test_import/data/circular_imports/binding2.py'...\n",
            "Compiling '/usr/local/lib/python3.8/test/test_import/data/circular_imports/from_cycle1.py'...\n",
            "Compiling '/usr/local/lib/python3.8/test/test_import/data/circular_imports/from_cycle2.py'...\n",
            "Compiling '/usr/local/lib/python3.8/test/test_import/data/circular_imports/rebinding.py'...\n",
            "Compiling '/usr/local/lib/python3.8/test/test_import/data/circular_imports/indirect.py'...\n",
            "Compiling '/usr/local/lib/python3.8/test/test_import/data/circular_imports/rebinding2.py'...\n",
            "Compiling '/usr/local/lib/python3.8/test/test_import/data/circular_imports/source.py'...\n",
            "Compiling '/usr/local/lib/python3.8/test/test_import/data/circular_imports/subpackage.py'...\n",
            "Compiling '/usr/local/lib/python3.8/test/test_import/data/circular_imports/subpkg/subpackage2.py'...\n",
            "Compiling '/usr/local/lib/python3.8/test/test_import/data/circular_imports/subpkg/util.py'...\n",
            "Compiling '/usr/local/lib/python3.8/test/test_import/data/circular_imports/use.py'...\n",
            "Compiling '/usr/local/lib/python3.8/test/test_import/data/circular_imports/util.py'...\n",
            "Compiling '/usr/local/lib/python3.8/test/test_import/data/package/__init__.py'...\n",
            "Compiling '/usr/local/lib/python3.8/test/test_import/data/package/submodule.py'...\n",
            "Compiling '/usr/local/lib/python3.8/test/test_import/data/package2/submodule1.py'...\n",
            "Compiling '/usr/local/lib/python3.8/test/test_importlib/__init__.py'...\n",
            "Compiling '/usr/local/lib/python3.8/test/test_import/data/package2/submodule2.py'...\n",
            "Compiling '/usr/local/lib/python3.8/test/test_importlib/__main__.py'...\n",
            "Compiling '/usr/local/lib/python3.8/test/test_importlib/abc.py'...\n",
            "Compiling '/usr/local/lib/python3.8/test/test_importlib/builtin/__init__.py'...\n",
            "Compiling '/usr/local/lib/python3.8/test/test_importlib/builtin/__main__.py'...\n",
            "Compiling '/usr/local/lib/python3.8/test/test_importlib/builtin/test_finder.py'...\n",
            "Compiling '/usr/local/lib/python3.8/test/test_importlib/builtin/test_loader.py'...\n",
            "Compiling '/usr/local/lib/python3.8/test/test_importlib/data/__init__.py'...\n",
            "Compiling '/usr/local/lib/python3.8/test/test_importlib/data01/__init__.py'...\n",
            "Compiling '/usr/local/lib/python3.8/test/test_importlib/data01/subdirectory/__init__.py'...\n",
            "Compiling '/usr/local/lib/python3.8/test/test_importlib/data02/__init__.py'...\n",
            "Compiling '/usr/local/lib/python3.8/test/test_importlib/data02/one/__init__.py'...\n",
            "Compiling '/usr/local/lib/python3.8/test/test_importlib/data02/two/__init__.py'...\n",
            "Compiling '/usr/local/lib/python3.8/test/test_importlib/data03/__init__.py'...\n",
            "Compiling '/usr/local/lib/python3.8/test/test_importlib/data03/namespace/portion1/__init__.py'...\n",
            "Compiling '/usr/local/lib/python3.8/test/test_importlib/data03/namespace/portion2/__init__.py'...\n",
            "Compiling '/usr/local/lib/python3.8/test/test_importlib/extension/__init__.py'...\n",
            "Compiling '/usr/local/lib/python3.8/test/test_importlib/extension/__main__.py'...\n",
            "Compiling '/usr/local/lib/python3.8/test/test_importlib/extension/test_case_sensitivity.py'...\n",
            "Compiling '/usr/local/lib/python3.8/test/test_importlib/extension/test_finder.py'...\n",
            "Compiling '/usr/local/lib/python3.8/test/test_importlib/extension/test_loader.py'...\n",
            "Compiling '/usr/local/lib/python3.8/test/test_importlib/extension/test_path_hook.py'...\n",
            "Compiling '/usr/local/lib/python3.8/test/test_importlib/fixtures.py'...\n",
            "Compiling '/usr/local/lib/python3.8/test/test_importlib/frozen/__init__.py'...\n",
            "Compiling '/usr/local/lib/python3.8/test/test_importlib/frozen/__main__.py'...\n",
            "Compiling '/usr/local/lib/python3.8/test/test_importlib/frozen/test_finder.py'...\n",
            "Compiling '/usr/local/lib/python3.8/test/test_importlib/frozen/test_loader.py'...\n",
            "Compiling '/usr/local/lib/python3.8/test/test_importlib/import_/__init__.py'...\n",
            "Compiling '/usr/local/lib/python3.8/test/test_importlib/import_/__main__.py'...\n",
            "Compiling '/usr/local/lib/python3.8/test/test_importlib/import_/test___loader__.py'...\n",
            "Compiling '/usr/local/lib/python3.8/test/test_importlib/import_/test___package__.py'...\n",
            "Compiling '/usr/local/lib/python3.8/test/test_importlib/import_/test_api.py'...\n",
            "Compiling '/usr/local/lib/python3.8/test/test_importlib/import_/test_caching.py'...\n",
            "Compiling '/usr/local/lib/python3.8/test/test_importlib/import_/test_fromlist.py'...\n",
            "Compiling '/usr/local/lib/python3.8/test/test_importlib/import_/test_meta_path.py'...\n",
            "Compiling '/usr/local/lib/python3.8/test/test_importlib/import_/test_packages.py'...\n",
            "Compiling '/usr/local/lib/python3.8/test/test_importlib/import_/test_path.py'...\n",
            "Compiling '/usr/local/lib/python3.8/test/test_importlib/import_/test_relative_imports.py'...\n",
            "Compiling '/usr/local/lib/python3.8/test/test_importlib/namespace_pkgs/both_portions/foo/one.py'...\n",
            "Compiling '/usr/local/lib/python3.8/test/test_importlib/namespace_pkgs/both_portions/foo/two.py'...\n",
            "Compiling '/usr/local/lib/python3.8/test/test_importlib/namespace_pkgs/module_and_namespace_package/a_test.py'...\n",
            "Compiling '/usr/local/lib/python3.8/test/test_importlib/namespace_pkgs/not_a_namespace_pkg/foo/__init__.py'...\n",
            "Compiling '/usr/local/lib/python3.8/test/test_importlib/namespace_pkgs/not_a_namespace_pkg/foo/one.py'...\n",
            "Compiling '/usr/local/lib/python3.8/test/test_importlib/namespace_pkgs/portion2/foo/two.py'...\n",
            "Compiling '/usr/local/lib/python3.8/test/test_importlib/namespace_pkgs/project2/parent/child/two.py'...\n",
            "Compiling '/usr/local/lib/python3.8/test/test_importlib/namespace_pkgs/project1/parent/child/one.py'...\n",
            "Compiling '/usr/local/lib/python3.8/test/test_importlib/namespace_pkgs/portion1/foo/one.py'...\n",
            "Compiling '/usr/local/lib/python3.8/test/test_importlib/namespace_pkgs/project3/parent/child/three.py'...\n",
            "Compiling '/usr/local/lib/python3.8/test/test_importlib/source/__init__.py'...\n",
            "Compiling '/usr/local/lib/python3.8/test/test_importlib/source/__main__.py'...\n",
            "Compiling '/usr/local/lib/python3.8/test/test_importlib/source/test_case_sensitivity.py'...\n",
            "Compiling '/usr/local/lib/python3.8/test/test_importlib/source/test_file_loader.py'...\n",
            "Compiling '/usr/local/lib/python3.8/test/test_importlib/source/test_finder.py'...\n",
            "Compiling '/usr/local/lib/python3.8/test/test_importlib/source/test_path_hook.py'...\n",
            "Compiling '/usr/local/lib/python3.8/test/test_importlib/source/test_source_encoding.py'...\n",
            "Compiling '/usr/local/lib/python3.8/test/test_importlib/stubs.py'...\n",
            "Compiling '/usr/local/lib/python3.8/test/test_importlib/test_abc.py'...\n",
            "Compiling '/usr/local/lib/python3.8/test/test_importlib/test_api.py'...\n",
            "Compiling '/usr/local/lib/python3.8/test/test_importlib/test_lazy.py'...\n",
            "Compiling '/usr/local/lib/python3.8/test/test_importlib/test_locks.py'...\n",
            "Compiling '/usr/local/lib/python3.8/test/test_importlib/test_main.py'...\n",
            "Compiling '/usr/local/lib/python3.8/test/test_importlib/test_metadata_api.py'...\n",
            "Compiling '/usr/local/lib/python3.8/test/test_importlib/test_namespace_pkgs.py'...\n",
            "Compiling '/usr/local/lib/python3.8/test/test_importlib/test_open.py'...\n",
            "Compiling '/usr/local/lib/python3.8/test/test_importlib/test_path.py'...\n",
            "Compiling '/usr/local/lib/python3.8/test/test_importlib/test_read.py'...\n",
            "Compiling '/usr/local/lib/python3.8/test/test_importlib/test_resource.py'...\n",
            "Compiling '/usr/local/lib/python3.8/test/test_importlib/test_util.py'...\n",
            "Compiling '/usr/local/lib/python3.8/test/test_importlib/test_spec.py'...\n",
            "Compiling '/usr/local/lib/python3.8/test/test_importlib/test_windows.py'...\n",
            "Compiling '/usr/local/lib/python3.8/test/test_importlib/test_zip.py'...\n",
            "Compiling '/usr/local/lib/python3.8/test/test_importlib/util.py'...\n",
            "Compiling '/usr/local/lib/python3.8/test/test_importlib/zipdata01/__init__.py'...\n",
            "Compiling '/usr/local/lib/python3.8/test/test_importlib/zipdata02/__init__.py'...\n",
            "Compiling '/usr/local/lib/python3.8/test/test_index.py'...\n",
            "Compiling '/usr/local/lib/python3.8/test/test_inspect.py'...\n",
            "Compiling '/usr/local/lib/python3.8/test/test_int.py'...\n",
            "Compiling '/usr/local/lib/python3.8/test/test_int_literal.py'...\n",
            "Compiling '/usr/local/lib/python3.8/test/test_io.py'...\n",
            "Compiling '/usr/local/lib/python3.8/test/test_ioctl.py'...\n",
            "Compiling '/usr/local/lib/python3.8/test/test_ipaddress.py'...\n",
            "Compiling '/usr/local/lib/python3.8/test/test_isinstance.py'...\n",
            "Compiling '/usr/local/lib/python3.8/test/test_iter.py'...\n",
            "Compiling '/usr/local/lib/python3.8/test/test_iterlen.py'...\n",
            "Compiling '/usr/local/lib/python3.8/test/test_itertools.py'...\n",
            "Compiling '/usr/local/lib/python3.8/test/test_json/__init__.py'...\n",
            "Compiling '/usr/local/lib/python3.8/test/test_json/__main__.py'...\n",
            "Compiling '/usr/local/lib/python3.8/test/test_json/test_decode.py'...\n",
            "Compiling '/usr/local/lib/python3.8/test/test_json/test_default.py'...\n",
            "Compiling '/usr/local/lib/python3.8/test/test_json/test_dump.py'...\n",
            "Compiling '/usr/local/lib/python3.8/test/test_json/test_encode_basestring_ascii.py'...\n",
            "Compiling '/usr/local/lib/python3.8/test/test_json/test_enum.py'...\n",
            "Compiling '/usr/local/lib/python3.8/test/test_json/test_fail.py'...\n",
            "Compiling '/usr/local/lib/python3.8/test/test_json/test_float.py'...\n",
            "Compiling '/usr/local/lib/python3.8/test/test_json/test_indent.py'...\n",
            "Compiling '/usr/local/lib/python3.8/test/test_json/test_pass1.py'...\n",
            "Compiling '/usr/local/lib/python3.8/test/test_json/test_pass2.py'...\n",
            "Compiling '/usr/local/lib/python3.8/test/test_json/test_pass3.py'...\n",
            "Compiling '/usr/local/lib/python3.8/test/test_json/test_recursion.py'...\n",
            "Compiling '/usr/local/lib/python3.8/test/test_json/test_scanstring.py'...\n",
            "Compiling '/usr/local/lib/python3.8/test/test_json/test_separators.py'...\n",
            "Compiling '/usr/local/lib/python3.8/test/test_json/test_speedups.py'...\n",
            "Compiling '/usr/local/lib/python3.8/test/test_json/test_tool.py'...\n",
            "Compiling '/usr/local/lib/python3.8/test/test_json/test_unicode.py'...\n",
            "Compiling '/usr/local/lib/python3.8/test/test_keyword.py'...\n",
            "Compiling '/usr/local/lib/python3.8/test/test_keywordonlyarg.py'...\n",
            "Compiling '/usr/local/lib/python3.8/test/test_kqueue.py'...\n",
            "Compiling '/usr/local/lib/python3.8/test/test_largefile.py'...\n",
            "Compiling '/usr/local/lib/python3.8/test/test_lib2to3.py'...\n",
            "Compiling '/usr/local/lib/python3.8/test/test_linecache.py'...\n",
            "Compiling '/usr/local/lib/python3.8/test/test_list.py'...\n",
            "Compiling '/usr/local/lib/python3.8/test/test_listcomps.py'...\n",
            "Compiling '/usr/local/lib/python3.8/test/test_lltrace.py'...\n",
            "Compiling '/usr/local/lib/python3.8/test/test_locale.py'...\n",
            "Compiling '/usr/local/lib/python3.8/test/test_logging.py'...\n",
            "Compiling '/usr/local/lib/python3.8/test/test_long.py'...\n",
            "Compiling '/usr/local/lib/python3.8/test/test_longexp.py'...\n",
            "Compiling '/usr/local/lib/python3.8/test/test_lzma.py'...\n",
            "Compiling '/usr/local/lib/python3.8/test/test_mailbox.py'...\n",
            "Compiling '/usr/local/lib/python3.8/test/test_mailcap.py'...\n",
            "Compiling '/usr/local/lib/python3.8/test/test_marshal.py'...\n",
            "Compiling '/usr/local/lib/python3.8/test/test_math.py'...\n",
            "Compiling '/usr/local/lib/python3.8/test/test_memoryio.py'...\n",
            "Compiling '/usr/local/lib/python3.8/test/test_memoryview.py'...\n",
            "Compiling '/usr/local/lib/python3.8/test/test_metaclass.py'...\n",
            "Compiling '/usr/local/lib/python3.8/test/test_mimetypes.py'...\n",
            "Compiling '/usr/local/lib/python3.8/test/test_minidom.py'...\n",
            "Compiling '/usr/local/lib/python3.8/test/test_mmap.py'...\n",
            "Compiling '/usr/local/lib/python3.8/test/test_module.py'...\n",
            "Compiling '/usr/local/lib/python3.8/test/test_modulefinder.py'...\n",
            "Compiling '/usr/local/lib/python3.8/test/test_msilib.py'...\n",
            "Compiling '/usr/local/lib/python3.8/test/test_multibytecodec.py'...\n",
            "Compiling '/usr/local/lib/python3.8/test/test_multiprocessing_fork.py'...\n",
            "Compiling '/usr/local/lib/python3.8/test/test_multiprocessing_forkserver.py'...\n",
            "Compiling '/usr/local/lib/python3.8/test/test_multiprocessing_spawn.py'...\n",
            "Compiling '/usr/local/lib/python3.8/test/test_multiprocessing_main_handling.py'...\n",
            "Compiling '/usr/local/lib/python3.8/test/test_named_expressions.py'...\n",
            "Compiling '/usr/local/lib/python3.8/test/test_netrc.py'...\n",
            "Compiling '/usr/local/lib/python3.8/test/test_nis.py'...\n",
            "Compiling '/usr/local/lib/python3.8/test/test_normalization.py'...\n",
            "Compiling '/usr/local/lib/python3.8/test/test_nntplib.py'...\n",
            "Compiling '/usr/local/lib/python3.8/test/test_ntpath.py'...\n",
            "Compiling '/usr/local/lib/python3.8/test/test_numeric_tower.py'...\n",
            "Compiling '/usr/local/lib/python3.8/test/test_opcodes.py'...\n",
            "Compiling '/usr/local/lib/python3.8/test/test_openpty.py'...\n",
            "Compiling '/usr/local/lib/python3.8/test/test_operator.py'...\n",
            "Compiling '/usr/local/lib/python3.8/test/test_optparse.py'...\n",
            "Compiling '/usr/local/lib/python3.8/test/test_ordered_dict.py'...\n",
            "Compiling '/usr/local/lib/python3.8/test/test_os.py'...\n",
            "Compiling '/usr/local/lib/python3.8/test/test_ossaudiodev.py'...\n",
            "Compiling '/usr/local/lib/python3.8/test/test_osx_env.py'...\n",
            "Compiling '/usr/local/lib/python3.8/test/test_parser.py'...\n",
            "Compiling '/usr/local/lib/python3.8/test/test_pathlib.py'...\n",
            "Compiling '/usr/local/lib/python3.8/test/test_pdb.py'...\n",
            "Compiling '/usr/local/lib/python3.8/test/test_peepholer.py'...\n",
            "Compiling '/usr/local/lib/python3.8/test/test_pickle.py'...\n",
            "Compiling '/usr/local/lib/python3.8/test/test_picklebuffer.py'...\n",
            "Compiling '/usr/local/lib/python3.8/test/test_pickletools.py'...\n",
            "Compiling '/usr/local/lib/python3.8/test/test_pipes.py'...\n",
            "Compiling '/usr/local/lib/python3.8/test/test_pkgimport.py'...\n",
            "Compiling '/usr/local/lib/python3.8/test/test_pkg.py'...\n",
            "Compiling '/usr/local/lib/python3.8/test/test_pkgutil.py'...\n",
            "Compiling '/usr/local/lib/python3.8/test/test_platform.py'...\n",
            "Compiling '/usr/local/lib/python3.8/test/test_plistlib.py'...\n",
            "Compiling '/usr/local/lib/python3.8/test/test_poll.py'...\n",
            "Compiling '/usr/local/lib/python3.8/test/test_popen.py'...\n",
            "Compiling '/usr/local/lib/python3.8/test/test_poplib.py'...\n",
            "Compiling '/usr/local/lib/python3.8/test/test_positional_only_arg.py'...\n",
            "Compiling '/usr/local/lib/python3.8/test/test_posix.py'...\n",
            "Compiling '/usr/local/lib/python3.8/test/test_posixpath.py'...\n",
            "Compiling '/usr/local/lib/python3.8/test/test_pow.py'...\n",
            "Compiling '/usr/local/lib/python3.8/test/test_pprint.py'...\n",
            "Compiling '/usr/local/lib/python3.8/test/test_print.py'...\n",
            "Compiling '/usr/local/lib/python3.8/test/test_profile.py'...\n",
            "Compiling '/usr/local/lib/python3.8/test/test_property.py'...\n",
            "Compiling '/usr/local/lib/python3.8/test/test_pstats.py'...\n",
            "Compiling '/usr/local/lib/python3.8/test/test_pty.py'...\n",
            "Compiling '/usr/local/lib/python3.8/test/test_pulldom.py'...\n",
            "Compiling '/usr/local/lib/python3.8/test/test_pwd.py'...\n",
            "Compiling '/usr/local/lib/python3.8/test/test_py_compile.py'...\n",
            "Compiling '/usr/local/lib/python3.8/test/test_pyclbr.py'...\n",
            "Compiling '/usr/local/lib/python3.8/test/test_pydoc.py'...\n",
            "Compiling '/usr/local/lib/python3.8/test/test_pyexpat.py'...\n",
            "Compiling '/usr/local/lib/python3.8/test/test_queue.py'...\n",
            "Compiling '/usr/local/lib/python3.8/test/test_quopri.py'...\n",
            "Compiling '/usr/local/lib/python3.8/test/test_raise.py'...\n",
            "Compiling '/usr/local/lib/python3.8/test/test_random.py'...\n",
            "Compiling '/usr/local/lib/python3.8/test/test_range.py'...\n",
            "Compiling '/usr/local/lib/python3.8/test/test_re.py'...\n",
            "Compiling '/usr/local/lib/python3.8/test/test_readline.py'...\n",
            "Compiling '/usr/local/lib/python3.8/test/test_regrtest.py'...\n",
            "Compiling '/usr/local/lib/python3.8/test/test_repl.py'...\n",
            "Compiling '/usr/local/lib/python3.8/test/test_reprlib.py'...\n",
            "Compiling '/usr/local/lib/python3.8/test/test_resource.py'...\n",
            "Compiling '/usr/local/lib/python3.8/test/test_richcmp.py'...\n",
            "Compiling '/usr/local/lib/python3.8/test/test_rlcompleter.py'...\n",
            "Compiling '/usr/local/lib/python3.8/test/test_robotparser.py'...\n",
            "Compiling '/usr/local/lib/python3.8/test/test_runpy.py'...\n",
            "Compiling '/usr/local/lib/python3.8/test/test_sched.py'...\n",
            "Compiling '/usr/local/lib/python3.8/test/test_scope.py'...\n",
            "Compiling '/usr/local/lib/python3.8/test/test_sax.py'...\n",
            "Compiling '/usr/local/lib/python3.8/test/test_script_helper.py'...\n",
            "Compiling '/usr/local/lib/python3.8/test/test_secrets.py'...\n",
            "Compiling '/usr/local/lib/python3.8/test/test_select.py'...\n",
            "Compiling '/usr/local/lib/python3.8/test/test_selectors.py'...\n",
            "Compiling '/usr/local/lib/python3.8/test/test_set.py'...\n",
            "Compiling '/usr/local/lib/python3.8/test/test_setcomps.py'...\n",
            "Compiling '/usr/local/lib/python3.8/test/test_shelve.py'...\n",
            "Compiling '/usr/local/lib/python3.8/test/test_shlex.py'...\n",
            "Compiling '/usr/local/lib/python3.8/test/test_shutil.py'...\n",
            "Compiling '/usr/local/lib/python3.8/test/test_signal.py'...\n",
            "Compiling '/usr/local/lib/python3.8/test/test_site.py'...\n",
            "Compiling '/usr/local/lib/python3.8/test/test_slice.py'...\n",
            "Compiling '/usr/local/lib/python3.8/test/test_smtpd.py'...\n",
            "Compiling '/usr/local/lib/python3.8/test/test_smtplib.py'...\n",
            "Compiling '/usr/local/lib/python3.8/test/test_smtpnet.py'...\n",
            "Compiling '/usr/local/lib/python3.8/test/test_sndhdr.py'...\n",
            "Compiling '/usr/local/lib/python3.8/test/test_socket.py'...\n",
            "Compiling '/usr/local/lib/python3.8/test/test_socketserver.py'...\n",
            "Compiling '/usr/local/lib/python3.8/test/test_sort.py'...\n",
            "Compiling '/usr/local/lib/python3.8/test/test_source_encoding.py'...\n",
            "Compiling '/usr/local/lib/python3.8/test/test_spwd.py'...\n",
            "Compiling '/usr/local/lib/python3.8/test/test_sqlite.py'...\n",
            "Compiling '/usr/local/lib/python3.8/test/test_ssl.py'...\n",
            "Compiling '/usr/local/lib/python3.8/test/test_startfile.py'...\n",
            "Compiling '/usr/local/lib/python3.8/test/test_stat.py'...\n",
            "Compiling '/usr/local/lib/python3.8/test/test_statistics.py'...\n",
            "Compiling '/usr/local/lib/python3.8/test/test_strftime.py'...\n",
            "Compiling '/usr/local/lib/python3.8/test/test_string.py'...\n",
            "Compiling '/usr/local/lib/python3.8/test/test_string_literals.py'...\n",
            "Compiling '/usr/local/lib/python3.8/test/test_stringprep.py'...\n",
            "Compiling '/usr/local/lib/python3.8/test/test_strptime.py'...\n",
            "Compiling '/usr/local/lib/python3.8/test/test_strtod.py'...\n",
            "Compiling '/usr/local/lib/python3.8/test/test_struct.py'...\n",
            "Compiling '/usr/local/lib/python3.8/test/test_structmembers.py'...\n",
            "Compiling '/usr/local/lib/python3.8/test/test_structseq.py'...\n",
            "Compiling '/usr/local/lib/python3.8/test/test_subclassinit.py'...\n",
            "Compiling '/usr/local/lib/python3.8/test/test_subprocess.py'...\n",
            "Compiling '/usr/local/lib/python3.8/test/test_sunau.py'...\n",
            "Compiling '/usr/local/lib/python3.8/test/test_sundry.py'...\n",
            "Compiling '/usr/local/lib/python3.8/test/test_super.py'...\n",
            "Compiling '/usr/local/lib/python3.8/test/test_support.py'...\n",
            "Compiling '/usr/local/lib/python3.8/test/test_symbol.py'...\n",
            "Compiling '/usr/local/lib/python3.8/test/test_symtable.py'...\n",
            "Compiling '/usr/local/lib/python3.8/test/test_syntax.py'...\n",
            "Compiling '/usr/local/lib/python3.8/test/test_sys.py'...\n",
            "Compiling '/usr/local/lib/python3.8/test/test_sys_setprofile.py'...\n",
            "Compiling '/usr/local/lib/python3.8/test/test_sys_settrace.py'...\n",
            "Compiling '/usr/local/lib/python3.8/test/test_sysconfig.py'...\n",
            "Compiling '/usr/local/lib/python3.8/test/test_syslog.py'...\n",
            "Compiling '/usr/local/lib/python3.8/test/test_tabnanny.py'...\n",
            "Compiling '/usr/local/lib/python3.8/test/test_tarfile.py'...\n",
            "Compiling '/usr/local/lib/python3.8/test/test_tcl.py'...\n",
            "Compiling '/usr/local/lib/python3.8/test/test_telnetlib.py'...\n",
            "Compiling '/usr/local/lib/python3.8/test/test_tempfile.py'...\n",
            "Compiling '/usr/local/lib/python3.8/test/test_textwrap.py'...\n",
            "Compiling '/usr/local/lib/python3.8/test/test_thread.py'...\n",
            "Compiling '/usr/local/lib/python3.8/test/test_threaded_import.py'...\n",
            "Compiling '/usr/local/lib/python3.8/test/test_threadedtempfile.py'...\n",
            "Compiling '/usr/local/lib/python3.8/test/test_threading.py'...\n",
            "Compiling '/usr/local/lib/python3.8/test/test_threading_local.py'...\n",
            "Compiling '/usr/local/lib/python3.8/test/test_threadsignals.py'...\n",
            "Compiling '/usr/local/lib/python3.8/test/test_time.py'...\n",
            "Compiling '/usr/local/lib/python3.8/test/test_timeit.py'...\n",
            "Compiling '/usr/local/lib/python3.8/test/test_timeout.py'...\n",
            "Compiling '/usr/local/lib/python3.8/test/test_tix.py'...\n",
            "Compiling '/usr/local/lib/python3.8/test/test_tk.py'...\n",
            "Compiling '/usr/local/lib/python3.8/test/test_tokenize.py'...\n",
            "Compiling '/usr/local/lib/python3.8/test/test_tools/__main__.py'...\n",
            "Compiling '/usr/local/lib/python3.8/test/test_tools/__init__.py'...\n",
            "Compiling '/usr/local/lib/python3.8/test/test_tools/test_fixcid.py'...\n",
            "Compiling '/usr/local/lib/python3.8/test/test_tools/test_gprof2html.py'...\n",
            "Compiling '/usr/local/lib/python3.8/test/test_tools/test_i18n.py'...\n",
            "Compiling '/usr/local/lib/python3.8/test/test_tools/test_lll.py'...\n",
            "Compiling '/usr/local/lib/python3.8/test/test_tools/test_md5sum.py'...\n",
            "Compiling '/usr/local/lib/python3.8/test/test_tools/test_pathfix.py'...\n",
            "Compiling '/usr/local/lib/python3.8/test/test_tools/test_pdeps.py'...\n",
            "Compiling '/usr/local/lib/python3.8/test/test_tools/test_pindent.py'...\n",
            "Compiling '/usr/local/lib/python3.8/test/test_tools/test_sundry.py'...\n",
            "Compiling '/usr/local/lib/python3.8/test/test_tools/test_unparse.py'...\n",
            "Compiling '/usr/local/lib/python3.8/test/test_tools/test_reindent.py'...\n",
            "Compiling '/usr/local/lib/python3.8/test/test_trace.py'...\n",
            "Compiling '/usr/local/lib/python3.8/test/test_traceback.py'...\n",
            "Compiling '/usr/local/lib/python3.8/test/test_tracemalloc.py'...\n",
            "Compiling '/usr/local/lib/python3.8/test/test_ttk_guionly.py'...\n",
            "Compiling '/usr/local/lib/python3.8/test/test_ttk_textonly.py'...\n",
            "Compiling '/usr/local/lib/python3.8/test/test_tuple.py'...\n",
            "Compiling '/usr/local/lib/python3.8/test/test_type_comments.py'...\n",
            "Compiling '/usr/local/lib/python3.8/test/test_turtle.py'...\n",
            "Compiling '/usr/local/lib/python3.8/test/test_typechecks.py'...\n",
            "Compiling '/usr/local/lib/python3.8/test/test_types.py'...\n",
            "Compiling '/usr/local/lib/python3.8/test/test_typing.py'...\n",
            "Compiling '/usr/local/lib/python3.8/test/test_ucn.py'...\n",
            "Compiling '/usr/local/lib/python3.8/test/test_unary.py'...\n",
            "Compiling '/usr/local/lib/python3.8/test/test_unicode.py'...\n",
            "Compiling '/usr/local/lib/python3.8/test/test_unicode_file.py'...\n",
            "Compiling '/usr/local/lib/python3.8/test/test_unicode_file_functions.py'...\n",
            "Compiling '/usr/local/lib/python3.8/test/test_unicode_identifiers.py'...\n",
            "Compiling '/usr/local/lib/python3.8/test/test_unicodedata.py'...\n",
            "Compiling '/usr/local/lib/python3.8/test/test_unittest.py'...\n",
            "Compiling '/usr/local/lib/python3.8/test/test_univnewlines.py'...\n",
            "Compiling '/usr/local/lib/python3.8/test/test_unpack.py'...\n",
            "Compiling '/usr/local/lib/python3.8/test/test_unpack_ex.py'...\n",
            "Compiling '/usr/local/lib/python3.8/test/test_urllib.py'...\n",
            "Compiling '/usr/local/lib/python3.8/test/test_urllib2.py'...\n",
            "Compiling '/usr/local/lib/python3.8/test/test_urllib2_localnet.py'...\n",
            "Compiling '/usr/local/lib/python3.8/test/test_urllib2net.py'...\n",
            "Compiling '/usr/local/lib/python3.8/test/test_urllib_response.py'...\n",
            "Compiling '/usr/local/lib/python3.8/test/test_urllibnet.py'...\n",
            "Compiling '/usr/local/lib/python3.8/test/test_urlparse.py'...\n",
            "Compiling '/usr/local/lib/python3.8/test/test_userdict.py'...\n",
            "Compiling '/usr/local/lib/python3.8/test/test_userlist.py'...\n",
            "Compiling '/usr/local/lib/python3.8/test/test_userstring.py'...\n",
            "Compiling '/usr/local/lib/python3.8/test/test_utf8_mode.py'...\n",
            "Compiling '/usr/local/lib/python3.8/test/test_utf8source.py'...\n",
            "Compiling '/usr/local/lib/python3.8/test/test_uu.py'...\n",
            "Compiling '/usr/local/lib/python3.8/test/test_uuid.py'...\n",
            "Compiling '/usr/local/lib/python3.8/test/test_venv.py'...\n",
            "Compiling '/usr/local/lib/python3.8/test/test_wait3.py'...\n",
            "Compiling '/usr/local/lib/python3.8/test/test_wait4.py'...\n",
            "Compiling '/usr/local/lib/python3.8/test/test_warnings/__init__.py'...\n",
            "Compiling '/usr/local/lib/python3.8/test/test_warnings/__main__.py'...\n",
            "Compiling '/usr/local/lib/python3.8/test/test_warnings/data/import_warning.py'...\n",
            "Compiling '/usr/local/lib/python3.8/test/test_warnings/data/stacklevel.py'...\n",
            "Compiling '/usr/local/lib/python3.8/test/test_wave.py'...\n",
            "Compiling '/usr/local/lib/python3.8/test/test_weakref.py'...\n",
            "Compiling '/usr/local/lib/python3.8/test/test_weakset.py'...\n",
            "Compiling '/usr/local/lib/python3.8/test/test_webbrowser.py'...\n",
            "Compiling '/usr/local/lib/python3.8/test/test_winconsoleio.py'...\n",
            "Compiling '/usr/local/lib/python3.8/test/test_winreg.py'...\n",
            "Compiling '/usr/local/lib/python3.8/test/test_winsound.py'...\n",
            "Compiling '/usr/local/lib/python3.8/test/test_with.py'...\n",
            "Compiling '/usr/local/lib/python3.8/test/test_wsgiref.py'...\n",
            "Compiling '/usr/local/lib/python3.8/test/test_xdrlib.py'...\n",
            "Compiling '/usr/local/lib/python3.8/test/test_xml_dom_minicompat.py'...\n",
            "Compiling '/usr/local/lib/python3.8/test/test_xml_etree.py'...\n",
            "Compiling '/usr/local/lib/python3.8/test/test_xml_etree_c.py'...\n",
            "Compiling '/usr/local/lib/python3.8/test/test_xmlrpc.py'...\n",
            "Compiling '/usr/local/lib/python3.8/test/test_xmlrpc_net.py'...\n",
            "Compiling '/usr/local/lib/python3.8/test/test_xxtestfuzz.py'...\n",
            "Compiling '/usr/local/lib/python3.8/test/test_yield_from.py'...\n",
            "Compiling '/usr/local/lib/python3.8/test/test_zipapp.py'...\n",
            "Compiling '/usr/local/lib/python3.8/test/test_zipfile.py'...\n",
            "Compiling '/usr/local/lib/python3.8/test/test_zipfile64.py'...\n",
            "Compiling '/usr/local/lib/python3.8/test/test_zipimport.py'...\n",
            "Compiling '/usr/local/lib/python3.8/test/test_zipimport_support.py'...\n",
            "Compiling '/usr/local/lib/python3.8/test/test_zlib.py'...\n",
            "Compiling '/usr/local/lib/python3.8/test/testcodec.py'...\n",
            "Compiling '/usr/local/lib/python3.8/test/tf_inherit_check.py'...\n",
            "Compiling '/usr/local/lib/python3.8/test/threaded_import_hangers.py'...\n",
            "Compiling '/usr/local/lib/python3.8/test/time_hashlib.py'...\n",
            "Compiling '/usr/local/lib/python3.8/test/tracedmodules/__init__.py'...\n",
            "Compiling '/usr/local/lib/python3.8/test/tracedmodules/testmod.py'...\n",
            "Compiling '/usr/local/lib/python3.8/test/win_console_handler.py'...\n",
            "Compiling '/usr/local/lib/python3.8/test/xmltests.py'...\n",
            "Compiling '/usr/local/lib/python3.8/test/ziptestdata/testdata_module_inside_zip.py'...\n",
            "Compiling '/usr/local/lib/python3.8/textwrap.py'...\n",
            "Compiling '/usr/local/lib/python3.8/this.py'...\n",
            "Compiling '/usr/local/lib/python3.8/threading.py'...\n",
            "Compiling '/usr/local/lib/python3.8/timeit.py'...\n",
            "Compiling '/usr/local/lib/python3.8/tkinter/__init__.py'...\n",
            "Compiling '/usr/local/lib/python3.8/tkinter/__main__.py'...\n",
            "Compiling '/usr/local/lib/python3.8/tkinter/colorchooser.py'...\n",
            "Compiling '/usr/local/lib/python3.8/tkinter/commondialog.py'...\n",
            "Compiling '/usr/local/lib/python3.8/tkinter/dialog.py'...\n",
            "Compiling '/usr/local/lib/python3.8/tkinter/constants.py'...\n",
            "Compiling '/usr/local/lib/python3.8/tkinter/dnd.py'...\n",
            "Compiling '/usr/local/lib/python3.8/tkinter/filedialog.py'...\n",
            "Compiling '/usr/local/lib/python3.8/tkinter/font.py'...\n",
            "Compiling '/usr/local/lib/python3.8/tkinter/messagebox.py'...\n",
            "Compiling '/usr/local/lib/python3.8/tkinter/scrolledtext.py'...\n",
            "Compiling '/usr/local/lib/python3.8/tkinter/simpledialog.py'...\n",
            "Compiling '/usr/local/lib/python3.8/tkinter/test/__init__.py'...\n",
            "Compiling '/usr/local/lib/python3.8/tkinter/test/runtktests.py'...\n",
            "Compiling '/usr/local/lib/python3.8/tkinter/test/support.py'...\n",
            "Compiling '/usr/local/lib/python3.8/tkinter/test/test_tkinter/__init__.py'...\n",
            "Compiling '/usr/local/lib/python3.8/tkinter/test/test_tkinter/test_font.py'...\n",
            "Compiling '/usr/local/lib/python3.8/tkinter/test/test_tkinter/test_geometry_managers.py'...\n",
            "Compiling '/usr/local/lib/python3.8/tkinter/test/test_tkinter/test_images.py'...\n",
            "Compiling '/usr/local/lib/python3.8/tkinter/test/test_tkinter/test_misc.py'...\n",
            "Compiling '/usr/local/lib/python3.8/tkinter/test/test_tkinter/test_loadtk.py'...\n",
            "Compiling '/usr/local/lib/python3.8/tkinter/test/test_tkinter/test_text.py'...\n",
            "Compiling '/usr/local/lib/python3.8/tkinter/test/test_tkinter/test_variables.py'...\n",
            "Compiling '/usr/local/lib/python3.8/tkinter/test/test_tkinter/test_widgets.py'...\n",
            "Compiling '/usr/local/lib/python3.8/tkinter/test/test_ttk/__init__.py'...\n",
            "Compiling '/usr/local/lib/python3.8/tkinter/test/test_ttk/test_extensions.py'...\n",
            "Compiling '/usr/local/lib/python3.8/tkinter/test/test_ttk/test_functions.py'...\n",
            "Compiling '/usr/local/lib/python3.8/tkinter/test/test_ttk/test_style.py'...\n",
            "Compiling '/usr/local/lib/python3.8/tkinter/test/test_ttk/test_widgets.py'...\n",
            "Compiling '/usr/local/lib/python3.8/tkinter/test/widget_tests.py'...\n",
            "Compiling '/usr/local/lib/python3.8/tkinter/tix.py'...\n",
            "Compiling '/usr/local/lib/python3.8/tkinter/ttk.py'...\n",
            "Compiling '/usr/local/lib/python3.8/token.py'...\n",
            "Compiling '/usr/local/lib/python3.8/tokenize.py'...\n",
            "Compiling '/usr/local/lib/python3.8/trace.py'...\n",
            "Compiling '/usr/local/lib/python3.8/traceback.py'...\n",
            "Compiling '/usr/local/lib/python3.8/tracemalloc.py'...\n",
            "Compiling '/usr/local/lib/python3.8/tty.py'...\n",
            "Compiling '/usr/local/lib/python3.8/turtle.py'...\n",
            "Compiling '/usr/local/lib/python3.8/turtledemo/__init__.py'...\n",
            "Compiling '/usr/local/lib/python3.8/turtledemo/__main__.py'...\n",
            "Compiling '/usr/local/lib/python3.8/turtledemo/bytedesign.py'...\n",
            "Compiling '/usr/local/lib/python3.8/turtledemo/chaos.py'...\n",
            "Compiling '/usr/local/lib/python3.8/turtledemo/clock.py'...\n",
            "Compiling '/usr/local/lib/python3.8/turtledemo/colormixer.py'...\n",
            "Compiling '/usr/local/lib/python3.8/turtledemo/forest.py'...\n",
            "Compiling '/usr/local/lib/python3.8/turtledemo/fractalcurves.py'...\n",
            "Compiling '/usr/local/lib/python3.8/turtledemo/lindenmayer.py'...\n",
            "Compiling '/usr/local/lib/python3.8/turtledemo/minimal_hanoi.py'...\n",
            "Compiling '/usr/local/lib/python3.8/turtledemo/nim.py'...\n",
            "Compiling '/usr/local/lib/python3.8/turtledemo/paint.py'...\n",
            "Compiling '/usr/local/lib/python3.8/turtledemo/peace.py'...\n",
            "Compiling '/usr/local/lib/python3.8/turtledemo/penrose.py'...\n",
            "Compiling '/usr/local/lib/python3.8/turtledemo/planet_and_moon.py'...\n",
            "Compiling '/usr/local/lib/python3.8/turtledemo/rosette.py'...\n",
            "Compiling '/usr/local/lib/python3.8/turtledemo/round_dance.py'...\n",
            "Compiling '/usr/local/lib/python3.8/turtledemo/sorting_animate.py'...\n",
            "Compiling '/usr/local/lib/python3.8/turtledemo/tree.py'...\n",
            "Compiling '/usr/local/lib/python3.8/turtledemo/two_canvases.py'...\n",
            "Compiling '/usr/local/lib/python3.8/turtledemo/yinyang.py'...\n",
            "Compiling '/usr/local/lib/python3.8/typing.py'...\n",
            "Compiling '/usr/local/lib/python3.8/types.py'...\n",
            "Compiling '/usr/local/lib/python3.8/unittest/__init__.py'...\n",
            "Compiling '/usr/local/lib/python3.8/unittest/__main__.py'...\n",
            "Compiling '/usr/local/lib/python3.8/unittest/async_case.py'...\n",
            "Compiling '/usr/local/lib/python3.8/unittest/case.py'...\n",
            "Compiling '/usr/local/lib/python3.8/unittest/loader.py'...\n",
            "Compiling '/usr/local/lib/python3.8/unittest/main.py'...\n",
            "Compiling '/usr/local/lib/python3.8/unittest/mock.py'...\n",
            "Compiling '/usr/local/lib/python3.8/unittest/result.py'...\n",
            "Compiling '/usr/local/lib/python3.8/unittest/runner.py'...\n",
            "Compiling '/usr/local/lib/python3.8/unittest/signals.py'...\n",
            "Compiling '/usr/local/lib/python3.8/unittest/suite.py'...\n",
            "Compiling '/usr/local/lib/python3.8/unittest/test/__init__.py'...\n",
            "Compiling '/usr/local/lib/python3.8/unittest/test/__main__.py'...\n",
            "Compiling '/usr/local/lib/python3.8/unittest/test/_test_warnings.py'...\n",
            "Compiling '/usr/local/lib/python3.8/unittest/test/dummy.py'...\n",
            "Compiling '/usr/local/lib/python3.8/unittest/test/support.py'...\n",
            "Compiling '/usr/local/lib/python3.8/unittest/test/test_assertions.py'...\n",
            "Compiling '/usr/local/lib/python3.8/unittest/test/test_async_case.py'...\n",
            "Compiling '/usr/local/lib/python3.8/unittest/test/test_break.py'...\n",
            "Compiling '/usr/local/lib/python3.8/unittest/test/test_case.py'...\n",
            "Compiling '/usr/local/lib/python3.8/unittest/test/test_discovery.py'...\n",
            "Compiling '/usr/local/lib/python3.8/unittest/test/test_functiontestcase.py'...\n",
            "Compiling '/usr/local/lib/python3.8/unittest/test/test_loader.py'...\n",
            "Compiling '/usr/local/lib/python3.8/unittest/test/test_program.py'...\n",
            "Compiling '/usr/local/lib/python3.8/unittest/test/test_result.py'...\n",
            "Compiling '/usr/local/lib/python3.8/unittest/test/test_runner.py'...\n",
            "Compiling '/usr/local/lib/python3.8/unittest/test/test_setups.py'...\n",
            "Compiling '/usr/local/lib/python3.8/unittest/test/test_skipping.py'...\n",
            "Compiling '/usr/local/lib/python3.8/unittest/test/test_suite.py'...\n",
            "Compiling '/usr/local/lib/python3.8/unittest/test/testmock/__init__.py'...\n",
            "Compiling '/usr/local/lib/python3.8/unittest/test/testmock/__main__.py'...\n",
            "Compiling '/usr/local/lib/python3.8/unittest/test/testmock/support.py'...\n",
            "Compiling '/usr/local/lib/python3.8/unittest/test/testmock/testcallable.py'...\n",
            "Compiling '/usr/local/lib/python3.8/unittest/test/testmock/testasync.py'...\n",
            "Compiling '/usr/local/lib/python3.8/unittest/test/testmock/testhelpers.py'...\n",
            "Compiling '/usr/local/lib/python3.8/unittest/test/testmock/testmagicmethods.py'...\n",
            "Compiling '/usr/local/lib/python3.8/unittest/test/testmock/testmock.py'...\n",
            "Compiling '/usr/local/lib/python3.8/unittest/test/testmock/testpatch.py'...\n",
            "Compiling '/usr/local/lib/python3.8/unittest/test/testmock/testsealable.py'...\n",
            "Compiling '/usr/local/lib/python3.8/unittest/test/testmock/testsentinel.py'...\n",
            "Compiling '/usr/local/lib/python3.8/unittest/test/testmock/testwith.py'...\n",
            "Compiling '/usr/local/lib/python3.8/unittest/util.py'...\n",
            "Compiling '/usr/local/lib/python3.8/urllib/__init__.py'...\n",
            "Compiling '/usr/local/lib/python3.8/urllib/error.py'...\n",
            "Compiling '/usr/local/lib/python3.8/urllib/parse.py'...\n",
            "Compiling '/usr/local/lib/python3.8/urllib/request.py'...\n",
            "Compiling '/usr/local/lib/python3.8/urllib/response.py'...\n",
            "Compiling '/usr/local/lib/python3.8/urllib/robotparser.py'...\n",
            "Compiling '/usr/local/lib/python3.8/uu.py'...\n",
            "Compiling '/usr/local/lib/python3.8/uuid.py'...\n",
            "Compiling '/usr/local/lib/python3.8/venv/__init__.py'...\n",
            "Compiling '/usr/local/lib/python3.8/venv/__main__.py'...\n",
            "Compiling '/usr/local/lib/python3.8/warnings.py'...\n",
            "Compiling '/usr/local/lib/python3.8/wave.py'...\n",
            "Compiling '/usr/local/lib/python3.8/weakref.py'...\n",
            "Compiling '/usr/local/lib/python3.8/webbrowser.py'...\n",
            "Compiling '/usr/local/lib/python3.8/wsgiref/__init__.py'...\n",
            "Compiling '/usr/local/lib/python3.8/wsgiref/handlers.py'...\n",
            "Compiling '/usr/local/lib/python3.8/wsgiref/headers.py'...\n",
            "Compiling '/usr/local/lib/python3.8/wsgiref/simple_server.py'...\n",
            "Compiling '/usr/local/lib/python3.8/wsgiref/util.py'...\n",
            "Compiling '/usr/local/lib/python3.8/wsgiref/validate.py'...\n",
            "Compiling '/usr/local/lib/python3.8/xdrlib.py'...\n",
            "Compiling '/usr/local/lib/python3.8/xml/__init__.py'...\n",
            "Compiling '/usr/local/lib/python3.8/xml/dom/NodeFilter.py'...\n",
            "Compiling '/usr/local/lib/python3.8/xml/dom/__init__.py'...\n",
            "Compiling '/usr/local/lib/python3.8/xml/dom/domreg.py'...\n",
            "Compiling '/usr/local/lib/python3.8/xml/dom/expatbuilder.py'...\n",
            "Compiling '/usr/local/lib/python3.8/xml/dom/minidom.py'...\n",
            "Compiling '/usr/local/lib/python3.8/xml/dom/minicompat.py'...\n",
            "Compiling '/usr/local/lib/python3.8/xml/dom/pulldom.py'...\n",
            "Compiling '/usr/local/lib/python3.8/xml/dom/xmlbuilder.py'...\n",
            "Compiling '/usr/local/lib/python3.8/xml/etree/ElementInclude.py'...\n",
            "Compiling '/usr/local/lib/python3.8/xml/etree/ElementPath.py'...\n",
            "Compiling '/usr/local/lib/python3.8/xml/etree/ElementTree.py'...\n",
            "Compiling '/usr/local/lib/python3.8/xml/etree/__init__.py'...\n",
            "Compiling '/usr/local/lib/python3.8/xml/etree/cElementTree.py'...\n",
            "Compiling '/usr/local/lib/python3.8/xml/parsers/__init__.py'...\n",
            "Compiling '/usr/local/lib/python3.8/xml/parsers/expat.py'...\n",
            "Compiling '/usr/local/lib/python3.8/xml/sax/__init__.py'...\n",
            "Compiling '/usr/local/lib/python3.8/xml/sax/expatreader.py'...\n",
            "Compiling '/usr/local/lib/python3.8/xml/sax/_exceptions.py'...\n",
            "Compiling '/usr/local/lib/python3.8/xml/sax/handler.py'...\n",
            "Compiling '/usr/local/lib/python3.8/xml/sax/saxutils.py'...\n",
            "Compiling '/usr/local/lib/python3.8/xml/sax/xmlreader.py'...\n",
            "Compiling '/usr/local/lib/python3.8/xmlrpc/__init__.py'...\n",
            "Compiling '/usr/local/lib/python3.8/xmlrpc/client.py'...\n",
            "Compiling '/usr/local/lib/python3.8/xmlrpc/server.py'...\n",
            "Compiling '/usr/local/lib/python3.8/zipapp.py'...\n",
            "Compiling '/usr/local/lib/python3.8/zipfile.py'...\n",
            "Compiling '/usr/local/lib/python3.8/zipimport.py'...\n",
            "PYTHONPATH=/usr/local/lib/python3.8  \\\n",
            "\t./python -E -Wi -OO /usr/local/lib/python3.8/compileall.py \\\n",
            "\t-j0 -d /usr/local/lib/python3.8 -f \\\n",
            "\t-x 'bad_coding|badsyntax|site-packages|lib2to3/tests/data' \\\n",
            "\t/usr/local/lib/python3.8\n",
            "Listing '/usr/local/lib/python3.8'...\n",
            "Compiling '/usr/local/lib/python3.8/__future__.py'...\n",
            "Compiling '/usr/local/lib/python3.8/__phello__.foo.py'...\n",
            "Compiling '/usr/local/lib/python3.8/_dummy_thread.py'...\n",
            "Compiling '/usr/local/lib/python3.8/_bootlocale.py'...\n",
            "Compiling '/usr/local/lib/python3.8/_collections_abc.py'...\n",
            "Compiling '/usr/local/lib/python3.8/_compat_pickle.py'...\n",
            "Compiling '/usr/local/lib/python3.8/_compression.py'...\n",
            "Compiling '/usr/local/lib/python3.8/_markupbase.py'...\n",
            "Compiling '/usr/local/lib/python3.8/_osx_support.py'...\n",
            "Compiling '/usr/local/lib/python3.8/_py_abc.py'...\n",
            "Compiling '/usr/local/lib/python3.8/_pydecimal.py'...\n",
            "Compiling '/usr/local/lib/python3.8/_pyio.py'...\n",
            "Compiling '/usr/local/lib/python3.8/_sitebuiltins.py'...\n",
            "Compiling '/usr/local/lib/python3.8/_strptime.py'...\n",
            "Compiling '/usr/local/lib/python3.8/_sysconfigdata__linux_x86_64-linux-gnu.py'...\n",
            "Compiling '/usr/local/lib/python3.8/_threading_local.py'...\n",
            "Compiling '/usr/local/lib/python3.8/_weakrefset.py'...\n",
            "Compiling '/usr/local/lib/python3.8/abc.py'...\n",
            "Compiling '/usr/local/lib/python3.8/aifc.py'...\n",
            "Compiling '/usr/local/lib/python3.8/antigravity.py'...\n",
            "Compiling '/usr/local/lib/python3.8/argparse.py'...\n",
            "Compiling '/usr/local/lib/python3.8/ast.py'...\n",
            "Listing '/usr/local/lib/python3.8/asyncio'...\n",
            "Compiling '/usr/local/lib/python3.8/asynchat.py'...\n",
            "Listing '/usr/local/lib/python3.8/collections'...\n",
            "Listing '/usr/local/lib/python3.8/concurrent'...\n",
            "Listing '/usr/local/lib/python3.8/concurrent/futures'...\n",
            "Compiling '/usr/local/lib/python3.8/asyncio/__init__.py'...\n",
            "Compiling '/usr/local/lib/python3.8/asyncio/__main__.py'...\n",
            "Compiling '/usr/local/lib/python3.8/asyncio/base_events.py'...\n",
            "Compiling '/usr/local/lib/python3.8/asyncio/base_futures.py'...\n",
            "Compiling '/usr/local/lib/python3.8/asyncio/base_subprocess.py'...\n",
            "Compiling '/usr/local/lib/python3.8/asyncio/base_tasks.py'...\n",
            "Compiling '/usr/local/lib/python3.8/asyncio/constants.py'...\n",
            "Compiling '/usr/local/lib/python3.8/asyncio/coroutines.py'...\n",
            "Compiling '/usr/local/lib/python3.8/asyncio/events.py'...\n",
            "Compiling '/usr/local/lib/python3.8/asyncio/exceptions.py'...\n",
            "Compiling '/usr/local/lib/python3.8/asyncio/format_helpers.py'...\n",
            "Compiling '/usr/local/lib/python3.8/asyncio/futures.py'...\n",
            "Compiling '/usr/local/lib/python3.8/asyncio/locks.py'...\n",
            "Compiling '/usr/local/lib/python3.8/asyncio/log.py'...\n",
            "Listing '/usr/local/lib/python3.8/ctypes'...\n",
            "Listing '/usr/local/lib/python3.8/ctypes/macholib'...\n",
            "Listing '/usr/local/lib/python3.8/ctypes/test'...\n",
            "Compiling '/usr/local/lib/python3.8/asyncio/proactor_events.py'...\n",
            "Compiling '/usr/local/lib/python3.8/asyncio/protocols.py'...\n",
            "Compiling '/usr/local/lib/python3.8/asyncio/queues.py'...\n",
            "Compiling '/usr/local/lib/python3.8/asyncio/runners.py'...\n",
            "Listing '/usr/local/lib/python3.8/curses'...\n",
            "Compiling '/usr/local/lib/python3.8/asyncio/selector_events.py'...\n",
            "Compiling '/usr/local/lib/python3.8/asyncio/sslproto.py'...\n",
            "Compiling '/usr/local/lib/python3.8/asyncio/staggered.py'...\n",
            "Compiling '/usr/local/lib/python3.8/asyncio/streams.py'...\n",
            "Compiling '/usr/local/lib/python3.8/asyncio/subprocess.py'...\n",
            "Compiling '/usr/local/lib/python3.8/asyncio/tasks.py'...\n",
            "Listing '/usr/local/lib/python3.8/dbm'...\n",
            "Listing '/usr/local/lib/python3.8/distutils'...\n",
            "Listing '/usr/local/lib/python3.8/distutils/command'...\n",
            "Compiling '/usr/local/lib/python3.8/asyncio/transports.py'...\n",
            "Compiling '/usr/local/lib/python3.8/asyncio/trsock.py'...\n",
            "Compiling '/usr/local/lib/python3.8/asyncio/unix_events.py'...\n",
            "Compiling '/usr/local/lib/python3.8/asyncio/windows_utils.py'...\n",
            "Compiling '/usr/local/lib/python3.8/asyncio/windows_events.py'...\n",
            "Compiling '/usr/local/lib/python3.8/asyncore.py'...\n",
            "Compiling '/usr/local/lib/python3.8/base64.py'...\n",
            "Listing '/usr/local/lib/python3.8/distutils/tests'...\n",
            "Compiling '/usr/local/lib/python3.8/bdb.py'...\n",
            "Compiling '/usr/local/lib/python3.8/binhex.py'...\n",
            "Listing '/usr/local/lib/python3.8/email'...\n",
            "Compiling '/usr/local/lib/python3.8/bisect.py'...\n",
            "Compiling '/usr/local/lib/python3.8/bz2.py'...\n",
            "Compiling '/usr/local/lib/python3.8/cProfile.py'...\n",
            "Compiling '/usr/local/lib/python3.8/calendar.py'...\n",
            "Compiling '/usr/local/lib/python3.8/cgi.py'...\n",
            "Compiling '/usr/local/lib/python3.8/cgitb.py'...\n",
            "Compiling '/usr/local/lib/python3.8/cmd.py'...\n",
            "Compiling '/usr/local/lib/python3.8/chunk.py'...\n",
            "Compiling '/usr/local/lib/python3.8/code.py'...\n",
            "Compiling '/usr/local/lib/python3.8/codecs.py'...\n",
            "Listing '/usr/local/lib/python3.8/email/mime'...\n",
            "Listing '/usr/local/lib/python3.8/encodings'...\n",
            "Compiling '/usr/local/lib/python3.8/codeop.py'...\n",
            "Compiling '/usr/local/lib/python3.8/collections/__init__.py'...\n",
            "Compiling '/usr/local/lib/python3.8/collections/abc.py'...\n",
            "Compiling '/usr/local/lib/python3.8/colorsys.py'...\n",
            "Compiling '/usr/local/lib/python3.8/compileall.py'...\n",
            "Compiling '/usr/local/lib/python3.8/concurrent/__init__.py'...\n",
            "Compiling '/usr/local/lib/python3.8/concurrent/futures/__init__.py'...\n",
            "Compiling '/usr/local/lib/python3.8/concurrent/futures/_base.py'...\n",
            "Compiling '/usr/local/lib/python3.8/concurrent/futures/process.py'...\n",
            "Compiling '/usr/local/lib/python3.8/concurrent/futures/thread.py'...\n",
            "Compiling '/usr/local/lib/python3.8/configparser.py'...\n",
            "Compiling '/usr/local/lib/python3.8/contextlib.py'...\n",
            "Compiling '/usr/local/lib/python3.8/contextvars.py'...\n",
            "Compiling '/usr/local/lib/python3.8/copy.py'...\n",
            "Compiling '/usr/local/lib/python3.8/copyreg.py'...\n",
            "Compiling '/usr/local/lib/python3.8/crypt.py'...\n",
            "Compiling '/usr/local/lib/python3.8/csv.py'...\n",
            "Compiling '/usr/local/lib/python3.8/ctypes/__init__.py'...\n",
            "Compiling '/usr/local/lib/python3.8/ctypes/_aix.py'...\n",
            "Compiling '/usr/local/lib/python3.8/ctypes/_endian.py'...\n",
            "Compiling '/usr/local/lib/python3.8/ctypes/macholib/__init__.py'...\n",
            "Compiling '/usr/local/lib/python3.8/ctypes/macholib/dyld.py'...\n",
            "Compiling '/usr/local/lib/python3.8/ctypes/macholib/dylib.py'...\n",
            "Compiling '/usr/local/lib/python3.8/ctypes/macholib/framework.py'...\n",
            "Compiling '/usr/local/lib/python3.8/ctypes/test/__init__.py'...\n",
            "Compiling '/usr/local/lib/python3.8/ctypes/test/__main__.py'...\n",
            "Listing '/usr/local/lib/python3.8/ensurepip'...\n",
            "Compiling '/usr/local/lib/python3.8/ctypes/test/test_anon.py'...\n",
            "Compiling '/usr/local/lib/python3.8/ctypes/test/test_array_in_pointer.py'...\n",
            "Compiling '/usr/local/lib/python3.8/ctypes/test/test_arrays.py'...\n",
            "Compiling '/usr/local/lib/python3.8/ctypes/test/test_as_parameter.py'...\n",
            "Compiling '/usr/local/lib/python3.8/ctypes/test/test_buffers.py'...\n",
            "Compiling '/usr/local/lib/python3.8/ctypes/test/test_bitfields.py'...\n",
            "Listing '/usr/local/lib/python3.8/ensurepip/_bundled'...\n",
            "Compiling '/usr/local/lib/python3.8/ctypes/test/test_bytes.py'...\n",
            "Compiling '/usr/local/lib/python3.8/ctypes/test/test_byteswap.py'...\n",
            "Compiling '/usr/local/lib/python3.8/ctypes/test/test_callbacks.py'...\n",
            "Listing '/usr/local/lib/python3.8/html'...\n",
            "Listing '/usr/local/lib/python3.8/http'...\n",
            "Listing '/usr/local/lib/python3.8/idlelib'...\n",
            "Compiling '/usr/local/lib/python3.8/ctypes/test/test_cast.py'...\n",
            "Compiling '/usr/local/lib/python3.8/ctypes/test/test_cfuncs.py'...\n",
            "Listing '/usr/local/lib/python3.8/idlelib/Icons'...\n",
            "Listing '/usr/local/lib/python3.8/idlelib/idle_test'...\n",
            "Compiling '/usr/local/lib/python3.8/ctypes/test/test_checkretval.py'...\n",
            "Compiling '/usr/local/lib/python3.8/ctypes/test/test_delattr.py'...\n",
            "Compiling '/usr/local/lib/python3.8/ctypes/test/test_errno.py'...\n",
            "Compiling '/usr/local/lib/python3.8/ctypes/test/test_find.py'...\n",
            "Compiling '/usr/local/lib/python3.8/ctypes/test/test_frombuffer.py'...\n",
            "Compiling '/usr/local/lib/python3.8/ctypes/test/test_funcptr.py'...\n",
            "Compiling '/usr/local/lib/python3.8/ctypes/test/test_functions.py'...\n",
            "Compiling '/usr/local/lib/python3.8/ctypes/test/test_incomplete.py'...\n",
            "Compiling '/usr/local/lib/python3.8/ctypes/test/test_init.py'...\n",
            "Compiling '/usr/local/lib/python3.8/ctypes/test/test_internals.py'...\n",
            "Compiling '/usr/local/lib/python3.8/ctypes/test/test_keeprefs.py'...\n",
            "Compiling '/usr/local/lib/python3.8/ctypes/test/test_libc.py'...\n",
            "Compiling '/usr/local/lib/python3.8/ctypes/test/test_loading.py'...\n",
            "Compiling '/usr/local/lib/python3.8/ctypes/test/test_macholib.py'...\n",
            "Compiling '/usr/local/lib/python3.8/ctypes/test/test_memfunctions.py'...\n",
            "Compiling '/usr/local/lib/python3.8/ctypes/test/test_numbers.py'...\n",
            "Compiling '/usr/local/lib/python3.8/ctypes/test/test_objects.py'...\n",
            "Compiling '/usr/local/lib/python3.8/ctypes/test/test_parameters.py'...\n",
            "Compiling '/usr/local/lib/python3.8/ctypes/test/test_pep3118.py'...\n",
            "Compiling '/usr/local/lib/python3.8/ctypes/test/test_pickling.py'...\n",
            "Compiling '/usr/local/lib/python3.8/ctypes/test/test_pointers.py'...\n",
            "Compiling '/usr/local/lib/python3.8/ctypes/test/test_prototypes.py'...\n",
            "Compiling '/usr/local/lib/python3.8/ctypes/test/test_python_api.py'...\n",
            "Compiling '/usr/local/lib/python3.8/ctypes/test/test_random_things.py'...\n",
            "Compiling '/usr/local/lib/python3.8/ctypes/test/test_refcounts.py'...\n",
            "Compiling '/usr/local/lib/python3.8/ctypes/test/test_repr.py'...\n",
            "Compiling '/usr/local/lib/python3.8/ctypes/test/test_returnfuncptrs.py'...\n",
            "Compiling '/usr/local/lib/python3.8/ctypes/test/test_simplesubclasses.py'...\n",
            "Compiling '/usr/local/lib/python3.8/ctypes/test/test_sizes.py'...\n",
            "Compiling '/usr/local/lib/python3.8/ctypes/test/test_slicing.py'...\n",
            "Compiling '/usr/local/lib/python3.8/ctypes/test/test_stringptr.py'...\n",
            "Compiling '/usr/local/lib/python3.8/ctypes/test/test_strings.py'...\n",
            "Compiling '/usr/local/lib/python3.8/ctypes/test/test_struct_fields.py'...\n",
            "Compiling '/usr/local/lib/python3.8/ctypes/test/test_structures.py'...\n",
            "Compiling '/usr/local/lib/python3.8/ctypes/test/test_unaligned_structures.py'...\n",
            "Compiling '/usr/local/lib/python3.8/ctypes/test/test_unicode.py'...\n",
            "Compiling '/usr/local/lib/python3.8/ctypes/test/test_values.py'...\n",
            "Compiling '/usr/local/lib/python3.8/ctypes/test/test_varsize_struct.py'...\n",
            "Compiling '/usr/local/lib/python3.8/ctypes/test/test_win32.py'...\n",
            "Listing '/usr/local/lib/python3.8/importlib'...\n",
            "Compiling '/usr/local/lib/python3.8/ctypes/test/test_wintypes.py'...\n",
            "Compiling '/usr/local/lib/python3.8/ctypes/util.py'...\n",
            "Listing '/usr/local/lib/python3.8/json'...\n",
            "Compiling '/usr/local/lib/python3.8/ctypes/wintypes.py'...\n",
            "Listing '/usr/local/lib/python3.8/lib2to3'...\n",
            "Listing '/usr/local/lib/python3.8/lib2to3/fixes'...\n",
            "Listing '/usr/local/lib/python3.8/lib2to3/pgen2'...\n",
            "Compiling '/usr/local/lib/python3.8/curses/__init__.py'...\n",
            "Compiling '/usr/local/lib/python3.8/curses/ascii.py'...\n",
            "Compiling '/usr/local/lib/python3.8/curses/has_key.py'...\n",
            "Compiling '/usr/local/lib/python3.8/curses/panel.py'...\n",
            "Compiling '/usr/local/lib/python3.8/curses/textpad.py'...\n",
            "Compiling '/usr/local/lib/python3.8/dataclasses.py'...\n",
            "Compiling '/usr/local/lib/python3.8/datetime.py'...\n",
            "Compiling '/usr/local/lib/python3.8/dbm/__init__.py'...\n",
            "Compiling '/usr/local/lib/python3.8/dbm/dumb.py'...\n",
            "Compiling '/usr/local/lib/python3.8/dbm/gnu.py'...\n",
            "Compiling '/usr/local/lib/python3.8/dbm/ndbm.py'...\n",
            "Compiling '/usr/local/lib/python3.8/decimal.py'...\n",
            "Compiling '/usr/local/lib/python3.8/difflib.py'...\n",
            "Compiling '/usr/local/lib/python3.8/dis.py'...\n",
            "Compiling '/usr/local/lib/python3.8/distutils/__init__.py'...\n",
            "Listing '/usr/local/lib/python3.8/lib2to3/tests'...\n",
            "Listing '/usr/local/lib/python3.8/lib2to3/tests/data'...\n",
            "Compiling '/usr/local/lib/python3.8/distutils/_msvccompiler.py'...\n",
            "Listing '/usr/local/lib/python3.8/lib2to3/tests/data/fixers'...\n",
            "Listing '/usr/local/lib/python3.8/lib2to3/tests/data/fixers/myfixes'...\n",
            "Compiling '/usr/local/lib/python3.8/distutils/archive_util.py'...\n",
            "Compiling '/usr/local/lib/python3.8/distutils/bcppcompiler.py'...\n",
            "Listing '/usr/local/lib/python3.8/logging'...\n",
            "Listing '/usr/local/lib/python3.8/multiprocessing'...\n",
            "Compiling '/usr/local/lib/python3.8/distutils/ccompiler.py'...\n",
            "Listing '/usr/local/lib/python3.8/multiprocessing/dummy'...\n",
            "Compiling '/usr/local/lib/python3.8/distutils/cmd.py'...\n",
            "Compiling '/usr/local/lib/python3.8/distutils/command/__init__.py'...\n",
            "Compiling '/usr/local/lib/python3.8/distutils/command/bdist.py'...\n",
            "Compiling '/usr/local/lib/python3.8/distutils/command/bdist_dumb.py'...\n",
            "Compiling '/usr/local/lib/python3.8/distutils/command/bdist_msi.py'...\n",
            "Compiling '/usr/local/lib/python3.8/distutils/command/bdist_rpm.py'...\n",
            "Compiling '/usr/local/lib/python3.8/distutils/command/bdist_wininst.py'...\n",
            "Compiling '/usr/local/lib/python3.8/distutils/command/build.py'...\n",
            "Compiling '/usr/local/lib/python3.8/distutils/command/build_clib.py'...\n",
            "Compiling '/usr/local/lib/python3.8/distutils/command/build_ext.py'...\n",
            "Listing '/usr/local/lib/python3.8/pydoc_data'...\n",
            "Compiling '/usr/local/lib/python3.8/distutils/command/build_py.py'...\n",
            "Compiling '/usr/local/lib/python3.8/distutils/command/build_scripts.py'...\n",
            "Compiling '/usr/local/lib/python3.8/distutils/command/clean.py'...\n",
            "Compiling '/usr/local/lib/python3.8/distutils/command/check.py'...\n",
            "Compiling '/usr/local/lib/python3.8/distutils/command/config.py'...\n",
            "Compiling '/usr/local/lib/python3.8/distutils/command/install.py'...\n",
            "Compiling '/usr/local/lib/python3.8/distutils/command/install_data.py'...\n",
            "Compiling '/usr/local/lib/python3.8/distutils/command/install_egg_info.py'...\n",
            "Compiling '/usr/local/lib/python3.8/distutils/command/install_headers.py'...\n",
            "Compiling '/usr/local/lib/python3.8/distutils/command/install_lib.py'...\n",
            "Compiling '/usr/local/lib/python3.8/distutils/command/install_scripts.py'...\n",
            "Compiling '/usr/local/lib/python3.8/distutils/command/register.py'...\n",
            "Compiling '/usr/local/lib/python3.8/distutils/command/sdist.py'...\n",
            "Compiling '/usr/local/lib/python3.8/distutils/command/upload.py'...\n",
            "Compiling '/usr/local/lib/python3.8/distutils/config.py'...\n",
            "Compiling '/usr/local/lib/python3.8/distutils/core.py'...\n",
            "Compiling '/usr/local/lib/python3.8/distutils/cygwinccompiler.py'...\n",
            "Compiling '/usr/local/lib/python3.8/distutils/debug.py'...\n",
            "Compiling '/usr/local/lib/python3.8/distutils/dep_util.py'...\n",
            "Compiling '/usr/local/lib/python3.8/distutils/dir_util.py'...\n",
            "Compiling '/usr/local/lib/python3.8/distutils/dist.py'...\n",
            "Compiling '/usr/local/lib/python3.8/distutils/errors.py'...\n",
            "Compiling '/usr/local/lib/python3.8/distutils/extension.py'...\n",
            "Compiling '/usr/local/lib/python3.8/distutils/fancy_getopt.py'...\n",
            "Compiling '/usr/local/lib/python3.8/distutils/file_util.py'...\n",
            "Listing '/usr/local/lib/python3.8/site-packages'...\n",
            "Compiling '/usr/local/lib/python3.8/distutils/filelist.py'...\n",
            "Listing '/usr/local/lib/python3.8/sqlite3'...\n",
            "Compiling '/usr/local/lib/python3.8/distutils/log.py'...\n",
            "Compiling '/usr/local/lib/python3.8/distutils/msvc9compiler.py'...\n",
            "Compiling '/usr/local/lib/python3.8/distutils/msvccompiler.py'...\n",
            "Compiling '/usr/local/lib/python3.8/distutils/spawn.py'...\n",
            "Compiling '/usr/local/lib/python3.8/distutils/sysconfig.py'...\n",
            "Compiling '/usr/local/lib/python3.8/distutils/tests/__init__.py'...\n",
            "Compiling '/usr/local/lib/python3.8/distutils/tests/support.py'...\n",
            "Compiling '/usr/local/lib/python3.8/distutils/tests/test_archive_util.py'...\n",
            "Compiling '/usr/local/lib/python3.8/distutils/tests/test_bdist.py'...\n",
            "Compiling '/usr/local/lib/python3.8/distutils/tests/test_bdist_dumb.py'...\n",
            "Compiling '/usr/local/lib/python3.8/distutils/tests/test_bdist_msi.py'...\n",
            "Compiling '/usr/local/lib/python3.8/distutils/tests/test_bdist_rpm.py'...\n",
            "Listing '/usr/local/lib/python3.8/sqlite3/test'...\n",
            "Compiling '/usr/local/lib/python3.8/distutils/tests/test_bdist_wininst.py'...\n",
            "Compiling '/usr/local/lib/python3.8/distutils/tests/test_build.py'...\n",
            "Compiling '/usr/local/lib/python3.8/distutils/tests/test_build_clib.py'...\n",
            "Compiling '/usr/local/lib/python3.8/distutils/tests/test_build_ext.py'...\n",
            "Compiling '/usr/local/lib/python3.8/distutils/tests/test_build_py.py'...\n",
            "Listing '/usr/local/lib/python3.8/test'...\n",
            "Compiling '/usr/local/lib/python3.8/distutils/tests/test_build_scripts.py'...\n",
            "Compiling '/usr/local/lib/python3.8/distutils/tests/test_check.py'...\n",
            "Compiling '/usr/local/lib/python3.8/distutils/tests/test_clean.py'...\n",
            "Compiling '/usr/local/lib/python3.8/distutils/tests/test_cmd.py'...\n",
            "Listing '/usr/local/lib/python3.8/test/audiodata'...\n",
            "Compiling '/usr/local/lib/python3.8/distutils/tests/test_config.py'...\n",
            "Compiling '/usr/local/lib/python3.8/distutils/tests/test_config_cmd.py'...\n",
            "Compiling '/usr/local/lib/python3.8/distutils/tests/test_core.py'...\n",
            "Compiling '/usr/local/lib/python3.8/distutils/tests/test_cygwinccompiler.py'...\n",
            "Compiling '/usr/local/lib/python3.8/distutils/tests/test_dep_util.py'...\n",
            "Compiling '/usr/local/lib/python3.8/distutils/tests/test_dir_util.py'...\n",
            "Compiling '/usr/local/lib/python3.8/distutils/tests/test_dist.py'...\n",
            "Compiling '/usr/local/lib/python3.8/distutils/tests/test_extension.py'...\n",
            "Compiling '/usr/local/lib/python3.8/distutils/tests/test_file_util.py'...\n",
            "Compiling '/usr/local/lib/python3.8/distutils/tests/test_filelist.py'...\n",
            "Compiling '/usr/local/lib/python3.8/distutils/tests/test_install.py'...\n",
            "Compiling '/usr/local/lib/python3.8/distutils/tests/test_install_data.py'...\n",
            "Compiling '/usr/local/lib/python3.8/distutils/tests/test_install_headers.py'...\n",
            "Compiling '/usr/local/lib/python3.8/distutils/tests/test_install_lib.py'...\n",
            "Compiling '/usr/local/lib/python3.8/distutils/tests/test_install_scripts.py'...\n",
            "Compiling '/usr/local/lib/python3.8/distutils/tests/test_log.py'...\n",
            "Compiling '/usr/local/lib/python3.8/distutils/tests/test_msvc9compiler.py'...\n",
            "Compiling '/usr/local/lib/python3.8/distutils/tests/test_msvccompiler.py'...\n",
            "Compiling '/usr/local/lib/python3.8/distutils/tests/test_register.py'...\n",
            "Compiling '/usr/local/lib/python3.8/distutils/tests/test_sdist.py'...\n",
            "Compiling '/usr/local/lib/python3.8/distutils/tests/test_spawn.py'...\n",
            "Listing '/usr/local/lib/python3.8/test/capath'...\n",
            "Listing '/usr/local/lib/python3.8/test/cjkencodings'...\n",
            "Compiling '/usr/local/lib/python3.8/distutils/tests/test_sysconfig.py'...\n",
            "Compiling '/usr/local/lib/python3.8/distutils/tests/test_text_file.py'...\n",
            "Compiling '/usr/local/lib/python3.8/distutils/tests/test_unixccompiler.py'...\n",
            "Compiling '/usr/local/lib/python3.8/distutils/tests/test_upload.py'...\n",
            "Compiling '/usr/local/lib/python3.8/distutils/tests/test_util.py'...\n",
            "Compiling '/usr/local/lib/python3.8/distutils/tests/test_version.py'...\n",
            "Compiling '/usr/local/lib/python3.8/distutils/tests/test_versionpredicate.py'...\n",
            "Compiling '/usr/local/lib/python3.8/distutils/unixccompiler.py'...\n",
            "Compiling '/usr/local/lib/python3.8/distutils/text_file.py'...\n",
            "Compiling '/usr/local/lib/python3.8/distutils/util.py'...\n",
            "Compiling '/usr/local/lib/python3.8/distutils/version.py'...\n",
            "Listing '/usr/local/lib/python3.8/test/data'...\n",
            "Compiling '/usr/local/lib/python3.8/distutils/versionpredicate.py'...\n",
            "Listing '/usr/local/lib/python3.8/test/decimaltestdata'...\n",
            "Compiling '/usr/local/lib/python3.8/doctest.py'...\n",
            "Compiling '/usr/local/lib/python3.8/dummy_threading.py'...\n",
            "Compiling '/usr/local/lib/python3.8/email/__init__.py'...\n",
            "Compiling '/usr/local/lib/python3.8/email/_encoded_words.py'...\n",
            "Compiling '/usr/local/lib/python3.8/email/_header_value_parser.py'...\n",
            "Compiling '/usr/local/lib/python3.8/email/_parseaddr.py'...\n",
            "Compiling '/usr/local/lib/python3.8/email/_policybase.py'...\n",
            "Compiling '/usr/local/lib/python3.8/email/base64mime.py'...\n",
            "Compiling '/usr/local/lib/python3.8/email/charset.py'...\n",
            "Compiling '/usr/local/lib/python3.8/email/contentmanager.py'...\n",
            "Compiling '/usr/local/lib/python3.8/email/encoders.py'...\n",
            "Compiling '/usr/local/lib/python3.8/email/errors.py'...\n",
            "Compiling '/usr/local/lib/python3.8/email/feedparser.py'...\n",
            "Compiling '/usr/local/lib/python3.8/email/generator.py'...\n",
            "Compiling '/usr/local/lib/python3.8/email/header.py'...\n",
            "Compiling '/usr/local/lib/python3.8/email/headerregistry.py'...\n",
            "Compiling '/usr/local/lib/python3.8/email/iterators.py'...\n",
            "Listing '/usr/local/lib/python3.8/test/dtracedata'...\n",
            "Listing '/usr/local/lib/python3.8/test/eintrdata'...\n",
            "Listing '/usr/local/lib/python3.8/test/encoded_modules'...\n",
            "Listing '/usr/local/lib/python3.8/test/imghdrdata'...\n",
            "Compiling '/usr/local/lib/python3.8/email/message.py'...\n",
            "Compiling '/usr/local/lib/python3.8/email/mime/__init__.py'...\n",
            "Compiling '/usr/local/lib/python3.8/email/mime/application.py'...\n",
            "Compiling '/usr/local/lib/python3.8/email/mime/audio.py'...\n",
            "Compiling '/usr/local/lib/python3.8/email/mime/base.py'...\n",
            "Compiling '/usr/local/lib/python3.8/email/mime/image.py'...\n",
            "Compiling '/usr/local/lib/python3.8/email/mime/message.py'...\n",
            "Compiling '/usr/local/lib/python3.8/email/mime/multipart.py'...\n",
            "Compiling '/usr/local/lib/python3.8/email/mime/nonmultipart.py'...\n",
            "Compiling '/usr/local/lib/python3.8/email/mime/text.py'...\n",
            "Compiling '/usr/local/lib/python3.8/email/parser.py'...\n",
            "Compiling '/usr/local/lib/python3.8/email/policy.py'...\n",
            "Compiling '/usr/local/lib/python3.8/email/quoprimime.py'...\n",
            "Compiling '/usr/local/lib/python3.8/email/utils.py'...\n",
            "Listing '/usr/local/lib/python3.8/test/libregrtest'...\n",
            "Compiling '/usr/local/lib/python3.8/encodings/__init__.py'...\n",
            "Compiling '/usr/local/lib/python3.8/encodings/aliases.py'...\n",
            "Compiling '/usr/local/lib/python3.8/encodings/ascii.py'...\n",
            "Compiling '/usr/local/lib/python3.8/encodings/base64_codec.py'...\n",
            "Listing '/usr/local/lib/python3.8/test/sndhdrdata'...\n",
            "Compiling '/usr/local/lib/python3.8/encodings/big5.py'...\n",
            "Compiling '/usr/local/lib/python3.8/encodings/big5hkscs.py'...\n",
            "Compiling '/usr/local/lib/python3.8/encodings/bz2_codec.py'...\n",
            "Compiling '/usr/local/lib/python3.8/encodings/charmap.py'...\n",
            "Compiling '/usr/local/lib/python3.8/encodings/cp037.py'...\n",
            "Compiling '/usr/local/lib/python3.8/encodings/cp1006.py'...\n",
            "Compiling '/usr/local/lib/python3.8/encodings/cp1026.py'...\n",
            "Compiling '/usr/local/lib/python3.8/encodings/cp1125.py'...\n",
            "Compiling '/usr/local/lib/python3.8/encodings/cp1140.py'...\n",
            "Compiling '/usr/local/lib/python3.8/encodings/cp1250.py'...\n",
            "Compiling '/usr/local/lib/python3.8/encodings/cp1251.py'...\n",
            "Listing '/usr/local/lib/python3.8/test/subprocessdata'...\n",
            "Compiling '/usr/local/lib/python3.8/encodings/cp1252.py'...\n",
            "Compiling '/usr/local/lib/python3.8/encodings/cp1253.py'...\n",
            "Compiling '/usr/local/lib/python3.8/encodings/cp1254.py'...\n",
            "Compiling '/usr/local/lib/python3.8/encodings/cp1255.py'...\n",
            "Compiling '/usr/local/lib/python3.8/encodings/cp1256.py'...\n",
            "Compiling '/usr/local/lib/python3.8/encodings/cp1257.py'...\n",
            "Compiling '/usr/local/lib/python3.8/encodings/cp1258.py'...\n",
            "Compiling '/usr/local/lib/python3.8/encodings/cp273.py'...\n",
            "Compiling '/usr/local/lib/python3.8/encodings/cp437.py'...\n",
            "Compiling '/usr/local/lib/python3.8/encodings/cp424.py'...\n",
            "Compiling '/usr/local/lib/python3.8/encodings/cp500.py'...\n",
            "Compiling '/usr/local/lib/python3.8/encodings/cp720.py'...\n",
            "Compiling '/usr/local/lib/python3.8/encodings/cp737.py'...\n",
            "Compiling '/usr/local/lib/python3.8/encodings/cp775.py'...\n",
            "Compiling '/usr/local/lib/python3.8/encodings/cp850.py'...\n",
            "Compiling '/usr/local/lib/python3.8/encodings/cp852.py'...\n",
            "Compiling '/usr/local/lib/python3.8/encodings/cp855.py'...\n",
            "Compiling '/usr/local/lib/python3.8/encodings/cp856.py'...\n",
            "Listing '/usr/local/lib/python3.8/test/support'...\n",
            "Compiling '/usr/local/lib/python3.8/encodings/cp857.py'...\n",
            "Compiling '/usr/local/lib/python3.8/encodings/cp860.py'...\n",
            "Compiling '/usr/local/lib/python3.8/encodings/cp858.py'...\n",
            "Compiling '/usr/local/lib/python3.8/encodings/cp861.py'...\n",
            "Compiling '/usr/local/lib/python3.8/encodings/cp862.py'...\n",
            "Compiling '/usr/local/lib/python3.8/encodings/cp863.py'...\n",
            "Listing '/usr/local/lib/python3.8/test/test_asyncio'...\n",
            "Compiling '/usr/local/lib/python3.8/encodings/cp864.py'...\n",
            "Compiling '/usr/local/lib/python3.8/encodings/cp865.py'...\n",
            "Compiling '/usr/local/lib/python3.8/encodings/cp866.py'...\n",
            "Compiling '/usr/local/lib/python3.8/encodings/cp869.py'...\n",
            "Compiling '/usr/local/lib/python3.8/encodings/cp874.py'...\n",
            "Compiling '/usr/local/lib/python3.8/encodings/cp875.py'...\n",
            "Compiling '/usr/local/lib/python3.8/encodings/cp932.py'...\n",
            "Compiling '/usr/local/lib/python3.8/encodings/cp949.py'...\n",
            "Compiling '/usr/local/lib/python3.8/encodings/cp950.py'...\n",
            "Compiling '/usr/local/lib/python3.8/encodings/euc_jis_2004.py'...\n",
            "Compiling '/usr/local/lib/python3.8/encodings/euc_jisx0213.py'...\n",
            "Compiling '/usr/local/lib/python3.8/encodings/euc_jp.py'...\n",
            "Compiling '/usr/local/lib/python3.8/encodings/euc_kr.py'...\n",
            "Compiling '/usr/local/lib/python3.8/encodings/gb18030.py'...\n",
            "Compiling '/usr/local/lib/python3.8/encodings/gb2312.py'...\n",
            "Compiling '/usr/local/lib/python3.8/encodings/gbk.py'...\n",
            "Compiling '/usr/local/lib/python3.8/encodings/hex_codec.py'...\n",
            "Compiling '/usr/local/lib/python3.8/encodings/hp_roman8.py'...\n",
            "Compiling '/usr/local/lib/python3.8/encodings/hz.py'...\n",
            "Compiling '/usr/local/lib/python3.8/encodings/idna.py'...\n",
            "Compiling '/usr/local/lib/python3.8/encodings/iso2022_jp.py'...\n",
            "Compiling '/usr/local/lib/python3.8/encodings/iso2022_jp_1.py'...\n",
            "Compiling '/usr/local/lib/python3.8/encodings/iso2022_jp_2.py'...\n",
            "Compiling '/usr/local/lib/python3.8/encodings/iso2022_jp_2004.py'...\n",
            "Compiling '/usr/local/lib/python3.8/encodings/iso2022_jp_3.py'...\n",
            "Compiling '/usr/local/lib/python3.8/encodings/iso2022_jp_ext.py'...\n",
            "Compiling '/usr/local/lib/python3.8/encodings/iso2022_kr.py'...\n",
            "Compiling '/usr/local/lib/python3.8/encodings/iso8859_1.py'...\n",
            "Compiling '/usr/local/lib/python3.8/encodings/iso8859_10.py'...\n",
            "Compiling '/usr/local/lib/python3.8/encodings/iso8859_11.py'...\n",
            "Compiling '/usr/local/lib/python3.8/encodings/iso8859_13.py'...\n",
            "Compiling '/usr/local/lib/python3.8/encodings/iso8859_14.py'...\n",
            "Compiling '/usr/local/lib/python3.8/encodings/iso8859_15.py'...\n",
            "Compiling '/usr/local/lib/python3.8/encodings/iso8859_16.py'...\n",
            "Compiling '/usr/local/lib/python3.8/encodings/iso8859_2.py'...\n",
            "Compiling '/usr/local/lib/python3.8/encodings/iso8859_3.py'...\n",
            "Compiling '/usr/local/lib/python3.8/encodings/iso8859_4.py'...\n",
            "Compiling '/usr/local/lib/python3.8/encodings/iso8859_5.py'...\n",
            "Compiling '/usr/local/lib/python3.8/encodings/iso8859_6.py'...\n",
            "Compiling '/usr/local/lib/python3.8/encodings/iso8859_7.py'...\n",
            "Compiling '/usr/local/lib/python3.8/encodings/iso8859_8.py'...\n",
            "Compiling '/usr/local/lib/python3.8/encodings/iso8859_9.py'...\n",
            "Compiling '/usr/local/lib/python3.8/encodings/johab.py'...\n",
            "Compiling '/usr/local/lib/python3.8/encodings/koi8_r.py'...\n",
            "Compiling '/usr/local/lib/python3.8/encodings/koi8_t.py'...\n",
            "Compiling '/usr/local/lib/python3.8/encodings/koi8_u.py'...\n",
            "Compiling '/usr/local/lib/python3.8/encodings/kz1048.py'...\n",
            "Compiling '/usr/local/lib/python3.8/encodings/latin_1.py'...\n",
            "Compiling '/usr/local/lib/python3.8/encodings/mac_arabic.py'...\n",
            "Compiling '/usr/local/lib/python3.8/encodings/mac_centeuro.py'...\n",
            "Compiling '/usr/local/lib/python3.8/encodings/mac_croatian.py'...\n",
            "Listing '/usr/local/lib/python3.8/test/test_email'...\n",
            "Compiling '/usr/local/lib/python3.8/encodings/mac_cyrillic.py'...\n",
            "Listing '/usr/local/lib/python3.8/test/test_email/data'...\n",
            "Compiling '/usr/local/lib/python3.8/encodings/mac_farsi.py'...\n",
            "Compiling '/usr/local/lib/python3.8/encodings/mac_greek.py'...\n",
            "Compiling '/usr/local/lib/python3.8/encodings/mac_iceland.py'...\n",
            "Compiling '/usr/local/lib/python3.8/encodings/mac_latin2.py'...\n",
            "Compiling '/usr/local/lib/python3.8/encodings/mac_roman.py'...\n",
            "Compiling '/usr/local/lib/python3.8/encodings/mac_romanian.py'...\n",
            "Compiling '/usr/local/lib/python3.8/encodings/mac_turkish.py'...\n",
            "Compiling '/usr/local/lib/python3.8/encodings/mbcs.py'...\n",
            "Compiling '/usr/local/lib/python3.8/encodings/oem.py'...\n",
            "Compiling '/usr/local/lib/python3.8/encodings/palmos.py'...\n",
            "Compiling '/usr/local/lib/python3.8/encodings/ptcp154.py'...\n",
            "Compiling '/usr/local/lib/python3.8/encodings/punycode.py'...\n",
            "Compiling '/usr/local/lib/python3.8/encodings/quopri_codec.py'...\n",
            "Compiling '/usr/local/lib/python3.8/encodings/raw_unicode_escape.py'...\n",
            "Compiling '/usr/local/lib/python3.8/encodings/rot_13.py'...\n",
            "Compiling '/usr/local/lib/python3.8/encodings/shift_jis.py'...\n",
            "Compiling '/usr/local/lib/python3.8/encodings/shift_jis_2004.py'...\n",
            "Compiling '/usr/local/lib/python3.8/encodings/shift_jisx0213.py'...\n",
            "Compiling '/usr/local/lib/python3.8/encodings/tis_620.py'...\n",
            "Compiling '/usr/local/lib/python3.8/encodings/undefined.py'...\n",
            "Compiling '/usr/local/lib/python3.8/encodings/unicode_escape.py'...\n",
            "Compiling '/usr/local/lib/python3.8/encodings/utf_16.py'...\n",
            "Compiling '/usr/local/lib/python3.8/encodings/utf_16_be.py'...\n",
            "Compiling '/usr/local/lib/python3.8/encodings/utf_16_le.py'...\n",
            "Compiling '/usr/local/lib/python3.8/encodings/utf_32.py'...\n",
            "Compiling '/usr/local/lib/python3.8/encodings/utf_32_be.py'...\n",
            "Compiling '/usr/local/lib/python3.8/encodings/utf_7.py'...\n",
            "Compiling '/usr/local/lib/python3.8/encodings/utf_32_le.py'...\n",
            "Compiling '/usr/local/lib/python3.8/encodings/utf_8.py'...\n",
            "Compiling '/usr/local/lib/python3.8/encodings/utf_8_sig.py'...\n",
            "Compiling '/usr/local/lib/python3.8/encodings/uu_codec.py'...\n",
            "Compiling '/usr/local/lib/python3.8/ensurepip/__init__.py'...\n",
            "Compiling '/usr/local/lib/python3.8/encodings/zlib_codec.py'...\n",
            "Compiling '/usr/local/lib/python3.8/ensurepip/__main__.py'...\n",
            "Compiling '/usr/local/lib/python3.8/enum.py'...\n",
            "Compiling '/usr/local/lib/python3.8/ensurepip/_uninstall.py'...\n",
            "Compiling '/usr/local/lib/python3.8/filecmp.py'...\n",
            "Compiling '/usr/local/lib/python3.8/fileinput.py'...\n",
            "Compiling '/usr/local/lib/python3.8/fnmatch.py'...\n",
            "Compiling '/usr/local/lib/python3.8/formatter.py'...\n",
            "Compiling '/usr/local/lib/python3.8/fractions.py'...\n",
            "Compiling '/usr/local/lib/python3.8/ftplib.py'...\n",
            "Compiling '/usr/local/lib/python3.8/functools.py'...\n",
            "Compiling '/usr/local/lib/python3.8/getopt.py'...\n",
            "Compiling '/usr/local/lib/python3.8/getpass.py'...\n",
            "Compiling '/usr/local/lib/python3.8/genericpath.py'...\n",
            "Compiling '/usr/local/lib/python3.8/gettext.py'...\n",
            "Compiling '/usr/local/lib/python3.8/glob.py'...\n",
            "Compiling '/usr/local/lib/python3.8/gzip.py'...\n",
            "Compiling '/usr/local/lib/python3.8/hashlib.py'...\n",
            "Compiling '/usr/local/lib/python3.8/heapq.py'...\n",
            "Compiling '/usr/local/lib/python3.8/hmac.py'...\n",
            "Compiling '/usr/local/lib/python3.8/html/__init__.py'...\n",
            "Compiling '/usr/local/lib/python3.8/html/entities.py'...\n",
            "Listing '/usr/local/lib/python3.8/test/test_import'...\n",
            "Listing '/usr/local/lib/python3.8/test/test_import/data'...\n",
            "Listing '/usr/local/lib/python3.8/test/test_import/data/circular_imports'...\n",
            "Compiling '/usr/local/lib/python3.8/html/parser.py'...\n",
            "Listing '/usr/local/lib/python3.8/test/test_import/data/circular_imports/subpkg'...\n",
            "Listing '/usr/local/lib/python3.8/test/test_import/data/package'...\n",
            "Listing '/usr/local/lib/python3.8/test/test_import/data/package2'...\n",
            "Listing '/usr/local/lib/python3.8/test/test_importlib'...\n",
            "Listing '/usr/local/lib/python3.8/test/test_importlib/builtin'...\n",
            "Listing '/usr/local/lib/python3.8/test/test_importlib/data'...\n",
            "Listing '/usr/local/lib/python3.8/test/test_importlib/data01'...\n",
            "Listing '/usr/local/lib/python3.8/test/test_importlib/data01/subdirectory'...\n",
            "Listing '/usr/local/lib/python3.8/test/test_importlib/data02'...\n",
            "Listing '/usr/local/lib/python3.8/test/test_importlib/data02/one'...\n",
            "Listing '/usr/local/lib/python3.8/test/test_importlib/data02/two'...\n",
            "Listing '/usr/local/lib/python3.8/test/test_importlib/data03'...\n",
            "Listing '/usr/local/lib/python3.8/test/test_importlib/data03/namespace'...\n",
            "Listing '/usr/local/lib/python3.8/test/test_importlib/data03/namespace/portion1'...\n",
            "Listing '/usr/local/lib/python3.8/test/test_importlib/data03/namespace/portion2'...\n",
            "Listing '/usr/local/lib/python3.8/test/test_importlib/extension'...\n",
            "Compiling '/usr/local/lib/python3.8/http/__init__.py'...\n",
            "Compiling '/usr/local/lib/python3.8/http/client.py'...\n",
            "Compiling '/usr/local/lib/python3.8/http/cookiejar.py'...\n",
            "Compiling '/usr/local/lib/python3.8/http/server.py'...\n",
            "Compiling '/usr/local/lib/python3.8/http/cookies.py'...\n",
            "Listing '/usr/local/lib/python3.8/test/test_importlib/frozen'...\n",
            "Listing '/usr/local/lib/python3.8/test/test_importlib/import_'...\n",
            "Listing '/usr/local/lib/python3.8/test/test_importlib/namespace_pkgs'...\n",
            "Listing '/usr/local/lib/python3.8/test/test_importlib/namespace_pkgs/both_portions'...\n",
            "Listing '/usr/local/lib/python3.8/test/test_importlib/namespace_pkgs/both_portions/foo'...\n",
            "Listing '/usr/local/lib/python3.8/test/test_importlib/namespace_pkgs/module_and_namespace_package'...\n",
            "Listing '/usr/local/lib/python3.8/test/test_importlib/namespace_pkgs/module_and_namespace_package/a_test'...\n",
            "Listing '/usr/local/lib/python3.8/test/test_importlib/namespace_pkgs/not_a_namespace_pkg'...\n",
            "Listing '/usr/local/lib/python3.8/test/test_importlib/namespace_pkgs/not_a_namespace_pkg/foo'...\n",
            "Listing '/usr/local/lib/python3.8/test/test_importlib/namespace_pkgs/portion1'...\n",
            "Listing '/usr/local/lib/python3.8/test/test_importlib/namespace_pkgs/portion1/foo'...\n",
            "Compiling '/usr/local/lib/python3.8/idlelib/__init__.py'...\n",
            "Compiling '/usr/local/lib/python3.8/idlelib/__main__.py'...\n",
            "Compiling '/usr/local/lib/python3.8/idlelib/autocomplete.py'...\n",
            "Compiling '/usr/local/lib/python3.8/idlelib/autocomplete_w.py'...\n",
            "Compiling '/usr/local/lib/python3.8/idlelib/browser.py'...\n",
            "Compiling '/usr/local/lib/python3.8/idlelib/autoexpand.py'...\n",
            "Compiling '/usr/local/lib/python3.8/idlelib/calltip.py'...\n",
            "Compiling '/usr/local/lib/python3.8/idlelib/calltip_w.py'...\n",
            "Compiling '/usr/local/lib/python3.8/idlelib/codecontext.py'...\n",
            "Compiling '/usr/local/lib/python3.8/idlelib/colorizer.py'...\n",
            "Compiling '/usr/local/lib/python3.8/idlelib/config.py'...\n",
            "Compiling '/usr/local/lib/python3.8/idlelib/config_key.py'...\n",
            "Compiling '/usr/local/lib/python3.8/idlelib/configdialog.py'...\n",
            "Compiling '/usr/local/lib/python3.8/idlelib/debugger_r.py'...\n",
            "Compiling '/usr/local/lib/python3.8/idlelib/debugger.py'...\n",
            "Listing '/usr/local/lib/python3.8/test/test_importlib/namespace_pkgs/portion2'...\n",
            "Listing '/usr/local/lib/python3.8/test/test_importlib/namespace_pkgs/portion2/foo'...\n",
            "Listing '/usr/local/lib/python3.8/test/test_importlib/namespace_pkgs/project1'...\n",
            "Listing '/usr/local/lib/python3.8/test/test_importlib/namespace_pkgs/project1/parent'...\n",
            "Listing '/usr/local/lib/python3.8/test/test_importlib/namespace_pkgs/project1/parent/child'...\n",
            "Listing '/usr/local/lib/python3.8/test/test_importlib/namespace_pkgs/project2'...\n",
            "Listing '/usr/local/lib/python3.8/test/test_importlib/namespace_pkgs/project2/parent'...\n",
            "Compiling '/usr/local/lib/python3.8/idlelib/debugobj.py'...\n",
            "Listing '/usr/local/lib/python3.8/test/test_importlib/namespace_pkgs/project2/parent/child'...\n",
            "Listing '/usr/local/lib/python3.8/test/test_importlib/namespace_pkgs/project3'...\n",
            "Listing '/usr/local/lib/python3.8/test/test_importlib/namespace_pkgs/project3/parent'...\n",
            "Listing '/usr/local/lib/python3.8/test/test_importlib/namespace_pkgs/project3/parent/child'...\n",
            "Listing '/usr/local/lib/python3.8/test/test_importlib/source'...\n",
            "Compiling '/usr/local/lib/python3.8/idlelib/debugobj_r.py'...\n",
            "Listing '/usr/local/lib/python3.8/test/test_importlib/zipdata01'...\n",
            "Listing '/usr/local/lib/python3.8/test/test_importlib/zipdata02'...\n",
            "Compiling '/usr/local/lib/python3.8/idlelib/delegator.py'...\n",
            "Compiling '/usr/local/lib/python3.8/idlelib/dynoption.py'...\n",
            "Compiling '/usr/local/lib/python3.8/idlelib/editor.py'...\n",
            "Listing '/usr/local/lib/python3.8/test/test_json'...\n",
            "Compiling '/usr/local/lib/python3.8/idlelib/filelist.py'...\n",
            "Compiling '/usr/local/lib/python3.8/idlelib/format.py'...\n",
            "Compiling '/usr/local/lib/python3.8/idlelib/grep.py'...\n",
            "Compiling '/usr/local/lib/python3.8/idlelib/help.py'...\n",
            "Compiling '/usr/local/lib/python3.8/idlelib/help_about.py'...\n",
            "Compiling '/usr/local/lib/python3.8/idlelib/history.py'...\n",
            "Compiling '/usr/local/lib/python3.8/idlelib/hyperparser.py'...\n",
            "Compiling '/usr/local/lib/python3.8/idlelib/idle.py'...\n",
            "Compiling '/usr/local/lib/python3.8/idlelib/idle_test/__init__.py'...\n",
            "Compiling '/usr/local/lib/python3.8/idlelib/idle_test/htest.py'...\n",
            "Compiling '/usr/local/lib/python3.8/idlelib/idle_test/mock_idle.py'...\n",
            "Compiling '/usr/local/lib/python3.8/idlelib/idle_test/mock_tk.py'...\n",
            "Compiling '/usr/local/lib/python3.8/idlelib/idle_test/template.py'...\n",
            "Compiling '/usr/local/lib/python3.8/idlelib/idle_test/test_autocomplete.py'...\n",
            "Compiling '/usr/local/lib/python3.8/idlelib/idle_test/test_autocomplete_w.py'...\n",
            "Compiling '/usr/local/lib/python3.8/idlelib/idle_test/test_autoexpand.py'...\n",
            "Compiling '/usr/local/lib/python3.8/idlelib/idle_test/test_browser.py'...\n",
            "Compiling '/usr/local/lib/python3.8/idlelib/idle_test/test_calltip.py'...\n",
            "Compiling '/usr/local/lib/python3.8/idlelib/idle_test/test_calltip_w.py'...\n",
            "Compiling '/usr/local/lib/python3.8/idlelib/idle_test/test_codecontext.py'...\n",
            "Compiling '/usr/local/lib/python3.8/idlelib/idle_test/test_colorizer.py'...\n",
            "Compiling '/usr/local/lib/python3.8/idlelib/idle_test/test_config.py'...\n",
            "Compiling '/usr/local/lib/python3.8/idlelib/idle_test/test_config_key.py'...\n",
            "Compiling '/usr/local/lib/python3.8/idlelib/idle_test/test_configdialog.py'...\n",
            "Compiling '/usr/local/lib/python3.8/idlelib/idle_test/test_debugger.py'...\n",
            "Compiling '/usr/local/lib/python3.8/idlelib/idle_test/test_debugger_r.py'...\n",
            "Compiling '/usr/local/lib/python3.8/idlelib/idle_test/test_debugobj_r.py'...\n",
            "Compiling '/usr/local/lib/python3.8/idlelib/idle_test/test_debugobj.py'...\n",
            "Compiling '/usr/local/lib/python3.8/idlelib/idle_test/test_delegator.py'...\n",
            "Compiling '/usr/local/lib/python3.8/idlelib/idle_test/test_editor.py'...\n",
            "Compiling '/usr/local/lib/python3.8/idlelib/idle_test/test_editmenu.py'...\n",
            "Compiling '/usr/local/lib/python3.8/idlelib/idle_test/test_filelist.py'...\n",
            "Compiling '/usr/local/lib/python3.8/idlelib/idle_test/test_format.py'...\n",
            "Compiling '/usr/local/lib/python3.8/idlelib/idle_test/test_grep.py'...\n",
            "Listing '/usr/local/lib/python3.8/test/test_tools'...\n",
            "Compiling '/usr/local/lib/python3.8/idlelib/idle_test/test_help.py'...\n",
            "Compiling '/usr/local/lib/python3.8/idlelib/idle_test/test_help_about.py'...\n",
            "Compiling '/usr/local/lib/python3.8/idlelib/idle_test/test_history.py'...\n",
            "Compiling '/usr/local/lib/python3.8/idlelib/idle_test/test_hyperparser.py'...\n",
            "Compiling '/usr/local/lib/python3.8/idlelib/idle_test/test_iomenu.py'...\n",
            "Compiling '/usr/local/lib/python3.8/idlelib/idle_test/test_macosx.py'...\n",
            "Compiling '/usr/local/lib/python3.8/idlelib/idle_test/test_mainmenu.py'...\n",
            "Compiling '/usr/local/lib/python3.8/idlelib/idle_test/test_multicall.py'...\n",
            "Compiling '/usr/local/lib/python3.8/idlelib/idle_test/test_outwin.py'...\n",
            "Listing '/usr/local/lib/python3.8/test/test_warnings'...\n",
            "Listing '/usr/local/lib/python3.8/test/test_warnings/data'...\n",
            "Compiling '/usr/local/lib/python3.8/idlelib/idle_test/test_parenmatch.py'...\n",
            "Compiling '/usr/local/lib/python3.8/idlelib/idle_test/test_pathbrowser.py'...\n",
            "Compiling '/usr/local/lib/python3.8/idlelib/idle_test/test_percolator.py'...\n",
            "Compiling '/usr/local/lib/python3.8/idlelib/idle_test/test_pyparse.py'...\n",
            "Compiling '/usr/local/lib/python3.8/idlelib/idle_test/test_pyshell.py'...\n",
            "Compiling '/usr/local/lib/python3.8/idlelib/idle_test/test_query.py'...\n",
            "Compiling '/usr/local/lib/python3.8/idlelib/idle_test/test_redirector.py'...\n",
            "Compiling '/usr/local/lib/python3.8/idlelib/idle_test/test_replace.py'...\n",
            "Compiling '/usr/local/lib/python3.8/idlelib/idle_test/test_rpc.py'...\n",
            "Compiling '/usr/local/lib/python3.8/idlelib/idle_test/test_run.py'...\n",
            "Compiling '/usr/local/lib/python3.8/idlelib/idle_test/test_runscript.py'...\n",
            "Compiling '/usr/local/lib/python3.8/idlelib/idle_test/test_scrolledlist.py'...\n",
            "Compiling '/usr/local/lib/python3.8/idlelib/idle_test/test_search.py'...\n",
            "Compiling '/usr/local/lib/python3.8/idlelib/idle_test/test_searchbase.py'...\n",
            "Compiling '/usr/local/lib/python3.8/idlelib/idle_test/test_searchengine.py'...\n",
            "Listing '/usr/local/lib/python3.8/test/tracedmodules'...\n",
            "Listing '/usr/local/lib/python3.8/test/xmltestdata'...\n",
            "Listing '/usr/local/lib/python3.8/test/xmltestdata/c14n-20'...\n",
            "Compiling '/usr/local/lib/python3.8/idlelib/idle_test/test_sidebar.py'...\n",
            "Compiling '/usr/local/lib/python3.8/idlelib/idle_test/test_squeezer.py'...\n",
            "Compiling '/usr/local/lib/python3.8/idlelib/idle_test/test_stackviewer.py'...\n",
            "Compiling '/usr/local/lib/python3.8/idlelib/idle_test/test_statusbar.py'...\n",
            "Compiling '/usr/local/lib/python3.8/idlelib/idle_test/test_text.py'...\n",
            "Compiling '/usr/local/lib/python3.8/idlelib/idle_test/test_textview.py'...\n",
            "Compiling '/usr/local/lib/python3.8/idlelib/idle_test/test_tooltip.py'...\n",
            "Compiling '/usr/local/lib/python3.8/idlelib/idle_test/test_tree.py'...\n",
            "Compiling '/usr/local/lib/python3.8/idlelib/idle_test/test_undo.py'...\n",
            "Compiling '/usr/local/lib/python3.8/idlelib/idle_test/test_warning.py'...\n",
            "Compiling '/usr/local/lib/python3.8/idlelib/idle_test/test_window.py'...\n",
            "Listing '/usr/local/lib/python3.8/test/ziptestdata'...\n",
            "Compiling '/usr/local/lib/python3.8/idlelib/idle_test/test_zoomheight.py'...\n",
            "Compiling '/usr/local/lib/python3.8/idlelib/iomenu.py'...\n",
            "Listing '/usr/local/lib/python3.8/tkinter'...\n",
            "Compiling '/usr/local/lib/python3.8/idlelib/macosx.py'...\n",
            "Compiling '/usr/local/lib/python3.8/idlelib/mainmenu.py'...\n",
            "Listing '/usr/local/lib/python3.8/tkinter/test'...\n",
            "Compiling '/usr/local/lib/python3.8/idlelib/multicall.py'...\n",
            "Compiling '/usr/local/lib/python3.8/idlelib/outwin.py'...\n",
            "Listing '/usr/local/lib/python3.8/tkinter/test/test_tkinter'...\n",
            "Listing '/usr/local/lib/python3.8/tkinter/test/test_ttk'...\n",
            "Compiling '/usr/local/lib/python3.8/idlelib/parenmatch.py'...\n",
            "Compiling '/usr/local/lib/python3.8/idlelib/pathbrowser.py'...\n",
            "Compiling '/usr/local/lib/python3.8/idlelib/percolator.py'...\n",
            "Compiling '/usr/local/lib/python3.8/idlelib/pyparse.py'...\n",
            "Compiling '/usr/local/lib/python3.8/idlelib/pyshell.py'...\n",
            "Compiling '/usr/local/lib/python3.8/idlelib/query.py'...\n",
            "Compiling '/usr/local/lib/python3.8/idlelib/redirector.py'...\n",
            "Compiling '/usr/local/lib/python3.8/idlelib/replace.py'...\n",
            "Compiling '/usr/local/lib/python3.8/idlelib/rpc.py'...\n",
            "Compiling '/usr/local/lib/python3.8/idlelib/run.py'...\n",
            "Compiling '/usr/local/lib/python3.8/idlelib/runscript.py'...\n",
            "Compiling '/usr/local/lib/python3.8/idlelib/scrolledlist.py'...\n",
            "Compiling '/usr/local/lib/python3.8/idlelib/search.py'...\n",
            "Compiling '/usr/local/lib/python3.8/idlelib/searchbase.py'...\n",
            "Compiling '/usr/local/lib/python3.8/idlelib/searchengine.py'...\n",
            "Compiling '/usr/local/lib/python3.8/idlelib/sidebar.py'...\n",
            "Compiling '/usr/local/lib/python3.8/idlelib/squeezer.py'...\n",
            "Compiling '/usr/local/lib/python3.8/idlelib/stackviewer.py'...\n",
            "Compiling '/usr/local/lib/python3.8/idlelib/statusbar.py'...\n",
            "Compiling '/usr/local/lib/python3.8/idlelib/textview.py'...\n",
            "Compiling '/usr/local/lib/python3.8/idlelib/tooltip.py'...\n",
            "Compiling '/usr/local/lib/python3.8/idlelib/tree.py'...\n",
            "Compiling '/usr/local/lib/python3.8/idlelib/undo.py'...\n",
            "Compiling '/usr/local/lib/python3.8/idlelib/window.py'...\n",
            "Compiling '/usr/local/lib/python3.8/idlelib/zoomheight.py'...\n",
            "Compiling '/usr/local/lib/python3.8/idlelib/zzdummy.py'...\n",
            "Compiling '/usr/local/lib/python3.8/imaplib.py'...\n",
            "Listing '/usr/local/lib/python3.8/turtledemo'...\n",
            "Compiling '/usr/local/lib/python3.8/imghdr.py'...\n",
            "Compiling '/usr/local/lib/python3.8/imp.py'...\n",
            "Compiling '/usr/local/lib/python3.8/importlib/_bootstrap.py'...\n",
            "Listing '/usr/local/lib/python3.8/unittest'...\n",
            "Compiling '/usr/local/lib/python3.8/importlib/_bootstrap_external.py'...\n",
            "Listing '/usr/local/lib/python3.8/unittest/test'...\n",
            "Compiling '/usr/local/lib/python3.8/importlib/abc.py'...\n",
            "Compiling '/usr/local/lib/python3.8/importlib/machinery.py'...\n",
            "Listing '/usr/local/lib/python3.8/unittest/test/testmock'...\n",
            "Compiling '/usr/local/lib/python3.8/importlib/metadata.py'...\n",
            "Listing '/usr/local/lib/python3.8/urllib'...\n",
            "Compiling '/usr/local/lib/python3.8/importlib/resources.py'...\n",
            "Listing '/usr/local/lib/python3.8/venv'...\n",
            "Listing '/usr/local/lib/python3.8/venv/scripts'...\n",
            "Listing '/usr/local/lib/python3.8/venv/scripts/common'...\n",
            "Listing '/usr/local/lib/python3.8/venv/scripts/posix'...\n",
            "Listing '/usr/local/lib/python3.8/wsgiref'...\n",
            "Listing '/usr/local/lib/python3.8/xml'...\n",
            "Listing '/usr/local/lib/python3.8/xml/dom'...\n",
            "Listing '/usr/local/lib/python3.8/xml/etree'...\n",
            "Compiling '/usr/local/lib/python3.8/importlib/__init__.py'...\n",
            "Listing '/usr/local/lib/python3.8/xml/parsers'...\n",
            "Listing '/usr/local/lib/python3.8/xml/sax'...\n",
            "Listing '/usr/local/lib/python3.8/xmlrpc'...\n",
            "Compiling '/usr/local/lib/python3.8/importlib/util.py'...\n",
            "Compiling '/usr/local/lib/python3.8/inspect.py'...\n",
            "Compiling '/usr/local/lib/python3.8/io.py'...\n",
            "Compiling '/usr/local/lib/python3.8/ipaddress.py'...\n",
            "Compiling '/usr/local/lib/python3.8/json/__init__.py'...\n",
            "Compiling '/usr/local/lib/python3.8/json/decoder.py'...\n",
            "Compiling '/usr/local/lib/python3.8/json/encoder.py'...\n",
            "Compiling '/usr/local/lib/python3.8/json/scanner.py'...\n",
            "Compiling '/usr/local/lib/python3.8/json/tool.py'...\n",
            "Compiling '/usr/local/lib/python3.8/keyword.py'...\n",
            "Compiling '/usr/local/lib/python3.8/lib2to3/__init__.py'...\n",
            "Compiling '/usr/local/lib/python3.8/lib2to3/__main__.py'...\n",
            "Compiling '/usr/local/lib/python3.8/lib2to3/btm_matcher.py'...\n",
            "Compiling '/usr/local/lib/python3.8/lib2to3/btm_utils.py'...\n",
            "Compiling '/usr/local/lib/python3.8/lib2to3/fixer_base.py'...\n",
            "Compiling '/usr/local/lib/python3.8/lib2to3/fixer_util.py'...\n",
            "Compiling '/usr/local/lib/python3.8/lib2to3/fixes/__init__.py'...\n",
            "Compiling '/usr/local/lib/python3.8/lib2to3/fixes/fix_asserts.py'...\n",
            "Compiling '/usr/local/lib/python3.8/lib2to3/fixes/fix_apply.py'...\n",
            "Compiling '/usr/local/lib/python3.8/lib2to3/fixes/fix_basestring.py'...\n",
            "Compiling '/usr/local/lib/python3.8/lib2to3/fixes/fix_buffer.py'...\n",
            "Compiling '/usr/local/lib/python3.8/lib2to3/fixes/fix_dict.py'...\n",
            "Compiling '/usr/local/lib/python3.8/lib2to3/fixes/fix_except.py'...\n",
            "Compiling '/usr/local/lib/python3.8/lib2to3/fixes/fix_exec.py'...\n",
            "Compiling '/usr/local/lib/python3.8/lib2to3/fixes/fix_execfile.py'...\n",
            "Compiling '/usr/local/lib/python3.8/lib2to3/fixes/fix_exitfunc.py'...\n",
            "Compiling '/usr/local/lib/python3.8/lib2to3/fixes/fix_filter.py'...\n",
            "Compiling '/usr/local/lib/python3.8/lib2to3/fixes/fix_funcattrs.py'...\n",
            "Compiling '/usr/local/lib/python3.8/lib2to3/fixes/fix_future.py'...\n",
            "Compiling '/usr/local/lib/python3.8/lib2to3/fixes/fix_getcwdu.py'...\n",
            "Compiling '/usr/local/lib/python3.8/lib2to3/fixes/fix_has_key.py'...\n",
            "Compiling '/usr/local/lib/python3.8/lib2to3/fixes/fix_idioms.py'...\n",
            "Compiling '/usr/local/lib/python3.8/lib2to3/fixes/fix_import.py'...\n",
            "Compiling '/usr/local/lib/python3.8/lib2to3/fixes/fix_imports.py'...\n",
            "Compiling '/usr/local/lib/python3.8/lib2to3/fixes/fix_imports2.py'...\n",
            "Compiling '/usr/local/lib/python3.8/lib2to3/fixes/fix_input.py'...\n",
            "Compiling '/usr/local/lib/python3.8/lib2to3/fixes/fix_intern.py'...\n",
            "Compiling '/usr/local/lib/python3.8/lib2to3/fixes/fix_isinstance.py'...\n",
            "Compiling '/usr/local/lib/python3.8/lib2to3/fixes/fix_itertools.py'...\n",
            "Compiling '/usr/local/lib/python3.8/lib2to3/fixes/fix_itertools_imports.py'...\n",
            "Compiling '/usr/local/lib/python3.8/lib2to3/fixes/fix_long.py'...\n",
            "Compiling '/usr/local/lib/python3.8/lib2to3/fixes/fix_map.py'...\n",
            "Compiling '/usr/local/lib/python3.8/lib2to3/fixes/fix_methodattrs.py'...\n",
            "Compiling '/usr/local/lib/python3.8/lib2to3/fixes/fix_metaclass.py'...\n",
            "Compiling '/usr/local/lib/python3.8/lib2to3/fixes/fix_ne.py'...\n",
            "Compiling '/usr/local/lib/python3.8/lib2to3/fixes/fix_next.py'...\n",
            "Compiling '/usr/local/lib/python3.8/lib2to3/fixes/fix_nonzero.py'...\n",
            "Compiling '/usr/local/lib/python3.8/lib2to3/fixes/fix_numliterals.py'...\n",
            "Compiling '/usr/local/lib/python3.8/lib2to3/fixes/fix_operator.py'...\n",
            "Compiling '/usr/local/lib/python3.8/lib2to3/fixes/fix_paren.py'...\n",
            "Compiling '/usr/local/lib/python3.8/lib2to3/fixes/fix_print.py'...\n",
            "Compiling '/usr/local/lib/python3.8/lib2to3/fixes/fix_raise.py'...\n",
            "Compiling '/usr/local/lib/python3.8/lib2to3/fixes/fix_raw_input.py'...\n",
            "Compiling '/usr/local/lib/python3.8/lib2to3/fixes/fix_reduce.py'...\n",
            "Compiling '/usr/local/lib/python3.8/lib2to3/fixes/fix_reload.py'...\n",
            "Compiling '/usr/local/lib/python3.8/lib2to3/fixes/fix_renames.py'...\n",
            "Compiling '/usr/local/lib/python3.8/lib2to3/fixes/fix_repr.py'...\n",
            "Compiling '/usr/local/lib/python3.8/lib2to3/fixes/fix_set_literal.py'...\n",
            "Compiling '/usr/local/lib/python3.8/lib2to3/fixes/fix_standarderror.py'...\n",
            "Compiling '/usr/local/lib/python3.8/lib2to3/fixes/fix_sys_exc.py'...\n",
            "Compiling '/usr/local/lib/python3.8/lib2to3/fixes/fix_throw.py'...\n",
            "Compiling '/usr/local/lib/python3.8/lib2to3/fixes/fix_tuple_params.py'...\n",
            "Compiling '/usr/local/lib/python3.8/lib2to3/fixes/fix_types.py'...\n",
            "Compiling '/usr/local/lib/python3.8/lib2to3/fixes/fix_unicode.py'...\n",
            "Compiling '/usr/local/lib/python3.8/lib2to3/fixes/fix_urllib.py'...\n",
            "Compiling '/usr/local/lib/python3.8/lib2to3/fixes/fix_ws_comma.py'...\n",
            "Compiling '/usr/local/lib/python3.8/lib2to3/fixes/fix_xrange.py'...\n",
            "Compiling '/usr/local/lib/python3.8/lib2to3/fixes/fix_xreadlines.py'...\n",
            "Compiling '/usr/local/lib/python3.8/lib2to3/fixes/fix_zip.py'...\n",
            "Compiling '/usr/local/lib/python3.8/lib2to3/main.py'...\n",
            "Compiling '/usr/local/lib/python3.8/lib2to3/patcomp.py'...\n",
            "Compiling '/usr/local/lib/python3.8/lib2to3/pgen2/__init__.py'...\n",
            "Compiling '/usr/local/lib/python3.8/lib2to3/pgen2/conv.py'...\n",
            "Compiling '/usr/local/lib/python3.8/lib2to3/pgen2/driver.py'...\n",
            "Compiling '/usr/local/lib/python3.8/lib2to3/pgen2/grammar.py'...\n",
            "Compiling '/usr/local/lib/python3.8/lib2to3/pgen2/literals.py'...\n",
            "Compiling '/usr/local/lib/python3.8/lib2to3/pgen2/parse.py'...\n",
            "Compiling '/usr/local/lib/python3.8/lib2to3/pgen2/pgen.py'...\n",
            "Compiling '/usr/local/lib/python3.8/lib2to3/pgen2/token.py'...\n",
            "Compiling '/usr/local/lib/python3.8/lib2to3/pgen2/tokenize.py'...\n",
            "Compiling '/usr/local/lib/python3.8/lib2to3/pygram.py'...\n",
            "Compiling '/usr/local/lib/python3.8/lib2to3/pytree.py'...\n",
            "Compiling '/usr/local/lib/python3.8/lib2to3/tests/__init__.py'...\n",
            "Compiling '/usr/local/lib/python3.8/lib2to3/refactor.py'...\n",
            "Compiling '/usr/local/lib/python3.8/lib2to3/tests/__main__.py'...\n",
            "Compiling '/usr/local/lib/python3.8/lib2to3/tests/pytree_idempotency.py'...\n",
            "Compiling '/usr/local/lib/python3.8/lib2to3/tests/support.py'...\n",
            "Compiling '/usr/local/lib/python3.8/lib2to3/tests/test_all_fixers.py'...\n",
            "Compiling '/usr/local/lib/python3.8/lib2to3/tests/test_fixers.py'...\n",
            "Compiling '/usr/local/lib/python3.8/lib2to3/tests/test_main.py'...\n",
            "Compiling '/usr/local/lib/python3.8/lib2to3/tests/test_parser.py'...\n",
            "Compiling '/usr/local/lib/python3.8/lib2to3/tests/test_pytree.py'...\n",
            "Compiling '/usr/local/lib/python3.8/lib2to3/tests/test_refactor.py'...\n",
            "Compiling '/usr/local/lib/python3.8/lib2to3/tests/test_util.py'...\n",
            "Compiling '/usr/local/lib/python3.8/linecache.py'...\n",
            "Compiling '/usr/local/lib/python3.8/locale.py'...\n",
            "Compiling '/usr/local/lib/python3.8/logging/__init__.py'...\n",
            "Compiling '/usr/local/lib/python3.8/logging/config.py'...\n",
            "Compiling '/usr/local/lib/python3.8/logging/handlers.py'...\n",
            "Compiling '/usr/local/lib/python3.8/lzma.py'...\n",
            "Compiling '/usr/local/lib/python3.8/mailbox.py'...\n",
            "Compiling '/usr/local/lib/python3.8/mailcap.py'...\n",
            "Compiling '/usr/local/lib/python3.8/mimetypes.py'...\n",
            "Compiling '/usr/local/lib/python3.8/modulefinder.py'...\n",
            "Compiling '/usr/local/lib/python3.8/multiprocessing/__init__.py'...\n",
            "Compiling '/usr/local/lib/python3.8/multiprocessing/connection.py'...\n",
            "Compiling '/usr/local/lib/python3.8/multiprocessing/context.py'...\n",
            "Compiling '/usr/local/lib/python3.8/multiprocessing/dummy/__init__.py'...\n",
            "Compiling '/usr/local/lib/python3.8/multiprocessing/dummy/connection.py'...\n",
            "Compiling '/usr/local/lib/python3.8/multiprocessing/forkserver.py'...\n",
            "Compiling '/usr/local/lib/python3.8/multiprocessing/heap.py'...\n",
            "Compiling '/usr/local/lib/python3.8/multiprocessing/managers.py'...\n",
            "Compiling '/usr/local/lib/python3.8/multiprocessing/pool.py'...\n",
            "Compiling '/usr/local/lib/python3.8/multiprocessing/popen_fork.py'...\n",
            "Compiling '/usr/local/lib/python3.8/multiprocessing/popen_forkserver.py'...\n",
            "Compiling '/usr/local/lib/python3.8/multiprocessing/popen_spawn_posix.py'...\n",
            "Compiling '/usr/local/lib/python3.8/multiprocessing/popen_spawn_win32.py'...\n",
            "Compiling '/usr/local/lib/python3.8/multiprocessing/process.py'...\n",
            "Compiling '/usr/local/lib/python3.8/multiprocessing/queues.py'...\n",
            "Compiling '/usr/local/lib/python3.8/multiprocessing/reduction.py'...\n",
            "Compiling '/usr/local/lib/python3.8/multiprocessing/resource_sharer.py'...\n",
            "Compiling '/usr/local/lib/python3.8/multiprocessing/resource_tracker.py'...\n",
            "Compiling '/usr/local/lib/python3.8/multiprocessing/shared_memory.py'...\n",
            "Compiling '/usr/local/lib/python3.8/multiprocessing/sharedctypes.py'...\n",
            "Compiling '/usr/local/lib/python3.8/multiprocessing/spawn.py'...\n",
            "Compiling '/usr/local/lib/python3.8/multiprocessing/synchronize.py'...\n",
            "Compiling '/usr/local/lib/python3.8/multiprocessing/util.py'...\n",
            "Compiling '/usr/local/lib/python3.8/netrc.py'...\n",
            "Compiling '/usr/local/lib/python3.8/nntplib.py'...\n",
            "Compiling '/usr/local/lib/python3.8/ntpath.py'...\n",
            "Compiling '/usr/local/lib/python3.8/nturl2path.py'...\n",
            "Compiling '/usr/local/lib/python3.8/numbers.py'...\n",
            "Compiling '/usr/local/lib/python3.8/opcode.py'...\n",
            "Compiling '/usr/local/lib/python3.8/operator.py'...\n",
            "Compiling '/usr/local/lib/python3.8/optparse.py'...\n",
            "Compiling '/usr/local/lib/python3.8/os.py'...\n",
            "Compiling '/usr/local/lib/python3.8/pathlib.py'...\n",
            "Compiling '/usr/local/lib/python3.8/pdb.py'...\n",
            "Compiling '/usr/local/lib/python3.8/pickle.py'...\n",
            "Compiling '/usr/local/lib/python3.8/pickletools.py'...\n",
            "Compiling '/usr/local/lib/python3.8/pipes.py'...\n",
            "Compiling '/usr/local/lib/python3.8/pkgutil.py'...\n",
            "Compiling '/usr/local/lib/python3.8/platform.py'...\n",
            "Compiling '/usr/local/lib/python3.8/plistlib.py'...\n",
            "Compiling '/usr/local/lib/python3.8/poplib.py'...\n",
            "Compiling '/usr/local/lib/python3.8/posixpath.py'...\n",
            "Compiling '/usr/local/lib/python3.8/pprint.py'...\n",
            "Compiling '/usr/local/lib/python3.8/profile.py'...\n",
            "Compiling '/usr/local/lib/python3.8/pstats.py'...\n",
            "Compiling '/usr/local/lib/python3.8/pty.py'...\n",
            "Compiling '/usr/local/lib/python3.8/py_compile.py'...\n",
            "Compiling '/usr/local/lib/python3.8/pyclbr.py'...\n",
            "Compiling '/usr/local/lib/python3.8/pydoc.py'...\n",
            "Compiling '/usr/local/lib/python3.8/pydoc_data/__init__.py'...\n",
            "Compiling '/usr/local/lib/python3.8/pydoc_data/topics.py'...\n",
            "Compiling '/usr/local/lib/python3.8/queue.py'...\n",
            "Compiling '/usr/local/lib/python3.8/quopri.py'...\n",
            "Compiling '/usr/local/lib/python3.8/random.py'...\n",
            "Compiling '/usr/local/lib/python3.8/re.py'...\n",
            "Compiling '/usr/local/lib/python3.8/reprlib.py'...\n",
            "Compiling '/usr/local/lib/python3.8/rlcompleter.py'...\n",
            "Compiling '/usr/local/lib/python3.8/runpy.py'...\n",
            "Compiling '/usr/local/lib/python3.8/sched.py'...\n",
            "Compiling '/usr/local/lib/python3.8/secrets.py'...\n",
            "Compiling '/usr/local/lib/python3.8/selectors.py'...\n",
            "Compiling '/usr/local/lib/python3.8/shelve.py'...\n",
            "Compiling '/usr/local/lib/python3.8/shlex.py'...\n",
            "Compiling '/usr/local/lib/python3.8/shutil.py'...\n",
            "Compiling '/usr/local/lib/python3.8/signal.py'...\n",
            "Compiling '/usr/local/lib/python3.8/site.py'...\n",
            "Compiling '/usr/local/lib/python3.8/smtplib.py'...\n",
            "Compiling '/usr/local/lib/python3.8/smtpd.py'...\n",
            "Compiling '/usr/local/lib/python3.8/sndhdr.py'...\n",
            "Compiling '/usr/local/lib/python3.8/socket.py'...\n",
            "Compiling '/usr/local/lib/python3.8/socketserver.py'...\n",
            "Compiling '/usr/local/lib/python3.8/sqlite3/__init__.py'...\n",
            "Compiling '/usr/local/lib/python3.8/sqlite3/dbapi2.py'...\n",
            "Compiling '/usr/local/lib/python3.8/sqlite3/dump.py'...\n",
            "Compiling '/usr/local/lib/python3.8/sqlite3/test/__init__.py'...\n",
            "Compiling '/usr/local/lib/python3.8/sqlite3/test/backup.py'...\n",
            "Compiling '/usr/local/lib/python3.8/sqlite3/test/dbapi.py'...\n",
            "Compiling '/usr/local/lib/python3.8/sqlite3/test/dump.py'...\n",
            "Compiling '/usr/local/lib/python3.8/sqlite3/test/factory.py'...\n",
            "Compiling '/usr/local/lib/python3.8/sqlite3/test/hooks.py'...\n",
            "Compiling '/usr/local/lib/python3.8/sqlite3/test/regression.py'...\n",
            "Compiling '/usr/local/lib/python3.8/sqlite3/test/transactions.py'...\n",
            "Compiling '/usr/local/lib/python3.8/sqlite3/test/types.py'...\n",
            "Compiling '/usr/local/lib/python3.8/sqlite3/test/userfunctions.py'...\n",
            "Compiling '/usr/local/lib/python3.8/sre_compile.py'...\n",
            "Compiling '/usr/local/lib/python3.8/sre_constants.py'...\n",
            "Compiling '/usr/local/lib/python3.8/sre_parse.py'...\n",
            "Compiling '/usr/local/lib/python3.8/ssl.py'...\n",
            "Compiling '/usr/local/lib/python3.8/stat.py'...\n",
            "Compiling '/usr/local/lib/python3.8/statistics.py'...\n",
            "Compiling '/usr/local/lib/python3.8/string.py'...\n",
            "Compiling '/usr/local/lib/python3.8/stringprep.py'...\n",
            "Compiling '/usr/local/lib/python3.8/struct.py'...\n",
            "Compiling '/usr/local/lib/python3.8/subprocess.py'...\n",
            "Compiling '/usr/local/lib/python3.8/sunau.py'...\n",
            "Compiling '/usr/local/lib/python3.8/symbol.py'...\n",
            "Compiling '/usr/local/lib/python3.8/symtable.py'...\n",
            "Compiling '/usr/local/lib/python3.8/sysconfig.py'...\n",
            "Compiling '/usr/local/lib/python3.8/tabnanny.py'...\n",
            "Compiling '/usr/local/lib/python3.8/tarfile.py'...\n",
            "Compiling '/usr/local/lib/python3.8/telnetlib.py'...\n",
            "Compiling '/usr/local/lib/python3.8/tempfile.py'...\n",
            "Compiling '/usr/local/lib/python3.8/test/__init__.py'...\n",
            "Compiling '/usr/local/lib/python3.8/test/__main__.py'...\n",
            "Compiling '/usr/local/lib/python3.8/test/_test_multiprocessing.py'...\n",
            "Compiling '/usr/local/lib/python3.8/test/ann_module.py'...\n",
            "Compiling '/usr/local/lib/python3.8/test/ann_module2.py'...\n",
            "Compiling '/usr/local/lib/python3.8/test/ann_module3.py'...\n",
            "Compiling '/usr/local/lib/python3.8/test/audiotests.py'...\n",
            "Compiling '/usr/local/lib/python3.8/test/audit-tests.py'...\n",
            "Compiling '/usr/local/lib/python3.8/test/autotest.py'...\n",
            "Compiling '/usr/local/lib/python3.8/test/bad_getattr.py'...\n",
            "Compiling '/usr/local/lib/python3.8/test/bad_getattr2.py'...\n",
            "Compiling '/usr/local/lib/python3.8/test/bad_getattr3.py'...\n",
            "Compiling '/usr/local/lib/python3.8/test/bisect_cmd.py'...\n",
            "Compiling '/usr/local/lib/python3.8/test/bytecode_helper.py'...\n",
            "Compiling '/usr/local/lib/python3.8/test/curses_tests.py'...\n",
            "Compiling '/usr/local/lib/python3.8/test/coding20731.py'...\n",
            "Compiling '/usr/local/lib/python3.8/test/dataclass_module_1.py'...\n",
            "Compiling '/usr/local/lib/python3.8/test/dataclass_module_1_str.py'...\n",
            "Compiling '/usr/local/lib/python3.8/test/dataclass_module_2.py'...\n",
            "Compiling '/usr/local/lib/python3.8/test/dataclass_module_2_str.py'...\n",
            "Compiling '/usr/local/lib/python3.8/test/dataclass_textanno.py'...\n",
            "Compiling '/usr/local/lib/python3.8/test/datetimetester.py'...\n",
            "Compiling '/usr/local/lib/python3.8/test/dis_module.py'...\n",
            "Compiling '/usr/local/lib/python3.8/test/doctest_aliases.py'...\n",
            "Compiling '/usr/local/lib/python3.8/test/double_const.py'...\n",
            "Compiling '/usr/local/lib/python3.8/test/dtracedata/call_stack.py'...\n",
            "Compiling '/usr/local/lib/python3.8/test/dtracedata/gc.py'...\n",
            "Compiling '/usr/local/lib/python3.8/test/dtracedata/instance.py'...\n",
            "Compiling '/usr/local/lib/python3.8/test/dtracedata/line.py'...\n",
            "Compiling '/usr/local/lib/python3.8/test/eintrdata/eintr_tester.py'...\n",
            "Compiling '/usr/local/lib/python3.8/test/encoded_modules/__init__.py'...\n",
            "Compiling '/usr/local/lib/python3.8/test/encoded_modules/module_iso_8859_1.py'...\n",
            "Compiling '/usr/local/lib/python3.8/test/encoded_modules/module_koi8_r.py'...\n",
            "Compiling '/usr/local/lib/python3.8/test/final_a.py'...\n",
            "Compiling '/usr/local/lib/python3.8/test/final_b.py'...\n",
            "Compiling '/usr/local/lib/python3.8/test/fork_wait.py'...\n",
            "Compiling '/usr/local/lib/python3.8/test/future_test1.py'...\n",
            "Compiling '/usr/local/lib/python3.8/test/future_test2.py'...\n",
            "Compiling '/usr/local/lib/python3.8/test/gdb_sample.py'...\n",
            "Compiling '/usr/local/lib/python3.8/test/good_getattr.py'...\n",
            "Compiling '/usr/local/lib/python3.8/test/imp_dummy.py'...\n",
            "Compiling '/usr/local/lib/python3.8/test/inspect_fodder.py'...\n",
            "Compiling '/usr/local/lib/python3.8/test/inspect_fodder2.py'...\n",
            "Compiling '/usr/local/lib/python3.8/test/libregrtest/__init__.py'...\n",
            "Compiling '/usr/local/lib/python3.8/test/libregrtest/main.py'...\n",
            "Compiling '/usr/local/lib/python3.8/test/libregrtest/cmdline.py'...\n",
            "Compiling '/usr/local/lib/python3.8/test/libregrtest/pgo.py'...\n",
            "Compiling '/usr/local/lib/python3.8/test/libregrtest/refleak.py'...\n",
            "Compiling '/usr/local/lib/python3.8/test/libregrtest/runtest.py'...\n",
            "Compiling '/usr/local/lib/python3.8/test/libregrtest/runtest_mp.py'...\n",
            "Compiling '/usr/local/lib/python3.8/test/libregrtest/save_env.py'...\n",
            "Compiling '/usr/local/lib/python3.8/test/libregrtest/setup.py'...\n",
            "Compiling '/usr/local/lib/python3.8/test/libregrtest/utils.py'...\n",
            "Compiling '/usr/local/lib/python3.8/test/libregrtest/win_utils.py'...\n",
            "Compiling '/usr/local/lib/python3.8/test/list_tests.py'...\n",
            "Compiling '/usr/local/lib/python3.8/test/lock_tests.py'...\n",
            "Compiling '/usr/local/lib/python3.8/test/make_ssl_certs.py'...\n",
            "Compiling '/usr/local/lib/python3.8/test/mapping_tests.py'...\n",
            "Compiling '/usr/local/lib/python3.8/test/memory_watchdog.py'...\n",
            "Compiling '/usr/local/lib/python3.8/test/mock_socket.py'...\n",
            "Compiling '/usr/local/lib/python3.8/test/mod_generics_cache.py'...\n",
            "Compiling '/usr/local/lib/python3.8/test/mp_fork_bomb.py'...\n",
            "Compiling '/usr/local/lib/python3.8/test/multibytecodec_support.py'...\n",
            "Compiling '/usr/local/lib/python3.8/test/mp_preload.py'...\n",
            "Compiling '/usr/local/lib/python3.8/test/outstanding_bugs.py'...\n",
            "Compiling '/usr/local/lib/python3.8/test/pickletester.py'...\n",
            "Compiling '/usr/local/lib/python3.8/test/profilee.py'...\n",
            "Compiling '/usr/local/lib/python3.8/test/pyclbr_input.py'...\n",
            "Compiling '/usr/local/lib/python3.8/test/pydoc_mod.py'...\n",
            "Compiling '/usr/local/lib/python3.8/test/pydocfodder.py'...\n",
            "Compiling '/usr/local/lib/python3.8/test/pythoninfo.py'...\n",
            "Compiling '/usr/local/lib/python3.8/test/re_tests.py'...\n",
            "Compiling '/usr/local/lib/python3.8/test/regrtest.py'...\n",
            "Compiling '/usr/local/lib/python3.8/test/relimport.py'...\n",
            "Compiling '/usr/local/lib/python3.8/test/reperf.py'...\n",
            "Compiling '/usr/local/lib/python3.8/test/sample_doctest.py'...\n",
            "Compiling '/usr/local/lib/python3.8/test/sample_doctest_no_docstrings.py'...\n",
            "Compiling '/usr/local/lib/python3.8/test/sample_doctest_no_doctests.py'...\n",
            "Compiling '/usr/local/lib/python3.8/test/seq_tests.py'...\n",
            "Compiling '/usr/local/lib/python3.8/test/signalinterproctester.py'...\n",
            "Compiling '/usr/local/lib/python3.8/test/sortperf.py'...\n",
            "Compiling '/usr/local/lib/python3.8/test/ssl_servers.py'...\n",
            "Compiling '/usr/local/lib/python3.8/test/ssltests.py'...\n",
            "Compiling '/usr/local/lib/python3.8/test/string_tests.py'...\n",
            "Compiling '/usr/local/lib/python3.8/test/subprocessdata/fd_status.py'...\n",
            "Compiling '/usr/local/lib/python3.8/test/subprocessdata/input_reader.py'...\n",
            "Compiling '/usr/local/lib/python3.8/test/subprocessdata/qcat.py'...\n",
            "Compiling '/usr/local/lib/python3.8/test/subprocessdata/qgrep.py'...\n",
            "Compiling '/usr/local/lib/python3.8/test/subprocessdata/sigchild_ignore.py'...\n",
            "Compiling '/usr/local/lib/python3.8/test/support/__init__.py'...\n",
            "Compiling '/usr/local/lib/python3.8/test/support/script_helper.py'...\n",
            "Compiling '/usr/local/lib/python3.8/test/support/testresult.py'...\n",
            "Compiling '/usr/local/lib/python3.8/test/test___all__.py'...\n",
            "Compiling '/usr/local/lib/python3.8/test/test___future__.py'...\n",
            "Compiling '/usr/local/lib/python3.8/test/test__locale.py'...\n",
            "Compiling '/usr/local/lib/python3.8/test/test__opcode.py'...\n",
            "Compiling '/usr/local/lib/python3.8/test/test__osx_support.py'...\n",
            "Compiling '/usr/local/lib/python3.8/test/test__xxsubinterpreters.py'...\n",
            "Compiling '/usr/local/lib/python3.8/test/test_abc.py'...\n",
            "Compiling '/usr/local/lib/python3.8/test/test_abstract_numbers.py'...\n",
            "Compiling '/usr/local/lib/python3.8/test/test_aifc.py'...\n",
            "Compiling '/usr/local/lib/python3.8/test/test_argparse.py'...\n",
            "Compiling '/usr/local/lib/python3.8/test/test_array.py'...\n",
            "Compiling '/usr/local/lib/python3.8/test/test_asdl_parser.py'...\n",
            "Compiling '/usr/local/lib/python3.8/test/test_ast.py'...\n",
            "Compiling '/usr/local/lib/python3.8/test/test_asyncgen.py'...\n",
            "Compiling '/usr/local/lib/python3.8/test/test_asynchat.py'...\n",
            "Compiling '/usr/local/lib/python3.8/test/test_asyncio/__init__.py'...\n",
            "Compiling '/usr/local/lib/python3.8/test/test_asyncio/__main__.py'...\n",
            "Compiling '/usr/local/lib/python3.8/test/test_asyncio/echo.py'...\n",
            "Compiling '/usr/local/lib/python3.8/test/test_asyncio/echo2.py'...\n",
            "Compiling '/usr/local/lib/python3.8/test/test_asyncio/echo3.py'...\n",
            "Compiling '/usr/local/lib/python3.8/test/test_asyncio/functional.py'...\n",
            "Compiling '/usr/local/lib/python3.8/test/test_asyncio/test_base_events.py'...\n",
            "Compiling '/usr/local/lib/python3.8/test/test_asyncio/test_buffered_proto.py'...\n",
            "Compiling '/usr/local/lib/python3.8/test/test_asyncio/test_context.py'...\n",
            "Compiling '/usr/local/lib/python3.8/test/test_asyncio/test_events.py'...\n",
            "Compiling '/usr/local/lib/python3.8/test/test_asyncio/test_futures.py'...\n",
            "Compiling '/usr/local/lib/python3.8/test/test_asyncio/test_locks.py'...\n",
            "Compiling '/usr/local/lib/python3.8/test/test_asyncio/test_pep492.py'...\n",
            "Compiling '/usr/local/lib/python3.8/test/test_asyncio/test_proactor_events.py'...\n",
            "Compiling '/usr/local/lib/python3.8/test/test_asyncio/test_protocols.py'...\n",
            "Compiling '/usr/local/lib/python3.8/test/test_asyncio/test_queues.py'...\n",
            "Compiling '/usr/local/lib/python3.8/test/test_asyncio/test_runners.py'...\n",
            "Compiling '/usr/local/lib/python3.8/test/test_asyncio/test_selector_events.py'...\n",
            "Compiling '/usr/local/lib/python3.8/test/test_asyncio/test_sendfile.py'...\n",
            "Compiling '/usr/local/lib/python3.8/test/test_asyncio/test_server.py'...\n",
            "Compiling '/usr/local/lib/python3.8/test/test_asyncio/test_sock_lowlevel.py'...\n",
            "Compiling '/usr/local/lib/python3.8/test/test_asyncio/test_sslproto.py'...\n",
            "Compiling '/usr/local/lib/python3.8/test/test_asyncio/test_streams.py'...\n",
            "Compiling '/usr/local/lib/python3.8/test/test_asyncio/test_subprocess.py'...\n",
            "Compiling '/usr/local/lib/python3.8/test/test_asyncio/test_tasks.py'...\n",
            "Compiling '/usr/local/lib/python3.8/test/test_asyncio/test_transports.py'...\n",
            "Compiling '/usr/local/lib/python3.8/test/test_asyncio/test_unix_events.py'...\n",
            "Compiling '/usr/local/lib/python3.8/test/test_asyncio/test_windows_events.py'...\n",
            "Compiling '/usr/local/lib/python3.8/test/test_asyncio/test_windows_utils.py'...\n",
            "Compiling '/usr/local/lib/python3.8/test/test_asyncio/utils.py'...\n",
            "Compiling '/usr/local/lib/python3.8/test/test_asyncore.py'...\n",
            "Compiling '/usr/local/lib/python3.8/test/test_atexit.py'...\n",
            "Compiling '/usr/local/lib/python3.8/test/test_audioop.py'...\n",
            "Compiling '/usr/local/lib/python3.8/test/test_audit.py'...\n",
            "Compiling '/usr/local/lib/python3.8/test/test_augassign.py'...\n",
            "Compiling '/usr/local/lib/python3.8/test/test_base64.py'...\n",
            "Compiling '/usr/local/lib/python3.8/test/test_baseexception.py'...\n",
            "Compiling '/usr/local/lib/python3.8/test/test_bdb.py'...\n",
            "Compiling '/usr/local/lib/python3.8/test/test_bigaddrspace.py'...\n",
            "Compiling '/usr/local/lib/python3.8/test/test_bigmem.py'...\n",
            "Compiling '/usr/local/lib/python3.8/test/test_binascii.py'...\n",
            "Compiling '/usr/local/lib/python3.8/test/test_binhex.py'...\n",
            "Compiling '/usr/local/lib/python3.8/test/test_binop.py'...\n",
            "Compiling '/usr/local/lib/python3.8/test/test_bisect.py'...\n",
            "Compiling '/usr/local/lib/python3.8/test/test_bool.py'...\n",
            "Compiling '/usr/local/lib/python3.8/test/test_buffer.py'...\n",
            "Compiling '/usr/local/lib/python3.8/test/test_bufio.py'...\n",
            "Compiling '/usr/local/lib/python3.8/test/test_builtin.py'...\n",
            "Compiling '/usr/local/lib/python3.8/test/test_bytes.py'...\n",
            "Compiling '/usr/local/lib/python3.8/test/test_bz2.py'...\n",
            "Compiling '/usr/local/lib/python3.8/test/test_c_locale_coercion.py'...\n",
            "Compiling '/usr/local/lib/python3.8/test/test_calendar.py'...\n",
            "Compiling '/usr/local/lib/python3.8/test/test_call.py'...\n",
            "Compiling '/usr/local/lib/python3.8/test/test_capi.py'...\n",
            "Compiling '/usr/local/lib/python3.8/test/test_cgi.py'...\n",
            "Compiling '/usr/local/lib/python3.8/test/test_cgitb.py'...\n",
            "Compiling '/usr/local/lib/python3.8/test/test_charmapcodec.py'...\n",
            "Compiling '/usr/local/lib/python3.8/test/test_class.py'...\n",
            "Compiling '/usr/local/lib/python3.8/test/test_cmath.py'...\n",
            "Compiling '/usr/local/lib/python3.8/test/test_clinic.py'...\n",
            "Compiling '/usr/local/lib/python3.8/test/test_cmd.py'...\n",
            "Compiling '/usr/local/lib/python3.8/test/test_cmd_line.py'...\n",
            "Compiling '/usr/local/lib/python3.8/test/test_cmd_line_script.py'...\n",
            "Compiling '/usr/local/lib/python3.8/test/test_code.py'...\n",
            "Compiling '/usr/local/lib/python3.8/test/test_code_module.py'...\n",
            "Compiling '/usr/local/lib/python3.8/test/test_codeccallbacks.py'...\n",
            "Compiling '/usr/local/lib/python3.8/test/test_codecencodings_cn.py'...\n",
            "Compiling '/usr/local/lib/python3.8/test/test_codecencodings_iso2022.py'...\n",
            "Compiling '/usr/local/lib/python3.8/test/test_codecencodings_hk.py'...\n",
            "Compiling '/usr/local/lib/python3.8/test/test_codecencodings_kr.py'...\n",
            "Compiling '/usr/local/lib/python3.8/test/test_codecencodings_jp.py'...\n",
            "Compiling '/usr/local/lib/python3.8/test/test_codecencodings_tw.py'...\n",
            "Compiling '/usr/local/lib/python3.8/test/test_codecmaps_cn.py'...\n",
            "Compiling '/usr/local/lib/python3.8/test/test_codecmaps_hk.py'...\n",
            "Compiling '/usr/local/lib/python3.8/test/test_codecmaps_jp.py'...\n",
            "Compiling '/usr/local/lib/python3.8/test/test_codecmaps_kr.py'...\n",
            "Compiling '/usr/local/lib/python3.8/test/test_codecmaps_tw.py'...\n",
            "Compiling '/usr/local/lib/python3.8/test/test_codecs.py'...\n",
            "Compiling '/usr/local/lib/python3.8/test/test_codeop.py'...\n",
            "Compiling '/usr/local/lib/python3.8/test/test_collections.py'...\n",
            "Compiling '/usr/local/lib/python3.8/test/test_colorsys.py'...\n",
            "Compiling '/usr/local/lib/python3.8/test/test_compare.py'...\n",
            "Compiling '/usr/local/lib/python3.8/test/test_compile.py'...\n",
            "Compiling '/usr/local/lib/python3.8/test/test_compileall.py'...\n",
            "Compiling '/usr/local/lib/python3.8/test/test_complex.py'...\n",
            "Compiling '/usr/local/lib/python3.8/test/test_concurrent_futures.py'...\n",
            "Compiling '/usr/local/lib/python3.8/test/test_configparser.py'...\n",
            "Compiling '/usr/local/lib/python3.8/test/test_contains.py'...\n",
            "Compiling '/usr/local/lib/python3.8/test/test_context.py'...\n",
            "Compiling '/usr/local/lib/python3.8/test/test_contextlib.py'...\n",
            "Compiling '/usr/local/lib/python3.8/test/test_contextlib_async.py'...\n",
            "Compiling '/usr/local/lib/python3.8/test/test_copy.py'...\n",
            "Compiling '/usr/local/lib/python3.8/test/test_copyreg.py'...\n",
            "Compiling '/usr/local/lib/python3.8/test/test_coroutines.py'...\n",
            "Compiling '/usr/local/lib/python3.8/test/test_cprofile.py'...\n",
            "Compiling '/usr/local/lib/python3.8/test/test_crashers.py'...\n",
            "Compiling '/usr/local/lib/python3.8/test/test_crypt.py'...\n",
            "Compiling '/usr/local/lib/python3.8/test/test_csv.py'...\n",
            "Compiling '/usr/local/lib/python3.8/test/test_ctypes.py'...\n",
            "Compiling '/usr/local/lib/python3.8/test/test_curses.py'...\n",
            "Compiling '/usr/local/lib/python3.8/test/test_dataclasses.py'...\n",
            "Compiling '/usr/local/lib/python3.8/test/test_datetime.py'...\n",
            "Compiling '/usr/local/lib/python3.8/test/test_dbm.py'...\n",
            "Compiling '/usr/local/lib/python3.8/test/test_dbm_dumb.py'...\n",
            "Compiling '/usr/local/lib/python3.8/test/test_dbm_gnu.py'...\n",
            "Compiling '/usr/local/lib/python3.8/test/test_dbm_ndbm.py'...\n",
            "Compiling '/usr/local/lib/python3.8/test/test_decimal.py'...\n",
            "Compiling '/usr/local/lib/python3.8/test/test_decorators.py'...\n",
            "Compiling '/usr/local/lib/python3.8/test/test_defaultdict.py'...\n",
            "Compiling '/usr/local/lib/python3.8/test/test_deque.py'...\n",
            "Compiling '/usr/local/lib/python3.8/test/test_descr.py'...\n",
            "Compiling '/usr/local/lib/python3.8/test/test_descrtut.py'...\n",
            "Compiling '/usr/local/lib/python3.8/test/test_devpoll.py'...\n",
            "Compiling '/usr/local/lib/python3.8/test/test_dict.py'...\n",
            "Compiling '/usr/local/lib/python3.8/test/test_dictcomps.py'...\n",
            "Compiling '/usr/local/lib/python3.8/test/test_dict_version.py'...\n",
            "Compiling '/usr/local/lib/python3.8/test/test_dictviews.py'...\n",
            "Compiling '/usr/local/lib/python3.8/test/test_difflib.py'...\n",
            "Compiling '/usr/local/lib/python3.8/test/test_dis.py'...\n",
            "Compiling '/usr/local/lib/python3.8/test/test_distutils.py'...\n",
            "Compiling '/usr/local/lib/python3.8/test/test_doctest.py'...\n",
            "Compiling '/usr/local/lib/python3.8/test/test_doctest2.py'...\n",
            "Compiling '/usr/local/lib/python3.8/test/test_docxmlrpc.py'...\n",
            "Compiling '/usr/local/lib/python3.8/test/test_dtrace.py'...\n",
            "Compiling '/usr/local/lib/python3.8/test/test_dummy_thread.py'...\n",
            "Compiling '/usr/local/lib/python3.8/test/test_dummy_threading.py'...\n",
            "Compiling '/usr/local/lib/python3.8/test/test_dynamic.py'...\n",
            "Compiling '/usr/local/lib/python3.8/test/test_dynamicclassattribute.py'...\n",
            "Compiling '/usr/local/lib/python3.8/test/test_eintr.py'...\n",
            "Compiling '/usr/local/lib/python3.8/test/test_email/__init__.py'...\n",
            "Compiling '/usr/local/lib/python3.8/test/test_email/__main__.py'...\n",
            "Compiling '/usr/local/lib/python3.8/test/test_email/test__encoded_words.py'...\n",
            "Compiling '/usr/local/lib/python3.8/test/test_email/test__header_value_parser.py'...\n",
            "Compiling '/usr/local/lib/python3.8/test/test_email/test_asian_codecs.py'...\n",
            "Compiling '/usr/local/lib/python3.8/test/test_email/test_contentmanager.py'...\n",
            "Compiling '/usr/local/lib/python3.8/test/test_email/test_defect_handling.py'...\n",
            "Compiling '/usr/local/lib/python3.8/test/test_email/test_email.py'...\n",
            "Compiling '/usr/local/lib/python3.8/test/test_email/test_generator.py'...\n",
            "Compiling '/usr/local/lib/python3.8/test/test_email/test_headerregistry.py'...\n",
            "Compiling '/usr/local/lib/python3.8/test/test_email/test_inversion.py'...\n",
            "Compiling '/usr/local/lib/python3.8/test/test_email/test_message.py'...\n",
            "Compiling '/usr/local/lib/python3.8/test/test_email/test_parser.py'...\n",
            "Compiling '/usr/local/lib/python3.8/test/test_email/test_pickleable.py'...\n",
            "Compiling '/usr/local/lib/python3.8/test/test_email/test_policy.py'...\n",
            "Compiling '/usr/local/lib/python3.8/test/test_email/test_utils.py'...\n",
            "Compiling '/usr/local/lib/python3.8/test/test_email/torture_test.py'...\n",
            "Compiling '/usr/local/lib/python3.8/test/test_ensurepip.py'...\n",
            "Compiling '/usr/local/lib/python3.8/test/test_embed.py'...\n",
            "Compiling '/usr/local/lib/python3.8/test/test_enum.py'...\n",
            "Compiling '/usr/local/lib/python3.8/test/test_enumerate.py'...\n",
            "Compiling '/usr/local/lib/python3.8/test/test_eof.py'...\n",
            "Compiling '/usr/local/lib/python3.8/test/test_epoll.py'...\n",
            "Compiling '/usr/local/lib/python3.8/test/test_errno.py'...\n",
            "Compiling '/usr/local/lib/python3.8/test/test_exception_hierarchy.py'...\n",
            "Compiling '/usr/local/lib/python3.8/test/test_exception_variations.py'...\n",
            "Compiling '/usr/local/lib/python3.8/test/test_exceptions.py'...\n",
            "Compiling '/usr/local/lib/python3.8/test/test_extcall.py'...\n",
            "Compiling '/usr/local/lib/python3.8/test/test_faulthandler.py'...\n",
            "Compiling '/usr/local/lib/python3.8/test/test_fcntl.py'...\n",
            "Compiling '/usr/local/lib/python3.8/test/test_file.py'...\n",
            "Compiling '/usr/local/lib/python3.8/test/test_file_eintr.py'...\n",
            "Compiling '/usr/local/lib/python3.8/test/test_filecmp.py'...\n",
            "Compiling '/usr/local/lib/python3.8/test/test_fileinput.py'...\n",
            "Compiling '/usr/local/lib/python3.8/test/test_fileio.py'...\n",
            "Compiling '/usr/local/lib/python3.8/test/test_finalization.py'...\n",
            "Compiling '/usr/local/lib/python3.8/test/test_float.py'...\n",
            "Compiling '/usr/local/lib/python3.8/test/test_flufl.py'...\n",
            "Compiling '/usr/local/lib/python3.8/test/test_fork1.py'...\n",
            "Compiling '/usr/local/lib/python3.8/test/test_fnmatch.py'...\n",
            "Compiling '/usr/local/lib/python3.8/test/test_format.py'...\n",
            "Compiling '/usr/local/lib/python3.8/test/test_fractions.py'...\n",
            "Compiling '/usr/local/lib/python3.8/test/test_frame.py'...\n",
            "Compiling '/usr/local/lib/python3.8/test/test_frozen.py'...\n",
            "Compiling '/usr/local/lib/python3.8/test/test_fstring.py'...\n",
            "Compiling '/usr/local/lib/python3.8/test/test_ftplib.py'...\n",
            "Compiling '/usr/local/lib/python3.8/test/test_funcattrs.py'...\n",
            "Compiling '/usr/local/lib/python3.8/test/test_functools.py'...\n",
            "Compiling '/usr/local/lib/python3.8/test/test_future.py'...\n",
            "Compiling '/usr/local/lib/python3.8/test/test_future3.py'...\n",
            "Compiling '/usr/local/lib/python3.8/test/test_future4.py'...\n",
            "Compiling '/usr/local/lib/python3.8/test/test_future5.py'...\n",
            "Compiling '/usr/local/lib/python3.8/test/test_gc.py'...\n",
            "Compiling '/usr/local/lib/python3.8/test/test_gdb.py'...\n",
            "Compiling '/usr/local/lib/python3.8/test/test_generator_stop.py'...\n",
            "Compiling '/usr/local/lib/python3.8/test/test_generators.py'...\n",
            "Compiling '/usr/local/lib/python3.8/test/test_genericclass.py'...\n",
            "Compiling '/usr/local/lib/python3.8/test/test_genericpath.py'...\n",
            "Compiling '/usr/local/lib/python3.8/test/test_genexps.py'...\n",
            "Compiling '/usr/local/lib/python3.8/test/test_getargs2.py'...\n",
            "Compiling '/usr/local/lib/python3.8/test/test_getpass.py'...\n",
            "Compiling '/usr/local/lib/python3.8/test/test_getopt.py'...\n",
            "Compiling '/usr/local/lib/python3.8/test/test_gettext.py'...\n",
            "Compiling '/usr/local/lib/python3.8/test/test_glob.py'...\n",
            "Compiling '/usr/local/lib/python3.8/test/test_global.py'...\n",
            "Compiling '/usr/local/lib/python3.8/test/test_grammar.py'...\n",
            "Compiling '/usr/local/lib/python3.8/test/test_grp.py'...\n",
            "Compiling '/usr/local/lib/python3.8/test/test_gzip.py'...\n",
            "Compiling '/usr/local/lib/python3.8/test/test_hashlib.py'...\n",
            "Compiling '/usr/local/lib/python3.8/test/test_hash.py'...\n",
            "Compiling '/usr/local/lib/python3.8/test/test_heapq.py'...\n",
            "Compiling '/usr/local/lib/python3.8/test/test_hmac.py'...\n",
            "Compiling '/usr/local/lib/python3.8/test/test_html.py'...\n",
            "Compiling '/usr/local/lib/python3.8/test/test_htmlparser.py'...\n",
            "Compiling '/usr/local/lib/python3.8/test/test_http_cookiejar.py'...\n",
            "Compiling '/usr/local/lib/python3.8/test/test_http_cookies.py'...\n",
            "Compiling '/usr/local/lib/python3.8/test/test_httpservers.py'...\n",
            "Compiling '/usr/local/lib/python3.8/test/test_httplib.py'...\n",
            "Compiling '/usr/local/lib/python3.8/test/test_idle.py'...\n",
            "Compiling '/usr/local/lib/python3.8/test/test_imaplib.py'...\n",
            "Compiling '/usr/local/lib/python3.8/test/test_imghdr.py'...\n",
            "Compiling '/usr/local/lib/python3.8/test/test_imp.py'...\n",
            "Compiling '/usr/local/lib/python3.8/test/test_import/__init__.py'...\n",
            "Compiling '/usr/local/lib/python3.8/test/test_import/__main__.py'...\n",
            "Compiling '/usr/local/lib/python3.8/test/test_import/data/circular_imports/basic.py'...\n",
            "Compiling '/usr/local/lib/python3.8/test/test_import/data/circular_imports/basic2.py'...\n",
            "Compiling '/usr/local/lib/python3.8/test/test_import/data/circular_imports/binding.py'...\n",
            "Compiling '/usr/local/lib/python3.8/test/test_import/data/circular_imports/binding2.py'...\n",
            "Compiling '/usr/local/lib/python3.8/test/test_import/data/circular_imports/from_cycle1.py'...\n",
            "Compiling '/usr/local/lib/python3.8/test/test_import/data/circular_imports/from_cycle2.py'...\n",
            "Compiling '/usr/local/lib/python3.8/test/test_import/data/circular_imports/rebinding.py'...\n",
            "Compiling '/usr/local/lib/python3.8/test/test_import/data/circular_imports/indirect.py'...\n",
            "Compiling '/usr/local/lib/python3.8/test/test_import/data/circular_imports/rebinding2.py'...\n",
            "Compiling '/usr/local/lib/python3.8/test/test_import/data/circular_imports/source.py'...\n",
            "Compiling '/usr/local/lib/python3.8/test/test_import/data/circular_imports/subpackage.py'...\n",
            "Compiling '/usr/local/lib/python3.8/test/test_import/data/circular_imports/subpkg/subpackage2.py'...\n",
            "Compiling '/usr/local/lib/python3.8/test/test_import/data/circular_imports/subpkg/util.py'...\n",
            "Compiling '/usr/local/lib/python3.8/test/test_import/data/circular_imports/use.py'...\n",
            "Compiling '/usr/local/lib/python3.8/test/test_import/data/package/__init__.py'...\n",
            "Compiling '/usr/local/lib/python3.8/test/test_import/data/package/submodule.py'...\n",
            "Compiling '/usr/local/lib/python3.8/test/test_import/data/package2/submodule1.py'...\n",
            "Compiling '/usr/local/lib/python3.8/test/test_import/data/circular_imports/util.py'...\n",
            "Compiling '/usr/local/lib/python3.8/test/test_import/data/package2/submodule2.py'...\n",
            "Compiling '/usr/local/lib/python3.8/test/test_importlib/__init__.py'...\n",
            "Compiling '/usr/local/lib/python3.8/test/test_importlib/__main__.py'...\n",
            "Compiling '/usr/local/lib/python3.8/test/test_importlib/abc.py'...\n",
            "Compiling '/usr/local/lib/python3.8/test/test_importlib/builtin/__init__.py'...\n",
            "Compiling '/usr/local/lib/python3.8/test/test_importlib/builtin/__main__.py'...\n",
            "Compiling '/usr/local/lib/python3.8/test/test_importlib/builtin/test_finder.py'...\n",
            "Compiling '/usr/local/lib/python3.8/test/test_importlib/builtin/test_loader.py'...\n",
            "Compiling '/usr/local/lib/python3.8/test/test_importlib/data/__init__.py'...\n",
            "Compiling '/usr/local/lib/python3.8/test/test_importlib/data01/__init__.py'...\n",
            "Compiling '/usr/local/lib/python3.8/test/test_importlib/data01/subdirectory/__init__.py'...\n",
            "Compiling '/usr/local/lib/python3.8/test/test_importlib/data02/__init__.py'...\n",
            "Compiling '/usr/local/lib/python3.8/test/test_importlib/data02/one/__init__.py'...\n",
            "Compiling '/usr/local/lib/python3.8/test/test_importlib/data02/two/__init__.py'...\n",
            "Compiling '/usr/local/lib/python3.8/test/test_importlib/data03/__init__.py'...\n",
            "Compiling '/usr/local/lib/python3.8/test/test_importlib/data03/namespace/portion1/__init__.py'...\n",
            "Compiling '/usr/local/lib/python3.8/test/test_importlib/data03/namespace/portion2/__init__.py'...\n",
            "Compiling '/usr/local/lib/python3.8/test/test_importlib/extension/__init__.py'...\n",
            "Compiling '/usr/local/lib/python3.8/test/test_importlib/extension/__main__.py'...\n",
            "Compiling '/usr/local/lib/python3.8/test/test_importlib/extension/test_case_sensitivity.py'...\n",
            "Compiling '/usr/local/lib/python3.8/test/test_importlib/extension/test_finder.py'...\n",
            "Compiling '/usr/local/lib/python3.8/test/test_importlib/extension/test_loader.py'...\n",
            "Compiling '/usr/local/lib/python3.8/test/test_importlib/fixtures.py'...\n",
            "Compiling '/usr/local/lib/python3.8/test/test_importlib/frozen/__init__.py'...\n",
            "Compiling '/usr/local/lib/python3.8/test/test_importlib/extension/test_path_hook.py'...\n",
            "Compiling '/usr/local/lib/python3.8/test/test_importlib/frozen/__main__.py'...\n",
            "Compiling '/usr/local/lib/python3.8/test/test_importlib/frozen/test_finder.py'...\n",
            "Compiling '/usr/local/lib/python3.8/test/test_importlib/frozen/test_loader.py'...\n",
            "Compiling '/usr/local/lib/python3.8/test/test_importlib/import_/__init__.py'...\n",
            "Compiling '/usr/local/lib/python3.8/test/test_importlib/import_/__main__.py'...\n",
            "Compiling '/usr/local/lib/python3.8/test/test_importlib/import_/test___loader__.py'...\n",
            "Compiling '/usr/local/lib/python3.8/test/test_importlib/import_/test_api.py'...\n",
            "Compiling '/usr/local/lib/python3.8/test/test_importlib/import_/test_caching.py'...\n",
            "Compiling '/usr/local/lib/python3.8/test/test_importlib/import_/test___package__.py'...\n",
            "Compiling '/usr/local/lib/python3.8/test/test_importlib/import_/test_fromlist.py'...\n",
            "Compiling '/usr/local/lib/python3.8/test/test_importlib/import_/test_meta_path.py'...\n",
            "Compiling '/usr/local/lib/python3.8/test/test_importlib/import_/test_packages.py'...\n",
            "Compiling '/usr/local/lib/python3.8/test/test_importlib/import_/test_path.py'...\n",
            "Compiling '/usr/local/lib/python3.8/test/test_importlib/import_/test_relative_imports.py'...\n",
            "Compiling '/usr/local/lib/python3.8/test/test_importlib/namespace_pkgs/both_portions/foo/one.py'...\n",
            "Compiling '/usr/local/lib/python3.8/test/test_importlib/namespace_pkgs/both_portions/foo/two.py'...\n",
            "Compiling '/usr/local/lib/python3.8/test/test_importlib/namespace_pkgs/module_and_namespace_package/a_test.py'...\n",
            "Compiling '/usr/local/lib/python3.8/test/test_importlib/namespace_pkgs/not_a_namespace_pkg/foo/__init__.py'...\n",
            "Compiling '/usr/local/lib/python3.8/test/test_importlib/namespace_pkgs/not_a_namespace_pkg/foo/one.py'...\n",
            "Compiling '/usr/local/lib/python3.8/test/test_importlib/namespace_pkgs/portion1/foo/one.py'...\n",
            "Compiling '/usr/local/lib/python3.8/test/test_importlib/namespace_pkgs/portion2/foo/two.py'...\n",
            "Compiling '/usr/local/lib/python3.8/test/test_importlib/namespace_pkgs/project1/parent/child/one.py'...\n",
            "Compiling '/usr/local/lib/python3.8/test/test_importlib/namespace_pkgs/project2/parent/child/two.py'...\n",
            "Compiling '/usr/local/lib/python3.8/test/test_importlib/namespace_pkgs/project3/parent/child/three.py'...\n",
            "Compiling '/usr/local/lib/python3.8/test/test_importlib/source/__init__.py'...\n",
            "Compiling '/usr/local/lib/python3.8/test/test_importlib/source/__main__.py'...\n",
            "Compiling '/usr/local/lib/python3.8/test/test_importlib/source/test_case_sensitivity.py'...\n",
            "Compiling '/usr/local/lib/python3.8/test/test_importlib/source/test_file_loader.py'...\n",
            "Compiling '/usr/local/lib/python3.8/test/test_importlib/source/test_finder.py'...\n",
            "Compiling '/usr/local/lib/python3.8/test/test_importlib/source/test_path_hook.py'...\n",
            "Compiling '/usr/local/lib/python3.8/test/test_importlib/source/test_source_encoding.py'...\n",
            "Compiling '/usr/local/lib/python3.8/test/test_importlib/stubs.py'...\n",
            "Compiling '/usr/local/lib/python3.8/test/test_importlib/test_abc.py'...\n",
            "Compiling '/usr/local/lib/python3.8/test/test_importlib/test_api.py'...\n",
            "Compiling '/usr/local/lib/python3.8/test/test_importlib/test_lazy.py'...\n",
            "Compiling '/usr/local/lib/python3.8/test/test_importlib/test_locks.py'...\n",
            "Compiling '/usr/local/lib/python3.8/test/test_importlib/test_main.py'...\n",
            "Compiling '/usr/local/lib/python3.8/test/test_importlib/test_metadata_api.py'...\n",
            "Compiling '/usr/local/lib/python3.8/test/test_importlib/test_namespace_pkgs.py'...\n",
            "Compiling '/usr/local/lib/python3.8/test/test_importlib/test_open.py'...\n",
            "Compiling '/usr/local/lib/python3.8/test/test_importlib/test_path.py'...\n",
            "Compiling '/usr/local/lib/python3.8/test/test_importlib/test_read.py'...\n",
            "Compiling '/usr/local/lib/python3.8/test/test_importlib/test_resource.py'...\n",
            "Compiling '/usr/local/lib/python3.8/test/test_importlib/test_spec.py'...\n",
            "Compiling '/usr/local/lib/python3.8/test/test_importlib/test_util.py'...\n",
            "Compiling '/usr/local/lib/python3.8/test/test_importlib/test_windows.py'...\n",
            "Compiling '/usr/local/lib/python3.8/test/test_importlib/test_zip.py'...\n",
            "Compiling '/usr/local/lib/python3.8/test/test_importlib/util.py'...\n",
            "Compiling '/usr/local/lib/python3.8/test/test_importlib/zipdata01/__init__.py'...\n",
            "Compiling '/usr/local/lib/python3.8/test/test_importlib/zipdata02/__init__.py'...\n",
            "Compiling '/usr/local/lib/python3.8/test/test_index.py'...\n",
            "Compiling '/usr/local/lib/python3.8/test/test_inspect.py'...\n",
            "Compiling '/usr/local/lib/python3.8/test/test_int.py'...\n",
            "Compiling '/usr/local/lib/python3.8/test/test_int_literal.py'...\n",
            "Compiling '/usr/local/lib/python3.8/test/test_io.py'...\n",
            "Compiling '/usr/local/lib/python3.8/test/test_ioctl.py'...\n",
            "Compiling '/usr/local/lib/python3.8/test/test_ipaddress.py'...\n",
            "Compiling '/usr/local/lib/python3.8/test/test_isinstance.py'...\n",
            "Compiling '/usr/local/lib/python3.8/test/test_iter.py'...\n",
            "Compiling '/usr/local/lib/python3.8/test/test_iterlen.py'...\n",
            "Compiling '/usr/local/lib/python3.8/test/test_itertools.py'...\n",
            "Compiling '/usr/local/lib/python3.8/test/test_json/__init__.py'...\n",
            "Compiling '/usr/local/lib/python3.8/test/test_json/__main__.py'...\n",
            "Compiling '/usr/local/lib/python3.8/test/test_json/test_decode.py'...\n",
            "Compiling '/usr/local/lib/python3.8/test/test_json/test_default.py'...\n",
            "Compiling '/usr/local/lib/python3.8/test/test_json/test_dump.py'...\n",
            "Compiling '/usr/local/lib/python3.8/test/test_json/test_encode_basestring_ascii.py'...\n",
            "Compiling '/usr/local/lib/python3.8/test/test_json/test_enum.py'...\n",
            "Compiling '/usr/local/lib/python3.8/test/test_json/test_fail.py'...\n",
            "Compiling '/usr/local/lib/python3.8/test/test_json/test_float.py'...\n",
            "Compiling '/usr/local/lib/python3.8/test/test_json/test_indent.py'...\n",
            "Compiling '/usr/local/lib/python3.8/test/test_json/test_pass2.py'...\n",
            "Compiling '/usr/local/lib/python3.8/test/test_json/test_pass3.py'...\n",
            "Compiling '/usr/local/lib/python3.8/test/test_json/test_pass1.py'...\n",
            "Compiling '/usr/local/lib/python3.8/test/test_json/test_recursion.py'...\n",
            "Compiling '/usr/local/lib/python3.8/test/test_json/test_scanstring.py'...\n",
            "Compiling '/usr/local/lib/python3.8/test/test_json/test_separators.py'...\n",
            "Compiling '/usr/local/lib/python3.8/test/test_json/test_speedups.py'...\n",
            "Compiling '/usr/local/lib/python3.8/test/test_json/test_unicode.py'...\n",
            "Compiling '/usr/local/lib/python3.8/test/test_json/test_tool.py'...\n",
            "Compiling '/usr/local/lib/python3.8/test/test_keyword.py'...\n",
            "Compiling '/usr/local/lib/python3.8/test/test_kqueue.py'...\n",
            "Compiling '/usr/local/lib/python3.8/test/test_largefile.py'...\n",
            "Compiling '/usr/local/lib/python3.8/test/test_lib2to3.py'...\n",
            "Compiling '/usr/local/lib/python3.8/test/test_keywordonlyarg.py'...\n",
            "Compiling '/usr/local/lib/python3.8/test/test_linecache.py'...\n",
            "Compiling '/usr/local/lib/python3.8/test/test_list.py'...\n",
            "Compiling '/usr/local/lib/python3.8/test/test_listcomps.py'...\n",
            "Compiling '/usr/local/lib/python3.8/test/test_lltrace.py'...\n",
            "Compiling '/usr/local/lib/python3.8/test/test_locale.py'...\n",
            "Compiling '/usr/local/lib/python3.8/test/test_logging.py'...\n",
            "Compiling '/usr/local/lib/python3.8/test/test_long.py'...\n",
            "Compiling '/usr/local/lib/python3.8/test/test_longexp.py'...\n",
            "Compiling '/usr/local/lib/python3.8/test/test_lzma.py'...\n",
            "Compiling '/usr/local/lib/python3.8/test/test_mailbox.py'...\n",
            "Compiling '/usr/local/lib/python3.8/test/test_mailcap.py'...\n",
            "Compiling '/usr/local/lib/python3.8/test/test_marshal.py'...\n",
            "Compiling '/usr/local/lib/python3.8/test/test_math.py'...\n",
            "Compiling '/usr/local/lib/python3.8/test/test_memoryio.py'...\n",
            "Compiling '/usr/local/lib/python3.8/test/test_memoryview.py'...\n",
            "Compiling '/usr/local/lib/python3.8/test/test_metaclass.py'...\n",
            "Compiling '/usr/local/lib/python3.8/test/test_mimetypes.py'...\n",
            "Compiling '/usr/local/lib/python3.8/test/test_minidom.py'...\n",
            "Compiling '/usr/local/lib/python3.8/test/test_mmap.py'...\n",
            "Compiling '/usr/local/lib/python3.8/test/test_module.py'...\n",
            "Compiling '/usr/local/lib/python3.8/test/test_modulefinder.py'...\n",
            "Compiling '/usr/local/lib/python3.8/test/test_msilib.py'...\n",
            "Compiling '/usr/local/lib/python3.8/test/test_multibytecodec.py'...\n",
            "Compiling '/usr/local/lib/python3.8/test/test_multiprocessing_fork.py'...\n",
            "Compiling '/usr/local/lib/python3.8/test/test_multiprocessing_main_handling.py'...\n",
            "Compiling '/usr/local/lib/python3.8/test/test_multiprocessing_forkserver.py'...\n",
            "Compiling '/usr/local/lib/python3.8/test/test_multiprocessing_spawn.py'...\n",
            "Compiling '/usr/local/lib/python3.8/test/test_named_expressions.py'...\n",
            "Compiling '/usr/local/lib/python3.8/test/test_netrc.py'...\n",
            "Compiling '/usr/local/lib/python3.8/test/test_nis.py'...\n",
            "Compiling '/usr/local/lib/python3.8/test/test_nntplib.py'...\n",
            "Compiling '/usr/local/lib/python3.8/test/test_normalization.py'...\n",
            "Compiling '/usr/local/lib/python3.8/test/test_ntpath.py'...\n",
            "Compiling '/usr/local/lib/python3.8/test/test_numeric_tower.py'...\n",
            "Compiling '/usr/local/lib/python3.8/test/test_opcodes.py'...\n",
            "Compiling '/usr/local/lib/python3.8/test/test_operator.py'...\n",
            "Compiling '/usr/local/lib/python3.8/test/test_openpty.py'...\n",
            "Compiling '/usr/local/lib/python3.8/test/test_optparse.py'...\n",
            "Compiling '/usr/local/lib/python3.8/test/test_ordered_dict.py'...\n",
            "Compiling '/usr/local/lib/python3.8/test/test_os.py'...\n",
            "Compiling '/usr/local/lib/python3.8/test/test_ossaudiodev.py'...\n",
            "Compiling '/usr/local/lib/python3.8/test/test_osx_env.py'...\n",
            "Compiling '/usr/local/lib/python3.8/test/test_pathlib.py'...\n",
            "Compiling '/usr/local/lib/python3.8/test/test_parser.py'...\n",
            "Compiling '/usr/local/lib/python3.8/test/test_pdb.py'...\n",
            "Compiling '/usr/local/lib/python3.8/test/test_peepholer.py'...\n",
            "Compiling '/usr/local/lib/python3.8/test/test_pickle.py'...\n",
            "Compiling '/usr/local/lib/python3.8/test/test_picklebuffer.py'...\n",
            "Compiling '/usr/local/lib/python3.8/test/test_pickletools.py'...\n",
            "Compiling '/usr/local/lib/python3.8/test/test_pipes.py'...\n",
            "Compiling '/usr/local/lib/python3.8/test/test_pkg.py'...\n",
            "Compiling '/usr/local/lib/python3.8/test/test_pkgimport.py'...\n",
            "Compiling '/usr/local/lib/python3.8/test/test_pkgutil.py'...\n",
            "Compiling '/usr/local/lib/python3.8/test/test_plistlib.py'...\n",
            "Compiling '/usr/local/lib/python3.8/test/test_poll.py'...\n",
            "Compiling '/usr/local/lib/python3.8/test/test_popen.py'...\n",
            "Compiling '/usr/local/lib/python3.8/test/test_platform.py'...\n",
            "Compiling '/usr/local/lib/python3.8/test/test_poplib.py'...\n",
            "Compiling '/usr/local/lib/python3.8/test/test_positional_only_arg.py'...\n",
            "Compiling '/usr/local/lib/python3.8/test/test_posix.py'...\n",
            "Compiling '/usr/local/lib/python3.8/test/test_posixpath.py'...\n",
            "Compiling '/usr/local/lib/python3.8/test/test_pow.py'...\n",
            "Compiling '/usr/local/lib/python3.8/test/test_pprint.py'...\n",
            "Compiling '/usr/local/lib/python3.8/test/test_print.py'...\n",
            "Compiling '/usr/local/lib/python3.8/test/test_property.py'...\n",
            "Compiling '/usr/local/lib/python3.8/test/test_profile.py'...\n",
            "Compiling '/usr/local/lib/python3.8/test/test_pstats.py'...\n",
            "Compiling '/usr/local/lib/python3.8/test/test_pty.py'...\n",
            "Compiling '/usr/local/lib/python3.8/test/test_pulldom.py'...\n",
            "Compiling '/usr/local/lib/python3.8/test/test_pwd.py'...\n",
            "Compiling '/usr/local/lib/python3.8/test/test_py_compile.py'...\n",
            "Compiling '/usr/local/lib/python3.8/test/test_pyclbr.py'...\n",
            "Compiling '/usr/local/lib/python3.8/test/test_pydoc.py'...\n",
            "Compiling '/usr/local/lib/python3.8/test/test_pyexpat.py'...\n",
            "Compiling '/usr/local/lib/python3.8/test/test_queue.py'...\n",
            "Compiling '/usr/local/lib/python3.8/test/test_quopri.py'...\n",
            "Compiling '/usr/local/lib/python3.8/test/test_raise.py'...\n",
            "Compiling '/usr/local/lib/python3.8/test/test_random.py'...\n",
            "Compiling '/usr/local/lib/python3.8/test/test_range.py'...\n",
            "Compiling '/usr/local/lib/python3.8/test/test_re.py'...\n",
            "Compiling '/usr/local/lib/python3.8/test/test_readline.py'...\n",
            "Compiling '/usr/local/lib/python3.8/test/test_regrtest.py'...\n",
            "Compiling '/usr/local/lib/python3.8/test/test_repl.py'...\n",
            "Compiling '/usr/local/lib/python3.8/test/test_reprlib.py'...\n",
            "Compiling '/usr/local/lib/python3.8/test/test_resource.py'...\n",
            "Compiling '/usr/local/lib/python3.8/test/test_richcmp.py'...\n",
            "Compiling '/usr/local/lib/python3.8/test/test_rlcompleter.py'...\n",
            "Compiling '/usr/local/lib/python3.8/test/test_robotparser.py'...\n",
            "Compiling '/usr/local/lib/python3.8/test/test_runpy.py'...\n",
            "Compiling '/usr/local/lib/python3.8/test/test_sax.py'...\n",
            "Compiling '/usr/local/lib/python3.8/test/test_sched.py'...\n",
            "Compiling '/usr/local/lib/python3.8/test/test_scope.py'...\n",
            "Compiling '/usr/local/lib/python3.8/test/test_script_helper.py'...\n",
            "Compiling '/usr/local/lib/python3.8/test/test_secrets.py'...\n",
            "Compiling '/usr/local/lib/python3.8/test/test_select.py'...\n",
            "Compiling '/usr/local/lib/python3.8/test/test_selectors.py'...\n",
            "Compiling '/usr/local/lib/python3.8/test/test_set.py'...\n",
            "Compiling '/usr/local/lib/python3.8/test/test_setcomps.py'...\n",
            "Compiling '/usr/local/lib/python3.8/test/test_shelve.py'...\n",
            "Compiling '/usr/local/lib/python3.8/test/test_shlex.py'...\n",
            "Compiling '/usr/local/lib/python3.8/test/test_signal.py'...\n",
            "Compiling '/usr/local/lib/python3.8/test/test_shutil.py'...\n",
            "Compiling '/usr/local/lib/python3.8/test/test_site.py'...\n",
            "Compiling '/usr/local/lib/python3.8/test/test_slice.py'...\n",
            "Compiling '/usr/local/lib/python3.8/test/test_smtpd.py'...\n",
            "Compiling '/usr/local/lib/python3.8/test/test_smtplib.py'...\n",
            "Compiling '/usr/local/lib/python3.8/test/test_smtpnet.py'...\n",
            "Compiling '/usr/local/lib/python3.8/test/test_sndhdr.py'...\n",
            "Compiling '/usr/local/lib/python3.8/test/test_socket.py'...\n",
            "Compiling '/usr/local/lib/python3.8/test/test_socketserver.py'...\n",
            "Compiling '/usr/local/lib/python3.8/test/test_sort.py'...\n",
            "Compiling '/usr/local/lib/python3.8/test/test_source_encoding.py'...\n",
            "Compiling '/usr/local/lib/python3.8/test/test_spwd.py'...\n",
            "Compiling '/usr/local/lib/python3.8/test/test_sqlite.py'...\n",
            "Compiling '/usr/local/lib/python3.8/test/test_ssl.py'...\n",
            "Compiling '/usr/local/lib/python3.8/test/test_startfile.py'...\n",
            "Compiling '/usr/local/lib/python3.8/test/test_stat.py'...\n",
            "Compiling '/usr/local/lib/python3.8/test/test_statistics.py'...\n",
            "Compiling '/usr/local/lib/python3.8/test/test_string.py'...\n",
            "Compiling '/usr/local/lib/python3.8/test/test_strftime.py'...\n",
            "Compiling '/usr/local/lib/python3.8/test/test_string_literals.py'...\n",
            "Compiling '/usr/local/lib/python3.8/test/test_stringprep.py'...\n",
            "Compiling '/usr/local/lib/python3.8/test/test_strptime.py'...\n",
            "Compiling '/usr/local/lib/python3.8/test/test_strtod.py'...\n",
            "Compiling '/usr/local/lib/python3.8/test/test_struct.py'...\n",
            "Compiling '/usr/local/lib/python3.8/test/test_structmembers.py'...\n",
            "Compiling '/usr/local/lib/python3.8/test/test_structseq.py'...\n",
            "Compiling '/usr/local/lib/python3.8/test/test_subclassinit.py'...\n",
            "Compiling '/usr/local/lib/python3.8/test/test_subprocess.py'...\n",
            "Compiling '/usr/local/lib/python3.8/test/test_sunau.py'...\n",
            "Compiling '/usr/local/lib/python3.8/test/test_sundry.py'...\n",
            "Compiling '/usr/local/lib/python3.8/test/test_super.py'...\n",
            "Compiling '/usr/local/lib/python3.8/test/test_support.py'...\n",
            "Compiling '/usr/local/lib/python3.8/test/test_symbol.py'...\n",
            "Compiling '/usr/local/lib/python3.8/test/test_symtable.py'...\n",
            "Compiling '/usr/local/lib/python3.8/test/test_syntax.py'...\n",
            "Compiling '/usr/local/lib/python3.8/test/test_sys.py'...\n",
            "Compiling '/usr/local/lib/python3.8/test/test_sys_setprofile.py'...\n",
            "Compiling '/usr/local/lib/python3.8/test/test_sys_settrace.py'...\n",
            "Compiling '/usr/local/lib/python3.8/test/test_sysconfig.py'...\n",
            "Compiling '/usr/local/lib/python3.8/test/test_syslog.py'...\n",
            "Compiling '/usr/local/lib/python3.8/test/test_tabnanny.py'...\n",
            "Compiling '/usr/local/lib/python3.8/test/test_tarfile.py'...\n",
            "Compiling '/usr/local/lib/python3.8/test/test_tcl.py'...\n",
            "Compiling '/usr/local/lib/python3.8/test/test_telnetlib.py'...\n",
            "Compiling '/usr/local/lib/python3.8/test/test_tempfile.py'...\n",
            "Compiling '/usr/local/lib/python3.8/test/test_textwrap.py'...\n",
            "Compiling '/usr/local/lib/python3.8/test/test_thread.py'...\n",
            "Compiling '/usr/local/lib/python3.8/test/test_threaded_import.py'...\n",
            "Compiling '/usr/local/lib/python3.8/test/test_threadedtempfile.py'...\n",
            "Compiling '/usr/local/lib/python3.8/test/test_threading.py'...\n",
            "Compiling '/usr/local/lib/python3.8/test/test_threading_local.py'...\n",
            "Compiling '/usr/local/lib/python3.8/test/test_threadsignals.py'...\n",
            "Compiling '/usr/local/lib/python3.8/test/test_time.py'...\n",
            "Compiling '/usr/local/lib/python3.8/test/test_timeit.py'...\n",
            "Compiling '/usr/local/lib/python3.8/test/test_timeout.py'...\n",
            "Compiling '/usr/local/lib/python3.8/test/test_tix.py'...\n",
            "Compiling '/usr/local/lib/python3.8/test/test_tk.py'...\n",
            "Compiling '/usr/local/lib/python3.8/test/test_tokenize.py'...\n",
            "Compiling '/usr/local/lib/python3.8/test/test_tools/__init__.py'...\n",
            "Compiling '/usr/local/lib/python3.8/test/test_tools/__main__.py'...\n",
            "Compiling '/usr/local/lib/python3.8/test/test_tools/test_fixcid.py'...\n",
            "Compiling '/usr/local/lib/python3.8/test/test_tools/test_i18n.py'...\n",
            "Compiling '/usr/local/lib/python3.8/test/test_tools/test_lll.py'...\n",
            "Compiling '/usr/local/lib/python3.8/test/test_tools/test_gprof2html.py'...\n",
            "Compiling '/usr/local/lib/python3.8/test/test_tools/test_md5sum.py'...\n",
            "Compiling '/usr/local/lib/python3.8/test/test_tools/test_pathfix.py'...\n",
            "Compiling '/usr/local/lib/python3.8/test/test_tools/test_pdeps.py'...\n",
            "Compiling '/usr/local/lib/python3.8/test/test_tools/test_pindent.py'...\n",
            "Compiling '/usr/local/lib/python3.8/test/test_tools/test_sundry.py'...\n",
            "Compiling '/usr/local/lib/python3.8/test/test_tools/test_reindent.py'...\n",
            "Compiling '/usr/local/lib/python3.8/test/test_tools/test_unparse.py'...\n",
            "Compiling '/usr/local/lib/python3.8/test/test_trace.py'...\n",
            "Compiling '/usr/local/lib/python3.8/test/test_traceback.py'...\n",
            "Compiling '/usr/local/lib/python3.8/test/test_tracemalloc.py'...\n",
            "Compiling '/usr/local/lib/python3.8/test/test_ttk_textonly.py'...\n",
            "Compiling '/usr/local/lib/python3.8/test/test_ttk_guionly.py'...\n",
            "Compiling '/usr/local/lib/python3.8/test/test_tuple.py'...\n",
            "Compiling '/usr/local/lib/python3.8/test/test_turtle.py'...\n",
            "Compiling '/usr/local/lib/python3.8/test/test_type_comments.py'...\n",
            "Compiling '/usr/local/lib/python3.8/test/test_typechecks.py'...\n",
            "Compiling '/usr/local/lib/python3.8/test/test_types.py'...\n",
            "Compiling '/usr/local/lib/python3.8/test/test_typing.py'...\n",
            "Compiling '/usr/local/lib/python3.8/test/test_ucn.py'...\n",
            "Compiling '/usr/local/lib/python3.8/test/test_unary.py'...\n",
            "Compiling '/usr/local/lib/python3.8/test/test_unicode.py'...\n",
            "Compiling '/usr/local/lib/python3.8/test/test_unicode_file.py'...\n",
            "Compiling '/usr/local/lib/python3.8/test/test_unicode_file_functions.py'...\n",
            "Compiling '/usr/local/lib/python3.8/test/test_unicode_identifiers.py'...\n",
            "Compiling '/usr/local/lib/python3.8/test/test_unicodedata.py'...\n",
            "Compiling '/usr/local/lib/python3.8/test/test_unittest.py'...\n",
            "Compiling '/usr/local/lib/python3.8/test/test_univnewlines.py'...\n",
            "Compiling '/usr/local/lib/python3.8/test/test_unpack.py'...\n",
            "Compiling '/usr/local/lib/python3.8/test/test_unpack_ex.py'...\n",
            "Compiling '/usr/local/lib/python3.8/test/test_urllib.py'...\n",
            "Compiling '/usr/local/lib/python3.8/test/test_urllib2.py'...\n",
            "Compiling '/usr/local/lib/python3.8/test/test_urllib2_localnet.py'...\n",
            "Compiling '/usr/local/lib/python3.8/test/test_urllib2net.py'...\n",
            "Compiling '/usr/local/lib/python3.8/test/test_urllib_response.py'...\n",
            "Compiling '/usr/local/lib/python3.8/test/test_urllibnet.py'...\n",
            "Compiling '/usr/local/lib/python3.8/test/test_urlparse.py'...\n",
            "Compiling '/usr/local/lib/python3.8/test/test_userdict.py'...\n",
            "Compiling '/usr/local/lib/python3.8/test/test_userlist.py'...\n",
            "Compiling '/usr/local/lib/python3.8/test/test_userstring.py'...\n",
            "Compiling '/usr/local/lib/python3.8/test/test_utf8_mode.py'...\n",
            "Compiling '/usr/local/lib/python3.8/test/test_utf8source.py'...\n",
            "Compiling '/usr/local/lib/python3.8/test/test_uu.py'...\n",
            "Compiling '/usr/local/lib/python3.8/test/test_uuid.py'...\n",
            "Compiling '/usr/local/lib/python3.8/test/test_venv.py'...\n",
            "Compiling '/usr/local/lib/python3.8/test/test_wait3.py'...\n",
            "Compiling '/usr/local/lib/python3.8/test/test_wait4.py'...\n",
            "Compiling '/usr/local/lib/python3.8/test/test_warnings/__init__.py'...\n",
            "Compiling '/usr/local/lib/python3.8/test/test_warnings/__main__.py'...\n",
            "Compiling '/usr/local/lib/python3.8/test/test_warnings/data/import_warning.py'...\n",
            "Compiling '/usr/local/lib/python3.8/test/test_warnings/data/stacklevel.py'...\n",
            "Compiling '/usr/local/lib/python3.8/test/test_wave.py'...\n",
            "Compiling '/usr/local/lib/python3.8/test/test_weakref.py'...\n",
            "Compiling '/usr/local/lib/python3.8/test/test_weakset.py'...\n",
            "Compiling '/usr/local/lib/python3.8/test/test_webbrowser.py'...\n",
            "Compiling '/usr/local/lib/python3.8/test/test_winconsoleio.py'...\n",
            "Compiling '/usr/local/lib/python3.8/test/test_winreg.py'...\n",
            "Compiling '/usr/local/lib/python3.8/test/test_winsound.py'...\n",
            "Compiling '/usr/local/lib/python3.8/test/test_with.py'...\n",
            "Compiling '/usr/local/lib/python3.8/test/test_wsgiref.py'...\n",
            "Compiling '/usr/local/lib/python3.8/test/test_xdrlib.py'...\n",
            "Compiling '/usr/local/lib/python3.8/test/test_xml_dom_minicompat.py'...\n",
            "Compiling '/usr/local/lib/python3.8/test/test_xml_etree.py'...\n",
            "Compiling '/usr/local/lib/python3.8/test/test_xml_etree_c.py'...\n",
            "Compiling '/usr/local/lib/python3.8/test/test_xmlrpc.py'...\n",
            "Compiling '/usr/local/lib/python3.8/test/test_xmlrpc_net.py'...\n",
            "Compiling '/usr/local/lib/python3.8/test/test_xxtestfuzz.py'...\n",
            "Compiling '/usr/local/lib/python3.8/test/test_yield_from.py'...\n",
            "Compiling '/usr/local/lib/python3.8/test/test_zipapp.py'...\n",
            "Compiling '/usr/local/lib/python3.8/test/test_zipfile.py'...\n",
            "Compiling '/usr/local/lib/python3.8/test/test_zipfile64.py'...\n",
            "Compiling '/usr/local/lib/python3.8/test/test_zipimport.py'...\n",
            "Compiling '/usr/local/lib/python3.8/test/test_zipimport_support.py'...\n",
            "Compiling '/usr/local/lib/python3.8/test/test_zlib.py'...\n",
            "Compiling '/usr/local/lib/python3.8/test/testcodec.py'...\n",
            "Compiling '/usr/local/lib/python3.8/test/tf_inherit_check.py'...\n",
            "Compiling '/usr/local/lib/python3.8/test/threaded_import_hangers.py'...\n",
            "Compiling '/usr/local/lib/python3.8/test/time_hashlib.py'...\n",
            "Compiling '/usr/local/lib/python3.8/test/tracedmodules/__init__.py'...\n",
            "Compiling '/usr/local/lib/python3.8/test/tracedmodules/testmod.py'...\n",
            "Compiling '/usr/local/lib/python3.8/test/win_console_handler.py'...\n",
            "Compiling '/usr/local/lib/python3.8/test/xmltests.py'...\n",
            "Compiling '/usr/local/lib/python3.8/test/ziptestdata/testdata_module_inside_zip.py'...\n",
            "Compiling '/usr/local/lib/python3.8/textwrap.py'...\n",
            "Compiling '/usr/local/lib/python3.8/this.py'...\n",
            "Compiling '/usr/local/lib/python3.8/threading.py'...\n",
            "Compiling '/usr/local/lib/python3.8/timeit.py'...\n",
            "Compiling '/usr/local/lib/python3.8/tkinter/__init__.py'...\n",
            "Compiling '/usr/local/lib/python3.8/tkinter/__main__.py'...\n",
            "Compiling '/usr/local/lib/python3.8/tkinter/colorchooser.py'...\n",
            "Compiling '/usr/local/lib/python3.8/tkinter/commondialog.py'...\n",
            "Compiling '/usr/local/lib/python3.8/tkinter/constants.py'...\n",
            "Compiling '/usr/local/lib/python3.8/tkinter/dialog.py'...\n",
            "Compiling '/usr/local/lib/python3.8/tkinter/dnd.py'...\n",
            "Compiling '/usr/local/lib/python3.8/tkinter/filedialog.py'...\n",
            "Compiling '/usr/local/lib/python3.8/tkinter/font.py'...\n",
            "Compiling '/usr/local/lib/python3.8/tkinter/messagebox.py'...\n",
            "Compiling '/usr/local/lib/python3.8/tkinter/scrolledtext.py'...\n",
            "Compiling '/usr/local/lib/python3.8/tkinter/simpledialog.py'...\n",
            "Compiling '/usr/local/lib/python3.8/tkinter/test/runtktests.py'...\n",
            "Compiling '/usr/local/lib/python3.8/tkinter/test/__init__.py'...\n",
            "Compiling '/usr/local/lib/python3.8/tkinter/test/support.py'...\n",
            "Compiling '/usr/local/lib/python3.8/tkinter/test/test_tkinter/__init__.py'...\n",
            "Compiling '/usr/local/lib/python3.8/tkinter/test/test_tkinter/test_font.py'...\n",
            "Compiling '/usr/local/lib/python3.8/tkinter/test/test_tkinter/test_geometry_managers.py'...\n",
            "Compiling '/usr/local/lib/python3.8/tkinter/test/test_tkinter/test_images.py'...\n",
            "Compiling '/usr/local/lib/python3.8/tkinter/test/test_tkinter/test_loadtk.py'...\n",
            "Compiling '/usr/local/lib/python3.8/tkinter/test/test_tkinter/test_misc.py'...\n",
            "Compiling '/usr/local/lib/python3.8/tkinter/test/test_tkinter/test_text.py'...\n",
            "Compiling '/usr/local/lib/python3.8/tkinter/test/test_tkinter/test_variables.py'...\n",
            "Compiling '/usr/local/lib/python3.8/tkinter/test/test_tkinter/test_widgets.py'...\n",
            "Compiling '/usr/local/lib/python3.8/tkinter/test/test_ttk/__init__.py'...\n",
            "Compiling '/usr/local/lib/python3.8/tkinter/test/test_ttk/test_extensions.py'...\n",
            "Compiling '/usr/local/lib/python3.8/tkinter/test/test_ttk/test_functions.py'...\n",
            "Compiling '/usr/local/lib/python3.8/tkinter/test/test_ttk/test_style.py'...\n",
            "Compiling '/usr/local/lib/python3.8/tkinter/test/test_ttk/test_widgets.py'...\n",
            "Compiling '/usr/local/lib/python3.8/tkinter/test/widget_tests.py'...\n",
            "Compiling '/usr/local/lib/python3.8/tkinter/tix.py'...\n",
            "Compiling '/usr/local/lib/python3.8/tkinter/ttk.py'...\n",
            "Compiling '/usr/local/lib/python3.8/token.py'...\n",
            "Compiling '/usr/local/lib/python3.8/tokenize.py'...\n",
            "Compiling '/usr/local/lib/python3.8/trace.py'...\n",
            "Compiling '/usr/local/lib/python3.8/traceback.py'...\n",
            "Compiling '/usr/local/lib/python3.8/tracemalloc.py'...\n",
            "Compiling '/usr/local/lib/python3.8/tty.py'...\n",
            "Compiling '/usr/local/lib/python3.8/turtle.py'...\n",
            "Compiling '/usr/local/lib/python3.8/turtledemo/__init__.py'...\n",
            "Compiling '/usr/local/lib/python3.8/turtledemo/__main__.py'...\n",
            "Compiling '/usr/local/lib/python3.8/turtledemo/bytedesign.py'...\n",
            "Compiling '/usr/local/lib/python3.8/turtledemo/chaos.py'...\n",
            "Compiling '/usr/local/lib/python3.8/turtledemo/clock.py'...\n",
            "Compiling '/usr/local/lib/python3.8/turtledemo/forest.py'...\n",
            "Compiling '/usr/local/lib/python3.8/turtledemo/fractalcurves.py'...\n",
            "Compiling '/usr/local/lib/python3.8/turtledemo/colormixer.py'...\n",
            "Compiling '/usr/local/lib/python3.8/turtledemo/lindenmayer.py'...\n",
            "Compiling '/usr/local/lib/python3.8/turtledemo/minimal_hanoi.py'...\n",
            "Compiling '/usr/local/lib/python3.8/turtledemo/nim.py'...\n",
            "Compiling '/usr/local/lib/python3.8/turtledemo/paint.py'...\n",
            "Compiling '/usr/local/lib/python3.8/turtledemo/peace.py'...\n",
            "Compiling '/usr/local/lib/python3.8/turtledemo/penrose.py'...\n",
            "Compiling '/usr/local/lib/python3.8/turtledemo/planet_and_moon.py'...\n",
            "Compiling '/usr/local/lib/python3.8/turtledemo/rosette.py'...\n",
            "Compiling '/usr/local/lib/python3.8/turtledemo/round_dance.py'...\n",
            "Compiling '/usr/local/lib/python3.8/turtledemo/sorting_animate.py'...\n",
            "Compiling '/usr/local/lib/python3.8/turtledemo/tree.py'...\n",
            "Compiling '/usr/local/lib/python3.8/turtledemo/two_canvases.py'...\n",
            "Compiling '/usr/local/lib/python3.8/turtledemo/yinyang.py'...\n",
            "Compiling '/usr/local/lib/python3.8/types.py'...\n",
            "Compiling '/usr/local/lib/python3.8/typing.py'...\n",
            "Compiling '/usr/local/lib/python3.8/unittest/__init__.py'...\n",
            "Compiling '/usr/local/lib/python3.8/unittest/__main__.py'...\n",
            "Compiling '/usr/local/lib/python3.8/unittest/async_case.py'...\n",
            "Compiling '/usr/local/lib/python3.8/unittest/case.py'...\n",
            "Compiling '/usr/local/lib/python3.8/unittest/loader.py'...\n",
            "Compiling '/usr/local/lib/python3.8/unittest/main.py'...\n",
            "Compiling '/usr/local/lib/python3.8/unittest/mock.py'...\n",
            "Compiling '/usr/local/lib/python3.8/unittest/result.py'...\n",
            "Compiling '/usr/local/lib/python3.8/unittest/runner.py'...\n",
            "Compiling '/usr/local/lib/python3.8/unittest/signals.py'...\n",
            "Compiling '/usr/local/lib/python3.8/unittest/suite.py'...\n",
            "Compiling '/usr/local/lib/python3.8/unittest/test/__init__.py'...\n",
            "Compiling '/usr/local/lib/python3.8/unittest/test/__main__.py'...\n",
            "Compiling '/usr/local/lib/python3.8/unittest/test/_test_warnings.py'...\n",
            "Compiling '/usr/local/lib/python3.8/unittest/test/dummy.py'...\n",
            "Compiling '/usr/local/lib/python3.8/unittest/test/support.py'...\n",
            "Compiling '/usr/local/lib/python3.8/unittest/test/test_assertions.py'...\n",
            "Compiling '/usr/local/lib/python3.8/unittest/test/test_async_case.py'...\n",
            "Compiling '/usr/local/lib/python3.8/unittest/test/test_break.py'...\n",
            "Compiling '/usr/local/lib/python3.8/unittest/test/test_case.py'...\n",
            "Compiling '/usr/local/lib/python3.8/unittest/test/test_discovery.py'...\n",
            "Compiling '/usr/local/lib/python3.8/unittest/test/test_functiontestcase.py'...\n",
            "Compiling '/usr/local/lib/python3.8/unittest/test/test_loader.py'...\n",
            "Compiling '/usr/local/lib/python3.8/unittest/test/test_program.py'...\n",
            "Compiling '/usr/local/lib/python3.8/unittest/test/test_result.py'...\n",
            "Compiling '/usr/local/lib/python3.8/unittest/test/test_runner.py'...\n",
            "Compiling '/usr/local/lib/python3.8/unittest/test/test_setups.py'...\n",
            "Compiling '/usr/local/lib/python3.8/unittest/test/test_skipping.py'...\n",
            "Compiling '/usr/local/lib/python3.8/unittest/test/test_suite.py'...\n",
            "Compiling '/usr/local/lib/python3.8/unittest/test/testmock/__init__.py'...\n",
            "Compiling '/usr/local/lib/python3.8/unittest/test/testmock/__main__.py'...\n",
            "Compiling '/usr/local/lib/python3.8/unittest/test/testmock/support.py'...\n",
            "Compiling '/usr/local/lib/python3.8/unittest/test/testmock/testasync.py'...\n",
            "Compiling '/usr/local/lib/python3.8/unittest/test/testmock/testcallable.py'...\n",
            "Compiling '/usr/local/lib/python3.8/unittest/test/testmock/testhelpers.py'...\n",
            "Compiling '/usr/local/lib/python3.8/unittest/test/testmock/testmagicmethods.py'...\n",
            "Compiling '/usr/local/lib/python3.8/unittest/test/testmock/testmock.py'...\n",
            "Compiling '/usr/local/lib/python3.8/unittest/test/testmock/testpatch.py'...\n",
            "Compiling '/usr/local/lib/python3.8/unittest/test/testmock/testsealable.py'...\n",
            "Compiling '/usr/local/lib/python3.8/unittest/test/testmock/testsentinel.py'...\n",
            "Compiling '/usr/local/lib/python3.8/unittest/test/testmock/testwith.py'...\n",
            "Compiling '/usr/local/lib/python3.8/unittest/util.py'...\n",
            "Compiling '/usr/local/lib/python3.8/urllib/__init__.py'...\n",
            "Compiling '/usr/local/lib/python3.8/urllib/error.py'...\n",
            "Compiling '/usr/local/lib/python3.8/urllib/parse.py'...\n",
            "Compiling '/usr/local/lib/python3.8/urllib/request.py'...\n",
            "Compiling '/usr/local/lib/python3.8/urllib/response.py'...\n",
            "Compiling '/usr/local/lib/python3.8/urllib/robotparser.py'...\n",
            "Compiling '/usr/local/lib/python3.8/uu.py'...\n",
            "Compiling '/usr/local/lib/python3.8/uuid.py'...\n",
            "Compiling '/usr/local/lib/python3.8/venv/__init__.py'...\n",
            "Compiling '/usr/local/lib/python3.8/venv/__main__.py'...\n",
            "Compiling '/usr/local/lib/python3.8/warnings.py'...\n",
            "Compiling '/usr/local/lib/python3.8/wave.py'...\n",
            "Compiling '/usr/local/lib/python3.8/weakref.py'...\n",
            "Compiling '/usr/local/lib/python3.8/webbrowser.py'...\n",
            "Compiling '/usr/local/lib/python3.8/wsgiref/__init__.py'...\n",
            "Compiling '/usr/local/lib/python3.8/wsgiref/headers.py'...\n",
            "Compiling '/usr/local/lib/python3.8/wsgiref/simple_server.py'...\n",
            "Compiling '/usr/local/lib/python3.8/wsgiref/handlers.py'...\n",
            "Compiling '/usr/local/lib/python3.8/wsgiref/util.py'...\n",
            "Compiling '/usr/local/lib/python3.8/wsgiref/validate.py'...\n",
            "Compiling '/usr/local/lib/python3.8/xdrlib.py'...\n",
            "Compiling '/usr/local/lib/python3.8/xml/__init__.py'...\n",
            "Compiling '/usr/local/lib/python3.8/xml/dom/NodeFilter.py'...\n",
            "Compiling '/usr/local/lib/python3.8/xml/dom/__init__.py'...\n",
            "Compiling '/usr/local/lib/python3.8/xml/dom/domreg.py'...\n",
            "Compiling '/usr/local/lib/python3.8/xml/dom/expatbuilder.py'...\n",
            "Compiling '/usr/local/lib/python3.8/xml/dom/minicompat.py'...\n",
            "Compiling '/usr/local/lib/python3.8/xml/dom/minidom.py'...\n",
            "Compiling '/usr/local/lib/python3.8/xml/dom/pulldom.py'...\n",
            "Compiling '/usr/local/lib/python3.8/xml/etree/ElementInclude.py'...\n",
            "Compiling '/usr/local/lib/python3.8/xml/etree/ElementPath.py'...\n",
            "Compiling '/usr/local/lib/python3.8/xml/dom/xmlbuilder.py'...\n",
            "Compiling '/usr/local/lib/python3.8/xml/etree/ElementTree.py'...\n",
            "Compiling '/usr/local/lib/python3.8/xml/etree/__init__.py'...\n",
            "Compiling '/usr/local/lib/python3.8/xml/etree/cElementTree.py'...\n",
            "Compiling '/usr/local/lib/python3.8/xml/parsers/__init__.py'...\n",
            "Compiling '/usr/local/lib/python3.8/xml/parsers/expat.py'...\n",
            "Compiling '/usr/local/lib/python3.8/xml/sax/__init__.py'...\n",
            "Compiling '/usr/local/lib/python3.8/xml/sax/expatreader.py'...\n",
            "Compiling '/usr/local/lib/python3.8/xml/sax/_exceptions.py'...\n",
            "Compiling '/usr/local/lib/python3.8/xml/sax/handler.py'...\n",
            "Compiling '/usr/local/lib/python3.8/xml/sax/saxutils.py'...\n",
            "Compiling '/usr/local/lib/python3.8/xml/sax/xmlreader.py'...\n",
            "Compiling '/usr/local/lib/python3.8/xmlrpc/__init__.py'...\n",
            "Compiling '/usr/local/lib/python3.8/xmlrpc/client.py'...\n",
            "Compiling '/usr/local/lib/python3.8/xmlrpc/server.py'...\n",
            "Compiling '/usr/local/lib/python3.8/zipapp.py'...\n",
            "Compiling '/usr/local/lib/python3.8/zipfile.py'...\n",
            "Compiling '/usr/local/lib/python3.8/zipimport.py'...\n",
            "PYTHONPATH=/usr/local/lib/python3.8  \\\n",
            "\t./python -E -Wi /usr/local/lib/python3.8/compileall.py \\\n",
            "\t-j0 -d /usr/local/lib/python3.8/site-packages -f \\\n",
            "\t-x badsyntax /usr/local/lib/python3.8/site-packages\n",
            "Listing '/usr/local/lib/python3.8/site-packages'...\n",
            "PYTHONPATH=/usr/local/lib/python3.8  \\\n",
            "\t./python -E -Wi -O /usr/local/lib/python3.8/compileall.py \\\n",
            "\t-j0 -d /usr/local/lib/python3.8/site-packages -f \\\n",
            "\t-x badsyntax /usr/local/lib/python3.8/site-packages\n",
            "Listing '/usr/local/lib/python3.8/site-packages'...\n",
            "PYTHONPATH=/usr/local/lib/python3.8  \\\n",
            "\t./python -E -Wi -OO /usr/local/lib/python3.8/compileall.py \\\n",
            "\t-j0 -d /usr/local/lib/python3.8/site-packages -f \\\n",
            "\t-x badsyntax /usr/local/lib/python3.8/site-packages\n",
            "Listing '/usr/local/lib/python3.8/site-packages'...\n",
            "PYTHONPATH=/usr/local/lib/python3.8  \\\n",
            "\t./python -E -m lib2to3.pgen2.driver /usr/local/lib/python3.8/lib2to3/Grammar.txt\n",
            "Generating grammar tables from /usr/local/lib/python3.8/lib2to3/Grammar.txt\n",
            "Writing grammar tables to /usr/local/lib/python3.8/lib2to3/Grammar3.8.6.final.0.pickle\n",
            "PYTHONPATH=/usr/local/lib/python3.8  \\\n",
            "\t./python -E -m lib2to3.pgen2.driver /usr/local/lib/python3.8/lib2to3/PatternGrammar.txt\n",
            "Generating grammar tables from /usr/local/lib/python3.8/lib2to3/PatternGrammar.txt\n",
            "Writing grammar tables to /usr/local/lib/python3.8/lib2to3/PatternGrammar3.8.6.final.0.pickle\n",
            "Creating directory /usr/local/include/python3.8\n",
            "Creating directory /usr/local/include/python3.8/cpython\n",
            "Creating directory /usr/local/include/python3.8/internal\n",
            "/usr/bin/install -c -m 644 Python-3.8.6/Include/Python-ast.h /usr/local/include/python3.8\n",
            "/usr/bin/install -c -m 644 Python-3.8.6/Include/Python.h /usr/local/include/python3.8\n",
            "/usr/bin/install -c -m 644 Python-3.8.6/Include/abstract.h /usr/local/include/python3.8\n",
            "/usr/bin/install -c -m 644 Python-3.8.6/Include/asdl.h /usr/local/include/python3.8\n",
            "/usr/bin/install -c -m 644 Python-3.8.6/Include/ast.h /usr/local/include/python3.8\n",
            "/usr/bin/install -c -m 644 Python-3.8.6/Include/bitset.h /usr/local/include/python3.8\n",
            "/usr/bin/install -c -m 644 Python-3.8.6/Include/bltinmodule.h /usr/local/include/python3.8\n",
            "/usr/bin/install -c -m 644 Python-3.8.6/Include/boolobject.h /usr/local/include/python3.8\n",
            "/usr/bin/install -c -m 644 Python-3.8.6/Include/bytearrayobject.h /usr/local/include/python3.8\n",
            "/usr/bin/install -c -m 644 Python-3.8.6/Include/bytes_methods.h /usr/local/include/python3.8\n",
            "/usr/bin/install -c -m 644 Python-3.8.6/Include/bytesobject.h /usr/local/include/python3.8\n",
            "/usr/bin/install -c -m 644 Python-3.8.6/Include/cellobject.h /usr/local/include/python3.8\n",
            "/usr/bin/install -c -m 644 Python-3.8.6/Include/ceval.h /usr/local/include/python3.8\n",
            "/usr/bin/install -c -m 644 Python-3.8.6/Include/classobject.h /usr/local/include/python3.8\n",
            "/usr/bin/install -c -m 644 Python-3.8.6/Include/code.h /usr/local/include/python3.8\n",
            "/usr/bin/install -c -m 644 Python-3.8.6/Include/codecs.h /usr/local/include/python3.8\n",
            "/usr/bin/install -c -m 644 Python-3.8.6/Include/compile.h /usr/local/include/python3.8\n",
            "/usr/bin/install -c -m 644 Python-3.8.6/Include/complexobject.h /usr/local/include/python3.8\n",
            "/usr/bin/install -c -m 644 Python-3.8.6/Include/context.h /usr/local/include/python3.8\n",
            "/usr/bin/install -c -m 644 Python-3.8.6/Include/datetime.h /usr/local/include/python3.8\n",
            "/usr/bin/install -c -m 644 Python-3.8.6/Include/descrobject.h /usr/local/include/python3.8\n",
            "/usr/bin/install -c -m 644 Python-3.8.6/Include/dictobject.h /usr/local/include/python3.8\n",
            "/usr/bin/install -c -m 644 Python-3.8.6/Include/dtoa.h /usr/local/include/python3.8\n",
            "/usr/bin/install -c -m 644 Python-3.8.6/Include/dynamic_annotations.h /usr/local/include/python3.8\n",
            "/usr/bin/install -c -m 644 Python-3.8.6/Include/enumobject.h /usr/local/include/python3.8\n",
            "/usr/bin/install -c -m 644 Python-3.8.6/Include/errcode.h /usr/local/include/python3.8\n",
            "/usr/bin/install -c -m 644 Python-3.8.6/Include/eval.h /usr/local/include/python3.8\n",
            "/usr/bin/install -c -m 644 Python-3.8.6/Include/fileobject.h /usr/local/include/python3.8\n",
            "/usr/bin/install -c -m 644 Python-3.8.6/Include/fileutils.h /usr/local/include/python3.8\n",
            "/usr/bin/install -c -m 644 Python-3.8.6/Include/floatobject.h /usr/local/include/python3.8\n",
            "/usr/bin/install -c -m 644 Python-3.8.6/Include/frameobject.h /usr/local/include/python3.8\n",
            "/usr/bin/install -c -m 644 Python-3.8.6/Include/funcobject.h /usr/local/include/python3.8\n",
            "/usr/bin/install -c -m 644 Python-3.8.6/Include/genobject.h /usr/local/include/python3.8\n",
            "/usr/bin/install -c -m 644 Python-3.8.6/Include/graminit.h /usr/local/include/python3.8\n",
            "/usr/bin/install -c -m 644 Python-3.8.6/Include/grammar.h /usr/local/include/python3.8\n",
            "/usr/bin/install -c -m 644 Python-3.8.6/Include/import.h /usr/local/include/python3.8\n",
            "/usr/bin/install -c -m 644 Python-3.8.6/Include/interpreteridobject.h /usr/local/include/python3.8\n",
            "/usr/bin/install -c -m 644 Python-3.8.6/Include/intrcheck.h /usr/local/include/python3.8\n",
            "/usr/bin/install -c -m 644 Python-3.8.6/Include/iterobject.h /usr/local/include/python3.8\n",
            "/usr/bin/install -c -m 644 Python-3.8.6/Include/listobject.h /usr/local/include/python3.8\n",
            "/usr/bin/install -c -m 644 Python-3.8.6/Include/longintrepr.h /usr/local/include/python3.8\n",
            "/usr/bin/install -c -m 644 Python-3.8.6/Include/longobject.h /usr/local/include/python3.8\n",
            "/usr/bin/install -c -m 644 Python-3.8.6/Include/marshal.h /usr/local/include/python3.8\n",
            "/usr/bin/install -c -m 644 Python-3.8.6/Include/memoryobject.h /usr/local/include/python3.8\n",
            "/usr/bin/install -c -m 644 Python-3.8.6/Include/methodobject.h /usr/local/include/python3.8\n",
            "/usr/bin/install -c -m 644 Python-3.8.6/Include/modsupport.h /usr/local/include/python3.8\n",
            "/usr/bin/install -c -m 644 Python-3.8.6/Include/moduleobject.h /usr/local/include/python3.8\n",
            "/usr/bin/install -c -m 644 Python-3.8.6/Include/namespaceobject.h /usr/local/include/python3.8\n",
            "/usr/bin/install -c -m 644 Python-3.8.6/Include/node.h /usr/local/include/python3.8\n",
            "/usr/bin/install -c -m 644 Python-3.8.6/Include/object.h /usr/local/include/python3.8\n",
            "/usr/bin/install -c -m 644 Python-3.8.6/Include/objimpl.h /usr/local/include/python3.8\n",
            "/usr/bin/install -c -m 644 Python-3.8.6/Include/odictobject.h /usr/local/include/python3.8\n",
            "/usr/bin/install -c -m 644 Python-3.8.6/Include/opcode.h /usr/local/include/python3.8\n",
            "/usr/bin/install -c -m 644 Python-3.8.6/Include/osdefs.h /usr/local/include/python3.8\n",
            "/usr/bin/install -c -m 644 Python-3.8.6/Include/osmodule.h /usr/local/include/python3.8\n",
            "/usr/bin/install -c -m 644 Python-3.8.6/Include/parsetok.h /usr/local/include/python3.8\n",
            "/usr/bin/install -c -m 644 Python-3.8.6/Include/patchlevel.h /usr/local/include/python3.8\n",
            "/usr/bin/install -c -m 644 Python-3.8.6/Include/picklebufobject.h /usr/local/include/python3.8\n",
            "/usr/bin/install -c -m 644 Python-3.8.6/Include/py_curses.h /usr/local/include/python3.8\n",
            "/usr/bin/install -c -m 644 Python-3.8.6/Include/pyarena.h /usr/local/include/python3.8\n",
            "/usr/bin/install -c -m 644 Python-3.8.6/Include/pycapsule.h /usr/local/include/python3.8\n",
            "/usr/bin/install -c -m 644 Python-3.8.6/Include/pyctype.h /usr/local/include/python3.8\n",
            "/usr/bin/install -c -m 644 Python-3.8.6/Include/pydebug.h /usr/local/include/python3.8\n",
            "/usr/bin/install -c -m 644 Python-3.8.6/Include/pydtrace.h /usr/local/include/python3.8\n",
            "/usr/bin/install -c -m 644 Python-3.8.6/Include/pyerrors.h /usr/local/include/python3.8\n",
            "/usr/bin/install -c -m 644 Python-3.8.6/Include/pyexpat.h /usr/local/include/python3.8\n",
            "/usr/bin/install -c -m 644 Python-3.8.6/Include/pyfpe.h /usr/local/include/python3.8\n",
            "/usr/bin/install -c -m 644 Python-3.8.6/Include/pyhash.h /usr/local/include/python3.8\n",
            "/usr/bin/install -c -m 644 Python-3.8.6/Include/pylifecycle.h /usr/local/include/python3.8\n",
            "/usr/bin/install -c -m 644 Python-3.8.6/Include/pymacconfig.h /usr/local/include/python3.8\n",
            "/usr/bin/install -c -m 644 Python-3.8.6/Include/pymacro.h /usr/local/include/python3.8\n",
            "/usr/bin/install -c -m 644 Python-3.8.6/Include/pymath.h /usr/local/include/python3.8\n",
            "/usr/bin/install -c -m 644 Python-3.8.6/Include/pymem.h /usr/local/include/python3.8\n",
            "/usr/bin/install -c -m 644 Python-3.8.6/Include/pyport.h /usr/local/include/python3.8\n",
            "/usr/bin/install -c -m 644 Python-3.8.6/Include/pystate.h /usr/local/include/python3.8\n",
            "/usr/bin/install -c -m 644 Python-3.8.6/Include/pystrcmp.h /usr/local/include/python3.8\n",
            "/usr/bin/install -c -m 644 Python-3.8.6/Include/pystrhex.h /usr/local/include/python3.8\n",
            "/usr/bin/install -c -m 644 Python-3.8.6/Include/pystrtod.h /usr/local/include/python3.8\n",
            "/usr/bin/install -c -m 644 Python-3.8.6/Include/pythonrun.h /usr/local/include/python3.8\n",
            "/usr/bin/install -c -m 644 Python-3.8.6/Include/pythread.h /usr/local/include/python3.8\n",
            "/usr/bin/install -c -m 644 Python-3.8.6/Include/pytime.h /usr/local/include/python3.8\n",
            "/usr/bin/install -c -m 644 Python-3.8.6/Include/rangeobject.h /usr/local/include/python3.8\n",
            "/usr/bin/install -c -m 644 Python-3.8.6/Include/setobject.h /usr/local/include/python3.8\n",
            "/usr/bin/install -c -m 644 Python-3.8.6/Include/sliceobject.h /usr/local/include/python3.8\n",
            "/usr/bin/install -c -m 644 Python-3.8.6/Include/structmember.h /usr/local/include/python3.8\n",
            "/usr/bin/install -c -m 644 Python-3.8.6/Include/structseq.h /usr/local/include/python3.8\n",
            "/usr/bin/install -c -m 644 Python-3.8.6/Include/symtable.h /usr/local/include/python3.8\n",
            "/usr/bin/install -c -m 644 Python-3.8.6/Include/sysmodule.h /usr/local/include/python3.8\n",
            "/usr/bin/install -c -m 644 Python-3.8.6/Include/token.h /usr/local/include/python3.8\n",
            "/usr/bin/install -c -m 644 Python-3.8.6/Include/traceback.h /usr/local/include/python3.8\n",
            "/usr/bin/install -c -m 644 Python-3.8.6/Include/tracemalloc.h /usr/local/include/python3.8\n",
            "/usr/bin/install -c -m 644 Python-3.8.6/Include/tupleobject.h /usr/local/include/python3.8\n",
            "/usr/bin/install -c -m 644 Python-3.8.6/Include/typeslots.h /usr/local/include/python3.8\n",
            "/usr/bin/install -c -m 644 Python-3.8.6/Include/ucnhash.h /usr/local/include/python3.8\n",
            "/usr/bin/install -c -m 644 Python-3.8.6/Include/unicodeobject.h /usr/local/include/python3.8\n",
            "/usr/bin/install -c -m 644 Python-3.8.6/Include/warnings.h /usr/local/include/python3.8\n",
            "/usr/bin/install -c -m 644 Python-3.8.6/Include/weakrefobject.h /usr/local/include/python3.8\n",
            "/usr/bin/install -c -m 644 Python-3.8.6/Include/cpython/abstract.h /usr/local/include/python3.8/cpython\n",
            "/usr/bin/install -c -m 644 Python-3.8.6/Include/cpython/dictobject.h /usr/local/include/python3.8/cpython\n",
            "/usr/bin/install -c -m 644 Python-3.8.6/Include/cpython/fileobject.h /usr/local/include/python3.8/cpython\n",
            "/usr/bin/install -c -m 644 Python-3.8.6/Include/cpython/initconfig.h /usr/local/include/python3.8/cpython\n",
            "/usr/bin/install -c -m 644 Python-3.8.6/Include/cpython/interpreteridobject.h /usr/local/include/python3.8/cpython\n",
            "/usr/bin/install -c -m 644 Python-3.8.6/Include/cpython/object.h /usr/local/include/python3.8/cpython\n",
            "/usr/bin/install -c -m 644 Python-3.8.6/Include/cpython/objimpl.h /usr/local/include/python3.8/cpython\n",
            "/usr/bin/install -c -m 644 Python-3.8.6/Include/cpython/pyerrors.h /usr/local/include/python3.8/cpython\n",
            "/usr/bin/install -c -m 644 Python-3.8.6/Include/cpython/pylifecycle.h /usr/local/include/python3.8/cpython\n",
            "/usr/bin/install -c -m 644 Python-3.8.6/Include/cpython/pymem.h /usr/local/include/python3.8/cpython\n",
            "/usr/bin/install -c -m 644 Python-3.8.6/Include/cpython/pystate.h /usr/local/include/python3.8/cpython\n",
            "/usr/bin/install -c -m 644 Python-3.8.6/Include/cpython/sysmodule.h /usr/local/include/python3.8/cpython\n",
            "/usr/bin/install -c -m 644 Python-3.8.6/Include/cpython/traceback.h /usr/local/include/python3.8/cpython\n",
            "/usr/bin/install -c -m 644 Python-3.8.6/Include/cpython/tupleobject.h /usr/local/include/python3.8/cpython\n",
            "/usr/bin/install -c -m 644 Python-3.8.6/Include/cpython/unicodeobject.h /usr/local/include/python3.8/cpython\n",
            "/usr/bin/install -c -m 644 Python-3.8.6/Include/internal/pycore_accu.h /usr/local/include/python3.8/internal\n",
            "/usr/bin/install -c -m 644 Python-3.8.6/Include/internal/pycore_atomic.h /usr/local/include/python3.8/internal\n",
            "/usr/bin/install -c -m 644 Python-3.8.6/Include/internal/pycore_ceval.h /usr/local/include/python3.8/internal\n",
            "/usr/bin/install -c -m 644 Python-3.8.6/Include/internal/pycore_code.h /usr/local/include/python3.8/internal\n",
            "/usr/bin/install -c -m 644 Python-3.8.6/Include/internal/pycore_condvar.h /usr/local/include/python3.8/internal\n",
            "/usr/bin/install -c -m 644 Python-3.8.6/Include/internal/pycore_context.h /usr/local/include/python3.8/internal\n",
            "/usr/bin/install -c -m 644 Python-3.8.6/Include/internal/pycore_fileutils.h /usr/local/include/python3.8/internal\n",
            "/usr/bin/install -c -m 644 Python-3.8.6/Include/internal/pycore_getopt.h /usr/local/include/python3.8/internal\n",
            "/usr/bin/install -c -m 644 Python-3.8.6/Include/internal/pycore_gil.h /usr/local/include/python3.8/internal\n",
            "/usr/bin/install -c -m 644 Python-3.8.6/Include/internal/pycore_hamt.h /usr/local/include/python3.8/internal\n",
            "/usr/bin/install -c -m 644 Python-3.8.6/Include/internal/pycore_initconfig.h /usr/local/include/python3.8/internal\n",
            "/usr/bin/install -c -m 644 Python-3.8.6/Include/internal/pycore_object.h /usr/local/include/python3.8/internal\n",
            "/usr/bin/install -c -m 644 Python-3.8.6/Include/internal/pycore_pathconfig.h /usr/local/include/python3.8/internal\n",
            "/usr/bin/install -c -m 644 Python-3.8.6/Include/internal/pycore_pyerrors.h /usr/local/include/python3.8/internal\n",
            "/usr/bin/install -c -m 644 Python-3.8.6/Include/internal/pycore_pyhash.h /usr/local/include/python3.8/internal\n",
            "/usr/bin/install -c -m 644 Python-3.8.6/Include/internal/pycore_pylifecycle.h /usr/local/include/python3.8/internal\n",
            "/usr/bin/install -c -m 644 Python-3.8.6/Include/internal/pycore_pymem.h /usr/local/include/python3.8/internal\n",
            "/usr/bin/install -c -m 644 Python-3.8.6/Include/internal/pycore_pystate.h /usr/local/include/python3.8/internal\n",
            "/usr/bin/install -c -m 644 Python-3.8.6/Include/internal/pycore_traceback.h /usr/local/include/python3.8/internal\n",
            "/usr/bin/install -c -m 644 Python-3.8.6/Include/internal/pycore_tupleobject.h /usr/local/include/python3.8/internal\n",
            "/usr/bin/install -c -m 644 Python-3.8.6/Include/internal/pycore_warnings.h /usr/local/include/python3.8/internal\n",
            "/usr/bin/install -c -m 644 pyconfig.h /usr/local/include/python3.8/pyconfig.h\n",
            "Creating directory /usr/local/lib/python3.8/config-3.8-x86_64-linux-gnu\n",
            "Creating directory /usr/local/lib/pkgconfig\n",
            "/usr/bin/install -c -m 644 Modules/config.c /usr/local/lib/python3.8/config-3.8-x86_64-linux-gnu/config.c\n",
            "/usr/bin/install -c -m 644 Programs/python.o /usr/local/lib/python3.8/config-3.8-x86_64-linux-gnu/python.o\n",
            "/usr/bin/install -c -m 644 Python-3.8.6/Modules/config.c.in /usr/local/lib/python3.8/config-3.8-x86_64-linux-gnu/config.c.in\n",
            "/usr/bin/install -c -m 644 Makefile /usr/local/lib/python3.8/config-3.8-x86_64-linux-gnu/Makefile\n",
            "/usr/bin/install -c -m 644 Python-3.8.6/Modules/Setup /usr/local/lib/python3.8/config-3.8-x86_64-linux-gnu/Setup\n",
            "/usr/bin/install -c -m 644 Modules/Setup.local /usr/local/lib/python3.8/config-3.8-x86_64-linux-gnu/Setup.local\n",
            "/usr/bin/install -c -m 644 Misc/python.pc /usr/local/lib/pkgconfig/python-3.8.pc\n",
            "/usr/bin/install -c -m 644 Misc/python-embed.pc /usr/local/lib/pkgconfig/python-3.8-embed.pc\n",
            "/usr/bin/install -c Python-3.8.6/Modules/makesetup /usr/local/lib/python3.8/config-3.8-x86_64-linux-gnu/makesetup\n",
            "/usr/bin/install -c Python-3.8.6/install-sh /usr/local/lib/python3.8/config-3.8-x86_64-linux-gnu/install-sh\n",
            "/usr/bin/install -c python-config.py /usr/local/lib/python3.8/config-3.8-x86_64-linux-gnu/python-config.py\n",
            "/usr/bin/install -c python-config /usr/local/bin/python3.8-config\n",
            "./python -E Python-3.8.6/setup.py install \\\n",
            "   \t--prefix=/usr/local \\\n",
            "\t--install-scripts=/usr/local/bin \\\n",
            "\t--install-platlib=/usr/local/lib/python3.8/lib-dynload \\\n",
            "\t--root=/\n",
            "running install\n",
            "running build\n",
            "running build_ext\n",
            "INFO: Could not locate ffi libs and/or headers\n",
            "\n",
            "Python build finished successfully!\n",
            "The necessary bits to build these optional modules were not found:\n",
            "_dbm                  _gdbm                                    \n",
            "To find the necessary bits, look in setup.py in detect_modules() for the module's name.\n",
            "\n",
            "\n",
            "The following modules found by detect_modules() in setup.py, have been\n",
            "built by the Makefile instead, as configured by the Setup files:\n",
            "_abc                  atexit                pwd                \n",
            "time                                                           \n",
            "\n",
            "\n",
            "Failed to build these modules:\n",
            "_ctypes                                                        \n",
            "\n",
            "running build_scripts\n",
            "copying and adjusting /content/Python-3.8.6/Tools/scripts/pydoc3 -> build/scripts-3.8\n",
            "copying and adjusting /content/Python-3.8.6/Tools/scripts/idle3 -> build/scripts-3.8\n",
            "copying and adjusting /content/Python-3.8.6/Tools/scripts/2to3 -> build/scripts-3.8\n",
            "changing mode of build/scripts-3.8/pydoc3 from 644 to 755\n",
            "changing mode of build/scripts-3.8/idle3 from 644 to 755\n",
            "changing mode of build/scripts-3.8/2to3 from 644 to 755\n",
            "renaming build/scripts-3.8/pydoc3 to build/scripts-3.8/pydoc3.8\n",
            "renaming build/scripts-3.8/idle3 to build/scripts-3.8/idle3.8\n",
            "renaming build/scripts-3.8/2to3 to build/scripts-3.8/2to3-3.8\n",
            "running install_lib\n",
            "creating /usr/local/lib/python3.8/lib-dynload\n",
            "copying build/lib.linux-x86_64-3.8/_pickle.cpython-38-x86_64-linux-gnu.so -> /usr/local/lib/python3.8/lib-dynload\n",
            "copying build/lib.linux-x86_64-3.8/_queue.cpython-38-x86_64-linux-gnu.so -> /usr/local/lib/python3.8/lib-dynload\n",
            "copying build/lib.linux-x86_64-3.8/_random.cpython-38-x86_64-linux-gnu.so -> /usr/local/lib/python3.8/lib-dynload\n",
            "copying build/lib.linux-x86_64-3.8/_asyncio.cpython-38-x86_64-linux-gnu.so -> /usr/local/lib/python3.8/lib-dynload\n",
            "copying build/lib.linux-x86_64-3.8/_bz2.cpython-38-x86_64-linux-gnu.so -> /usr/local/lib/python3.8/lib-dynload\n",
            "copying build/lib.linux-x86_64-3.8/_sha1.cpython-38-x86_64-linux-gnu.so -> /usr/local/lib/python3.8/lib-dynload\n",
            "copying build/lib.linux-x86_64-3.8/_posixsubprocess.cpython-38-x86_64-linux-gnu.so -> /usr/local/lib/python3.8/lib-dynload\n",
            "copying build/lib.linux-x86_64-3.8/_testcapi.cpython-38-x86_64-linux-gnu.so -> /usr/local/lib/python3.8/lib-dynload\n",
            "copying build/lib.linux-x86_64-3.8/_curses.cpython-38-x86_64-linux-gnu.so -> /usr/local/lib/python3.8/lib-dynload\n",
            "copying build/lib.linux-x86_64-3.8/_heapq.cpython-38-x86_64-linux-gnu.so -> /usr/local/lib/python3.8/lib-dynload\n",
            "copying build/lib.linux-x86_64-3.8/ossaudiodev.cpython-38-x86_64-linux-gnu.so -> /usr/local/lib/python3.8/lib-dynload\n",
            "copying build/lib.linux-x86_64-3.8/_md5.cpython-38-x86_64-linux-gnu.so -> /usr/local/lib/python3.8/lib-dynload\n",
            "copying build/lib.linux-x86_64-3.8/parser.cpython-38-x86_64-linux-gnu.so -> /usr/local/lib/python3.8/lib-dynload\n",
            "copying build/lib.linux-x86_64-3.8/_xxtestfuzz.cpython-38-x86_64-linux-gnu.so -> /usr/local/lib/python3.8/lib-dynload\n",
            "copying build/lib.linux-x86_64-3.8/_testimportmultiple.cpython-38-x86_64-linux-gnu.so -> /usr/local/lib/python3.8/lib-dynload\n",
            "copying build/lib.linux-x86_64-3.8/_hashlib.cpython-38-x86_64-linux-gnu.so -> /usr/local/lib/python3.8/lib-dynload\n",
            "copying build/lib.linux-x86_64-3.8/array.cpython-38-x86_64-linux-gnu.so -> /usr/local/lib/python3.8/lib-dynload\n",
            "copying build/lib.linux-x86_64-3.8/_codecs_jp.cpython-38-x86_64-linux-gnu.so -> /usr/local/lib/python3.8/lib-dynload\n",
            "copying build/lib.linux-x86_64-3.8/_sqlite3.cpython-38-x86_64-linux-gnu.so -> /usr/local/lib/python3.8/lib-dynload\n",
            "copying build/lib.linux-x86_64-3.8/nis.cpython-38-x86_64-linux-gnu.so -> /usr/local/lib/python3.8/lib-dynload\n",
            "copying build/lib.linux-x86_64-3.8/_sha256.cpython-38-x86_64-linux-gnu.so -> /usr/local/lib/python3.8/lib-dynload\n",
            "copying build/lib.linux-x86_64-3.8/_codecs_iso2022.cpython-38-x86_64-linux-gnu.so -> /usr/local/lib/python3.8/lib-dynload\n",
            "copying build/lib.linux-x86_64-3.8/_testinternalcapi.cpython-38-x86_64-linux-gnu.so -> /usr/local/lib/python3.8/lib-dynload\n",
            "copying build/lib.linux-x86_64-3.8/audioop.cpython-38-x86_64-linux-gnu.so -> /usr/local/lib/python3.8/lib-dynload\n",
            "copying build/lib.linux-x86_64-3.8/unicodedata.cpython-38-x86_64-linux-gnu.so -> /usr/local/lib/python3.8/lib-dynload\n",
            "copying build/lib.linux-x86_64-3.8/_xxsubinterpreters.cpython-38-x86_64-linux-gnu.so -> /usr/local/lib/python3.8/lib-dynload\n",
            "copying build/lib.linux-x86_64-3.8/_testbuffer.cpython-38-x86_64-linux-gnu.so -> /usr/local/lib/python3.8/lib-dynload\n",
            "copying build/lib.linux-x86_64-3.8/_codecs_hk.cpython-38-x86_64-linux-gnu.so -> /usr/local/lib/python3.8/lib-dynload\n",
            "copying build/lib.linux-x86_64-3.8/_decimal.cpython-38-x86_64-linux-gnu.so -> /usr/local/lib/python3.8/lib-dynload\n",
            "copying build/lib.linux-x86_64-3.8/_socket.cpython-38-x86_64-linux-gnu.so -> /usr/local/lib/python3.8/lib-dynload\n",
            "copying build/lib.linux-x86_64-3.8/grp.cpython-38-x86_64-linux-gnu.so -> /usr/local/lib/python3.8/lib-dynload\n",
            "copying build/lib.linux-x86_64-3.8/_elementtree.cpython-38-x86_64-linux-gnu.so -> /usr/local/lib/python3.8/lib-dynload\n",
            "copying build/lib.linux-x86_64-3.8/pyexpat.cpython-38-x86_64-linux-gnu.so -> /usr/local/lib/python3.8/lib-dynload\n",
            "copying build/lib.linux-x86_64-3.8/_csv.cpython-38-x86_64-linux-gnu.so -> /usr/local/lib/python3.8/lib-dynload\n",
            "copying build/lib.linux-x86_64-3.8/spwd.cpython-38-x86_64-linux-gnu.so -> /usr/local/lib/python3.8/lib-dynload\n",
            "copying build/lib.linux-x86_64-3.8/binascii.cpython-38-x86_64-linux-gnu.so -> /usr/local/lib/python3.8/lib-dynload\n",
            "copying build/lib.linux-x86_64-3.8/math.cpython-38-x86_64-linux-gnu.so -> /usr/local/lib/python3.8/lib-dynload\n",
            "copying build/lib.linux-x86_64-3.8/_statistics.cpython-38-x86_64-linux-gnu.so -> /usr/local/lib/python3.8/lib-dynload\n",
            "copying build/lib.linux-x86_64-3.8/_multibytecodec.cpython-38-x86_64-linux-gnu.so -> /usr/local/lib/python3.8/lib-dynload\n",
            "copying build/lib.linux-x86_64-3.8/_crypt.cpython-38-x86_64-linux-gnu.so -> /usr/local/lib/python3.8/lib-dynload\n",
            "copying build/lib.linux-x86_64-3.8/_multiprocessing.cpython-38-x86_64-linux-gnu.so -> /usr/local/lib/python3.8/lib-dynload\n",
            "copying build/lib.linux-x86_64-3.8/_sha512.cpython-38-x86_64-linux-gnu.so -> /usr/local/lib/python3.8/lib-dynload\n",
            "copying build/lib.linux-x86_64-3.8/_posixshmem.cpython-38-x86_64-linux-gnu.so -> /usr/local/lib/python3.8/lib-dynload\n",
            "copying build/lib.linux-x86_64-3.8/_testmultiphase.cpython-38-x86_64-linux-gnu.so -> /usr/local/lib/python3.8/lib-dynload\n",
            "copying build/lib.linux-x86_64-3.8/_codecs_kr.cpython-38-x86_64-linux-gnu.so -> /usr/local/lib/python3.8/lib-dynload\n",
            "copying build/lib.linux-x86_64-3.8/xxlimited.cpython-38-x86_64-linux-gnu.so -> /usr/local/lib/python3.8/lib-dynload\n",
            "copying build/lib.linux-x86_64-3.8/_ctypes_test.cpython-38-x86_64-linux-gnu.so -> /usr/local/lib/python3.8/lib-dynload\n",
            "copying build/lib.linux-x86_64-3.8/select.cpython-38-x86_64-linux-gnu.so -> /usr/local/lib/python3.8/lib-dynload\n",
            "copying build/lib.linux-x86_64-3.8/_tkinter.cpython-38-x86_64-linux-gnu.so -> /usr/local/lib/python3.8/lib-dynload\n",
            "copying build/lib.linux-x86_64-3.8/syslog.cpython-38-x86_64-linux-gnu.so -> /usr/local/lib/python3.8/lib-dynload\n",
            "copying build/lib.linux-x86_64-3.8/_sysconfigdata__linux_x86_64-linux-gnu.py -> /usr/local/lib/python3.8/lib-dynload\n",
            "copying build/lib.linux-x86_64-3.8/_struct.cpython-38-x86_64-linux-gnu.so -> /usr/local/lib/python3.8/lib-dynload\n",
            "copying build/lib.linux-x86_64-3.8/cmath.cpython-38-x86_64-linux-gnu.so -> /usr/local/lib/python3.8/lib-dynload\n",
            "copying build/lib.linux-x86_64-3.8/_sha3.cpython-38-x86_64-linux-gnu.so -> /usr/local/lib/python3.8/lib-dynload\n",
            "copying build/lib.linux-x86_64-3.8/_lsprof.cpython-38-x86_64-linux-gnu.so -> /usr/local/lib/python3.8/lib-dynload\n",
            "copying build/lib.linux-x86_64-3.8/_bisect.cpython-38-x86_64-linux-gnu.so -> /usr/local/lib/python3.8/lib-dynload\n",
            "copying build/lib.linux-x86_64-3.8/_curses_panel.cpython-38-x86_64-linux-gnu.so -> /usr/local/lib/python3.8/lib-dynload\n",
            "copying build/lib.linux-x86_64-3.8/_lzma.cpython-38-x86_64-linux-gnu.so -> /usr/local/lib/python3.8/lib-dynload\n",
            "copying build/lib.linux-x86_64-3.8/termios.cpython-38-x86_64-linux-gnu.so -> /usr/local/lib/python3.8/lib-dynload\n",
            "copying build/lib.linux-x86_64-3.8/_datetime.cpython-38-x86_64-linux-gnu.so -> /usr/local/lib/python3.8/lib-dynload\n",
            "copying build/lib.linux-x86_64-3.8/_contextvars.cpython-38-x86_64-linux-gnu.so -> /usr/local/lib/python3.8/lib-dynload\n",
            "copying build/lib.linux-x86_64-3.8/_codecs_tw.cpython-38-x86_64-linux-gnu.so -> /usr/local/lib/python3.8/lib-dynload\n",
            "copying build/lib.linux-x86_64-3.8/mmap.cpython-38-x86_64-linux-gnu.so -> /usr/local/lib/python3.8/lib-dynload\n",
            "copying build/lib.linux-x86_64-3.8/_opcode.cpython-38-x86_64-linux-gnu.so -> /usr/local/lib/python3.8/lib-dynload\n",
            "copying build/lib.linux-x86_64-3.8/zlib.cpython-38-x86_64-linux-gnu.so -> /usr/local/lib/python3.8/lib-dynload\n",
            "copying build/lib.linux-x86_64-3.8/_json.cpython-38-x86_64-linux-gnu.so -> /usr/local/lib/python3.8/lib-dynload\n",
            "copying build/lib.linux-x86_64-3.8/resource.cpython-38-x86_64-linux-gnu.so -> /usr/local/lib/python3.8/lib-dynload\n",
            "copying build/lib.linux-x86_64-3.8/_uuid.cpython-38-x86_64-linux-gnu.so -> /usr/local/lib/python3.8/lib-dynload\n",
            "copying build/lib.linux-x86_64-3.8/readline.cpython-38-x86_64-linux-gnu.so -> /usr/local/lib/python3.8/lib-dynload\n",
            "copying build/lib.linux-x86_64-3.8/_blake2.cpython-38-x86_64-linux-gnu.so -> /usr/local/lib/python3.8/lib-dynload\n",
            "creating /usr/local/lib/python3.8/lib-dynload/__pycache__\n",
            "copying build/lib.linux-x86_64-3.8/__pycache__/_sysconfigdata__linux_x86_64-linux-gnu.cpython-38.pyc -> /usr/local/lib/python3.8/lib-dynload/__pycache__\n",
            "copying build/lib.linux-x86_64-3.8/_ssl.cpython-38-x86_64-linux-gnu.so -> /usr/local/lib/python3.8/lib-dynload\n",
            "copying build/lib.linux-x86_64-3.8/_codecs_cn.cpython-38-x86_64-linux-gnu.so -> /usr/local/lib/python3.8/lib-dynload\n",
            "copying build/lib.linux-x86_64-3.8/fcntl.cpython-38-x86_64-linux-gnu.so -> /usr/local/lib/python3.8/lib-dynload\n",
            "changing mode of /usr/local/lib/python3.8/lib-dynload/_pickle.cpython-38-x86_64-linux-gnu.so to 755\n",
            "changing mode of /usr/local/lib/python3.8/lib-dynload/_queue.cpython-38-x86_64-linux-gnu.so to 755\n",
            "changing mode of /usr/local/lib/python3.8/lib-dynload/_random.cpython-38-x86_64-linux-gnu.so to 755\n",
            "changing mode of /usr/local/lib/python3.8/lib-dynload/_asyncio.cpython-38-x86_64-linux-gnu.so to 755\n",
            "changing mode of /usr/local/lib/python3.8/lib-dynload/_bz2.cpython-38-x86_64-linux-gnu.so to 755\n",
            "changing mode of /usr/local/lib/python3.8/lib-dynload/_sha1.cpython-38-x86_64-linux-gnu.so to 755\n",
            "changing mode of /usr/local/lib/python3.8/lib-dynload/_posixsubprocess.cpython-38-x86_64-linux-gnu.so to 755\n",
            "changing mode of /usr/local/lib/python3.8/lib-dynload/_testcapi.cpython-38-x86_64-linux-gnu.so to 755\n",
            "changing mode of /usr/local/lib/python3.8/lib-dynload/_curses.cpython-38-x86_64-linux-gnu.so to 755\n",
            "changing mode of /usr/local/lib/python3.8/lib-dynload/_heapq.cpython-38-x86_64-linux-gnu.so to 755\n",
            "changing mode of /usr/local/lib/python3.8/lib-dynload/ossaudiodev.cpython-38-x86_64-linux-gnu.so to 755\n",
            "changing mode of /usr/local/lib/python3.8/lib-dynload/_md5.cpython-38-x86_64-linux-gnu.so to 755\n",
            "changing mode of /usr/local/lib/python3.8/lib-dynload/parser.cpython-38-x86_64-linux-gnu.so to 755\n",
            "changing mode of /usr/local/lib/python3.8/lib-dynload/_xxtestfuzz.cpython-38-x86_64-linux-gnu.so to 755\n",
            "changing mode of /usr/local/lib/python3.8/lib-dynload/_testimportmultiple.cpython-38-x86_64-linux-gnu.so to 755\n",
            "changing mode of /usr/local/lib/python3.8/lib-dynload/_hashlib.cpython-38-x86_64-linux-gnu.so to 755\n",
            "changing mode of /usr/local/lib/python3.8/lib-dynload/array.cpython-38-x86_64-linux-gnu.so to 755\n",
            "changing mode of /usr/local/lib/python3.8/lib-dynload/_codecs_jp.cpython-38-x86_64-linux-gnu.so to 755\n",
            "changing mode of /usr/local/lib/python3.8/lib-dynload/_sqlite3.cpython-38-x86_64-linux-gnu.so to 755\n",
            "changing mode of /usr/local/lib/python3.8/lib-dynload/nis.cpython-38-x86_64-linux-gnu.so to 755\n",
            "changing mode of /usr/local/lib/python3.8/lib-dynload/_sha256.cpython-38-x86_64-linux-gnu.so to 755\n",
            "changing mode of /usr/local/lib/python3.8/lib-dynload/_codecs_iso2022.cpython-38-x86_64-linux-gnu.so to 755\n",
            "changing mode of /usr/local/lib/python3.8/lib-dynload/_testinternalcapi.cpython-38-x86_64-linux-gnu.so to 755\n",
            "changing mode of /usr/local/lib/python3.8/lib-dynload/audioop.cpython-38-x86_64-linux-gnu.so to 755\n",
            "changing mode of /usr/local/lib/python3.8/lib-dynload/unicodedata.cpython-38-x86_64-linux-gnu.so to 755\n",
            "changing mode of /usr/local/lib/python3.8/lib-dynload/_xxsubinterpreters.cpython-38-x86_64-linux-gnu.so to 755\n",
            "changing mode of /usr/local/lib/python3.8/lib-dynload/_testbuffer.cpython-38-x86_64-linux-gnu.so to 755\n",
            "changing mode of /usr/local/lib/python3.8/lib-dynload/_codecs_hk.cpython-38-x86_64-linux-gnu.so to 755\n",
            "changing mode of /usr/local/lib/python3.8/lib-dynload/_decimal.cpython-38-x86_64-linux-gnu.so to 755\n",
            "changing mode of /usr/local/lib/python3.8/lib-dynload/_socket.cpython-38-x86_64-linux-gnu.so to 755\n",
            "changing mode of /usr/local/lib/python3.8/lib-dynload/grp.cpython-38-x86_64-linux-gnu.so to 755\n",
            "changing mode of /usr/local/lib/python3.8/lib-dynload/_elementtree.cpython-38-x86_64-linux-gnu.so to 755\n",
            "changing mode of /usr/local/lib/python3.8/lib-dynload/pyexpat.cpython-38-x86_64-linux-gnu.so to 755\n",
            "changing mode of /usr/local/lib/python3.8/lib-dynload/_csv.cpython-38-x86_64-linux-gnu.so to 755\n",
            "changing mode of /usr/local/lib/python3.8/lib-dynload/spwd.cpython-38-x86_64-linux-gnu.so to 755\n",
            "changing mode of /usr/local/lib/python3.8/lib-dynload/binascii.cpython-38-x86_64-linux-gnu.so to 755\n",
            "changing mode of /usr/local/lib/python3.8/lib-dynload/math.cpython-38-x86_64-linux-gnu.so to 755\n",
            "changing mode of /usr/local/lib/python3.8/lib-dynload/_statistics.cpython-38-x86_64-linux-gnu.so to 755\n",
            "changing mode of /usr/local/lib/python3.8/lib-dynload/_multibytecodec.cpython-38-x86_64-linux-gnu.so to 755\n",
            "changing mode of /usr/local/lib/python3.8/lib-dynload/_crypt.cpython-38-x86_64-linux-gnu.so to 755\n",
            "changing mode of /usr/local/lib/python3.8/lib-dynload/_multiprocessing.cpython-38-x86_64-linux-gnu.so to 755\n",
            "changing mode of /usr/local/lib/python3.8/lib-dynload/_sha512.cpython-38-x86_64-linux-gnu.so to 755\n",
            "changing mode of /usr/local/lib/python3.8/lib-dynload/_posixshmem.cpython-38-x86_64-linux-gnu.so to 755\n",
            "changing mode of /usr/local/lib/python3.8/lib-dynload/_testmultiphase.cpython-38-x86_64-linux-gnu.so to 755\n",
            "changing mode of /usr/local/lib/python3.8/lib-dynload/_codecs_kr.cpython-38-x86_64-linux-gnu.so to 755\n",
            "changing mode of /usr/local/lib/python3.8/lib-dynload/xxlimited.cpython-38-x86_64-linux-gnu.so to 755\n",
            "changing mode of /usr/local/lib/python3.8/lib-dynload/_ctypes_test.cpython-38-x86_64-linux-gnu.so to 755\n",
            "changing mode of /usr/local/lib/python3.8/lib-dynload/select.cpython-38-x86_64-linux-gnu.so to 755\n",
            "changing mode of /usr/local/lib/python3.8/lib-dynload/_tkinter.cpython-38-x86_64-linux-gnu.so to 755\n",
            "changing mode of /usr/local/lib/python3.8/lib-dynload/syslog.cpython-38-x86_64-linux-gnu.so to 755\n",
            "changing mode of /usr/local/lib/python3.8/lib-dynload/_sysconfigdata__linux_x86_64-linux-gnu.py to 644\n",
            "changing mode of /usr/local/lib/python3.8/lib-dynload/_struct.cpython-38-x86_64-linux-gnu.so to 755\n",
            "changing mode of /usr/local/lib/python3.8/lib-dynload/cmath.cpython-38-x86_64-linux-gnu.so to 755\n",
            "changing mode of /usr/local/lib/python3.8/lib-dynload/_sha3.cpython-38-x86_64-linux-gnu.so to 755\n",
            "changing mode of /usr/local/lib/python3.8/lib-dynload/_lsprof.cpython-38-x86_64-linux-gnu.so to 755\n",
            "changing mode of /usr/local/lib/python3.8/lib-dynload/_bisect.cpython-38-x86_64-linux-gnu.so to 755\n",
            "changing mode of /usr/local/lib/python3.8/lib-dynload/_curses_panel.cpython-38-x86_64-linux-gnu.so to 755\n",
            "changing mode of /usr/local/lib/python3.8/lib-dynload/_lzma.cpython-38-x86_64-linux-gnu.so to 755\n",
            "changing mode of /usr/local/lib/python3.8/lib-dynload/termios.cpython-38-x86_64-linux-gnu.so to 755\n",
            "changing mode of /usr/local/lib/python3.8/lib-dynload/_datetime.cpython-38-x86_64-linux-gnu.so to 755\n",
            "changing mode of /usr/local/lib/python3.8/lib-dynload/_contextvars.cpython-38-x86_64-linux-gnu.so to 755\n",
            "changing mode of /usr/local/lib/python3.8/lib-dynload/_codecs_tw.cpython-38-x86_64-linux-gnu.so to 755\n",
            "changing mode of /usr/local/lib/python3.8/lib-dynload/mmap.cpython-38-x86_64-linux-gnu.so to 755\n",
            "changing mode of /usr/local/lib/python3.8/lib-dynload/_opcode.cpython-38-x86_64-linux-gnu.so to 755\n",
            "changing mode of /usr/local/lib/python3.8/lib-dynload/zlib.cpython-38-x86_64-linux-gnu.so to 755\n",
            "changing mode of /usr/local/lib/python3.8/lib-dynload/_json.cpython-38-x86_64-linux-gnu.so to 755\n",
            "changing mode of /usr/local/lib/python3.8/lib-dynload/resource.cpython-38-x86_64-linux-gnu.so to 755\n",
            "changing mode of /usr/local/lib/python3.8/lib-dynload/_uuid.cpython-38-x86_64-linux-gnu.so to 755\n",
            "changing mode of /usr/local/lib/python3.8/lib-dynload/readline.cpython-38-x86_64-linux-gnu.so to 755\n",
            "changing mode of /usr/local/lib/python3.8/lib-dynload/_blake2.cpython-38-x86_64-linux-gnu.so to 755\n",
            "changing mode of /usr/local/lib/python3.8/lib-dynload/__pycache__/_sysconfigdata__linux_x86_64-linux-gnu.cpython-38.pyc to 644\n",
            "changing mode of /usr/local/lib/python3.8/lib-dynload/_ssl.cpython-38-x86_64-linux-gnu.so to 755\n",
            "changing mode of /usr/local/lib/python3.8/lib-dynload/_codecs_cn.cpython-38-x86_64-linux-gnu.so to 755\n",
            "changing mode of /usr/local/lib/python3.8/lib-dynload/fcntl.cpython-38-x86_64-linux-gnu.so to 755\n",
            "changing mode of /usr/local/lib/python3.8/lib-dynload/ to 755\n",
            "changing mode of /usr/local/lib/python3.8/lib-dynload/__pycache__ to 755\n",
            "running install_scripts\n",
            "copying build/scripts-3.8/idle3.8 -> /usr/local/bin\n",
            "copying build/scripts-3.8/pydoc3.8 -> /usr/local/bin\n",
            "copying build/scripts-3.8/2to3-3.8 -> /usr/local/bin\n",
            "changing mode of /usr/local/bin/idle3.8 to 755\n",
            "changing mode of /usr/local/bin/pydoc3.8 to 755\n",
            "changing mode of /usr/local/bin/2to3-3.8 to 755\n",
            "rm /usr/local/lib/python3.8/lib-dynload/_sysconfigdata__linux_x86_64-linux-gnu.py\n",
            "rm -r /usr/local/lib/python3.8/lib-dynload/__pycache__\n",
            "/usr/bin/install -c -m 644 Python-3.8.6/Misc/python.man \\\n",
            "\t/usr/local/share/man/man1/python3.8.1\n",
            "if test ! -d /usr/local/lib/pkgconfig; then \\\n",
            "\techo \"Creating directory /usr/local/lib/pkgconfig\"; \\\n",
            "\t/usr/bin/install -c -d -m 755 /usr/local/lib/pkgconfig; \\\n",
            "fi\n",
            "if test -f /usr/local/bin/python3 -o -h /usr/local/bin/python3; \\\n",
            "then rm -f /usr/local/bin/python3; \\\n",
            "else true; \\\n",
            "fi\n",
            "(cd /usr/local/bin; ln -s python3.8 python3)\n",
            "if test \"3.8\" != \"3.8\"; then \\\n",
            "\trm -f /usr/local/bin/python3.8-config; \\\n",
            "\t(cd /usr/local/bin; ln -s python3.8-config python3.8-config); \\\n",
            "\trm -f /usr/local/lib/pkgconfig/python-3.8.pc; \\\n",
            "\t(cd /usr/local/lib/pkgconfig; ln -s python-3.8.pc python-3.8.pc); \\\n",
            "\trm -f /usr/local/lib/pkgconfig/python-3.8-embed.pc; \\\n",
            "\t(cd /usr/local/lib/pkgconfig; ln -s python-3.8-embed.pc python-3.8-embed.pc); \\\n",
            "fi\n",
            "rm -f /usr/local/bin/python3-config\n",
            "(cd /usr/local/bin; ln -s python3.8-config python3-config)\n",
            "rm -f /usr/local/lib/pkgconfig/python3.pc\n",
            "(cd /usr/local/lib/pkgconfig; ln -s python-3.8.pc python3.pc)\n",
            "rm -f /usr/local/lib/pkgconfig/python3-embed.pc\n",
            "(cd /usr/local/lib/pkgconfig; ln -s python-3.8-embed.pc python3-embed.pc)\n",
            "rm -f /usr/local/bin/idle3\n",
            "(cd /usr/local/bin; ln -s idle3.8 idle3)\n",
            "rm -f /usr/local/bin/pydoc3\n",
            "(cd /usr/local/bin; ln -s pydoc3.8 pydoc3)\n",
            "rm -f /usr/local/bin/2to3\n",
            "(cd /usr/local/bin; ln -s 2to3-3.8 2to3)\n",
            "if test \"x\" != \"x\" ; then \\\n",
            "\trm -f /usr/local/bin/python3-32; \\\n",
            "\t(cd /usr/local/bin; ln -s python3.8-32 python3-32) \\\n",
            "fi\n",
            "rm -f /usr/local/share/man/man1/python3.1\n",
            "(cd /usr/local/share/man/man1; ln -s python3.8.1 python3.1)\n",
            "if test \"xupgrade\" != \"xno\"  ; then \\\n",
            "\tcase upgrade in \\\n",
            "\t\tupgrade) ensurepip=\"--upgrade\" ;; \\\n",
            "\t\tinstall|*) ensurepip=\"\" ;; \\\n",
            "\tesac; \\\n",
            "\t ./python -E -m ensurepip \\\n",
            "\t\t$ensurepip --root=/ ; \\\n",
            "fi\n",
            "Looking in links: /tmp/tmpk_7kvjeu\n",
            "Processing /tmp/tmpk_7kvjeu/setuptools-49.2.1-py3-none-any.whl\n",
            "Processing /tmp/tmpk_7kvjeu/pip-20.2.1-py2.py3-none-any.whl\n",
            "Installing collected packages: setuptools, pip\n",
            "Successfully installed pip-20.2.1 setuptools-49.2.1\n"
          ]
        }
      ]
    },
    {
      "cell_type": "code",
      "source": [
        "#ERROR: command errored out with exit status 1 python setup.py egg_info 해결\n",
        "!pip install --upgrade setuptools"
      ],
      "metadata": {
        "colab": {
          "base_uri": "https://localhost:8080/"
        },
        "id": "jixOx6jQgARB",
        "outputId": "6681342b-3b28-4dc1-99f8-80e53c2f9a77"
      },
      "execution_count": 5,
      "outputs": [
        {
          "output_type": "stream",
          "name": "stdout",
          "text": [
            "Collecting setuptools\n",
            "  Downloading setuptools-68.2.2-py3-none-any.whl (807 kB)\n",
            "\u001b[K     |████████████████████████████████| 807 kB 2.6 MB/s \n",
            "\u001b[?25hInstalling collected packages: setuptools\n",
            "  Attempting uninstall: setuptools\n",
            "    Found existing installation: setuptools 49.2.1\n",
            "    Uninstalling setuptools-49.2.1:\n",
            "      Successfully uninstalled setuptools-49.2.1\n",
            "Successfully installed setuptools-68.2.2\n"
          ]
        }
      ]
    },
    {
      "cell_type": "code",
      "execution_count": 2,
      "metadata": {
        "id": "Qn56MbdNfhcR",
        "colab": {
          "base_uri": "https://localhost:8080/"
        },
        "outputId": "c3b51efa-55f6-4b89-9c9e-b195a9dbb29e"
      },
      "outputs": [
        {
          "output_type": "stream",
          "name": "stdout",
          "text": [
            "Looking in links: https://download.pytorch.org/whl/torch_stable.html\n",
            "Requirement already satisfied: pydub in /usr/local/lib/python3.8/site-packages (0.25.1)\n",
            "Requirement already satisfied: torch==1.7.0+cu101 in /usr/local/lib/python3.8/site-packages (1.7.0+cu101)\n",
            "Requirement already satisfied: torchvision==0.8.1+cu101 in /usr/local/lib/python3.8/site-packages (0.8.1+cu101)\n",
            "Requirement already satisfied: torchaudio==0.7.0 in /usr/local/lib/python3.8/site-packages (0.7.0)\n",
            "Requirement already satisfied: typing-extensions in /usr/local/lib/python3.8/site-packages (from torch==1.7.0+cu101) (4.8.0)\n",
            "Requirement already satisfied: future in /usr/local/lib/python3.8/site-packages (from torch==1.7.0+cu101) (0.18.3)\n",
            "Requirement already satisfied: numpy in /usr/local/lib/python3.8/site-packages (from torch==1.7.0+cu101) (1.24.4)\n",
            "Requirement already satisfied: dataclasses in /usr/local/lib/python3.8/site-packages (from torch==1.7.0+cu101) (0.6)\n",
            "Requirement already satisfied: pillow>=4.1.1 in /usr/local/lib/python3.8/site-packages (from torchvision==0.8.1+cu101) (10.1.0)\n"
          ]
        }
      ],
      "source": [
        "# Uncomment the line corresponding to your \"runtime type\" to run in Google Colab\n",
        "\n",
        "# CPU:\n",
        "# !pip install pydub torch==1.7.0+cpu torchvision==0.8.1+cpu torchaudio==0.7.0 -f https://download.pytorch.org/whl/torch_stable.html\n",
        "\n",
        "# GPU:\n",
        "!pip install pydub torch==1.7.0+cu101 torchvision==0.8.1+cu101 torchaudio==0.7.0 -f https://download.pytorch.org/whl/torch_stable.html\n",
        "\n",
        "import torch\n",
        "import torch.nn as nn\n",
        "import torch.nn.functional as F\n",
        "import torch.optim as optim\n",
        "import torchaudio\n",
        "import sys\n",
        "\n",
        "import matplotlib.pyplot as plt\n",
        "import IPython.display as ipd\n",
        "\n",
        "from tqdm import tqdm"
      ]
    },
    {
      "cell_type": "markdown",
      "metadata": {
        "id": "wny_fEeEfhcR"
      },
      "source": [
        "Let’s check if a CUDA GPU is available and select our device. Running\n",
        "the network on a GPU will greatly decrease the training/testing runtime.\n",
        "\n",
        "\n"
      ]
    },
    {
      "cell_type": "code",
      "execution_count": 3,
      "metadata": {
        "id": "s7QoEsuxfhcR",
        "colab": {
          "base_uri": "https://localhost:8080/"
        },
        "outputId": "bc298966-29b1-40aa-ae7e-da794ae3f064"
      },
      "outputs": [
        {
          "output_type": "stream",
          "name": "stdout",
          "text": [
            "cuda\n"
          ]
        }
      ],
      "source": [
        "device = torch.device(\"cuda\" if torch.cuda.is_available() else \"cpu\")\n",
        "print(device)"
      ]
    },
    {
      "cell_type": "markdown",
      "metadata": {
        "id": "ri20jHzTfhcS"
      },
      "source": [
        "## Importing the Dataset\n",
        "\n",
        "We use torchaudio to download and represent the dataset. Here we use\n",
        "[SpeechCommands](https://arxiv.org/abs/1804.03209)_, which is a\n",
        "datasets of 35 commands spoken by different people. The dataset\n",
        "``SPEECHCOMMANDS`` is a ``torch.utils.data.Dataset`` version of the\n",
        "dataset. In this dataset, all audio files are about 1 second long (and\n",
        "so about 16000 time frames long).\n",
        "\n",
        "The actual loading and formatting steps happen when a data point is\n",
        "being accessed, and torchaudio takes care of converting the audio files\n",
        "to tensors. If one wants to load an audio file directly instead,\n",
        "``torchaudio.load()`` can be used. It returns a tuple containing the\n",
        "newly created tensor along with the sampling frequency of the audio file\n",
        "(16kHz for SpeechCommands).\n",
        "\n",
        "Going back to the dataset, here we create a subclass that splits it into\n",
        "standard training, validation, testing subsets.\n",
        "\n",
        "\n"
      ]
    },
    {
      "cell_type": "code",
      "execution_count": 4,
      "metadata": {
        "id": "Rfv7exJCfhcS"
      },
      "outputs": [],
      "source": [
        "from torchaudio.datasets import SPEECHCOMMANDS\n",
        "import os\n",
        "\n",
        "\n",
        "class SubsetSC(SPEECHCOMMANDS):\n",
        "    def __init__(self, subset: str = None):\n",
        "        super().__init__(\"./\", download=True)\n",
        "\n",
        "        def load_list(filename):\n",
        "            filepath = os.path.join(self._path, filename)\n",
        "            with open(filepath) as fileobj:\n",
        "                return [os.path.normpath(os.path.join(self._path, line.strip())) for line in fileobj]\n",
        "\n",
        "        if subset == \"validation\":\n",
        "            self._walker = load_list(\"validation_list.txt\")\n",
        "        elif subset == \"testing\":\n",
        "            self._walker = load_list(\"testing_list.txt\")\n",
        "        elif subset == \"training\":\n",
        "            excludes = load_list(\"validation_list.txt\") + load_list(\"testing_list.txt\")\n",
        "            excludes = set(excludes)\n",
        "            self._walker = [w for w in self._walker if w not in excludes]\n",
        "\n",
        "\n",
        "# Create training and testing split of the data. We do not use validation in this tutorial.\n",
        "train_set = SubsetSC(\"training\")\n",
        "test_set = SubsetSC(\"testing\")\n",
        "\n",
        "waveform, sample_rate, label, speaker_id, utterance_number = train_set[0]"
      ]
    },
    {
      "cell_type": "markdown",
      "metadata": {
        "id": "VNBri69sfhcS"
      },
      "source": [
        "A data point in the SPEECHCOMMANDS dataset is a tuple made of a waveform\n",
        "(the audio signal), the sample rate, the utterance (label), the ID of\n",
        "the speaker, the number of the utterance.\n",
        "\n",
        "\n"
      ]
    },
    {
      "cell_type": "code",
      "execution_count": 5,
      "metadata": {
        "id": "kPx0f77YfhcS",
        "colab": {
          "base_uri": "https://localhost:8080/",
          "height": 466
        },
        "outputId": "a9af644e-684f-453f-997b-937606da6fc8"
      },
      "outputs": [
        {
          "output_type": "stream",
          "name": "stdout",
          "text": [
            "Shape of waveform: torch.Size([1, 16000])\n",
            "Sample rate of waveform: 16000\n"
          ]
        },
        {
          "output_type": "display_data",
          "data": {
            "text/plain": [
              "<Figure size 640x480 with 1 Axes>"
            ],
            "image/png": "[encoded data removed]"
          },
          "metadata": {}
        }
      ],
      "source": [
        "print(\"Shape of waveform: {}\".format(waveform.size()))\n",
        "print(\"Sample rate of waveform: {}\".format(sample_rate))\n",
        "\n",
        "plt.plot(waveform.t().numpy());"
      ]
    },
    {
      "cell_type": "markdown",
      "metadata": {
        "id": "HxXEquasfhcT"
      },
      "source": [
        "Let’s find the list of labels available in the dataset.\n",
        "\n",
        "\n"
      ]
    },
    {
      "cell_type": "code",
      "execution_count": 6,
      "metadata": {
        "id": "E0AeMMcUfhcT",
        "colab": {
          "base_uri": "https://localhost:8080/"
        },
        "outputId": "c40919cc-1875-4f88-f874-74afd58cedb8"
      },
      "outputs": [
        {
          "output_type": "execute_result",
          "data": {
            "text/plain": [
              "['backward',\n",
              " 'bed',\n",
              " 'bird',\n",
              " 'cat',\n",
              " 'dog',\n",
              " 'down',\n",
              " 'eight',\n",
              " 'five',\n",
              " 'follow',\n",
              " 'forward',\n",
              " 'four',\n",
              " 'go',\n",
              " 'happy',\n",
              " 'house',\n",
              " 'learn',\n",
              " 'left',\n",
              " 'marvin',\n",
              " 'nine',\n",
              " 'no',\n",
              " 'off',\n",
              " 'on',\n",
              " 'one',\n",
              " 'right',\n",
              " 'seven',\n",
              " 'sheila',\n",
              " 'six',\n",
              " 'stop',\n",
              " 'three',\n",
              " 'tree',\n",
              " 'two',\n",
              " 'up',\n",
              " 'visual',\n",
              " 'wow',\n",
              " 'yes',\n",
              " 'zero']"
            ]
          },
          "metadata": {},
          "execution_count": 6
        }
      ],
      "source": [
        "labels = sorted(list(set(datapoint[2] for datapoint in train_set)))\n",
        "labels"
      ]
    },
    {
      "cell_type": "markdown",
      "metadata": {
        "id": "C0qNP2GufhcT"
      },
      "source": [
        "The 35 audio labels are commands that are said by users. The first few\n",
        "files are people saying “marvin”.\n",
        "\n",
        "\n"
      ]
    },
    {
      "cell_type": "code",
      "execution_count": 7,
      "metadata": {
        "id": "Ao2gQ1oHfhcT",
        "colab": {
          "base_uri": "https://localhost:8080/",
          "height": 74
        },
        "outputId": "6feb26e1-b810-454a-ab4f-dbad3fc8d399"
      },
      "outputs": [
        {
          "output_type": "execute_result",
          "data": {
            "text/plain": [
              "<IPython.lib.display.Audio object>"
            ],
            "text/html": [
              "\n",
              "                <audio  controls=\"controls\" >\n",
              "                    <source src=\"data:audio/wav;base64,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\" type=\"audio/wav\" />\n",
              "                    Your browser does not support the audio element.\n",
              "                </audio>\n",
              "              "
            ]
          },
          "metadata": {},
          "execution_count": 7
        }
      ],
      "source": [
        "waveform_first, *_ = train_set[0]\n",
        "ipd.Audio(waveform_first.numpy(), rate=sample_rate)\n",
        "\n",
        "waveform_second, *_ = train_set[1]\n",
        "ipd.Audio(waveform_second.numpy(), rate=sample_rate)"
      ]
    },
    {
      "cell_type": "markdown",
      "metadata": {
        "id": "0IrfOWr8fhcT"
      },
      "source": [
        "The last file is someone saying “visual”.\n",
        "\n",
        "\n"
      ]
    },
    {
      "cell_type": "code",
      "execution_count": 8,
      "metadata": {
        "id": "JTkF82VhfhcT",
        "colab": {
          "base_uri": "https://localhost:8080/",
          "height": 74
        },
        "outputId": "7d076cc2-3130-4edb-bf2e-1c0e3a224b1c"
      },
      "outputs": [
        {
          "output_type": "execute_result",
          "data": {
            "text/plain": [
              "<IPython.lib.display.Audio object>"
            ],
            "text/html": [
              "\n",
              "                <audio  controls=\"controls\" >\n",
              "                    <source src=\"data:audio/wav;base64,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\" type=\"audio/wav\" />\n",
              "                    Your browser does not support the audio element.\n",
              "                </audio>\n",
              "              "
            ]
          },
          "metadata": {},
          "execution_count": 8
        }
      ],
      "source": [
        "waveform_last, *_ = train_set[-1]\n",
        "ipd.Audio(waveform_last.numpy(), rate=sample_rate)"
      ]
    },
    {
      "cell_type": "markdown",
      "metadata": {
        "id": "nLBA_GHhfhcT"
      },
      "source": [
        "## Formatting the Data\n",
        "\n",
        "This is a good place to apply transformations to the data. For the\n",
        "waveform, we downsample the audio for faster processing without losing\n",
        "too much of the classification power.\n",
        "\n",
        "We don’t need to apply other transformations here. It is common for some\n",
        "datasets though to have to reduce the number of channels (say from\n",
        "stereo to mono) by either taking the mean along the channel dimension,\n",
        "or simply keeping only one of the channels. Since SpeechCommands uses a\n",
        "single channel for audio, this is not needed here.\n",
        "\n",
        "\n"
      ]
    },
    {
      "cell_type": "markdown",
      "metadata": {
        "id": "TkvwLKNJfhcT"
      },
      "source": [
        "We are encoding each word using its index in the list of labels.\n",
        "\n",
        "\n"
      ]
    },
    {
      "cell_type": "code",
      "execution_count": 9,
      "metadata": {
        "id": "ooAFTrywfhcU",
        "colab": {
          "base_uri": "https://localhost:8080/"
        },
        "outputId": "82e067c3-f81c-4206-e02e-4cf7d113eef5"
      },
      "outputs": [
        {
          "output_type": "stream",
          "name": "stdout",
          "text": [
            "yes --> tensor(33) --> yes\n"
          ]
        }
      ],
      "source": [
        "def label_to_index(word):\n",
        "    # Return the position of the word in labels\n",
        "    return torch.tensor(labels.index(word))\n",
        "\n",
        "\n",
        "def index_to_label(index):\n",
        "    # Return the word corresponding to the index in labels\n",
        "    # This is the inverse of label_to_index\n",
        "    return labels[index]\n",
        "\n",
        "\n",
        "word_start = \"yes\"\n",
        "index = label_to_index(word_start)\n",
        "word_recovered = index_to_label(index)\n",
        "\n",
        "print(word_start, \"-->\", index, \"-->\", word_recovered)"
      ]
    },
    {
      "cell_type": "markdown",
      "metadata": {
        "id": "1uw70TRdfhcU"
      },
      "source": [
        "To turn a list of data point made of audio recordings and utterances\n",
        "into two batched tensors for the model, we implement a collate function\n",
        "which is used by the PyTorch DataLoader that allows us to iterate over a\n",
        "dataset by batches. Please see [the\n",
        "documentation](https://pytorch.org/docs/stable/data.html#working-with-collate-fn)_\n",
        "for more information about working with a collate function.\n",
        "\n",
        "In the collate function, we also apply the resampling, and the text\n",
        "encoding.\n",
        "\n",
        "\n"
      ]
    },
    {
      "cell_type": "code",
      "execution_count": 10,
      "metadata": {
        "id": "-8tIHbjifhcU"
      },
      "outputs": [],
      "source": [
        "def pad_sequence(batch):\n",
        "    # Make all tensor in a batch the same length by padding with zeros\n",
        "    batch = [item.t() for item in batch]\n",
        "    batch = torch.nn.utils.rnn.pad_sequence(batch, batch_first=True, padding_value=0.)\n",
        "    return batch.permute(0, 2, 1)\n",
        "\n",
        "\n",
        "def collate_fn(batch):\n",
        "\n",
        "    # A data tuple has the form:\n",
        "    # waveform, sample_rate, label, speaker_id, utterance_number\n",
        "\n",
        "    tensors, targets = [], []\n",
        "\n",
        "    # Gather in lists, and encode labels as indices\n",
        "    for waveform, _, label, *_ in batch:\n",
        "        tensors += [waveform]\n",
        "        targets += [label_to_index(label)]\n",
        "\n",
        "    # Group the list of tensors into a batched tensor\n",
        "    tensors = pad_sequence(tensors)\n",
        "    targets = torch.stack(targets)\n",
        "\n",
        "    return tensors, targets\n",
        "\n",
        "\n",
        "batch_size = 256\n",
        "\n",
        "if device == \"cuda\":\n",
        "    num_workers = 1\n",
        "    pin_memory = True\n",
        "else:\n",
        "    num_workers = 0\n",
        "    pin_memory = False\n",
        "\n",
        "train_loader = torch.utils.data.DataLoader(\n",
        "    train_set,\n",
        "    batch_size=batch_size,\n",
        "    shuffle=True,\n",
        "    collate_fn=collate_fn,\n",
        "    num_workers=num_workers,\n",
        "    pin_memory=pin_memory,\n",
        ")\n",
        "test_loader = torch.utils.data.DataLoader(\n",
        "    test_set,\n",
        "    batch_size=batch_size,\n",
        "    shuffle=False,\n",
        "    drop_last=False,\n",
        "    collate_fn=collate_fn,\n",
        "    num_workers=num_workers,\n",
        "    pin_memory=pin_memory,\n",
        ")"
      ]
    },
    {
      "cell_type": "markdown",
      "metadata": {
        "id": "banRYT1jfhcU"
      },
      "source": [
        "## Define the Network\n",
        "\n",
        "For this tutorial we will use a convolutional neural network to process\n",
        "the raw audio data. Usually more advanced transforms are applied to the\n",
        "audio data, however CNNs can be used to accurately process the raw data.\n",
        "The specific architecture is modeled after the M5 network architecture\n",
        "described in [this paper](https://arxiv.org/pdf/1610.00087.pdf)_. An\n",
        "important aspect of models processing raw audio data is the receptive\n",
        "field of their first layer’s filters. Our model’s first filter is length\n",
        "80 so when processing audio sampled at 8kHz the receptive field is\n",
        "around 10ms (and at 4kHz, around 20 ms). This size is similar to speech\n",
        "processing applications that often use receptive fields ranging from\n",
        "20ms to 40ms.\n",
        "\n",
        "\n"
      ]
    },
    {
      "cell_type": "code",
      "execution_count": 15,
      "metadata": {
        "id": "m74HY0xnfhcU",
        "colab": {
          "base_uri": "https://localhost:8080/"
        },
        "outputId": "ac80f3b7-b615-4d9e-8558-a684b50977df"
      },
      "outputs": [
        {
          "output_type": "stream",
          "name": "stdout",
          "text": [
            "M5(\n",
            "  (conv1): Conv1d(1, 32, kernel_size=(80,), stride=(16,))\n",
            "  (bn1): BatchNorm1d(32, eps=1e-05, momentum=0.1, affine=True, track_running_stats=True)\n",
            "  (pool1): MaxPool1d(kernel_size=4, stride=4, padding=0, dilation=1, ceil_mode=False)\n",
            "  (conv2): Conv1d(32, 32, kernel_size=(3,), stride=(1,))\n",
            "  (bn2): BatchNorm1d(32, eps=1e-05, momentum=0.1, affine=True, track_running_stats=True)\n",
            "  (pool2): MaxPool1d(kernel_size=4, stride=4, padding=0, dilation=1, ceil_mode=False)\n",
            "  (conv3): Conv1d(32, 64, kernel_size=(3,), stride=(1,))\n",
            "  (bn3): BatchNorm1d(64, eps=1e-05, momentum=0.1, affine=True, track_running_stats=True)\n",
            "  (pool3): MaxPool1d(kernel_size=4, stride=4, padding=0, dilation=1, ceil_mode=False)\n",
            "  (conv4): Conv1d(64, 64, kernel_size=(3,), stride=(1,))\n",
            "  (bn4): BatchNorm1d(64, eps=1e-05, momentum=0.1, affine=True, track_running_stats=True)\n",
            "  (pool4): MaxPool1d(kernel_size=4, stride=4, padding=0, dilation=1, ceil_mode=False)\n",
            "  (fc1): Linear(in_features=64, out_features=35, bias=True)\n",
            ")\n",
            "Number of parameters: 26915\n"
          ]
        }
      ],
      "source": [
        "class M5(nn.Module):\n",
        "    def __init__(self, n_input=1, n_output=35, stride=16, n_channel=32):\n",
        "        super().__init__()\n",
        "        self.conv1 = nn.Conv1d(n_input, n_channel, kernel_size=80, stride=stride)\n",
        "        self.bn1 = nn.BatchNorm1d(n_channel)\n",
        "        self.pool1 = nn.MaxPool1d(4)\n",
        "        self.conv2 = nn.Conv1d(n_channel, n_channel, kernel_size=3)\n",
        "        self.bn2 = nn.BatchNorm1d(n_channel)\n",
        "        self.pool2 = nn.MaxPool1d(4)\n",
        "        self.conv3 = nn.Conv1d(n_channel, 2 * n_channel, kernel_size=3)\n",
        "        self.bn3 = nn.BatchNorm1d(2 * n_channel)\n",
        "        self.pool3 = nn.MaxPool1d(4)\n",
        "        self.conv4 = nn.Conv1d(2 * n_channel, 2 * n_channel, kernel_size=3)\n",
        "        self.bn4 = nn.BatchNorm1d(2 * n_channel)\n",
        "        self.pool4 = nn.MaxPool1d(4)\n",
        "        self.fc1 = nn.Linear(2 * n_channel, n_output)\n",
        "\n",
        "    def forward(self, x):\n",
        "        x = self.conv1(x)\n",
        "        x = F.relu(self.bn1(x))\n",
        "        x = self.pool1(x)\n",
        "        x = self.conv2(x)\n",
        "        x = F.relu(self.bn2(x))\n",
        "        x = self.pool2(x)\n",
        "        x = self.conv3(x)\n",
        "        x = F.relu(self.bn3(x))\n",
        "        x = self.pool3(x)\n",
        "        x = self.conv4(x)\n",
        "        x = F.relu(self.bn4(x))\n",
        "        x = self.pool4(x)\n",
        "        x = F.avg_pool1d(x, x.shape[-1])\n",
        "        x = x.permute(0, 2, 1)\n",
        "        x = self.fc1(x)\n",
        "        return F.log_softmax(x, dim=2)\n",
        "\n",
        "\n",
        "model = M5(n_input=transformed.shape[0], n_output=len(labels))\n",
        "model.to(device)\n",
        "print(model)\n",
        "\n",
        "\n",
        "def count_parameters(model):\n",
        "    return sum(p.numel() for p in model.parameters() if p.requires_grad)\n",
        "\n",
        "\n",
        "n = count_parameters(model)\n",
        "print(\"Number of parameters: %s\" % n)"
      ]
    },
    {
      "cell_type": "markdown",
      "metadata": {
        "id": "JbCNsheDfhcU"
      },
      "source": [
        "We will use the same optimization technique used in the paper, an Adam\n",
        "optimizer with weight decay set to 0.0001. At first, we will train with\n",
        "a learning rate of 0.01, but we will use a ``scheduler`` to decrease it\n",
        "to 0.001 during training after 20 epochs.\n",
        "\n",
        "\n"
      ]
    },
    {
      "cell_type": "code",
      "execution_count": 16,
      "metadata": {
        "id": "aJv-XIaAfhcU"
      },
      "outputs": [],
      "source": [
        "optimizer = optim.Adam(model.parameters(), lr=0.01, weight_decay=0.0001)\n",
        "scheduler = optim.lr_scheduler.StepLR(optimizer, step_size=20, gamma=0.1)  # reduce the learning after 20 epochs by a factor of 10"
      ]
    },
    {
      "cell_type": "markdown",
      "metadata": {
        "id": "ijUK8YETfhcU"
      },
      "source": [
        "## Training and Testing the Network\n",
        "\n",
        "Now let’s define a training function that will feed our training data\n",
        "into the model and perform the backward pass and optimization steps. For\n",
        "training, the loss we will use is the negative log-likelihood. The\n",
        "network will then be tested after each epoch to see how the accuracy\n",
        "varies during the training.\n",
        "\n",
        "\n"
      ]
    },
    {
      "cell_type": "code",
      "execution_count": 17,
      "metadata": {
        "id": "cl-dm2AgfhcU"
      },
      "outputs": [],
      "source": [
        "def train(model, epoch, log_interval):\n",
        "    model.train()\n",
        "    for batch_idx, (data, target) in enumerate(train_loader):\n",
        "\n",
        "        data = data.to(device)\n",
        "        target = target.to(device)\n",
        "\n",
        "        # apply transform and model on whole batch directly on device\n",
        "        data = transform(data)\n",
        "        output = model(data)\n",
        "\n",
        "        # negative log-likelihood for a tensor of size (batch x 1 x n_output)\n",
        "        loss = F.nll_loss(output.squeeze(), target)\n",
        "\n",
        "        optimizer.zero_grad()\n",
        "        loss.backward()\n",
        "        optimizer.step()\n",
        "\n",
        "        # print training stats\n",
        "        if batch_idx % log_interval == 0:\n",
        "            print(f\"Train Epoch: {epoch} [{batch_idx * len(data)}/{len(train_loader.dataset)} ({100. * batch_idx / len(train_loader):.0f}%)]\\tLoss: {loss.item():.6f}\")\n",
        "\n",
        "        # update progress bar\n",
        "        pbar.update(pbar_update)\n",
        "        # record loss\n",
        "        losses.append(loss.item())\n",
        "\n",
        ""
      ]
    },
    {
      "cell_type": "markdown",
      "metadata": {
        "id": "3dnF5RB_fhcU"
      },
      "source": [
        "Now that we have a training function, we need to make one for testing\n",
        "the networks accuracy. We will set the model to ``eval()`` mode and then\n",
        "run inference on the test dataset. Calling ``eval()`` sets the training\n",
        "variable in all modules in the network to false. Certain layers like\n",
        "batch normalization and dropout layers behave differently during\n",
        "training so this step is crucial for getting correct results.\n",
        "\n",
        "\n"
      ]
    },
    {
      "cell_type": "code",
      "execution_count": 18,
      "metadata": {
        "id": "tmwZSYI4fhcU"
      },
      "outputs": [],
      "source": [
        "def number_of_correct(pred, target):\n",
        "    # count number of correct predictions\n",
        "    return pred.squeeze().eq(target).sum().item()\n",
        "\n",
        "\n",
        "def get_likely_index(tensor):\n",
        "    # find most likely label index for each element in the batch\n",
        "    return tensor.argmax(dim=-1)\n",
        "\n",
        "\n",
        "def test(model, epoch):\n",
        "    model.eval()\n",
        "    correct = 0\n",
        "    for data, target in test_loader:\n",
        "\n",
        "        data = data.to(device)\n",
        "        target = target.to(device)\n",
        "\n",
        "        # apply transform and model on whole batch directly on device\n",
        "        data = transform(data)\n",
        "        output = model(data)\n",
        "\n",
        "        pred = get_likely_index(output)\n",
        "        correct += number_of_correct(pred, target)\n",
        "\n",
        "        # update progress bar\n",
        "        pbar.update(pbar_update)\n",
        "\n",
        "    print(f\"\\nTest Epoch: {epoch}\\tAccuracy: {correct}/{len(test_loader.dataset)} ({100. * correct / len(test_loader.dataset):.0f}%)\\n\")"
      ]
    },
    {
      "cell_type": "markdown",
      "metadata": {
        "id": "SRBTAyDifhcU"
      },
      "source": [
        "Finally, we can train and test the network. We will train the network\n",
        "for ten epochs then reduce the learn rate and train for ten more epochs.\n",
        "The network will be tested after each epoch to see how the accuracy\n",
        "varies during the training.\n",
        "\n",
        "\n"
      ]
    },
    {
      "cell_type": "code",
      "execution_count": 33,
      "metadata": {
        "id": "B0lgBWgffhcV",
        "colab": {
          "base_uri": "https://localhost:8080/",
          "height": 1000
        },
        "outputId": "9bc946ad-a043-475f-c37b-dea64c9bf11e"
      },
      "outputs": [
        {
          "output_type": "stream",
          "name": "stderr",
          "text": [
            "  0%|          | 0.005333333333333333/2 [00:00<00:57, 28.72s/it]"
          ]
        },
        {
          "output_type": "stream",
          "name": "stdout",
          "text": [
            "Train Epoch: 1 [0/84843 (0%)]\tLoss: 0.206528\n"
          ]
        },
        {
          "output_type": "stream",
          "name": "stderr",
          "text": [
            "  3%|▎         | 0.05866666666666665/2 [00:01<00:53, 27.57s/it]"
          ]
        },
        {
          "output_type": "stream",
          "name": "stdout",
          "text": [
            "Train Epoch: 1 [5120/84843 (6%)]\tLoss: 0.277071\n"
          ]
        },
        {
          "output_type": "stream",
          "name": "stderr",
          "text": [
            "  6%|▌         | 0.11199999999999995/2 [00:03<00:52, 27.85s/it]"
          ]
        },
        {
          "output_type": "stream",
          "name": "stdout",
          "text": [
            "Train Epoch: 1 [10240/84843 (12%)]\tLoss: 0.213699\n"
          ]
        },
        {
          "output_type": "stream",
          "name": "stderr",
          "text": [
            "  8%|▊         | 0.16533333333333344/2 [00:04<00:50, 27.52s/it]"
          ]
        },
        {
          "output_type": "stream",
          "name": "stdout",
          "text": [
            "Train Epoch: 1 [15360/84843 (18%)]\tLoss: 0.240389\n"
          ]
        },
        {
          "output_type": "stream",
          "name": "stderr",
          "text": [
            " 11%|█         | 0.218666666666667/2 [00:06<00:49, 27.97s/it]  "
          ]
        },
        {
          "output_type": "stream",
          "name": "stdout",
          "text": [
            "Train Epoch: 1 [20480/84843 (24%)]\tLoss: 0.124623\n"
          ]
        },
        {
          "output_type": "stream",
          "name": "stderr",
          "text": [
            " 14%|█▎        | 0.27200000000000035/2 [00:07<00:48, 27.84s/it]"
          ]
        },
        {
          "output_type": "stream",
          "name": "stdout",
          "text": [
            "Train Epoch: 1 [25600/84843 (30%)]\tLoss: 0.179428\n"
          ]
        },
        {
          "output_type": "stream",
          "name": "stderr",
          "text": [
            " 16%|█▋        | 0.32533333333333336/2 [00:09<00:48, 29.01s/it]"
          ]
        },
        {
          "output_type": "stream",
          "name": "stdout",
          "text": [
            "Train Epoch: 1 [30720/84843 (36%)]\tLoss: 0.153923\n"
          ]
        },
        {
          "output_type": "stream",
          "name": "stderr",
          "text": [
            " 19%|█▉        | 0.3786666666666664/2 [00:10<00:45, 28.27s/it]"
          ]
        },
        {
          "output_type": "stream",
          "name": "stdout",
          "text": [
            "Train Epoch: 1 [35840/84843 (42%)]\tLoss: 0.256621\n"
          ]
        },
        {
          "output_type": "stream",
          "name": "stderr",
          "text": [
            " 22%|██▏       | 0.4319999999999994/2 [00:12<00:43, 27.59s/it]"
          ]
        },
        {
          "output_type": "stream",
          "name": "stdout",
          "text": [
            "Train Epoch: 1 [40960/84843 (48%)]\tLoss: 0.215621\n"
          ]
        },
        {
          "output_type": "stream",
          "name": "stderr",
          "text": [
            " 24%|██▍       | 0.4853333333333324/2 [00:13<00:41, 27.36s/it]"
          ]
        },
        {
          "output_type": "stream",
          "name": "stdout",
          "text": [
            "Train Epoch: 1 [46080/84843 (54%)]\tLoss: 0.321589\n"
          ]
        },
        {
          "output_type": "stream",
          "name": "stderr",
          "text": [
            " 27%|██▋       | 0.5386666666666662/2 [00:15<00:40, 27.59s/it]"
          ]
        },
        {
          "output_type": "stream",
          "name": "stdout",
          "text": [
            "Train Epoch: 1 [51200/84843 (60%)]\tLoss: 0.264786\n"
          ]
        },
        {
          "output_type": "stream",
          "name": "stderr",
          "text": [
            " 30%|██▉       | 0.5920000000000003/2 [00:16<00:38, 27.54s/it]"
          ]
        },
        {
          "output_type": "stream",
          "name": "stdout",
          "text": [
            "Train Epoch: 1 [56320/84843 (66%)]\tLoss: 0.308072\n"
          ]
        },
        {
          "output_type": "stream",
          "name": "stderr",
          "text": [
            " 32%|███▏      | 0.6453333333333344/2 [00:17<00:37, 27.42s/it]"
          ]
        },
        {
          "output_type": "stream",
          "name": "stdout",
          "text": [
            "Train Epoch: 1 [61440/84843 (72%)]\tLoss: 0.282650\n"
          ]
        },
        {
          "output_type": "stream",
          "name": "stderr",
          "text": [
            " 35%|███▍      | 0.6986666666666685/2 [00:19<00:35, 27.49s/it]"
          ]
        },
        {
          "output_type": "stream",
          "name": "stdout",
          "text": [
            "Train Epoch: 1 [66560/84843 (78%)]\tLoss: 0.227990\n"
          ]
        },
        {
          "output_type": "stream",
          "name": "stderr",
          "text": [
            " 38%|███▊      | 0.7520000000000027/2 [00:20<00:34, 27.26s/it]"
          ]
        },
        {
          "output_type": "stream",
          "name": "stdout",
          "text": [
            "Train Epoch: 1 [71680/84843 (84%)]\tLoss: 0.250933\n"
          ]
        },
        {
          "output_type": "stream",
          "name": "stderr",
          "text": [
            " 40%|████      | 0.8053333333333368/2 [00:22<00:33, 27.70s/it]"
          ]
        },
        {
          "output_type": "stream",
          "name": "stdout",
          "text": [
            "Train Epoch: 1 [76800/84843 (90%)]\tLoss: 0.240462\n"
          ]
        },
        {
          "output_type": "stream",
          "name": "stderr",
          "text": [
            " 43%|████▎     | 0.8586666666666709/2 [00:23<00:32, 28.17s/it]"
          ]
        },
        {
          "output_type": "stream",
          "name": "stdout",
          "text": [
            "Train Epoch: 1 [81920/84843 (96%)]\tLoss: 0.298040\n"
          ]
        },
        {
          "output_type": "stream",
          "name": "stderr",
          "text": [
            " 50%|█████     | 1.0026666666666728/2 [00:27<00:26, 26.98s/it]"
          ]
        },
        {
          "output_type": "stream",
          "name": "stdout",
          "text": [
            "\n",
            "Test Epoch: 1\tAccuracy: 9497/11005 (86%)\n",
            "\n",
            "Train Epoch: 2 [0/84843 (0%)]\tLoss: 0.218124\n"
          ]
        },
        {
          "output_type": "stream",
          "name": "stderr",
          "text": [
            " 53%|█████▎    | 1.061333333333338/2 [00:29<00:25, 27.33s/it] "
          ]
        },
        {
          "output_type": "stream",
          "name": "stdout",
          "text": [
            "Train Epoch: 2 [5120/84843 (6%)]\tLoss: 0.175001\n"
          ]
        },
        {
          "output_type": "stream",
          "name": "stderr",
          "text": [
            " 56%|█████▌    | 1.1146666666666698/2 [00:30<00:24, 27.30s/it]"
          ]
        },
        {
          "output_type": "stream",
          "name": "stdout",
          "text": [
            "Train Epoch: 2 [10240/84843 (12%)]\tLoss: 0.150942\n"
          ]
        },
        {
          "output_type": "stream",
          "name": "stderr",
          "text": [
            " 58%|█████▊    | 1.1680000000000017/2 [00:32<00:22, 27.60s/it]"
          ]
        },
        {
          "output_type": "stream",
          "name": "stdout",
          "text": [
            "Train Epoch: 2 [15360/84843 (18%)]\tLoss: 0.213333\n"
          ]
        },
        {
          "output_type": "stream",
          "name": "stderr",
          "text": [
            " 61%|██████    | 1.2213333333333336/2 [00:33<00:21, 27.35s/it]"
          ]
        },
        {
          "output_type": "stream",
          "name": "stdout",
          "text": [
            "Train Epoch: 2 [20480/84843 (24%)]\tLoss: 0.190336\n"
          ]
        },
        {
          "output_type": "stream",
          "name": "stderr",
          "text": [
            " 64%|██████▎   | 1.2746666666666655/2 [00:35<00:19, 27.28s/it]"
          ]
        },
        {
          "output_type": "stream",
          "name": "stdout",
          "text": [
            "Train Epoch: 2 [25600/84843 (30%)]\tLoss: 0.263487\n"
          ]
        },
        {
          "output_type": "stream",
          "name": "stderr",
          "text": [
            " 66%|██████▋   | 1.3279999999999974/2 [00:36<00:18, 27.12s/it]"
          ]
        },
        {
          "output_type": "stream",
          "name": "stdout",
          "text": [
            "Train Epoch: 2 [30720/84843 (36%)]\tLoss: 0.186203\n"
          ]
        },
        {
          "output_type": "stream",
          "name": "stderr",
          "text": [
            " 69%|██████▉   | 1.3813333333333293/2 [00:38<00:17, 27.65s/it]"
          ]
        },
        {
          "output_type": "stream",
          "name": "stdout",
          "text": [
            "Train Epoch: 2 [35840/84843 (42%)]\tLoss: 0.174720\n"
          ]
        },
        {
          "output_type": "stream",
          "name": "stderr",
          "text": [
            " 72%|███████▏  | 1.4346666666666612/2 [00:39<00:15, 27.96s/it]"
          ]
        },
        {
          "output_type": "stream",
          "name": "stdout",
          "text": [
            "Train Epoch: 2 [40960/84843 (48%)]\tLoss: 0.210186\n"
          ]
        },
        {
          "output_type": "stream",
          "name": "stderr",
          "text": [
            " 74%|███████▍  | 1.487999999999993/2 [00:41<00:14, 27.81s/it]"
          ]
        },
        {
          "output_type": "stream",
          "name": "stdout",
          "text": [
            "Train Epoch: 2 [46080/84843 (54%)]\tLoss: 0.261208\n"
          ]
        },
        {
          "output_type": "stream",
          "name": "stderr",
          "text": [
            " 77%|███████▋  | 1.541333333333325/2 [00:42<00:12, 27.96s/it] "
          ]
        },
        {
          "output_type": "stream",
          "name": "stdout",
          "text": [
            "Train Epoch: 2 [51200/84843 (60%)]\tLoss: 0.201854\n"
          ]
        },
        {
          "output_type": "stream",
          "name": "stderr",
          "text": [
            " 80%|███████▉  | 1.594666666666657/2 [00:44<00:11, 27.98s/it] "
          ]
        },
        {
          "output_type": "stream",
          "name": "stdout",
          "text": [
            "Train Epoch: 2 [56320/84843 (66%)]\tLoss: 0.207749\n"
          ]
        },
        {
          "output_type": "stream",
          "name": "stderr",
          "text": [
            " 82%|████████▏ | 1.6479999999999888/2 [00:45<00:09, 27.61s/it]"
          ]
        },
        {
          "output_type": "stream",
          "name": "stdout",
          "text": [
            "Train Epoch: 2 [61440/84843 (72%)]\tLoss: 0.227314\n"
          ]
        },
        {
          "output_type": "stream",
          "name": "stderr",
          "text": [
            " 85%|████████▌ | 1.7013333333333207/2 [00:46<00:08, 27.29s/it]"
          ]
        },
        {
          "output_type": "stream",
          "name": "stdout",
          "text": [
            "Train Epoch: 2 [66560/84843 (78%)]\tLoss: 0.139343\n"
          ]
        },
        {
          "output_type": "stream",
          "name": "stderr",
          "text": [
            " 88%|████████▊ | 1.7546666666666526/2 [00:48<00:06, 27.39s/it]"
          ]
        },
        {
          "output_type": "stream",
          "name": "stdout",
          "text": [
            "Train Epoch: 2 [71680/84843 (84%)]\tLoss: 0.153288\n"
          ]
        },
        {
          "output_type": "stream",
          "name": "stderr",
          "text": [
            " 90%|█████████ | 1.8079999999999845/2 [00:49<00:05, 27.43s/it]"
          ]
        },
        {
          "output_type": "stream",
          "name": "stdout",
          "text": [
            "Train Epoch: 2 [76800/84843 (90%)]\tLoss: 0.206612\n"
          ]
        },
        {
          "output_type": "stream",
          "name": "stderr",
          "text": [
            " 93%|█████████▎| 1.8613333333333164/2 [00:51<00:03, 27.38s/it]"
          ]
        },
        {
          "output_type": "stream",
          "name": "stdout",
          "text": [
            "Train Epoch: 2 [81920/84843 (96%)]\tLoss: 0.158910\n"
          ]
        },
        {
          "output_type": "stream",
          "name": "stderr",
          "text": [
            "100%|█████████▉| 1.9999999999999793/2 [00:55<00:00, 27.53s/it]\n"
          ]
        },
        {
          "output_type": "stream",
          "name": "stdout",
          "text": [
            "\n",
            "Test Epoch: 2\tAccuracy: 9490/11005 (86%)\n",
            "\n"
          ]
        },
        {
          "output_type": "display_data",
          "data": {
            "text/plain": [
              "<Figure size 1000x400 with 3 Axes>"
            ],
            "image/png": "[encoded data removed]"
          },
          "metadata": {}
        }
      ],
      "source": [
        "import matplotlib.pyplot as plt\n",
        "#2에포크\n",
        "log_interval = 20\n",
        "n_epoch = 2\n",
        "\n",
        "pbar_update = 1 / (len(train_loader) + len(test_loader))\n",
        "losses = []\n",
        "\n",
        "# Lists to store data for plotting\n",
        "learning_rates = []\n",
        "training_losses = []\n",
        "test_accuracies = []\n",
        "\n",
        "# The transform needs to live on the same device as the model and the data.\n",
        "transform = transform.to(device)\n",
        "with tqdm(total=n_epoch) as pbar:\n",
        "    for epoch in range(1, n_epoch + 1):\n",
        "        train(model, epoch, log_interval)\n",
        "        test_acc = test(model, epoch)  # Store the returned accuracy in test_acc\n",
        "        scheduler.step()\n",
        "\n",
        "        # Record learning rate\n",
        "        learning_rates.append(optimizer.param_groups[0]['lr'])\n",
        "\n",
        "        # Record training loss\n",
        "        training_losses.append(losses[-1])\n",
        "\n",
        "        # Record test accuracy\n",
        "        test_accuracies.append(test_acc)  # Use test_acc\n",
        "\n",
        "# Plot learning rate\n",
        "plt.figure(figsize=(10, 4))\n",
        "plt.subplot(1, 3, 1)\n",
        "plt.plot(learning_rates)\n",
        "plt.title(\"Learning Rate\")\n",
        "plt.xlabel(\"Epoch\")\n",
        "\n",
        "# Plot training loss\n",
        "plt.subplot(1, 3, 2)\n",
        "plt.plot(training_losses)\n",
        "plt.title(\"Training Loss\")\n",
        "plt.xlabel(\"Epoch\")\n",
        "\n",
        "# Plot test accuracy\n",
        "plt.subplot(1, 3, 3)\n",
        "plt.plot(test_accuracies)\n",
        "plt.title(\"Test Accuracy\")\n",
        "plt.xlabel(\"Epoch\")\n",
        "\n",
        "plt.tight_layout()\n",
        "plt.show()"
      ]
    },
    {
      "cell_type": "code",
      "source": [
        "import matplotlib.pyplot as plt\n",
        "#21에포크\n",
        "log_interval = 20\n",
        "n_epoch = 21\n",
        "\n",
        "pbar_update = 1 / (len(train_loader) + len(test_loader))\n",
        "losses = []\n",
        "\n",
        "# Lists to store data for plotting\n",
        "learning_rates = []\n",
        "training_losses = []\n",
        "test_accuracies = []\n",
        "\n",
        "# The transform needs to live on the same device as the model and the data.\n",
        "transform = transform.to(device)\n",
        "with tqdm(total=n_epoch) as pbar:\n",
        "    for epoch in range(1, n_epoch + 1):\n",
        "        train(model, epoch, log_interval)\n",
        "        test_acc = test(model, epoch)  # Store the returned accuracy in test_acc\n",
        "        scheduler.step()\n",
        "\n",
        "        # Record learning rate\n",
        "        learning_rates.append(optimizer.param_groups[0]['lr'])\n",
        "\n",
        "        # Record training loss\n",
        "        training_losses.append(losses[-1])\n",
        "\n",
        "        # Record test accuracy\n",
        "        test_accuracies.append(test_acc)  # Use test_acc\n",
        "\n",
        "# Plot learning rate\n",
        "plt.figure(figsize=(10, 4))\n",
        "plt.subplot(1, 3, 1)\n",
        "plt.plot(learning_rates)\n",
        "plt.title(\"Learning Rate\")\n",
        "plt.xlabel(\"Epoch\")\n",
        "\n",
        "# Plot training loss\n",
        "plt.subplot(1, 3, 2)\n",
        "plt.plot(training_losses)\n",
        "plt.title(\"Training Loss\")\n",
        "plt.xlabel(\"Epoch\")\n",
        "\n",
        "# Plot test accuracy\n",
        "plt.subplot(1, 3, 3)\n",
        "plt.plot(test_accuracies)\n",
        "plt.title(\"Test Accuracy\")\n",
        "plt.xlabel(\"Epoch\")\n",
        "\n",
        "plt.tight_layout()\n",
        "plt.show()\n"
      ],
      "metadata": {
        "colab": {
          "base_uri": "https://localhost:8080/",
          "height": 1000
        },
        "id": "PXFR23kVhom1",
        "outputId": "752171a8-d5ea-44f0-d4c9-f40c5183d31b"
      },
      "execution_count": 34,
      "outputs": [
        {
          "output_type": "stream",
          "name": "stderr",
          "text": [
            "  0%|          | 0.005333333333333333/21 [00:00<10:12, 29.18s/it]"
          ]
        },
        {
          "output_type": "stream",
          "name": "stdout",
          "text": [
            "Train Epoch: 1 [0/84843 (0%)]\tLoss: 0.250473\n"
          ]
        },
        {
          "output_type": "stream",
          "name": "stderr",
          "text": [
            "  0%|          | 0.05866666666666665/21 [00:01<09:41, 27.76s/it]"
          ]
        },
        {
          "output_type": "stream",
          "name": "stdout",
          "text": [
            "Train Epoch: 1 [5120/84843 (6%)]\tLoss: 0.130196\n"
          ]
        },
        {
          "output_type": "stream",
          "name": "stderr",
          "text": [
            "  1%|          | 0.11199999999999995/21 [00:03<09:49, 28.22s/it]"
          ]
        },
        {
          "output_type": "stream",
          "name": "stdout",
          "text": [
            "Train Epoch: 1 [10240/84843 (12%)]\tLoss: 0.237574\n"
          ]
        },
        {
          "output_type": "stream",
          "name": "stderr",
          "text": [
            "  1%|          | 0.16533333333333344/21 [00:04<09:56, 28.62s/it]"
          ]
        },
        {
          "output_type": "stream",
          "name": "stdout",
          "text": [
            "Train Epoch: 1 [15360/84843 (18%)]\tLoss: 0.216616\n"
          ]
        },
        {
          "output_type": "stream",
          "name": "stderr",
          "text": [
            "  1%|          | 0.218666666666667/21 [00:06<09:26, 27.27s/it]  "
          ]
        },
        {
          "output_type": "stream",
          "name": "stdout",
          "text": [
            "Train Epoch: 1 [20480/84843 (24%)]\tLoss: 0.180357\n"
          ]
        },
        {
          "output_type": "stream",
          "name": "stderr",
          "text": [
            "  1%|▏         | 0.27200000000000035/21 [00:07<09:27, 27.40s/it]"
          ]
        },
        {
          "output_type": "stream",
          "name": "stdout",
          "text": [
            "Train Epoch: 1 [25600/84843 (30%)]\tLoss: 0.229556\n"
          ]
        },
        {
          "output_type": "stream",
          "name": "stderr",
          "text": [
            "  2%|▏         | 0.32533333333333336/21 [00:09<09:08, 26.52s/it]"
          ]
        },
        {
          "output_type": "stream",
          "name": "stdout",
          "text": [
            "Train Epoch: 1 [30720/84843 (36%)]\tLoss: 0.203353\n"
          ]
        },
        {
          "output_type": "stream",
          "name": "stderr",
          "text": [
            "  2%|▏         | 0.3786666666666664/21 [00:10<09:23, 27.32s/it]"
          ]
        },
        {
          "output_type": "stream",
          "name": "stdout",
          "text": [
            "Train Epoch: 1 [35840/84843 (42%)]\tLoss: 0.182437\n"
          ]
        },
        {
          "output_type": "stream",
          "name": "stderr",
          "text": [
            "  2%|▏         | 0.4319999999999994/21 [00:11<09:09, 26.72s/it]"
          ]
        },
        {
          "output_type": "stream",
          "name": "stdout",
          "text": [
            "Train Epoch: 1 [40960/84843 (48%)]\tLoss: 0.152336\n"
          ]
        },
        {
          "output_type": "stream",
          "name": "stderr",
          "text": [
            "  2%|▏         | 0.4853333333333324/21 [00:13<09:17, 27.17s/it]"
          ]
        },
        {
          "output_type": "stream",
          "name": "stdout",
          "text": [
            "Train Epoch: 1 [46080/84843 (54%)]\tLoss: 0.236394\n"
          ]
        },
        {
          "output_type": "stream",
          "name": "stderr",
          "text": [
            "  3%|▎         | 0.5386666666666662/21 [00:14<09:20, 27.41s/it]"
          ]
        },
        {
          "output_type": "stream",
          "name": "stdout",
          "text": [
            "Train Epoch: 1 [51200/84843 (60%)]\tLoss: 0.187826\n"
          ]
        },
        {
          "output_type": "stream",
          "name": "stderr",
          "text": [
            "  3%|▎         | 0.5920000000000003/21 [00:16<09:17, 27.32s/it]"
          ]
        },
        {
          "output_type": "stream",
          "name": "stdout",
          "text": [
            "Train Epoch: 1 [56320/84843 (66%)]\tLoss: 0.161178\n"
          ]
        },
        {
          "output_type": "stream",
          "name": "stderr",
          "text": [
            "  3%|▎         | 0.6453333333333344/21 [00:17<09:43, 28.69s/it]"
          ]
        },
        {
          "output_type": "stream",
          "name": "stdout",
          "text": [
            "Train Epoch: 1 [61440/84843 (72%)]\tLoss: 0.196167\n"
          ]
        },
        {
          "output_type": "stream",
          "name": "stderr",
          "text": [
            "  3%|▎         | 0.6986666666666685/21 [00:19<09:30, 28.10s/it]"
          ]
        },
        {
          "output_type": "stream",
          "name": "stdout",
          "text": [
            "Train Epoch: 1 [66560/84843 (78%)]\tLoss: 0.276447\n"
          ]
        },
        {
          "output_type": "stream",
          "name": "stderr",
          "text": [
            "  4%|▎         | 0.7520000000000027/21 [00:20<09:22, 27.80s/it]"
          ]
        },
        {
          "output_type": "stream",
          "name": "stdout",
          "text": [
            "Train Epoch: 1 [71680/84843 (84%)]\tLoss: 0.213090\n"
          ]
        },
        {
          "output_type": "stream",
          "name": "stderr",
          "text": [
            "  4%|▍         | 0.8053333333333368/21 [00:22<09:07, 27.12s/it]"
          ]
        },
        {
          "output_type": "stream",
          "name": "stdout",
          "text": [
            "Train Epoch: 1 [76800/84843 (90%)]\tLoss: 0.178509\n"
          ]
        },
        {
          "output_type": "stream",
          "name": "stderr",
          "text": [
            "  4%|▍         | 0.8586666666666709/21 [00:23<09:07, 27.20s/it]"
          ]
        },
        {
          "output_type": "stream",
          "name": "stdout",
          "text": [
            "Train Epoch: 1 [81920/84843 (96%)]\tLoss: 0.291214\n"
          ]
        },
        {
          "output_type": "stream",
          "name": "stderr",
          "text": [
            "  5%|▍         | 1.0026666666666728/21 [00:27<08:47, 26.36s/it]"
          ]
        },
        {
          "output_type": "stream",
          "name": "stdout",
          "text": [
            "\n",
            "Test Epoch: 1\tAccuracy: 9489/11005 (86%)\n",
            "\n",
            "Train Epoch: 2 [0/84843 (0%)]\tLoss: 0.271790\n"
          ]
        },
        {
          "output_type": "stream",
          "name": "stderr",
          "text": [
            "  5%|▌         | 1.061333333333338/21 [00:28<08:58, 27.03s/it] "
          ]
        },
        {
          "output_type": "stream",
          "name": "stdout",
          "text": [
            "Train Epoch: 2 [5120/84843 (6%)]\tLoss: 0.170220\n"
          ]
        },
        {
          "output_type": "stream",
          "name": "stderr",
          "text": [
            "  5%|▌         | 1.1146666666666698/21 [00:30<09:01, 27.22s/it]"
          ]
        },
        {
          "output_type": "stream",
          "name": "stdout",
          "text": [
            "Train Epoch: 2 [10240/84843 (12%)]\tLoss: 0.340511\n"
          ]
        },
        {
          "output_type": "stream",
          "name": "stderr",
          "text": [
            "  6%|▌         | 1.1680000000000017/21 [00:31<09:06, 27.54s/it]"
          ]
        },
        {
          "output_type": "stream",
          "name": "stdout",
          "text": [
            "Train Epoch: 2 [15360/84843 (18%)]\tLoss: 0.235937\n"
          ]
        },
        {
          "output_type": "stream",
          "name": "stderr",
          "text": [
            "  6%|▌         | 1.2213333333333336/21 [00:33<09:10, 27.86s/it]"
          ]
        },
        {
          "output_type": "stream",
          "name": "stdout",
          "text": [
            "Train Epoch: 2 [20480/84843 (24%)]\tLoss: 0.248805\n"
          ]
        },
        {
          "output_type": "stream",
          "name": "stderr",
          "text": [
            "  6%|▌         | 1.2746666666666655/21 [00:34<09:28, 28.81s/it]"
          ]
        },
        {
          "output_type": "stream",
          "name": "stdout",
          "text": [
            "Train Epoch: 2 [25600/84843 (30%)]\tLoss: 0.249656\n"
          ]
        },
        {
          "output_type": "stream",
          "name": "stderr",
          "text": [
            "  6%|▋         | 1.3279999999999974/21 [00:36<09:22, 28.59s/it]"
          ]
        },
        {
          "output_type": "stream",
          "name": "stdout",
          "text": [
            "Train Epoch: 2 [30720/84843 (36%)]\tLoss: 0.189700\n"
          ]
        },
        {
          "output_type": "stream",
          "name": "stderr",
          "text": [
            "  7%|▋         | 1.3813333333333293/21 [00:37<09:13, 28.22s/it]"
          ]
        },
        {
          "output_type": "stream",
          "name": "stdout",
          "text": [
            "Train Epoch: 2 [35840/84843 (42%)]\tLoss: 0.142471\n"
          ]
        },
        {
          "output_type": "stream",
          "name": "stderr",
          "text": [
            "  7%|▋         | 1.4346666666666612/21 [00:39<08:48, 27.01s/it]"
          ]
        },
        {
          "output_type": "stream",
          "name": "stdout",
          "text": [
            "Train Epoch: 2 [40960/84843 (48%)]\tLoss: 0.263372\n"
          ]
        },
        {
          "output_type": "stream",
          "name": "stderr",
          "text": [
            "  7%|▋         | 1.487999999999993/21 [00:40<08:48, 27.06s/it]"
          ]
        },
        {
          "output_type": "stream",
          "name": "stdout",
          "text": [
            "Train Epoch: 2 [46080/84843 (54%)]\tLoss: 0.185296\n"
          ]
        },
        {
          "output_type": "stream",
          "name": "stderr",
          "text": [
            "  7%|▋         | 1.541333333333325/21 [00:42<08:44, 26.96s/it] "
          ]
        },
        {
          "output_type": "stream",
          "name": "stdout",
          "text": [
            "Train Epoch: 2 [51200/84843 (60%)]\tLoss: 0.216623\n"
          ]
        },
        {
          "output_type": "stream",
          "name": "stderr",
          "text": [
            "  8%|▊         | 1.594666666666657/21 [00:43<08:54, 27.52s/it] "
          ]
        },
        {
          "output_type": "stream",
          "name": "stdout",
          "text": [
            "Train Epoch: 2 [56320/84843 (66%)]\tLoss: 0.222740\n"
          ]
        },
        {
          "output_type": "stream",
          "name": "stderr",
          "text": [
            "  8%|▊         | 1.6479999999999888/21 [00:45<09:11, 28.48s/it]"
          ]
        },
        {
          "output_type": "stream",
          "name": "stdout",
          "text": [
            "Train Epoch: 2 [61440/84843 (72%)]\tLoss: 0.242714\n"
          ]
        },
        {
          "output_type": "stream",
          "name": "stderr",
          "text": [
            "  8%|▊         | 1.7013333333333207/21 [00:46<08:42, 27.06s/it]"
          ]
        },
        {
          "output_type": "stream",
          "name": "stdout",
          "text": [
            "Train Epoch: 2 [66560/84843 (78%)]\tLoss: 0.180620\n"
          ]
        },
        {
          "output_type": "stream",
          "name": "stderr",
          "text": [
            "  8%|▊         | 1.7546666666666526/21 [00:48<08:41, 27.08s/it]"
          ]
        },
        {
          "output_type": "stream",
          "name": "stdout",
          "text": [
            "Train Epoch: 2 [71680/84843 (84%)]\tLoss: 0.206206\n"
          ]
        },
        {
          "output_type": "stream",
          "name": "stderr",
          "text": [
            "  9%|▊         | 1.8079999999999845/21 [00:49<09:01, 28.23s/it]"
          ]
        },
        {
          "output_type": "stream",
          "name": "stdout",
          "text": [
            "Train Epoch: 2 [76800/84843 (90%)]\tLoss: 0.218542\n"
          ]
        },
        {
          "output_type": "stream",
          "name": "stderr",
          "text": [
            "  9%|▉         | 1.8613333333333164/21 [00:51<08:52, 27.81s/it]"
          ]
        },
        {
          "output_type": "stream",
          "name": "stdout",
          "text": [
            "Train Epoch: 2 [81920/84843 (96%)]\tLoss: 0.192825\n"
          ]
        },
        {
          "output_type": "stream",
          "name": "stderr",
          "text": [
            " 10%|▉         | 2.0053333333333128/21 [00:55<08:34, 27.06s/it]"
          ]
        },
        {
          "output_type": "stream",
          "name": "stdout",
          "text": [
            "\n",
            "Test Epoch: 2\tAccuracy: 9500/11005 (86%)\n",
            "\n",
            "Train Epoch: 3 [0/84843 (0%)]\tLoss: 0.199319\n"
          ]
        },
        {
          "output_type": "stream",
          "name": "stderr",
          "text": [
            " 10%|▉         | 2.058666666666649/21 [00:56<08:39, 27.43s/it] "
          ]
        },
        {
          "output_type": "stream",
          "name": "stdout",
          "text": [
            "Train Epoch: 3 [5120/84843 (6%)]\tLoss: 0.147966\n"
          ]
        },
        {
          "output_type": "stream",
          "name": "stderr",
          "text": [
            " 10%|█         | 2.1119999999999854/21 [00:57<08:40, 27.55s/it]"
          ]
        },
        {
          "output_type": "stream",
          "name": "stdout",
          "text": [
            "Train Epoch: 3 [10240/84843 (12%)]\tLoss: 0.258769\n"
          ]
        },
        {
          "output_type": "stream",
          "name": "stderr",
          "text": [
            " 10%|█         | 2.165333333333322/21 [00:59<08:34, 27.31s/it]"
          ]
        },
        {
          "output_type": "stream",
          "name": "stdout",
          "text": [
            "Train Epoch: 3 [15360/84843 (18%)]\tLoss: 0.197083\n"
          ]
        },
        {
          "output_type": "stream",
          "name": "stderr",
          "text": [
            " 11%|█         | 2.218666666666658/21 [01:00<08:29, 27.12s/it] "
          ]
        },
        {
          "output_type": "stream",
          "name": "stdout",
          "text": [
            "Train Epoch: 3 [20480/84843 (24%)]\tLoss: 0.223919\n"
          ]
        },
        {
          "output_type": "stream",
          "name": "stderr",
          "text": [
            " 11%|█         | 2.2719999999999945/21 [01:02<08:33, 27.40s/it]"
          ]
        },
        {
          "output_type": "stream",
          "name": "stdout",
          "text": [
            "Train Epoch: 3 [25600/84843 (30%)]\tLoss: 0.204687\n"
          ]
        },
        {
          "output_type": "stream",
          "name": "stderr",
          "text": [
            " 11%|█         | 2.325333333333331/21 [01:03<08:24, 26.99s/it]"
          ]
        },
        {
          "output_type": "stream",
          "name": "stdout",
          "text": [
            "Train Epoch: 3 [30720/84843 (36%)]\tLoss: 0.201306\n"
          ]
        },
        {
          "output_type": "stream",
          "name": "stderr",
          "text": [
            " 11%|█▏        | 2.378666666666667/21 [01:05<08:41, 28.02s/it] "
          ]
        },
        {
          "output_type": "stream",
          "name": "stdout",
          "text": [
            "Train Epoch: 3 [35840/84843 (42%)]\tLoss: 0.304126\n"
          ]
        },
        {
          "output_type": "stream",
          "name": "stderr",
          "text": [
            " 12%|█▏        | 2.4320000000000035/21 [01:06<08:29, 27.46s/it]"
          ]
        },
        {
          "output_type": "stream",
          "name": "stdout",
          "text": [
            "Train Epoch: 3 [40960/84843 (48%)]\tLoss: 0.260107\n"
          ]
        },
        {
          "output_type": "stream",
          "name": "stderr",
          "text": [
            " 12%|█▏        | 2.48533333333334/21 [01:08<08:50, 28.64s/it] "
          ]
        },
        {
          "output_type": "stream",
          "name": "stdout",
          "text": [
            "Train Epoch: 3 [46080/84843 (54%)]\tLoss: 0.293618\n"
          ]
        },
        {
          "output_type": "stream",
          "name": "stderr",
          "text": [
            " 12%|█▏        | 2.538666666666676/21 [01:09<08:30, 27.66s/it] "
          ]
        },
        {
          "output_type": "stream",
          "name": "stdout",
          "text": [
            "Train Epoch: 3 [51200/84843 (60%)]\tLoss: 0.310499\n"
          ]
        },
        {
          "output_type": "stream",
          "name": "stderr",
          "text": [
            " 12%|█▏        | 2.5920000000000125/21 [01:11<08:33, 27.88s/it]"
          ]
        },
        {
          "output_type": "stream",
          "name": "stdout",
          "text": [
            "Train Epoch: 3 [56320/84843 (66%)]\tLoss: 0.170038\n"
          ]
        },
        {
          "output_type": "stream",
          "name": "stderr",
          "text": [
            " 13%|█▎        | 2.645333333333349/21 [01:12<08:16, 27.08s/it] "
          ]
        },
        {
          "output_type": "stream",
          "name": "stdout",
          "text": [
            "Train Epoch: 3 [61440/84843 (72%)]\tLoss: 0.249627\n"
          ]
        },
        {
          "output_type": "stream",
          "name": "stderr",
          "text": [
            " 13%|█▎        | 2.698666666666685/21 [01:14<08:14, 27.01s/it] "
          ]
        },
        {
          "output_type": "stream",
          "name": "stdout",
          "text": [
            "Train Epoch: 3 [66560/84843 (78%)]\tLoss: 0.220438\n"
          ]
        },
        {
          "output_type": "stream",
          "name": "stderr",
          "text": [
            " 13%|█▎        | 2.7520000000000215/21 [01:15<08:10, 26.87s/it]"
          ]
        },
        {
          "output_type": "stream",
          "name": "stdout",
          "text": [
            "Train Epoch: 3 [71680/84843 (84%)]\tLoss: 0.152190\n"
          ]
        },
        {
          "output_type": "stream",
          "name": "stderr",
          "text": [
            " 13%|█▎        | 2.805333333333358/21 [01:16<08:23, 27.69s/it] "
          ]
        },
        {
          "output_type": "stream",
          "name": "stdout",
          "text": [
            "Train Epoch: 3 [76800/84843 (90%)]\tLoss: 0.193379\n"
          ]
        },
        {
          "output_type": "stream",
          "name": "stderr",
          "text": [
            " 14%|█▎        | 2.8586666666666942/21 [01:18<08:19, 27.54s/it]"
          ]
        },
        {
          "output_type": "stream",
          "name": "stdout",
          "text": [
            "Train Epoch: 3 [81920/84843 (96%)]\tLoss: 0.299046\n"
          ]
        },
        {
          "output_type": "stream",
          "name": "stderr",
          "text": [
            " 14%|█▍        | 3.0026666666667023/21 [01:22<07:51, 26.18s/it]"
          ]
        },
        {
          "output_type": "stream",
          "name": "stdout",
          "text": [
            "\n",
            "Test Epoch: 3\tAccuracy: 9490/11005 (86%)\n",
            "\n",
            "Train Epoch: 4 [0/84843 (0%)]\tLoss: 0.303682\n"
          ]
        },
        {
          "output_type": "stream",
          "name": "stderr",
          "text": [
            " 15%|█▍        | 3.0613333333333723/21 [01:23<08:25, 28.15s/it]"
          ]
        },
        {
          "output_type": "stream",
          "name": "stdout",
          "text": [
            "Train Epoch: 4 [5120/84843 (6%)]\tLoss: 0.201915\n"
          ]
        },
        {
          "output_type": "stream",
          "name": "stderr",
          "text": [
            " 15%|█▍        | 3.1146666666667087/21 [01:25<08:33, 28.73s/it]"
          ]
        },
        {
          "output_type": "stream",
          "name": "stdout",
          "text": [
            "Train Epoch: 4 [10240/84843 (12%)]\tLoss: 0.226626\n"
          ]
        },
        {
          "output_type": "stream",
          "name": "stderr",
          "text": [
            " 15%|█▌        | 3.168000000000045/21 [01:26<08:27, 28.45s/it] "
          ]
        },
        {
          "output_type": "stream",
          "name": "stdout",
          "text": [
            "Train Epoch: 4 [15360/84843 (18%)]\tLoss: 0.205788\n"
          ]
        },
        {
          "output_type": "stream",
          "name": "stderr",
          "text": [
            " 15%|█▌        | 3.2213333333333813/21 [01:28<08:09, 27.53s/it]"
          ]
        },
        {
          "output_type": "stream",
          "name": "stdout",
          "text": [
            "Train Epoch: 4 [20480/84843 (24%)]\tLoss: 0.259819\n"
          ]
        },
        {
          "output_type": "stream",
          "name": "stderr",
          "text": [
            " 16%|█▌        | 3.2746666666667177/21 [01:29<08:03, 27.28s/it]"
          ]
        },
        {
          "output_type": "stream",
          "name": "stdout",
          "text": [
            "Train Epoch: 4 [25600/84843 (30%)]\tLoss: 0.212966\n"
          ]
        },
        {
          "output_type": "stream",
          "name": "stderr",
          "text": [
            " 16%|█▌        | 3.328000000000054/21 [01:31<08:06, 27.50s/it] "
          ]
        },
        {
          "output_type": "stream",
          "name": "stdout",
          "text": [
            "Train Epoch: 4 [30720/84843 (36%)]\tLoss: 0.243213\n"
          ]
        },
        {
          "output_type": "stream",
          "name": "stderr",
          "text": [
            " 16%|█▌        | 3.3813333333333904/21 [01:32<07:59, 27.24s/it]"
          ]
        },
        {
          "output_type": "stream",
          "name": "stdout",
          "text": [
            "Train Epoch: 4 [35840/84843 (42%)]\tLoss: 0.205898\n"
          ]
        },
        {
          "output_type": "stream",
          "name": "stderr",
          "text": [
            " 16%|█▋        | 3.4346666666667267/21 [01:34<07:58, 27.27s/it]"
          ]
        },
        {
          "output_type": "stream",
          "name": "stdout",
          "text": [
            "Train Epoch: 4 [40960/84843 (48%)]\tLoss: 0.251344\n"
          ]
        },
        {
          "output_type": "stream",
          "name": "stderr",
          "text": [
            " 17%|█▋        | 3.488000000000063/21 [01:35<08:12, 28.12s/it] "
          ]
        },
        {
          "output_type": "stream",
          "name": "stdout",
          "text": [
            "Train Epoch: 4 [46080/84843 (54%)]\tLoss: 0.159101\n"
          ]
        },
        {
          "output_type": "stream",
          "name": "stderr",
          "text": [
            " 17%|█▋        | 3.5413333333333994/21 [01:37<08:01, 27.56s/it]"
          ]
        },
        {
          "output_type": "stream",
          "name": "stdout",
          "text": [
            "Train Epoch: 4 [51200/84843 (60%)]\tLoss: 0.225010\n"
          ]
        },
        {
          "output_type": "stream",
          "name": "stderr",
          "text": [
            " 17%|█▋        | 3.5946666666667357/21 [01:38<08:06, 27.94s/it]"
          ]
        },
        {
          "output_type": "stream",
          "name": "stdout",
          "text": [
            "Train Epoch: 4 [56320/84843 (66%)]\tLoss: 0.194666\n"
          ]
        },
        {
          "output_type": "stream",
          "name": "stderr",
          "text": [
            " 17%|█▋        | 3.648000000000072/21 [01:40<08:17, 28.69s/it] "
          ]
        },
        {
          "output_type": "stream",
          "name": "stdout",
          "text": [
            "Train Epoch: 4 [61440/84843 (72%)]\tLoss: 0.267000\n"
          ]
        },
        {
          "output_type": "stream",
          "name": "stderr",
          "text": [
            " 18%|█▊        | 3.7013333333334084/21 [01:41<08:24, 29.19s/it]"
          ]
        },
        {
          "output_type": "stream",
          "name": "stdout",
          "text": [
            "Train Epoch: 4 [66560/84843 (78%)]\tLoss: 0.247906\n"
          ]
        },
        {
          "output_type": "stream",
          "name": "stderr",
          "text": [
            " 18%|█▊        | 3.7546666666667448/21 [01:43<08:03, 28.05s/it]"
          ]
        },
        {
          "output_type": "stream",
          "name": "stdout",
          "text": [
            "Train Epoch: 4 [71680/84843 (84%)]\tLoss: 0.184265\n"
          ]
        },
        {
          "output_type": "stream",
          "name": "stderr",
          "text": [
            " 18%|█▊        | 3.808000000000081/21 [01:44<07:55, 27.63s/it] "
          ]
        },
        {
          "output_type": "stream",
          "name": "stdout",
          "text": [
            "Train Epoch: 4 [76800/84843 (90%)]\tLoss: 0.197329\n"
          ]
        },
        {
          "output_type": "stream",
          "name": "stderr",
          "text": [
            " 18%|█▊        | 3.8613333333334174/21 [01:46<07:50, 27.45s/it]"
          ]
        },
        {
          "output_type": "stream",
          "name": "stdout",
          "text": [
            "Train Epoch: 4 [81920/84843 (96%)]\tLoss: 0.126463\n"
          ]
        },
        {
          "output_type": "stream",
          "name": "stderr",
          "text": [
            " 19%|█▉        | 4.005333333333424/21 [01:49<07:28, 26.39s/it] "
          ]
        },
        {
          "output_type": "stream",
          "name": "stdout",
          "text": [
            "\n",
            "Test Epoch: 4\tAccuracy: 9489/11005 (86%)\n",
            "\n",
            "Train Epoch: 5 [0/84843 (0%)]\tLoss: 0.279174\n"
          ]
        },
        {
          "output_type": "stream",
          "name": "stderr",
          "text": [
            " 19%|█▉        | 4.058666666666752/21 [01:51<07:45, 27.49s/it]"
          ]
        },
        {
          "output_type": "stream",
          "name": "stdout",
          "text": [
            "Train Epoch: 5 [5120/84843 (6%)]\tLoss: 0.267196\n"
          ]
        },
        {
          "output_type": "stream",
          "name": "stderr",
          "text": [
            " 20%|█▉        | 4.112000000000079/21 [01:52<07:34, 26.89s/it]"
          ]
        },
        {
          "output_type": "stream",
          "name": "stdout",
          "text": [
            "Train Epoch: 5 [10240/84843 (12%)]\tLoss: 0.245449\n"
          ]
        },
        {
          "output_type": "stream",
          "name": "stderr",
          "text": [
            " 20%|█▉        | 4.165333333333407/21 [01:54<07:43, 27.51s/it]"
          ]
        },
        {
          "output_type": "stream",
          "name": "stdout",
          "text": [
            "Train Epoch: 5 [15360/84843 (18%)]\tLoss: 0.221584\n"
          ]
        },
        {
          "output_type": "stream",
          "name": "stderr",
          "text": [
            " 20%|██        | 4.218666666666734/21 [01:55<07:49, 27.99s/it]"
          ]
        },
        {
          "output_type": "stream",
          "name": "stdout",
          "text": [
            "Train Epoch: 5 [20480/84843 (24%)]\tLoss: 0.264414\n"
          ]
        },
        {
          "output_type": "stream",
          "name": "stderr",
          "text": [
            " 20%|██        | 4.2720000000000615/21 [01:57<07:50, 28.10s/it]"
          ]
        },
        {
          "output_type": "stream",
          "name": "stdout",
          "text": [
            "Train Epoch: 5 [25600/84843 (30%)]\tLoss: 0.227336\n"
          ]
        },
        {
          "output_type": "stream",
          "name": "stderr",
          "text": [
            " 21%|██        | 4.325333333333389/21 [01:58<07:55, 28.54s/it]"
          ]
        },
        {
          "output_type": "stream",
          "name": "stdout",
          "text": [
            "Train Epoch: 5 [30720/84843 (36%)]\tLoss: 0.250272\n"
          ]
        },
        {
          "output_type": "stream",
          "name": "stderr",
          "text": [
            " 21%|██        | 4.3786666666667164/21 [02:00<07:58, 28.77s/it]"
          ]
        },
        {
          "output_type": "stream",
          "name": "stdout",
          "text": [
            "Train Epoch: 5 [35840/84843 (42%)]\tLoss: 0.328904\n"
          ]
        },
        {
          "output_type": "stream",
          "name": "stderr",
          "text": [
            " 21%|██        | 4.432000000000044/21 [02:01<07:39, 27.75s/it]"
          ]
        },
        {
          "output_type": "stream",
          "name": "stdout",
          "text": [
            "Train Epoch: 5 [40960/84843 (48%)]\tLoss: 0.189681\n"
          ]
        },
        {
          "output_type": "stream",
          "name": "stderr",
          "text": [
            " 21%|██▏       | 4.485333333333371/21 [02:03<07:30, 27.30s/it]"
          ]
        },
        {
          "output_type": "stream",
          "name": "stdout",
          "text": [
            "Train Epoch: 5 [46080/84843 (54%)]\tLoss: 0.173287\n"
          ]
        },
        {
          "output_type": "stream",
          "name": "stderr",
          "text": [
            " 22%|██▏       | 4.538666666666699/21 [02:04<07:30, 27.36s/it]"
          ]
        },
        {
          "output_type": "stream",
          "name": "stdout",
          "text": [
            "Train Epoch: 5 [51200/84843 (60%)]\tLoss: 0.294050\n"
          ]
        },
        {
          "output_type": "stream",
          "name": "stderr",
          "text": [
            " 22%|██▏       | 4.592000000000026/21 [02:06<07:23, 27.00s/it] "
          ]
        },
        {
          "output_type": "stream",
          "name": "stdout",
          "text": [
            "Train Epoch: 5 [56320/84843 (66%)]\tLoss: 0.237859\n"
          ]
        },
        {
          "output_type": "stream",
          "name": "stderr",
          "text": [
            " 22%|██▏       | 4.645333333333354/21 [02:07<07:20, 26.91s/it]"
          ]
        },
        {
          "output_type": "stream",
          "name": "stdout",
          "text": [
            "Train Epoch: 5 [61440/84843 (72%)]\tLoss: 0.266121\n"
          ]
        },
        {
          "output_type": "stream",
          "name": "stderr",
          "text": [
            " 22%|██▏       | 4.698666666666681/21 [02:08<07:22, 27.13s/it] "
          ]
        },
        {
          "output_type": "stream",
          "name": "stdout",
          "text": [
            "Train Epoch: 5 [66560/84843 (78%)]\tLoss: 0.243973\n"
          ]
        },
        {
          "output_type": "stream",
          "name": "stderr",
          "text": [
            " 23%|██▎       | 4.752000000000009/21 [02:10<07:18, 26.99s/it]"
          ]
        },
        {
          "output_type": "stream",
          "name": "stdout",
          "text": [
            "Train Epoch: 5 [71680/84843 (84%)]\tLoss: 0.274740\n"
          ]
        },
        {
          "output_type": "stream",
          "name": "stderr",
          "text": [
            " 23%|██▎       | 4.805333333333336/21 [02:11<07:29, 27.75s/it]"
          ]
        },
        {
          "output_type": "stream",
          "name": "stdout",
          "text": [
            "Train Epoch: 5 [76800/84843 (90%)]\tLoss: 0.166563\n"
          ]
        },
        {
          "output_type": "stream",
          "name": "stderr",
          "text": [
            " 23%|██▎       | 4.858666666666664/21 [02:13<07:37, 28.35s/it]"
          ]
        },
        {
          "output_type": "stream",
          "name": "stdout",
          "text": [
            "Train Epoch: 5 [81920/84843 (96%)]\tLoss: 0.227638\n"
          ]
        },
        {
          "output_type": "stream",
          "name": "stderr",
          "text": [
            " 24%|██▍       | 5.002666666666648/21 [02:17<07:12, 27.03s/it]"
          ]
        },
        {
          "output_type": "stream",
          "name": "stdout",
          "text": [
            "\n",
            "Test Epoch: 5\tAccuracy: 9506/11005 (86%)\n",
            "\n",
            "Train Epoch: 6 [0/84843 (0%)]\tLoss: 0.206949\n"
          ]
        },
        {
          "output_type": "stream",
          "name": "stderr",
          "text": [
            " 24%|██▍       | 5.061333333333308/21 [02:18<07:11, 27.04s/it]"
          ]
        },
        {
          "output_type": "stream",
          "name": "stdout",
          "text": [
            "Train Epoch: 6 [5120/84843 (6%)]\tLoss: 0.160074\n"
          ]
        },
        {
          "output_type": "stream",
          "name": "stderr",
          "text": [
            " 24%|██▍       | 5.114666666666635/21 [02:20<07:06, 26.86s/it]"
          ]
        },
        {
          "output_type": "stream",
          "name": "stdout",
          "text": [
            "Train Epoch: 6 [10240/84843 (12%)]\tLoss: 0.305264\n"
          ]
        },
        {
          "output_type": "stream",
          "name": "stderr",
          "text": [
            " 25%|██▍       | 5.167999999999963/21 [02:21<07:15, 27.54s/it]"
          ]
        },
        {
          "output_type": "stream",
          "name": "stdout",
          "text": [
            "Train Epoch: 6 [15360/84843 (18%)]\tLoss: 0.217672\n"
          ]
        },
        {
          "output_type": "stream",
          "name": "stderr",
          "text": [
            " 25%|██▍       | 5.22133333333329/21 [02:23<07:03, 26.86s/it] "
          ]
        },
        {
          "output_type": "stream",
          "name": "stdout",
          "text": [
            "Train Epoch: 6 [20480/84843 (24%)]\tLoss: 0.228065\n"
          ]
        },
        {
          "output_type": "stream",
          "name": "stderr",
          "text": [
            " 25%|██▌       | 5.274666666666618/21 [02:24<07:10, 27.36s/it]"
          ]
        },
        {
          "output_type": "stream",
          "name": "stdout",
          "text": [
            "Train Epoch: 6 [25600/84843 (30%)]\tLoss: 0.301522\n"
          ]
        },
        {
          "output_type": "stream",
          "name": "stderr",
          "text": [
            " 25%|██▌       | 5.327999999999945/21 [02:26<06:55, 26.53s/it] "
          ]
        },
        {
          "output_type": "stream",
          "name": "stdout",
          "text": [
            "Train Epoch: 6 [30720/84843 (36%)]\tLoss: 0.230846\n"
          ]
        },
        {
          "output_type": "stream",
          "name": "stderr",
          "text": [
            " 26%|██▌       | 5.381333333333273/21 [02:27<07:07, 27.39s/it]"
          ]
        },
        {
          "output_type": "stream",
          "name": "stdout",
          "text": [
            "Train Epoch: 6 [35840/84843 (42%)]\tLoss: 0.249937\n"
          ]
        },
        {
          "output_type": "stream",
          "name": "stderr",
          "text": [
            " 26%|██▌       | 5.4346666666666/21 [02:28<07:17, 28.10s/it]  "
          ]
        },
        {
          "output_type": "stream",
          "name": "stdout",
          "text": [
            "Train Epoch: 6 [40960/84843 (48%)]\tLoss: 0.259578\n"
          ]
        },
        {
          "output_type": "stream",
          "name": "stderr",
          "text": [
            " 26%|██▌       | 5.487999999999928/21 [02:30<07:09, 27.70s/it]"
          ]
        },
        {
          "output_type": "stream",
          "name": "stdout",
          "text": [
            "Train Epoch: 6 [46080/84843 (54%)]\tLoss: 0.226814\n"
          ]
        },
        {
          "output_type": "stream",
          "name": "stderr",
          "text": [
            " 26%|██▋       | 5.541333333333255/21 [02:31<07:19, 28.41s/it]"
          ]
        },
        {
          "output_type": "stream",
          "name": "stdout",
          "text": [
            "Train Epoch: 6 [51200/84843 (60%)]\tLoss: 0.209522\n"
          ]
        },
        {
          "output_type": "stream",
          "name": "stderr",
          "text": [
            " 27%|██▋       | 5.5946666666665825/21 [02:33<07:11, 28.01s/it]"
          ]
        },
        {
          "output_type": "stream",
          "name": "stdout",
          "text": [
            "Train Epoch: 6 [56320/84843 (66%)]\tLoss: 0.224744\n"
          ]
        },
        {
          "output_type": "stream",
          "name": "stderr",
          "text": [
            " 27%|██▋       | 5.64799999999991/21 [02:34<07:02, 27.54s/it] "
          ]
        },
        {
          "output_type": "stream",
          "name": "stdout",
          "text": [
            "Train Epoch: 6 [61440/84843 (72%)]\tLoss: 0.232547\n"
          ]
        },
        {
          "output_type": "stream",
          "name": "stderr",
          "text": [
            " 27%|██▋       | 5.701333333333237/21 [02:36<06:56, 27.20s/it]"
          ]
        },
        {
          "output_type": "stream",
          "name": "stdout",
          "text": [
            "Train Epoch: 6 [66560/84843 (78%)]\tLoss: 0.256483\n"
          ]
        },
        {
          "output_type": "stream",
          "name": "stderr",
          "text": [
            " 27%|██▋       | 5.754666666666565/21 [02:37<06:52, 27.08s/it]"
          ]
        },
        {
          "output_type": "stream",
          "name": "stdout",
          "text": [
            "Train Epoch: 6 [71680/84843 (84%)]\tLoss: 0.149412\n"
          ]
        },
        {
          "output_type": "stream",
          "name": "stderr",
          "text": [
            " 28%|██▊       | 5.807999999999892/21 [02:39<06:49, 26.99s/it]"
          ]
        },
        {
          "output_type": "stream",
          "name": "stdout",
          "text": [
            "Train Epoch: 6 [76800/84843 (90%)]\tLoss: 0.232823\n"
          ]
        },
        {
          "output_type": "stream",
          "name": "stderr",
          "text": [
            " 28%|██▊       | 5.86133333333322/21 [02:40<06:51, 27.17s/it] "
          ]
        },
        {
          "output_type": "stream",
          "name": "stdout",
          "text": [
            "Train Epoch: 6 [81920/84843 (96%)]\tLoss: 0.195468\n"
          ]
        },
        {
          "output_type": "stream",
          "name": "stderr",
          "text": [
            " 29%|██▊       | 6.005333333333204/21 [02:44<06:44, 26.94s/it]"
          ]
        },
        {
          "output_type": "stream",
          "name": "stdout",
          "text": [
            "\n",
            "Test Epoch: 6\tAccuracy: 9497/11005 (86%)\n",
            "\n",
            "Train Epoch: 7 [0/84843 (0%)]\tLoss: 0.259500\n"
          ]
        },
        {
          "output_type": "stream",
          "name": "stderr",
          "text": [
            " 29%|██▉       | 6.058666666666531/21 [02:45<06:56, 27.86s/it]"
          ]
        },
        {
          "output_type": "stream",
          "name": "stdout",
          "text": [
            "Train Epoch: 7 [5120/84843 (6%)]\tLoss: 0.218218\n"
          ]
        },
        {
          "output_type": "stream",
          "name": "stderr",
          "text": [
            " 29%|██▉       | 6.111999999999859/21 [02:47<07:02, 28.35s/it]"
          ]
        },
        {
          "output_type": "stream",
          "name": "stdout",
          "text": [
            "Train Epoch: 7 [10240/84843 (12%)]\tLoss: 0.194892\n"
          ]
        },
        {
          "output_type": "stream",
          "name": "stderr",
          "text": [
            " 29%|██▉       | 6.165333333333186/21 [02:48<06:47, 27.48s/it]"
          ]
        },
        {
          "output_type": "stream",
          "name": "stdout",
          "text": [
            "Train Epoch: 7 [15360/84843 (18%)]\tLoss: 0.178985\n"
          ]
        },
        {
          "output_type": "stream",
          "name": "stderr",
          "text": [
            " 30%|██▉       | 6.218666666666514/21 [02:50<06:47, 27.55s/it]"
          ]
        },
        {
          "output_type": "stream",
          "name": "stdout",
          "text": [
            "Train Epoch: 7 [20480/84843 (24%)]\tLoss: 0.231239\n"
          ]
        },
        {
          "output_type": "stream",
          "name": "stderr",
          "text": [
            " 30%|██▉       | 6.271999999999841/21 [02:51<06:38, 27.07s/it] "
          ]
        },
        {
          "output_type": "stream",
          "name": "stdout",
          "text": [
            "Train Epoch: 7 [25600/84843 (30%)]\tLoss: 0.138260\n"
          ]
        },
        {
          "output_type": "stream",
          "name": "stderr",
          "text": [
            " 30%|███       | 6.325333333333169/21 [02:53<06:45, 27.66s/it]"
          ]
        },
        {
          "output_type": "stream",
          "name": "stdout",
          "text": [
            "Train Epoch: 7 [30720/84843 (36%)]\tLoss: 0.194406\n"
          ]
        },
        {
          "output_type": "stream",
          "name": "stderr",
          "text": [
            " 30%|███       | 6.378666666666496/21 [02:54<06:45, 27.74s/it]"
          ]
        },
        {
          "output_type": "stream",
          "name": "stdout",
          "text": [
            "Train Epoch: 7 [35840/84843 (42%)]\tLoss: 0.249467\n"
          ]
        },
        {
          "output_type": "stream",
          "name": "stderr",
          "text": [
            " 31%|███       | 6.431999999999824/21 [02:56<06:34, 27.09s/it]"
          ]
        },
        {
          "output_type": "stream",
          "name": "stdout",
          "text": [
            "Train Epoch: 7 [40960/84843 (48%)]\tLoss: 0.253443\n"
          ]
        },
        {
          "output_type": "stream",
          "name": "stderr",
          "text": [
            " 31%|███       | 6.485333333333151/21 [02:57<06:32, 27.04s/it]"
          ]
        },
        {
          "output_type": "stream",
          "name": "stdout",
          "text": [
            "Train Epoch: 7 [46080/84843 (54%)]\tLoss: 0.153156\n"
          ]
        },
        {
          "output_type": "stream",
          "name": "stderr",
          "text": [
            " 31%|███       | 6.5386666666664786/21 [02:59<06:33, 27.22s/it]"
          ]
        },
        {
          "output_type": "stream",
          "name": "stdout",
          "text": [
            "Train Epoch: 7 [51200/84843 (60%)]\tLoss: 0.204343\n"
          ]
        },
        {
          "output_type": "stream",
          "name": "stderr",
          "text": [
            " 31%|███▏      | 6.591999999999806/21 [03:00<06:45, 28.17s/it]"
          ]
        },
        {
          "output_type": "stream",
          "name": "stdout",
          "text": [
            "Train Epoch: 7 [56320/84843 (66%)]\tLoss: 0.271288\n"
          ]
        },
        {
          "output_type": "stream",
          "name": "stderr",
          "text": [
            " 32%|███▏      | 6.6453333333331335/21 [03:02<06:51, 28.69s/it]"
          ]
        },
        {
          "output_type": "stream",
          "name": "stdout",
          "text": [
            "Train Epoch: 7 [61440/84843 (72%)]\tLoss: 0.251559\n"
          ]
        },
        {
          "output_type": "stream",
          "name": "stderr",
          "text": [
            " 32%|███▏      | 6.698666666666461/21 [03:03<06:47, 28.50s/it]"
          ]
        },
        {
          "output_type": "stream",
          "name": "stdout",
          "text": [
            "Train Epoch: 7 [66560/84843 (78%)]\tLoss: 0.170940\n"
          ]
        },
        {
          "output_type": "stream",
          "name": "stderr",
          "text": [
            " 32%|███▏      | 6.751999999999788/21 [03:05<06:33, 27.65s/it]"
          ]
        },
        {
          "output_type": "stream",
          "name": "stdout",
          "text": [
            "Train Epoch: 7 [71680/84843 (84%)]\tLoss: 0.268592\n"
          ]
        },
        {
          "output_type": "stream",
          "name": "stderr",
          "text": [
            " 32%|███▏      | 6.805333333333116/21 [03:06<06:30, 27.52s/it]"
          ]
        },
        {
          "output_type": "stream",
          "name": "stdout",
          "text": [
            "Train Epoch: 7 [76800/84843 (90%)]\tLoss: 0.289016\n"
          ]
        },
        {
          "output_type": "stream",
          "name": "stderr",
          "text": [
            " 33%|███▎      | 6.858666666666443/21 [03:08<06:22, 27.07s/it]"
          ]
        },
        {
          "output_type": "stream",
          "name": "stdout",
          "text": [
            "Train Epoch: 7 [81920/84843 (96%)]\tLoss: 0.198915\n"
          ]
        },
        {
          "output_type": "stream",
          "name": "stderr",
          "text": [
            " 33%|███▎      | 7.0026666666664275/21 [03:11<06:07, 26.24s/it]"
          ]
        },
        {
          "output_type": "stream",
          "name": "stdout",
          "text": [
            "\n",
            "Test Epoch: 7\tAccuracy: 9479/11005 (86%)\n",
            "\n",
            "Train Epoch: 8 [0/84843 (0%)]\tLoss: 0.265213\n"
          ]
        },
        {
          "output_type": "stream",
          "name": "stderr",
          "text": [
            " 34%|███▎      | 7.061333333333088/21 [03:13<06:19, 27.22s/it]"
          ]
        },
        {
          "output_type": "stream",
          "name": "stdout",
          "text": [
            "Train Epoch: 8 [5120/84843 (6%)]\tLoss: 0.267524\n"
          ]
        },
        {
          "output_type": "stream",
          "name": "stderr",
          "text": [
            " 34%|███▍      | 7.114666666666415/21 [03:14<06:13, 26.93s/it]"
          ]
        },
        {
          "output_type": "stream",
          "name": "stdout",
          "text": [
            "Train Epoch: 8 [10240/84843 (12%)]\tLoss: 0.249591\n"
          ]
        },
        {
          "output_type": "stream",
          "name": "stderr",
          "text": [
            " 34%|███▍      | 7.167999999999743/21 [03:16<06:20, 27.48s/it]"
          ]
        },
        {
          "output_type": "stream",
          "name": "stdout",
          "text": [
            "Train Epoch: 8 [15360/84843 (18%)]\tLoss: 0.249199\n"
          ]
        },
        {
          "output_type": "stream",
          "name": "stderr",
          "text": [
            " 34%|███▍      | 7.22133333333307/21 [03:17<06:26, 28.02s/it] "
          ]
        },
        {
          "output_type": "stream",
          "name": "stdout",
          "text": [
            "Train Epoch: 8 [20480/84843 (24%)]\tLoss: 0.124618\n"
          ]
        },
        {
          "output_type": "stream",
          "name": "stderr",
          "text": [
            " 35%|███▍      | 7.2746666666663975/21 [03:19<06:19, 27.67s/it]"
          ]
        },
        {
          "output_type": "stream",
          "name": "stdout",
          "text": [
            "Train Epoch: 8 [25600/84843 (30%)]\tLoss: 0.272852\n"
          ]
        },
        {
          "output_type": "stream",
          "name": "stderr",
          "text": [
            " 35%|███▍      | 7.327999999999725/21 [03:20<06:23, 28.06s/it]"
          ]
        },
        {
          "output_type": "stream",
          "name": "stdout",
          "text": [
            "Train Epoch: 8 [30720/84843 (36%)]\tLoss: 0.294916\n"
          ]
        },
        {
          "output_type": "stream",
          "name": "stderr",
          "text": [
            " 35%|███▌      | 7.381333333333052/21 [03:22<06:33, 28.91s/it]"
          ]
        },
        {
          "output_type": "stream",
          "name": "stdout",
          "text": [
            "Train Epoch: 8 [35840/84843 (42%)]\tLoss: 0.276793\n"
          ]
        },
        {
          "output_type": "stream",
          "name": "stderr",
          "text": [
            " 35%|███▌      | 7.43466666666638/21 [03:23<06:13, 27.54s/it] "
          ]
        },
        {
          "output_type": "stream",
          "name": "stdout",
          "text": [
            "Train Epoch: 8 [40960/84843 (48%)]\tLoss: 0.276711\n"
          ]
        },
        {
          "output_type": "stream",
          "name": "stderr",
          "text": [
            " 36%|███▌      | 7.487999999999707/21 [03:25<06:14, 27.68s/it]"
          ]
        },
        {
          "output_type": "stream",
          "name": "stdout",
          "text": [
            "Train Epoch: 8 [46080/84843 (54%)]\tLoss: 0.238596\n"
          ]
        },
        {
          "output_type": "stream",
          "name": "stderr",
          "text": [
            " 36%|███▌      | 7.541333333333035/21 [03:26<06:13, 27.77s/it]"
          ]
        },
        {
          "output_type": "stream",
          "name": "stdout",
          "text": [
            "Train Epoch: 8 [51200/84843 (60%)]\tLoss: 0.259502\n"
          ]
        },
        {
          "output_type": "stream",
          "name": "stderr",
          "text": [
            " 36%|███▌      | 7.594666666666362/21 [03:28<06:08, 27.51s/it] "
          ]
        },
        {
          "output_type": "stream",
          "name": "stdout",
          "text": [
            "Train Epoch: 8 [56320/84843 (66%)]\tLoss: 0.185874\n"
          ]
        },
        {
          "output_type": "stream",
          "name": "stderr",
          "text": [
            " 36%|███▋      | 7.64799999999969/21 [03:29<06:13, 27.97s/it] "
          ]
        },
        {
          "output_type": "stream",
          "name": "stdout",
          "text": [
            "Train Epoch: 8 [61440/84843 (72%)]\tLoss: 0.178590\n"
          ]
        },
        {
          "output_type": "stream",
          "name": "stderr",
          "text": [
            " 37%|███▋      | 7.701333333333017/21 [03:31<06:05, 27.46s/it]"
          ]
        },
        {
          "output_type": "stream",
          "name": "stdout",
          "text": [
            "Train Epoch: 8 [66560/84843 (78%)]\tLoss: 0.225549\n"
          ]
        },
        {
          "output_type": "stream",
          "name": "stderr",
          "text": [
            " 37%|███▋      | 7.754666666666345/21 [03:32<06:05, 27.59s/it]"
          ]
        },
        {
          "output_type": "stream",
          "name": "stdout",
          "text": [
            "Train Epoch: 8 [71680/84843 (84%)]\tLoss: 0.242525\n"
          ]
        },
        {
          "output_type": "stream",
          "name": "stderr",
          "text": [
            " 37%|███▋      | 7.807999999999672/21 [03:34<06:03, 27.56s/it]"
          ]
        },
        {
          "output_type": "stream",
          "name": "stdout",
          "text": [
            "Train Epoch: 8 [76800/84843 (90%)]\tLoss: 0.162856\n"
          ]
        },
        {
          "output_type": "stream",
          "name": "stderr",
          "text": [
            " 37%|███▋      | 7.8613333333329996/21 [03:35<06:16, 28.67s/it]"
          ]
        },
        {
          "output_type": "stream",
          "name": "stdout",
          "text": [
            "Train Epoch: 8 [81920/84843 (96%)]\tLoss: 0.200458\n"
          ]
        },
        {
          "output_type": "stream",
          "name": "stderr",
          "text": [
            " 38%|███▊      | 8.005333333332985/21 [03:39<05:51, 27.08s/it]"
          ]
        },
        {
          "output_type": "stream",
          "name": "stdout",
          "text": [
            "\n",
            "Test Epoch: 8\tAccuracy: 9504/11005 (86%)\n",
            "\n",
            "Train Epoch: 9 [0/84843 (0%)]\tLoss: 0.229780\n"
          ]
        },
        {
          "output_type": "stream",
          "name": "stderr",
          "text": [
            " 38%|███▊      | 8.058666666666312/21 [03:40<05:53, 27.35s/it]"
          ]
        },
        {
          "output_type": "stream",
          "name": "stdout",
          "text": [
            "Train Epoch: 9 [5120/84843 (6%)]\tLoss: 0.237142\n"
          ]
        },
        {
          "output_type": "stream",
          "name": "stderr",
          "text": [
            " 39%|███▊      | 8.11199999999964/21 [03:42<05:54, 27.52s/it] "
          ]
        },
        {
          "output_type": "stream",
          "name": "stdout",
          "text": [
            "Train Epoch: 9 [10240/84843 (12%)]\tLoss: 0.256475\n"
          ]
        },
        {
          "output_type": "stream",
          "name": "stderr",
          "text": [
            " 39%|███▉      | 8.165333333332967/21 [03:43<05:52, 27.43s/it]"
          ]
        },
        {
          "output_type": "stream",
          "name": "stdout",
          "text": [
            "Train Epoch: 9 [15360/84843 (18%)]\tLoss: 0.153956\n"
          ]
        },
        {
          "output_type": "stream",
          "name": "stderr",
          "text": [
            " 39%|███▉      | 8.218666666666294/21 [03:45<05:46, 27.13s/it]"
          ]
        },
        {
          "output_type": "stream",
          "name": "stdout",
          "text": [
            "Train Epoch: 9 [20480/84843 (24%)]\tLoss: 0.201833\n"
          ]
        },
        {
          "output_type": "stream",
          "name": "stderr",
          "text": [
            " 39%|███▉      | 8.271999999999622/21 [03:46<05:47, 27.27s/it]"
          ]
        },
        {
          "output_type": "stream",
          "name": "stdout",
          "text": [
            "Train Epoch: 9 [25600/84843 (30%)]\tLoss: 0.189822\n"
          ]
        },
        {
          "output_type": "stream",
          "name": "stderr",
          "text": [
            " 40%|███▉      | 8.32533333333295/21 [03:48<05:42, 27.02s/it] "
          ]
        },
        {
          "output_type": "stream",
          "name": "stdout",
          "text": [
            "Train Epoch: 9 [30720/84843 (36%)]\tLoss: 0.219971\n"
          ]
        },
        {
          "output_type": "stream",
          "name": "stderr",
          "text": [
            " 40%|███▉      | 8.378666666666277/21 [03:49<05:48, 27.60s/it]"
          ]
        },
        {
          "output_type": "stream",
          "name": "stdout",
          "text": [
            "Train Epoch: 9 [35840/84843 (42%)]\tLoss: 0.277336\n"
          ]
        },
        {
          "output_type": "stream",
          "name": "stderr",
          "text": [
            " 40%|████      | 8.431999999999604/21 [03:51<05:55, 28.30s/it]"
          ]
        },
        {
          "output_type": "stream",
          "name": "stdout",
          "text": [
            "Train Epoch: 9 [40960/84843 (48%)]\tLoss: 0.237898\n"
          ]
        },
        {
          "output_type": "stream",
          "name": "stderr",
          "text": [
            " 40%|████      | 8.485333333332932/21 [03:52<05:55, 28.40s/it]"
          ]
        },
        {
          "output_type": "stream",
          "name": "stdout",
          "text": [
            "Train Epoch: 9 [46080/84843 (54%)]\tLoss: 0.195312\n"
          ]
        },
        {
          "output_type": "stream",
          "name": "stderr",
          "text": [
            " 41%|████      | 8.53866666666626/21 [03:54<05:58, 28.80s/it] "
          ]
        },
        {
          "output_type": "stream",
          "name": "stdout",
          "text": [
            "Train Epoch: 9 [51200/84843 (60%)]\tLoss: 0.233071\n"
          ]
        },
        {
          "output_type": "stream",
          "name": "stderr",
          "text": [
            " 41%|████      | 8.591999999999587/21 [03:55<05:46, 27.96s/it]"
          ]
        },
        {
          "output_type": "stream",
          "name": "stdout",
          "text": [
            "Train Epoch: 9 [56320/84843 (66%)]\tLoss: 0.166322\n"
          ]
        },
        {
          "output_type": "stream",
          "name": "stderr",
          "text": [
            " 41%|████      | 8.645333333332914/21 [03:57<05:36, 27.23s/it]"
          ]
        },
        {
          "output_type": "stream",
          "name": "stdout",
          "text": [
            "Train Epoch: 9 [61440/84843 (72%)]\tLoss: 0.194345\n"
          ]
        },
        {
          "output_type": "stream",
          "name": "stderr",
          "text": [
            " 41%|████▏     | 8.698666666666242/21 [03:58<05:32, 27.06s/it]"
          ]
        },
        {
          "output_type": "stream",
          "name": "stdout",
          "text": [
            "Train Epoch: 9 [66560/84843 (78%)]\tLoss: 0.167336\n"
          ]
        },
        {
          "output_type": "stream",
          "name": "stderr",
          "text": [
            " 42%|████▏     | 8.751999999999569/21 [04:00<05:31, 27.06s/it]"
          ]
        },
        {
          "output_type": "stream",
          "name": "stdout",
          "text": [
            "Train Epoch: 9 [71680/84843 (84%)]\tLoss: 0.151259\n"
          ]
        },
        {
          "output_type": "stream",
          "name": "stderr",
          "text": [
            " 42%|████▏     | 8.805333333332896/21 [04:01<05:30, 27.12s/it]"
          ]
        },
        {
          "output_type": "stream",
          "name": "stdout",
          "text": [
            "Train Epoch: 9 [76800/84843 (90%)]\tLoss: 0.151572\n"
          ]
        },
        {
          "output_type": "stream",
          "name": "stderr",
          "text": [
            " 42%|████▏     | 8.858666666666224/21 [04:02<05:33, 27.46s/it]"
          ]
        },
        {
          "output_type": "stream",
          "name": "stdout",
          "text": [
            "Train Epoch: 9 [81920/84843 (96%)]\tLoss: 0.307201\n"
          ]
        },
        {
          "output_type": "stream",
          "name": "stderr",
          "text": [
            " 43%|████▎     | 9.002666666666208/21 [04:06<05:17, 26.46s/it]"
          ]
        },
        {
          "output_type": "stream",
          "name": "stdout",
          "text": [
            "\n",
            "Test Epoch: 9\tAccuracy: 9472/11005 (86%)\n",
            "\n",
            "Train Epoch: 10 [0/84843 (0%)]\tLoss: 0.217165\n"
          ]
        },
        {
          "output_type": "stream",
          "name": "stderr",
          "text": [
            " 43%|████▎     | 9.061333333332868/21 [04:08<05:28, 27.48s/it]"
          ]
        },
        {
          "output_type": "stream",
          "name": "stdout",
          "text": [
            "Train Epoch: 10 [5120/84843 (6%)]\tLoss: 0.134354\n"
          ]
        },
        {
          "output_type": "stream",
          "name": "stderr",
          "text": [
            " 43%|████▎     | 9.114666666666196/21 [04:09<05:36, 28.32s/it]"
          ]
        },
        {
          "output_type": "stream",
          "name": "stdout",
          "text": [
            "Train Epoch: 10 [10240/84843 (12%)]\tLoss: 0.222704\n"
          ]
        },
        {
          "output_type": "stream",
          "name": "stderr",
          "text": [
            " 44%|████▎     | 9.167999999999523/21 [04:11<05:35, 28.33s/it]"
          ]
        },
        {
          "output_type": "stream",
          "name": "stdout",
          "text": [
            "Train Epoch: 10 [15360/84843 (18%)]\tLoss: 0.305813\n"
          ]
        },
        {
          "output_type": "stream",
          "name": "stderr",
          "text": [
            " 44%|████▍     | 9.22133333333285/21 [04:12<05:24, 27.51s/it] "
          ]
        },
        {
          "output_type": "stream",
          "name": "stdout",
          "text": [
            "Train Epoch: 10 [20480/84843 (24%)]\tLoss: 0.314396\n"
          ]
        },
        {
          "output_type": "stream",
          "name": "stderr",
          "text": [
            " 44%|████▍     | 9.274666666666178/21 [04:14<05:27, 27.89s/it]"
          ]
        },
        {
          "output_type": "stream",
          "name": "stdout",
          "text": [
            "Train Epoch: 10 [25600/84843 (30%)]\tLoss: 0.189017\n"
          ]
        },
        {
          "output_type": "stream",
          "name": "stderr",
          "text": [
            " 44%|████▍     | 9.327999999999506/21 [04:15<05:19, 27.41s/it]"
          ]
        },
        {
          "output_type": "stream",
          "name": "stdout",
          "text": [
            "Train Epoch: 10 [30720/84843 (36%)]\tLoss: 0.284802\n"
          ]
        },
        {
          "output_type": "stream",
          "name": "stderr",
          "text": [
            " 45%|████▍     | 9.381333333332833/21 [04:17<05:10, 26.70s/it]"
          ]
        },
        {
          "output_type": "stream",
          "name": "stdout",
          "text": [
            "Train Epoch: 10 [35840/84843 (42%)]\tLoss: 0.228148\n"
          ]
        },
        {
          "output_type": "stream",
          "name": "stderr",
          "text": [
            " 45%|████▍     | 9.43466666666616/21 [04:18<05:12, 27.05s/it] "
          ]
        },
        {
          "output_type": "stream",
          "name": "stdout",
          "text": [
            "Train Epoch: 10 [40960/84843 (48%)]\tLoss: 0.308836\n"
          ]
        },
        {
          "output_type": "stream",
          "name": "stderr",
          "text": [
            " 45%|████▌     | 9.487999999999488/21 [04:20<05:13, 27.23s/it]"
          ]
        },
        {
          "output_type": "stream",
          "name": "stdout",
          "text": [
            "Train Epoch: 10 [46080/84843 (54%)]\tLoss: 0.165792\n"
          ]
        },
        {
          "output_type": "stream",
          "name": "stderr",
          "text": [
            " 45%|████▌     | 9.541333333332815/21 [04:21<05:09, 26.97s/it]"
          ]
        },
        {
          "output_type": "stream",
          "name": "stdout",
          "text": [
            "Train Epoch: 10 [51200/84843 (60%)]\tLoss: 0.274766\n"
          ]
        },
        {
          "output_type": "stream",
          "name": "stderr",
          "text": [
            " 46%|████▌     | 9.58933333333281/21 [04:22<05:13, 27.52s/it] "
          ]
        },
        {
          "output_type": "stream",
          "name": "stdout",
          "text": [
            "Train Epoch: 10 [56320/84843 (66%)]\tLoss: 0.282035\n"
          ]
        },
        {
          "output_type": "stream",
          "name": "stderr",
          "text": [
            " 46%|████▌     | 9.64799999999947/21 [04:24<05:22, 28.39s/it] "
          ]
        },
        {
          "output_type": "stream",
          "name": "stdout",
          "text": [
            "Train Epoch: 10 [61440/84843 (72%)]\tLoss: 0.275976\n"
          ]
        },
        {
          "output_type": "stream",
          "name": "stderr",
          "text": [
            " 46%|████▌     | 9.701333333332798/21 [04:26<05:21, 28.41s/it]"
          ]
        },
        {
          "output_type": "stream",
          "name": "stdout",
          "text": [
            "Train Epoch: 10 [66560/84843 (78%)]\tLoss: 0.178048\n"
          ]
        },
        {
          "output_type": "stream",
          "name": "stderr",
          "text": [
            " 46%|████▋     | 9.754666666666125/21 [04:27<05:14, 27.94s/it]"
          ]
        },
        {
          "output_type": "stream",
          "name": "stdout",
          "text": [
            "Train Epoch: 10 [71680/84843 (84%)]\tLoss: 0.247896\n"
          ]
        },
        {
          "output_type": "stream",
          "name": "stderr",
          "text": [
            " 47%|████▋     | 9.807999999999453/21 [04:29<05:11, 27.80s/it]"
          ]
        },
        {
          "output_type": "stream",
          "name": "stdout",
          "text": [
            "Train Epoch: 10 [76800/84843 (90%)]\tLoss: 0.219832\n"
          ]
        },
        {
          "output_type": "stream",
          "name": "stderr",
          "text": [
            " 47%|████▋     | 9.86133333333278/21 [04:30<05:11, 27.94s/it] "
          ]
        },
        {
          "output_type": "stream",
          "name": "stdout",
          "text": [
            "Train Epoch: 10 [81920/84843 (96%)]\tLoss: 0.213012\n"
          ]
        },
        {
          "output_type": "stream",
          "name": "stderr",
          "text": [
            " 48%|████▊     | 10.005333333332764/21 [04:34<04:48, 26.20s/it]"
          ]
        },
        {
          "output_type": "stream",
          "name": "stdout",
          "text": [
            "\n",
            "Test Epoch: 10\tAccuracy: 9493/11005 (86%)\n",
            "\n",
            "Train Epoch: 11 [0/84843 (0%)]\tLoss: 0.222142\n"
          ]
        },
        {
          "output_type": "stream",
          "name": "stderr",
          "text": [
            " 48%|████▊     | 10.058666666666092/21 [04:35<05:05, 27.89s/it]"
          ]
        },
        {
          "output_type": "stream",
          "name": "stdout",
          "text": [
            "Train Epoch: 11 [5120/84843 (6%)]\tLoss: 0.168908\n"
          ]
        },
        {
          "output_type": "stream",
          "name": "stderr",
          "text": [
            " 48%|████▊     | 10.11199999999942/21 [04:37<04:57, 27.32s/it] "
          ]
        },
        {
          "output_type": "stream",
          "name": "stdout",
          "text": [
            "Train Epoch: 11 [10240/84843 (12%)]\tLoss: 0.234354\n"
          ]
        },
        {
          "output_type": "stream",
          "name": "stderr",
          "text": [
            " 48%|████▊     | 10.165333333332747/21 [04:38<04:57, 27.42s/it]"
          ]
        },
        {
          "output_type": "stream",
          "name": "stdout",
          "text": [
            "Train Epoch: 11 [15360/84843 (18%)]\tLoss: 0.189027\n"
          ]
        },
        {
          "output_type": "stream",
          "name": "stderr",
          "text": [
            " 49%|████▊     | 10.218666666666074/21 [04:40<05:00, 27.84s/it]"
          ]
        },
        {
          "output_type": "stream",
          "name": "stdout",
          "text": [
            "Train Epoch: 11 [20480/84843 (24%)]\tLoss: 0.217341\n"
          ]
        },
        {
          "output_type": "stream",
          "name": "stderr",
          "text": [
            " 49%|████▉     | 10.271999999999402/21 [04:41<05:09, 28.82s/it]"
          ]
        },
        {
          "output_type": "stream",
          "name": "stdout",
          "text": [
            "Train Epoch: 11 [25600/84843 (30%)]\tLoss: 0.276965\n"
          ]
        },
        {
          "output_type": "stream",
          "name": "stderr",
          "text": [
            " 49%|████▉     | 10.325333333332729/21 [04:43<05:02, 28.33s/it]"
          ]
        },
        {
          "output_type": "stream",
          "name": "stdout",
          "text": [
            "Train Epoch: 11 [30720/84843 (36%)]\tLoss: 0.241909\n"
          ]
        },
        {
          "output_type": "stream",
          "name": "stderr",
          "text": [
            " 49%|████▉     | 10.378666666666057/21 [04:44<05:00, 28.32s/it]"
          ]
        },
        {
          "output_type": "stream",
          "name": "stdout",
          "text": [
            "Train Epoch: 11 [35840/84843 (42%)]\tLoss: 0.220796\n"
          ]
        },
        {
          "output_type": "stream",
          "name": "stderr",
          "text": [
            " 50%|████▉     | 10.431999999999384/21 [04:46<04:44, 26.95s/it]"
          ]
        },
        {
          "output_type": "stream",
          "name": "stdout",
          "text": [
            "Train Epoch: 11 [40960/84843 (48%)]\tLoss: 0.195172\n"
          ]
        },
        {
          "output_type": "stream",
          "name": "stderr",
          "text": [
            " 50%|████▉     | 10.485333333332711/21 [04:47<04:46, 27.22s/it]"
          ]
        },
        {
          "output_type": "stream",
          "name": "stdout",
          "text": [
            "Train Epoch: 11 [46080/84843 (54%)]\tLoss: 0.276823\n"
          ]
        },
        {
          "output_type": "stream",
          "name": "stderr",
          "text": [
            " 50%|█████     | 10.538666666666039/21 [04:48<04:44, 27.15s/it]"
          ]
        },
        {
          "output_type": "stream",
          "name": "stdout",
          "text": [
            "Train Epoch: 11 [51200/84843 (60%)]\tLoss: 0.277289\n"
          ]
        },
        {
          "output_type": "stream",
          "name": "stderr",
          "text": [
            " 50%|█████     | 10.591999999999366/21 [04:50<04:42, 27.19s/it]"
          ]
        },
        {
          "output_type": "stream",
          "name": "stdout",
          "text": [
            "Train Epoch: 11 [56320/84843 (66%)]\tLoss: 0.191753\n"
          ]
        },
        {
          "output_type": "stream",
          "name": "stderr",
          "text": [
            " 51%|█████     | 10.645333333332694/21 [04:51<04:41, 27.17s/it]"
          ]
        },
        {
          "output_type": "stream",
          "name": "stdout",
          "text": [
            "Train Epoch: 11 [61440/84843 (72%)]\tLoss: 0.171052\n"
          ]
        },
        {
          "output_type": "stream",
          "name": "stderr",
          "text": [
            " 51%|█████     | 10.698666666666021/21 [04:53<04:33, 26.59s/it]"
          ]
        },
        {
          "output_type": "stream",
          "name": "stdout",
          "text": [
            "Train Epoch: 11 [66560/84843 (78%)]\tLoss: 0.177733\n"
          ]
        },
        {
          "output_type": "stream",
          "name": "stderr",
          "text": [
            " 51%|█████     | 10.751999999999349/21 [04:54<04:38, 27.15s/it]"
          ]
        },
        {
          "output_type": "stream",
          "name": "stdout",
          "text": [
            "Train Epoch: 11 [71680/84843 (84%)]\tLoss: 0.235159\n"
          ]
        },
        {
          "output_type": "stream",
          "name": "stderr",
          "text": [
            " 51%|█████▏    | 10.805333333332676/21 [04:56<04:43, 27.80s/it]"
          ]
        },
        {
          "output_type": "stream",
          "name": "stdout",
          "text": [
            "Train Epoch: 11 [76800/84843 (90%)]\tLoss: 0.262687\n"
          ]
        },
        {
          "output_type": "stream",
          "name": "stderr",
          "text": [
            " 52%|█████▏    | 10.858666666666004/21 [04:57<04:48, 28.41s/it]"
          ]
        },
        {
          "output_type": "stream",
          "name": "stdout",
          "text": [
            "Train Epoch: 11 [81920/84843 (96%)]\tLoss: 0.245863\n"
          ]
        },
        {
          "output_type": "stream",
          "name": "stderr",
          "text": [
            " 52%|█████▏    | 11.002666666665988/21 [05:01<04:32, 27.25s/it]"
          ]
        },
        {
          "output_type": "stream",
          "name": "stdout",
          "text": [
            "\n",
            "Test Epoch: 11\tAccuracy: 9479/11005 (86%)\n",
            "\n",
            "Train Epoch: 12 [0/84843 (0%)]\tLoss: 0.174687\n"
          ]
        },
        {
          "output_type": "stream",
          "name": "stderr",
          "text": [
            " 53%|█████▎    | 11.061333333332648/21 [05:03<04:23, 26.55s/it]"
          ]
        },
        {
          "output_type": "stream",
          "name": "stdout",
          "text": [
            "Train Epoch: 12 [5120/84843 (6%)]\tLoss: 0.191696\n"
          ]
        },
        {
          "output_type": "stream",
          "name": "stderr",
          "text": [
            " 53%|█████▎    | 11.114666666665975/21 [05:04<04:26, 26.95s/it]"
          ]
        },
        {
          "output_type": "stream",
          "name": "stdout",
          "text": [
            "Train Epoch: 12 [10240/84843 (12%)]\tLoss: 0.207158\n"
          ]
        },
        {
          "output_type": "stream",
          "name": "stderr",
          "text": [
            " 53%|█████▎    | 11.167999999999303/21 [05:05<04:25, 26.98s/it]"
          ]
        },
        {
          "output_type": "stream",
          "name": "stdout",
          "text": [
            "Train Epoch: 12 [15360/84843 (18%)]\tLoss: 0.237381\n"
          ]
        },
        {
          "output_type": "stream",
          "name": "stderr",
          "text": [
            " 53%|█████▎    | 11.22133333333263/21 [05:07<04:27, 27.33s/it] "
          ]
        },
        {
          "output_type": "stream",
          "name": "stdout",
          "text": [
            "Train Epoch: 12 [20480/84843 (24%)]\tLoss: 0.241774\n"
          ]
        },
        {
          "output_type": "stream",
          "name": "stderr",
          "text": [
            " 54%|█████▎    | 11.274666666665958/21 [05:08<04:20, 26.84s/it]"
          ]
        },
        {
          "output_type": "stream",
          "name": "stdout",
          "text": [
            "Train Epoch: 12 [25600/84843 (30%)]\tLoss: 0.238799\n"
          ]
        },
        {
          "output_type": "stream",
          "name": "stderr",
          "text": [
            " 54%|█████▍    | 11.327999999999285/21 [05:10<04:18, 26.77s/it]"
          ]
        },
        {
          "output_type": "stream",
          "name": "stdout",
          "text": [
            "Train Epoch: 12 [30720/84843 (36%)]\tLoss: 0.241546\n"
          ]
        },
        {
          "output_type": "stream",
          "name": "stderr",
          "text": [
            " 54%|█████▍    | 11.381333333332613/21 [05:11<04:21, 27.22s/it]"
          ]
        },
        {
          "output_type": "stream",
          "name": "stdout",
          "text": [
            "Train Epoch: 12 [35840/84843 (42%)]\tLoss: 0.238438\n"
          ]
        },
        {
          "output_type": "stream",
          "name": "stderr",
          "text": [
            " 54%|█████▍    | 11.43466666666594/21 [05:13<04:22, 27.48s/it] "
          ]
        },
        {
          "output_type": "stream",
          "name": "stdout",
          "text": [
            "Train Epoch: 12 [40960/84843 (48%)]\tLoss: 0.234469\n"
          ]
        },
        {
          "output_type": "stream",
          "name": "stderr",
          "text": [
            " 55%|█████▍    | 11.487999999999268/21 [05:14<04:29, 28.35s/it]"
          ]
        },
        {
          "output_type": "stream",
          "name": "stdout",
          "text": [
            "Train Epoch: 12 [46080/84843 (54%)]\tLoss: 0.177226\n"
          ]
        },
        {
          "output_type": "stream",
          "name": "stderr",
          "text": [
            " 55%|█████▍    | 11.541333333332595/21 [05:16<04:25, 28.10s/it]"
          ]
        },
        {
          "output_type": "stream",
          "name": "stdout",
          "text": [
            "Train Epoch: 12 [51200/84843 (60%)]\tLoss: 0.137587\n"
          ]
        },
        {
          "output_type": "stream",
          "name": "stderr",
          "text": [
            " 55%|█████▌    | 11.594666666665923/21 [05:17<05:06, 32.56s/it]"
          ]
        },
        {
          "output_type": "stream",
          "name": "stdout",
          "text": [
            "Train Epoch: 12 [56320/84843 (66%)]\tLoss: 0.256287\n"
          ]
        },
        {
          "output_type": "stream",
          "name": "stderr",
          "text": [
            " 55%|█████▌    | 11.64799999999925/21 [05:19<04:12, 27.02s/it] "
          ]
        },
        {
          "output_type": "stream",
          "name": "stdout",
          "text": [
            "Train Epoch: 12 [61440/84843 (72%)]\tLoss: 0.287933\n"
          ]
        },
        {
          "output_type": "stream",
          "name": "stderr",
          "text": [
            " 56%|█████▌    | 11.701333333332578/21 [05:20<04:13, 27.22s/it]"
          ]
        },
        {
          "output_type": "stream",
          "name": "stdout",
          "text": [
            "Train Epoch: 12 [66560/84843 (78%)]\tLoss: 0.200098\n"
          ]
        },
        {
          "output_type": "stream",
          "name": "stderr",
          "text": [
            " 56%|█████▌    | 11.754666666665905/21 [05:22<04:09, 26.96s/it]"
          ]
        },
        {
          "output_type": "stream",
          "name": "stdout",
          "text": [
            "Train Epoch: 12 [71680/84843 (84%)]\tLoss: 0.249681\n"
          ]
        },
        {
          "output_type": "stream",
          "name": "stderr",
          "text": [
            " 56%|█████▌    | 11.807999999999232/21 [05:23<04:08, 27.00s/it]"
          ]
        },
        {
          "output_type": "stream",
          "name": "stdout",
          "text": [
            "Train Epoch: 12 [76800/84843 (90%)]\tLoss: 0.210084\n"
          ]
        },
        {
          "output_type": "stream",
          "name": "stderr",
          "text": [
            " 56%|█████▋    | 11.86133333333256/21 [05:24<04:02, 26.55s/it] "
          ]
        },
        {
          "output_type": "stream",
          "name": "stdout",
          "text": [
            "Train Epoch: 12 [81920/84843 (96%)]\tLoss: 0.281937\n"
          ]
        },
        {
          "output_type": "stream",
          "name": "stderr",
          "text": [
            " 57%|█████▋    | 12.005333333332544/21 [05:28<03:56, 26.32s/it]"
          ]
        },
        {
          "output_type": "stream",
          "name": "stdout",
          "text": [
            "\n",
            "Test Epoch: 12\tAccuracy: 9488/11005 (86%)\n",
            "\n",
            "Train Epoch: 13 [0/84843 (0%)]\tLoss: 0.249646\n"
          ]
        },
        {
          "output_type": "stream",
          "name": "stderr",
          "text": [
            " 57%|█████▋    | 12.058666666665872/21 [05:30<04:14, 28.52s/it]"
          ]
        },
        {
          "output_type": "stream",
          "name": "stdout",
          "text": [
            "Train Epoch: 13 [5120/84843 (6%)]\tLoss: 0.252295\n"
          ]
        },
        {
          "output_type": "stream",
          "name": "stderr",
          "text": [
            " 58%|█████▊    | 12.111999999999199/21 [05:31<04:08, 28.01s/it]"
          ]
        },
        {
          "output_type": "stream",
          "name": "stdout",
          "text": [
            "Train Epoch: 13 [10240/84843 (12%)]\tLoss: 0.165721\n"
          ]
        },
        {
          "output_type": "stream",
          "name": "stderr",
          "text": [
            " 58%|█████▊    | 12.165333333332526/21 [05:33<04:08, 28.15s/it]"
          ]
        },
        {
          "output_type": "stream",
          "name": "stdout",
          "text": [
            "Train Epoch: 13 [15360/84843 (18%)]\tLoss: 0.219854\n"
          ]
        },
        {
          "output_type": "stream",
          "name": "stderr",
          "text": [
            " 58%|█████▊    | 12.218666666665854/21 [05:34<04:02, 27.64s/it]"
          ]
        },
        {
          "output_type": "stream",
          "name": "stdout",
          "text": [
            "Train Epoch: 13 [20480/84843 (24%)]\tLoss: 0.261611\n"
          ]
        },
        {
          "output_type": "stream",
          "name": "stderr",
          "text": [
            " 58%|█████▊    | 12.271999999999181/21 [05:36<03:57, 27.19s/it]"
          ]
        },
        {
          "output_type": "stream",
          "name": "stdout",
          "text": [
            "Train Epoch: 13 [25600/84843 (30%)]\tLoss: 0.153389\n"
          ]
        },
        {
          "output_type": "stream",
          "name": "stderr",
          "text": [
            " 59%|█████▊    | 12.325333333332509/21 [05:37<03:56, 27.26s/it]"
          ]
        },
        {
          "output_type": "stream",
          "name": "stdout",
          "text": [
            "Train Epoch: 13 [30720/84843 (36%)]\tLoss: 0.233662\n"
          ]
        },
        {
          "output_type": "stream",
          "name": "stderr",
          "text": [
            " 59%|█████▉    | 12.378666666665836/21 [05:38<03:50, 26.71s/it]"
          ]
        },
        {
          "output_type": "stream",
          "name": "stdout",
          "text": [
            "Train Epoch: 13 [35840/84843 (42%)]\tLoss: 0.221943\n"
          ]
        },
        {
          "output_type": "stream",
          "name": "stderr",
          "text": [
            " 59%|█████▉    | 12.431999999999164/21 [05:40<03:53, 27.20s/it]"
          ]
        },
        {
          "output_type": "stream",
          "name": "stdout",
          "text": [
            "Train Epoch: 13 [40960/84843 (48%)]\tLoss: 0.256258\n"
          ]
        },
        {
          "output_type": "stream",
          "name": "stderr",
          "text": [
            " 59%|█████▉    | 12.485333333332491/21 [05:41<03:50, 27.04s/it]"
          ]
        },
        {
          "output_type": "stream",
          "name": "stdout",
          "text": [
            "Train Epoch: 13 [46080/84843 (54%)]\tLoss: 0.237601\n"
          ]
        },
        {
          "output_type": "stream",
          "name": "stderr",
          "text": [
            " 60%|█████▉    | 12.538666666665819/21 [05:43<03:50, 27.23s/it]"
          ]
        },
        {
          "output_type": "stream",
          "name": "stdout",
          "text": [
            "Train Epoch: 13 [51200/84843 (60%)]\tLoss: 0.240817\n"
          ]
        },
        {
          "output_type": "stream",
          "name": "stderr",
          "text": [
            " 60%|█████▉    | 12.591999999999146/21 [05:44<03:53, 27.80s/it]"
          ]
        },
        {
          "output_type": "stream",
          "name": "stdout",
          "text": [
            "Train Epoch: 13 [56320/84843 (66%)]\tLoss: 0.209221\n"
          ]
        },
        {
          "output_type": "stream",
          "name": "stderr",
          "text": [
            " 60%|██████    | 12.645333333332474/21 [05:46<03:52, 27.78s/it]"
          ]
        },
        {
          "output_type": "stream",
          "name": "stdout",
          "text": [
            "Train Epoch: 13 [61440/84843 (72%)]\tLoss: 0.237205\n"
          ]
        },
        {
          "output_type": "stream",
          "name": "stderr",
          "text": [
            " 60%|██████    | 12.698666666665801/21 [05:47<03:55, 28.35s/it]"
          ]
        },
        {
          "output_type": "stream",
          "name": "stdout",
          "text": [
            "Train Epoch: 13 [66560/84843 (78%)]\tLoss: 0.229519\n"
          ]
        },
        {
          "output_type": "stream",
          "name": "stderr",
          "text": [
            " 61%|██████    | 12.751999999999128/21 [05:49<03:48, 27.76s/it]"
          ]
        },
        {
          "output_type": "stream",
          "name": "stdout",
          "text": [
            "Train Epoch: 13 [71680/84843 (84%)]\tLoss: 0.257503\n"
          ]
        },
        {
          "output_type": "stream",
          "name": "stderr",
          "text": [
            " 61%|██████    | 12.805333333332456/21 [05:50<03:49, 28.03s/it]"
          ]
        },
        {
          "output_type": "stream",
          "name": "stdout",
          "text": [
            "Train Epoch: 13 [76800/84843 (90%)]\tLoss: 0.180813\n"
          ]
        },
        {
          "output_type": "stream",
          "name": "stderr",
          "text": [
            " 61%|██████    | 12.858666666665783/21 [05:52<03:40, 27.05s/it]"
          ]
        },
        {
          "output_type": "stream",
          "name": "stdout",
          "text": [
            "Train Epoch: 13 [81920/84843 (96%)]\tLoss: 0.169493\n"
          ]
        },
        {
          "output_type": "stream",
          "name": "stderr",
          "text": [
            " 62%|██████▏   | 13.002666666665768/21 [05:55<03:29, 26.15s/it]"
          ]
        },
        {
          "output_type": "stream",
          "name": "stdout",
          "text": [
            "\n",
            "Test Epoch: 13\tAccuracy: 9501/11005 (86%)\n",
            "\n",
            "Train Epoch: 14 [0/84843 (0%)]\tLoss: 0.248114\n"
          ]
        },
        {
          "output_type": "stream",
          "name": "stderr",
          "text": [
            " 62%|██████▏   | 13.061333333332428/21 [05:57<03:39, 27.69s/it]"
          ]
        },
        {
          "output_type": "stream",
          "name": "stdout",
          "text": [
            "Train Epoch: 14 [5120/84843 (6%)]\tLoss: 0.269121\n"
          ]
        },
        {
          "output_type": "stream",
          "name": "stderr",
          "text": [
            " 62%|██████▏   | 13.114666666665755/21 [05:58<03:36, 27.50s/it]"
          ]
        },
        {
          "output_type": "stream",
          "name": "stdout",
          "text": [
            "Train Epoch: 14 [10240/84843 (12%)]\tLoss: 0.217470\n"
          ]
        },
        {
          "output_type": "stream",
          "name": "stderr",
          "text": [
            " 63%|██████▎   | 13.167999999999083/21 [06:00<03:34, 27.35s/it]"
          ]
        },
        {
          "output_type": "stream",
          "name": "stdout",
          "text": [
            "Train Epoch: 14 [15360/84843 (18%)]\tLoss: 0.114160\n"
          ]
        },
        {
          "output_type": "stream",
          "name": "stderr",
          "text": [
            " 63%|██████▎   | 13.22133333333241/21 [06:01<03:36, 27.89s/it] "
          ]
        },
        {
          "output_type": "stream",
          "name": "stdout",
          "text": [
            "Train Epoch: 14 [20480/84843 (24%)]\tLoss: 0.174343\n"
          ]
        },
        {
          "output_type": "stream",
          "name": "stderr",
          "text": [
            " 63%|██████▎   | 13.274666666665738/21 [06:03<03:43, 28.87s/it]"
          ]
        },
        {
          "output_type": "stream",
          "name": "stdout",
          "text": [
            "Train Epoch: 14 [25600/84843 (30%)]\tLoss: 0.262405\n"
          ]
        },
        {
          "output_type": "stream",
          "name": "stderr",
          "text": [
            " 63%|██████▎   | 13.327999999999065/21 [06:04<03:37, 28.41s/it]"
          ]
        },
        {
          "output_type": "stream",
          "name": "stdout",
          "text": [
            "Train Epoch: 14 [30720/84843 (36%)]\tLoss: 0.278900\n"
          ]
        },
        {
          "output_type": "stream",
          "name": "stderr",
          "text": [
            " 64%|██████▎   | 13.381333333332392/21 [06:06<03:32, 27.92s/it]"
          ]
        },
        {
          "output_type": "stream",
          "name": "stdout",
          "text": [
            "Train Epoch: 14 [35840/84843 (42%)]\tLoss: 0.249009\n"
          ]
        },
        {
          "output_type": "stream",
          "name": "stderr",
          "text": [
            " 64%|██████▍   | 13.43466666666572/21 [06:07<03:30, 27.80s/it] "
          ]
        },
        {
          "output_type": "stream",
          "name": "stdout",
          "text": [
            "Train Epoch: 14 [40960/84843 (48%)]\tLoss: 0.300477\n"
          ]
        },
        {
          "output_type": "stream",
          "name": "stderr",
          "text": [
            " 64%|██████▍   | 13.487999999999047/21 [06:09<03:24, 27.25s/it]"
          ]
        },
        {
          "output_type": "stream",
          "name": "stdout",
          "text": [
            "Train Epoch: 14 [46080/84843 (54%)]\tLoss: 0.255441\n"
          ]
        },
        {
          "output_type": "stream",
          "name": "stderr",
          "text": [
            " 64%|██████▍   | 13.541333333332375/21 [06:10<03:18, 26.65s/it]"
          ]
        },
        {
          "output_type": "stream",
          "name": "stdout",
          "text": [
            "Train Epoch: 14 [51200/84843 (60%)]\tLoss: 0.206203\n"
          ]
        },
        {
          "output_type": "stream",
          "name": "stderr",
          "text": [
            " 65%|██████▍   | 13.594666666665702/21 [06:12<03:41, 29.89s/it]"
          ]
        },
        {
          "output_type": "stream",
          "name": "stdout",
          "text": [
            "Train Epoch: 14 [56320/84843 (66%)]\tLoss: 0.240408\n"
          ]
        },
        {
          "output_type": "stream",
          "name": "stderr",
          "text": [
            " 65%|██████▍   | 13.64799999999903/21 [06:13<03:23, 27.63s/it] "
          ]
        },
        {
          "output_type": "stream",
          "name": "stdout",
          "text": [
            "Train Epoch: 14 [61440/84843 (72%)]\tLoss: 0.327241\n"
          ]
        },
        {
          "output_type": "stream",
          "name": "stderr",
          "text": [
            " 65%|██████▌   | 13.701333333332357/21 [06:15<03:17, 27.10s/it]"
          ]
        },
        {
          "output_type": "stream",
          "name": "stdout",
          "text": [
            "Train Epoch: 14 [66560/84843 (78%)]\tLoss: 0.221017\n"
          ]
        },
        {
          "output_type": "stream",
          "name": "stderr",
          "text": [
            " 65%|██████▌   | 13.754666666665685/21 [06:16<03:18, 27.43s/it]"
          ]
        },
        {
          "output_type": "stream",
          "name": "stdout",
          "text": [
            "Train Epoch: 14 [71680/84843 (84%)]\tLoss: 0.291131\n"
          ]
        },
        {
          "output_type": "stream",
          "name": "stderr",
          "text": [
            " 66%|██████▌   | 13.807999999999012/21 [06:18<03:19, 27.70s/it]"
          ]
        },
        {
          "output_type": "stream",
          "name": "stdout",
          "text": [
            "Train Epoch: 14 [76800/84843 (90%)]\tLoss: 0.151164\n"
          ]
        },
        {
          "output_type": "stream",
          "name": "stderr",
          "text": [
            " 66%|██████▌   | 13.86133333333234/21 [06:19<03:19, 27.93s/it] "
          ]
        },
        {
          "output_type": "stream",
          "name": "stdout",
          "text": [
            "Train Epoch: 14 [81920/84843 (96%)]\tLoss: 0.252142\n"
          ]
        },
        {
          "output_type": "stream",
          "name": "stderr",
          "text": [
            " 67%|██████▋   | 14.005333333332324/21 [06:23<03:11, 27.37s/it]"
          ]
        },
        {
          "output_type": "stream",
          "name": "stdout",
          "text": [
            "\n",
            "Test Epoch: 14\tAccuracy: 9489/11005 (86%)\n",
            "\n",
            "Train Epoch: 15 [0/84843 (0%)]\tLoss: 0.176329\n"
          ]
        },
        {
          "output_type": "stream",
          "name": "stderr",
          "text": [
            " 67%|██████▋   | 14.058666666665651/21 [06:25<03:07, 26.98s/it]"
          ]
        },
        {
          "output_type": "stream",
          "name": "stdout",
          "text": [
            "Train Epoch: 15 [5120/84843 (6%)]\tLoss: 0.261452\n"
          ]
        },
        {
          "output_type": "stream",
          "name": "stderr",
          "text": [
            " 67%|██████▋   | 14.111999999998979/21 [06:26<03:05, 26.95s/it]"
          ]
        },
        {
          "output_type": "stream",
          "name": "stdout",
          "text": [
            "Train Epoch: 15 [10240/84843 (12%)]\tLoss: 0.280696\n"
          ]
        },
        {
          "output_type": "stream",
          "name": "stderr",
          "text": [
            " 67%|██████▋   | 14.165333333332306/21 [06:27<03:06, 27.22s/it]"
          ]
        },
        {
          "output_type": "stream",
          "name": "stdout",
          "text": [
            "Train Epoch: 15 [15360/84843 (18%)]\tLoss: 0.244037\n"
          ]
        },
        {
          "output_type": "stream",
          "name": "stderr",
          "text": [
            " 68%|██████▊   | 14.218666666665634/21 [06:29<03:04, 27.25s/it]"
          ]
        },
        {
          "output_type": "stream",
          "name": "stdout",
          "text": [
            "Train Epoch: 15 [20480/84843 (24%)]\tLoss: 0.282321\n"
          ]
        },
        {
          "output_type": "stream",
          "name": "stderr",
          "text": [
            " 68%|██████▊   | 14.271999999998961/21 [06:30<03:02, 27.08s/it]"
          ]
        },
        {
          "output_type": "stream",
          "name": "stdout",
          "text": [
            "Train Epoch: 15 [25600/84843 (30%)]\tLoss: 0.258040\n"
          ]
        },
        {
          "output_type": "stream",
          "name": "stderr",
          "text": [
            " 68%|██████▊   | 14.325333333332289/21 [06:32<03:03, 27.45s/it]"
          ]
        },
        {
          "output_type": "stream",
          "name": "stdout",
          "text": [
            "Train Epoch: 15 [30720/84843 (36%)]\tLoss: 0.251439\n"
          ]
        },
        {
          "output_type": "stream",
          "name": "stderr",
          "text": [
            " 68%|██████▊   | 14.378666666665616/21 [06:33<03:03, 27.72s/it]"
          ]
        },
        {
          "output_type": "stream",
          "name": "stdout",
          "text": [
            "Train Epoch: 15 [35840/84843 (42%)]\tLoss: 0.163424\n"
          ]
        },
        {
          "output_type": "stream",
          "name": "stderr",
          "text": [
            " 69%|██████▊   | 14.431999999998943/21 [06:35<03:00, 27.45s/it]"
          ]
        },
        {
          "output_type": "stream",
          "name": "stdout",
          "text": [
            "Train Epoch: 15 [40960/84843 (48%)]\tLoss: 0.142816\n"
          ]
        },
        {
          "output_type": "stream",
          "name": "stderr",
          "text": [
            " 69%|██████▉   | 14.485333333332271/21 [06:36<03:06, 28.57s/it]"
          ]
        },
        {
          "output_type": "stream",
          "name": "stdout",
          "text": [
            "Train Epoch: 15 [46080/84843 (54%)]\tLoss: 0.227809\n"
          ]
        },
        {
          "output_type": "stream",
          "name": "stderr",
          "text": [
            " 69%|██████▉   | 14.538666666665598/21 [06:38<02:57, 27.44s/it]"
          ]
        },
        {
          "output_type": "stream",
          "name": "stdout",
          "text": [
            "Train Epoch: 15 [51200/84843 (60%)]\tLoss: 0.317370\n"
          ]
        },
        {
          "output_type": "stream",
          "name": "stderr",
          "text": [
            " 69%|██████▉   | 14.591999999998926/21 [06:39<03:06, 29.15s/it]"
          ]
        },
        {
          "output_type": "stream",
          "name": "stdout",
          "text": [
            "Train Epoch: 15 [56320/84843 (66%)]\tLoss: 0.341944\n"
          ]
        },
        {
          "output_type": "stream",
          "name": "stderr",
          "text": [
            " 70%|██████▉   | 14.645333333332253/21 [06:41<02:51, 26.94s/it]"
          ]
        },
        {
          "output_type": "stream",
          "name": "stdout",
          "text": [
            "Train Epoch: 15 [61440/84843 (72%)]\tLoss: 0.294855\n"
          ]
        },
        {
          "output_type": "stream",
          "name": "stderr",
          "text": [
            " 70%|██████▉   | 14.69866666666558/21 [06:42<02:49, 26.97s/it] "
          ]
        },
        {
          "output_type": "stream",
          "name": "stdout",
          "text": [
            "Train Epoch: 15 [66560/84843 (78%)]\tLoss: 0.216791\n"
          ]
        },
        {
          "output_type": "stream",
          "name": "stderr",
          "text": [
            " 70%|███████   | 14.751999999998908/21 [06:44<02:50, 27.30s/it]"
          ]
        },
        {
          "output_type": "stream",
          "name": "stdout",
          "text": [
            "Train Epoch: 15 [71680/84843 (84%)]\tLoss: 0.250206\n"
          ]
        },
        {
          "output_type": "stream",
          "name": "stderr",
          "text": [
            " 71%|███████   | 14.805333333332236/21 [06:45<02:49, 27.35s/it]"
          ]
        },
        {
          "output_type": "stream",
          "name": "stdout",
          "text": [
            "Train Epoch: 15 [76800/84843 (90%)]\tLoss: 0.236568\n"
          ]
        },
        {
          "output_type": "stream",
          "name": "stderr",
          "text": [
            " 71%|███████   | 14.858666666665563/21 [06:47<02:49, 27.57s/it]"
          ]
        },
        {
          "output_type": "stream",
          "name": "stdout",
          "text": [
            "Train Epoch: 15 [81920/84843 (96%)]\tLoss: 0.201356\n"
          ]
        },
        {
          "output_type": "stream",
          "name": "stderr",
          "text": [
            " 71%|███████▏  | 15.002666666665547/21 [06:50<02:42, 27.16s/it]"
          ]
        },
        {
          "output_type": "stream",
          "name": "stdout",
          "text": [
            "\n",
            "Test Epoch: 15\tAccuracy: 9481/11005 (86%)\n",
            "\n",
            "Train Epoch: 16 [0/84843 (0%)]\tLoss: 0.216013\n"
          ]
        },
        {
          "output_type": "stream",
          "name": "stderr",
          "text": [
            " 72%|███████▏  | 15.061333333332207/21 [06:52<02:44, 27.74s/it]"
          ]
        },
        {
          "output_type": "stream",
          "name": "stdout",
          "text": [
            "Train Epoch: 16 [5120/84843 (6%)]\tLoss: 0.290682\n"
          ]
        },
        {
          "output_type": "stream",
          "name": "stderr",
          "text": [
            " 72%|███████▏  | 15.114666666665535/21 [06:53<02:42, 27.65s/it]"
          ]
        },
        {
          "output_type": "stream",
          "name": "stdout",
          "text": [
            "Train Epoch: 16 [10240/84843 (12%)]\tLoss: 0.230472\n"
          ]
        },
        {
          "output_type": "stream",
          "name": "stderr",
          "text": [
            " 72%|███████▏  | 15.167999999998862/21 [06:55<02:42, 27.93s/it]"
          ]
        },
        {
          "output_type": "stream",
          "name": "stdout",
          "text": [
            "Train Epoch: 16 [15360/84843 (18%)]\tLoss: 0.192702\n"
          ]
        },
        {
          "output_type": "stream",
          "name": "stderr",
          "text": [
            " 72%|███████▏  | 15.22133333333219/21 [06:56<02:36, 27.13s/it] "
          ]
        },
        {
          "output_type": "stream",
          "name": "stdout",
          "text": [
            "Train Epoch: 16 [20480/84843 (24%)]\tLoss: 0.165777\n"
          ]
        },
        {
          "output_type": "stream",
          "name": "stderr",
          "text": [
            " 73%|███████▎  | 15.274666666665517/21 [06:58<02:36, 27.37s/it]"
          ]
        },
        {
          "output_type": "stream",
          "name": "stdout",
          "text": [
            "Train Epoch: 16 [25600/84843 (30%)]\tLoss: 0.226788\n"
          ]
        },
        {
          "output_type": "stream",
          "name": "stderr",
          "text": [
            " 73%|███████▎  | 15.327999999998845/21 [06:59<02:32, 26.87s/it]"
          ]
        },
        {
          "output_type": "stream",
          "name": "stdout",
          "text": [
            "Train Epoch: 16 [30720/84843 (36%)]\tLoss: 0.234603\n"
          ]
        },
        {
          "output_type": "stream",
          "name": "stderr",
          "text": [
            " 73%|███████▎  | 15.381333333332172/21 [07:01<02:34, 27.57s/it]"
          ]
        },
        {
          "output_type": "stream",
          "name": "stdout",
          "text": [
            "Train Epoch: 16 [35840/84843 (42%)]\tLoss: 0.253492\n"
          ]
        },
        {
          "output_type": "stream",
          "name": "stderr",
          "text": [
            " 73%|███████▎  | 15.4346666666655/21 [07:02<02:31, 27.21s/it]  "
          ]
        },
        {
          "output_type": "stream",
          "name": "stdout",
          "text": [
            "Train Epoch: 16 [40960/84843 (48%)]\tLoss: 0.175340\n"
          ]
        },
        {
          "output_type": "stream",
          "name": "stderr",
          "text": [
            " 74%|███████▍  | 15.487999999998827/21 [07:04<02:29, 27.07s/it]"
          ]
        },
        {
          "output_type": "stream",
          "name": "stdout",
          "text": [
            "Train Epoch: 16 [46080/84843 (54%)]\tLoss: 0.201360\n"
          ]
        },
        {
          "output_type": "stream",
          "name": "stderr",
          "text": [
            " 74%|███████▍  | 15.541333333332155/21 [07:05<02:28, 27.27s/it]"
          ]
        },
        {
          "output_type": "stream",
          "name": "stdout",
          "text": [
            "Train Epoch: 16 [51200/84843 (60%)]\tLoss: 0.250690\n"
          ]
        },
        {
          "output_type": "stream",
          "name": "stderr",
          "text": [
            " 74%|███████▍  | 15.594666666665482/21 [07:07<02:38, 29.24s/it]"
          ]
        },
        {
          "output_type": "stream",
          "name": "stdout",
          "text": [
            "Train Epoch: 16 [56320/84843 (66%)]\tLoss: 0.215282\n"
          ]
        },
        {
          "output_type": "stream",
          "name": "stderr",
          "text": [
            " 75%|███████▍  | 15.64799999999881/21 [07:08<02:28, 27.76s/it] "
          ]
        },
        {
          "output_type": "stream",
          "name": "stdout",
          "text": [
            "Train Epoch: 16 [61440/84843 (72%)]\tLoss: 0.233037\n"
          ]
        },
        {
          "output_type": "stream",
          "name": "stderr",
          "text": [
            " 75%|███████▍  | 15.701333333332137/21 [07:10<02:30, 28.39s/it]"
          ]
        },
        {
          "output_type": "stream",
          "name": "stdout",
          "text": [
            "Train Epoch: 16 [66560/84843 (78%)]\tLoss: 0.329900\n"
          ]
        },
        {
          "output_type": "stream",
          "name": "stderr",
          "text": [
            " 75%|███████▌  | 15.754666666665464/21 [07:11<02:26, 28.02s/it]"
          ]
        },
        {
          "output_type": "stream",
          "name": "stdout",
          "text": [
            "Train Epoch: 16 [71680/84843 (84%)]\tLoss: 0.210207\n"
          ]
        },
        {
          "output_type": "stream",
          "name": "stderr",
          "text": [
            " 75%|███████▌  | 15.807999999998792/21 [07:13<02:22, 27.51s/it]"
          ]
        },
        {
          "output_type": "stream",
          "name": "stdout",
          "text": [
            "Train Epoch: 16 [76800/84843 (90%)]\tLoss: 0.374599\n"
          ]
        },
        {
          "output_type": "stream",
          "name": "stderr",
          "text": [
            " 76%|███████▌  | 15.86133333333212/21 [07:14<02:19, 27.19s/it] "
          ]
        },
        {
          "output_type": "stream",
          "name": "stdout",
          "text": [
            "Train Epoch: 16 [81920/84843 (96%)]\tLoss: 0.253857\n"
          ]
        },
        {
          "output_type": "stream",
          "name": "stderr",
          "text": [
            " 76%|███████▌  | 16.005333333332104/21 [07:18<02:11, 26.30s/it]"
          ]
        },
        {
          "output_type": "stream",
          "name": "stdout",
          "text": [
            "\n",
            "Test Epoch: 16\tAccuracy: 9511/11005 (86%)\n",
            "\n",
            "Train Epoch: 17 [0/84843 (0%)]\tLoss: 0.202461\n"
          ]
        },
        {
          "output_type": "stream",
          "name": "stderr",
          "text": [
            " 76%|███████▋  | 16.05866666666543/21 [07:19<02:13, 27.12s/it] "
          ]
        },
        {
          "output_type": "stream",
          "name": "stdout",
          "text": [
            "Train Epoch: 17 [5120/84843 (6%)]\tLoss: 0.204737\n"
          ]
        },
        {
          "output_type": "stream",
          "name": "stderr",
          "text": [
            " 77%|███████▋  | 16.11199999999876/21 [07:21<02:11, 26.97s/it] "
          ]
        },
        {
          "output_type": "stream",
          "name": "stdout",
          "text": [
            "Train Epoch: 17 [10240/84843 (12%)]\tLoss: 0.202217\n"
          ]
        },
        {
          "output_type": "stream",
          "name": "stderr",
          "text": [
            " 77%|███████▋  | 16.165333333332086/21 [07:22<02:12, 27.40s/it]"
          ]
        },
        {
          "output_type": "stream",
          "name": "stdout",
          "text": [
            "Train Epoch: 17 [15360/84843 (18%)]\tLoss: 0.306369\n"
          ]
        },
        {
          "output_type": "stream",
          "name": "stderr",
          "text": [
            " 77%|███████▋  | 16.218666666665413/21 [07:24<02:10, 27.27s/it]"
          ]
        },
        {
          "output_type": "stream",
          "name": "stdout",
          "text": [
            "Train Epoch: 17 [20480/84843 (24%)]\tLoss: 0.173992\n"
          ]
        },
        {
          "output_type": "stream",
          "name": "stderr",
          "text": [
            " 77%|███████▋  | 16.27199999999874/21 [07:25<02:15, 28.64s/it] "
          ]
        },
        {
          "output_type": "stream",
          "name": "stdout",
          "text": [
            "Train Epoch: 17 [25600/84843 (30%)]\tLoss: 0.178985\n"
          ]
        },
        {
          "output_type": "stream",
          "name": "stderr",
          "text": [
            " 78%|███████▊  | 16.32533333333207/21 [07:27<02:13, 28.49s/it] "
          ]
        },
        {
          "output_type": "stream",
          "name": "stdout",
          "text": [
            "Train Epoch: 17 [30720/84843 (36%)]\tLoss: 0.246349\n"
          ]
        },
        {
          "output_type": "stream",
          "name": "stderr",
          "text": [
            " 78%|███████▊  | 16.378666666665396/21 [07:28<02:10, 28.14s/it]"
          ]
        },
        {
          "output_type": "stream",
          "name": "stdout",
          "text": [
            "Train Epoch: 17 [35840/84843 (42%)]\tLoss: 0.259229\n"
          ]
        },
        {
          "output_type": "stream",
          "name": "stderr",
          "text": [
            " 78%|███████▊  | 16.431999999998723/21 [07:30<02:05, 27.50s/it]"
          ]
        },
        {
          "output_type": "stream",
          "name": "stdout",
          "text": [
            "Train Epoch: 17 [40960/84843 (48%)]\tLoss: 0.210750\n"
          ]
        },
        {
          "output_type": "stream",
          "name": "stderr",
          "text": [
            " 79%|███████▊  | 16.48533333333205/21 [07:31<02:05, 27.83s/it] "
          ]
        },
        {
          "output_type": "stream",
          "name": "stdout",
          "text": [
            "Train Epoch: 17 [46080/84843 (54%)]\tLoss: 0.216353\n"
          ]
        },
        {
          "output_type": "stream",
          "name": "stderr",
          "text": [
            " 79%|███████▉  | 16.538666666665378/21 [07:33<02:01, 27.24s/it]"
          ]
        },
        {
          "output_type": "stream",
          "name": "stdout",
          "text": [
            "Train Epoch: 17 [51200/84843 (60%)]\tLoss: 0.242894\n"
          ]
        },
        {
          "output_type": "stream",
          "name": "stderr",
          "text": [
            " 79%|███████▉  | 16.591999999998706/21 [07:34<01:58, 26.98s/it]"
          ]
        },
        {
          "output_type": "stream",
          "name": "stdout",
          "text": [
            "Train Epoch: 17 [56320/84843 (66%)]\tLoss: 0.222279\n"
          ]
        },
        {
          "output_type": "stream",
          "name": "stderr",
          "text": [
            " 79%|███████▉  | 16.645333333332033/21 [07:35<01:58, 27.32s/it]"
          ]
        },
        {
          "output_type": "stream",
          "name": "stdout",
          "text": [
            "Train Epoch: 17 [61440/84843 (72%)]\tLoss: 0.274340\n"
          ]
        },
        {
          "output_type": "stream",
          "name": "stderr",
          "text": [
            " 80%|███████▉  | 16.69866666666536/21 [07:37<01:58, 27.50s/it] "
          ]
        },
        {
          "output_type": "stream",
          "name": "stdout",
          "text": [
            "Train Epoch: 17 [66560/84843 (78%)]\tLoss: 0.304310\n"
          ]
        },
        {
          "output_type": "stream",
          "name": "stderr",
          "text": [
            " 80%|███████▉  | 16.751999999998688/21 [07:38<01:53, 26.65s/it]"
          ]
        },
        {
          "output_type": "stream",
          "name": "stdout",
          "text": [
            "Train Epoch: 17 [71680/84843 (84%)]\tLoss: 0.265589\n"
          ]
        },
        {
          "output_type": "stream",
          "name": "stderr",
          "text": [
            " 80%|████████  | 16.805333333332015/21 [07:40<01:54, 27.32s/it]"
          ]
        },
        {
          "output_type": "stream",
          "name": "stdout",
          "text": [
            "Train Epoch: 17 [76800/84843 (90%)]\tLoss: 0.292140\n"
          ]
        },
        {
          "output_type": "stream",
          "name": "stderr",
          "text": [
            " 80%|████████  | 16.858666666665343/21 [07:41<01:54, 27.61s/it]"
          ]
        },
        {
          "output_type": "stream",
          "name": "stdout",
          "text": [
            "Train Epoch: 17 [81920/84843 (96%)]\tLoss: 0.212947\n"
          ]
        },
        {
          "output_type": "stream",
          "name": "stderr",
          "text": [
            " 81%|████████  | 17.002666666665327/21 [07:45<01:47, 26.92s/it]"
          ]
        },
        {
          "output_type": "stream",
          "name": "stdout",
          "text": [
            "\n",
            "Test Epoch: 17\tAccuracy: 9503/11005 (86%)\n",
            "\n",
            "Train Epoch: 18 [0/84843 (0%)]\tLoss: 0.204887\n"
          ]
        },
        {
          "output_type": "stream",
          "name": "stderr",
          "text": [
            " 81%|████████  | 17.061333333331987/21 [07:47<01:47, 27.35s/it]"
          ]
        },
        {
          "output_type": "stream",
          "name": "stdout",
          "text": [
            "Train Epoch: 18 [5120/84843 (6%)]\tLoss: 0.318836\n"
          ]
        },
        {
          "output_type": "stream",
          "name": "stderr",
          "text": [
            " 81%|████████▏ | 17.114666666665315/21 [07:48<01:47, 27.60s/it]"
          ]
        },
        {
          "output_type": "stream",
          "name": "stdout",
          "text": [
            "Train Epoch: 18 [10240/84843 (12%)]\tLoss: 0.235694\n"
          ]
        },
        {
          "output_type": "stream",
          "name": "stderr",
          "text": [
            " 82%|████████▏ | 17.167999999998642/21 [07:50<01:45, 27.42s/it]"
          ]
        },
        {
          "output_type": "stream",
          "name": "stdout",
          "text": [
            "Train Epoch: 18 [15360/84843 (18%)]\tLoss: 0.224973\n"
          ]
        },
        {
          "output_type": "stream",
          "name": "stderr",
          "text": [
            " 82%|████████▏ | 17.22133333333197/21 [07:51<01:43, 27.45s/it] "
          ]
        },
        {
          "output_type": "stream",
          "name": "stdout",
          "text": [
            "Train Epoch: 18 [20480/84843 (24%)]\tLoss: 0.277773\n"
          ]
        },
        {
          "output_type": "stream",
          "name": "stderr",
          "text": [
            " 82%|████████▏ | 17.274666666665297/21 [07:53<01:40, 26.87s/it]"
          ]
        },
        {
          "output_type": "stream",
          "name": "stdout",
          "text": [
            "Train Epoch: 18 [25600/84843 (30%)]\tLoss: 0.254472\n"
          ]
        },
        {
          "output_type": "stream",
          "name": "stderr",
          "text": [
            " 83%|████████▎ | 17.327999999998625/21 [07:54<01:39, 27.18s/it]"
          ]
        },
        {
          "output_type": "stream",
          "name": "stdout",
          "text": [
            "Train Epoch: 18 [30720/84843 (36%)]\tLoss: 0.268788\n"
          ]
        },
        {
          "output_type": "stream",
          "name": "stderr",
          "text": [
            " 83%|████████▎ | 17.381333333331952/21 [07:55<01:40, 27.85s/it]"
          ]
        },
        {
          "output_type": "stream",
          "name": "stdout",
          "text": [
            "Train Epoch: 18 [35840/84843 (42%)]\tLoss: 0.207273\n"
          ]
        },
        {
          "output_type": "stream",
          "name": "stderr",
          "text": [
            " 83%|████████▎ | 17.43466666666528/21 [07:57<01:40, 28.13s/it] "
          ]
        },
        {
          "output_type": "stream",
          "name": "stdout",
          "text": [
            "Train Epoch: 18 [40960/84843 (48%)]\tLoss: 0.237936\n"
          ]
        },
        {
          "output_type": "stream",
          "name": "stderr",
          "text": [
            " 83%|████████▎ | 17.487999999998607/21 [07:58<01:41, 28.76s/it]"
          ]
        },
        {
          "output_type": "stream",
          "name": "stdout",
          "text": [
            "Train Epoch: 18 [46080/84843 (54%)]\tLoss: 0.297352\n"
          ]
        },
        {
          "output_type": "stream",
          "name": "stderr",
          "text": [
            " 84%|████████▎ | 17.541333333331934/21 [08:00<01:36, 28.00s/it]"
          ]
        },
        {
          "output_type": "stream",
          "name": "stdout",
          "text": [
            "Train Epoch: 18 [51200/84843 (60%)]\tLoss: 0.212440\n"
          ]
        },
        {
          "output_type": "stream",
          "name": "stderr",
          "text": [
            " 84%|████████▍ | 17.594666666665262/21 [08:02<01:37, 28.61s/it]"
          ]
        },
        {
          "output_type": "stream",
          "name": "stdout",
          "text": [
            "Train Epoch: 18 [56320/84843 (66%)]\tLoss: 0.191792\n"
          ]
        },
        {
          "output_type": "stream",
          "name": "stderr",
          "text": [
            " 84%|████████▍ | 17.64799999999859/21 [08:03<01:31, 27.17s/it] "
          ]
        },
        {
          "output_type": "stream",
          "name": "stdout",
          "text": [
            "Train Epoch: 18 [61440/84843 (72%)]\tLoss: 0.220083\n"
          ]
        },
        {
          "output_type": "stream",
          "name": "stderr",
          "text": [
            " 84%|████████▍ | 17.701333333331917/21 [08:04<01:29, 27.19s/it]"
          ]
        },
        {
          "output_type": "stream",
          "name": "stdout",
          "text": [
            "Train Epoch: 18 [66560/84843 (78%)]\tLoss: 0.260365\n"
          ]
        },
        {
          "output_type": "stream",
          "name": "stderr",
          "text": [
            " 85%|████████▍ | 17.754666666665244/21 [08:06<01:28, 27.17s/it]"
          ]
        },
        {
          "output_type": "stream",
          "name": "stdout",
          "text": [
            "Train Epoch: 18 [71680/84843 (84%)]\tLoss: 0.251964\n"
          ]
        },
        {
          "output_type": "stream",
          "name": "stderr",
          "text": [
            " 85%|████████▍ | 17.80799999999857/21 [08:07<01:27, 27.27s/it]"
          ]
        },
        {
          "output_type": "stream",
          "name": "stdout",
          "text": [
            "Train Epoch: 18 [76800/84843 (90%)]\tLoss: 0.181756\n"
          ]
        },
        {
          "output_type": "stream",
          "name": "stderr",
          "text": [
            " 85%|████████▌ | 17.8613333333319/21 [08:09<01:26, 27.55s/it]  "
          ]
        },
        {
          "output_type": "stream",
          "name": "stdout",
          "text": [
            "Train Epoch: 18 [81920/84843 (96%)]\tLoss: 0.161253\n"
          ]
        },
        {
          "output_type": "stream",
          "name": "stderr",
          "text": [
            " 86%|████████▌ | 18.005333333331883/21 [08:13<01:20, 26.72s/it]"
          ]
        },
        {
          "output_type": "stream",
          "name": "stdout",
          "text": [
            "\n",
            "Test Epoch: 18\tAccuracy: 9469/11005 (86%)\n",
            "\n",
            "Train Epoch: 19 [0/84843 (0%)]\tLoss: 0.204603\n"
          ]
        },
        {
          "output_type": "stream",
          "name": "stderr",
          "text": [
            " 86%|████████▌ | 18.05866666666521/21 [08:14<01:22, 28.13s/it] "
          ]
        },
        {
          "output_type": "stream",
          "name": "stdout",
          "text": [
            "Train Epoch: 19 [5120/84843 (6%)]\tLoss: 0.228231\n"
          ]
        },
        {
          "output_type": "stream",
          "name": "stderr",
          "text": [
            " 86%|████████▌ | 18.111999999998538/21 [08:16<01:19, 27.68s/it]"
          ]
        },
        {
          "output_type": "stream",
          "name": "stdout",
          "text": [
            "Train Epoch: 19 [10240/84843 (12%)]\tLoss: 0.238696\n"
          ]
        },
        {
          "output_type": "stream",
          "name": "stderr",
          "text": [
            " 87%|████████▋ | 18.165333333331866/21 [08:17<01:19, 27.87s/it]"
          ]
        },
        {
          "output_type": "stream",
          "name": "stdout",
          "text": [
            "Train Epoch: 19 [15360/84843 (18%)]\tLoss: 0.194164\n"
          ]
        },
        {
          "output_type": "stream",
          "name": "stderr",
          "text": [
            " 87%|████████▋ | 18.218666666665193/21 [08:19<01:15, 27.22s/it]"
          ]
        },
        {
          "output_type": "stream",
          "name": "stdout",
          "text": [
            "Train Epoch: 19 [20480/84843 (24%)]\tLoss: 0.189595\n"
          ]
        },
        {
          "output_type": "stream",
          "name": "stderr",
          "text": [
            " 87%|████████▋ | 18.27199999999852/21 [08:20<01:13, 27.09s/it] "
          ]
        },
        {
          "output_type": "stream",
          "name": "stdout",
          "text": [
            "Train Epoch: 19 [25600/84843 (30%)]\tLoss: 0.135378\n"
          ]
        },
        {
          "output_type": "stream",
          "name": "stderr",
          "text": [
            " 87%|████████▋ | 18.325333333331848/21 [08:21<01:13, 27.39s/it]"
          ]
        },
        {
          "output_type": "stream",
          "name": "stdout",
          "text": [
            "Train Epoch: 19 [30720/84843 (36%)]\tLoss: 0.189956\n"
          ]
        },
        {
          "output_type": "stream",
          "name": "stderr",
          "text": [
            " 88%|████████▊ | 18.378666666665175/21 [08:23<01:11, 27.23s/it]"
          ]
        },
        {
          "output_type": "stream",
          "name": "stdout",
          "text": [
            "Train Epoch: 19 [35840/84843 (42%)]\tLoss: 0.326473\n"
          ]
        },
        {
          "output_type": "stream",
          "name": "stderr",
          "text": [
            " 88%|████████▊ | 18.431999999998503/21 [08:24<01:09, 27.10s/it]"
          ]
        },
        {
          "output_type": "stream",
          "name": "stdout",
          "text": [
            "Train Epoch: 19 [40960/84843 (48%)]\tLoss: 0.245455\n"
          ]
        },
        {
          "output_type": "stream",
          "name": "stderr",
          "text": [
            " 88%|████████▊ | 18.48533333333183/21 [08:26<01:08, 27.44s/it] "
          ]
        },
        {
          "output_type": "stream",
          "name": "stdout",
          "text": [
            "Train Epoch: 19 [46080/84843 (54%)]\tLoss: 0.214824\n"
          ]
        },
        {
          "output_type": "stream",
          "name": "stderr",
          "text": [
            " 88%|████████▊ | 18.538666666665158/21 [08:27<01:08, 27.63s/it]"
          ]
        },
        {
          "output_type": "stream",
          "name": "stdout",
          "text": [
            "Train Epoch: 19 [51200/84843 (60%)]\tLoss: 0.237808\n"
          ]
        },
        {
          "output_type": "stream",
          "name": "stderr",
          "text": [
            " 89%|████████▊ | 18.591999999998485/21 [08:29<01:07, 27.90s/it]"
          ]
        },
        {
          "output_type": "stream",
          "name": "stdout",
          "text": [
            "Train Epoch: 19 [56320/84843 (66%)]\tLoss: 0.213385\n"
          ]
        },
        {
          "output_type": "stream",
          "name": "stderr",
          "text": [
            " 89%|████████▉ | 18.645333333331813/21 [08:30<01:06, 28.27s/it]"
          ]
        },
        {
          "output_type": "stream",
          "name": "stdout",
          "text": [
            "Train Epoch: 19 [61440/84843 (72%)]\tLoss: 0.233680\n"
          ]
        },
        {
          "output_type": "stream",
          "name": "stderr",
          "text": [
            " 89%|████████▉ | 18.69866666666514/21 [08:32<01:07, 29.14s/it] "
          ]
        },
        {
          "output_type": "stream",
          "name": "stdout",
          "text": [
            "Train Epoch: 19 [66560/84843 (78%)]\tLoss: 0.177575\n"
          ]
        },
        {
          "output_type": "stream",
          "name": "stderr",
          "text": [
            " 89%|████████▉ | 18.751999999998468/21 [08:33<01:04, 28.84s/it]"
          ]
        },
        {
          "output_type": "stream",
          "name": "stdout",
          "text": [
            "Train Epoch: 19 [71680/84843 (84%)]\tLoss: 0.249505\n"
          ]
        },
        {
          "output_type": "stream",
          "name": "stderr",
          "text": [
            " 90%|████████▉ | 18.805333333331795/21 [08:35<01:01, 28.02s/it]"
          ]
        },
        {
          "output_type": "stream",
          "name": "stdout",
          "text": [
            "Train Epoch: 19 [76800/84843 (90%)]\tLoss: 0.255138\n"
          ]
        },
        {
          "output_type": "stream",
          "name": "stderr",
          "text": [
            " 90%|████████▉ | 18.858666666665123/21 [08:36<01:00, 28.18s/it]"
          ]
        },
        {
          "output_type": "stream",
          "name": "stdout",
          "text": [
            "Train Epoch: 19 [81920/84843 (96%)]\tLoss: 0.273206\n"
          ]
        },
        {
          "output_type": "stream",
          "name": "stderr",
          "text": [
            " 90%|█████████ | 19.002666666665107/21 [08:40<00:52, 26.19s/it]"
          ]
        },
        {
          "output_type": "stream",
          "name": "stdout",
          "text": [
            "\n",
            "Test Epoch: 19\tAccuracy: 9504/11005 (86%)\n",
            "\n",
            "Train Epoch: 20 [0/84843 (0%)]\tLoss: 0.299806\n"
          ]
        },
        {
          "output_type": "stream",
          "name": "stderr",
          "text": [
            " 91%|█████████ | 19.061333333331767/21 [08:42<00:52, 27.24s/it]"
          ]
        },
        {
          "output_type": "stream",
          "name": "stdout",
          "text": [
            "Train Epoch: 20 [5120/84843 (6%)]\tLoss: 0.230252\n"
          ]
        },
        {
          "output_type": "stream",
          "name": "stderr",
          "text": [
            " 91%|█████████ | 19.114666666665094/21 [08:43<00:52, 27.80s/it]"
          ]
        },
        {
          "output_type": "stream",
          "name": "stdout",
          "text": [
            "Train Epoch: 20 [10240/84843 (12%)]\tLoss: 0.220546\n"
          ]
        },
        {
          "output_type": "stream",
          "name": "stderr",
          "text": [
            " 91%|█████████▏| 19.167999999998422/21 [08:45<00:51, 27.93s/it]"
          ]
        },
        {
          "output_type": "stream",
          "name": "stdout",
          "text": [
            "Train Epoch: 20 [15360/84843 (18%)]\tLoss: 0.319654\n"
          ]
        },
        {
          "output_type": "stream",
          "name": "stderr",
          "text": [
            " 92%|█████████▏| 19.22133333333175/21 [08:46<00:49, 27.94s/it] "
          ]
        },
        {
          "output_type": "stream",
          "name": "stdout",
          "text": [
            "Train Epoch: 20 [20480/84843 (24%)]\tLoss: 0.182116\n"
          ]
        },
        {
          "output_type": "stream",
          "name": "stderr",
          "text": [
            " 92%|█████████▏| 19.274666666665077/21 [08:48<00:48, 28.30s/it]"
          ]
        },
        {
          "output_type": "stream",
          "name": "stdout",
          "text": [
            "Train Epoch: 20 [25600/84843 (30%)]\tLoss: 0.214786\n"
          ]
        },
        {
          "output_type": "stream",
          "name": "stderr",
          "text": [
            " 92%|█████████▏| 19.327999999998404/21 [08:49<00:48, 28.97s/it]"
          ]
        },
        {
          "output_type": "stream",
          "name": "stdout",
          "text": [
            "Train Epoch: 20 [30720/84843 (36%)]\tLoss: 0.287188\n"
          ]
        },
        {
          "output_type": "stream",
          "name": "stderr",
          "text": [
            " 92%|█████████▏| 19.38133333333173/21 [08:51<00:44, 27.59s/it]"
          ]
        },
        {
          "output_type": "stream",
          "name": "stdout",
          "text": [
            "Train Epoch: 20 [35840/84843 (42%)]\tLoss: 0.232574\n"
          ]
        },
        {
          "output_type": "stream",
          "name": "stderr",
          "text": [
            " 93%|█████████▎| 19.43466666666506/21 [08:52<00:42, 27.46s/it] "
          ]
        },
        {
          "output_type": "stream",
          "name": "stdout",
          "text": [
            "Train Epoch: 20 [40960/84843 (48%)]\tLoss: 0.382220\n"
          ]
        },
        {
          "output_type": "stream",
          "name": "stderr",
          "text": [
            " 93%|█████████▎| 19.487999999998387/21 [08:54<00:41, 27.18s/it]"
          ]
        },
        {
          "output_type": "stream",
          "name": "stdout",
          "text": [
            "Train Epoch: 20 [46080/84843 (54%)]\tLoss: 0.163516\n"
          ]
        },
        {
          "output_type": "stream",
          "name": "stderr",
          "text": [
            " 93%|█████████▎| 19.541333333331714/21 [08:55<00:40, 27.55s/it]"
          ]
        },
        {
          "output_type": "stream",
          "name": "stdout",
          "text": [
            "Train Epoch: 20 [51200/84843 (60%)]\tLoss: 0.265965\n"
          ]
        },
        {
          "output_type": "stream",
          "name": "stderr",
          "text": [
            " 93%|█████████▎| 19.59466666666504/21 [08:57<00:38, 27.47s/it]"
          ]
        },
        {
          "output_type": "stream",
          "name": "stdout",
          "text": [
            "Train Epoch: 20 [56320/84843 (66%)]\tLoss: 0.224142\n"
          ]
        },
        {
          "output_type": "stream",
          "name": "stderr",
          "text": [
            " 94%|█████████▎| 19.64799999999837/21 [08:58<00:37, 27.68s/it] "
          ]
        },
        {
          "output_type": "stream",
          "name": "stdout",
          "text": [
            "Train Epoch: 20 [61440/84843 (72%)]\tLoss: 0.262210\n"
          ]
        },
        {
          "output_type": "stream",
          "name": "stderr",
          "text": [
            " 94%|█████████▍| 19.701333333331696/21 [08:59<00:35, 27.71s/it]"
          ]
        },
        {
          "output_type": "stream",
          "name": "stdout",
          "text": [
            "Train Epoch: 20 [66560/84843 (78%)]\tLoss: 0.179577\n"
          ]
        },
        {
          "output_type": "stream",
          "name": "stderr",
          "text": [
            " 94%|█████████▍| 19.754666666665024/21 [09:01<00:34, 27.64s/it]"
          ]
        },
        {
          "output_type": "stream",
          "name": "stdout",
          "text": [
            "Train Epoch: 20 [71680/84843 (84%)]\tLoss: 0.269529\n"
          ]
        },
        {
          "output_type": "stream",
          "name": "stderr",
          "text": [
            " 94%|█████████▍| 19.80799999999835/21 [09:02<00:33, 27.84s/it]"
          ]
        },
        {
          "output_type": "stream",
          "name": "stdout",
          "text": [
            "Train Epoch: 20 [76800/84843 (90%)]\tLoss: 0.165078\n"
          ]
        },
        {
          "output_type": "stream",
          "name": "stderr",
          "text": [
            " 95%|█████████▍| 19.86133333333168/21 [09:04<00:32, 28.47s/it] "
          ]
        },
        {
          "output_type": "stream",
          "name": "stdout",
          "text": [
            "Train Epoch: 20 [81920/84843 (96%)]\tLoss: 0.215656\n"
          ]
        },
        {
          "output_type": "stream",
          "name": "stderr",
          "text": [
            " 95%|█████████▌| 20.005333333331663/21 [09:08<00:26, 26.75s/it]"
          ]
        },
        {
          "output_type": "stream",
          "name": "stdout",
          "text": [
            "\n",
            "Test Epoch: 20\tAccuracy: 9491/11005 (86%)\n",
            "\n",
            "Train Epoch: 21 [0/84843 (0%)]\tLoss: 0.235625\n"
          ]
        },
        {
          "output_type": "stream",
          "name": "stderr",
          "text": [
            " 96%|█████████▌| 20.05866666666499/21 [09:09<00:25, 27.26s/it] "
          ]
        },
        {
          "output_type": "stream",
          "name": "stdout",
          "text": [
            "Train Epoch: 21 [5120/84843 (6%)]\tLoss: 0.194710\n"
          ]
        },
        {
          "output_type": "stream",
          "name": "stderr",
          "text": [
            " 96%|█████████▌| 20.111999999998318/21 [09:11<00:24, 27.60s/it]"
          ]
        },
        {
          "output_type": "stream",
          "name": "stdout",
          "text": [
            "Train Epoch: 21 [10240/84843 (12%)]\tLoss: 0.189047\n"
          ]
        },
        {
          "output_type": "stream",
          "name": "stderr",
          "text": [
            " 96%|█████████▌| 20.165333333331645/21 [09:12<00:23, 27.72s/it]"
          ]
        },
        {
          "output_type": "stream",
          "name": "stdout",
          "text": [
            "Train Epoch: 21 [15360/84843 (18%)]\tLoss: 0.147905\n"
          ]
        },
        {
          "output_type": "stream",
          "name": "stderr",
          "text": [
            " 96%|█████████▋| 20.218666666664973/21 [09:14<00:21, 27.55s/it]"
          ]
        },
        {
          "output_type": "stream",
          "name": "stdout",
          "text": [
            "Train Epoch: 21 [20480/84843 (24%)]\tLoss: 0.219041\n"
          ]
        },
        {
          "output_type": "stream",
          "name": "stderr",
          "text": [
            " 97%|█████████▋| 20.2719999999983/21 [09:15<00:19, 27.25s/it]  "
          ]
        },
        {
          "output_type": "stream",
          "name": "stdout",
          "text": [
            "Train Epoch: 21 [25600/84843 (30%)]\tLoss: 0.282824\n"
          ]
        },
        {
          "output_type": "stream",
          "name": "stderr",
          "text": [
            " 97%|█████████▋| 20.325333333331628/21 [09:17<00:18, 27.41s/it]"
          ]
        },
        {
          "output_type": "stream",
          "name": "stdout",
          "text": [
            "Train Epoch: 21 [30720/84843 (36%)]\tLoss: 0.269334\n"
          ]
        },
        {
          "output_type": "stream",
          "name": "stderr",
          "text": [
            " 97%|█████████▋| 20.378666666664955/21 [09:18<00:17, 28.26s/it]"
          ]
        },
        {
          "output_type": "stream",
          "name": "stdout",
          "text": [
            "Train Epoch: 21 [35840/84843 (42%)]\tLoss: 0.223708\n"
          ]
        },
        {
          "output_type": "stream",
          "name": "stderr",
          "text": [
            " 97%|█████████▋| 20.431999999998283/21 [09:20<00:16, 28.31s/it]"
          ]
        },
        {
          "output_type": "stream",
          "name": "stdout",
          "text": [
            "Train Epoch: 21 [40960/84843 (48%)]\tLoss: 0.251316\n"
          ]
        },
        {
          "output_type": "stream",
          "name": "stderr",
          "text": [
            " 98%|█████████▊| 20.48533333333161/21 [09:21<00:14, 28.58s/it] "
          ]
        },
        {
          "output_type": "stream",
          "name": "stdout",
          "text": [
            "Train Epoch: 21 [46080/84843 (54%)]\tLoss: 0.243033\n"
          ]
        },
        {
          "output_type": "stream",
          "name": "stderr",
          "text": [
            " 98%|█████████▊| 20.538666666664938/21 [09:23<00:13, 28.95s/it]"
          ]
        },
        {
          "output_type": "stream",
          "name": "stdout",
          "text": [
            "Train Epoch: 21 [51200/84843 (60%)]\tLoss: 0.286088\n"
          ]
        },
        {
          "output_type": "stream",
          "name": "stderr",
          "text": [
            " 98%|█████████▊| 20.591999999998265/21 [09:24<00:11, 28.10s/it]"
          ]
        },
        {
          "output_type": "stream",
          "name": "stdout",
          "text": [
            "Train Epoch: 21 [56320/84843 (66%)]\tLoss: 0.211021\n"
          ]
        },
        {
          "output_type": "stream",
          "name": "stderr",
          "text": [
            " 98%|█████████▊| 20.645333333331592/21 [09:26<00:09, 27.51s/it]"
          ]
        },
        {
          "output_type": "stream",
          "name": "stdout",
          "text": [
            "Train Epoch: 21 [61440/84843 (72%)]\tLoss: 0.193356\n"
          ]
        },
        {
          "output_type": "stream",
          "name": "stderr",
          "text": [
            " 99%|█████████▊| 20.69866666666492/21 [09:27<00:08, 27.33s/it] "
          ]
        },
        {
          "output_type": "stream",
          "name": "stdout",
          "text": [
            "Train Epoch: 21 [66560/84843 (78%)]\tLoss: 0.193579\n"
          ]
        },
        {
          "output_type": "stream",
          "name": "stderr",
          "text": [
            " 99%|█████████▉| 20.751999999998247/21 [09:29<00:06, 27.54s/it]"
          ]
        },
        {
          "output_type": "stream",
          "name": "stdout",
          "text": [
            "Train Epoch: 21 [71680/84843 (84%)]\tLoss: 0.314795\n"
          ]
        },
        {
          "output_type": "stream",
          "name": "stderr",
          "text": [
            " 99%|█████████▉| 20.805333333331575/21 [09:30<00:05, 28.11s/it]"
          ]
        },
        {
          "output_type": "stream",
          "name": "stdout",
          "text": [
            "Train Epoch: 21 [76800/84843 (90%)]\tLoss: 0.248065\n"
          ]
        },
        {
          "output_type": "stream",
          "name": "stderr",
          "text": [
            " 99%|█████████▉| 20.858666666664902/21 [09:31<00:03, 27.82s/it]"
          ]
        },
        {
          "output_type": "stream",
          "name": "stdout",
          "text": [
            "Train Epoch: 21 [81920/84843 (96%)]\tLoss: 0.218212\n"
          ]
        },
        {
          "output_type": "stream",
          "name": "stderr",
          "text": [
            "100%|█████████▉| 20.99999999999822/21 [09:35<00:00, 27.42s/it] \n"
          ]
        },
        {
          "output_type": "stream",
          "name": "stdout",
          "text": [
            "\n",
            "Test Epoch: 21\tAccuracy: 9484/11005 (86%)\n",
            "\n"
          ]
        },
        {
          "output_type": "display_data",
          "data": {
            "text/plain": [
              "<Figure size 1000x400 with 3 Axes>"
            ],
            "image/png": "[encoded data removed]"
          },
          "metadata": {}
        }
      ]
    },
    {
      "cell_type": "code",
      "source": [
        "import matplotlib.pyplot as plt\n",
        "\n",
        "# Early stopping 설정\n",
        "early_stopping_patience = 10 # 성능 향상이 없는 에폭 수 5>10\n",
        "best_accuracy = 0\n",
        "no_improvement_count = 0\n",
        "\n",
        "log_interval = 20\n",
        "n_epoch = 30\n",
        "\n",
        "pbar_update = 1 / (len(train_loader) + len(test_loader))\n",
        "losses = []\n",
        "\n",
        "# 그래프를 그리기 위한 리스트\n",
        "learning_rates = []\n",
        "training_losses = []\n",
        "test_accuracies = []\n",
        "\n",
        "# 변환(transform)은 모델과 데이터가 동일한 장치(device)에서 실행되어야 합니다.\n",
        "transform = transform.to(device)\n",
        "\n",
        "with tqdm(total=n_epoch) as pbar:\n",
        "    for epoch in range(1, n_epoch + 1):\n",
        "        train(model, epoch, log_interval)\n",
        "        test_acc = test(model, epoch)  # 정확도를 test_acc에 저장\n",
        "        scheduler.step()\n",
        "\n",
        "        # 학습률 기록\n",
        "        learning_rates.append(optimizer.param_groups[0]['lr'])\n",
        "\n",
        "        # 훈련 손실 기록\n",
        "        training_losses.append(losses[-1])\n",
        "\n",
        "        # 테스트 정확도 기록\n",
        "        if test_acc is not None:\n",
        "            test_accuracies.append(test_acc)\n",
        "\n",
        "        # 조기 종료 로직\n",
        "        if test_acc is not None and test_acc > best_accuracy:\n",
        "            best_accuracy = test_acc\n",
        "            no_improvement_count = 0\n",
        "        else:\n",
        "            no_improvement_count += 1\n",
        "\n",
        "        if no_improvement_count >= early_stopping_patience:\n",
        "            print(f\"성능 향상이 없는 {epoch} 에폭 후 조기 종료.\")\n",
        "            break  # 성능 향상이 없으면 훈련 중지\n",
        "\n",
        "# 학습률 그래프 그리기\n",
        "plt.figure(figsize=(10, 4))\n",
        "plt.subplot(1, 3, 1)\n",
        "plt.plot(learning_rates)\n",
        "plt.title(\"Learning Rate\")\n",
        "plt.xlabel(\"Epoch\")\n",
        "\n",
        "# 훈련 손실 그래프 그리기\n",
        "plt.subplot(1, 3, 2)\n",
        "plt.plot(training_losses)\n",
        "plt.title(\"training Loss\")\n",
        "plt.xlabel(\"Epoch\")\n",
        "\n",
        "# 테스트 정확도 그래프 그리기\n",
        "plt.subplot(1, 3, 3)\n",
        "plt.plot(test_accuracies)\n",
        "plt.title(\"Test Accuracy\")\n",
        "plt.xlabel(\"Epoch\")\n",
        "\n",
        "plt.tight_layout()\n",
        "plt.show()\n"
      ],
      "metadata": {
        "colab": {
          "base_uri": "https://localhost:8080/",
          "height": 1000
        },
        "id": "z7mHMUdNl_38",
        "outputId": "8972851f-4e5b-4949-809f-aa0ef2d29609"
      },
      "execution_count": 20,
      "outputs": [
        {
          "output_type": "stream",
          "name": "stderr",
          "text": [
            "  0%|          | 0.005333333333333333/30 [00:00<13:46, 27.55s/it]"
          ]
        },
        {
          "output_type": "stream",
          "name": "stdout",
          "text": [
            "Train Epoch: 1 [0/84843 (0%)]\tLoss: 0.580416\n"
          ]
        },
        {
          "output_type": "stream",
          "name": "stderr",
          "text": [
            "  0%|          | 0.05866666666666665/30 [00:01<13:33, 27.17s/it]"
          ]
        },
        {
          "output_type": "stream",
          "name": "stdout",
          "text": [
            "Train Epoch: 1 [5120/84843 (6%)]\tLoss: 0.530543\n"
          ]
        },
        {
          "output_type": "stream",
          "name": "stderr",
          "text": [
            "  0%|          | 0.11199999999999995/30 [00:03<13:26, 26.98s/it]"
          ]
        },
        {
          "output_type": "stream",
          "name": "stdout",
          "text": [
            "Train Epoch: 1 [10240/84843 (12%)]\tLoss: 0.529784\n"
          ]
        },
        {
          "output_type": "stream",
          "name": "stderr",
          "text": [
            "  1%|          | 0.16533333333333344/30 [00:04<13:23, 26.94s/it]"
          ]
        },
        {
          "output_type": "stream",
          "name": "stdout",
          "text": [
            "Train Epoch: 1 [15360/84843 (18%)]\tLoss: 0.694954\n"
          ]
        },
        {
          "output_type": "stream",
          "name": "stderr",
          "text": [
            "  1%|          | 0.218666666666667/30 [00:05<13:26, 27.10s/it]  "
          ]
        },
        {
          "output_type": "stream",
          "name": "stdout",
          "text": [
            "Train Epoch: 1 [20480/84843 (24%)]\tLoss: 0.714370\n"
          ]
        },
        {
          "output_type": "stream",
          "name": "stderr",
          "text": [
            "  1%|          | 0.27200000000000035/30 [00:07<13:46, 27.80s/it]"
          ]
        },
        {
          "output_type": "stream",
          "name": "stdout",
          "text": [
            "Train Epoch: 1 [25600/84843 (30%)]\tLoss: 0.675918\n"
          ]
        },
        {
          "output_type": "stream",
          "name": "stderr",
          "text": [
            "  1%|          | 0.32533333333333336/30 [00:08<13:40, 27.64s/it]"
          ]
        },
        {
          "output_type": "stream",
          "name": "stdout",
          "text": [
            "Train Epoch: 1 [30720/84843 (36%)]\tLoss: 0.619566\n"
          ]
        },
        {
          "output_type": "stream",
          "name": "stderr",
          "text": [
            "  1%|▏         | 0.3786666666666664/30 [00:10<13:39, 27.65s/it]"
          ]
        },
        {
          "output_type": "stream",
          "name": "stdout",
          "text": [
            "Train Epoch: 1 [35840/84843 (42%)]\tLoss: 0.647956\n"
          ]
        },
        {
          "output_type": "stream",
          "name": "stderr",
          "text": [
            "  1%|▏         | 0.4319999999999994/30 [00:11<14:17, 28.99s/it]"
          ]
        },
        {
          "output_type": "stream",
          "name": "stdout",
          "text": [
            "Train Epoch: 1 [40960/84843 (48%)]\tLoss: 0.543674\n"
          ]
        },
        {
          "output_type": "stream",
          "name": "stderr",
          "text": [
            "  2%|▏         | 0.4853333333333324/30 [00:13<14:22, 29.24s/it]"
          ]
        },
        {
          "output_type": "stream",
          "name": "stdout",
          "text": [
            "Train Epoch: 1 [46080/84843 (54%)]\tLoss: 0.608379\n"
          ]
        },
        {
          "output_type": "stream",
          "name": "stderr",
          "text": [
            "  2%|▏         | 0.5386666666666662/30 [00:14<13:20, 27.16s/it]"
          ]
        },
        {
          "output_type": "stream",
          "name": "stdout",
          "text": [
            "Train Epoch: 1 [51200/84843 (60%)]\tLoss: 0.604336\n"
          ]
        },
        {
          "output_type": "stream",
          "name": "stderr",
          "text": [
            "  2%|▏         | 0.5920000000000003/30 [00:16<13:19, 27.19s/it]"
          ]
        },
        {
          "output_type": "stream",
          "name": "stdout",
          "text": [
            "Train Epoch: 1 [56320/84843 (66%)]\tLoss: 0.600108\n"
          ]
        },
        {
          "output_type": "stream",
          "name": "stderr",
          "text": [
            "  2%|▏         | 0.6453333333333344/30 [00:17<13:29, 27.57s/it]"
          ]
        },
        {
          "output_type": "stream",
          "name": "stdout",
          "text": [
            "Train Epoch: 1 [61440/84843 (72%)]\tLoss: 0.683686\n"
          ]
        },
        {
          "output_type": "stream",
          "name": "stderr",
          "text": [
            "  2%|▏         | 0.6986666666666685/30 [00:19<13:25, 27.50s/it]"
          ]
        },
        {
          "output_type": "stream",
          "name": "stdout",
          "text": [
            "Train Epoch: 1 [66560/84843 (78%)]\tLoss: 0.653512\n"
          ]
        },
        {
          "output_type": "stream",
          "name": "stderr",
          "text": [
            "  3%|▎         | 0.7520000000000027/30 [00:20<13:24, 27.51s/it]"
          ]
        },
        {
          "output_type": "stream",
          "name": "stdout",
          "text": [
            "Train Epoch: 1 [71680/84843 (84%)]\tLoss: 0.662529\n"
          ]
        },
        {
          "output_type": "stream",
          "name": "stderr",
          "text": [
            "  3%|▎         | 0.8053333333333368/30 [00:22<13:09, 27.05s/it]"
          ]
        },
        {
          "output_type": "stream",
          "name": "stdout",
          "text": [
            "Train Epoch: 1 [76800/84843 (90%)]\tLoss: 0.631608\n"
          ]
        },
        {
          "output_type": "stream",
          "name": "stderr",
          "text": [
            "  3%|▎         | 0.8586666666666709/30 [00:23<13:29, 27.78s/it]"
          ]
        },
        {
          "output_type": "stream",
          "name": "stdout",
          "text": [
            "Train Epoch: 1 [81920/84843 (96%)]\tLoss: 0.656803\n"
          ]
        },
        {
          "output_type": "stream",
          "name": "stderr",
          "text": [
            "  3%|▎         | 1.0026666666666728/30 [00:27<12:58, 26.84s/it]"
          ]
        },
        {
          "output_type": "stream",
          "name": "stdout",
          "text": [
            "\n",
            "Test Epoch: 1\tAccuracy: 8735/11005 (79%)\n",
            "\n",
            "Train Epoch: 2 [0/84843 (0%)]\tLoss: 0.654344\n"
          ]
        },
        {
          "output_type": "stream",
          "name": "stderr",
          "text": [
            "  4%|▎         | 1.061333333333338/30 [00:29<13:37, 28.25s/it] "
          ]
        },
        {
          "output_type": "stream",
          "name": "stdout",
          "text": [
            "Train Epoch: 2 [5120/84843 (6%)]\tLoss: 0.542357\n"
          ]
        },
        {
          "output_type": "stream",
          "name": "stderr",
          "text": [
            "  4%|▎         | 1.1146666666666698/30 [00:30<13:09, 27.33s/it]"
          ]
        },
        {
          "output_type": "stream",
          "name": "stdout",
          "text": [
            "Train Epoch: 2 [10240/84843 (12%)]\tLoss: 0.500509\n"
          ]
        },
        {
          "output_type": "stream",
          "name": "stderr",
          "text": [
            "  4%|▍         | 1.1680000000000017/30 [00:32<13:01, 27.09s/it]"
          ]
        },
        {
          "output_type": "stream",
          "name": "stdout",
          "text": [
            "Train Epoch: 2 [15360/84843 (18%)]\tLoss: 0.686885\n"
          ]
        },
        {
          "output_type": "stream",
          "name": "stderr",
          "text": [
            "  4%|▍         | 1.2213333333333336/30 [00:33<13:01, 27.17s/it]"
          ]
        },
        {
          "output_type": "stream",
          "name": "stdout",
          "text": [
            "Train Epoch: 2 [20480/84843 (24%)]\tLoss: 0.618313\n"
          ]
        },
        {
          "output_type": "stream",
          "name": "stderr",
          "text": [
            "  4%|▍         | 1.2746666666666655/30 [00:34<13:01, 27.21s/it]"
          ]
        },
        {
          "output_type": "stream",
          "name": "stdout",
          "text": [
            "Train Epoch: 2 [25600/84843 (30%)]\tLoss: 0.607377\n"
          ]
        },
        {
          "output_type": "stream",
          "name": "stderr",
          "text": [
            "  4%|▍         | 1.3279999999999974/30 [00:36<12:49, 26.84s/it]"
          ]
        },
        {
          "output_type": "stream",
          "name": "stdout",
          "text": [
            "Train Epoch: 2 [30720/84843 (36%)]\tLoss: 0.570172\n"
          ]
        },
        {
          "output_type": "stream",
          "name": "stderr",
          "text": [
            "  5%|▍         | 1.3813333333333293/30 [00:37<12:55, 27.09s/it]"
          ]
        },
        {
          "output_type": "stream",
          "name": "stdout",
          "text": [
            "Train Epoch: 2 [35840/84843 (42%)]\tLoss: 0.471539\n"
          ]
        },
        {
          "output_type": "stream",
          "name": "stderr",
          "text": [
            "  5%|▍         | 1.4346666666666612/30 [00:39<13:18, 27.95s/it]"
          ]
        },
        {
          "output_type": "stream",
          "name": "stdout",
          "text": [
            "Train Epoch: 2 [40960/84843 (48%)]\tLoss: 0.874949\n"
          ]
        },
        {
          "output_type": "stream",
          "name": "stderr",
          "text": [
            "  5%|▍         | 1.487999999999993/30 [00:40<13:01, 27.39s/it]"
          ]
        },
        {
          "output_type": "stream",
          "name": "stdout",
          "text": [
            "Train Epoch: 2 [46080/84843 (54%)]\tLoss: 0.523895\n"
          ]
        },
        {
          "output_type": "stream",
          "name": "stderr",
          "text": [
            "  5%|▌         | 1.541333333333325/30 [00:42<13:02, 27.48s/it] "
          ]
        },
        {
          "output_type": "stream",
          "name": "stdout",
          "text": [
            "Train Epoch: 2 [51200/84843 (60%)]\tLoss: 0.708323\n"
          ]
        },
        {
          "output_type": "stream",
          "name": "stderr",
          "text": [
            "  5%|▌         | 1.594666666666657/30 [00:43<13:48, 29.17s/it] "
          ]
        },
        {
          "output_type": "stream",
          "name": "stdout",
          "text": [
            "Train Epoch: 2 [56320/84843 (66%)]\tLoss: 0.692896\n"
          ]
        },
        {
          "output_type": "stream",
          "name": "stderr",
          "text": [
            "  5%|▌         | 1.6479999999999888/30 [00:45<13:12, 27.97s/it]"
          ]
        },
        {
          "output_type": "stream",
          "name": "stdout",
          "text": [
            "Train Epoch: 2 [61440/84843 (72%)]\tLoss: 0.681891\n"
          ]
        },
        {
          "output_type": "stream",
          "name": "stderr",
          "text": [
            "  6%|▌         | 1.7013333333333207/30 [00:46<12:53, 27.32s/it]"
          ]
        },
        {
          "output_type": "stream",
          "name": "stdout",
          "text": [
            "Train Epoch: 2 [66560/84843 (78%)]\tLoss: 0.530509\n"
          ]
        },
        {
          "output_type": "stream",
          "name": "stderr",
          "text": [
            "  6%|▌         | 1.7546666666666526/30 [00:48<12:50, 27.27s/it]"
          ]
        },
        {
          "output_type": "stream",
          "name": "stdout",
          "text": [
            "Train Epoch: 2 [71680/84843 (84%)]\tLoss: 0.585906\n"
          ]
        },
        {
          "output_type": "stream",
          "name": "stderr",
          "text": [
            "  6%|▌         | 1.8079999999999845/30 [00:49<12:49, 27.30s/it]"
          ]
        },
        {
          "output_type": "stream",
          "name": "stdout",
          "text": [
            "Train Epoch: 2 [76800/84843 (90%)]\tLoss: 0.501173\n"
          ]
        },
        {
          "output_type": "stream",
          "name": "stderr",
          "text": [
            "  6%|▌         | 1.8613333333333164/30 [00:51<12:47, 27.26s/it]"
          ]
        },
        {
          "output_type": "stream",
          "name": "stdout",
          "text": [
            "Train Epoch: 2 [81920/84843 (96%)]\tLoss: 0.503965\n"
          ]
        },
        {
          "output_type": "stream",
          "name": "stderr",
          "text": [
            "  7%|▋         | 2.0053333333333128/30 [00:54<12:05, 25.92s/it]"
          ]
        },
        {
          "output_type": "stream",
          "name": "stdout",
          "text": [
            "\n",
            "Test Epoch: 2\tAccuracy: 8676/11005 (79%)\n",
            "\n",
            "Train Epoch: 3 [0/84843 (0%)]\tLoss: 0.577168\n"
          ]
        },
        {
          "output_type": "stream",
          "name": "stderr",
          "text": [
            "  7%|▋         | 2.058666666666649/30 [00:56<12:45, 27.41s/it] "
          ]
        },
        {
          "output_type": "stream",
          "name": "stdout",
          "text": [
            "Train Epoch: 3 [5120/84843 (6%)]\tLoss: 0.514699\n"
          ]
        },
        {
          "output_type": "stream",
          "name": "stderr",
          "text": [
            "  7%|▋         | 2.1119999999999854/30 [00:57<12:41, 27.31s/it]"
          ]
        },
        {
          "output_type": "stream",
          "name": "stdout",
          "text": [
            "Train Epoch: 3 [10240/84843 (12%)]\tLoss: 0.643648\n"
          ]
        },
        {
          "output_type": "stream",
          "name": "stderr",
          "text": [
            "  7%|▋         | 2.165333333333322/30 [00:59<12:50, 27.67s/it]"
          ]
        },
        {
          "output_type": "stream",
          "name": "stdout",
          "text": [
            "Train Epoch: 3 [15360/84843 (18%)]\tLoss: 0.567911\n"
          ]
        },
        {
          "output_type": "stream",
          "name": "stderr",
          "text": [
            "  7%|▋         | 2.218666666666658/30 [01:00<12:44, 27.52s/it] "
          ]
        },
        {
          "output_type": "stream",
          "name": "stdout",
          "text": [
            "Train Epoch: 3 [20480/84843 (24%)]\tLoss: 0.695246\n"
          ]
        },
        {
          "output_type": "stream",
          "name": "stderr",
          "text": [
            "  8%|▊         | 2.2719999999999945/30 [01:02<12:49, 27.75s/it]"
          ]
        },
        {
          "output_type": "stream",
          "name": "stdout",
          "text": [
            "Train Epoch: 3 [25600/84843 (30%)]\tLoss: 0.659667\n"
          ]
        },
        {
          "output_type": "stream",
          "name": "stderr",
          "text": [
            "  8%|▊         | 2.325333333333331/30 [01:03<12:39, 27.44s/it]"
          ]
        },
        {
          "output_type": "stream",
          "name": "stdout",
          "text": [
            "Train Epoch: 3 [30720/84843 (36%)]\tLoss: 0.623884\n"
          ]
        },
        {
          "output_type": "stream",
          "name": "stderr",
          "text": [
            "  8%|▊         | 2.378666666666667/30 [01:05<13:22, 29.04s/it] "
          ]
        },
        {
          "output_type": "stream",
          "name": "stdout",
          "text": [
            "Train Epoch: 3 [35840/84843 (42%)]\tLoss: 0.657890\n"
          ]
        },
        {
          "output_type": "stream",
          "name": "stderr",
          "text": [
            "  8%|▊         | 2.4320000000000035/30 [01:06<12:40, 27.60s/it]"
          ]
        },
        {
          "output_type": "stream",
          "name": "stdout",
          "text": [
            "Train Epoch: 3 [40960/84843 (48%)]\tLoss: 0.531405\n"
          ]
        },
        {
          "output_type": "stream",
          "name": "stderr",
          "text": [
            "  8%|▊         | 2.48533333333334/30 [01:08<12:32, 27.34s/it] "
          ]
        },
        {
          "output_type": "stream",
          "name": "stdout",
          "text": [
            "Train Epoch: 3 [46080/84843 (54%)]\tLoss: 0.594050\n"
          ]
        },
        {
          "output_type": "stream",
          "name": "stderr",
          "text": [
            "  8%|▊         | 2.538666666666676/30 [01:09<12:33, 27.43s/it] "
          ]
        },
        {
          "output_type": "stream",
          "name": "stdout",
          "text": [
            "Train Epoch: 3 [51200/84843 (60%)]\tLoss: 0.662585\n"
          ]
        },
        {
          "output_type": "stream",
          "name": "stderr",
          "text": [
            "  9%|▊         | 2.5920000000000125/30 [01:10<12:33, 27.51s/it]"
          ]
        },
        {
          "output_type": "stream",
          "name": "stdout",
          "text": [
            "Train Epoch: 3 [56320/84843 (66%)]\tLoss: 0.635448\n"
          ]
        },
        {
          "output_type": "stream",
          "name": "stderr",
          "text": [
            "  9%|▉         | 2.645333333333349/30 [01:12<12:56, 28.39s/it] "
          ]
        },
        {
          "output_type": "stream",
          "name": "stdout",
          "text": [
            "Train Epoch: 3 [61440/84843 (72%)]\tLoss: 0.593851\n"
          ]
        },
        {
          "output_type": "stream",
          "name": "stderr",
          "text": [
            "  9%|▉         | 2.698666666666685/30 [01:14<13:09, 28.91s/it] "
          ]
        },
        {
          "output_type": "stream",
          "name": "stdout",
          "text": [
            "Train Epoch: 3 [66560/84843 (78%)]\tLoss: 0.572747\n"
          ]
        },
        {
          "output_type": "stream",
          "name": "stderr",
          "text": [
            "  9%|▉         | 2.7520000000000215/30 [01:15<12:50, 28.29s/it]"
          ]
        },
        {
          "output_type": "stream",
          "name": "stdout",
          "text": [
            "Train Epoch: 3 [71680/84843 (84%)]\tLoss: 0.546157\n"
          ]
        },
        {
          "output_type": "stream",
          "name": "stderr",
          "text": [
            "  9%|▉         | 2.805333333333358/30 [01:17<12:38, 27.90s/it] "
          ]
        },
        {
          "output_type": "stream",
          "name": "stdout",
          "text": [
            "Train Epoch: 3 [76800/84843 (90%)]\tLoss: 0.529924\n"
          ]
        },
        {
          "output_type": "stream",
          "name": "stderr",
          "text": [
            " 10%|▉         | 2.8586666666666942/30 [01:18<12:27, 27.53s/it]"
          ]
        },
        {
          "output_type": "stream",
          "name": "stdout",
          "text": [
            "Train Epoch: 3 [81920/84843 (96%)]\tLoss: 0.730192\n"
          ]
        },
        {
          "output_type": "stream",
          "name": "stderr",
          "text": [
            " 10%|█         | 3.0026666666667023/30 [01:22<11:51, 26.37s/it]"
          ]
        },
        {
          "output_type": "stream",
          "name": "stdout",
          "text": [
            "\n",
            "Test Epoch: 3\tAccuracy: 8581/11005 (78%)\n",
            "\n",
            "Train Epoch: 4 [0/84843 (0%)]\tLoss: 0.756837\n"
          ]
        },
        {
          "output_type": "stream",
          "name": "stderr",
          "text": [
            " 10%|█         | 3.0613333333333723/30 [01:23<12:12, 27.19s/it]"
          ]
        },
        {
          "output_type": "stream",
          "name": "stdout",
          "text": [
            "Train Epoch: 4 [5120/84843 (6%)]\tLoss: 0.554173\n"
          ]
        },
        {
          "output_type": "stream",
          "name": "stderr",
          "text": [
            " 10%|█         | 3.1146666666667087/30 [01:25<12:21, 27.57s/it]"
          ]
        },
        {
          "output_type": "stream",
          "name": "stdout",
          "text": [
            "Train Epoch: 4 [10240/84843 (12%)]\tLoss: 0.576945\n"
          ]
        },
        {
          "output_type": "stream",
          "name": "stderr",
          "text": [
            " 11%|█         | 3.168000000000045/30 [01:26<11:59, 26.82s/it] "
          ]
        },
        {
          "output_type": "stream",
          "name": "stdout",
          "text": [
            "Train Epoch: 4 [15360/84843 (18%)]\tLoss: 0.512212\n"
          ]
        },
        {
          "output_type": "stream",
          "name": "stderr",
          "text": [
            " 11%|█         | 3.2213333333333813/30 [01:28<12:10, 27.27s/it]"
          ]
        },
        {
          "output_type": "stream",
          "name": "stdout",
          "text": [
            "Train Epoch: 4 [20480/84843 (24%)]\tLoss: 0.537100\n"
          ]
        },
        {
          "output_type": "stream",
          "name": "stderr",
          "text": [
            " 11%|█         | 3.2746666666667177/30 [01:29<12:32, 28.14s/it]"
          ]
        },
        {
          "output_type": "stream",
          "name": "stdout",
          "text": [
            "Train Epoch: 4 [25600/84843 (30%)]\tLoss: 0.623589\n"
          ]
        },
        {
          "output_type": "stream",
          "name": "stderr",
          "text": [
            " 11%|█         | 3.328000000000054/30 [01:31<12:42, 28.57s/it] "
          ]
        },
        {
          "output_type": "stream",
          "name": "stdout",
          "text": [
            "Train Epoch: 4 [30720/84843 (36%)]\tLoss: 0.508653\n"
          ]
        },
        {
          "output_type": "stream",
          "name": "stderr",
          "text": [
            " 11%|█▏        | 3.3813333333333904/30 [01:32<12:58, 29.25s/it]"
          ]
        },
        {
          "output_type": "stream",
          "name": "stdout",
          "text": [
            "Train Epoch: 4 [35840/84843 (42%)]\tLoss: 0.645080\n"
          ]
        },
        {
          "output_type": "stream",
          "name": "stderr",
          "text": [
            " 11%|█▏        | 3.4346666666667267/30 [01:34<12:52, 29.09s/it]"
          ]
        },
        {
          "output_type": "stream",
          "name": "stdout",
          "text": [
            "Train Epoch: 4 [40960/84843 (48%)]\tLoss: 0.489140\n"
          ]
        },
        {
          "output_type": "stream",
          "name": "stderr",
          "text": [
            " 12%|█▏        | 3.488000000000063/30 [01:35<12:11, 27.60s/it] "
          ]
        },
        {
          "output_type": "stream",
          "name": "stdout",
          "text": [
            "Train Epoch: 4 [46080/84843 (54%)]\tLoss: 0.656983\n"
          ]
        },
        {
          "output_type": "stream",
          "name": "stderr",
          "text": [
            " 12%|█▏        | 3.5413333333333994/30 [01:37<12:00, 27.24s/it]"
          ]
        },
        {
          "output_type": "stream",
          "name": "stdout",
          "text": [
            "Train Epoch: 4 [51200/84843 (60%)]\tLoss: 0.710519\n"
          ]
        },
        {
          "output_type": "stream",
          "name": "stderr",
          "text": [
            " 12%|█▏        | 3.5946666666667357/30 [01:38<11:57, 27.18s/it]"
          ]
        },
        {
          "output_type": "stream",
          "name": "stdout",
          "text": [
            "Train Epoch: 4 [56320/84843 (66%)]\tLoss: 0.560203\n"
          ]
        },
        {
          "output_type": "stream",
          "name": "stderr",
          "text": [
            " 12%|█▏        | 3.648000000000072/30 [01:40<11:53, 27.06s/it] "
          ]
        },
        {
          "output_type": "stream",
          "name": "stdout",
          "text": [
            "Train Epoch: 4 [61440/84843 (72%)]\tLoss: 0.679142\n"
          ]
        },
        {
          "output_type": "stream",
          "name": "stderr",
          "text": [
            " 12%|█▏        | 3.7013333333334084/30 [01:41<11:56, 27.25s/it]"
          ]
        },
        {
          "output_type": "stream",
          "name": "stdout",
          "text": [
            "Train Epoch: 4 [66560/84843 (78%)]\tLoss: 0.651338\n"
          ]
        },
        {
          "output_type": "stream",
          "name": "stderr",
          "text": [
            " 13%|█▎        | 3.7546666666667448/30 [01:43<12:08, 27.74s/it]"
          ]
        },
        {
          "output_type": "stream",
          "name": "stdout",
          "text": [
            "Train Epoch: 4 [71680/84843 (84%)]\tLoss: 0.482819\n"
          ]
        },
        {
          "output_type": "stream",
          "name": "stderr",
          "text": [
            " 13%|█▎        | 3.808000000000081/30 [01:44<11:58, 27.43s/it] "
          ]
        },
        {
          "output_type": "stream",
          "name": "stdout",
          "text": [
            "Train Epoch: 4 [76800/84843 (90%)]\tLoss: 0.695364\n"
          ]
        },
        {
          "output_type": "stream",
          "name": "stderr",
          "text": [
            " 13%|█▎        | 3.8613333333334174/30 [01:45<11:53, 27.29s/it]"
          ]
        },
        {
          "output_type": "stream",
          "name": "stdout",
          "text": [
            "Train Epoch: 4 [81920/84843 (96%)]\tLoss: 0.560429\n"
          ]
        },
        {
          "output_type": "stream",
          "name": "stderr",
          "text": [
            " 13%|█▎        | 4.005333333333424/30 [01:49<11:40, 26.96s/it] "
          ]
        },
        {
          "output_type": "stream",
          "name": "stdout",
          "text": [
            "\n",
            "Test Epoch: 4\tAccuracy: 8773/11005 (80%)\n",
            "\n",
            "Train Epoch: 5 [0/84843 (0%)]\tLoss: 0.411845\n"
          ]
        },
        {
          "output_type": "stream",
          "name": "stderr",
          "text": [
            " 14%|█▎        | 4.058666666666752/30 [01:51<12:03, 27.91s/it]"
          ]
        },
        {
          "output_type": "stream",
          "name": "stdout",
          "text": [
            "Train Epoch: 5 [5120/84843 (6%)]\tLoss: 0.621130\n"
          ]
        },
        {
          "output_type": "stream",
          "name": "stderr",
          "text": [
            " 14%|█▎        | 4.112000000000079/30 [01:52<11:41, 27.09s/it]"
          ]
        },
        {
          "output_type": "stream",
          "name": "stdout",
          "text": [
            "Train Epoch: 5 [10240/84843 (12%)]\tLoss: 0.464462\n"
          ]
        },
        {
          "output_type": "stream",
          "name": "stderr",
          "text": [
            " 14%|█▍        | 4.165333333333407/30 [01:54<11:45, 27.32s/it]"
          ]
        },
        {
          "output_type": "stream",
          "name": "stdout",
          "text": [
            "Train Epoch: 5 [15360/84843 (18%)]\tLoss: 0.596820\n"
          ]
        },
        {
          "output_type": "stream",
          "name": "stderr",
          "text": [
            " 14%|█▍        | 4.218666666666734/30 [01:55<11:45, 27.38s/it]"
          ]
        },
        {
          "output_type": "stream",
          "name": "stdout",
          "text": [
            "Train Epoch: 5 [20480/84843 (24%)]\tLoss: 0.645589\n"
          ]
        },
        {
          "output_type": "stream",
          "name": "stderr",
          "text": [
            " 14%|█▍        | 4.2720000000000615/30 [01:57<12:44, 29.71s/it]"
          ]
        },
        {
          "output_type": "stream",
          "name": "stdout",
          "text": [
            "Train Epoch: 5 [25600/84843 (30%)]\tLoss: 0.532674\n"
          ]
        },
        {
          "output_type": "stream",
          "name": "stderr",
          "text": [
            " 14%|█▍        | 4.325333333333389/30 [01:58<11:31, 26.94s/it]"
          ]
        },
        {
          "output_type": "stream",
          "name": "stdout",
          "text": [
            "Train Epoch: 5 [30720/84843 (36%)]\tLoss: 0.515874\n"
          ]
        },
        {
          "output_type": "stream",
          "name": "stderr",
          "text": [
            " 15%|█▍        | 4.3786666666667164/30 [02:00<11:39, 27.30s/it]"
          ]
        },
        {
          "output_type": "stream",
          "name": "stdout",
          "text": [
            "Train Epoch: 5 [35840/84843 (42%)]\tLoss: 0.501920\n"
          ]
        },
        {
          "output_type": "stream",
          "name": "stderr",
          "text": [
            " 15%|█▍        | 4.432000000000044/30 [02:01<11:55, 27.99s/it]"
          ]
        },
        {
          "output_type": "stream",
          "name": "stdout",
          "text": [
            "Train Epoch: 5 [40960/84843 (48%)]\tLoss: 0.618154\n"
          ]
        },
        {
          "output_type": "stream",
          "name": "stderr",
          "text": [
            " 15%|█▍        | 4.485333333333371/30 [02:02<11:56, 28.08s/it]"
          ]
        },
        {
          "output_type": "stream",
          "name": "stdout",
          "text": [
            "Train Epoch: 5 [46080/84843 (54%)]\tLoss: 0.546126\n"
          ]
        },
        {
          "output_type": "stream",
          "name": "stderr",
          "text": [
            " 15%|█▌        | 4.538666666666699/30 [02:04<12:01, 28.36s/it]"
          ]
        },
        {
          "output_type": "stream",
          "name": "stdout",
          "text": [
            "Train Epoch: 5 [51200/84843 (60%)]\tLoss: 0.515633\n"
          ]
        },
        {
          "output_type": "stream",
          "name": "stderr",
          "text": [
            " 15%|█▌        | 4.592000000000026/30 [02:06<11:56, 28.18s/it] "
          ]
        },
        {
          "output_type": "stream",
          "name": "stdout",
          "text": [
            "Train Epoch: 5 [56320/84843 (66%)]\tLoss: 0.608179\n"
          ]
        },
        {
          "output_type": "stream",
          "name": "stderr",
          "text": [
            " 15%|█▌        | 4.645333333333354/30 [02:07<12:12, 28.89s/it]"
          ]
        },
        {
          "output_type": "stream",
          "name": "stdout",
          "text": [
            "Train Epoch: 5 [61440/84843 (72%)]\tLoss: 0.590188\n"
          ]
        },
        {
          "output_type": "stream",
          "name": "stderr",
          "text": [
            " 16%|█▌        | 4.698666666666681/30 [02:09<11:34, 27.44s/it] "
          ]
        },
        {
          "output_type": "stream",
          "name": "stdout",
          "text": [
            "Train Epoch: 5 [66560/84843 (78%)]\tLoss: 0.539470\n"
          ]
        },
        {
          "output_type": "stream",
          "name": "stderr",
          "text": [
            " 16%|█▌        | 4.752000000000009/30 [02:10<11:30, 27.33s/it]"
          ]
        },
        {
          "output_type": "stream",
          "name": "stdout",
          "text": [
            "Train Epoch: 5 [71680/84843 (84%)]\tLoss: 0.501968\n"
          ]
        },
        {
          "output_type": "stream",
          "name": "stderr",
          "text": [
            " 16%|█▌        | 4.805333333333336/30 [02:11<11:43, 27.91s/it]"
          ]
        },
        {
          "output_type": "stream",
          "name": "stdout",
          "text": [
            "Train Epoch: 5 [76800/84843 (90%)]\tLoss: 0.552617\n"
          ]
        },
        {
          "output_type": "stream",
          "name": "stderr",
          "text": [
            " 16%|█▌        | 4.858666666666664/30 [02:13<11:29, 27.41s/it]"
          ]
        },
        {
          "output_type": "stream",
          "name": "stdout",
          "text": [
            "Train Epoch: 5 [81920/84843 (96%)]\tLoss: 0.661665\n"
          ]
        },
        {
          "output_type": "stream",
          "name": "stderr",
          "text": [
            " 17%|█▋        | 5.002666666666648/30 [02:17<10:56, 26.28s/it]"
          ]
        },
        {
          "output_type": "stream",
          "name": "stdout",
          "text": [
            "\n",
            "Test Epoch: 5\tAccuracy: 8754/11005 (80%)\n",
            "\n",
            "Train Epoch: 6 [0/84843 (0%)]\tLoss: 0.517807\n"
          ]
        },
        {
          "output_type": "stream",
          "name": "stderr",
          "text": [
            " 17%|█▋        | 5.061333333333308/30 [02:18<11:30, 27.67s/it]"
          ]
        },
        {
          "output_type": "stream",
          "name": "stdout",
          "text": [
            "Train Epoch: 6 [5120/84843 (6%)]\tLoss: 0.596036\n"
          ]
        },
        {
          "output_type": "stream",
          "name": "stderr",
          "text": [
            " 17%|█▋        | 5.114666666666635/30 [02:20<11:44, 28.33s/it]"
          ]
        },
        {
          "output_type": "stream",
          "name": "stdout",
          "text": [
            "Train Epoch: 6 [10240/84843 (12%)]\tLoss: 0.469133\n"
          ]
        },
        {
          "output_type": "stream",
          "name": "stderr",
          "text": [
            " 17%|█▋        | 5.167999999999963/30 [02:21<12:19, 29.77s/it]"
          ]
        },
        {
          "output_type": "stream",
          "name": "stdout",
          "text": [
            "Train Epoch: 6 [15360/84843 (18%)]\tLoss: 0.554157\n"
          ]
        },
        {
          "output_type": "stream",
          "name": "stderr",
          "text": [
            " 17%|█▋        | 5.22133333333329/30 [02:23<11:56, 28.92s/it] "
          ]
        },
        {
          "output_type": "stream",
          "name": "stdout",
          "text": [
            "Train Epoch: 6 [20480/84843 (24%)]\tLoss: 0.525328\n"
          ]
        },
        {
          "output_type": "stream",
          "name": "stderr",
          "text": [
            " 18%|█▊        | 5.274666666666618/30 [02:24<11:30, 27.92s/it]"
          ]
        },
        {
          "output_type": "stream",
          "name": "stdout",
          "text": [
            "Train Epoch: 6 [25600/84843 (30%)]\tLoss: 0.449728\n"
          ]
        },
        {
          "output_type": "stream",
          "name": "stderr",
          "text": [
            " 18%|█▊        | 5.327999999999945/30 [02:26<11:24, 27.74s/it] "
          ]
        },
        {
          "output_type": "stream",
          "name": "stdout",
          "text": [
            "Train Epoch: 6 [30720/84843 (36%)]\tLoss: 0.569733\n"
          ]
        },
        {
          "output_type": "stream",
          "name": "stderr",
          "text": [
            " 18%|█▊        | 5.381333333333273/30 [02:27<11:21, 27.66s/it]"
          ]
        },
        {
          "output_type": "stream",
          "name": "stdout",
          "text": [
            "Train Epoch: 6 [35840/84843 (42%)]\tLoss: 0.642139\n"
          ]
        },
        {
          "output_type": "stream",
          "name": "stderr",
          "text": [
            " 18%|█▊        | 5.4346666666666/30 [02:29<11:26, 27.97s/it]  "
          ]
        },
        {
          "output_type": "stream",
          "name": "stdout",
          "text": [
            "Train Epoch: 6 [40960/84843 (48%)]\tLoss: 0.706470\n"
          ]
        },
        {
          "output_type": "stream",
          "name": "stderr",
          "text": [
            " 18%|█▊        | 5.487999999999928/30 [02:30<11:15, 27.55s/it]"
          ]
        },
        {
          "output_type": "stream",
          "name": "stdout",
          "text": [
            "Train Epoch: 6 [46080/84843 (54%)]\tLoss: 0.481923\n"
          ]
        },
        {
          "output_type": "stream",
          "name": "stderr",
          "text": [
            " 18%|█▊        | 5.541333333333255/30 [02:32<11:25, 28.05s/it]"
          ]
        },
        {
          "output_type": "stream",
          "name": "stdout",
          "text": [
            "Train Epoch: 6 [51200/84843 (60%)]\tLoss: 0.531528\n"
          ]
        },
        {
          "output_type": "stream",
          "name": "stderr",
          "text": [
            " 19%|█▊        | 5.5946666666665825/30 [02:33<11:07, 27.36s/it]"
          ]
        },
        {
          "output_type": "stream",
          "name": "stdout",
          "text": [
            "Train Epoch: 6 [56320/84843 (66%)]\tLoss: 0.458393\n"
          ]
        },
        {
          "output_type": "stream",
          "name": "stderr",
          "text": [
            " 19%|█▉        | 5.64799999999991/30 [02:35<11:26, 28.21s/it] "
          ]
        },
        {
          "output_type": "stream",
          "name": "stdout",
          "text": [
            "Train Epoch: 6 [61440/84843 (72%)]\tLoss: 0.514815\n"
          ]
        },
        {
          "output_type": "stream",
          "name": "stderr",
          "text": [
            " 19%|█▉        | 5.701333333333237/30 [02:36<11:46, 29.07s/it]"
          ]
        },
        {
          "output_type": "stream",
          "name": "stdout",
          "text": [
            "Train Epoch: 6 [66560/84843 (78%)]\tLoss: 0.488275\n"
          ]
        },
        {
          "output_type": "stream",
          "name": "stderr",
          "text": [
            " 19%|█▉        | 5.754666666666565/30 [02:38<11:26, 28.30s/it]"
          ]
        },
        {
          "output_type": "stream",
          "name": "stdout",
          "text": [
            "Train Epoch: 6 [71680/84843 (84%)]\tLoss: 0.531016\n"
          ]
        },
        {
          "output_type": "stream",
          "name": "stderr",
          "text": [
            " 19%|█▉        | 5.807999999999892/30 [02:39<11:34, 28.69s/it]"
          ]
        },
        {
          "output_type": "stream",
          "name": "stdout",
          "text": [
            "Train Epoch: 6 [76800/84843 (90%)]\tLoss: 0.497590\n"
          ]
        },
        {
          "output_type": "stream",
          "name": "stderr",
          "text": [
            " 20%|█▉        | 5.86133333333322/30 [02:41<11:10, 27.77s/it] "
          ]
        },
        {
          "output_type": "stream",
          "name": "stdout",
          "text": [
            "Train Epoch: 6 [81920/84843 (96%)]\tLoss: 0.735085\n"
          ]
        },
        {
          "output_type": "stream",
          "name": "stderr",
          "text": [
            " 20%|██        | 6.005333333333204/30 [02:45<10:37, 26.58s/it]"
          ]
        },
        {
          "output_type": "stream",
          "name": "stdout",
          "text": [
            "\n",
            "Test Epoch: 6\tAccuracy: 8738/11005 (79%)\n",
            "\n",
            "Train Epoch: 7 [0/84843 (0%)]\tLoss: 0.515212\n"
          ]
        },
        {
          "output_type": "stream",
          "name": "stderr",
          "text": [
            " 20%|██        | 6.058666666666531/30 [02:46<10:58, 27.50s/it]"
          ]
        },
        {
          "output_type": "stream",
          "name": "stdout",
          "text": [
            "Train Epoch: 7 [5120/84843 (6%)]\tLoss: 0.483518\n"
          ]
        },
        {
          "output_type": "stream",
          "name": "stderr",
          "text": [
            " 20%|██        | 6.111999999999859/30 [02:47<10:57, 27.51s/it]"
          ]
        },
        {
          "output_type": "stream",
          "name": "stdout",
          "text": [
            "Train Epoch: 7 [10240/84843 (12%)]\tLoss: 0.467273\n"
          ]
        },
        {
          "output_type": "stream",
          "name": "stderr",
          "text": [
            " 21%|██        | 6.165333333333186/30 [02:49<11:57, 30.11s/it]"
          ]
        },
        {
          "output_type": "stream",
          "name": "stdout",
          "text": [
            "Train Epoch: 7 [15360/84843 (18%)]\tLoss: 0.493167\n"
          ]
        },
        {
          "output_type": "stream",
          "name": "stderr",
          "text": [
            " 21%|██        | 6.218666666666514/30 [02:51<11:09, 28.17s/it]"
          ]
        },
        {
          "output_type": "stream",
          "name": "stdout",
          "text": [
            "Train Epoch: 7 [20480/84843 (24%)]\tLoss: 0.632956\n"
          ]
        },
        {
          "output_type": "stream",
          "name": "stderr",
          "text": [
            " 21%|██        | 6.271999999999841/30 [02:52<11:23, 28.81s/it] "
          ]
        },
        {
          "output_type": "stream",
          "name": "stdout",
          "text": [
            "Train Epoch: 7 [25600/84843 (30%)]\tLoss: 0.585441\n"
          ]
        },
        {
          "output_type": "stream",
          "name": "stderr",
          "text": [
            " 21%|██        | 6.325333333333169/30 [02:54<11:08, 28.24s/it]"
          ]
        },
        {
          "output_type": "stream",
          "name": "stdout",
          "text": [
            "Train Epoch: 7 [30720/84843 (36%)]\tLoss: 0.633857\n"
          ]
        },
        {
          "output_type": "stream",
          "name": "stderr",
          "text": [
            " 21%|██▏       | 6.378666666666496/30 [02:55<11:18, 28.73s/it]"
          ]
        },
        {
          "output_type": "stream",
          "name": "stdout",
          "text": [
            "Train Epoch: 7 [35840/84843 (42%)]\tLoss: 0.710306\n"
          ]
        },
        {
          "output_type": "stream",
          "name": "stderr",
          "text": [
            " 21%|██▏       | 6.431999999999824/30 [02:57<11:23, 29.00s/it]"
          ]
        },
        {
          "output_type": "stream",
          "name": "stdout",
          "text": [
            "Train Epoch: 7 [40960/84843 (48%)]\tLoss: 0.622735\n"
          ]
        },
        {
          "output_type": "stream",
          "name": "stderr",
          "text": [
            " 22%|██▏       | 6.485333333333151/30 [02:58<10:47, 27.55s/it]"
          ]
        },
        {
          "output_type": "stream",
          "name": "stdout",
          "text": [
            "Train Epoch: 7 [46080/84843 (54%)]\tLoss: 0.526297\n"
          ]
        },
        {
          "output_type": "stream",
          "name": "stderr",
          "text": [
            " 22%|██▏       | 6.5386666666664786/30 [03:00<10:42, 27.40s/it]"
          ]
        },
        {
          "output_type": "stream",
          "name": "stdout",
          "text": [
            "Train Epoch: 7 [51200/84843 (60%)]\tLoss: 0.593364\n"
          ]
        },
        {
          "output_type": "stream",
          "name": "stderr",
          "text": [
            " 22%|██▏       | 6.591999999999806/30 [03:01<10:44, 27.55s/it]"
          ]
        },
        {
          "output_type": "stream",
          "name": "stdout",
          "text": [
            "Train Epoch: 7 [56320/84843 (66%)]\tLoss: 0.561235\n"
          ]
        },
        {
          "output_type": "stream",
          "name": "stderr",
          "text": [
            " 22%|██▏       | 6.6453333333331335/30 [03:03<10:47, 27.73s/it]"
          ]
        },
        {
          "output_type": "stream",
          "name": "stdout",
          "text": [
            "Train Epoch: 7 [61440/84843 (72%)]\tLoss: 0.558261\n"
          ]
        },
        {
          "output_type": "stream",
          "name": "stderr",
          "text": [
            " 22%|██▏       | 6.698666666666461/30 [03:04<10:46, 27.75s/it]"
          ]
        },
        {
          "output_type": "stream",
          "name": "stdout",
          "text": [
            "Train Epoch: 7 [66560/84843 (78%)]\tLoss: 0.533103\n"
          ]
        },
        {
          "output_type": "stream",
          "name": "stderr",
          "text": [
            " 23%|██▎       | 6.751999999999788/30 [03:05<10:40, 27.55s/it]"
          ]
        },
        {
          "output_type": "stream",
          "name": "stdout",
          "text": [
            "Train Epoch: 7 [71680/84843 (84%)]\tLoss: 0.651602\n"
          ]
        },
        {
          "output_type": "stream",
          "name": "stderr",
          "text": [
            " 23%|██▎       | 6.805333333333116/30 [03:07<10:50, 28.04s/it]"
          ]
        },
        {
          "output_type": "stream",
          "name": "stdout",
          "text": [
            "Train Epoch: 7 [76800/84843 (90%)]\tLoss: 0.653732\n"
          ]
        },
        {
          "output_type": "stream",
          "name": "stderr",
          "text": [
            " 23%|██▎       | 6.858666666666443/30 [03:08<10:45, 27.89s/it]"
          ]
        },
        {
          "output_type": "stream",
          "name": "stdout",
          "text": [
            "Train Epoch: 7 [81920/84843 (96%)]\tLoss: 0.449086\n"
          ]
        },
        {
          "output_type": "stream",
          "name": "stderr",
          "text": [
            " 23%|██▎       | 7.0026666666664275/30 [03:12<10:30, 27.42s/it]"
          ]
        },
        {
          "output_type": "stream",
          "name": "stdout",
          "text": [
            "\n",
            "Test Epoch: 7\tAccuracy: 8697/11005 (79%)\n",
            "\n",
            "Train Epoch: 8 [0/84843 (0%)]\tLoss: 0.609331\n"
          ]
        },
        {
          "output_type": "stream",
          "name": "stderr",
          "text": [
            " 24%|██▎       | 7.061333333333088/30 [03:14<10:38, 27.83s/it]"
          ]
        },
        {
          "output_type": "stream",
          "name": "stdout",
          "text": [
            "Train Epoch: 8 [5120/84843 (6%)]\tLoss: 0.485349\n"
          ]
        },
        {
          "output_type": "stream",
          "name": "stderr",
          "text": [
            " 24%|██▎       | 7.114666666666415/30 [03:15<10:34, 27.71s/it]"
          ]
        },
        {
          "output_type": "stream",
          "name": "stdout",
          "text": [
            "Train Epoch: 8 [10240/84843 (12%)]\tLoss: 0.486173\n"
          ]
        },
        {
          "output_type": "stream",
          "name": "stderr",
          "text": [
            " 24%|██▍       | 7.167999999999743/30 [03:17<10:38, 27.98s/it]"
          ]
        },
        {
          "output_type": "stream",
          "name": "stdout",
          "text": [
            "Train Epoch: 8 [15360/84843 (18%)]\tLoss: 0.460683\n"
          ]
        },
        {
          "output_type": "stream",
          "name": "stderr",
          "text": [
            " 24%|██▍       | 7.22133333333307/30 [03:18<10:26, 27.49s/it] "
          ]
        },
        {
          "output_type": "stream",
          "name": "stdout",
          "text": [
            "Train Epoch: 8 [20480/84843 (24%)]\tLoss: 0.581780\n"
          ]
        },
        {
          "output_type": "stream",
          "name": "stderr",
          "text": [
            " 24%|██▍       | 7.2746666666663975/30 [03:20<10:32, 27.82s/it]"
          ]
        },
        {
          "output_type": "stream",
          "name": "stdout",
          "text": [
            "Train Epoch: 8 [25600/84843 (30%)]\tLoss: 0.524801\n"
          ]
        },
        {
          "output_type": "stream",
          "name": "stderr",
          "text": [
            " 24%|██▍       | 7.327999999999725/30 [03:21<10:19, 27.32s/it]"
          ]
        },
        {
          "output_type": "stream",
          "name": "stdout",
          "text": [
            "Train Epoch: 8 [30720/84843 (36%)]\tLoss: 0.667770\n"
          ]
        },
        {
          "output_type": "stream",
          "name": "stderr",
          "text": [
            " 25%|██▍       | 7.381333333333052/30 [03:23<10:20, 27.45s/it]"
          ]
        },
        {
          "output_type": "stream",
          "name": "stdout",
          "text": [
            "Train Epoch: 8 [35840/84843 (42%)]\tLoss: 0.536921\n"
          ]
        },
        {
          "output_type": "stream",
          "name": "stderr",
          "text": [
            " 25%|██▍       | 7.43466666666638/30 [03:24<10:24, 27.66s/it] "
          ]
        },
        {
          "output_type": "stream",
          "name": "stdout",
          "text": [
            "Train Epoch: 8 [40960/84843 (48%)]\tLoss: 0.516761\n"
          ]
        },
        {
          "output_type": "stream",
          "name": "stderr",
          "text": [
            " 25%|██▍       | 7.487999999999707/30 [03:26<10:31, 28.05s/it]"
          ]
        },
        {
          "output_type": "stream",
          "name": "stdout",
          "text": [
            "Train Epoch: 8 [46080/84843 (54%)]\tLoss: 0.490396\n"
          ]
        },
        {
          "output_type": "stream",
          "name": "stderr",
          "text": [
            " 25%|██▌       | 7.541333333333035/30 [03:27<10:22, 27.70s/it]"
          ]
        },
        {
          "output_type": "stream",
          "name": "stdout",
          "text": [
            "Train Epoch: 8 [51200/84843 (60%)]\tLoss: 0.709887\n"
          ]
        },
        {
          "output_type": "stream",
          "name": "stderr",
          "text": [
            " 25%|██▌       | 7.594666666666362/30 [03:29<10:30, 28.16s/it] "
          ]
        },
        {
          "output_type": "stream",
          "name": "stdout",
          "text": [
            "Train Epoch: 8 [56320/84843 (66%)]\tLoss: 0.539028\n"
          ]
        },
        {
          "output_type": "stream",
          "name": "stderr",
          "text": [
            " 25%|██▌       | 7.64799999999969/30 [03:30<10:17, 27.64s/it] "
          ]
        },
        {
          "output_type": "stream",
          "name": "stdout",
          "text": [
            "Train Epoch: 8 [61440/84843 (72%)]\tLoss: 0.485821\n"
          ]
        },
        {
          "output_type": "stream",
          "name": "stderr",
          "text": [
            " 26%|██▌       | 7.701333333333017/30 [03:32<10:06, 27.22s/it]"
          ]
        },
        {
          "output_type": "stream",
          "name": "stdout",
          "text": [
            "Train Epoch: 8 [66560/84843 (78%)]\tLoss: 0.457566\n"
          ]
        },
        {
          "output_type": "stream",
          "name": "stderr",
          "text": [
            " 26%|██▌       | 7.754666666666345/30 [03:33<10:14, 27.60s/it]"
          ]
        },
        {
          "output_type": "stream",
          "name": "stdout",
          "text": [
            "Train Epoch: 8 [71680/84843 (84%)]\tLoss: 0.612409\n"
          ]
        },
        {
          "output_type": "stream",
          "name": "stderr",
          "text": [
            " 26%|██▌       | 7.807999999999672/30 [03:35<10:00, 27.08s/it]"
          ]
        },
        {
          "output_type": "stream",
          "name": "stdout",
          "text": [
            "Train Epoch: 8 [76800/84843 (90%)]\tLoss: 0.551526\n"
          ]
        },
        {
          "output_type": "stream",
          "name": "stderr",
          "text": [
            " 26%|██▌       | 7.8613333333329996/30 [03:36<10:06, 27.40s/it]"
          ]
        },
        {
          "output_type": "stream",
          "name": "stdout",
          "text": [
            "Train Epoch: 8 [81920/84843 (96%)]\tLoss: 0.624075\n"
          ]
        },
        {
          "output_type": "stream",
          "name": "stderr",
          "text": [
            " 27%|██▋       | 8.005333333332985/30 [03:40<09:53, 26.97s/it]"
          ]
        },
        {
          "output_type": "stream",
          "name": "stdout",
          "text": [
            "\n",
            "Test Epoch: 8\tAccuracy: 8687/11005 (79%)\n",
            "\n",
            "Train Epoch: 9 [0/84843 (0%)]\tLoss: 0.636848\n"
          ]
        },
        {
          "output_type": "stream",
          "name": "stderr",
          "text": [
            " 27%|██▋       | 8.058666666666312/30 [03:41<11:39, 31.88s/it]"
          ]
        },
        {
          "output_type": "stream",
          "name": "stdout",
          "text": [
            "Train Epoch: 9 [5120/84843 (6%)]\tLoss: 0.680792\n"
          ]
        },
        {
          "output_type": "stream",
          "name": "stderr",
          "text": [
            " 27%|██▋       | 8.11199999999964/30 [03:43<10:21, 28.38s/it] "
          ]
        },
        {
          "output_type": "stream",
          "name": "stdout",
          "text": [
            "Train Epoch: 9 [10240/84843 (12%)]\tLoss: 0.436367\n"
          ]
        },
        {
          "output_type": "stream",
          "name": "stderr",
          "text": [
            " 27%|██▋       | 8.165333333332967/30 [03:44<10:32, 28.96s/it]"
          ]
        },
        {
          "output_type": "stream",
          "name": "stdout",
          "text": [
            "Train Epoch: 9 [15360/84843 (18%)]\tLoss: 0.520300\n"
          ]
        },
        {
          "output_type": "stream",
          "name": "stderr",
          "text": [
            " 27%|██▋       | 8.218666666666294/30 [03:46<10:17, 28.37s/it]"
          ]
        },
        {
          "output_type": "stream",
          "name": "stdout",
          "text": [
            "Train Epoch: 9 [20480/84843 (24%)]\tLoss: 0.537455\n"
          ]
        },
        {
          "output_type": "stream",
          "name": "stderr",
          "text": [
            " 28%|██▊       | 8.271999999999622/30 [03:47<09:44, 26.92s/it]"
          ]
        },
        {
          "output_type": "stream",
          "name": "stdout",
          "text": [
            "Train Epoch: 9 [25600/84843 (30%)]\tLoss: 0.523852\n"
          ]
        },
        {
          "output_type": "stream",
          "name": "stderr",
          "text": [
            " 28%|██▊       | 8.32533333333295/30 [03:49<09:54, 27.45s/it] "
          ]
        },
        {
          "output_type": "stream",
          "name": "stdout",
          "text": [
            "Train Epoch: 9 [30720/84843 (36%)]\tLoss: 0.698837\n"
          ]
        },
        {
          "output_type": "stream",
          "name": "stderr",
          "text": [
            " 28%|██▊       | 8.378666666666277/30 [03:50<09:51, 27.38s/it]"
          ]
        },
        {
          "output_type": "stream",
          "name": "stdout",
          "text": [
            "Train Epoch: 9 [35840/84843 (42%)]\tLoss: 0.617506\n"
          ]
        },
        {
          "output_type": "stream",
          "name": "stderr",
          "text": [
            " 28%|██▊       | 8.431999999999604/30 [03:52<09:51, 27.44s/it]"
          ]
        },
        {
          "output_type": "stream",
          "name": "stdout",
          "text": [
            "Train Epoch: 9 [40960/84843 (48%)]\tLoss: 0.667939\n"
          ]
        },
        {
          "output_type": "stream",
          "name": "stderr",
          "text": [
            " 28%|██▊       | 8.485333333332932/30 [03:53<09:48, 27.36s/it]"
          ]
        },
        {
          "output_type": "stream",
          "name": "stdout",
          "text": [
            "Train Epoch: 9 [46080/84843 (54%)]\tLoss: 0.568143\n"
          ]
        },
        {
          "output_type": "stream",
          "name": "stderr",
          "text": [
            " 28%|██▊       | 8.53866666666626/30 [03:55<09:46, 27.34s/it] "
          ]
        },
        {
          "output_type": "stream",
          "name": "stdout",
          "text": [
            "Train Epoch: 9 [51200/84843 (60%)]\tLoss: 0.527016\n"
          ]
        },
        {
          "output_type": "stream",
          "name": "stderr",
          "text": [
            " 29%|██▊       | 8.591999999999587/30 [03:56<09:44, 27.32s/it]"
          ]
        },
        {
          "output_type": "stream",
          "name": "stdout",
          "text": [
            "Train Epoch: 9 [56320/84843 (66%)]\tLoss: 0.533965\n"
          ]
        },
        {
          "output_type": "stream",
          "name": "stderr",
          "text": [
            " 29%|██▉       | 8.645333333332914/30 [03:58<09:52, 27.75s/it]"
          ]
        },
        {
          "output_type": "stream",
          "name": "stdout",
          "text": [
            "Train Epoch: 9 [61440/84843 (72%)]\tLoss: 0.530811\n"
          ]
        },
        {
          "output_type": "stream",
          "name": "stderr",
          "text": [
            " 29%|██▉       | 8.698666666666242/30 [03:59<09:58, 28.08s/it]"
          ]
        },
        {
          "output_type": "stream",
          "name": "stdout",
          "text": [
            "Train Epoch: 9 [66560/84843 (78%)]\tLoss: 0.474029\n"
          ]
        },
        {
          "output_type": "stream",
          "name": "stderr",
          "text": [
            " 29%|██▉       | 8.751999999999569/30 [04:01<09:58, 28.15s/it]"
          ]
        },
        {
          "output_type": "stream",
          "name": "stdout",
          "text": [
            "Train Epoch: 9 [71680/84843 (84%)]\tLoss: 0.435477\n"
          ]
        },
        {
          "output_type": "stream",
          "name": "stderr",
          "text": [
            " 29%|██▉       | 8.805333333332896/30 [04:02<09:57, 28.20s/it]"
          ]
        },
        {
          "output_type": "stream",
          "name": "stdout",
          "text": [
            "Train Epoch: 9 [76800/84843 (90%)]\tLoss: 0.648322\n"
          ]
        },
        {
          "output_type": "stream",
          "name": "stderr",
          "text": [
            " 30%|██▉       | 8.858666666666224/30 [04:04<09:39, 27.41s/it]"
          ]
        },
        {
          "output_type": "stream",
          "name": "stdout",
          "text": [
            "Train Epoch: 9 [81920/84843 (96%)]\tLoss: 0.497513\n"
          ]
        },
        {
          "output_type": "stream",
          "name": "stderr",
          "text": [
            " 30%|███       | 9.002666666666208/30 [04:07<09:13, 26.37s/it]"
          ]
        },
        {
          "output_type": "stream",
          "name": "stdout",
          "text": [
            "\n",
            "Test Epoch: 9\tAccuracy: 8946/11005 (81%)\n",
            "\n",
            "Train Epoch: 10 [0/84843 (0%)]\tLoss: 0.507054\n"
          ]
        },
        {
          "output_type": "stream",
          "name": "stderr",
          "text": [
            " 30%|███       | 9.061333333332868/30 [04:09<09:35, 27.48s/it]"
          ]
        },
        {
          "output_type": "stream",
          "name": "stdout",
          "text": [
            "Train Epoch: 10 [5120/84843 (6%)]\tLoss: 0.652830\n"
          ]
        },
        {
          "output_type": "stream",
          "name": "stderr",
          "text": [
            " 30%|███       | 9.114666666666196/30 [04:10<09:29, 27.26s/it]"
          ]
        },
        {
          "output_type": "stream",
          "name": "stdout",
          "text": [
            "Train Epoch: 10 [10240/84843 (12%)]\tLoss: 0.570267\n"
          ]
        },
        {
          "output_type": "stream",
          "name": "stderr",
          "text": [
            " 31%|███       | 9.167999999999523/30 [04:12<09:29, 27.36s/it]"
          ]
        },
        {
          "output_type": "stream",
          "name": "stdout",
          "text": [
            "Train Epoch: 10 [15360/84843 (18%)]\tLoss: 0.507049\n"
          ]
        },
        {
          "output_type": "stream",
          "name": "stderr",
          "text": [
            " 31%|███       | 9.22133333333285/30 [04:13<09:34, 27.64s/it] "
          ]
        },
        {
          "output_type": "stream",
          "name": "stdout",
          "text": [
            "Train Epoch: 10 [20480/84843 (24%)]\tLoss: 0.406640\n"
          ]
        },
        {
          "output_type": "stream",
          "name": "stderr",
          "text": [
            " 31%|███       | 9.274666666666178/30 [04:15<09:41, 28.04s/it]"
          ]
        },
        {
          "output_type": "stream",
          "name": "stdout",
          "text": [
            "Train Epoch: 10 [25600/84843 (30%)]\tLoss: 0.429989\n"
          ]
        },
        {
          "output_type": "stream",
          "name": "stderr",
          "text": [
            " 31%|███       | 9.327999999999506/30 [04:16<09:39, 28.04s/it]"
          ]
        },
        {
          "output_type": "stream",
          "name": "stdout",
          "text": [
            "Train Epoch: 10 [30720/84843 (36%)]\tLoss: 0.550650\n"
          ]
        },
        {
          "output_type": "stream",
          "name": "stderr",
          "text": [
            " 31%|███▏      | 9.381333333332833/30 [04:18<09:37, 28.03s/it]"
          ]
        },
        {
          "output_type": "stream",
          "name": "stdout",
          "text": [
            "Train Epoch: 10 [35840/84843 (42%)]\tLoss: 0.433375\n"
          ]
        },
        {
          "output_type": "stream",
          "name": "stderr",
          "text": [
            " 31%|███▏      | 9.43466666666616/30 [04:19<09:46, 28.53s/it] "
          ]
        },
        {
          "output_type": "stream",
          "name": "stdout",
          "text": [
            "Train Epoch: 10 [40960/84843 (48%)]\tLoss: 0.626936\n"
          ]
        },
        {
          "output_type": "stream",
          "name": "stderr",
          "text": [
            " 32%|███▏      | 9.487999999999488/30 [04:21<09:22, 27.44s/it]"
          ]
        },
        {
          "output_type": "stream",
          "name": "stdout",
          "text": [
            "Train Epoch: 10 [46080/84843 (54%)]\tLoss: 0.552627\n"
          ]
        },
        {
          "output_type": "stream",
          "name": "stderr",
          "text": [
            " 32%|███▏      | 9.541333333332815/30 [04:22<09:14, 27.11s/it]"
          ]
        },
        {
          "output_type": "stream",
          "name": "stdout",
          "text": [
            "Train Epoch: 10 [51200/84843 (60%)]\tLoss: 0.517483\n"
          ]
        },
        {
          "output_type": "stream",
          "name": "stderr",
          "text": [
            " 32%|███▏      | 9.594666666666143/30 [04:24<09:12, 27.06s/it]"
          ]
        },
        {
          "output_type": "stream",
          "name": "stdout",
          "text": [
            "Train Epoch: 10 [56320/84843 (66%)]\tLoss: 0.553511\n"
          ]
        },
        {
          "output_type": "stream",
          "name": "stderr",
          "text": [
            " 32%|███▏      | 9.64799999999947/30 [04:25<09:07, 26.89s/it] "
          ]
        },
        {
          "output_type": "stream",
          "name": "stdout",
          "text": [
            "Train Epoch: 10 [61440/84843 (72%)]\tLoss: 0.505038\n"
          ]
        },
        {
          "output_type": "stream",
          "name": "stderr",
          "text": [
            " 32%|███▏      | 9.701333333332798/30 [04:27<09:11, 27.19s/it]"
          ]
        },
        {
          "output_type": "stream",
          "name": "stdout",
          "text": [
            "Train Epoch: 10 [66560/84843 (78%)]\tLoss: 0.574525\n"
          ]
        },
        {
          "output_type": "stream",
          "name": "stderr",
          "text": [
            " 33%|███▎      | 9.754666666666125/30 [04:28<09:08, 27.09s/it]"
          ]
        },
        {
          "output_type": "stream",
          "name": "stdout",
          "text": [
            "Train Epoch: 10 [71680/84843 (84%)]\tLoss: 0.458163\n"
          ]
        },
        {
          "output_type": "stream",
          "name": "stderr",
          "text": [
            " 33%|███▎      | 9.807999999999453/30 [04:30<09:16, 27.56s/it]"
          ]
        },
        {
          "output_type": "stream",
          "name": "stdout",
          "text": [
            "Train Epoch: 10 [76800/84843 (90%)]\tLoss: 0.697574\n"
          ]
        },
        {
          "output_type": "stream",
          "name": "stderr",
          "text": [
            " 33%|███▎      | 9.86133333333278/30 [04:31<09:15, 27.58s/it] "
          ]
        },
        {
          "output_type": "stream",
          "name": "stdout",
          "text": [
            "Train Epoch: 10 [81920/84843 (96%)]\tLoss: 0.659743\n"
          ]
        },
        {
          "output_type": "stream",
          "name": "stderr",
          "text": [
            " 33%|███▎      | 9.999999999999432/30 [04:35<09:10, 27.52s/it]\n"
          ]
        },
        {
          "output_type": "stream",
          "name": "stdout",
          "text": [
            "\n",
            "Test Epoch: 10\tAccuracy: 8481/11005 (77%)\n",
            "\n",
            "성능 향상이 없는 10 에폭 후 조기 종료.\n"
          ]
        },
        {
          "output_type": "display_data",
          "data": {
            "text/plain": [
              "<Figure size 1000x400 with 3 Axes>"
            ],
            "image/png": "[encoded data removed]"
          },
          "metadata": {}
        }
      ]
    },
    {
      "cell_type": "markdown",
      "metadata": {
        "id": "R_O07gpBfhcV"
      },
      "source": [
        "The network should be more than 65% accurate on the test set after 2\n",
        "epochs, and 85% after 21 epochs. Let’s look at the last words in the\n",
        "train set, and see how the model did on it.\n",
        "\n",
        "\n"
      ]
    },
    {
      "cell_type": "code",
      "execution_count": 37,
      "metadata": {
        "id": "EBRHfxedfhcV",
        "colab": {
          "base_uri": "https://localhost:8080/"
        },
        "outputId": "267b12cf-7ce4-4cdb-998e-57fdaf2f2077"
      },
      "outputs": [
        {
          "output_type": "stream",
          "name": "stdout",
          "text": [
            "Expected: zero. Predicted: zero.\n"
          ]
        }
      ],
      "source": [
        "def predict(tensor):\n",
        "    # Use the model to predict the label of the waveform\n",
        "    tensor = tensor.to(device)\n",
        "    tensor = transform(tensor)\n",
        "    tensor = model(tensor.unsqueeze(0))\n",
        "    tensor = get_likely_index(tensor)\n",
        "    tensor = index_to_label(tensor.squeeze())\n",
        "    return tensor\n",
        "\n",
        "\n",
        "waveform, sample_rate, utterance, *_ = train_set[-1]\n",
        "ipd.Audio(waveform.numpy(), rate=sample_rate)\n",
        "\n",
        "print(f\"Expected: {utterance}. Predicted: {predict(waveform)}.\")"
      ]
    },
    {
      "cell_type": "markdown",
      "metadata": {
        "id": "C4zHJ_8YfhcV"
      },
      "source": [
        "Let’s find an example that isn’t classified correctly, if there is one.\n",
        "\n",
        "\n"
      ]
    },
    {
      "cell_type": "code",
      "execution_count": 38,
      "metadata": {
        "id": "ioH_w9AtfhcV",
        "colab": {
          "base_uri": "https://localhost:8080/"
        },
        "outputId": "715d4a50-f9a5-493b-a1e3-6b558d1a580b"
      },
      "outputs": [
        {
          "output_type": "stream",
          "name": "stdout",
          "text": [
            "Data point #1. Expected: right. Predicted: nine.\n"
          ]
        }
      ],
      "source": [
        "for i, (waveform, sample_rate, utterance, *_) in enumerate(test_set):\n",
        "    output = predict(waveform)\n",
        "    if output != utterance:\n",
        "        ipd.Audio(waveform.numpy(), rate=sample_rate)\n",
        "        print(f\"Data point #{i}. Expected: {utterance}. Predicted: {output}.\")\n",
        "        break\n",
        "else:\n",
        "    print(\"All examples in this dataset were correctly classified!\")\n",
        "    print(\"In this case, let's just look at the last data point\")\n",
        "    ipd.Audio(waveform.numpy(), rate=sample_rate)\n",
        "    print(f\"Data point #{i}. Expected: {utterance}. Predicted: {output}.\")"
      ]
    },
    {
      "cell_type": "markdown",
      "metadata": {
        "id": "2PMBEqxBfhcV"
      },
      "source": [
        "Feel free to try with one of your own recordings of one of the labels!\n",
        "For example, using Colab, say “Go” while executing the cell below. This\n",
        "will record one second of audio and try to classify it.\n",
        "\n",
        "\n"
      ]
    },
    {
      "cell_type": "code",
      "source": [
        "import sys\n",
        "sys.path\n"
      ],
      "metadata": {
        "colab": {
          "base_uri": "https://localhost:8080/"
        },
        "id": "QdSboGz70Lop",
        "outputId": "bbebc43e-eaee-401f-f9c8-67baeec41693"
      },
      "execution_count": 40,
      "outputs": [
        {
          "output_type": "execute_result",
          "data": {
            "text/plain": [
              "['/content',\n",
              " '/env/python',\n",
              " '/usr/lib/python310.zip',\n",
              " '/usr/lib/python3.10',\n",
              " '/usr/lib/python3.10/lib-dynload',\n",
              " '',\n",
              " '/usr/local/lib/python3.10/dist-packages',\n",
              " '/usr/lib/python3/dist-packages',\n",
              " '/usr/local/lib/python3.10/dist-packages/IPython/extensions',\n",
              " '/root/.ipython']"
            ]
          },
          "metadata": {},
          "execution_count": 40
        }
      ]
    },
    {
      "cell_type": "code",
      "source": [
        "#ModuleNotFoundError: No module named 'pydub'문제 해결\n",
        "#\"pydub\" 패키지의 경로가 경로 리스트에 없어서, 필요한 경로를 직접 추가\n",
        "sys.path.append('/usr/local/lib/python3.8/site-packages')"
      ],
      "metadata": {
        "id": "Fvp4yxKJ0O5Q"
      },
      "execution_count": 41,
      "outputs": []
    },
    {
      "cell_type": "code",
      "execution_count": 43,
      "metadata": {
        "id": "Xb0NeX-1fhcV",
        "colab": {
          "base_uri": "https://localhost:8080/",
          "height": 71
        },
        "outputId": "f069a014-5de6-4645-dfa2-2c5b8d92b99c"
      },
      "outputs": [
        {
          "output_type": "stream",
          "name": "stdout",
          "text": [
            "Recording started for 3 seconds.\n"
          ]
        },
        {
          "output_type": "display_data",
          "data": {
            "text/plain": [
              "<IPython.core.display.Javascript object>"
            ],
            "application/javascript": [
              "const sleep  = time => new Promise(resolve => setTimeout(resolve, time))\n",
              "const b2text = blob => new Promise(resolve => {\n",
              "  const reader = new FileReader()\n",
              "  reader.onloadend = e => resolve(e.srcElement.result)\n",
              "  reader.readAsDataURL(blob)\n",
              "})\n",
              "var record = time => new Promise(async resolve => {\n",
              "  stream = await navigator.mediaDevices.getUserMedia({ audio: true })\n",
              "  recorder = new MediaRecorder(stream)\n",
              "  chunks = []\n",
              "  recorder.ondataavailable = e => chunks.push(e.data)\n",
              "  recorder.start()\n",
              "  await sleep(time)\n",
              "  recorder.onstop = async ()=>{\n",
              "    blob = new Blob(chunks)\n",
              "    text = await b2text(blob)\n",
              "    resolve(text)\n",
              "  }\n",
              "  recorder.stop()\n",
              "})"
            ]
          },
          "metadata": {}
        },
        {
          "output_type": "stream",
          "name": "stdout",
          "text": [
            "Recording ended.\n",
            "Predicted: up.\n"
          ]
        }
      ],
      "source": [
        "def record(seconds=3):\n",
        "\n",
        "    from google.colab import output as colab_output\n",
        "    from base64 import b64decode\n",
        "    from io import BytesIO\n",
        "    from pydub import AudioSegment\n",
        "\n",
        "    RECORD = (\n",
        "        b\"const sleep  = time => new Promise(resolve => setTimeout(resolve, time))\\n\"\n",
        "        b\"const b2text = blob => new Promise(resolve => {\\n\"\n",
        "        b\"  const reader = new FileReader()\\n\"\n",
        "        b\"  reader.onloadend = e => resolve(e.srcElement.result)\\n\"\n",
        "        b\"  reader.readAsDataURL(blob)\\n\"\n",
        "        b\"})\\n\"\n",
        "        b\"var record = time => new Promise(async resolve => {\\n\"\n",
        "        b\"  stream = await navigator.mediaDevices.getUserMedia({ audio: true })\\n\"\n",
        "        b\"  recorder = new MediaRecorder(stream)\\n\"\n",
        "        b\"  chunks = []\\n\"\n",
        "        b\"  recorder.ondataavailable = e => chunks.push(e.data)\\n\"\n",
        "        b\"  recorder.start()\\n\"\n",
        "        b\"  await sleep(time)\\n\"\n",
        "        b\"  recorder.onstop = async ()=>{\\n\"\n",
        "        b\"    blob = new Blob(chunks)\\n\"\n",
        "        b\"    text = await b2text(blob)\\n\"\n",
        "        b\"    resolve(text)\\n\"\n",
        "        b\"  }\\n\"\n",
        "        b\"  recorder.stop()\\n\"\n",
        "        b\"})\"\n",
        "    )\n",
        "    RECORD = RECORD.decode(\"ascii\")\n",
        "\n",
        "    print(f\"Recording started for {seconds} seconds.\")\n",
        "    display(ipd.Javascript(RECORD))\n",
        "    s = colab_output.eval_js(\"record(%d)\" % (seconds * 1000))\n",
        "    print(\"Recording ended.\")\n",
        "    b = b64decode(s.split(\",\")[1])\n",
        "\n",
        "    fileformat = \"wav\"\n",
        "    filename = f\"_audio.{fileformat}\"\n",
        "    AudioSegment.from_file(BytesIO(b)).export(filename, format=fileformat)\n",
        "    return torchaudio.load(filename)\n",
        "\n",
        "\n",
        "# Detect whether notebook runs in google colab\n",
        "if \"google.colab\" in sys.modules:\n",
        "    waveform, sample_rate = record()\n",
        "    print(f\"Predicted: {predict(waveform)}.\")\n",
        "    ipd.Audio(waveform.numpy(), rate=sample_rate)"
      ]
    },
    {
      "cell_type": "code",
      "execution_count": 14,
      "metadata": {
        "id": "hGd3jr6dfhcT",
        "colab": {
          "base_uri": "https://localhost:8080/",
          "height": 74
        },
        "outputId": "889a58bc-9e74-416a-e603-7c7909f009a0"
      },
      "outputs": [
        {
          "output_type": "execute_result",
          "data": {
            "text/plain": [
              "<IPython.lib.display.Audio object>"
            ],
            "text/html": [
              "\n",
              "                <audio  controls=\"controls\" >\n",
              "                    <source src=\"data:audio/wav;base64,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\" type=\"audio/wav\" />\n",
              "                    Your browser does not support the audio element.\n",
              "                </audio>\n",
              "              "
            ]
          },
          "metadata": {},
          "execution_count": 14
        }
      ],
      "source": [
        "new_sample_rate = 8000\n",
        "transform = torchaudio.transforms.Resample(orig_freq=sample_rate, new_freq=new_sample_rate)\n",
        "transformed = transform(waveform)\n",
        "\n",
        "ipd.Audio(transformed.numpy(), rate=new_sample_rate)"
      ]
    },
    {
      "cell_type": "markdown",
      "metadata": {
        "id": "yZS81OWCfhcV"
      },
      "source": [
        "## Conclusion\n",
        "\n",
        "In this tutorial, we used torchaudio to load a dataset and resample the\n",
        "signal. We have then defined a neural network that we trained to\n",
        "recognize a given command. There are also other data preprocessing\n",
        "methods, such as finding the mel frequency cepstral coefficients (MFCC),\n",
        "that can reduce the size of the dataset. This transform is also\n",
        "available in torchaudio as ``torchaudio.transforms.MFCC``.\n",
        "\n",
        "\n"
      ]
    }
  ],
  "metadata": {
    "kernelspec": {
      "display_name": "Python 3",
      "name": "python3"
    },
    "language_info": {
      "codemirror_mode": {
        "name": "ipython",
        "version": 3
      },
      "file_extension": ".py",
      "mimetype": "text/x-python",
      "name": "python",
      "nbconvert_exporter": "python",
      "pygments_lexer": "ipython3",
      "version": "3.10.9"
    },
    "colab": {
      "provenance": [],
      "machine_shape": "hm",
      "gpuType": "T4",
      "include_colab_link": true
    },
    "accelerator": "GPU"
  },
  "nbformat": 4,
  "nbformat_minor": 0
}
